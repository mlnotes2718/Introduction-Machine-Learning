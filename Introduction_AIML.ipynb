{
 "cells": [
  {
   "cell_type": "markdown",
   "id": "4c7ff2bb-ae6b-40f5-a7a8-7b80c0536e8a",
   "metadata": {},
   "source": [
    "# Brief Introduction to Artificial Intelligence and Machine Learning"
   ]
  },
  {
   "cell_type": "markdown",
   "id": "43595d6d-d98a-4753-8b42-42e4daf7f4ec",
   "metadata": {},
   "source": [
    "## Definitions"
   ]
  },
  {
   "cell_type": "markdown",
   "id": "18089143-22b2-4f71-815b-a700d5899210",
   "metadata": {},
   "source": [
    "**Artificial Intelligence is a technology that enables computer or machine to automate reasoning, decision making and problem solving while performing complex task that are normally done by human.**"
   ]
  },
  {
   "cell_type": "markdown",
   "id": "22c5b56a-1f35-4b09-8e3a-e9c491ba73fb",
   "metadata": {},
   "source": [
    "**Narrow A.I. enables computer system to perform a simple task with basic decision making without an explicit programming. These types of system only focus on automating a specific task. The application of such technology will be limited to the specific tasks.**"
   ]
  },
  {
   "cell_type": "markdown",
   "id": "0b896804-7cbb-4368-b551-5a09961d738d",
   "metadata": {},
   "source": [
    "**Artificial General Intelligence  (AGI) is a more general technology that enables the computer system to have intelligence that are same as human or even surpass human intelligence. AGI systems are able to perform all kinds of task that are common to humans.**"
   ]
  },
  {
   "cell_type": "markdown",
   "id": "83a53e73-2b76-43d5-b0c0-f32e779e412b",
   "metadata": {},
   "source": [
    "## Study of Artificial Intelligence"
   ]
  },
  {
   "cell_type": "markdown",
   "id": "6e9421c4-c5d4-4d19-b925-e93716b00737",
   "metadata": {},
   "source": [
    "The study of Artificial Intelligence can be categorized into the following sub-categories:\n",
    "\n",
    "1. AI Search - Searching for Known Solution\n",
    "2. Knowledge Representation and Logical Reasoning\n",
    "3. Probabilistic AI - Dealing with Uncertainties\n",
    "4. Reinforcement Learning (Deep Reinforcement Learning)\n",
    "5. Machine Learning\n",
    "7. Neural Network & Deep Learning"
   ]
  },
  {
   "cell_type": "markdown",
   "id": "8e88bfc4-9ff5-41c7-ace8-e65aeffed84f",
   "metadata": {},
   "source": [
    "Development of AI technologies started in the 1950s. The main research areas at the beginning focus on the first 4 categories. The theory of neural network was developed fairly early but its application was limited until recently. Since 2010s with the mature of the Internet and explosion of data, the development of AI technologies, particularly machine learning and deep learning, enjoy major breakthrough. The availability of big data allows the development of machine learning and deep learning to advance rapidly, these technologies is now the backbone on most of the modern AI system."
   ]
  },
  {
   "cell_type": "markdown",
   "id": "0eb7cc16-4ac0-4d66-8c0e-6d164ebffeec",
   "metadata": {},
   "source": [
    "Development of AI technologies adapted theories from many fields. With computing theory as the basis, graph theory and search technology was combined to form AI search. Logic and computing theory forms symbolic AI which focus on knowledge representation and logical reasoning. The mathematics of Markov decision process defined the reinforcement learning. Statistics and probability theory form the basis of probabilistic AI and machine learning. Neural network theory and neural science was combined with machine learning to form deep learning."
   ]
  },
  {
   "cell_type": "markdown",
   "id": "0b1f2853-b23e-4c74-ab15-8427a70257cb",
   "metadata": {},
   "source": [
    "Machine learning & deep learning are now commonly applied in our advance AI system. With machine learning/deep learning popularity, is there any application in the first 4 categories? Yes, in fact reinforcement theory was combined with deep learning to form a new field called deep reinforcement learning. Logic was applied to Natural Language Processing (a type of deep learning system) for better communication. Probabilistic AI was also applied in machine learning and deep learning to better deal with uncertainties.  "
   ]
  },
  {
   "cell_type": "markdown",
   "id": "111a38d9-0cd5-426d-80c5-c9a548fbee43",
   "metadata": {},
   "source": [
    "## Learning Artificial Intelligence"
   ]
  },
  {
   "cell_type": "markdown",
   "id": "0dbda3bd-676f-4471-b3a3-1b390ae683d6",
   "metadata": {},
   "source": [
    "Our approaches to learning about AI will be slightly different. First we will learn machine learning with its root on Statistics. Next we expand from machine learning to neural network and thus enter the field of deep learning.\n",
    "\n",
    "After that, we start to explore the classical artificial intelligence theory. These theories may not be commonly applied in current AI system but it can be a useful tool to complement machine learning and deep learning system. "
   ]
  },
  {
   "cell_type": "markdown",
   "id": "3dbe9338-4b97-45e0-96b2-daa396566fef",
   "metadata": {},
   "source": [
    "The order are as follows:\n",
    "\n",
    "**Modern AI System**\n",
    "1. **Machine Learning**\n",
    "2. **Neural Network & Deep Learning**\n",
    "\n",
    "**Classical AI Theory**\n",
    "1. **AI Search - Searching for Known Solution**\n",
    "2. **Knowledge Representation and Logical Reasoning**\n",
    "3. **Probabilistic AI - Dealing with Uncertainties**\n",
    "4. **Reinforcement Learning**"
   ]
  },
  {
   "cell_type": "markdown",
   "id": "8faf3f1d-66bb-4cf7-bc0c-816f8ea0937e",
   "metadata": {},
   "source": [
    "After the fundamentals, then we can explored any advance topics in any order:\n",
    "\n",
    "- **Advance Deep Learning (Collection of various common deep learning technologies)**\n",
    "- **Computer Vision**  \n",
    "- **Natural Language Processing**\n",
    "- **Generative AI**\n",
    "- **Deep Reinforcement Learning** "
   ]
  },
  {
   "cell_type": "markdown",
   "id": "fab75894-ee7a-4bcf-913c-e66b966490b0",
   "metadata": {},
   "source": [
    "## Reference"
   ]
  },
  {
   "cell_type": "markdown",
   "id": "16b902ec-c0a0-4e91-884f-5a4ee21e80ff",
   "metadata": {},
   "source": [
    "https://www.coursera.org/articles/what-is-artificial-intelligence"
   ]
  },
  {
   "cell_type": "markdown",
   "id": "bc742e0d-1559-496d-ad0a-f87fc78278de",
   "metadata": {},
   "source": [
    "https://www.ibm.com/topics/artificial-intelligence"
   ]
  },
  {
   "cell_type": "markdown",
   "id": "5012392e-53b9-491f-8293-de5778771fd9",
   "metadata": {},
   "source": [
    "https://aima.cs.berkeley.edu/"
   ]
  },
  {
   "cell_type": "code",
   "execution_count": null,
   "id": "e51e2c92-ae09-43d2-bd6a-6e4cfd654910",
   "metadata": {},
   "outputs": [],
   "source": []
  }
 ],
 "metadata": {
  "kernelspec": {
   "display_name": "Python 3 (ipykernel)",
   "language": "python",
   "name": "python3"
  },
  "language_info": {
   "codemirror_mode": {
    "name": "ipython",
    "version": 3
   },
   "file_extension": ".py",
   "mimetype": "text/x-python",
   "name": "python",
   "nbconvert_exporter": "python",
   "pygments_lexer": "ipython3",
   "version": "3.11.8"
  }
 },
 "nbformat": 4,
 "nbformat_minor": 5
}
