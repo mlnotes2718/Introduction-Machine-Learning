{
 "cells": [
  {
   "cell_type": "markdown",
   "id": "7734d10a",
   "metadata": {},
   "source": [
    "# Machine Learning Master Notes 0 - Learning Machine Learning"
   ]
  },
  {
   "cell_type": "markdown",
   "id": "b39436df-458e-4168-92c9-1e89eeb8e6e6",
   "metadata": {
    "jp-MarkdownHeadingCollapsed": true
   },
   "source": [
    "## Learning Artificial Intelligence"
   ]
  },
  {
   "cell_type": "markdown",
   "id": "0daa4fbf-2825-4a93-a999-1f4d8ec96e21",
   "metadata": {},
   "source": [
    "The following is our approaches to learning artificial intelligence:\n",
    "\n",
    "1. Machine Learning\n",
    "2. Neural Network & Deep Learning\n",
    "3. AI Search - Searching for Known Solution\n",
    "4. Knowledge Representation and Logical Reasoning\n",
    "5. Probabilistic AI - Dealing with Uncertainties\n",
    "6. Reinforcement Learning"
   ]
  },
  {
   "cell_type": "markdown",
   "id": "2edde02d-35b5-4740-ad9c-2824d42db2b4",
   "metadata": {
    "jp-MarkdownHeadingCollapsed": true
   },
   "source": [
    "## Approaches to Learn Machine Learning"
   ]
  },
  {
   "cell_type": "markdown",
   "id": "1af38c27-e69b-42df-8856-547bedb07bed",
   "metadata": {},
   "source": [
    "We will be using 2 approaches to learning machine learning. They are the Implementation Approaches and Theoretical Approaches. Our tutorial will be divided into 2 main classes. They are Introduction to Machine Learning and Intermediate Machine Learning.\n",
    "\n",
    "1. **Introduction to Machine Learning (Practical Implementation Approaches) :** This section will start with basics of machine learning. Then we will learn the full machine learning implementation process. After that we will be learning different types of machine learning models. The focus will be on learning the formula of the various model and learn to write own Python code to implement it and then compare it to the open and/or commercial packages. The objective will be understanding the inner workings of machine learning algorithm.\n",
    "\n",
    "    - **Objectives: Understanding the workings of machine learning algorithm**.\n",
    "    - **Approaches: Learned the formula of the ML model and implementing them by writing own Python code. Compare results will current open sources packages such as Scikit Learn, TensorFlow or PyTorch.**\n",
    "\n",
    "\n",
    "2. **Intermediate Machine Learning (Theoretical Approaches) :** This will be repeating the learning of machine learning model with the emphasis of derivation of the formula. Also includes the detail and nuances of implementing machine learning gather from the experience of implementation.\n",
    "\n",
    "    - **Objectives: Understanding the derivation machine learning algorithm**.\n",
    "    - **Approaches: Learn the theoretical principal and the derivation of the ML algorithms.**"
   ]
  },
  {
   "cell_type": "markdown",
   "id": "396d99d3-1414-4401-8e2a-3cafad659aa7",
   "metadata": {
    "jp-MarkdownHeadingCollapsed": true
   },
   "source": [
    "### Sep 2024 Update: A Third Approach to Learning Machine Learning"
   ]
  },
  {
   "cell_type": "markdown",
   "id": "7031c719-6449-4db7-ba6a-f7a924745975",
   "metadata": {},
   "source": [
    "As machine learning getting popular, there are many easy to use commercial or open source software available. In Python, there are also ready to use packages available such as SciKit learn, TensorFlow and Pytorch etc.\n",
    "\n",
    "This third approach will focus on using these tools individually and also in a workflow. The objective will be focus on getting results using ML tools and getting the experience in solving ML problem using different type of dataset.\n",
    "\n",
    "The approaches will be learning how to use these library packages and software and incorporated them in the ML workflow.\n",
    "\n",
    "**Library Packages:**\n",
    "- SciKit Learn\n",
    "- TensorFlow\n",
    "- Pytorch\n",
    "\n",
    "**Software Packages**\n",
    "- Rapidminer\n",
    "- KNIME\n",
    "- Orange\n",
    "- Alteryx\n",
    "\n",
    "**Cloud Based Solution**\n",
    "- Microsoft Azure Machine Learning\n",
    "- Amazon SageMaker\n",
    "- Google Vertex AI\n",
    "- BigML\n",
    "\n",
    "\n",
    "**Objectives:**\n",
    "- Familiar with the use of ML tools.\n",
    "- Focus on solving machine learning problem in different domain.\n",
    "  \n",
    "**Approaches**\n",
    "- Learn various ML implementation tools.\n",
    "- Focus on solving ML problem in different domain and explore the characteristics and problems encountered in specific domain. "
   ]
  },
  {
   "cell_type": "markdown",
   "id": "2ea0445a-17e7-4e36-9e6d-6ef1f783abde",
   "metadata": {
    "jp-MarkdownHeadingCollapsed": true
   },
   "source": [
    "## Introduction to Machine Learning (Practical Implementation Approaches)"
   ]
  },
  {
   "cell_type": "markdown",
   "id": "fe67d003-5298-49a0-832e-5c23d163604c",
   "metadata": {
    "jp-MarkdownHeadingCollapsed": true
   },
   "source": [
    "### Basics of Machine Learning"
   ]
  },
  {
   "cell_type": "markdown",
   "id": "06e150be-b31d-47ff-b14b-bfbb28ae2acb",
   "metadata": {},
   "source": [
    "We will be introducing machine learning in the following order:\n",
    "\n",
    "1. **Introduction to Machine Learning**\n",
    "2. **Supervised Learning**\n",
    "    - **Linear Regression**\n",
    "        - Overview of Linear Regression (One Feature)\n",
    "        - Simple Linear Regression (One Feature, No Intercept)\n",
    "        - Simple Linear Regression and Cost Function\n",
    "        - Simple Linear Regression (One Feature with Intercept)\n",
    "        - Gradient Descent on Linear Regression\n",
    "        - Multiple Linear Regression and Vectorization\n",
    "        - Regression Feature Scaling and Learning Rate\n",
    "        - Feature Engineering\n",
    "    - **Polynomial Regression**\n",
    "    - **Regularization in Polynomial Regression**\n",
    "    - **Logistics Regression**\n",
    "        - Binary Classification\n",
    "        - Regularization of Logistic Regression\n",
    "        - Multi-Class Classification\n",
    "    - **Other Gradient Descent Related Models**\n",
    "        - Batch Gradient Descent\n",
    "        - Mini Batch Gradient Descent\n",
    "        - Stochastic Gradient Descent\n",
    "3. **Implementing ML Projects**\n",
    "    - Evaluating Machine Learning Model and Performance Measurement in Regression Model\n",
    "    - Evaluating Machine Learning Model and Performance Measurement in Classification Model\n",
    "    - Best Practice in Implementing ML Projects\n",
    "    - Troubleshooting Machine Learning Problems\n",
    "    - Process of Machine Learning Implementation\n",
    "4. **Implementing ML Projects with Scikit Learn**\n",
    "    - Review of Machine Learning Implementation Using SciKit Learn\n",
    "    - Pipeline flow for Machine Learning Projects"
   ]
  },
  {
   "cell_type": "markdown",
   "id": "ebe211db-3518-40ff-b167-07c389c20bf4",
   "metadata": {
    "jp-MarkdownHeadingCollapsed": true
   },
   "source": [
    "### Advance Machine Learning Algorithm"
   ]
  },
  {
   "cell_type": "markdown",
   "id": "c036bd5c-6621-4864-884f-762645be7cfb",
   "metadata": {},
   "source": [
    "- **Basics of Neural Network & Deep Learning**\n",
    "- **Decision Tree**\n",
    "- **Support Vector Machine**\n",
    "- **Unsupervised Learning**\n",
    "    - **K Means Clustering**\n",
    "    - **Principle Component Analysis (Dimensional Reduction)**\n",
    "    - **Anomaly Detection**\n",
    "- **Recommendation System**\n",
    " "
   ]
  },
  {
   "cell_type": "markdown",
   "id": "77ec4af2-e919-4313-a328-17c5768c2551",
   "metadata": {
    "jp-MarkdownHeadingCollapsed": true
   },
   "source": [
    "## Intermediate Machine Learning (Theoretical Approaches)"
   ]
  },
  {
   "cell_type": "markdown",
   "id": "ba881704-30ac-4d45-933e-16b42ad8e59f",
   "metadata": {
    "jp-MarkdownHeadingCollapsed": true
   },
   "source": [
    "### Machine Learning Model"
   ]
  },
  {
   "cell_type": "markdown",
   "id": "231843ff-b997-4885-a7d9-53d3d92ef03a",
   "metadata": {},
   "source": [
    "- Linear and Polynomial Regression\n",
    "- Logistic Regression\n",
    "- Neural Network and Deep Learning\n",
    "- Decision Tree"
   ]
  },
  {
   "cell_type": "markdown",
   "id": "d251e1c7-2de7-4c05-9d03-a74ecf79533a",
   "metadata": {
    "jp-MarkdownHeadingCollapsed": true
   },
   "source": [
    "### Advance Implementation of Machine Learning (TBC)"
   ]
  },
  {
   "cell_type": "markdown",
   "id": "cea7508d-bcaa-4ccf-9505-2c9c71c6d03c",
   "metadata": {},
   "source": [
    "- TBC"
   ]
  },
  {
   "cell_type": "markdown",
   "id": "183deefc-c203-45b0-94f2-b0c1bb24be5c",
   "metadata": {
    "jp-MarkdownHeadingCollapsed": true
   },
   "source": [
    "## Requirement for Learning Machine Learning"
   ]
  },
  {
   "cell_type": "markdown",
   "id": "6187d4ea-339e-4f09-9e16-4cf58e403d58",
   "metadata": {},
   "source": [
    "This tutorial start machine learning in its most basic form, that is regression analysis. Thus a basic knowledge of Statistics would be an advantage. If you do not have such knowledge, a basic understanding of linear equation will be enough. "
   ]
  },
  {
   "cell_type": "markdown",
   "id": "fe7739e8-872f-4829-8ed3-270a21fa6752",
   "metadata": {},
   "source": [
    "In computing, we will be using Python programming. A basic understanding of programming or Python programming would be good.\n",
    "\n",
    "There are a lot of free source on the Internet on Python programming. We specially recommend Python for Everyone from Dr Chuck\n",
    "- https://online.dr-chuck.com/\n",
    "- https://www.py4e.com/"
   ]
  },
  {
   "cell_type": "markdown",
   "id": "ee95dff4",
   "metadata": {},
   "source": [
    "## End of Note 0"
   ]
  },
  {
   "cell_type": "code",
   "execution_count": null,
   "id": "dfae56b9-80eb-4639-adc2-82b574d9cd58",
   "metadata": {},
   "outputs": [],
   "source": []
  }
 ],
 "metadata": {
  "kernelspec": {
   "display_name": "Python 3 (ipykernel)",
   "language": "python",
   "name": "python3"
  },
  "language_info": {
   "codemirror_mode": {
    "name": "ipython",
    "version": 3
   },
   "file_extension": ".py",
   "mimetype": "text/x-python",
   "name": "python",
   "nbconvert_exporter": "python",
   "pygments_lexer": "ipython3",
   "version": "3.10.13"
  }
 },
 "nbformat": 4,
 "nbformat_minor": 5
}
