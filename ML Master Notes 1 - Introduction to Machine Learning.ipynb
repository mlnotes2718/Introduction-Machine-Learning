{
 "cells": [
  {
   "cell_type": "markdown",
   "id": "7734d10a",
   "metadata": {
    "editable": true,
    "slideshow": {
     "slide_type": ""
    },
    "tags": []
   },
   "source": [
    "# Machine Learning Master Notes 1 - Introduction to Machine Learning"
   ]
  },
  {
   "cell_type": "markdown",
   "id": "93dae1d8",
   "metadata": {
    "jp-MarkdownHeadingCollapsed": true
   },
   "source": [
    "## What is Machine Learning?"
   ]
  },
  {
   "cell_type": "markdown",
   "id": "82fe59fa-87f1-433e-8ec8-244a4bc1adce",
   "metadata": {},
   "source": [
    ">Arthur Sameul - `\"Machine Learning (ML) is the field of study that gives computers the ability to learn without explicitly being programmed.\"`"
   ]
  },
  {
   "cell_type": "markdown",
   "id": "a3682690",
   "metadata": {
    "editable": true,
    "slideshow": {
     "slide_type": ""
    },
    "tags": []
   },
   "source": [
    "1. A machine learning (ML) algorithm is a computer program that is able to make a prediction based on the input data without being explicitly programmed on how to arrive at the prediction.\n",
    "2. Machine learning programs are trained to make predictions based on historical examples/data. \n",
    "3. Prediction results will be used as the performance metric against the machine learning model. We use such metrics to determine the performance of the machine learning models. \n",
    "4. The machine learning algorithm will then improve its performance with additional historical examples while fine tuning its parameters.\n"
   ]
  },
  {
   "cell_type": "markdown",
   "id": "bb72c67f-e997-4c8e-9fd5-e2ede56cd593",
   "metadata": {
    "jp-MarkdownHeadingCollapsed": true
   },
   "source": [
    "### Function of Machine Learning\n",
    "\n",
    "1. Machine Learning is able to use data to explain what happened.\n",
    "2. Machine Learning is able to use data to predict what will happen.\n",
    "3. Machine Learning is able to make relevant suggestions based on historical data."
   ]
  },
  {
   "cell_type": "markdown",
   "id": "ff499018",
   "metadata": {
    "jp-MarkdownHeadingCollapsed": true
   },
   "source": [
    "### Machine Learning Types\n",
    "\n",
    "There are 2 main types of machine learning. They are **Supervised Learning** and **Unsupervised Learning**.\n",
    "\n",
    "1. In **Supervised Learning**, we provide the machine learning model a predetermined set of input with the expected outcome. The learning model will need to determine the machine learning parameters by learning the historical data and use such parameters as the basis for the prediction. Examples of supervised learning are:\n",
    "    - Predicting housing price based on historical housing size and prices;\n",
    "    - Predicting the sales of product based on historical data;\n",
    "    - Prediction of an email if it is a spam email based on the words in the email and historical data.\n",
    "\n",
    "\n",
    "2. For **Unsupervised Learning**, we feed the machine learning model with raw input data and let the machine learning model discover the structure or pattern of the data by itself. Examples are:\n",
    "    - Classifying relating news into a group.\n",
    "    - Classifying similar data into the same group.\n",
    "    - Detection data that are different from the normal.\n"
   ]
  },
  {
   "cell_type": "markdown",
   "id": "44ee9a37",
   "metadata": {
    "jp-MarkdownHeadingCollapsed": true
   },
   "source": [
    "### Supervised Learning\n",
    "\n",
    "1. In **Supervised Learning**, we provide input data (x) together with the expected answer or outcome (y) in order for the machine learning model to learn. The learning model will learn the input data and determine the machine learning parameters by examining the input data with the expected answers. The learning model will develop its own parameters while learning from the data. After some iterations, the machine learning model is able to predict any new inputs without an expected answer using the learned parameters. The basis of prediction is based on previous historical data.\n",
    "2. Common applications for supervised learning are:\n",
    "    - predicting prices (such as housing prices, stock prices etc) based on historical trends,\n",
    "    - predicting temperatures,\n",
    "    - prediction production volume,\n",
    "    - classifying email as spam or not spam,\n",
    "    - determining if a tumor is benign or malignant,\n",
    "    - translating a group of text into another language, or\n",
    "    - converting an audio input to text output.\n",
    "3. **Supervised Learning** can be further classified into **Regression or Classification** problems.\n",
    "    - **Regression** problems are problems that require the machine learning (ML) model to make predictions from infinitely many possible answers. Examples for regression problems are predicting housing prices, stock price, temperature, water level, sales volume or production volume etc.\n",
    "    - Supervised learning can also be used for **Classification** problems where the task of the ML model is to classify a problem/object into 2 or more classes/categories. For example, we can classify a tumor as malignant or benign; or we can classify an email as spam or not spam.\n",
    "    - Besides classifying data into Yes/No, True/False; we can classify/categorize data into multiple classes/categories. For example, we can classify books into different genres such as Mystery,  SciFi, Thrillers, Self-Help, Business …etc. This is considered as **Multi-Class Classification**.\n",
    "    - A common example of classification problem is to determine if a tumor is benign or malignant based on its size and shape. In this application, we provided the ML model a set of historical data with tumor size, tumor shape and the expected answer. The ML model will examine the input data with the expected answer and fine tune its learning parameters. Once the training is done, the ML model will be able to predict a new tumor as benign or malignant without the expected outcome.\n",
    "4. There are many types machine learning algorithms. The most basic ML algorithm is Linear Regression. However, we do not apply linear regression very often since most prediction we want to predict are not in a linear form. Most commonly, we use **Polynomial Regression** algorithms. We use **Logistic Regression** for classification problems. In addition, we also use other ML models such as **Neural Networks** and **Decision Trees** for supervised learning.\n",
    "5. Most applications of machine learning are supervised learning.\n"
   ]
  },
  {
   "cell_type": "markdown",
   "id": "90b264e2",
   "metadata": {
    "jp-MarkdownHeadingCollapsed": true
   },
   "source": [
    "### Unsupervised Learning\n",
    "1. For **Unsupervised Learning**, we feed the computer program with raw data without expected or predetermined result. The ML model is supposed to examine the raw data and define its structure by detecting similar features or characteristics. \n",
    "2. The most common application of unsupervised learning is **Clustering**. Other common applications of unsupervised learning are **Anomaly Detection** and **Dimensionality Reduction**. \n",
    "3. An example of clustering is where Google News grouped various related news together. This ML model has to find similarity with input features given without referencing any labels or output.\n",
    "4. We use anomaly detection to detect any data/activities that are not normal. Dimensionality reduction is used to compress data using fewer numbers.\n",
    "5. For unsupervised learning, we use **K-Means Clustering** and **PCA (Principal Component Analysis)**. We also use **Gaussian Abnormally Detection Algorithm** to monitor and detect abnormality.\n"
   ]
  },
  {
   "cell_type": "markdown",
   "id": "d1dfe1e3-c4d5-40c2-b2a6-03cc44147380",
   "metadata": {
    "jp-MarkdownHeadingCollapsed": true
   },
   "source": [
    "## Machine Learning Component "
   ]
  },
  {
   "cell_type": "markdown",
   "id": "270d027c-a4bc-444f-92ad-719442d85b7d",
   "metadata": {},
   "source": [
    "There are 3 main components in a machine learning process. They are data, machine learning models and the result. See diagram below."
   ]
  },
  {
   "attachments": {
    "7cc11919-335d-405e-84c2-bf2b1273d4c5.jpg": {
     "image/jpeg": "[encoded data removed]"
    }
   },
   "cell_type": "markdown",
   "id": "4b4d2ebd-7f7a-433c-b3a5-b8eb5f23e1b6",
   "metadata": {},
   "source": [
    "![MLd1a.jpg](attachment:7cc11919-335d-405e-84c2-bf2b1273d4c5.jpg)"
   ]
  },
  {
   "cell_type": "markdown",
   "id": "2cc32cdd-04b3-4dbf-aa4d-4ea75c7c1384",
   "metadata": {
    "jp-MarkdownHeadingCollapsed": true
   },
   "source": [
    "### Data\n",
    "- Data is the most important component, without data there will be no machine learning.\n",
    "- For supervised learning, data consist of independent features and expected outcome. We need a minimum of one feature. In practice, we include many features to improve the model's accuracy.\n",
    "- In unsupervised learning, data consists of only independent features.\n",
    "- In the example of predicting housing prices, we predict housing prices based on size, number of rooms and location. Size, number of rooms and location are features.\n",
    "- The historical transacted housing price is the expected outcome. "
   ]
  },
  {
   "cell_type": "markdown",
   "id": "fae43058-a14a-4547-9e65-088654ae4728",
   "metadata": {},
   "source": [
    "### ML Model\n",
    "- The machine learning model includes the methods and algorithms that will generate the prediction of the result.\n",
    "- The method and algorithm usually involved some mathematical/statistical computation.\n",
    "- The learning parameters are the component in the formula that is used to make new predictions.\n",
    "- Additionally, we may add some control elements to control the speed and accuracy of the algorithm."
   ]
  },
  {
   "cell_type": "markdown",
   "id": "1d09ff72-13e3-43b1-b021-7e1d37cfc556",
   "metadata": {
    "jp-MarkdownHeadingCollapsed": true
   },
   "source": [
    "### Result\n",
    "- In machine learning, the results are the analysis, prediction, classification and suggestion derived from the model."
   ]
  },
  {
   "cell_type": "markdown",
   "id": "27792a04-8f47-4b57-8700-1b6e1fd552a4",
   "metadata": {
    "jp-MarkdownHeadingCollapsed": true
   },
   "source": [
    "## Machine Learning Process in Supervised Learning "
   ]
  },
  {
   "cell_type": "markdown",
   "id": "0ca90905-a8c1-41c2-9027-5a50a14b56bd",
   "metadata": {},
   "source": [
    "In supervised learning, the process also includes additional steps where the results were evaluated and adjustment or optimization was done to fine tune the learning parameters that generated the result."
   ]
  },
  {
   "attachments": {
    "5999f069-8d1d-448a-8b3c-45bb859b4a0b.jpg": {
     "image/jpeg": "[encoded data removed]"
    }
   },
   "cell_type": "markdown",
   "id": "7362f256-aa69-4c52-92ac-4a8de58278d4",
   "metadata": {},
   "source": [
    "![MLd1b.jpg](attachment:5999f069-8d1d-448a-8b3c-45bb859b4a0b.jpg)"
   ]
  },
  {
   "cell_type": "markdown",
   "id": "28bda68e-7d57-498d-b2e1-e2211216f418",
   "metadata": {},
   "source": [
    "### How Supervised Learning is Performed\n",
    "1. Using an example of predicting housing prices, first we use a predetermined dataset with features such as the size of the house, location, number of rooms, age of the house together with the transacted price (expected outcome).\n",
    "2. Then we separate the dataset into training and test dataset.\n",
    "3. After that, we choose and adopt a learning model before we start training the learning algorithm with our data. We can use a regression model or neural network for this problem.\n",
    "4. In this example, the ML model algorithm will examine each house input data/features together with the transacted sale price. It will formulate a set of learning parameters.\n",
    "5. When training is done with the input features, the ML model will use the learned parameters to predict new housing prices with input features only.\n",
    "6. We will check the model accuracy by predicting the outcome of the test data. The differences between the prediction and actual outcome will be used as the basis of the performance of the ML model.\n",
    "7. We can choose to improve the learning parameters by adding more historical data with expected outcome.\n",
    "8. If the performance is not satisfactory, we can adjust the input data by including more features.\n",
    "9. We can also modify the machine learning model settings such as learning rate etc.\n",
    "10. Increasing the number of iterations is also part of the optimization.\n",
    "11. More historical data might also impact the performance of the process. The training cycle will be repeated by adjusting all the necessary parameters until the performance of the model is satisfactory.\n",
    "12. If we still could not arrive at a satisfactory result, then we need to consider a different ML model in step 3.\n"
   ]
  },
  {
   "cell_type": "markdown",
   "id": "53d0ee2f-182c-4f43-a337-baf2afb58ca2",
   "metadata": {
    "jp-MarkdownHeadingCollapsed": true
   },
   "source": [
    "## Machine Learning Advancement"
   ]
  },
  {
   "cell_type": "markdown",
   "id": "1d511d7b-b8d3-4832-9330-12365d3579ba",
   "metadata": {},
   "source": [
    "**If we can perform machine learning using statistical computation, why did machine learning only start to be more effective in the last decade?**\n",
    "\n",
    "We can answer the question above by briefly describing the historical progress of machine learning. Machine learning started as early as the 1950s and 1960s. In the beginning, most machine learning predictions are based on statistical algorithms such as regression, nearest neighbor, support vector machine etc. These statistical algorithms are sometimes called classical machine learning. \n",
    "\n",
    "However, due to lack of computational power, we cannot do very complex computation cheaply. Acquisition of data was also costly. For a regression problem, the lack of computational power and data causes the progress to be slow. Only organizations with large mainframe computers can perform large scale regression computation.\n",
    "\n",
    "With the development of microcomputers and integrated circuits, computing power has become more commonly available. This trend improves computational power, and we are able to handle more demanding computation. Classical machine learning algorithms are embedded in enterprise statistical software.\n",
    "\n",
    "However, there is one key element missing. Acquisition of data is still expensive. Development of neural networks also matures with development of back propagation. However, the neural network did not take off due to lack of massive amounts of data.\n",
    "The beginning of Web 2.0 and accessibility of the internet starts around 2004 and the Internet becomes a business transactional platform. This transition generates a large amount of data. The quantity of data has become so big that there is a separate term called big data. \n",
    "\n",
    "Big data helps to improve machine learning performance, neural networks also start producing promising results around the 2010s.\n",
    "Thus Neural Networks are also considered differently with classical machine learning.\n"
   ]
  },
  {
   "cell_type": "markdown",
   "id": "cc063d55-f8b3-4c16-9e47-6e04fb6edfed",
   "metadata": {
    "jp-MarkdownHeadingCollapsed": true
   },
   "source": [
    "## Reference"
   ]
  },
  {
   "cell_type": "markdown",
   "id": "ff20ef76-1b81-4be2-8772-97c5270ce84c",
   "metadata": {},
   "source": [
    "https://mitsloan.mit.edu/ideas-made-to-matter/machine-learning-explained#:~:text=It%20was%20defined%20in%20the,learn%20without%20explicitly%20being%20programmed.%E2%80%9D"
   ]
  },
  {
   "cell_type": "markdown",
   "id": "2e4a7e32-86d9-4cb0-8425-57c105004cd1",
   "metadata": {},
   "source": [
    "https://www.coursera.org/specializations/machine-learning-introduction"
   ]
  },
  {
   "cell_type": "markdown",
   "id": "7eb29a8d-3686-4d81-946b-c4316d11574a",
   "metadata": {},
   "source": [
    "## End of Note 1"
   ]
  },
  {
   "cell_type": "code",
   "execution_count": null,
   "id": "b5be0f9c-c4c7-4f1e-a96b-9a139956b3e2",
   "metadata": {},
   "outputs": [],
   "source": []
  }
 ],
 "metadata": {
  "kernelspec": {
   "display_name": "Python 3 (ipykernel)",
   "language": "python",
   "name": "python3"
  },
  "language_info": {
   "codemirror_mode": {
    "name": "ipython",
    "version": 3
   },
   "file_extension": ".py",
   "mimetype": "text/x-python",
   "name": "python",
   "nbconvert_exporter": "python",
   "pygments_lexer": "ipython3",
   "version": "3.10.13"
  }
 },
 "nbformat": 4,
 "nbformat_minor": 5
}
