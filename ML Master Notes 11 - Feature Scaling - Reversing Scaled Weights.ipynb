{
 "cells": [
  {
   "cell_type": "markdown",
   "id": "7734d10a",
   "metadata": {},
   "source": [
    "# Machine Learning Master Notes 10 - Feature Scaling (Reversing Scaled Weights)"
   ]
  },
  {
   "cell_type": "markdown",
   "id": "d8c182ce",
   "metadata": {},
   "source": [
    "### Prepare Environment"
   ]
  },
  {
   "cell_type": "code",
   "execution_count": 1,
   "id": "1cec6739",
   "metadata": {},
   "outputs": [],
   "source": [
    "%matplotlib inline\n",
    "import math\n",
    "import random\n",
    "import numpy as np\n",
    "import pandas as pd\n",
    "import matplotlib.pyplot as plt\n",
    "from matplotlib.gridspec import GridSpec\n",
    "from matplotlib import cm\n",
    "\n",
    "# SciKit Learn Regression Model\n",
    "from sklearn import linear_model\n",
    "from sklearn.linear_model import LinearRegression\n",
    "\n",
    "# SciKit Learn Pre-processing and Feature Scaling\n",
    "from sklearn import preprocessing\n",
    "from sklearn.preprocessing import StandardScaler\n",
    "from sklearn.preprocessing import MinMaxScaler\n",
    "from sklearn.preprocessing import Normalizer\n",
    "\n",
    "# The following file contain the finalized gradient descent, cost function program \n",
    "import MyRegressionProgramV1 as my"
   ]
  },
  {
   "cell_type": "markdown",
   "id": "936b3077",
   "metadata": {},
   "source": [
    "## Multiple Linear Regression: Cost Function and Gradient Descent"
   ]
  },
  {
   "cell_type": "markdown",
   "id": "a32bdbc0",
   "metadata": {},
   "source": [
    "Hypothesis: $$f_{\\vec{w},b}(\\vec{X}^{(i)})=b + \\sum\\limits_{j=0}^{n-1} \\vec{w}_{j}\\vec{X}_{j}^{(i)}$$\n",
    "\n",
    "\n",
    "Cost Function:\t$$J(\\vec w, b) = \\frac{1}{2m}   \\sum\\limits_{i=0}^{m-1} (f_{\\vec w,b}(\\vec{X}^{(i)})-\\vec y^{(i)})^{2}$$ \n",
    "$$J(\\vec w, b) = \\frac{1}{2m} \\sum\\limits_{i=0}^{m-1} \\left(\\left(b + \\sum\\limits_{j=0}^{n-1} \\vec w_{j} \\vec X_{j}^{(i)} \\right)-\\vec y^{(i)}\\right)^{2}$$\n",
    "$$J(\\vec w, b) = \\frac{1}{2m} \\sum\\limits_{i=0}^{m-1} \\left(\\left(b + \\vec X^{(i)} \\cdot \\vec w \\right)-\\vec y^{(i)}\\right)^{2}$$\n",
    "$$$$\n",
    "Gradient Descent Algorithm: $$\\begin{align*} \\text{repeat}&\\text{ until convergence:} \\; \\lbrace \\newline\n",
    "\\;  \\vec w &= \\vec w -  \\alpha \\frac{\\partial J(\\vec{w},b)}{\\partial \\vec{w}}  \\; \\newline \n",
    " b &= b -  \\alpha \\frac{\\partial J(\\vec{w},b)}{\\partial b}  \\newline \\rbrace\n",
    "\\end{align*}$$\n",
    "\n",
    "\n",
    "Partial Derivatives: $$\n",
    "\\begin{align}\n",
    "\\frac{\\partial J(\\vec{w},b)}{\\partial \\vec{w}}  &= \\frac{1}{m} \\sum\\limits_{i = 0}^{m-1} (f_{\\vec{w},b}(\\vec{X}^{(i)}) - y^{(i)})\\vec{X}^{(i)} \\\\\n",
    "  \\frac{\\partial J(\\vec{w},b)}{\\partial b}  &= \\frac{1}{m} \\sum\\limits_{i = 0}^{m-1} (f_{\\vec{w},b}(\\vec{X}^{(i)}) - y^{(i)}) \\\\\n",
    "\\end{align}\n",
    "$$\n",
    "\n",
    "Full Implementation of Gradient Descent:\n",
    "$$\\begin{align*} \\text{repeat}&\\text{ until convergence:} \\; \\lbrace \\newline\n",
    "\\;  \\vec{w} &= \\vec{w} -  \\alpha \\frac{1}{m} \\sum\\limits_{i = 0}^{m-1} ((\\vec{X}^{(i)}\\cdot \\vec{w} + b) - y^{(i)})\\vec{X}^{(i)}  \\; \\newline \n",
    " b &= b -  \\alpha \\frac{1}{m} \\sum\\limits_{i = 0}^{m-1} ((\\vec{X}^{(i)}\\cdot \\vec{w} + b) - y^{(i)})  \\newline \\rbrace\n",
    "\\end{align*}$$"
   ]
  },
  {
   "cell_type": "markdown",
   "id": "b13f6fc3-4d1c-4703-ab25-1d15ddb450dd",
   "metadata": {},
   "source": [
    "### Prepare Data"
   ]
  },
  {
   "cell_type": "code",
   "execution_count": 2,
   "id": "c3f156e2-673e-4225-96bc-5fefcf3aca3c",
   "metadata": {},
   "outputs": [
    {
     "data": {
      "text/html": [
       "<div>\n",
       "<style scoped>\n",
       "    .dataframe tbody tr th:only-of-type {\n",
       "        vertical-align: middle;\n",
       "    }\n",
       "\n",
       "    .dataframe tbody tr th {\n",
       "        vertical-align: top;\n",
       "    }\n",
       "\n",
       "    .dataframe thead th {\n",
       "        text-align: right;\n",
       "    }\n",
       "</style>\n",
       "<table border=\"1\" class=\"dataframe\">\n",
       "  <thead>\n",
       "    <tr style=\"text-align: right;\">\n",
       "      <th></th>\n",
       "      <th>sqft</th>\n",
       "      <th>price</th>\n",
       "    </tr>\n",
       "  </thead>\n",
       "  <tbody>\n",
       "    <tr>\n",
       "      <th>0</th>\n",
       "      <td>2104</td>\n",
       "      <td>399900</td>\n",
       "    </tr>\n",
       "    <tr>\n",
       "      <th>1</th>\n",
       "      <td>1600</td>\n",
       "      <td>329900</td>\n",
       "    </tr>\n",
       "    <tr>\n",
       "      <th>2</th>\n",
       "      <td>2400</td>\n",
       "      <td>369000</td>\n",
       "    </tr>\n",
       "    <tr>\n",
       "      <th>3</th>\n",
       "      <td>1416</td>\n",
       "      <td>232000</td>\n",
       "    </tr>\n",
       "    <tr>\n",
       "      <th>4</th>\n",
       "      <td>3000</td>\n",
       "      <td>539900</td>\n",
       "    </tr>\n",
       "  </tbody>\n",
       "</table>\n",
       "</div>"
      ],
      "text/plain": [
       "   sqft   price\n",
       "0  2104  399900\n",
       "1  1600  329900\n",
       "2  2400  369000\n",
       "3  1416  232000\n",
       "4  3000  539900"
      ]
     },
     "execution_count": 2,
     "metadata": {},
     "output_type": "execute_result"
    }
   ],
   "source": [
    "df = pd.read_csv('./data/housing_one_var.csv')\n",
    "df.head()"
   ]
  },
  {
   "cell_type": "code",
   "execution_count": 3,
   "id": "8e42cb7d-c53c-4966-8e7b-78cdb3164bda",
   "metadata": {},
   "outputs": [
    {
     "data": {
      "text/html": [
       "<div>\n",
       "<style scoped>\n",
       "    .dataframe tbody tr th:only-of-type {\n",
       "        vertical-align: middle;\n",
       "    }\n",
       "\n",
       "    .dataframe tbody tr th {\n",
       "        vertical-align: top;\n",
       "    }\n",
       "\n",
       "    .dataframe thead th {\n",
       "        text-align: right;\n",
       "    }\n",
       "</style>\n",
       "<table border=\"1\" class=\"dataframe\">\n",
       "  <thead>\n",
       "    <tr style=\"text-align: right;\">\n",
       "      <th></th>\n",
       "      <th>sqft</th>\n",
       "      <th>rm</th>\n",
       "      <th>price</th>\n",
       "    </tr>\n",
       "  </thead>\n",
       "  <tbody>\n",
       "    <tr>\n",
       "      <th>0</th>\n",
       "      <td>2104</td>\n",
       "      <td>3</td>\n",
       "      <td>399900</td>\n",
       "    </tr>\n",
       "    <tr>\n",
       "      <th>1</th>\n",
       "      <td>1600</td>\n",
       "      <td>3</td>\n",
       "      <td>329900</td>\n",
       "    </tr>\n",
       "    <tr>\n",
       "      <th>2</th>\n",
       "      <td>2400</td>\n",
       "      <td>3</td>\n",
       "      <td>369000</td>\n",
       "    </tr>\n",
       "    <tr>\n",
       "      <th>3</th>\n",
       "      <td>1416</td>\n",
       "      <td>2</td>\n",
       "      <td>232000</td>\n",
       "    </tr>\n",
       "    <tr>\n",
       "      <th>4</th>\n",
       "      <td>3000</td>\n",
       "      <td>4</td>\n",
       "      <td>539900</td>\n",
       "    </tr>\n",
       "  </tbody>\n",
       "</table>\n",
       "</div>"
      ],
      "text/plain": [
       "   sqft  rm   price\n",
       "0  2104   3  399900\n",
       "1  1600   3  329900\n",
       "2  2400   3  369000\n",
       "3  1416   2  232000\n",
       "4  3000   4  539900"
      ]
     },
     "execution_count": 3,
     "metadata": {},
     "output_type": "execute_result"
    }
   ],
   "source": [
    "df2 = pd.read_csv('./data/housing_two_var.txt')\n",
    "df2.head()"
   ]
  },
  {
   "cell_type": "markdown",
   "id": "b9d3648c-f91d-42d6-ad93-42428bd81517",
   "metadata": {},
   "source": [
    "### Own Function"
   ]
  },
  {
   "cell_type": "code",
   "execution_count": 4,
   "id": "46fec543-844d-4c14-b4a6-c014c88393e2",
   "metadata": {},
   "outputs": [],
   "source": [
    "def mean_norm(X):\n",
    "    \"\"\"\n",
    "    This function is mean normalizer.\n",
    "    Formula is x(scaled) = x - mean / (max of x) - (min of x)\n",
    "    There is no similar scaler in sklearn\n",
    "    \"\"\"\n",
    "    big = X.max(axis=0)\n",
    "    small = X.min(axis=0)\n",
    "    norm_range = big - small\n",
    "    avg = X.mean(axis=0)\n",
    "    scaled = (X - avg) / norm_range\n",
    "    return scaled, avg, norm_range"
   ]
  },
  {
   "cell_type": "code",
   "execution_count": 5,
   "id": "40651a8a-4dbd-4b17-9c20-137f0ea79964",
   "metadata": {},
   "outputs": [],
   "source": [
    "def minmax_scaling(X):\n",
    "    \"\"\"\n",
    "    This function is to replicate the same method as sklearn MinMaxScaler\n",
    "    Formula is x(scaled) = x - min(x) / max(x) - min(x)\n",
    "    This function produce similar result as sklearn MinMaxScaler\n",
    "    \"\"\"\n",
    "    maximum = X.max(axis=0)\n",
    "    minimum = X.min(axis=0)\n",
    "    range = (maximum - minimum)\n",
    "    scaled = (X - minimum) / range\n",
    "    return scaled, minimum, range"
   ]
  },
  {
   "cell_type": "code",
   "execution_count": 6,
   "id": "c745df73-eaa2-4e57-a498-cd95c4d1e933",
   "metadata": {},
   "outputs": [],
   "source": [
    "def std_norm_v2(X):\n",
    "    \"\"\"\n",
    "    This function is z-score normalizer.\n",
    "    Formula is x(scaled) = x - mean / {std deviation of x}\n",
    "    There is similar scaler in sklearn is StandardScaler\n",
    "    \"\"\"\n",
    "    ### the following check if data type is Series\n",
    "    ### if is Series convert to data frame\n",
    "    if isinstance(X, pd.Series):\n",
    "        X = X.to_frame()\n",
    "    \n",
    "    avg = X.mean(axis=0)\n",
    "\n",
    "    ### the following check if data type is dataframe\n",
    "    if isinstance(X, pd.DataFrame):\n",
    "        std = X.std(axis=0, ddof=0)\n",
    "    else:\n",
    "        std = X.std(axis=0)\n",
    "    \n",
    "    X_norm = (X-avg)/std\n",
    "    \n",
    "    return X_norm, avg, std"
   ]
  },
  {
   "cell_type": "code",
   "execution_count": null,
   "id": "df85e8aa-7156-4853-b263-ab6a70ebd6b4",
   "metadata": {},
   "outputs": [],
   "source": []
  },
  {
   "cell_type": "markdown",
   "id": "2f4ac4df",
   "metadata": {},
   "source": [
    "## Scaling Back Coefficient and Intercept After Feature Scaling (One Feature)"
   ]
  },
  {
   "cell_type": "markdown",
   "id": "c71cdfd7-776e-43af-8e01-0d8658f44b14",
   "metadata": {},
   "source": [
    "### Scaling Back Z-Score Scaling"
   ]
  },
  {
   "cell_type": "markdown",
   "id": "f494bd86",
   "metadata": {},
   "source": [
    "For the following examples, we train the model used normalized data and then convert the normalized coeficient and intercept into un-normalized state."
   ]
  },
  {
   "cell_type": "markdown",
   "id": "06124caf",
   "metadata": {},
   "source": [
    "For Z-Score Normalization, the formula is\n",
    "\n",
    "$$x_{scaled} = \\frac{x - \\mu}{\\sigma}$$"
   ]
  },
  {
   "cell_type": "markdown",
   "id": "33b14ec8",
   "metadata": {},
   "source": [
    "To get prediction, we have \n",
    "\n",
    "$$\\hat{y} = b_{scaled} + x_{scaled} * w_{scaled}$$"
   ]
  },
  {
   "cell_type": "markdown",
   "id": "7128a433",
   "metadata": {},
   "source": [
    "Substitute $x_{scaled}$\n",
    "\n",
    "$$\\hat{y} = b_{scaled} + \\frac{x - \\mu}{\\sigma} * w_{scaled}$$\n",
    "\n",
    "$$\\hat{y} = b_{scaled} + (\\frac{x - \\mu}{\\sigma}) w_{scaled}$$\n",
    "\n"
   ]
  },
  {
   "cell_type": "markdown",
   "id": "d880f43f",
   "metadata": {},
   "source": [
    "$$\\hat{y} = b_{scaled} + (\\frac{x - \\mu}{\\sigma}) w_{scaled}$$\n",
    "$$\\hat{y} = b_{scaled} + \\frac{xw_{scaled}}{\\sigma} - \\frac{\\mu w_{scaled}}{\\sigma}$$\n",
    "$$\\hat{y} = b_{scaled} + x(\\frac{w_{scaled}}{\\sigma}) - \\frac{\\mu w_{scaled}}{\\sigma}$$\n",
    "$$\\hat{y} = b + xw$$\n",
    "$$\\hat{y} = \\left(b_{scaled}  - \\frac{\\mu w_{scaled}}{\\sigma}\\right) + x\\left(\\frac{w_{scaled}}{\\sigma}\\right)$$"
   ]
  },
  {
   "cell_type": "code",
   "execution_count": 7,
   "id": "7b6980b8",
   "metadata": {},
   "outputs": [],
   "source": [
    "x_train4 = df['sqft']\n",
    "y_train4 = df['price']\n",
    "x_train4 = x_train4.to_frame()\n",
    "y_train4 = y_train4.to_frame()"
   ]
  },
  {
   "cell_type": "code",
   "execution_count": 8,
   "id": "b1e50c25",
   "metadata": {},
   "outputs": [
    {
     "name": "stdout",
     "output_type": "stream",
     "text": [
      "w [[134.52528772]]\n",
      "b [71270.49244873]\n"
     ]
    }
   ],
   "source": [
    "# The following is to train the model using normal data\n",
    "# This is for comparison purpose\n",
    "reg4 = LinearRegression().fit(x_train4, y_train4)\n",
    "print('w',reg4.coef_)\n",
    "print('b',reg4.intercept_)"
   ]
  },
  {
   "cell_type": "code",
   "execution_count": 9,
   "id": "26608bce",
   "metadata": {},
   "outputs": [
    {
     "name": "stdout",
     "output_type": "stream",
     "text": [
      "w [[105764.13349282]]\n",
      "b [340412.65957447]\n"
     ]
    }
   ],
   "source": [
    "# Sklearn with standard scaler\n",
    "scaler4 = StandardScaler().fit(x_train4)\n",
    "normalized_arr4 = scaler4.transform(x_train4)\n",
    "reg4 = LinearRegression().fit(normalized_arr4, y_train4)\n",
    "print('w',reg4.coef_)\n",
    "print('b',reg4.intercept_)"
   ]
  },
  {
   "cell_type": "code",
   "execution_count": 10,
   "id": "aaddc158",
   "metadata": {},
   "outputs": [
    {
     "name": "stdout",
     "output_type": "stream",
     "text": [
      "std deviation [786.20261874]\n",
      "mean [2000.68085106]\n"
     ]
    }
   ],
   "source": [
    "print('std deviation',scaler4.scale_)\n",
    "print('mean',scaler4.mean_)"
   ]
  },
  {
   "cell_type": "code",
   "execution_count": 11,
   "id": "ab98efc3",
   "metadata": {},
   "outputs": [
    {
     "name": "stdout",
     "output_type": "stream",
     "text": [
      "iteration 9999: Last cost = 2.0581e+09: intercept = 3.4041e+05: weights = [[105764.13349281]]\n",
      "best w [[105764.1335]]\n",
      "best b 340412.6596\n"
     ]
    }
   ],
   "source": [
    "# My gradient Descent\n",
    "x_norm4, avg4, stddev4 = std_norm_v2(x_train4)\n",
    "coef4, intercept4, _, _, _ = my.compute_gradient_descent(x_norm4, y_train4)"
   ]
  },
  {
   "cell_type": "code",
   "execution_count": 12,
   "id": "bf842f9e",
   "metadata": {},
   "outputs": [
    {
     "name": "stdout",
     "output_type": "stream",
     "text": [
      "std deviation sqft    786.202619\n",
      "dtype: float64\n",
      "mean sqft    2000.680851\n",
      "dtype: float64\n"
     ]
    }
   ],
   "source": [
    "print('std deviation',stddev4)\n",
    "print('mean',avg4)"
   ]
  },
  {
   "cell_type": "code",
   "execution_count": 13,
   "id": "964392c2-22fc-410d-b2a7-5374365d1b33",
   "metadata": {},
   "outputs": [
    {
     "name": "stdout",
     "output_type": "stream",
     "text": [
      "w [[134.52528772]]\n",
      "b [71270.49244873]\n"
     ]
    }
   ],
   "source": [
    "# SciKit Learn Regression without Scaling\n",
    "lr4 = LinearRegression().fit(x_train4, y_train4)\n",
    "print('w',lr4.coef_)\n",
    "print('b',lr4.intercept_)"
   ]
  },
  {
   "cell_type": "markdown",
   "id": "c51bf17e",
   "metadata": {},
   "source": [
    "#### To scale back Original Coeficient"
   ]
  },
  {
   "cell_type": "code",
   "execution_count": 14,
   "id": "1164d70a",
   "metadata": {},
   "outputs": [
    {
     "data": {
      "text/plain": [
       "array([[134.52528772]])"
      ]
     },
     "execution_count": 14,
     "metadata": {},
     "output_type": "execute_result"
    }
   ],
   "source": [
    "# Scale back Sklearn\n",
    "or_coef_sk = reg4.coef_ / scaler4.scale_\n",
    "or_coef_sk"
   ]
  },
  {
   "cell_type": "code",
   "execution_count": 15,
   "id": "bee3b849",
   "metadata": {},
   "outputs": [
    {
     "data": {
      "text/plain": [
       "array([[71270.49244873]])"
      ]
     },
     "execution_count": 15,
     "metadata": {},
     "output_type": "execute_result"
    }
   ],
   "source": [
    "or_intercept_sk = reg4.intercept_ - reg4.coef_ * scaler4.mean_ / scaler4.scale_\n",
    "or_intercept_sk"
   ]
  },
  {
   "cell_type": "code",
   "execution_count": 16,
   "id": "f242114b-da23-4dbd-9710-d6a53064d52b",
   "metadata": {},
   "outputs": [
    {
     "data": {
      "text/plain": [
       "(1, 1)"
      ]
     },
     "execution_count": 16,
     "metadata": {},
     "output_type": "execute_result"
    }
   ],
   "source": [
    "coef4.shape"
   ]
  },
  {
   "cell_type": "code",
   "execution_count": 17,
   "id": "43b78718-23f6-4d81-93d1-f57a483a04d9",
   "metadata": {},
   "outputs": [
    {
     "data": {
      "text/plain": [
       "(1,)"
      ]
     },
     "execution_count": 17,
     "metadata": {},
     "output_type": "execute_result"
    }
   ],
   "source": [
    "stddev4.shape"
   ]
  },
  {
   "cell_type": "code",
   "execution_count": 18,
   "id": "c47b667b",
   "metadata": {},
   "outputs": [
    {
     "data": {
      "text/plain": [
       "sqft    134.525288\n",
       "dtype: float64"
      ]
     },
     "execution_count": 18,
     "metadata": {},
     "output_type": "execute_result"
    }
   ],
   "source": [
    "# Scale back own GD\n",
    "or_coef_gd = coef4[0] / stddev4\n",
    "or_coef_gd"
   ]
  },
  {
   "cell_type": "code",
   "execution_count": 19,
   "id": "81a1c992",
   "metadata": {},
   "outputs": [
    {
     "data": {
      "text/plain": [
       "sqft    71270.492449\n",
       "dtype: float64"
      ]
     },
     "execution_count": 19,
     "metadata": {},
     "output_type": "execute_result"
    }
   ],
   "source": [
    "or_intercept_gd = intercept4 - coef4[0] * avg4 / stddev4\n",
    "or_intercept_gd"
   ]
  },
  {
   "cell_type": "code",
   "execution_count": 20,
   "id": "08cebdfa",
   "metadata": {},
   "outputs": [],
   "source": [
    "def reverse_bw_std_norm_v1(coef, intercept, avg, stddev):\n",
    "    '''\n",
    "    The following is to reverse the coeficient and intercept after using std_norm\n",
    "    please use the same mean and std deviation from std_norm\n",
    "    '''\n",
    "    coef = coef.reshape(1,)\n",
    "    or_coef_gd = coef / stddev\n",
    "    or_intercept_gd = intercept + np.negative(coef * avg / stddev).sum()\n",
    "    return or_coef_gd, or_intercept_gd"
   ]
  },
  {
   "cell_type": "code",
   "execution_count": 21,
   "id": "963d3c08",
   "metadata": {},
   "outputs": [
    {
     "data": {
      "text/plain": [
       "(sqft    134.525288\n",
       " dtype: float64,\n",
       " 71270.49244872801)"
      ]
     },
     "execution_count": 21,
     "metadata": {},
     "output_type": "execute_result"
    }
   ],
   "source": [
    "reverse_bw_std_norm_v1(coef4, intercept4, avg4, stddev4)"
   ]
  },
  {
   "cell_type": "markdown",
   "id": "ed43e3c9-7c93-40b6-ae89-08e0eb21c174",
   "metadata": {},
   "source": [
    "### Scaling Back Simple Scaling"
   ]
  },
  {
   "cell_type": "markdown",
   "id": "1030bdab-ca61-45e8-aa41-ab0969e47515",
   "metadata": {},
   "source": [
    "Previously, to remove the Python overflow error, we just divide the size of the house by 1000. We can also compute the non-scaled intercept and coefficient."
   ]
  },
  {
   "cell_type": "markdown",
   "id": "71906779",
   "metadata": {},
   "source": [
    "For simple scaling, the formula is\n",
    "\n",
    "$$x_{scaled} = \\frac{x}{1000}$$"
   ]
  },
  {
   "cell_type": "markdown",
   "id": "4ca55246",
   "metadata": {},
   "source": [
    "To get prediction, we have \n",
    "\n",
    "$$\\hat{y} = b_{scaled} + x_{scaled} * w_{scaled}$$"
   ]
  },
  {
   "cell_type": "markdown",
   "id": "28cc6d4c",
   "metadata": {},
   "source": [
    "Substitute $x_{scaled}$\n",
    "\n",
    "$$\\hat{y} = b_{scaled} + \\frac{x}{1000} * w_{scaled}$$\n",
    "\n",
    "$$\\hat{y} = b_{scaled} + (\\frac{x}{1000}) w_{scaled}$$"
   ]
  },
  {
   "cell_type": "markdown",
   "id": "5e8b340c",
   "metadata": {},
   "source": [
    "$$\\hat{y} = b_{scaled} + x\\frac{w_{scaled}}{1000}$$"
   ]
  },
  {
   "cell_type": "code",
   "execution_count": 22,
   "id": "0c2fcf32-1ca8-4352-aacd-1016795bfaca",
   "metadata": {},
   "outputs": [
    {
     "data": {
      "text/html": [
       "<div>\n",
       "<style scoped>\n",
       "    .dataframe tbody tr th:only-of-type {\n",
       "        vertical-align: middle;\n",
       "    }\n",
       "\n",
       "    .dataframe tbody tr th {\n",
       "        vertical-align: top;\n",
       "    }\n",
       "\n",
       "    .dataframe thead th {\n",
       "        text-align: right;\n",
       "    }\n",
       "</style>\n",
       "<table border=\"1\" class=\"dataframe\">\n",
       "  <thead>\n",
       "    <tr style=\"text-align: right;\">\n",
       "      <th></th>\n",
       "      <th>sqft</th>\n",
       "    </tr>\n",
       "  </thead>\n",
       "  <tbody>\n",
       "    <tr>\n",
       "      <th>0</th>\n",
       "      <td>2104</td>\n",
       "    </tr>\n",
       "    <tr>\n",
       "      <th>1</th>\n",
       "      <td>1600</td>\n",
       "    </tr>\n",
       "    <tr>\n",
       "      <th>2</th>\n",
       "      <td>2400</td>\n",
       "    </tr>\n",
       "    <tr>\n",
       "      <th>3</th>\n",
       "      <td>1416</td>\n",
       "    </tr>\n",
       "    <tr>\n",
       "      <th>4</th>\n",
       "      <td>3000</td>\n",
       "    </tr>\n",
       "  </tbody>\n",
       "</table>\n",
       "</div>"
      ],
      "text/plain": [
       "   sqft\n",
       "0  2104\n",
       "1  1600\n",
       "2  2400\n",
       "3  1416\n",
       "4  3000"
      ]
     },
     "execution_count": 22,
     "metadata": {},
     "output_type": "execute_result"
    }
   ],
   "source": [
    "x_train4.head()"
   ]
  },
  {
   "cell_type": "code",
   "execution_count": 23,
   "id": "982e53fb",
   "metadata": {},
   "outputs": [
    {
     "name": "stdout",
     "output_type": "stream",
     "text": [
      "iteration 9999: Last cost = 2.0581e+09: intercept = 7.1270e+04: weights = [[134525.34483267]]\n",
      "best w [[134525.3448]]\n",
      "best b 71270.3637\n"
     ]
    }
   ],
   "source": [
    "coef5, intercept5, _, _, _ = my.compute_gradient_descent(x_train4/1000, y_train4)"
   ]
  },
  {
   "cell_type": "code",
   "execution_count": 24,
   "id": "1cd764ac",
   "metadata": {},
   "outputs": [
    {
     "data": {
      "text/plain": [
       "array([[134.52534483]])"
      ]
     },
     "execution_count": 24,
     "metadata": {},
     "output_type": "execute_result"
    }
   ],
   "source": [
    "or_coef = coef5 / 1000\n",
    "or_coef"
   ]
  },
  {
   "cell_type": "code",
   "execution_count": 25,
   "id": "f235cb58",
   "metadata": {},
   "outputs": [
    {
     "data": {
      "text/plain": [
       "71270.36374313367"
      ]
     },
     "execution_count": 25,
     "metadata": {},
     "output_type": "execute_result"
    }
   ],
   "source": [
    "or_intercept = intercept5\n",
    "or_intercept"
   ]
  },
  {
   "cell_type": "markdown",
   "id": "b1404df4-49a2-4240-b89e-067982e3bbae",
   "metadata": {},
   "source": [
    "### Scaling Back Mean Normalization Scaling"
   ]
  },
  {
   "cell_type": "markdown",
   "id": "5cddd58a",
   "metadata": {},
   "source": [
    "For mean normalization, the formula is\n",
    "\n",
    "$$x_{scaled} = \\frac{x - \\mu}{max(x)-min(x)}$$"
   ]
  },
  {
   "cell_type": "markdown",
   "id": "9c501c9f",
   "metadata": {},
   "source": [
    "To get prediction, we have \n",
    "\n",
    "$$\\hat{y} = b_{scaled} + x_{scaled} * w_{scaled}$$"
   ]
  },
  {
   "cell_type": "markdown",
   "id": "44dcd984",
   "metadata": {},
   "source": [
    "Substitute $x_{scaled}$\n",
    "\n",
    "$$\\hat{y} = b_{scaled} + \\frac{x - \\mu}{max(x)-min(x)} * w_{scaled}$$\n",
    "\n",
    "$$\\hat{y} = b_{scaled} + \\left(\\frac{x - \\mu}{max(x)-min(x)}\\right) w_{scaled}$$\n",
    "\n",
    "$$\\hat{y} = b_{scaled} + \\frac{xw_{scaled} - w_{scaled}\\mu}{max(x)-min(x)}$$\n",
    "$$\\hat{y} = b_{scaled} + \\frac{xw_{scaled}}{max(x)-min(x)} - \\frac{w_{scaled}\\mu}{max(x)-min(x)}$$"
   ]
  },
  {
   "cell_type": "markdown",
   "id": "ebc520dd",
   "metadata": {},
   "source": [
    "$$\\hat{y} = b_{scaled} + x\\left(\\frac{w_{scaled}}{max(x)-min(x)}\\right) - \\frac{w_{scaled}\\mu}{max(x)-min(x)}$$\n",
    "$$\\hat{y} = b + xw$$\n",
    "$$\\hat{y} = b_{scaled} - \\frac{w_{scaled}\\mu}{max(x)-min(x)} + x\\left(\\frac{w_{scaled}}{max(x)-min(x)}\\right)$$"
   ]
  },
  {
   "cell_type": "code",
   "execution_count": 26,
   "id": "2dfc4aaf-e71d-4b52-a586-ef6ff3836aec",
   "metadata": {},
   "outputs": [],
   "source": [
    "x_train6 = df['sqft']\n",
    "y_train6 = df['price']\n",
    "x_train6 = x_train4.to_numpy()\n",
    "y_train6 = y_train4.to_numpy()"
   ]
  },
  {
   "cell_type": "code",
   "execution_count": 27,
   "id": "ee5baa7c",
   "metadata": {},
   "outputs": [
    {
     "name": "stdout",
     "output_type": "stream",
     "text": [
      "iteration 29999: Last cost = 2.0581e+09: intercept = 3.4041e+05: weights = [[487788.32884679]]\n",
      "best w [[487788.3288]]\n",
      "best b 340412.6596\n"
     ]
    }
   ],
   "source": [
    "x_norm6, avg6, norm_range6 = mean_norm(x_train6)\n",
    "coef6, intercept6, _, _, _ = my.compute_gradient_descent(x_norm6,y_train6, iterations = 30000)"
   ]
  },
  {
   "cell_type": "code",
   "execution_count": 28,
   "id": "8b7e4cf9",
   "metadata": {},
   "outputs": [
    {
     "data": {
      "text/plain": [
       "array([134.52518722])"
      ]
     },
     "execution_count": 28,
     "metadata": {},
     "output_type": "execute_result"
    }
   ],
   "source": [
    "or_coef = coef6[0] / norm_range6\n",
    "or_coef"
   ]
  },
  {
   "cell_type": "code",
   "execution_count": 29,
   "id": "8774c7b8",
   "metadata": {},
   "outputs": [
    {
     "data": {
      "text/plain": [
       "array([71270.69352477])"
      ]
     },
     "execution_count": 29,
     "metadata": {},
     "output_type": "execute_result"
    }
   ],
   "source": [
    "or_intercept = intercept6 - coef6[0] * avg6 / norm_range6\n",
    "or_intercept"
   ]
  },
  {
   "cell_type": "markdown",
   "id": "e2ae6508-7828-4507-8adc-e7a77e025b2d",
   "metadata": {},
   "source": [
    "**It takes longer to mean normalization to converge. 3 times longer.**"
   ]
  },
  {
   "cell_type": "markdown",
   "id": "4941543b-446d-4062-8a0e-44b5dcc57138",
   "metadata": {},
   "source": [
    "### Scaling Back MinMax Scaling"
   ]
  },
  {
   "cell_type": "markdown",
   "id": "58720922-14be-4241-82bf-93321ca8ffff",
   "metadata": {},
   "source": [
    "For MinMax Scaler, the formula is\n",
    "\n",
    "$$x_{scaled} = \\frac{x - min(x)}{max(x)-min(x)}$$"
   ]
  },
  {
   "cell_type": "markdown",
   "id": "57f509be-9850-457e-a813-c07e7ba4f805",
   "metadata": {},
   "source": [
    "To get prediction, we have \n",
    "\n",
    "$$\\hat{y} = b_{scaled} + x_{scaled} * w_{scaled}$$"
   ]
  },
  {
   "cell_type": "markdown",
   "id": "52b3254e-ece3-4675-a67a-d9557c5ac429",
   "metadata": {},
   "source": [
    "Substitute $x_{scaled}$\n",
    "\n",
    "$$\\hat{y} = b_{scaled} + \\frac{x - min(x)}{max(x)-min(x)} * w_{scaled}$$\n",
    "\n",
    "$$\\hat{y} = b_{scaled} + \\left(\\frac{x - min(x)}{max(x)-min(x)}\\right) w_{scaled}$$\n",
    "\n",
    "$$\\hat{y} = b_{scaled} + \\frac{xw_{scaled} - min(x)w_{scaled}}{max(x)-min(x)}$$\n",
    "$$\\hat{y} = b_{scaled} + \\frac{xw_{scaled}}{max(x)-min(x)} - \\frac{min(x)w_{scaled}}{max(x)-min(x)}$$"
   ]
  },
  {
   "cell_type": "markdown",
   "id": "81eacd29-28eb-42a6-8f21-250b68ac297a",
   "metadata": {},
   "source": [
    "$$\\hat{y} = b_{scaled} + x\\left(\\frac{w_{scaled}}{max(x)-min(x)}\\right) - \\frac{min(x)w_{scaled}}{max(x)-min(x)}$$\n",
    "$$\\hat{y} = b + xw$$\n",
    "$$\\hat{y} = b_{scaled} - \\frac{min(x)w_{scaled}}{max(x)-min(x)} + x\\left(\\frac{w_{scaled}}{max(x)-min(x)}\\right)$$"
   ]
  },
  {
   "cell_type": "code",
   "execution_count": 30,
   "id": "bd4f28f4-8e6b-42d0-ba53-d8bd92dd2972",
   "metadata": {},
   "outputs": [],
   "source": [
    "x_train7 = x_train6.copy()\n",
    "y_train7 = y_train6.copy()"
   ]
  },
  {
   "cell_type": "code",
   "execution_count": 31,
   "id": "f1506159-183e-4cd7-beee-85697e1f28cb",
   "metadata": {},
   "outputs": [
    {
     "name": "stdout",
     "output_type": "stream",
     "text": [
      "iteration 29999: Last cost = 2.0581e+09: intercept = 1.8589e+05: weights = [[487787.59848666]]\n",
      "best w [[487787.5985]]\n",
      "best b 185886.3998\n"
     ]
    }
   ],
   "source": [
    "x_norm7, min7, range7 = minmax_scaling(x_train7)\n",
    "coef7, intercept7, _, _, _ = my.compute_gradient_descent(x_norm7,y_train7, iterations = 30000)"
   ]
  },
  {
   "cell_type": "code",
   "execution_count": 32,
   "id": "2f2d023a-104f-4d25-b115-504a5b555268",
   "metadata": {},
   "outputs": [
    {
     "data": {
      "text/plain": [
       "array([134.52498579])"
      ]
     },
     "execution_count": 32,
     "metadata": {},
     "output_type": "execute_result"
    }
   ],
   "source": [
    "or_coef = coef7[0] / range7\n",
    "or_coef"
   ]
  },
  {
   "cell_type": "code",
   "execution_count": 33,
   "id": "6dd9e7a5-ef0e-45db-a2ad-4a03090459d4",
   "metadata": {},
   "outputs": [
    {
     "data": {
      "text/plain": [
       "array([71271.11192188])"
      ]
     },
     "execution_count": 33,
     "metadata": {},
     "output_type": "execute_result"
    }
   ],
   "source": [
    "or_intercept = intercept7 - (coef7[0] * min7 / range7)\n",
    "or_intercept"
   ]
  },
  {
   "cell_type": "markdown",
   "id": "4b23af6d-7eae-4b01-a12e-f7f7eca3d932",
   "metadata": {},
   "source": [
    "## Scaling Back Coefficient and Intercept After Feature Scaling (Two Features)"
   ]
  },
  {
   "cell_type": "markdown",
   "id": "f3b4e5a8",
   "metadata": {},
   "source": [
    "### Scaling Back Coefficient and Intercept for Z-Score"
   ]
  },
  {
   "cell_type": "markdown",
   "id": "4245dc64",
   "metadata": {},
   "source": [
    "For Z-Score Normalization, the formula is\n",
    "\n",
    "$$x_{scaled} = \\frac{x - \\mu}{\\sigma}$$"
   ]
  },
  {
   "cell_type": "markdown",
   "id": "3be7090e",
   "metadata": {},
   "source": [
    "To get prediction, we have \n",
    "\n",
    "$$\\hat{y} = b_{scaled} + x_{1 scaled} * w_{1 scaled}+ x_{2 scaled} * w_{2 scaled}$$"
   ]
  },
  {
   "cell_type": "markdown",
   "id": "443cba57",
   "metadata": {},
   "source": [
    "Substitute $x_{scaled}$\n",
    "\n",
    "$$\\hat{y} = b_{scaled} + \\frac{x_1 - \\mu_1}{\\sigma_1} * w_{1scaled} + \\frac{x_2 - \\mu_2}{\\sigma_2} * w_{2scaled}$$\n",
    "\n",
    "$$\\hat{y} = b_{scaled} + \\left(\\frac{x_1 - \\mu_1}{\\sigma_1}\\right)w_{1scaled} + \\left(\\frac{x_2 - \\mu_2}{\\sigma_2}\\right)w_{2scaled}$$\n",
    "\n"
   ]
  },
  {
   "cell_type": "markdown",
   "id": "e0a61edf",
   "metadata": {},
   "source": [
    "$$\\hat{y} = b_{scaled} + \\left(\\frac{x_1 - \\mu_1}{\\sigma_1}\\right)w_{1scaled} + \\left(\\frac{x_2 - \\mu_2}{\\sigma_2}\\right)w_{2scaled}$$\n",
    "$$\\hat{y} = b_{scaled} + \\frac{x_1 w_{1scaled}}{\\sigma_1} - \\frac{\\mu_1 w_{1scaled}}{\\sigma_1} + \\frac{x_2 w_{2scaled}}{\\sigma_2} - \\frac{\\mu_2 w_{2scaled}}{\\sigma_2}$$\n",
    "$$\\hat{y} = b_{scaled} + x_1\\left(\\frac{w_{1scaled}}{\\sigma_1}\\right) - \\frac{\\mu_1 w_{1scaled}}{\\sigma_1} + x_2\\left(\\frac{w_{2scaled}}{\\sigma_2}\\right) - \\frac{\\mu_2 w_{2scaled}}{\\sigma_2}$$\n",
    "$$\\hat{y} = b_{scaled}  - \\frac{\\mu_1 w_{1scaled}}{\\sigma_1} - \\frac{\\mu_2 w_{2scaled}}{\\sigma_2} + x_1\\left(\\frac{w_{1scaled}}{\\sigma_1}\\right) + x_2\\left(\\frac{w_{2scaled}}{\\sigma_2}\\right)$$"
   ]
  },
  {
   "cell_type": "code",
   "execution_count": 34,
   "id": "cfbf222a",
   "metadata": {},
   "outputs": [],
   "source": [
    "X_train8 = df2[['sqft','rm']]\n",
    "y_train8 = df2['price']"
   ]
  },
  {
   "cell_type": "code",
   "execution_count": 35,
   "id": "a1759270",
   "metadata": {},
   "outputs": [
    {
     "name": "stdout",
     "output_type": "stream",
     "text": [
      "w [  139.21067402 -8738.01911233]\n",
      "b 89597.90954279748\n"
     ]
    }
   ],
   "source": [
    "# SciKit Learn Normal data\n",
    "lr8 = LinearRegression().fit(X_train8, y_train8)\n",
    "print('w',lr8.coef_)\n",
    "print('b',lr8.intercept_)"
   ]
  },
  {
   "cell_type": "code",
   "execution_count": 36,
   "id": "fb016fe6",
   "metadata": {},
   "outputs": [
    {
     "name": "stdout",
     "output_type": "stream",
     "text": [
      "iteration 19999: Last cost = 2.0433e+09: intercept = 3.4041e+05: weights = [[109447.79646964  -6578.35485416]]\n",
      "best w [[109447.7965]\n",
      " [ -6578.3549]]\n",
      "best b 340412.6596\n"
     ]
    }
   ],
   "source": [
    "X_norm8, avg8, stddev8 = std_norm_v2(X_train8)\n",
    "coef8, intercept8, _, _, _ = my.compute_gradient_descent(X_norm8, y_train8, iterations = 20000)"
   ]
  },
  {
   "cell_type": "code",
   "execution_count": 37,
   "id": "a4136134-5688-44dc-a2bf-0e3aa09928d6",
   "metadata": {},
   "outputs": [
    {
     "name": "stdout",
     "output_type": "stream",
     "text": [
      "mean\n",
      " sqft    2000.680851\n",
      "rm         3.170213\n",
      "dtype: float64\n"
     ]
    }
   ],
   "source": [
    "print('mean\\n', avg8)"
   ]
  },
  {
   "cell_type": "code",
   "execution_count": 38,
   "id": "6b1346f9-5801-48c4-a7ba-96eaabf6b8b9",
   "metadata": {},
   "outputs": [
    {
     "name": "stdout",
     "output_type": "stream",
     "text": [
      "std deviation\n",
      " sqft    786.202619\n",
      "rm        0.752843\n",
      "dtype: float64\n"
     ]
    }
   ],
   "source": [
    "print('std deviation\\n', stddev8)"
   ]
  },
  {
   "cell_type": "code",
   "execution_count": 39,
   "id": "d8f7c091-fdb3-424a-8cc7-39fed380bc57",
   "metadata": {},
   "outputs": [
    {
     "data": {
      "text/plain": [
       "(2,)"
      ]
     },
     "execution_count": 39,
     "metadata": {},
     "output_type": "execute_result"
    }
   ],
   "source": [
    "avg8.shape"
   ]
  },
  {
   "cell_type": "code",
   "execution_count": 40,
   "id": "8a70c44d-47d8-4c2a-93ff-ea99026ba81f",
   "metadata": {},
   "outputs": [
    {
     "data": {
      "text/plain": [
       "(2,)"
      ]
     },
     "execution_count": 40,
     "metadata": {},
     "output_type": "execute_result"
    }
   ],
   "source": [
    "stddev8.shape"
   ]
  },
  {
   "cell_type": "code",
   "execution_count": 41,
   "id": "a159217e-048e-4b1b-8963-f208dd06106f",
   "metadata": {},
   "outputs": [
    {
     "data": {
      "text/plain": [
       "(2, 1)"
      ]
     },
     "execution_count": 41,
     "metadata": {},
     "output_type": "execute_result"
    }
   ],
   "source": [
    "coef8.shape"
   ]
  },
  {
   "cell_type": "code",
   "execution_count": 42,
   "id": "8b431e5b-de97-482d-a7b2-9ba05a6a5dcf",
   "metadata": {},
   "outputs": [],
   "source": [
    "avg8 = np.array(avg8).reshape((2,1))\n",
    "stddev8 = np.array(stddev8).reshape((2,1))"
   ]
  },
  {
   "cell_type": "code",
   "execution_count": 43,
   "id": "872e9de0",
   "metadata": {},
   "outputs": [
    {
     "data": {
      "text/plain": [
       "array([[  139.21067402],\n",
       "       [-8738.01911233]])"
      ]
     },
     "execution_count": 43,
     "metadata": {},
     "output_type": "execute_result"
    }
   ],
   "source": [
    "# Scale back own GD\n",
    "or_coef_gd8 = coef8 / stddev8\n",
    "or_coef_gd8"
   ]
  },
  {
   "cell_type": "code",
   "execution_count": 44,
   "id": "a188e6c6",
   "metadata": {},
   "outputs": [
    {
     "data": {
      "text/plain": [
       "array([89597.90954279])"
      ]
     },
     "execution_count": 44,
     "metadata": {},
     "output_type": "execute_result"
    }
   ],
   "source": [
    "or_intercept_gd8 = intercept8 - (coef8[0] * avg8[0] / stddev8[0]) - (coef8[1] * avg8[1] / stddev8[1])\n",
    "or_intercept_gd8"
   ]
  },
  {
   "cell_type": "code",
   "execution_count": 45,
   "id": "32e2b133",
   "metadata": {},
   "outputs": [
    {
     "data": {
      "text/plain": [
       "89597.9095427946"
      ]
     },
     "execution_count": 45,
     "metadata": {},
     "output_type": "execute_result"
    }
   ],
   "source": [
    "or_intercept_gd8 = intercept8 + np.negative(coef8 * avg8 / stddev8).sum()\n",
    "or_intercept_gd8"
   ]
  },
  {
   "cell_type": "code",
   "execution_count": 46,
   "id": "b4fbce90",
   "metadata": {},
   "outputs": [
    {
     "name": "stdout",
     "output_type": "stream",
     "text": [
      "w [109447.79646964  -6578.35485416]\n",
      "b 340412.6595744681\n"
     ]
    }
   ],
   "source": [
    "std_scaler8 = StandardScaler()\n",
    "normalized_arr8 = std_scaler8.fit_transform(X_train8)\n",
    "reg8 = LinearRegression().fit(normalized_arr8, y_train8)\n",
    "print('w',reg8.coef_)\n",
    "print('b',reg8.intercept_)"
   ]
  },
  {
   "cell_type": "code",
   "execution_count": 47,
   "id": "117d6200",
   "metadata": {},
   "outputs": [
    {
     "name": "stdout",
     "output_type": "stream",
     "text": [
      "std dev: [7.86202619e+02 7.52842809e-01]\n",
      "avg: [2000.68085106    3.17021277]\n"
     ]
    }
   ],
   "source": [
    "print('std dev:',std_scaler8.scale_)\n",
    "print('avg:',std_scaler8.mean_)"
   ]
  },
  {
   "cell_type": "code",
   "execution_count": 48,
   "id": "ece3e5dd-d2f7-4504-9d1b-0c09734a9648",
   "metadata": {},
   "outputs": [
    {
     "data": {
      "text/plain": [
       "array([  139.21067402, -8738.01911233])"
      ]
     },
     "execution_count": 48,
     "metadata": {},
     "output_type": "execute_result"
    }
   ],
   "source": [
    "or_coef_sk2_8 = reg8.coef_ / std_scaler8.scale_\n",
    "or_coef_sk2_8"
   ]
  },
  {
   "cell_type": "code",
   "execution_count": 49,
   "id": "5e0c064d",
   "metadata": {},
   "outputs": [
    {
     "data": {
      "text/plain": [
       "89597.90954279763"
      ]
     },
     "execution_count": 49,
     "metadata": {},
     "output_type": "execute_result"
    }
   ],
   "source": [
    "or_intercept_sk2_8 = reg8.intercept_ + np.negative(reg8.coef_ * std_scaler8.mean_ / std_scaler8.scale_).sum() \n",
    "or_intercept_sk2_8"
   ]
  },
  {
   "cell_type": "code",
   "execution_count": 50,
   "id": "d86750b0",
   "metadata": {},
   "outputs": [],
   "source": [
    "def reverse_bw_std_norm(coef, intercept, avg, stddev):\n",
    "    '''\n",
    "    The following is to reverse the coeficient and intercept after using std_norm.\n",
    "    Please use the same mean and std deviation from std_norm\n",
    "    This function can use for one feature or multiple features regression\n",
    "    '''\n",
    "    or_coef_gd = coef / stddev\n",
    "    or_intercept_gd = intercept + np.negative(coef * avg / stddev).sum()\n",
    "    return or_coef_gd, or_intercept_gd"
   ]
  },
  {
   "cell_type": "code",
   "execution_count": 51,
   "id": "81dbe5d2",
   "metadata": {},
   "outputs": [
    {
     "data": {
      "text/plain": [
       "(array([[  139.21067402],\n",
       "        [-8738.01911233]]),\n",
       " 89597.9095427946)"
      ]
     },
     "execution_count": 51,
     "metadata": {},
     "output_type": "execute_result"
    }
   ],
   "source": [
    "reverse_bw_std_norm(coef8, intercept8, avg8, stddev8)"
   ]
  },
  {
   "cell_type": "markdown",
   "id": "80535b69-507e-47b8-8347-76f2f00d4a9d",
   "metadata": {},
   "source": [
    "### Scaling Back Coefficient and Intercept for MinMax Scaler"
   ]
  },
  {
   "cell_type": "markdown",
   "id": "48e5dfd1-3de2-432e-ac3e-e7339500aa58",
   "metadata": {},
   "source": [
    "For MinMax Scaler, the formula is\n",
    "\n",
    "$$x_{scaled} = \\frac{x - min(x)}{max(x)-min(x)}$$"
   ]
  },
  {
   "cell_type": "markdown",
   "id": "15050eab-ea66-411d-8b10-1c07cfea2e27",
   "metadata": {},
   "source": [
    "To get prediction, we have \n",
    "\n",
    "$$\\hat{y} = b_{scaled} + x_{1 scaled} * w_{1 scaled}+ x_{2 scaled} * w_{2 scaled}$$"
   ]
  },
  {
   "cell_type": "markdown",
   "id": "61fe4a59-2d0e-4e23-933f-635dd37319c5",
   "metadata": {},
   "source": [
    "Substitute $x_{scaled}$\n",
    "\n",
    "$$\\hat{y} = b_{scaled} + \\frac{x_1 - min(x_1)}{max(x_1)-min(x_1)} * w_{1scaled} + \\frac{x_2 - min(x_2)}{max(x_2)-min(x_2)} * w_{2scaled}$$\n",
    "\n",
    "$$\\hat{y} = b_{scaled} + \\left(\\frac{x_1 - min(x_1)}{max(x_1)-min(x_1)}\\right) w_{1scaled} + \\left(\\frac{x_2 - min(x_2)}{max(x_2)-min(x_2)}\\right) w_{2scaled}$$\n",
    "\n",
    "$$\\hat{y} = b_{scaled} + \\frac{x_1w_{1scaled} - min(x_1)w_{1scaled}}{max(x_1)-min(x_1)} + \\frac{x_2w_{2scaled} - min(x_2)w_{2scaled}}{max(x_2)-min(x_2)}$$\n"
   ]
  },
  {
   "cell_type": "markdown",
   "id": "8213d1e2-bb1d-41f4-a7ba-372e5abbc0ae",
   "metadata": {},
   "source": [
    "$$\\hat{y} = b_{scaled} + \\frac{x_1w_{1scaled} - min(x_1)w_{1scaled}}{max(x_1)-min(x_1)} + \\frac{x_2w_{2scaled} - min(x_2)w_{2scaled}}{max(x_2)-min(x_2)}$$\n",
    "$$\\hat{y} = b_{scaled} + \\frac{x_1w_{1scaled}}{max(x_1)-min(x_1)} - \\frac{min(x_1)w_{1scaled}}{max(x_1)-min(x_1)} +  \\frac{x_2w_{2scaled}}{max(x_2)-min(x_2)} - \\frac{min(x_2)w_{2scaled}}{max(x_2)-min(x_2)}$$\n",
    "$$\\hat{y} = b_{scaled} + x_1\\left(\\frac{w_{1scaled}}{max(x_1)-min(x_1)}\\right) - \\frac{min(x_1)w_{1scaled}}{max(x_1)-min(x_1)} + x_2\\left(\\frac{w_{2scaled}}{max(x_2)-min(x_2)}\\right) - \\frac{min(x_2)w_{2scaled}}{max(x_2)-min(x_2)}$$\n",
    "$$\\hat{y} = b + xw$$\n",
    "$$\\hat{y} = b_{scaled}- \\frac{min(x_1)w_{1scaled}}{max(x_1)-min(x_1)}- \\frac{min(x_2)w_{2scaled}}{max(x_2)-min(x_2)} = + x_1\\left(\\frac{w_{1scaled}}{max(x_1)-min(x_1)}\\right) + x_2\\left(\\frac{w_{2scaled}}{max(x_2)-min(x_2)}\\right) $$"
   ]
  },
  {
   "cell_type": "code",
   "execution_count": 52,
   "id": "013a7199-d7e4-4cd5-95c1-dcfbf5819713",
   "metadata": {},
   "outputs": [],
   "source": [
    "X_train9 = df2[['sqft','rm']]\n",
    "y_train9 = df2['price']"
   ]
  },
  {
   "cell_type": "code",
   "execution_count": 53,
   "id": "d6477e5d-dcfd-416c-8ba0-b41aad861ea1",
   "metadata": {},
   "outputs": [
    {
     "name": "stdout",
     "output_type": "stream",
     "text": [
      "w [  139.21067402 -8738.01911233]\n",
      "b 89597.90954279748\n"
     ]
    }
   ],
   "source": [
    "# SciKit Learn Normal data\n",
    "lr9 = LinearRegression().fit(X_train9, y_train9)\n",
    "print('w',lr9.coef_)\n",
    "print('b',lr9.intercept_)"
   ]
  },
  {
   "cell_type": "code",
   "execution_count": 54,
   "id": "1b72bd75-a276-4b43-b612-3969a3922a28",
   "metadata": {},
   "outputs": [
    {
     "name": "stdout",
     "output_type": "stream",
     "text": [
      "iteration 199999: Last cost = 2.0433e+09: intercept = 1.9947e+05: weights = [[504777.90398781 -34952.07644922]]\n",
      "best w [[504777.904 ]\n",
      " [-34952.0764]]\n",
      "best b 199467.3847\n"
     ]
    }
   ],
   "source": [
    "X_norm9, min9, range9 = minmax_scaling(X_train9)\n",
    "coef9, intercept9, _, _, _ = my.compute_gradient_descent(X_norm9, y_train9, iterations = 200000)"
   ]
  },
  {
   "cell_type": "code",
   "execution_count": 55,
   "id": "433bb257-d4cd-41b5-984a-f82ff29d5fad",
   "metadata": {},
   "outputs": [
    {
     "data": {
      "text/plain": [
       "(2,)"
      ]
     },
     "execution_count": 55,
     "metadata": {},
     "output_type": "execute_result"
    }
   ],
   "source": [
    "min9.shape"
   ]
  },
  {
   "cell_type": "code",
   "execution_count": 56,
   "id": "d913001b-761a-47ab-aa68-a23065cec971",
   "metadata": {},
   "outputs": [
    {
     "data": {
      "text/plain": [
       "array([[852],\n",
       "       [  1]])"
      ]
     },
     "execution_count": 56,
     "metadata": {},
     "output_type": "execute_result"
    }
   ],
   "source": [
    "min9 = np.array(min9).reshape(-1,1)\n",
    "min9"
   ]
  },
  {
   "cell_type": "code",
   "execution_count": 57,
   "id": "c5fa6768-8e69-4896-a3e0-553508bea961",
   "metadata": {},
   "outputs": [
    {
     "data": {
      "text/plain": [
       "array([[3626],\n",
       "       [   4]])"
      ]
     },
     "execution_count": 57,
     "metadata": {},
     "output_type": "execute_result"
    }
   ],
   "source": [
    "range9 = np.array(range9).reshape(-1,1)\n",
    "range9"
   ]
  },
  {
   "cell_type": "code",
   "execution_count": 58,
   "id": "654e4d6f-9d88-4817-9f43-10b6df290cd0",
   "metadata": {},
   "outputs": [
    {
     "data": {
      "text/plain": [
       "(2, 1)"
      ]
     },
     "execution_count": 58,
     "metadata": {},
     "output_type": "execute_result"
    }
   ],
   "source": [
    "coef9.shape"
   ]
  },
  {
   "cell_type": "code",
   "execution_count": 59,
   "id": "3716e89f-2bb6-4be4-bcd8-ebce5f488be1",
   "metadata": {},
   "outputs": [
    {
     "data": {
      "text/plain": [
       "array([[  139.21067402],\n",
       "       [-8738.0191123 ]])"
      ]
     },
     "execution_count": 59,
     "metadata": {},
     "output_type": "execute_result"
    }
   ],
   "source": [
    "# Scale back own GD\n",
    "or_coef_gd9 = coef9 / range9\n",
    "or_coef_gd9"
   ]
  },
  {
   "cell_type": "code",
   "execution_count": 60,
   "id": "f8090bb3-3c62-4e68-8a73-9029401f4a45",
   "metadata": {},
   "outputs": [
    {
     "data": {
      "text/plain": [
       "array([89597.90954277])"
      ]
     },
     "execution_count": 60,
     "metadata": {},
     "output_type": "execute_result"
    }
   ],
   "source": [
    "or_intercept_gd9 = intercept9 - (coef9[0] * min9[0] / range9[0]) - (coef9[1] * min9[1] / range9[1])\n",
    "or_intercept_gd9"
   ]
  },
  {
   "cell_type": "code",
   "execution_count": 61,
   "id": "69646569-9d91-4ef7-af0a-e844587d0729",
   "metadata": {},
   "outputs": [
    {
     "data": {
      "text/plain": [
       "89597.9095427743"
      ]
     },
     "execution_count": 61,
     "metadata": {},
     "output_type": "execute_result"
    }
   ],
   "source": [
    "or_intercept_gd9 = intercept9 + np.negative(coef9 *  min9 / range9).sum()\n",
    "or_intercept_gd9"
   ]
  },
  {
   "cell_type": "code",
   "execution_count": 62,
   "id": "c74ea036-d947-4778-a7c5-b73eaca37387",
   "metadata": {},
   "outputs": [
    {
     "name": "stdout",
     "output_type": "stream",
     "text": [
      "w [504777.90398791 -34952.07644931]\n",
      "b 199467.38469348656\n"
     ]
    }
   ],
   "source": [
    "minmax_scaler9 = MinMaxScaler()\n",
    "normalized_arr9 = minmax_scaler9.fit_transform(X_train9)\n",
    "reg9 = LinearRegression().fit(normalized_arr9, y_train9)\n",
    "print('w',reg9.coef_)\n",
    "print('b',reg9.intercept_)"
   ]
  },
  {
   "cell_type": "code",
   "execution_count": 63,
   "id": "525e021b-5aff-475e-8fbb-f7c760b9b05d",
   "metadata": {},
   "outputs": [
    {
     "data": {
      "text/plain": [
       "array([4478.,    5.])"
      ]
     },
     "execution_count": 63,
     "metadata": {},
     "output_type": "execute_result"
    }
   ],
   "source": [
    "minmax_scaler9.data_max_"
   ]
  },
  {
   "cell_type": "code",
   "execution_count": 64,
   "id": "0b5b7d3f-1490-4357-af29-e31b8974748c",
   "metadata": {},
   "outputs": [
    {
     "data": {
      "text/plain": [
       "array([852.,   1.])"
      ]
     },
     "execution_count": 64,
     "metadata": {},
     "output_type": "execute_result"
    }
   ],
   "source": [
    "minmax_scaler9.data_min_"
   ]
  },
  {
   "cell_type": "code",
   "execution_count": 65,
   "id": "0e4bd5de-cced-4ec2-bc56-9cd28d02d468",
   "metadata": {},
   "outputs": [
    {
     "data": {
      "text/plain": [
       "array([3626.,    4.])"
      ]
     },
     "execution_count": 65,
     "metadata": {},
     "output_type": "execute_result"
    }
   ],
   "source": [
    "minmax_scaler9.data_range_"
   ]
  },
  {
   "cell_type": "code",
   "execution_count": 66,
   "id": "229e7a06-056c-4e46-a4f4-2b9d90a665bc",
   "metadata": {},
   "outputs": [
    {
     "data": {
      "text/plain": [
       "(2,)"
      ]
     },
     "execution_count": 66,
     "metadata": {},
     "output_type": "execute_result"
    }
   ],
   "source": [
    "minmax_scaler9.data_range_.shape"
   ]
  },
  {
   "cell_type": "code",
   "execution_count": 67,
   "id": "8ccf1817-8f36-4295-a586-f65b9ec46abc",
   "metadata": {},
   "outputs": [
    {
     "data": {
      "text/plain": [
       "array([  139.21067402, -8738.01911233])"
      ]
     },
     "execution_count": 67,
     "metadata": {},
     "output_type": "execute_result"
    }
   ],
   "source": [
    "or_coef_sk2_9 = reg9.coef_ / minmax_scaler9.data_range_\n",
    "or_coef_sk2_9"
   ]
  },
  {
   "cell_type": "code",
   "execution_count": 68,
   "id": "75e4275d-00a3-46b6-8a42-decc9b7f42b6",
   "metadata": {},
   "outputs": [
    {
     "data": {
      "text/plain": [
       "89597.9095427974"
      ]
     },
     "execution_count": 68,
     "metadata": {},
     "output_type": "execute_result"
    }
   ],
   "source": [
    "or_intercept_sk2_9 = reg9.intercept_ + np.negative(reg9.coef_ *  minmax_scaler9.data_min_ / minmax_scaler9.data_range_).sum() \n",
    "or_intercept_sk2_9"
   ]
  },
  {
   "cell_type": "code",
   "execution_count": 69,
   "id": "0722f6c6-81e7-4309-b2e6-50b4d3221e9c",
   "metadata": {},
   "outputs": [],
   "source": [
    "def reverse_bw_minmax_scaler(coef, intercept, min, range):\n",
    "    '''\n",
    "    The following is to reverse the coeficient and intercept after using MinMax Scaling.\n",
    "    Please use the same minimum and range from minmax_scaling\n",
    "    This function can use for one feature or multiple features regression\n",
    "    '''\n",
    "    or_coef_gd = coef / range\n",
    "    or_intercept_gd = intercept + np.negative(coef * min / range).sum()\n",
    "    return or_coef_gd, or_intercept_gd"
   ]
  },
  {
   "cell_type": "code",
   "execution_count": 70,
   "id": "2f099e88-00ed-4fc8-8764-e7a5179ed10a",
   "metadata": {},
   "outputs": [
    {
     "data": {
      "text/plain": [
       "(array([[  139.21067402],\n",
       "        [-8738.0191123 ]]),\n",
       " 89597.9095427743)"
      ]
     },
     "execution_count": 70,
     "metadata": {},
     "output_type": "execute_result"
    }
   ],
   "source": [
    "reverse_bw_std_norm(coef9, intercept9, min9, range9)"
   ]
  },
  {
   "cell_type": "markdown",
   "id": "a6d332dd",
   "metadata": {},
   "source": [
    "## Finalize Function of Z Score and the Function to Scale Back the Coefficient"
   ]
  },
  {
   "cell_type": "code",
   "execution_count": 71,
   "id": "660bc4e6-4e6c-4099-b208-1f4e47bb1e14",
   "metadata": {},
   "outputs": [],
   "source": [
    "def std_norm(X):\n",
    "    \"\"\"\n",
    "    This function is z-score normalizer.\n",
    "    Formula is x(scaled) = x - mean / {std deviation of x}\n",
    "    There is similar scaler in sklearn is StandardScaler\n",
    "\n",
    "    INPUT:\n",
    "    X = The features dataset\n",
    "    Dataset should be in column features with shape (m,n) where m is number of observations\n",
    "    and n is total number of features\n",
    "\n",
    "    RETURN:\n",
    "    X_norm = Scaled dataset\n",
    "    avg = Mean of each column features\n",
    "    std = Standard Deviation of each column features\n",
    "    \"\"\"\n",
    "    ### the following check if data type is Series\n",
    "    ### if is Series convert to data frame\n",
    "    if isinstance(X, pd.Series):\n",
    "        X = X.to_frame()\n",
    "\n",
    "    if isinstance(X, pd.DataFrame):\n",
    "        X = X.to_numpy()\n",
    "\n",
    "    if X.ndim == 1:\n",
    "        np.array(X).reshape(-1,1)\n",
    "        \n",
    "    n = X.shape[1]\n",
    "    \n",
    "    avg = X.mean(axis=0).reshape((1,n))\n",
    "\n",
    "    std = X.std(axis=0).reshape((1,n))\n",
    "    \n",
    "    X_norm = (X - avg) / std\n",
    "    \n",
    "    return X_norm, avg, std"
   ]
  },
  {
   "cell_type": "code",
   "execution_count": 72,
   "id": "9f2b780e",
   "metadata": {},
   "outputs": [],
   "source": [
    "def reverse_bw_std_norm(coef, intercept, avg, stddev):\n",
    "    '''\n",
    "    The following is to reverse the coeficient and intercept after using std_norm.\n",
    "    Please use the same mean and std deviation from std_norm\n",
    "    This function can use for one feature or multiple features regression\n",
    "\n",
    "    INPUT:\n",
    "    coef = The weights / coefficient of the trained dataset\n",
    "    intercept = The intercept of the trained dataset\n",
    "    avg = The average return from the function std_norm\n",
    "    stddev = The standard deviation from the function std_norm\n",
    "\n",
    "    RETURN:\n",
    "    or_coef_gd = The weights / coefficient in un-scaled form\n",
    "    or_intercept_gd = The intercept in un-scaled form\n",
    "    \n",
    "    '''\n",
    "    n = coef.shape[0]\n",
    "    ### reshape average and stddev\n",
    "    avg = avg.reshape((n,1))\n",
    "    stddev = stddev.reshape((n,1))\n",
    "\n",
    "    or_coef_gd = coef / stddev\n",
    "    or_intercept_gd = intercept + np.negative(coef * avg / stddev).sum()\n",
    "    return or_coef_gd, or_intercept_gd"
   ]
  },
  {
   "cell_type": "markdown",
   "id": "5a614bff-1159-4d8f-b69d-a7286321d8c6",
   "metadata": {},
   "source": [
    "### Application of Finalized Function (One Feature Housing Data)"
   ]
  },
  {
   "cell_type": "code",
   "execution_count": 73,
   "id": "b93db0e3",
   "metadata": {},
   "outputs": [],
   "source": [
    "x_train10 = df['sqft']\n",
    "y_train10 = df['price']\n",
    "x_train10 = x_train10.to_numpy().reshape(-1,1)\n",
    "y_train10 = y_train10.to_numpy().reshape(-1,1)"
   ]
  },
  {
   "cell_type": "code",
   "execution_count": 74,
   "id": "9c2bc693",
   "metadata": {},
   "outputs": [
    {
     "name": "stdout",
     "output_type": "stream",
     "text": [
      "w [[134.52528772]]\n",
      "b [71270.49244873]\n"
     ]
    }
   ],
   "source": [
    "# The following is to train the model using normal data\n",
    "# This is for comparison purpose\n",
    "lr10 = LinearRegression().fit(x_train10, y_train10)\n",
    "print('w',lr10.coef_)\n",
    "print('b',lr10.intercept_)"
   ]
  },
  {
   "cell_type": "code",
   "execution_count": 75,
   "id": "aaf5732a-604a-4fbb-9113-2488845e4d29",
   "metadata": {},
   "outputs": [
    {
     "name": "stdout",
     "output_type": "stream",
     "text": [
      "w [[105764.13349282]]\n",
      "b [340412.65957447]\n"
     ]
    }
   ],
   "source": [
    "# SciKit Learn Scaling with Regression\n",
    "std_scaler10 = StandardScaler()\n",
    "normalized_arr10 = std_scaler10.fit_transform(x_train10)\n",
    "reg10 = LinearRegression().fit(normalized_arr10, y_train10)\n",
    "print('w',reg10.coef_)\n",
    "print('b',reg10.intercept_)"
   ]
  },
  {
   "cell_type": "code",
   "execution_count": 76,
   "id": "969e7f50",
   "metadata": {},
   "outputs": [
    {
     "name": "stdout",
     "output_type": "stream",
     "text": [
      "iteration 9999: Last cost = 2.0581e+09: intercept = 3.4041e+05: weights = [[105764.13349281]]\n",
      "best w [[105764.1335]]\n",
      "best b 340412.6596\n"
     ]
    }
   ],
   "source": [
    "x_norm10, avg10, stddev10 = std_norm(x_train10)\n",
    "coef10, intercept10, _, _, _ = my.compute_gradient_descent(x_norm10, y_train10)"
   ]
  },
  {
   "cell_type": "code",
   "execution_count": 77,
   "id": "25e0df4c",
   "metadata": {},
   "outputs": [
    {
     "name": "stdout",
     "output_type": "stream",
     "text": [
      "[[134.52528772]] 71270.49244872801\n"
     ]
    }
   ],
   "source": [
    "coef_or10, intercept_or10 = reverse_bw_std_norm(coef10, intercept10, avg10, stddev10)\n",
    "print(coef_or10,intercept_or10)"
   ]
  },
  {
   "cell_type": "code",
   "execution_count": 78,
   "id": "a6a3e920",
   "metadata": {},
   "outputs": [],
   "source": [
    "myAsk = 2104\n",
    "myAsk_array10 = np.array(myAsk).reshape(-1,1)"
   ]
  },
  {
   "cell_type": "code",
   "execution_count": 79,
   "id": "3fdc34ab",
   "metadata": {},
   "outputs": [
    {
     "data": {
      "text/plain": [
       "array([[354311.69781212]])"
      ]
     },
     "execution_count": 79,
     "metadata": {},
     "output_type": "execute_result"
    }
   ],
   "source": [
    "lr10.predict(myAsk_array10)"
   ]
  },
  {
   "cell_type": "code",
   "execution_count": 80,
   "id": "66cc05bb",
   "metadata": {},
   "outputs": [
    {
     "data": {
      "text/plain": [
       "array([[354311.69781211]])"
      ]
     },
     "execution_count": 80,
     "metadata": {},
     "output_type": "execute_result"
    }
   ],
   "source": [
    "my.prediction(myAsk_array10, intercept_or10, coef_or10)"
   ]
  },
  {
   "cell_type": "code",
   "execution_count": 81,
   "id": "e5f223a0-c424-4621-9a5d-d2f8d34bb869",
   "metadata": {},
   "outputs": [
    {
     "data": {
      "text/plain": [
       "array([[354311.69781212]])"
      ]
     },
     "execution_count": 81,
     "metadata": {},
     "output_type": "execute_result"
    }
   ],
   "source": [
    "reg10.predict(std_scaler10.transform(myAsk_array10))"
   ]
  },
  {
   "cell_type": "code",
   "execution_count": 82,
   "id": "77510b1b",
   "metadata": {},
   "outputs": [],
   "source": [
    "# Predicting new query"
   ]
  },
  {
   "cell_type": "code",
   "execution_count": 83,
   "id": "f41c1c17",
   "metadata": {},
   "outputs": [],
   "source": [
    "myAskTwo = 3800\n",
    "myAsk_arrayTwo = np.array(myAskTwo).reshape(-1,1)"
   ]
  },
  {
   "cell_type": "code",
   "execution_count": 84,
   "id": "5fa6e80d",
   "metadata": {},
   "outputs": [
    {
     "data": {
      "text/plain": [
       "array([[582466.58578565]])"
      ]
     },
     "execution_count": 84,
     "metadata": {},
     "output_type": "execute_result"
    }
   ],
   "source": [
    "lr10.predict(myAsk_arrayTwo)"
   ]
  },
  {
   "cell_type": "code",
   "execution_count": 85,
   "id": "ae85f955",
   "metadata": {},
   "outputs": [
    {
     "data": {
      "text/plain": [
       "array([[582466.58578564]])"
      ]
     },
     "execution_count": 85,
     "metadata": {},
     "output_type": "execute_result"
    }
   ],
   "source": [
    "my.prediction(myAsk_arrayTwo, intercept_or10, coef_or10)"
   ]
  },
  {
   "cell_type": "code",
   "execution_count": 86,
   "id": "47ec93c2-df45-479b-9e24-adc3ee8e17f8",
   "metadata": {},
   "outputs": [
    {
     "data": {
      "text/plain": [
       "array([[582466.58578565]])"
      ]
     },
     "execution_count": 86,
     "metadata": {},
     "output_type": "execute_result"
    }
   ],
   "source": [
    "reg10.predict(std_scaler10.transform(myAsk_arrayTwo))"
   ]
  },
  {
   "cell_type": "markdown",
   "id": "5f07e01a",
   "metadata": {},
   "source": [
    "### Application of Finalized Function (Two Features Housing Data)"
   ]
  },
  {
   "cell_type": "code",
   "execution_count": 87,
   "id": "dc231f7d",
   "metadata": {},
   "outputs": [],
   "source": [
    "X2_train11 = df2[['sqft','rm']]\n",
    "y2_train11 = df2['price']\n",
    "X2_train11 = X2_train11.to_numpy()\n",
    "y2_train11 = y2_train11.to_numpy()"
   ]
  },
  {
   "cell_type": "code",
   "execution_count": 88,
   "id": "f1340e34",
   "metadata": {},
   "outputs": [
    {
     "name": "stdout",
     "output_type": "stream",
     "text": [
      "w [  139.21067402 -8738.01911233]\n",
      "b 89597.90954279748\n"
     ]
    }
   ],
   "source": [
    "# Normal data\n",
    "lr11 = LinearRegression().fit(X2_train11, y2_train11)\n",
    "print('w',lr11.coef_)\n",
    "print('b',lr11.intercept_)"
   ]
  },
  {
   "cell_type": "code",
   "execution_count": 89,
   "id": "56891e8b-312c-4566-b05e-f5e068606456",
   "metadata": {},
   "outputs": [
    {
     "name": "stdout",
     "output_type": "stream",
     "text": [
      "w [109447.79646964  -6578.35485416]\n",
      "b 340412.6595744681\n"
     ]
    }
   ],
   "source": [
    "# SciKit Learn Scaling with Regression\n",
    "std_scaler11 = StandardScaler()\n",
    "normalized_arr11 = std_scaler11.fit_transform(X2_train11)\n",
    "reg11 = LinearRegression().fit(normalized_arr11, y2_train11)\n",
    "print('w',reg11.coef_)\n",
    "print('b',reg11.intercept_)"
   ]
  },
  {
   "cell_type": "code",
   "execution_count": 90,
   "id": "eb27e531",
   "metadata": {},
   "outputs": [
    {
     "name": "stdout",
     "output_type": "stream",
     "text": [
      "iteration 9999: Last cost = 2.0433e+09: intercept = 3.4041e+05: weights = [[109447.79646964  -6578.35485416]]\n",
      "best w [[109447.7965]\n",
      " [ -6578.3549]]\n",
      "best b 340412.6596\n"
     ]
    }
   ],
   "source": [
    "# Our Function\n",
    "X2_norm11, avg11, stddev11 = std_norm(X2_train11)\n",
    "coef11, intercept11, _, _, _ = my.compute_gradient_descent(X2_norm11, y2_train11)"
   ]
  },
  {
   "cell_type": "code",
   "execution_count": 91,
   "id": "ff30a325",
   "metadata": {},
   "outputs": [
    {
     "name": "stdout",
     "output_type": "stream",
     "text": [
      "w [[  139.21067402]\n",
      " [-8738.01911233]]\n",
      "b 89597.90954279466\n"
     ]
    }
   ],
   "source": [
    "coef_or11, intercept_or11 = reverse_bw_std_norm(coef11, intercept11, avg11, stddev11)\n",
    "print('w',coef_or11)\n",
    "print('b',intercept_or11)"
   ]
  },
  {
   "cell_type": "markdown",
   "id": "77779a91-cc34-4db7-9161-bc94e4d489a8",
   "metadata": {},
   "source": [
    "#### SciKit Learn prediction"
   ]
  },
  {
   "cell_type": "code",
   "execution_count": 92,
   "id": "c41b3fee",
   "metadata": {},
   "outputs": [],
   "source": [
    "myAskOne = [2104, 3]\n",
    "myAsk_array11 = np.array(myAskOne).reshape(1,-1)"
   ]
  },
  {
   "cell_type": "code",
   "execution_count": 93,
   "id": "205ff3ba",
   "metadata": {},
   "outputs": [
    {
     "data": {
      "text/plain": [
       "array([356283.1103389])"
      ]
     },
     "execution_count": 93,
     "metadata": {},
     "output_type": "execute_result"
    }
   ],
   "source": [
    "lr11.predict(myAsk_array11)"
   ]
  },
  {
   "cell_type": "code",
   "execution_count": 94,
   "id": "893d9ca6",
   "metadata": {},
   "outputs": [
    {
     "data": {
      "text/plain": [
       "array([[356283.11033889]])"
      ]
     },
     "execution_count": 94,
     "metadata": {},
     "output_type": "execute_result"
    }
   ],
   "source": [
    "my.prediction(myAsk_array11, intercept_or11, coef_or11)"
   ]
  },
  {
   "cell_type": "code",
   "execution_count": 95,
   "id": "1b0eb29a-48d2-4bee-8552-200b0ac91248",
   "metadata": {},
   "outputs": [
    {
     "data": {
      "text/plain": [
       "array([356283.1103389])"
      ]
     },
     "execution_count": 95,
     "metadata": {},
     "output_type": "execute_result"
    }
   ],
   "source": [
    "reg11.predict(std_scaler11.transform(myAsk_array11))"
   ]
  },
  {
   "cell_type": "markdown",
   "id": "864ea913-9f29-4d0c-89e7-f5683f6b6f45",
   "metadata": {},
   "source": [
    "#### Making new query"
   ]
  },
  {
   "cell_type": "code",
   "execution_count": 96,
   "id": "81c00c30",
   "metadata": {},
   "outputs": [],
   "source": [
    "myAskTwo = [3800,4]\n",
    "myAskTwo_array11 = np.array(myAskTwo).reshape(1,-1)"
   ]
  },
  {
   "cell_type": "code",
   "execution_count": 97,
   "id": "5e4d7b94",
   "metadata": {},
   "outputs": [
    {
     "data": {
      "text/plain": [
       "array([583646.39436046])"
      ]
     },
     "execution_count": 97,
     "metadata": {},
     "output_type": "execute_result"
    }
   ],
   "source": [
    "lr11.predict(myAskTwo_array11)"
   ]
  },
  {
   "cell_type": "code",
   "execution_count": 98,
   "id": "608c643a",
   "metadata": {},
   "outputs": [
    {
     "data": {
      "text/plain": [
       "array([[583646.39436046]])"
      ]
     },
     "execution_count": 98,
     "metadata": {},
     "output_type": "execute_result"
    }
   ],
   "source": [
    "my.prediction(myAskTwo_array11, intercept_or11, coef_or11)"
   ]
  },
  {
   "cell_type": "code",
   "execution_count": 99,
   "id": "3a035cfe-d541-462c-9250-0e61d384672a",
   "metadata": {},
   "outputs": [
    {
     "data": {
      "text/plain": [
       "array([583646.39436046])"
      ]
     },
     "execution_count": 99,
     "metadata": {},
     "output_type": "execute_result"
    }
   ],
   "source": [
    "reg11.predict(std_scaler11.transform(myAskTwo_array11))"
   ]
  },
  {
   "cell_type": "markdown",
   "id": "174ecbab-8d65-48c9-821b-ae9e355f40ad",
   "metadata": {},
   "source": [
    "## Finalize Function of MinMax Scaling and the Function to Scale Back the Coefficient"
   ]
  },
  {
   "cell_type": "code",
   "execution_count": 100,
   "id": "4114aeef-f028-4e26-a8ad-d61bb5a182ff",
   "metadata": {},
   "outputs": [],
   "source": [
    "def minmax_scaling(X):\n",
    "    \"\"\"\n",
    "    This function is to replicate the same method as SciKit Learn MinMaxScaler\n",
    "    Formula is x(scaled) = x - min(x) / max(x) - min(x)\n",
    "    This function produce similar result SciKit Learn MinMaxScaler\n",
    "\n",
    "    INPUT:\n",
    "    X = The features dataset\n",
    "    Dataset should be in column features with shape (m,n) where m is number of observations\n",
    "    and n is total number of features\n",
    "\n",
    "    RETURN:\n",
    "    scaled = Scaled dataset\n",
    "    minimum = Minimum of each column features\n",
    "    range = Maximum of each column features MINUS Minimum of each column features\n",
    "    \"\"\"\n",
    "    ### the following check if data type is Series\n",
    "    ### if is Series convert to data frame\n",
    "    if isinstance(X, pd.Series):\n",
    "        X = X.to_frame()\n",
    "\n",
    "    if isinstance(X, pd.DataFrame):\n",
    "        X = X.to_numpy()\n",
    "\n",
    "    if X.ndim == 1:\n",
    "        np.array(X).reshape(-1,1)\n",
    "        \n",
    "    n = X.shape[1]\n",
    "    \n",
    "    maximum = X.max(axis=0)\n",
    "    minimum = X.min(axis=0)\n",
    "    range = (maximum - minimum)\n",
    "    scaled = (X - minimum) / range\n",
    "    return scaled, minimum.reshape(-1,1), range.reshape(-1,1)"
   ]
  },
  {
   "cell_type": "code",
   "execution_count": 101,
   "id": "7686b9b9-da6c-4366-a5ac-b0b77c5cd734",
   "metadata": {},
   "outputs": [],
   "source": [
    "def reverse_bw_minmax_scale(coef, intercept, min, range):\n",
    "    '''\n",
    "    The following is to reverse the coeficient and intercept after using minmax_scaling.\n",
    "    Please use the same minimum and range from minmax_scaling\n",
    "    This function can use for one feature or multiple features regression\n",
    "\n",
    "    INPUT:\n",
    "    coef = The weights / coefficient of the trained dataset\n",
    "    intercept = The intercept of the trained dataset\n",
    "    min = The minimum return from the function minmax_scaling\n",
    "    range = The range (max - min) for each column features from the function minmax_scaling\n",
    "\n",
    "    RETURN:\n",
    "    or_coef_gd = The weights / coefficient in un-scaled form\n",
    "    or_intercept_gd = The intercept in un-scaled form\n",
    "    \n",
    "    '''\n",
    "    or_coef_gd = coef / range\n",
    "    or_intercept_gd = intercept + np.negative(coef * min / range).sum()\n",
    "    return or_coef_gd, or_intercept_gd\n"
   ]
  },
  {
   "cell_type": "markdown",
   "id": "d571a990-56da-4e5c-a4b5-423e79a2ac4d",
   "metadata": {},
   "source": [
    "### Application of Finalized Function (One Feature Housing Data)"
   ]
  },
  {
   "cell_type": "code",
   "execution_count": 102,
   "id": "a5ee4e96-92e7-417f-8a5c-e7e996adf671",
   "metadata": {},
   "outputs": [],
   "source": [
    "x_train12 = df['sqft']\n",
    "y_train12 = df['price']\n",
    "x_train12 = x_train12.to_numpy().reshape(-1,1)\n",
    "y_train12 = y_train12.to_numpy().reshape(-1,1)"
   ]
  },
  {
   "cell_type": "code",
   "execution_count": 103,
   "id": "039c12b6-bbbc-486d-a06d-7c14e870cb21",
   "metadata": {},
   "outputs": [
    {
     "name": "stdout",
     "output_type": "stream",
     "text": [
      "w [[134.52528772]]\n",
      "b [71270.49244873]\n"
     ]
    }
   ],
   "source": [
    "# Normal data\n",
    "lr12 = LinearRegression().fit(x_train12, y_train12)\n",
    "print('w',lr12.coef_)\n",
    "print('b',lr12.intercept_)"
   ]
  },
  {
   "cell_type": "code",
   "execution_count": 104,
   "id": "7aef4377-0b8f-400f-bf21-7b9dca5c7506",
   "metadata": {},
   "outputs": [
    {
     "name": "stdout",
     "output_type": "stream",
     "text": [
      "w [[487788.6932736]]\n",
      "b [185886.03758637]\n"
     ]
    }
   ],
   "source": [
    "# SciKit Learn Scaling with Regression\n",
    "minmax_scaler12 = MinMaxScaler()\n",
    "normalized_arr12 = minmax_scaler12.fit_transform(x_train12)\n",
    "reg12 = LinearRegression().fit(normalized_arr12, y_train12)\n",
    "print('w',reg12.coef_)\n",
    "print('b',reg12.intercept_)"
   ]
  },
  {
   "cell_type": "code",
   "execution_count": 105,
   "id": "b554409c-998e-4d24-b839-6e18b2463928",
   "metadata": {},
   "outputs": [
    {
     "name": "stdout",
     "output_type": "stream",
     "text": [
      "iteration 199999: Last cost = 2.0581e+09: intercept = 1.8589e+05: weights = [[487788.69327352]]\n",
      "best w [[487788.6933]]\n",
      "best b 185886.0376\n"
     ]
    }
   ],
   "source": [
    "# Our Function\n",
    "x_norm12, min12, range12 = minmax_scaling(x_train12)\n",
    "coef12, intercept12, _, _, _ = my.compute_gradient_descent(x_norm12, y_train12, iterations=200000)"
   ]
  },
  {
   "cell_type": "code",
   "execution_count": 106,
   "id": "3eccd69a-3891-443a-9345-d4b1937d4501",
   "metadata": {},
   "outputs": [
    {
     "name": "stdout",
     "output_type": "stream",
     "text": [
      "w [[134.52528772]]\n",
      "b 71270.49244877003\n"
     ]
    }
   ],
   "source": [
    "coef_or12, intercept_or12 = reverse_bw_minmax_scale(coef12, intercept12, min12, range12)\n",
    "print('w',coef_or12)\n",
    "print('b',intercept_or12)"
   ]
  },
  {
   "cell_type": "code",
   "execution_count": 107,
   "id": "3c34fe11-566f-4de9-acde-2a7351191fb0",
   "metadata": {},
   "outputs": [],
   "source": [
    "myAsk = 2104\n",
    "myAsk_array12 = np.array(myAsk).reshape(-1,1)"
   ]
  },
  {
   "cell_type": "code",
   "execution_count": 108,
   "id": "f8be1716-7070-4b40-821c-4b3c28551e01",
   "metadata": {},
   "outputs": [
    {
     "data": {
      "text/plain": [
       "array([[354311.69781212]])"
      ]
     },
     "execution_count": 108,
     "metadata": {},
     "output_type": "execute_result"
    }
   ],
   "source": [
    "lr12.predict(myAsk_array12)"
   ]
  },
  {
   "cell_type": "code",
   "execution_count": 109,
   "id": "20acbbc2-e184-4798-a62c-6d9009884945",
   "metadata": {},
   "outputs": [
    {
     "data": {
      "text/plain": [
       "array([[354311.69781212]])"
      ]
     },
     "execution_count": 109,
     "metadata": {},
     "output_type": "execute_result"
    }
   ],
   "source": [
    "my.prediction(myAsk_array12, intercept_or12, coef_or12)"
   ]
  },
  {
   "cell_type": "code",
   "execution_count": 110,
   "id": "6a4f84f6-f5bb-4c18-9da2-64d99c0e5748",
   "metadata": {},
   "outputs": [
    {
     "data": {
      "text/plain": [
       "array([[354311.69781212]])"
      ]
     },
     "execution_count": 110,
     "metadata": {},
     "output_type": "execute_result"
    }
   ],
   "source": [
    "reg12.predict(minmax_scaler12.transform(myAsk_array12))"
   ]
  },
  {
   "cell_type": "code",
   "execution_count": 111,
   "id": "0075e423-187d-4a3c-979c-5ee1cb7e03ad",
   "metadata": {},
   "outputs": [],
   "source": [
    "# Predicting new query"
   ]
  },
  {
   "cell_type": "code",
   "execution_count": 112,
   "id": "ab02d61d-a179-4c69-ae6f-8afa38b9750d",
   "metadata": {},
   "outputs": [],
   "source": [
    "myAskTwo = 3800\n",
    "myAsk_arrayTwo = np.array(myAskTwo).reshape(-1,1)"
   ]
  },
  {
   "cell_type": "code",
   "execution_count": 113,
   "id": "b2a11f32-f33e-4a28-9c3c-7ffe64415cdc",
   "metadata": {},
   "outputs": [
    {
     "data": {
      "text/plain": [
       "array([[582466.58578565]])"
      ]
     },
     "execution_count": 113,
     "metadata": {},
     "output_type": "execute_result"
    }
   ],
   "source": [
    "lr12.predict(myAsk_arrayTwo)"
   ]
  },
  {
   "cell_type": "code",
   "execution_count": 114,
   "id": "bdf843de-86cd-474f-bd99-28f9b3c94d48",
   "metadata": {},
   "outputs": [
    {
     "data": {
      "text/plain": [
       "array([[582466.58578561]])"
      ]
     },
     "execution_count": 114,
     "metadata": {},
     "output_type": "execute_result"
    }
   ],
   "source": [
    "my.prediction(myAsk_arrayTwo, intercept_or12, coef_or12)"
   ]
  },
  {
   "cell_type": "code",
   "execution_count": 115,
   "id": "657fefb1-3fc8-4615-9c5f-2c3ef892a1fd",
   "metadata": {},
   "outputs": [
    {
     "data": {
      "text/plain": [
       "array([[582466.58578565]])"
      ]
     },
     "execution_count": 115,
     "metadata": {},
     "output_type": "execute_result"
    }
   ],
   "source": [
    "reg12.predict(minmax_scaler12.transform(myAsk_arrayTwo))"
   ]
  },
  {
   "cell_type": "markdown",
   "id": "ceabecd5-8868-4004-86c9-744d4cca1b0e",
   "metadata": {},
   "source": [
    "### Application of Finalized Function (Two Features Housing Data)"
   ]
  },
  {
   "cell_type": "code",
   "execution_count": 116,
   "id": "46661edc-451e-41fc-9891-a361d19040d6",
   "metadata": {},
   "outputs": [],
   "source": [
    "X2_train14 = df2[['sqft','rm']]\n",
    "y2_train14 = df2['price']\n",
    "X2_train14 = X2_train14.to_numpy()\n",
    "y2_train14 = y2_train14.to_numpy()"
   ]
  },
  {
   "cell_type": "code",
   "execution_count": 117,
   "id": "0353bd4d-5c07-415b-9822-e014cba9ddb6",
   "metadata": {},
   "outputs": [
    {
     "name": "stdout",
     "output_type": "stream",
     "text": [
      "w [  139.21067402 -8738.01911233]\n",
      "b 89597.90954279748\n"
     ]
    }
   ],
   "source": [
    "# Normal data\n",
    "lr14 = LinearRegression().fit(X2_train14, y2_train14)\n",
    "print('w',lr14.coef_)\n",
    "print('b',lr14.intercept_)"
   ]
  },
  {
   "cell_type": "code",
   "execution_count": 118,
   "id": "d4ec4830-6049-4221-b7ba-84c9395b9e67",
   "metadata": {},
   "outputs": [
    {
     "name": "stdout",
     "output_type": "stream",
     "text": [
      "w [504777.90398791 -34952.07644931]\n",
      "b 199467.38469348656\n"
     ]
    }
   ],
   "source": [
    "# SciKit Learn Scaling with Regression\n",
    "minmax_scaler14 = MinMaxScaler()\n",
    "normalized_arr14 = minmax_scaler14.fit_transform(X2_train14)\n",
    "reg14 = LinearRegression().fit(normalized_arr14, y2_train14)\n",
    "print('w',reg14.coef_)\n",
    "print('b',reg14.intercept_)"
   ]
  },
  {
   "cell_type": "code",
   "execution_count": 119,
   "id": "9a208bd1-574b-4adc-ade3-3345e04c46ea",
   "metadata": {},
   "outputs": [
    {
     "name": "stdout",
     "output_type": "stream",
     "text": [
      "iteration 199999: Last cost = 2.0433e+09: intercept = 1.9947e+05: weights = [[504777.90398781 -34952.07644922]]\n",
      "best w [[504777.904 ]\n",
      " [-34952.0764]]\n",
      "best b 199467.3847\n"
     ]
    }
   ],
   "source": [
    "# Our Function\n",
    "X2_norm14, min14, range14 = minmax_scaling(X2_train14)\n",
    "coef14, intercept14, _, _, _ = my.compute_gradient_descent(X2_norm14, y2_train14, iterations=200000)"
   ]
  },
  {
   "cell_type": "code",
   "execution_count": 120,
   "id": "f5903ddb-9a75-4845-9fe8-48c1d21595ac",
   "metadata": {},
   "outputs": [
    {
     "name": "stdout",
     "output_type": "stream",
     "text": [
      "w [[  139.21067402]\n",
      " [-8738.0191123 ]]\n",
      "b 89597.9095427743\n"
     ]
    }
   ],
   "source": [
    "coef_or14, intercept_or14 = reverse_bw_minmax_scale(coef14, intercept14, min14, range14)\n",
    "print('w',coef_or14)\n",
    "print('b',intercept_or14)"
   ]
  },
  {
   "cell_type": "code",
   "execution_count": 121,
   "id": "b1225007-abe8-4400-9860-5273375e0973",
   "metadata": {},
   "outputs": [],
   "source": [
    "myAskOne = [2104, 3]\n",
    "myAsk_array14 = np.array(myAskOne).reshape(1,-1)"
   ]
  },
  {
   "cell_type": "code",
   "execution_count": 122,
   "id": "469d5c87-2428-4533-934a-103409de37e2",
   "metadata": {},
   "outputs": [
    {
     "data": {
      "text/plain": [
       "array([356283.1103389])"
      ]
     },
     "execution_count": 122,
     "metadata": {},
     "output_type": "execute_result"
    }
   ],
   "source": [
    "lr14.predict(myAsk_array14)"
   ]
  },
  {
   "cell_type": "code",
   "execution_count": 123,
   "id": "5edb677d-a886-4673-9d0a-2f5d0a648f78",
   "metadata": {},
   "outputs": [
    {
     "data": {
      "text/plain": [
       "array([[356283.11033889]])"
      ]
     },
     "execution_count": 123,
     "metadata": {},
     "output_type": "execute_result"
    }
   ],
   "source": [
    "my.prediction(myAsk_array14, intercept_or14, coef_or14)"
   ]
  },
  {
   "cell_type": "code",
   "execution_count": 124,
   "id": "6e215547-7cbb-4017-8af9-2f09a10aef7c",
   "metadata": {},
   "outputs": [
    {
     "data": {
      "text/plain": [
       "array([356283.1103389])"
      ]
     },
     "execution_count": 124,
     "metadata": {},
     "output_type": "execute_result"
    }
   ],
   "source": [
    "reg14.predict(minmax_scaler14.transform(myAsk_array14))"
   ]
  },
  {
   "cell_type": "code",
   "execution_count": 125,
   "id": "355de9e8-4f86-47a7-b6ab-609167038614",
   "metadata": {},
   "outputs": [],
   "source": [
    "# Predicting new query"
   ]
  },
  {
   "cell_type": "code",
   "execution_count": 126,
   "id": "c70d522a-e99f-48a6-bd84-033d2e0eb277",
   "metadata": {},
   "outputs": [],
   "source": [
    "myAskTwo = [3800,4]\n",
    "myAsk_arrayTwo = np.array(myAskTwo).reshape(1,-1)"
   ]
  },
  {
   "cell_type": "code",
   "execution_count": 127,
   "id": "5592c552-694b-4879-9777-372cd7d2dcf8",
   "metadata": {},
   "outputs": [
    {
     "data": {
      "text/plain": [
       "array([583646.39436046])"
      ]
     },
     "execution_count": 127,
     "metadata": {},
     "output_type": "execute_result"
    }
   ],
   "source": [
    "lr14.predict(myAsk_arrayTwo)"
   ]
  },
  {
   "cell_type": "code",
   "execution_count": 128,
   "id": "91e8c66d-46cf-474d-849e-93d73ccd4b8d",
   "metadata": {},
   "outputs": [
    {
     "data": {
      "text/plain": [
       "array([[583646.39436043]])"
      ]
     },
     "execution_count": 128,
     "metadata": {},
     "output_type": "execute_result"
    }
   ],
   "source": [
    "my.prediction(myAsk_arrayTwo, intercept_or14, coef_or14)"
   ]
  },
  {
   "cell_type": "code",
   "execution_count": 129,
   "id": "8125ec28-1770-404c-96a8-9fbed9bc56e9",
   "metadata": {},
   "outputs": [
    {
     "data": {
      "text/plain": [
       "array([583646.39436046])"
      ]
     },
     "execution_count": 129,
     "metadata": {},
     "output_type": "execute_result"
    }
   ],
   "source": [
    "reg14.predict(minmax_scaler14.transform(myAsk_arrayTwo))"
   ]
  },
  {
   "cell_type": "markdown",
   "id": "1ec62fd1-94fe-4368-b288-f49e2e9b0bca",
   "metadata": {},
   "source": [
    "## End Note 10"
   ]
  },
  {
   "cell_type": "code",
   "execution_count": null,
   "id": "a3416cfc-e3d4-44c9-b2b5-a4ee317f85cf",
   "metadata": {},
   "outputs": [],
   "source": []
  }
 ],
 "metadata": {
  "kernelspec": {
   "display_name": "Python 3 (ipykernel)",
   "language": "python",
   "name": "python3"
  },
  "language_info": {
   "codemirror_mode": {
    "name": "ipython",
    "version": 3
   },
   "file_extension": ".py",
   "mimetype": "text/x-python",
   "name": "python",
   "nbconvert_exporter": "python",
   "pygments_lexer": "ipython3",
   "version": "3.10.13"
  }
 },
 "nbformat": 4,
 "nbformat_minor": 5
}
