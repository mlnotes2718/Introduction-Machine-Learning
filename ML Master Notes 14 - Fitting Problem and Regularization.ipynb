{
 "cells": [
  {
   "cell_type": "markdown",
   "id": "610f4f08",
   "metadata": {},
   "source": [
    "# Machine Learning Master Notes 14 - Fitting Problem and Regularization "
   ]
  },
  {
   "cell_type": "markdown",
   "id": "3efbaf8c-ec71-48ce-8515-128fea022830",
   "metadata": {},
   "source": [
    "### Prepare Environment"
   ]
  },
  {
   "cell_type": "code",
   "execution_count": 1,
   "id": "7d8a9716",
   "metadata": {},
   "outputs": [],
   "source": [
    "%matplotlib inline\n",
    "\n",
    "# Essential libraries\n",
    "import numpy as np\n",
    "import pandas as pd\n",
    "\n",
    "# Helper Function\n",
    "import math\n",
    "import random\n",
    "import datetime\n",
    "from datetime import datetime\n",
    "\n",
    "# Graphical component\n",
    "import matplotlib.pyplot as plt\n",
    "from matplotlib.gridspec import GridSpec\n",
    "from matplotlib import cm\n",
    "\n",
    "# SciKit Learn Data Splitting and Pipeline\n",
    "from sklearn.model_selection import train_test_split\n",
    "from sklearn.pipeline import Pipeline\n",
    "\n",
    "# SciKit Learn Pre-processing and Feature Scaling\n",
    "from sklearn import preprocessing\n",
    "from sklearn.preprocessing import PolynomialFeatures\n",
    "from sklearn.preprocessing import StandardScaler\n",
    "from sklearn.preprocessing import MinMaxScaler\n",
    "\n",
    "# SciKit Learn Regression Model\n",
    "from sklearn import linear_model\n",
    "from sklearn.linear_model import LinearRegression\n",
    "from sklearn.linear_model import Ridge\n",
    "from sklearn.linear_model import Lasso\n",
    "\n",
    "# The following file contain the finalized gradient descent, cost function program \n",
    "import MyRegressionProgramV1 as my\n",
    "import testFile as test\n"
   ]
  },
  {
   "cell_type": "markdown",
   "id": "8b670d26-5155-4a24-a794-4c791914ad9d",
   "metadata": {},
   "source": [
    "## Regression Model: Cost Function and Gradient Descent Summary "
   ]
  },
  {
   "cell_type": "markdown",
   "id": "762a8b5c-3f03-43b7-be62-2c7b358cb8eb",
   "metadata": {},
   "source": [
    "Hypothesis: $$f_{\\vec{w},b}(\\vec{X}^{(i)})=b + \\sum\\limits_{j=0}^{n-1} \\vec{w}_{j}\\vec{X}_{j}^{(i)}$$\n",
    "\n",
    "\n",
    "Cost Function:\t$$J(\\vec w, b) = \\frac{1}{2m}   \\sum\\limits_{i=0}^{m-1} (f_{\\vec w,b}(\\vec{X}^{(i)})-\\vec y^{(i)})^{2}$$ \n",
    "$$J(\\vec w, b) = \\frac{1}{2m} \\sum\\limits_{i=0}^{m-1} \\left(\\left(b + \\sum\\limits_{j=0}^{n-1} \\vec w_{j} \\vec X_{j}^{(i)} \\right)-\\vec y^{(i)}\\right)^{2}$$\n",
    "$$J(\\vec w, b) = \\frac{1}{2m} \\sum\\limits_{i=0}^{m-1} \\left(\\left(b + \\vec X^{(i)} \\cdot \\vec w \\right)-\\vec y^{(i)}\\right)^{2}$$\n",
    "$$$$\n",
    "Gradient Descent Algorithm: $$\\begin{align*} \\text{repeat}&\\text{ until convergence:} \\; \\lbrace \\newline\n",
    "\\;  \\vec w &= \\vec w -  \\alpha \\frac{\\partial J(\\vec{w},b)}{\\partial \\vec{w}}  \\; \\newline \n",
    " b &= b -  \\alpha \\frac{\\partial J(\\vec{w},b)}{\\partial b}  \\newline \\rbrace\n",
    "\\end{align*}$$\n",
    "\n",
    "\n",
    "Partial Derivatives: $$\n",
    "\\begin{align}\n",
    "\\frac{\\partial J(\\vec{w},b)}{\\partial \\vec{w}}  &= \\frac{1}{m} \\sum\\limits_{i = 0}^{m-1} (f_{\\vec{w},b}(\\vec{X}^{(i)}) - y^{(i)})\\vec{X}^{(i)} \\\\\n",
    "  \\frac{\\partial J(\\vec{w},b)}{\\partial b}  &= \\frac{1}{m} \\sum\\limits_{i = 0}^{m-1} (f_{\\vec{w},b}(\\vec{X}^{(i)}) - y^{(i)}) \\\\\n",
    "\\end{align}\n",
    "$$\n",
    "\n",
    "Full Implementation of Gradient Descent:\n",
    "$$\\begin{align*} \\text{repeat}&\\text{ until convergence:} \\; \\lbrace \\newline\n",
    "\\;  \\vec{w} &= \\vec{w} -  \\alpha \\frac{1}{m} \\sum\\limits_{i = 0}^{m-1} ((\\vec{X}^{(i)}\\cdot \\vec{w} + b) - y^{(i)})\\vec{X}^{(i)}  \\; \\newline \n",
    " b &= b -  \\alpha \\frac{1}{m} \\sum\\limits_{i = 0}^{m-1} ((\\vec{X}^{(i)}\\cdot \\vec{w} + b) - y^{(i)})  \\newline \\rbrace\n",
    "\\end{align*}$$"
   ]
  },
  {
   "cell_type": "markdown",
   "id": "34c37236-45bc-4d7f-8bc6-4917934eb9b7",
   "metadata": {},
   "source": [
    "## Problem with Overfitting and Underfitting"
   ]
  },
  {
   "cell_type": "markdown",
   "id": "2342db0c-a7bb-440e-8505-66e5f1e86560",
   "metadata": {},
   "source": [
    "While implementing Regression models, we can see that sometimes, the prediction is not as accurate. Take linear regression for example, if the data looks more like a curve , linear regression will not be as accurate. We can add polynomial features to improve our model. However, if we apply polynomial features that are too complex, such as 40 degrees polynomial features; this may cause prediction to be very erratic. \n",
    "\n",
    "**The problem of using a straight line to predict a curve is known as underfitting problem. The problem of using too complex polynomial features for prediction is known as overfitting problem.**\n",
    "\n",
    "This problem of overfitting and underfitting applies to not only regression models. It also happens in other machine learning models."
   ]
  },
  {
   "cell_type": "markdown",
   "id": "9e94312f-991f-4d3c-ae3f-077ec8e96cbf",
   "metadata": {},
   "source": [
    "### Sample Data"
   ]
  },
  {
   "cell_type": "code",
   "execution_count": 2,
   "id": "87b71564-f5e4-4df9-8504-5edb9c557a83",
   "metadata": {},
   "outputs": [],
   "source": [
    "# Preparing Random Sample Data\n",
    "np.random.seed(3)\n",
    "n_samples = 40\n",
    "X = np.sort(np.random.rand(n_samples))\n",
    "y = np.cos(1.5 * np.pi * X) + np.random.randn(n_samples) * 0.2"
   ]
  },
  {
   "cell_type": "markdown",
   "id": "46d805dd",
   "metadata": {},
   "source": [
    "### Underfiting"
   ]
  },
  {
   "cell_type": "code",
   "execution_count": 3,
   "id": "396d519e",
   "metadata": {},
   "outputs": [],
   "source": [
    "# Linear regression\n",
    "degree=1\n",
    "x_train = X.reshape(-1,1)\n",
    "polynomial_features= PolynomialFeatures(degree=degree,include_bias=False)\n",
    "x_poly = polynomial_features.fit_transform(x_train)\n",
    "lr_model = LinearRegression()\n",
    "lr = lr_model.fit(x_poly,y)\n",
    "y_pred_1 = lr.predict(x_poly)"
   ]
  },
  {
   "cell_type": "code",
   "execution_count": 4,
   "id": "b38190f4",
   "metadata": {},
   "outputs": [
    {
     "data": {
      "image/png": "[encoded data removed]",
      "text/plain": [
       "<Figure size 800x500 with 1 Axes>"
      ]
     },
     "metadata": {},
     "output_type": "display_data"
    }
   ],
   "source": [
    "plt.close('all')\n",
    "fig, (ax1) = plt.subplots(1, 1, figsize=(8, 5))\n",
    "ax1.scatter(X,y,c='b', marker='x')\n",
    "ax1.plot(X, y_pred_1, c='g')\n",
    "ax1.set_title('Sample Data')\n",
    "ax1.set_xlabel('x')\n",
    "ax1.set_ylabel('y')\n",
    "plt.show()"
   ]
  },
  {
   "cell_type": "code",
   "execution_count": 5,
   "id": "7f27afcb-8cba-49f5-ada4-b000b12613b5",
   "metadata": {},
   "outputs": [
    {
     "data": {
      "text/plain": [
       "0.10738818029822389"
      ]
     },
     "execution_count": 5,
     "metadata": {},
     "output_type": "execute_result"
    }
   ],
   "source": [
    "underfit_cost = my.cost_function(x_poly,y,lr.intercept_,lr.coef_)\n",
    "underfit_cost"
   ]
  },
  {
   "attachments": {},
   "cell_type": "markdown",
   "id": "f241ea3e-8852-4472-952e-3a8e3fadb575",
   "metadata": {},
   "source": [
    "Since the straight line could not fit our sample data well. We consider the prediction line **Under Fit**. This is also known as **High Bias** prediction. \n",
    "\n",
    "Based on the chart above, if we want to predict our y when our x is 0.6, then our prediction will be much higher than the actual data. Under fitting model produce **inaccurate prediction or bias prediction**."
   ]
  },
  {
   "cell_type": "markdown",
   "id": "bad29f3b",
   "metadata": {},
   "source": [
    "### Overfiting"
   ]
  },
  {
   "cell_type": "code",
   "execution_count": 6,
   "id": "2d6ccdc4",
   "metadata": {},
   "outputs": [
    {
     "data": {
      "text/plain": [
       "array(['x0', 'x0^2', 'x0^3', 'x0^4', 'x0^5', 'x0^6', 'x0^7', 'x0^8',\n",
       "       'x0^9', 'x0^10', 'x0^11', 'x0^12', 'x0^13', 'x0^14', 'x0^15',\n",
       "       'x0^16', 'x0^17', 'x0^18', 'x0^19', 'x0^20', 'x0^21', 'x0^22',\n",
       "       'x0^23', 'x0^24', 'x0^25', 'x0^26', 'x0^27', 'x0^28', 'x0^29',\n",
       "       'x0^30', 'x0^31', 'x0^32', 'x0^33', 'x0^34', 'x0^35', 'x0^36',\n",
       "       'x0^37', 'x0^38', 'x0^39', 'x0^40'], dtype=object)"
      ]
     },
     "execution_count": 6,
     "metadata": {},
     "output_type": "execute_result"
    }
   ],
   "source": [
    "# Polynomial Regression\n",
    "degree=40\n",
    "x_train = X.reshape(-1,1)\n",
    "polynomial_features= PolynomialFeatures(degree=degree,include_bias=False)\n",
    "x_poly = polynomial_features.fit_transform(x_train)\n",
    "lr = lr_model.fit(x_poly,y)\n",
    "y_pred_40 = lr.predict(x_poly)\n",
    "polynomial_features.get_feature_names_out()"
   ]
  },
  {
   "cell_type": "code",
   "execution_count": 7,
   "id": "12405538",
   "metadata": {},
   "outputs": [
    {
     "data": {
      "image/png": "[encoded data removed]",
      "text/plain": [
       "<Figure size 800x500 with 1 Axes>"
      ]
     },
     "metadata": {},
     "output_type": "display_data"
    }
   ],
   "source": [
    "plt.close('all')\n",
    "fig, (ax1) = plt.subplots(1, 1, figsize=(8, 5))\n",
    "#ax1.plot(x, y_ideal, c='r')\n",
    "ax1.scatter(X,y,c='b', marker='x')\n",
    "ax1.plot(X, y_pred_40, c='g')\n",
    "ax1.set_title('Sample Data')\n",
    "ax1.set_xlabel('x')\n",
    "ax1.set_ylabel('y')\n",
    "plt.show()"
   ]
  },
  {
   "attachments": {},
   "cell_type": "markdown",
   "id": "983387ed-20a4-4469-a749-8df29e2e10a6",
   "metadata": {},
   "source": [
    "In the above example, we use 40 degrees of polynomial features. This model fits our sample data too well. We consider the prediction line **Over Fitting**. This is also known as **High Variance** prediction. \n",
    "\n",
    "Why over fitting is a problem? This is because if a prediction line is too precise, we may get inaccurate prediction for new data that is far away from the prediction. What we need is a trend so that new data can be fitted into the prediction.\n",
    "\n",
    "While our algorithm's aim to reduce the cost function (i.e. errors of our prediction), please be aware that zero error may not be the desire outcome as it will not generalized well with new data query."
   ]
  },
  {
   "cell_type": "code",
   "execution_count": 8,
   "id": "6a0c3754-3014-4bb4-9c59-b5367cdc3d05",
   "metadata": {},
   "outputs": [
    {
     "data": {
      "text/plain": [
       "0.00882046858920707"
      ]
     },
     "execution_count": 8,
     "metadata": {},
     "output_type": "execute_result"
    }
   ],
   "source": [
    "overfit_cost = my.cost_function(x_poly,y,lr.intercept_,lr.coef_)\n",
    "overfit_cost"
   ]
  },
  {
   "cell_type": "markdown",
   "id": "8d3c495e-077f-4dc3-b760-a0773dc4a287",
   "metadata": {},
   "source": [
    "We can demonstrate by predicting x from 0 to 1."
   ]
  },
  {
   "cell_type": "code",
   "execution_count": 9,
   "id": "e8c829f6-e473-4a48-96ec-199f08f89381",
   "metadata": {},
   "outputs": [],
   "source": [
    "lnpredict = np.linspace(0,1,100).reshape(-1,1)\n",
    "lnpredict_poly = polynomial_features.transform(lnpredict)\n",
    "lnprediction = lr.predict(lnpredict_poly)"
   ]
  },
  {
   "cell_type": "code",
   "execution_count": 10,
   "id": "13306193-3530-4ff9-861b-4ea0aff7db76",
   "metadata": {},
   "outputs": [
    {
     "data": {
      "image/png": "[encoded data removed]",
      "text/plain": [
       "<Figure size 800x500 with 1 Axes>"
      ]
     },
     "metadata": {},
     "output_type": "display_data"
    }
   ],
   "source": [
    "plt.close('all')\n",
    "fig, (ax1) = plt.subplots(1, 1, figsize=(8, 5))\n",
    "#ax1.plot(x, y_ideal, c='r')\n",
    "ax1.scatter(X,y,c='b', marker='x')\n",
    "ax1.plot(X, y_pred_40, c='g')\n",
    "ax1.plot(lnpredict,lnprediction, c='r')\n",
    "ax1.set_ylim(-1.5,1.5)\n",
    "ax1.set_title('Sample Data')\n",
    "ax1.set_xlabel('x')\n",
    "ax1.set_ylabel('y')\n",
    "plt.show()"
   ]
  },
  {
   "cell_type": "markdown",
   "id": "f3d2679c-2947-44d6-a4a9-d0ccc1792735",
   "metadata": {},
   "source": [
    "The data at the beginning and the end shows predictions that when off the charts."
   ]
  },
  {
   "cell_type": "markdown",
   "id": "6e21b95c-b9bc-4ad5-815a-96ef5839f4fa",
   "metadata": {},
   "source": [
    "If we limit prediction from 0.05 to 0.9. Please note the change in y limit."
   ]
  },
  {
   "cell_type": "code",
   "execution_count": 11,
   "id": "bb257b29-98bc-42c9-a05d-4e97f05d9eb0",
   "metadata": {},
   "outputs": [],
   "source": [
    "lnpredict2 = np.linspace(0.05,0.9,100).reshape(-1,1)\n",
    "lnpredict_poly2 = polynomial_features.transform(lnpredict2)\n",
    "lnprediction2 = lr.predict(lnpredict_poly2)"
   ]
  },
  {
   "cell_type": "code",
   "execution_count": 12,
   "id": "2990b022-7438-4023-8529-5c9a2fb76e67",
   "metadata": {},
   "outputs": [
    {
     "data": {
      "image/png": "[encoded data removed]",
      "text/plain": [
       "<Figure size 800x500 with 1 Axes>"
      ]
     },
     "metadata": {},
     "output_type": "display_data"
    }
   ],
   "source": [
    "plt.close('all')\n",
    "fig, (ax1) = plt.subplots(1, 1, figsize=(8, 5))\n",
    "#ax1.plot(x, y_ideal, c='r')\n",
    "ax1.scatter(X,y,c='b', marker='x')\n",
    "ax1.plot(X, y_pred_40, c='g')\n",
    "ax1.plot(lnpredict2,lnprediction2, c='r')\n",
    "ax1.set_title('Classfication Data')\n",
    "ax1.set_xlabel('x')\n",
    "ax1.set_ylabel('y')\n",
    "plt.show()"
   ]
  },
  {
   "cell_type": "markdown",
   "id": "d9213f8a",
   "metadata": {},
   "source": [
    "### Just Right Fitting"
   ]
  },
  {
   "cell_type": "code",
   "execution_count": 13,
   "id": "215ea7f8",
   "metadata": {},
   "outputs": [
    {
     "data": {
      "text/plain": [
       "array(['x0', 'x0^2', 'x0^3'], dtype=object)"
      ]
     },
     "execution_count": 13,
     "metadata": {},
     "output_type": "execute_result"
    }
   ],
   "source": [
    "# Polynomial Regression\n",
    "degree=3\n",
    "x_train = X.reshape(-1,1)\n",
    "polynomial_features= PolynomialFeatures(degree=degree,include_bias=False)\n",
    "x_poly = polynomial_features.fit_transform(x_train)\n",
    "lr = lr_model.fit(x_poly,y)\n",
    "y_pred_4 = lr.predict(x_poly)\n",
    "polynomial_features.get_feature_names_out()"
   ]
  },
  {
   "cell_type": "code",
   "execution_count": 14,
   "id": "c2651ca7",
   "metadata": {},
   "outputs": [
    {
     "data": {
      "image/png": "[encoded data removed]",
      "text/plain": [
       "<Figure size 800x500 with 1 Axes>"
      ]
     },
     "metadata": {},
     "output_type": "display_data"
    }
   ],
   "source": [
    "plt.close('all')\n",
    "fig, (ax1) = plt.subplots(1, 1, figsize=(8, 5))\n",
    "#ax1.plot(x, y_ideal, c='r')\n",
    "ax1.scatter(X,y,c='b', marker='x')\n",
    "ax1.plot(X, y_pred_4, c='g')\n",
    "ax1.set_title('Classfication Data')\n",
    "ax1.set_xlabel('x')\n",
    "ax1.set_ylabel('y')\n",
    "plt.show()"
   ]
  },
  {
   "cell_type": "code",
   "execution_count": 15,
   "id": "41123631-da89-4e66-a821-5bfe87a80fc8",
   "metadata": {},
   "outputs": [
    {
     "data": {
      "text/plain": [
       "0.02293008476857425"
      ]
     },
     "execution_count": 15,
     "metadata": {},
     "output_type": "execute_result"
    }
   ],
   "source": [
    "justRight_cost = my.cost_function(x_poly,y,lr.intercept_,lr.coef_)\n",
    "justRight_cost"
   ]
  },
  {
   "cell_type": "code",
   "execution_count": 16,
   "id": "467f2b2d-d52b-4fe3-89d4-2d3ab37edd7d",
   "metadata": {},
   "outputs": [],
   "source": [
    "lnpredict3 = np.linspace(0,1,100).reshape(-1,1)\n",
    "lnpredict_poly3 = polynomial_features.transform(lnpredict3)\n",
    "lnprediction3 = lr.predict(lnpredict_poly3)"
   ]
  },
  {
   "cell_type": "code",
   "execution_count": 17,
   "id": "e5f6f638-1b5e-4248-b50c-560f9407df8f",
   "metadata": {},
   "outputs": [
    {
     "data": {
      "image/png": "[encoded data removed]",
      "text/plain": [
       "<Figure size 800x500 with 1 Axes>"
      ]
     },
     "metadata": {},
     "output_type": "display_data"
    }
   ],
   "source": [
    "plt.close('all')\n",
    "fig, (ax1) = plt.subplots(1, 1, figsize=(8, 5))\n",
    "#ax1.plot(x, y_ideal, c='r')\n",
    "ax1.scatter(X,y,c='b', marker='x')\n",
    "ax1.plot(X, y_pred_4, c='g', marker='o')\n",
    "ax1.plot(lnpredict3,lnprediction3, c='r')\n",
    "ax1.set_title('Classfication Data')\n",
    "ax1.set_xlabel('x')\n",
    "ax1.set_ylabel('y')\n",
    "plt.show()"
   ]
  },
  {
   "cell_type": "markdown",
   "id": "3b084300-f9c5-43e1-94d5-20f46955511b",
   "metadata": {},
   "source": [
    "The above charts shows that with just right fitting, our prediction on the training data and our prediction from 0 to 1 overlaps each other. "
   ]
  },
  {
   "attachments": {},
   "cell_type": "markdown",
   "id": "194a94ac-4472-4327-8124-617db71e262d",
   "metadata": {},
   "source": [
    "In the example above, the prediction move along where the data is but it will not try to fit every single data. We can say that this model generalized well.\n",
    "\n",
    "In machine learning, we do not want under-fitting or over-fitting model. A prediction line that follows the trend but not too precise can generalized well so that it can be used to predict new query."
   ]
  },
  {
   "cell_type": "markdown",
   "id": "1768cd23",
   "metadata": {},
   "source": [
    "## Objective of Cost Function"
   ]
  },
  {
   "attachments": {},
   "cell_type": "markdown",
   "id": "e91a16e4-0b92-4728-a80a-1fee292dcb64",
   "metadata": {},
   "source": [
    "Please note that when designing our learning models, although we want to reduce the errors by reducing cost function. Our ultimate goal is to able to make prediction with new data. That is, we want the model to generalized well such that it can be used to predict new data with less error.\n",
    "\n",
    "Our goal when creating a model is to be able to use the model to predict outcomes correctly for new examples. A model which does this is said to generalize well. "
   ]
  },
  {
   "cell_type": "markdown",
   "id": "74166e43-e9a8-4f52-a8ed-a3684afc1820",
   "metadata": {},
   "source": [
    "Comparing the cost using the example above:"
   ]
  },
  {
   "cell_type": "code",
   "execution_count": 18,
   "id": "936cace7-8f56-49b9-ae61-138999bead97",
   "metadata": {},
   "outputs": [
    {
     "data": {
      "text/plain": [
       "0.10738818029822389"
      ]
     },
     "execution_count": 18,
     "metadata": {},
     "output_type": "execute_result"
    }
   ],
   "source": [
    "underfit_cost"
   ]
  },
  {
   "cell_type": "code",
   "execution_count": 19,
   "id": "4e89e59e-22fb-4cc5-9bc4-a20c7a5b4635",
   "metadata": {},
   "outputs": [
    {
     "data": {
      "text/plain": [
       "0.00882046858920707"
      ]
     },
     "execution_count": 19,
     "metadata": {},
     "output_type": "execute_result"
    }
   ],
   "source": [
    "overfit_cost"
   ]
  },
  {
   "cell_type": "code",
   "execution_count": 20,
   "id": "9042e5d9-1829-47b0-8f20-c9987a46f123",
   "metadata": {},
   "outputs": [
    {
     "data": {
      "text/plain": [
       "0.02293008476857425"
      ]
     },
     "execution_count": 20,
     "metadata": {},
     "output_type": "execute_result"
    }
   ],
   "source": [
    "justRight_cost"
   ]
  },
  {
   "cell_type": "markdown",
   "id": "2b4f873a-108a-4a55-8f7c-0b71b5b83dbd",
   "metadata": {},
   "source": [
    "Overfitting has the lowest cost and underfitting has the highest cost. **We would like to have something in the middle.**"
   ]
  },
  {
   "cell_type": "markdown",
   "id": "f471bc6f-4aa7-4f37-afca-bff4a2805286",
   "metadata": {},
   "source": [
    "## Summary of Fitting Problem"
   ]
  },
  {
   "cell_type": "markdown",
   "id": "b49a05c4-e40c-410d-a785-a00a7061d509",
   "metadata": {},
   "source": [
    "There are two types of fitting problem, they are:\n",
    "\n",
    "- Underfitting\n",
    "- Overfitting"
   ]
  },
  {
   "cell_type": "markdown",
   "id": "7e0f2e9b-ce74-4eaa-91b0-3e35aadd69b2",
   "metadata": {},
   "source": [
    "### Underfitting Problem Summary"
   ]
  },
  {
   "cell_type": "markdown",
   "id": "cf9fb13f-440e-4854-a186-f948392d1769",
   "metadata": {},
   "source": [
    "- Underfitting occurs when the coefficient is not able to make accurate prediction. This shows that the coefficient could not explain the relationship between the features and the result.\n",
    "- Underfitting problem occurs when there are high training errors and high prediction errors.\n",
    "- High training errors means that using existing data, the model could not make an accurate prediction after the model is trained.\n",
    "- High prediction errors means that the model is also not able to make accurate prediction for the new query.\n",
    "- Underfitting is also known as **High Bias**. "
   ]
  },
  {
   "cell_type": "markdown",
   "id": "e94051dc-98a7-49b1-a107-fce4e8c826b0",
   "metadata": {},
   "source": [
    "### Overfitting Problem Summary"
   ]
  },
  {
   "cell_type": "markdown",
   "id": "8ae82956-2577-4f9e-9bd5-ca651961e3e4",
   "metadata": {},
   "source": [
    "- Overfitting occurs when the coefficient is able to make accurate prediction on existing data but it is not able to make accurate prediction on new query. This shows that the coefficient can explain the relationship between the features and the result too well but not able to generalized well for new query.\n",
    "- Overfitting problem occurs when there are very low training errors and high prediction errors.\n",
    "- Very low training errors means that using existing data, the model could make accurate prediction too well.\n",
    "- High prediction errors means that the model is also not able to make accurate prediction for the new query.\n",
    "- Another characteristics of overfitting is that the prediction very significantly with small changes in data as shown in the example above."
   ]
  },
  {
   "cell_type": "markdown",
   "id": "1c1d61d2",
   "metadata": {},
   "source": [
    "## Addressing Overfitting Problem"
   ]
  },
  {
   "attachments": {},
   "cell_type": "markdown",
   "id": "c2a31b00-e37f-40e0-8a3c-594de7bbe96b",
   "metadata": {},
   "source": [
    "The following are condition that may led to overfitting:\n",
    "\n",
    "- **Too few data. If our data size is too small, it may led to overfitting.**\n",
    "- **Too many features. If our features are too many and too complex, it may led to overfitting especially when our data size is not big enough.**\n",
    "- **The model we use is too complex.**\n",
    "\n",
    "\n",
    "To address overfitting the solution are as below:\n",
    "    \n",
    "- **Collect more data**\n",
    "- **Another method is to use less features by reducing the number of features especially polynomial features. If our model still overfit, then we may consider reducing the number of features we have. We can choose only few of the most relevant features.**\n",
    "- **The third method is to use <u>Regularization</u>. This is a technique that will reduce the weights of features/parameters so that it is too small (such as 0.00001) to be significantly meaningful while we can still keep these features.**\n",
    "\n"
   ]
  },
  {
   "cell_type": "markdown",
   "id": "1d8a5292-62b4-4d71-a9e7-972c14014410",
   "metadata": {},
   "source": [
    "## Addressing Underfitting Problem"
   ]
  },
  {
   "cell_type": "markdown",
   "id": "f8d0cc3e-64d5-4271-a687-6e6438b2805b",
   "metadata": {},
   "source": [
    "The following are condition that may led to underfitting:\n",
    "\n",
    "- **Too few useful features. Either we do not have enough features to explain the relationship between the features and the outcome or our current features does not represent the outcome well.**\n",
    "- **Too few data. Too few data may also lead to underfitting.**\n",
    "- **The model we select is too simple or it does not have the capabilities to detect more complex relationship. For example, we use linear regression to predict a curvy relationship.**\n",
    "- **Training iterations is not enough. If the training cost does not converge well, it may lead to inaccurate prediction.**\n",
    "- **Over regularization. One of the technique to address overfitting is to use regularization. However, if we use such technique too aggressively, we may have the reverse effect.**\n",
    "\n",
    "\n",
    "To address underfitting the solution are as below:\n",
    "\n",
    "- **We need to redo feature selection and select the features that are most relevant to the outcome.**\n",
    "- **We can also increase the complexity of the features by performing feature engineering and increase its polynomial complexity.** \n",
    "- **Collect more data**\n",
    "- **Select model that are capable of detecting complex relationship.**\n",
    "- **Increase the number of iterations and use learning curve to check for convergence.**\n",
    "- **We might need to tune back regularization a bit if such technique has been applied too aggressively.**"
   ]
  },
  {
   "cell_type": "markdown",
   "id": "2ec67f5d",
   "metadata": {},
   "source": [
    "## Regularization"
   ]
  },
  {
   "cell_type": "markdown",
   "id": "00c0f7cf",
   "metadata": {},
   "source": [
    "To address overfitting, one of the way is to remove additional features. However, if we remove additional features entirely, we may lost important information from these features. An alternative to removing features is to reduce the impact/weights of the features mathematically to a very small numbers. This will have the advantage of retaining information from these features and at the same time reducing the impact such that overfitting is reduce. This technique is known as **regularization**.\n",
    "\n",
    "This is a technique that will reduce the weights of features/parameters so that it is too small to be significantly meaningful while we can still keep these features. The intuition is as follows:"
   ]
  },
  {
   "cell_type": "markdown",
   "id": "2f677fe7",
   "metadata": {},
   "source": [
    "### Regularization Intuition"
   ]
  },
  {
   "cell_type": "markdown",
   "id": "46df4ff4",
   "metadata": {},
   "source": [
    "Suppose that we have a multiple features equation as follows:\n",
    "$$$$\n",
    "$$f_{\\vec w,b}(x)=b + w_{1}x_{1} + w_{2}x_{2} + w_{3}x_{3} + w_{4}x_{4}$$\n",
    "$$f_{\\vec{w},b}(\\vec{X}^{(i)})=b + \\sum\\limits_{j=0}^{n-1} \\vec{w}_{j}\\vec{X}_{j}^{(i)}$$\n",
    "The cost function is as follows:\n",
    "$$$$\n",
    "$$J(\\vec w, b) = \\frac{1}{2m}   \\sum\\limits_{i=0}^{m-1} (f_{\\vec w,b}(\\vec{X}^{(i)})-\\vec y^{(i)})^{2}$$ \n",
    "$$J(\\vec w, b) = \\frac{1}{2m} \\sum\\limits_{i=0}^{m-1} \\left(\\left(b + \\sum\\limits_{j=0}^{n-1} \\vec w_{j} \\vec X_{j}^{(i)} \\right)-\\vec y^{(i)}\\right)^{2}$$\n",
    "$$J(\\vec w, b) = \\frac{1}{2m} \\sum\\limits_{i=0}^{m-1} \\left(\\left(b + \\vec X^{(i)} \\cdot \\vec w \\right)-\\vec y^{(i)}\\right)^{2}$$"
   ]
  },
  {
   "cell_type": "markdown",
   "id": "a0e5af67",
   "metadata": {},
   "source": [
    "As we know that more features may cause problem of overfitting. We need to reduce the impact of $w_3$ and $w_4$ so that we can reduce overfitting. The simplest way is to drop the 2 features in the dataset.\n",
    "\n",
    "Alternatively, we can mathematically reduce the impact of $w_3$ and $w_4$ to near zero.\n",
    "\n",
    "Suppose we want to reduce the impact of $w_3$ and $w_4$ to a very small number (near zero). We can do so by adding a multiplication term to $w_3$ and $w_4$. As shown below:\n",
    "$$$$\n",
    "$$J(\\vec w, b) = \\frac{1}{2m}   \\sum\\limits_{i=0}^{m-1} (f_{\\vec w,b}(x^{(i)})-y^{(i)})^{2} + 1000 \\cdot w_{3} + 1000 \\cdot w_{4}$$\n",
    "$$$$\n",
    "In order to reduce the cost, gradient descent need to reduce $w_3$ and $w_4$ to a very small, near zero, number. Hence, while performing gradient decent, the algorithm will effectively reduce and to a very small number that is almost zero. This will effectively remove the impact on and the weights."
   ]
  },
  {
   "cell_type": "markdown",
   "id": "57c1f28b-a753-42c8-93f5-10c569d414f7",
   "metadata": {},
   "source": [
    "We can further illustrate this problem by using a simple dataset as shown below\n",
    "\n",
    "x|y\n",
    "---|---\n",
    "1|3\n",
    "2|4\n",
    "3|5\n",
    "\n",
    "Based on the above data, we know that $w = 1$ and $b = 2$ or\n",
    "$$f(x) = 2 + 1 \\cdot x$$"
   ]
  },
  {
   "cell_type": "code",
   "execution_count": 21,
   "id": "61609163-5edc-42c0-822b-66ed54cc93d8",
   "metadata": {},
   "outputs": [],
   "source": [
    "x_train2 = np.array([1,2,3]).reshape(-1,1)\n",
    "y_train2 = np.array([3,4,5]).reshape(-1,1)"
   ]
  },
  {
   "cell_type": "code",
   "execution_count": 22,
   "id": "d4fcd35f-cf29-433c-ae8c-147aaeb745ea",
   "metadata": {},
   "outputs": [
    {
     "name": "stdout",
     "output_type": "stream",
     "text": [
      "iteration 9999: Last cost = 4.3845e-12: intercept = 2.0000e+00: weights = [[1.00000344]]\n",
      "best w [[1.]]\n",
      "best b 2.0\n"
     ]
    }
   ],
   "source": [
    "best_w, best_b, _, _, _ = my.compute_gradient_descent(x_train2, y_train2)"
   ]
  },
  {
   "cell_type": "markdown",
   "id": "d6e1362f-9930-4d96-94c4-75bd4c4fdef7",
   "metadata": {},
   "source": [
    "If we were to artificially increase $w$ to 1000 times, then the dataset should be\n",
    "\n",
    "$$f_{\\vec w,b}(x)=\\left( b + 1000 \\times w_{1}x_{1} \\right)$$\n",
    "\n",
    "x|y\n",
    "---|---\n",
    "1 x 1 x 1000|3\n",
    "2 x 1 x 1000|4\n",
    "3 x 1 x 1000|5\n",
    "\n",
    "\n",
    "while y remains the same\n"
   ]
  },
  {
   "cell_type": "code",
   "execution_count": 23,
   "id": "a677a2e2-de84-47c2-8283-1bbf7f4f75d9",
   "metadata": {},
   "outputs": [
    {
     "data": {
      "text/plain": [
       "array([[1000],\n",
       "       [2000],\n",
       "       [3000]])"
      ]
     },
     "execution_count": 23,
     "metadata": {},
     "output_type": "execute_result"
    }
   ],
   "source": [
    "x_train3 = x_train2 * 1000\n",
    "x_train3"
   ]
  },
  {
   "cell_type": "code",
   "execution_count": 24,
   "id": "7c2e25f2-dbc1-4ff0-acee-dbe66b84c3b8",
   "metadata": {},
   "outputs": [
    {
     "name": "stdout",
     "output_type": "stream",
     "text": [
      "iteration 9999: Last cost = 2.5707e-28: intercept = 4.0000e+00: weights = [[0.81649658]]\n",
      "best w [[0.8165]]\n",
      "best b 4.0\n"
     ]
    }
   ],
   "source": [
    "x_norm3, avg3, std3 = my.std_norm(x_train3)\n",
    "best_w_norm3, best_b_norm3, _, _, _ = my.compute_gradient_descent(x_norm3, y_train2, iterations= 10000)"
   ]
  },
  {
   "cell_type": "code",
   "execution_count": 25,
   "id": "df84b937-c3a6-48f8-8aed-5eb865f21ca6",
   "metadata": {},
   "outputs": [
    {
     "name": "stdout",
     "output_type": "stream",
     "text": [
      "best_w: [[0.001]]\n",
      "best_b: 2.0\n"
     ]
    }
   ],
   "source": [
    "best_w, best_b = my.reverse_bw_std_norm(best_w_norm3, best_b_norm3, avg3, std3)\n",
    "print('best_w:', np.round(best_w, 4))\n",
    "print('best_b:', np.round(best_b, 4))"
   ]
  },
  {
   "cell_type": "markdown",
   "id": "495c152e-03cc-4132-a766-8a5dfdf7f6d5",
   "metadata": {},
   "source": [
    "Based on the result above, the impact of $w$ has been reduced to $0.001$ where as $b$ remains the same as $2$. so,\n",
    "$$f(x) = 2 + 0.001 x$$\n",
    "$$f(x) = b = 2 $$"
   ]
  },
  {
   "attachments": {},
   "cell_type": "markdown",
   "id": "1fcbfebc-bf4b-495b-af7b-e128583246da",
   "metadata": {},
   "source": [
    "In a multiple features environment, however, we do not known if $x_3$ and $x_4$ is important features. Thus we have a problem that we do not know which feature is important and which feature can be penalized. The solution is to penalized all features. This will reduce the overfitting problem.\n",
    "\n",
    "Usually we do not regularized the intercept but some machine learning program did include the regularization of the intercept."
   ]
  },
  {
   "cell_type": "markdown",
   "id": "52894ec1",
   "metadata": {},
   "source": [
    "Base on the reason above, we can modified the cost function by including the weights of all features in the regularization term:\n",
    "$$$$\n",
    "**Regularization Term:**\n",
    "$$\\frac {\\lambda}{2m} \\sum\\limits_{j=1}^{n} w^{2}_{j}$$\n",
    "$$$$\n",
    "Thus **Cost Function with Regularization** is:\n",
    "$$$$\n",
    "$$J(\\vec w, b) = \\frac{1}{2m}   \\sum\\limits_{i=0}^{m-1} (f_{\\vec w,b}(x^{(i)})-y^{(i)})^{2} + \\frac {\\lambda}{2m} \\sum\\limits_{j=1}^{n} w^{2}_{j}$$"
   ]
  },
  {
   "cell_type": "markdown",
   "id": "4ac6619d",
   "metadata": {},
   "source": [
    "The first term of the cost function will fit the data and second term of the cost function will increase the cost and reduce the weights of all features. So these 2 terms will term will balanced out themselves to reduce overfitting problem.\n",
    "\n",
    "We can adjust magnitude of regularization term by adjusting $\\lambda$. "
   ]
  },
  {
   "cell_type": "markdown",
   "id": "14286fc6",
   "metadata": {},
   "source": [
    "### Adjusting Lambda"
   ]
  },
  {
   "cell_type": "markdown",
   "id": "5467fda0",
   "metadata": {},
   "source": [
    "Adjusting Lambda has the same effect as adjusting the learning rate:\n",
    "\n",
    "- If $\\lambda = 0$ then the effect of regularization term is None. Thus the model will continue overfitting/underfitting as if no regularization has been applied.\n",
    "- If $\\lambda$ is very large such as $\\lambda = 100000$ then weights of all features will reduce to near zero. Thus the model will be left with the intercept.\n",
    "- What we aim for is a $\\lambda$ value that is not too big and not too small, so that it will reduce overfitting will maintain weights for each feature."
   ]
  },
  {
   "cell_type": "markdown",
   "id": "f3389c56-33fe-4044-8f1a-8bf0be78df7c",
   "metadata": {},
   "source": [
    "### Simulation of Regularization Effect"
   ]
  },
  {
   "cell_type": "markdown",
   "id": "fbbf9876-7832-487a-8a11-5c188f87345b",
   "metadata": {},
   "source": [
    "Using the same data above:"
   ]
  },
  {
   "cell_type": "code",
   "execution_count": 26,
   "id": "1028d13e-bb3a-4ba6-89fb-fdd6cf3c749b",
   "metadata": {},
   "outputs": [
    {
     "data": {
      "text/plain": [
       "array([[1],\n",
       "       [2],\n",
       "       [3]])"
      ]
     },
     "execution_count": 26,
     "metadata": {},
     "output_type": "execute_result"
    }
   ],
   "source": [
    "x_train2"
   ]
  },
  {
   "cell_type": "code",
   "execution_count": 27,
   "id": "e9b4436b-97ee-42bc-9914-31d2b0a5f9d9",
   "metadata": {},
   "outputs": [
    {
     "data": {
      "text/plain": [
       "array([[3],\n",
       "       [4],\n",
       "       [5]])"
      ]
     },
     "execution_count": 27,
     "metadata": {},
     "output_type": "execute_result"
    }
   ],
   "source": [
    "y_train2"
   ]
  },
  {
   "cell_type": "markdown",
   "id": "233610cf-f3e8-4cfd-84da-4e4ed7799c10",
   "metadata": {},
   "source": [
    "Adding regularization term in the cost function has the same effect as adding the term to `x_train`"
   ]
  },
  {
   "cell_type": "code",
   "execution_count": 28,
   "id": "3aa008c1-8174-4eb3-8e6c-91c6680d53d5",
   "metadata": {},
   "outputs": [],
   "source": [
    "regLambda = 1000"
   ]
  },
  {
   "cell_type": "code",
   "execution_count": 29,
   "id": "ef5f9084-f26e-4ddd-a22d-c3589f9ac58f",
   "metadata": {},
   "outputs": [],
   "source": [
    "reg_term = x_train2 * regLambda"
   ]
  },
  {
   "cell_type": "code",
   "execution_count": 30,
   "id": "608e861a-8e23-4636-9e49-717179fcb5b3",
   "metadata": {},
   "outputs": [
    {
     "data": {
      "text/plain": [
       "array([[1001],\n",
       "       [2002],\n",
       "       [3003]])"
      ]
     },
     "execution_count": 30,
     "metadata": {},
     "output_type": "execute_result"
    }
   ],
   "source": [
    "x_train4 = x_train2 + reg_term\n",
    "x_train4"
   ]
  },
  {
   "cell_type": "code",
   "execution_count": 31,
   "id": "1a5e05d1-ddb1-452a-ad5f-aca17bf2a4bc",
   "metadata": {},
   "outputs": [
    {
     "name": "stdout",
     "output_type": "stream",
     "text": [
      "iteration 9999: Last cost = 2.5707e-28: intercept = 4.0000e+00: weights = [[0.81649658]]\n",
      "best w [[0.8165]]\n",
      "best b 4.0\n"
     ]
    }
   ],
   "source": [
    "x_norm4, avg4, std4 = my.std_norm(x_train4)\n",
    "best_w_norm4, best_b_norm4, _, _, _ = my.compute_gradient_descent(x_norm4, y_train2, iterations= 10000)"
   ]
  },
  {
   "cell_type": "code",
   "execution_count": 32,
   "id": "9c141226-1abc-45a0-a269-2c7bf8c1cf59",
   "metadata": {},
   "outputs": [
    {
     "name": "stdout",
     "output_type": "stream",
     "text": [
      "best_w: [[0.001]]\n",
      "best_b: 2.0\n"
     ]
    }
   ],
   "source": [
    "best_w, best_b = my.reverse_bw_std_norm(best_w_norm4, best_b_norm4, avg4, std4)\n",
    "print('best_w:', np.round(best_w, 4))\n",
    "print('best_b:', np.round(best_b, 4))"
   ]
  },
  {
   "cell_type": "markdown",
   "id": "1c8534c7-9713-4529-aa27-6867ff81b24c",
   "metadata": {},
   "source": [
    "The weights drops to 0.001, however, if we choose to use a smaller lambda, the results is shown below."
   ]
  },
  {
   "cell_type": "code",
   "execution_count": 33,
   "id": "066bf60e-8079-4af8-b1b9-48b84e73a441",
   "metadata": {},
   "outputs": [],
   "source": [
    "regLambda = 5"
   ]
  },
  {
   "cell_type": "code",
   "execution_count": 34,
   "id": "63c3efe5-f814-40a6-a1af-f95fca02b4fc",
   "metadata": {},
   "outputs": [],
   "source": [
    "reg_term = x_train2 * regLambda"
   ]
  },
  {
   "cell_type": "code",
   "execution_count": 35,
   "id": "7576e556-ec71-40ad-afc2-7c97a60c449d",
   "metadata": {},
   "outputs": [
    {
     "data": {
      "text/plain": [
       "array([[ 6],\n",
       "       [12],\n",
       "       [18]])"
      ]
     },
     "execution_count": 35,
     "metadata": {},
     "output_type": "execute_result"
    }
   ],
   "source": [
    "x_train5 = x_train2 + reg_term\n",
    "x_train5"
   ]
  },
  {
   "cell_type": "code",
   "execution_count": 36,
   "id": "aa178905-1c7e-4ce0-8675-ed8bef299a2a",
   "metadata": {},
   "outputs": [
    {
     "name": "stdout",
     "output_type": "stream",
     "text": [
      "iteration 9999: Last cost = 2.5707e-28: intercept = 4.0000e+00: weights = [[0.81649658]]\n",
      "best w [[0.8165]]\n",
      "best b 4.0\n"
     ]
    }
   ],
   "source": [
    "x_norm5, avg5, std5 = my.std_norm(x_train5)\n",
    "best_w_norm5, best_b_norm5, _, _, _ = my.compute_gradient_descent(x_norm5, y_train2, iterations= 10000)"
   ]
  },
  {
   "cell_type": "code",
   "execution_count": 37,
   "id": "e98c29b6-a186-4898-8c44-d140dffef1a4",
   "metadata": {},
   "outputs": [
    {
     "name": "stdout",
     "output_type": "stream",
     "text": [
      "best_w: [[0.1667]]\n",
      "best_b: 2.0\n"
     ]
    }
   ],
   "source": [
    "best_w, best_b = my.reverse_bw_std_norm(best_w_norm5, best_b_norm5, avg5, std5)\n",
    "print('best_w:', np.round(best_w, 4))\n",
    "print('best_b:', np.round(best_b, 4))"
   ]
  },
  {
   "cell_type": "markdown",
   "id": "699c3ebb-c1d9-40bc-8010-9d187d70a944",
   "metadata": {},
   "source": [
    "With a larger lambda the the coefficient will drop to 0.001. When the lambda is smaller such as 5, the coefficient will drop from 1 to 0.1. **Therefore, lambda controls how large the magnitude to reduce the weights for each features.**"
   ]
  },
  {
   "cell_type": "markdown",
   "id": "9688872d-ec54-4f7e-ac6d-bd1691cd5ac8",
   "metadata": {},
   "source": [
    "## Cost Function with Regularization"
   ]
  },
  {
   "cell_type": "markdown",
   "id": "6bfe787b-82fa-429e-b0ea-b07892178661",
   "metadata": {},
   "source": [
    "Hypothesis: $$f_{\\vec{w},b}(\\vec{X}^{(i)})=b + \\sum\\limits_{j=0}^{n-1} \\vec{w}_{j}\\vec{X}_{j}^{(i)}$$\n",
    "\n",
    "Parameters:\t$$\\vec w ,b$$\n",
    "\n",
    "Cost Function:\t$$J(\\vec w, b) = \\frac{1}{2m}   \\sum\\limits_{i=0}^{m-1} (f_{\\vec w,b}(\\vec{X}^{(i)})-\\vec y^{(i)})^{2}$$ \n",
    "$$J(\\vec w, b) = \\frac{1}{2m} \\sum\\limits_{i=0}^{m-1} \\left(\\left(b + \\vec X^{(i)} \\cdot \\vec w \\right)-\\vec y^{(i)}\\right)^{2}$$\n",
    "$$$$\n",
    "<font color='red'> \n",
    "**Cost Function with Regularization:**\t\n",
    "$$J(\\vec w, b) = \\frac{1}{2m}   \\sum\\limits_{i=0}^{m-1} (f_{\\vec w,b}(x^{(i)})-y^{(i)})^{2} + \\frac {\\lambda}{2m} \\sum\\limits_{j=1}^{n} w^{2}_{j}$$ \n",
    "$$$$\n",
    "<font color='red'> \n",
    "**Cost Function Regularization Term:**\n",
    "$$\\frac {\\lambda}{2m} \\sum\\limits_{j=1}^{n} w^{2}_{j}$$\n",
    "</font>\n",
    "\n",
    "Goal: minimize $J(w, b)$"
   ]
  },
  {
   "cell_type": "markdown",
   "id": "821a4d86",
   "metadata": {},
   "source": [
    "## Implementing Gradient Descent with Regularization"
   ]
  },
  {
   "cell_type": "markdown",
   "id": "2c71214b-90d1-417f-a4cc-0a322d54439f",
   "metadata": {},
   "source": [
    "Based on the cost function above, we can modified the gradient descent using the formula below:"
   ]
  },
  {
   "cell_type": "markdown",
   "id": "657d699b",
   "metadata": {},
   "source": [
    "Hypothesis: $$f_{\\vec{w},b}(\\vec{X}^{(i)})=b + \\sum\\limits_{j=0}^{n-1} \\vec{w}_{j}\\vec{X}_{j}^{(i)}$$\n",
    "\n",
    "**Cost Function with Regularization:**\t\n",
    "$$J(\\vec w, b) = \\frac{1}{2m}   \\sum\\limits_{i=0}^{m-1} (f_{\\vec w,b}(x^{(i)})-y^{(i)})^{2} + \\frac {\\lambda}{2m} \\sum\\limits_{j=1}^{n} w^{2}_{j}$$ \n",
    "$$$$\n",
    "\n",
    "**Cost Function Regularization Term:**\n",
    "$$\\frac {\\lambda}{2m} \\sum\\limits_{j=1}^{n} w^{2}_{j}$$\n",
    "$$$$\n",
    "Gradient Descent Algorithm: $$\\begin{align*} \\text{repeat}&\\text{ until convergence:} \\; \\lbrace \\newline\n",
    "\\;  \\vec w &= \\vec w -  \\alpha \\frac{\\partial J(\\vec{w},b)}{\\partial \\vec{w}}  \\; \\newline \n",
    " b &= b -  \\alpha \\frac{\\partial J(\\vec{w},b)}{\\partial b}  \\newline \\rbrace\n",
    "\\end{align*}$$\n",
    "\n",
    "\n",
    "Partial Derivatives with **NO** regularization: $$\n",
    "\\begin{align}\n",
    "\\frac{\\partial J(\\vec{w},b)}{\\partial \\vec{w}}  &= \\frac{1}{m} \\sum\\limits_{i = 0}^{m-1} (f_{\\vec{w},b}(\\vec{X}^{(i)}) - y^{(i)})\\vec{X}^{(i)} \\\\\n",
    "  \\frac{\\partial J(\\vec{w},b)}{\\partial b}  &= \\frac{1}{m} \\sum\\limits_{i = 0}^{m-1} (f_{\\vec{w},b}(\\vec{X}^{(i)}) - y^{(i)}) \\\\\n",
    "\\end{align}\n",
    "$$\n",
    "\n",
    "Implementation of Gradient Descent with **NO** regularization:\n",
    "$$\\begin{align*} \\text{repeat}&\\text{ until convergence:} \\; \\lbrace \\newline\n",
    "\\;  \\vec{w} &= \\vec{w} -  \\alpha \\frac{1}{m} \\sum\\limits_{i = 0}^{m-1} ((\\vec{X}^{(i)}\\cdot \\vec{w} + b) - y^{(i)})\\vec{X}^{(i)}  \\; \\newline \n",
    " b &= b -  \\alpha \\frac{1}{m} \\sum\\limits_{i = 0}^{m-1} ((\\vec{X}^{(i)}\\cdot \\vec{w} + b) - y^{(i)})  \\newline \\rbrace\n",
    "\\end{align*}$$\n",
    "\n",
    "\n",
    "<font color='blue'>\n",
    "    \n",
    "**Full Implementation of Gradient Descent with Regularization:**\n",
    "$$\\begin{align*} \\text{repeat}&\\text{ until convergence:} \\; \\lbrace \\newline\n",
    "\\;  \\vec{w} &= \\vec{w}  -  \\alpha \\left( \\frac{1}{m} \\sum\\limits_{i = 0}^{m-1} ((\\vec{X}^{(i)}\\cdot \\vec{w} + b) - y^{(i)})\\vec{X}^{(i)}  + \\frac{\\lambda}{m} \\vec{w} \\right) \\; \\newline \n",
    " b &= b -  \\alpha \\frac{1}{m} \\sum\\limits_{i = 0}^{m-1} ((\\vec{X}^{(i)}\\cdot \\vec{w} + b) - y^{(i)})  \\newline \\rbrace\n",
    "\\end{align*}$$\n",
    "\n",
    "$$$$\n",
    "<font color='blue'>\n",
    "**Gradient Descent Regularization Term:** $$\\frac {\\lambda}{m} \\vec{w}$$\n",
    "</font>"
   ]
  },
  {
   "cell_type": "markdown",
   "id": "4c97dc81",
   "metadata": {},
   "source": [
    "## Mathematics Intuition of Gradient Descent with Regularization"
   ]
  },
  {
   "cell_type": "markdown",
   "id": "9192a905",
   "metadata": {},
   "source": [
    "### Mathematical Derivation"
   ]
  },
  {
   "cell_type": "markdown",
   "id": "6ad24014",
   "metadata": {},
   "source": [
    "Cost Function with Regularization:\t$$J(\\vec w, b) = \\frac{1}{2m}   \\sum\\limits_{i=0}^{m-1} (f_{\\vec w,b}(x^{(i)})-y^{(i)})^{2} + \\frac {\\lambda}{2m} \\sum\\limits_{j=1}^{n} w^{2}_{j}$$ \n",
    "\n",
    "Gradient Descent Algorithm: $$\\begin{align*} \\text{repeat}&\\text{ until convergence:} \\; \\lbrace \\newline\n",
    "\\;  b &= b -  \\alpha \\frac{\\partial J(w,b)}{\\partial b}  \\newline\n",
    "w_{j} &= w_{j} -  \\alpha \\frac{\\partial J(w,b)}{\\partial w_{j}}  \\; \\newline\n",
    "\\rbrace\n",
    "\\end{align*}$$"
   ]
  },
  {
   "cell_type": "markdown",
   "id": "b5c00e15",
   "metadata": {},
   "source": [
    "\n",
    "$$w_{j} = w_{j} -  \\alpha \\frac{\\partial J(w,b)}{\\partial w_{j}}$$\n",
    "Cost Function with Regularization:\t$$J(\\vec w, b) = \\frac{1}{2m}   \\sum\\limits_{i=0}^{m-1} (f_{\\vec w,b}(x^{(i)})-y^{(i)})^{2} + \\frac {\\lambda}{2m} \\sum\\limits_{j=1}^{n} w^{2}_{j}$$ \n",
    "$$$$\n",
    "$$\\frac{\\partial J(w,b)}{\\partial w_{j}} = \\frac{\\partial }{\\partial w_{j}}\\left[\\frac{1}{2m}   \\sum\\limits_{i=0}^{m-1} (f_{\\vec w,b}(x^{(i)})-y^{(i)})^{2} + \\frac {\\lambda}{2m} \\sum\\limits_{j=1}^{n} w^{2}_{j}\\right]$$\n",
    "$$\\frac{\\partial J(w,b)}{\\partial w_{j}} = \\frac{1}{2m}   \\sum\\limits_{i=0}^{m-1} ((b + X.w)-y).2x_{j} + \\frac {\\lambda}{2m} 2.w_{j}$$\n",
    "\n",
    "<font color='blue'>\n",
    "$$\\frac{\\partial J(w,b)}{\\partial w_{j}} = \\frac{1}{m}   \\sum\\limits_{i=0}^{m-1} ((b + X.w)-y)x_{j} + \\frac {\\lambda}{m} w_{j}$$\n",
    "</font>"
   ]
  },
  {
   "cell_type": "markdown",
   "id": "3698f741-fe9b-4321-972d-3f16bd260d8f",
   "metadata": {},
   "source": [
    "### Regularization Term and Its Effects"
   ]
  },
  {
   "cell_type": "markdown",
   "id": "ee1166bb",
   "metadata": {},
   "source": [
    "$$$$\n",
    "$$w_{j} = w_{j} -  \\alpha \\left(\\frac{1}{m}   \\sum\\limits_{i=0}^{m-1} ((\\vec{X}^{(i)}\\cdot \\vec{w} + b)-y^{(i)})\\vec{X}^{(i)} + \\frac {\\lambda}{m} w_{j}\\right)$$\n",
    "$$w_{j} = w_{j} - \\alpha \\left(\\frac {\\lambda}{m} w_{j}\\right) - \\alpha \\left(\\frac{1}{m}   \\sum\\limits_{i=0}^{m-1} ((\\vec{X}^{(i)}\\cdot \\vec{w} + b)-y^{(i)})\\vec{X}^{(i)}\\right)$$\n",
    "$$w_{j} = (w_{j} - \\alpha \\frac {\\lambda}{m} w_{j}) - \\alpha \\left(\\frac{1}{m}   \\sum\\limits_{i=0}^{m-1} ((\\vec{X}^{(i)}\\cdot \\vec{w} + b)-y^{(i)})\\vec{X}^{(i)}\\right)$$\n",
    "$$w_{j} = w_{j}(1 - \\alpha \\frac {\\lambda}{m}) - \\alpha \\left(\\frac{1}{m}   \\sum\\limits_{i=0}^{m-1} ((\\vec{X}^{(i)}\\cdot \\vec{w} + b)-y^{(i)})\\vec{X}^{(i)}\\right)$$\n",
    "\n",
    "The above re-arrangement of the formula is to show that the mathematical portion $1 - \\alpha \\frac {\\lambda}{m}$ is added to the original gradient descent formula. This will reduce $w_{j}$ by a little bit at a time, thus reducing the effect of  $w_{j}$."
   ]
  },
  {
   "cell_type": "markdown",
   "id": "e790b08a",
   "metadata": {},
   "source": [
    "## Regression Function with Regularization"
   ]
  },
  {
   "cell_type": "code",
   "execution_count": 38,
   "id": "f4596d7f-cc87-427f-abae-53be80d54047",
   "metadata": {},
   "outputs": [],
   "source": [
    "# Cost Function\n",
    "def cost_function_regu_beta(X,y,coefficient,intercept,reguLambda=0):\n",
    "    '''\n",
    "    Actual cost function for both single and multiple features\n",
    "    X = matrix of training data, each training examples in rows (m) and features in column (n), \n",
    "        Single feature data must be in m by 1 vector, where m is total number of training examples.\n",
    "    y = m by 1 vector, where m is total number of training examples.\n",
    "    intercept (b) = scalar\n",
    "    coefficient (w) = n by 1 vector, where n is total number of features\n",
    "    reguLambda = default is 0, no regularization, please enter appropriate lambda value for regularization\n",
    "\n",
    "    Return:\n",
    "    Cost (scalar)\n",
    "    '''\n",
    "\n",
    "    ### the following section convert 1d array to 2d array for ease of computation ###\n",
    "    if X.ndim == 1:\n",
    "        X = X.reshape(-1,1)\n",
    "    \n",
    "    if y.ndim == 1:\n",
    "        y = y.reshape(-1,1)\n",
    "        \n",
    "    if np.isscalar(coefficient) == True:\n",
    "        coefficient = np.array([coefficient])\n",
    "        \n",
    "    if coefficient.ndim == 1:\n",
    "        coefficient = coefficient.reshape(-1,1)\n",
    "    \n",
    "    m = X.shape[0]\n",
    "\n",
    "    # Compute Normal Cost Function\n",
    "    fx = (X@coefficient) + intercept\n",
    "    lossFunction = (fx - y) ** 2\n",
    "    RSS = lossFunction.sum()\n",
    "    cost = (1 / (2 * m)) * RSS\n",
    "\n",
    "    # Compute Regularization Term\n",
    "    # lambda/2m * sum(w^2)\n",
    "    regu = (reguLambda/ (2*m)) * sum(coefficient ** 2)\n",
    "\n",
    "    totalCost = cost + regu[0]\n",
    "    \n",
    "    return totalCost"
   ]
  },
  {
   "cell_type": "code",
   "execution_count": 39,
   "id": "56732a88-a80b-4ccf-aff8-3a24b8457e8a",
   "metadata": {},
   "outputs": [
    {
     "name": "stdout",
     "output_type": "stream",
     "text": [
      "Testing Cost Function <function cost_function_regu_beta at 0x120a7fce0>\n",
      "\n",
      "\n",
      "Test Case 1: Testing....\n",
      "Test Result: Test Case 1\n",
      "X =  [1. 2. 3.]\n",
      "y =  [1. 2. 3.]\n",
      "w =  0\n",
      "b =  0\n",
      "Test Cost Function: 2.333333333333333\n",
      "Expected Cost Function: [[2.33333333]]\n",
      "\n",
      "\n",
      "Test Case 2: Testing....\n",
      "Test Result: Test Case 2\n",
      "X =  [1. 2.]\n",
      "y =  [300. 500.]\n",
      "w =  0\n",
      "b =  0\n",
      "Test Cost Function: 85000.0\n",
      "Expected Cost Function: [[85000.]]\n",
      "\n",
      "\n",
      "Test Case 3: Testing....\n",
      "Test Result: Test Case 3\n",
      "X =  [[1]\n",
      " [2]\n",
      " [3]]\n",
      "y =  [[3]\n",
      " [4]\n",
      " [5]]\n",
      "w =  0\n",
      "b =  0\n",
      "Test Cost Function: 8.333333333333332\n",
      "Expected Cost Function: [8.33333333]\n",
      "\n",
      "\n",
      "Test Case 4: Testing....\n",
      "Test Result: Test Case 4\n",
      "X =  [[2104    5    1   45]\n",
      " [1416    3    2   40]\n",
      " [ 852    2    1   35]]\n",
      "y =  [[460]\n",
      " [232]\n",
      " [178]]\n",
      "w =  [[0.]\n",
      " [0.]\n",
      " [0.]\n",
      " [0.]]\n",
      "b =  0\n",
      "Test Cost Function: 49518.0\n",
      "Expected Cost Function: [49518.]\n",
      "\n",
      "\n",
      "Test Case 5: Testing....\n",
      "Test Result: Test Case 5\n",
      "X =  [[2104    5    1   45]\n",
      " [1416    3    2   40]\n",
      " [ 852    2    1   35]]\n",
      "y =  [460 232 178]\n",
      "w =  [  0.39133535  18.75376741 -53.36032453 -26.42131618]\n",
      "b =  785.1811367994083\n",
      "Test Cost Function: 1.5578904330213735e-12\n",
      "Expected Cost Function: 1.5578904045996674e-12\n",
      "\n",
      "\n",
      "Test Case 6: Testing....\n",
      "Test Result: Test Case 6\n",
      "X =  [[4.17022005e-01 7.20324493e-01 1.14374817e-04 3.02332573e-01\n",
      "  1.46755891e-01 9.23385948e-02]\n",
      " [1.86260211e-01 3.45560727e-01 3.96767474e-01 5.38816734e-01\n",
      "  4.19194514e-01 6.85219500e-01]\n",
      " [2.04452250e-01 8.78117436e-01 2.73875932e-02 6.70467510e-01\n",
      "  4.17304802e-01 5.58689828e-01]\n",
      " [1.40386939e-01 1.98101489e-01 8.00744569e-01 9.68261576e-01\n",
      "  3.13424178e-01 6.92322616e-01]\n",
      " [8.76389152e-01 8.94606664e-01 8.50442114e-02 3.90547832e-02\n",
      "  1.69830420e-01 8.78142503e-01]]\n",
      "y =  [0 1 0 1 0]\n",
      "w =  [-0.40165317 -0.07889237  0.45788953  0.03316528  0.19187711 -0.18448437]\n",
      "b =  0.5\n",
      "Test Cost Function: 0.07917239320214275\n",
      "Expected Cost Function: 0.07917239320214275\n",
      "\n",
      "\n",
      "\n",
      "\n",
      "Test Completed.\n"
     ]
    }
   ],
   "source": [
    "test.test_cost_function(cost_function_regu_beta)"
   ]
  },
  {
   "cell_type": "code",
   "execution_count": 40,
   "id": "ebb086f5-338c-4363-8651-3fe858e42bb2",
   "metadata": {},
   "outputs": [],
   "source": [
    "# Compute Gradient\n",
    "def compute_gradient_regu_beta(X,y, coefficient, intercept=0., reguLambda=0.):\n",
    "    '''\n",
    "    Compute gradient for each step size\n",
    "    X = matrix of training data, each training examples in rows and features in column, \n",
    "        Single feature data must be in m by 1 vector, where m is total number of training examples.\n",
    "    y = m by 1 vector, where m is total number of training examples.\n",
    "    w = n by 1 vector, where n is total number of features\n",
    "    b = scalar (default = 0)\n",
    "    reguLambda = scalar (default = 0), no regularization if default. Please enter appropriate lambda value for regularization.\n",
    "\n",
    "    Return:\n",
    "    db (scalar)\n",
    "    dw (n by 1 vector)\n",
    "    '''\n",
    "    \n",
    "    ### the following section convert 1d array to 2d array for ease of computation ###\n",
    "    if X.ndim == 1:\n",
    "        X = X.reshape(-1,1)\n",
    "    \n",
    "    if y.ndim == 1:\n",
    "        y = y.reshape(-1,1)\n",
    "        \n",
    "    if np.isscalar(coefficient) == True:\n",
    "        coefficient = np.array([coefficient])\n",
    "        \n",
    "    if coefficient.ndim == 1:\n",
    "        coefficient = coefficient.reshape(-1,1)\n",
    "    \n",
    "    # total number of features and training examples\n",
    "    m,n = X.shape\n",
    "\n",
    "    # Initialization of Variables \n",
    "    db = 0\n",
    "    dw = 0\n",
    "    temp_db = 0\n",
    "    temp_dw = 0\n",
    "\n",
    "    # Matrix computation\n",
    "    fx = ((X@coefficient) + intercept)\n",
    "    temp_dw = (fx - y) * X\n",
    "    temp_db = (fx - y)\n",
    "    \n",
    "    db = temp_db.mean() \n",
    "    dw = temp_dw.mean(axis=0).reshape([n,1]) \n",
    "\n",
    "    # Compute Regularization Term\n",
    "    regu = coefficient * (reguLambda/m) \n",
    "\n",
    "    dwRegu = dw + regu\n",
    "\n",
    "    return db, dwRegu"
   ]
  },
  {
   "cell_type": "code",
   "execution_count": 41,
   "id": "542664b6-b018-4792-8830-5846cc1b82e5",
   "metadata": {},
   "outputs": [
    {
     "name": "stdout",
     "output_type": "stream",
     "text": [
      "Test Case 1: Testing....\n",
      "Test Result: Test Case 1\n",
      "Test Gradients: 0.6648774569425727 [[0.29653215]\n",
      " [0.49116796]\n",
      " [0.21645878]]\n",
      "Expected Gradients: 0.6648774569425727 [0.29653215 0.49116796 0.21645878]\n",
      "Test Case 2: Testing....\n",
      "Test Result: Test Case 2\n",
      "Test Gradients: -1.6739251122999121e-06 [[-2.72623577e-03]\n",
      " [-6.27197263e-06]\n",
      " [-2.21745571e-06]\n",
      " [-6.92403379e-05]]\n",
      "Expected Gradients: -1.6739251122999121e-06 [-2.72623574e-03 -6.27197255e-06 -2.21745574e-06 -6.92403377e-05]\n",
      "Test Completed.\n"
     ]
    }
   ],
   "source": [
    "test.test_compute_gradient_function(compute_gradient_regu_beta)"
   ]
  },
  {
   "cell_type": "markdown",
   "id": "b4679dca-2f65-48dd-a8ed-5768e89b2bab",
   "metadata": {},
   "source": [
    "**Expected Output**\n",
    "```\n",
    "Test Case 1:\n",
    "dj_db: 0.6648774569425726\n",
    "Regularized dj_dw:\n",
    " [0.29653214748822276, 0.4911679625918033, 0.21645877535865857]\n",
    "\n",
    "Test Case 2:   \n",
    "dj_db at initial w,b: -1.6739251122999121e-06  \n",
    "dj_dw at initial w,b:   \n",
    " [-2.73e-03 -6.27e-06 -2.22e-06 -6.92e-05]  "
   ]
  },
  {
   "cell_type": "code",
   "execution_count": 42,
   "id": "bd53073e-7253-4611-b031-82f44a9adc19",
   "metadata": {},
   "outputs": [],
   "source": [
    "def compute_gradient_descent_regu_beta(X, y, iterations=10000, init_b=0., init_w = None, alpha=0.01, reguLambda = 0., printProgress=False, \n",
    "                                       printProgressRate = 1000, storeHistory=False):\n",
    "    '''\n",
    "    Runs Gradient Descent\n",
    "\n",
    "    Compulsory Input\n",
    "    X = matrix of training data, each training examples in rows and features in column, \n",
    "        Single feature data must be in m by 1 vector, where m is total number of training examples.\n",
    "    y = m by 1 vector, where m is total number of training examples.\n",
    "    \n",
    "    Optional Input with Defauls\n",
    "    iterations = total number of runs for the gradient descent (default: 10,000)\n",
    "    init_b = initial b value (type: scalar) (default:0.)\n",
    "    init_w = initial w value (type: n by 1 vector, where n is total number of features) (default:0.)\n",
    "    alpha = learning rate / step size (default:0.01)\n",
    "\n",
    "    Print Progress Options\n",
    "    printProgress = To print the details while running gradient descent (type:Boolean) (default: False)\n",
    "    printProgressRate = To print the details every n iterations (default:1000)\n",
    "\n",
    "    Return:\n",
    "    w = best w (n by 1 vector, where n is total number of features)\n",
    "    b = best b (scalar)\n",
    "    cost_history = Computed cost for each iterations (list)\n",
    "    w_history = Computed w for each iterations (list)\n",
    "    b_history = Computed g for each iterations (list)\n",
    "    '''\n",
    "\n",
    "    #### The following check for different data types and convert them to Numpy\n",
    "    #### Also convert Pandas Series and DataFrame to Numpy\n",
    "    #### Also convert 1D array to Numpy\n",
    "    \n",
    "    ### the following check if data type is Series\n",
    "    if isinstance(X, pd.Series):\n",
    "        #print('convert to numpy')\n",
    "        X = X.to_frame()\n",
    "    if isinstance(y, pd.Series):\n",
    "        y = y.to_frame()\n",
    "    \n",
    "    ### the following check if data type is dataframe\n",
    "    if isinstance(X, pd.DataFrame):\n",
    "        #print('convert to numpy')\n",
    "        X = X.to_numpy()\n",
    "    if isinstance(y, pd.DataFrame):\n",
    "        y = y.to_numpy()\n",
    "\n",
    "    \n",
    "    ### the following section convert 1d array to 2d array for ease of computation ###\n",
    "    if X.ndim == 1:\n",
    "        X = X.reshape(len(X),1)\n",
    "    if y.ndim == 1:\n",
    "        y = y.reshape(len(y),1)\n",
    "\n",
    "\n",
    "    ### Check for init_w separately as the dimension of w depends on X\n",
    "    ### Also perform copy to avoid changing the original array\n",
    "\n",
    "    if np.any(init_w) == None:\n",
    "        init_w = np.zeros([X.shape[1],1])\n",
    "\n",
    "    if isinstance(init_w, pd.Series):\n",
    "        init_w = init_w.copy().to_frame()\n",
    "\n",
    "    if isinstance(init_w, pd.DataFrame):\n",
    "        init_w = init_w.copy().to_numpy()\n",
    "\n",
    "    if init_w.ndim == 1:\n",
    "        init_w = init_w.copy()\n",
    "        init_w = init_w.reshape(len(init_w),1)\n",
    "\n",
    "    \n",
    "    ### The following will check if the size match\n",
    "    if X.shape[0] != y.shape[0]:\n",
    "        print('Error, the size of X and y does not match!')\n",
    "        return \n",
    "    \n",
    "    if init_w.shape[0] != X.shape[1]:\n",
    "        print('Error, the size of X features does not match with size of w !')\n",
    "        print(init_w.shape)\n",
    "        print(X.shape[1])\n",
    "        return\n",
    "\n",
    "    # Initialization of variables\n",
    "    m,n = X.shape\n",
    "    \n",
    "    db = 0\n",
    "    dw = 0\n",
    "\n",
    "    b = init_b\n",
    "    w = init_w\n",
    "    \n",
    "    cost_history = []\n",
    "    w_history = np.zeros((1,n))\n",
    "    b_history = []\n",
    "\n",
    "    \n",
    "    for j in range(iterations):\n",
    "\n",
    "        # Compute Partial Derivatives\n",
    "        db, dw = compute_gradient_regu_beta(X,y,w,b,reguLambda)\n",
    "\n",
    "        b = b - (alpha * db)\n",
    "        w = w - (alpha * dw)\n",
    "        \n",
    "        cost = cost_function_regu_beta(X,y,w,b,reguLambda)\n",
    "\n",
    "        # Reshape w for printing and storing history\n",
    "        w_convert = w.copy()\n",
    "        w_convert = np.transpose(w_convert)\n",
    "        \n",
    "        if storeHistory == True: \n",
    "            cost_history.append(cost)\n",
    "            b_history.append(b)\n",
    "            w_history = np.vstack((w_history,w_convert))\n",
    "\n",
    "        if printProgress == True:\n",
    "            if j % printProgressRate == 0:\n",
    "                print(f\"iteration {j}: cost = {cost:.4e}: intercept = {b:.4e}: weights = {w_convert.flatten()}\")\n",
    "\n",
    "    print(f\"iteration {j}: Last cost = {cost:.4e}: intercept = {b:.4e}: weights = {w_convert.flatten()}\")\n",
    "    print('best w', np.round(w.flatten(),4))\n",
    "    print('best b', np.round(b,4)) \n",
    "\n",
    "    return w, b, cost_history, w_history[1:], b_history"
   ]
  },
  {
   "cell_type": "markdown",
   "id": "a8ab556f",
   "metadata": {},
   "source": [
    "### Additional Testing on Regression with Regularization"
   ]
  },
  {
   "cell_type": "code",
   "execution_count": 43,
   "id": "c4eb46f1-8174-473d-939c-43146edb55c7",
   "metadata": {},
   "outputs": [],
   "source": [
    "np.random.seed(1)\n",
    "X_tmp = np.random.rand(5,3)\n",
    "y_tmp = np.array([0,1,0,1,0])\n",
    "w_tmp = np.random.rand(X_tmp.shape[1])\n",
    "b_tmp = 0.5\n",
    "lambda_tmp = 0.7"
   ]
  },
  {
   "cell_type": "code",
   "execution_count": 44,
   "id": "092429f6-de69-4366-9b92-c2e4fd2ace79",
   "metadata": {},
   "outputs": [
    {
     "name": "stdout",
     "output_type": "stream",
     "text": [
      "dj_db: 0.6648774569425727\n",
      "Regularized dj_dw:\n",
      " [[0.29653214748822276], [0.4911679625918033], [0.21645877535865857]]\n"
     ]
    }
   ],
   "source": [
    "dj_db_tmp, dj_dw_tmp =  compute_gradient_regu_beta(X_tmp, y_tmp, coefficient=w_tmp, intercept=b_tmp, reguLambda=lambda_tmp)\n",
    "\n",
    "print(f\"dj_db: {dj_db_tmp}\", )\n",
    "print(f\"Regularized dj_dw:\\n {dj_dw_tmp.tolist()}\", )"
   ]
  },
  {
   "cell_type": "markdown",
   "id": "2e5ff145-d1b4-4038-a130-a5983286d0e8",
   "metadata": {},
   "source": [
    "**Expected Output**\n",
    "```\n",
    "dj_db: 0.6648774569425726\n",
    "Regularized dj_dw:\n",
    " [0.29653214748822276, 0.4911679625918033, 0.21645877535865857]\n",
    " ```"
   ]
  },
  {
   "cell_type": "code",
   "execution_count": 45,
   "id": "626c4dd7-6603-4dc8-b15c-e14acfa93b4c",
   "metadata": {},
   "outputs": [],
   "source": [
    "x = np.array([1.,2.,3.],dtype=np.float64)\n",
    "y = np.array([1.,2.,3.],dtype=np.float64)"
   ]
  },
  {
   "cell_type": "code",
   "execution_count": 46,
   "id": "0b505616",
   "metadata": {},
   "outputs": [
    {
     "name": "stdout",
     "output_type": "stream",
     "text": [
      "iteration 9999: Last cost = 3.4860e-13: intercept = 2.2045e-06: weights = [0.99999903]\n",
      "best w [1.]\n",
      "best b 0.0\n"
     ]
    }
   ],
   "source": [
    "best_w, best_b, _,_,_ = compute_gradient_descent_regu_beta(x,y)"
   ]
  },
  {
   "cell_type": "markdown",
   "id": "8ca09d84",
   "metadata": {},
   "source": [
    "**Expected Result**: \n",
    "\n",
    "    w: 1\n",
    "    b: 0"
   ]
  },
  {
   "cell_type": "code",
   "execution_count": 47,
   "id": "1bb94368",
   "metadata": {},
   "outputs": [
    {
     "name": "stdout",
     "output_type": "stream",
     "text": [
      "iteration 19999: Last cost = 3.0931e-12: intercept = 1.0000e+02: weights = [199.99999516]\n",
      "best w [200.]\n",
      "best b 100.0\n"
     ]
    }
   ],
   "source": [
    "x2 = np.array([1.0, 2.0])   #features\n",
    "y2 = np.array([300.0, 500.0])   #target value\n",
    "best_w, best_b, _,_,_= compute_gradient_descent_regu_beta(x2,y2, iterations=20000)"
   ]
  },
  {
   "cell_type": "markdown",
   "id": "5317bea4",
   "metadata": {},
   "source": [
    "**Expected Result**: \n",
    "\n",
    "    w: 200\n",
    "    b: 100"
   ]
  },
  {
   "cell_type": "code",
   "execution_count": 48,
   "id": "1ba3cb24",
   "metadata": {},
   "outputs": [
    {
     "name": "stdout",
     "output_type": "stream",
     "text": [
      "iteration 9999: Last cost = 4.3845e-12: intercept = 2.0000e+00: weights = [1.00000344]\n",
      "best w [1.]\n",
      "best b 2.0\n"
     ]
    }
   ],
   "source": [
    "x3 = np.array([1,2,3])\n",
    "y3 = np.array([3,4,5])\n",
    "best_w, best_b, _,_,_ = compute_gradient_descent_regu_beta(x3,y3)"
   ]
  },
  {
   "cell_type": "markdown",
   "id": "dc781065",
   "metadata": {},
   "source": [
    "**Expected Result**: \n",
    "\n",
    "    w: 1\n",
    "    b: 2"
   ]
  },
  {
   "cell_type": "code",
   "execution_count": 49,
   "id": "bc716c51",
   "metadata": {},
   "outputs": [
    {
     "data": {
      "text/plain": [
       "1.5578904330213735e-12"
      ]
     },
     "execution_count": 49,
     "metadata": {},
     "output_type": "execute_result"
    }
   ],
   "source": [
    "X_train = np.array([[2104, 5, 1, 45], [1416, 3, 2, 40], [852, 2, 1, 35]])\n",
    "y_train = np.array([460, 232, 178])\n",
    "b_init = 785.1811367994083\n",
    "w_init = np.array([ 0.39133535, 18.75376741, -53.36032453, -26.42131618])\n",
    "cost_function_regu_beta(X_train, y_train,  w_init, b_init)"
   ]
  },
  {
   "cell_type": "markdown",
   "id": "12247293",
   "metadata": {},
   "source": [
    "**Expected Result**: Cost at optimal w : 1.5578904045996674e-12"
   ]
  },
  {
   "cell_type": "code",
   "execution_count": 50,
   "id": "de0e99b5",
   "metadata": {},
   "outputs": [
    {
     "data": {
      "text/plain": [
       "459.9999976194083"
      ]
     },
     "execution_count": 50,
     "metadata": {},
     "output_type": "execute_result"
    }
   ],
   "source": [
    "x_vec = X_train[0,:]\n",
    "my.prediction(x_vec,b_init,w_init)"
   ]
  },
  {
   "cell_type": "markdown",
   "id": "1200956b",
   "metadata": {},
   "source": [
    "**Expected Result**: 460"
   ]
  },
  {
   "cell_type": "code",
   "execution_count": 51,
   "id": "4889c567",
   "metadata": {},
   "outputs": [
    {
     "name": "stdout",
     "output_type": "stream",
     "text": [
      "dj_dw at initial w,b: \n",
      " [[-2.72623577e-03]\n",
      " [-6.27197263e-06]\n",
      " [-2.21745571e-06]\n",
      " [-6.92403379e-05]]\n",
      "dj_db at initial w,b: \n",
      " -1.6739251122999121e-06\n"
     ]
    }
   ],
   "source": [
    "#Compute and display gradient \n",
    "tmp_dj_db, tmp_dj_dw = compute_gradient_regu_beta(X_train, y_train, w_init, b_init)\n",
    "print(f'dj_dw at initial w,b: \\n {tmp_dj_dw}')\n",
    "print(f'dj_db at initial w,b: \\n {tmp_dj_db}')"
   ]
  },
  {
   "cell_type": "markdown",
   "id": "1fa00108",
   "metadata": {},
   "source": [
    "**Expected Result**:   \n",
    "dj_db at initial w,b: -1.6739251122999121e-06  \n",
    "dj_dw at initial w,b:   \n",
    " [-2.73e-03 -6.27e-06 -2.22e-06 -6.92e-05]  "
   ]
  },
  {
   "cell_type": "code",
   "execution_count": 52,
   "id": "daea4319-8716-4e04-a539-b1f09f6acb59",
   "metadata": {},
   "outputs": [
    {
     "name": "stdout",
     "output_type": "stream",
     "text": [
      "iteration 999: Last cost = 6.8670e+02: intercept = -2.2354e-03: weights = [ 0.20396569  0.00374919 -0.0112487  -0.0658614 ]\n",
      "best w [ 0.204   0.0037 -0.0112 -0.0659]\n",
      "best b -0.0022\n"
     ]
    },
    {
     "data": {
      "text/plain": [
       "array([[426.18530497],\n",
       "       [286.16747201],\n",
       "       [171.46763087]])"
      ]
     },
     "execution_count": 52,
     "metadata": {},
     "output_type": "execute_result"
    }
   ],
   "source": [
    "# initialize parameters\n",
    "initial_w = np.zeros_like(w_init)\n",
    "initial_b = 0.\n",
    "# some gradient descent settings\n",
    "iterations = 1000\n",
    "alpha = 5.0e-7\n",
    "# run gradient descent \n",
    "w_final, b_final, _,_,_ = compute_gradient_descent_regu_beta(X_train, y_train, init_w=initial_w, init_b=initial_b, \n",
    "                                               iterations=iterations, alpha=alpha)\n",
    "my.prediction(X_train,b_final, w_final)"
   ]
  },
  {
   "cell_type": "markdown",
   "id": "e7dd0032",
   "metadata": {},
   "source": [
    "**Expected Result**:    \n",
    "b,w found by gradient descent: -0.00,[ 0.2   0.0   -0.01 -0.07]   \n",
    "prediction: 426.19, target value: 460  \n",
    "prediction: 286.17, target value: 232  \n",
    "prediction: 171.47, target value: 178  "
   ]
  },
  {
   "cell_type": "markdown",
   "id": "b53e6678-ea32-434e-89c1-8f4edb0a69b3",
   "metadata": {},
   "source": [
    "## Application of Regularization on Housing Data"
   ]
  },
  {
   "cell_type": "markdown",
   "id": "f0e2137d-5838-46ed-9f37-87c7e02db0d6",
   "metadata": {},
   "source": [
    "### Prepare Data"
   ]
  },
  {
   "cell_type": "code",
   "execution_count": 53,
   "id": "fdc4287a-80e3-42df-97c7-b43cd7f85cee",
   "metadata": {},
   "outputs": [
    {
     "data": {
      "text/html": [
       "<div>\n",
       "<style scoped>\n",
       "    .dataframe tbody tr th:only-of-type {\n",
       "        vertical-align: middle;\n",
       "    }\n",
       "\n",
       "    .dataframe tbody tr th {\n",
       "        vertical-align: top;\n",
       "    }\n",
       "\n",
       "    .dataframe thead th {\n",
       "        text-align: right;\n",
       "    }\n",
       "</style>\n",
       "<table border=\"1\" class=\"dataframe\">\n",
       "  <thead>\n",
       "    <tr style=\"text-align: right;\">\n",
       "      <th></th>\n",
       "      <th>sqft</th>\n",
       "      <th>price</th>\n",
       "    </tr>\n",
       "  </thead>\n",
       "  <tbody>\n",
       "    <tr>\n",
       "      <th>0</th>\n",
       "      <td>2104</td>\n",
       "      <td>399900</td>\n",
       "    </tr>\n",
       "    <tr>\n",
       "      <th>1</th>\n",
       "      <td>1600</td>\n",
       "      <td>329900</td>\n",
       "    </tr>\n",
       "    <tr>\n",
       "      <th>2</th>\n",
       "      <td>2400</td>\n",
       "      <td>369000</td>\n",
       "    </tr>\n",
       "    <tr>\n",
       "      <th>3</th>\n",
       "      <td>1416</td>\n",
       "      <td>232000</td>\n",
       "    </tr>\n",
       "    <tr>\n",
       "      <th>4</th>\n",
       "      <td>3000</td>\n",
       "      <td>539900</td>\n",
       "    </tr>\n",
       "  </tbody>\n",
       "</table>\n",
       "</div>"
      ],
      "text/plain": [
       "   sqft   price\n",
       "0  2104  399900\n",
       "1  1600  329900\n",
       "2  2400  369000\n",
       "3  1416  232000\n",
       "4  3000  539900"
      ]
     },
     "execution_count": 53,
     "metadata": {},
     "output_type": "execute_result"
    }
   ],
   "source": [
    "df = pd.read_csv('./data/housing_one_var.csv')\n",
    "df.head()"
   ]
  },
  {
   "cell_type": "code",
   "execution_count": 54,
   "id": "ef7c86a3-6be4-4f73-8191-beb6b2db2f11",
   "metadata": {},
   "outputs": [
    {
     "data": {
      "text/html": [
       "<div>\n",
       "<style scoped>\n",
       "    .dataframe tbody tr th:only-of-type {\n",
       "        vertical-align: middle;\n",
       "    }\n",
       "\n",
       "    .dataframe tbody tr th {\n",
       "        vertical-align: top;\n",
       "    }\n",
       "\n",
       "    .dataframe thead th {\n",
       "        text-align: right;\n",
       "    }\n",
       "</style>\n",
       "<table border=\"1\" class=\"dataframe\">\n",
       "  <thead>\n",
       "    <tr style=\"text-align: right;\">\n",
       "      <th></th>\n",
       "      <th>sqft</th>\n",
       "    </tr>\n",
       "  </thead>\n",
       "  <tbody>\n",
       "    <tr>\n",
       "      <th>0</th>\n",
       "      <td>2104</td>\n",
       "    </tr>\n",
       "    <tr>\n",
       "      <th>1</th>\n",
       "      <td>1600</td>\n",
       "    </tr>\n",
       "    <tr>\n",
       "      <th>2</th>\n",
       "      <td>2400</td>\n",
       "    </tr>\n",
       "    <tr>\n",
       "      <th>3</th>\n",
       "      <td>1416</td>\n",
       "    </tr>\n",
       "    <tr>\n",
       "      <th>4</th>\n",
       "      <td>3000</td>\n",
       "    </tr>\n",
       "  </tbody>\n",
       "</table>\n",
       "</div>"
      ],
      "text/plain": [
       "   sqft\n",
       "0  2104\n",
       "1  1600\n",
       "2  2400\n",
       "3  1416\n",
       "4  3000"
      ]
     },
     "execution_count": 54,
     "metadata": {},
     "output_type": "execute_result"
    }
   ],
   "source": [
    "x1 = df['sqft'].to_frame()\n",
    "x1.head()"
   ]
  },
  {
   "cell_type": "code",
   "execution_count": 55,
   "id": "c79851ca-fb25-454c-b838-26e9e0ced42e",
   "metadata": {},
   "outputs": [
    {
     "data": {
      "text/html": [
       "<div>\n",
       "<style scoped>\n",
       "    .dataframe tbody tr th:only-of-type {\n",
       "        vertical-align: middle;\n",
       "    }\n",
       "\n",
       "    .dataframe tbody tr th {\n",
       "        vertical-align: top;\n",
       "    }\n",
       "\n",
       "    .dataframe thead th {\n",
       "        text-align: right;\n",
       "    }\n",
       "</style>\n",
       "<table border=\"1\" class=\"dataframe\">\n",
       "  <thead>\n",
       "    <tr style=\"text-align: right;\">\n",
       "      <th></th>\n",
       "      <th>price</th>\n",
       "    </tr>\n",
       "  </thead>\n",
       "  <tbody>\n",
       "    <tr>\n",
       "      <th>0</th>\n",
       "      <td>399900</td>\n",
       "    </tr>\n",
       "    <tr>\n",
       "      <th>1</th>\n",
       "      <td>329900</td>\n",
       "    </tr>\n",
       "    <tr>\n",
       "      <th>2</th>\n",
       "      <td>369000</td>\n",
       "    </tr>\n",
       "    <tr>\n",
       "      <th>3</th>\n",
       "      <td>232000</td>\n",
       "    </tr>\n",
       "    <tr>\n",
       "      <th>4</th>\n",
       "      <td>539900</td>\n",
       "    </tr>\n",
       "  </tbody>\n",
       "</table>\n",
       "</div>"
      ],
      "text/plain": [
       "    price\n",
       "0  399900\n",
       "1  329900\n",
       "2  369000\n",
       "3  232000\n",
       "4  539900"
      ]
     },
     "execution_count": 55,
     "metadata": {},
     "output_type": "execute_result"
    }
   ],
   "source": [
    "y1 = df['price'].to_frame()\n",
    "y1.head()"
   ]
  },
  {
   "cell_type": "code",
   "execution_count": 56,
   "id": "838983d5-1d54-4596-8165-37c554850278",
   "metadata": {},
   "outputs": [
    {
     "data": {
      "text/html": [
       "<div>\n",
       "<style scoped>\n",
       "    .dataframe tbody tr th:only-of-type {\n",
       "        vertical-align: middle;\n",
       "    }\n",
       "\n",
       "    .dataframe tbody tr th {\n",
       "        vertical-align: top;\n",
       "    }\n",
       "\n",
       "    .dataframe thead th {\n",
       "        text-align: right;\n",
       "    }\n",
       "</style>\n",
       "<table border=\"1\" class=\"dataframe\">\n",
       "  <thead>\n",
       "    <tr style=\"text-align: right;\">\n",
       "      <th></th>\n",
       "      <th>sqft</th>\n",
       "      <th>rm</th>\n",
       "    </tr>\n",
       "  </thead>\n",
       "  <tbody>\n",
       "    <tr>\n",
       "      <th>0</th>\n",
       "      <td>2104</td>\n",
       "      <td>3</td>\n",
       "    </tr>\n",
       "    <tr>\n",
       "      <th>1</th>\n",
       "      <td>1600</td>\n",
       "      <td>3</td>\n",
       "    </tr>\n",
       "    <tr>\n",
       "      <th>2</th>\n",
       "      <td>2400</td>\n",
       "      <td>3</td>\n",
       "    </tr>\n",
       "    <tr>\n",
       "      <th>3</th>\n",
       "      <td>1416</td>\n",
       "      <td>2</td>\n",
       "    </tr>\n",
       "    <tr>\n",
       "      <th>4</th>\n",
       "      <td>3000</td>\n",
       "      <td>4</td>\n",
       "    </tr>\n",
       "  </tbody>\n",
       "</table>\n",
       "</div>"
      ],
      "text/plain": [
       "   sqft  rm\n",
       "0  2104   3\n",
       "1  1600   3\n",
       "2  2400   3\n",
       "3  1416   2\n",
       "4  3000   4"
      ]
     },
     "execution_count": 56,
     "metadata": {},
     "output_type": "execute_result"
    }
   ],
   "source": [
    "df2 = pd.read_csv('./data/housing_two_var.txt')\n",
    "y2 = df2['price'].to_frame()\n",
    "X2 = df2[['sqft','rm']]\n",
    "X2.head()"
   ]
  },
  {
   "cell_type": "code",
   "execution_count": 57,
   "id": "80e1c053-f351-4ff5-bb73-d7e2ebcf242f",
   "metadata": {},
   "outputs": [
    {
     "data": {
      "text/html": [
       "<div>\n",
       "<style scoped>\n",
       "    .dataframe tbody tr th:only-of-type {\n",
       "        vertical-align: middle;\n",
       "    }\n",
       "\n",
       "    .dataframe tbody tr th {\n",
       "        vertical-align: top;\n",
       "    }\n",
       "\n",
       "    .dataframe thead th {\n",
       "        text-align: right;\n",
       "    }\n",
       "</style>\n",
       "<table border=\"1\" class=\"dataframe\">\n",
       "  <thead>\n",
       "    <tr style=\"text-align: right;\">\n",
       "      <th></th>\n",
       "      <th>price</th>\n",
       "    </tr>\n",
       "  </thead>\n",
       "  <tbody>\n",
       "    <tr>\n",
       "      <th>0</th>\n",
       "      <td>399900</td>\n",
       "    </tr>\n",
       "    <tr>\n",
       "      <th>1</th>\n",
       "      <td>329900</td>\n",
       "    </tr>\n",
       "    <tr>\n",
       "      <th>2</th>\n",
       "      <td>369000</td>\n",
       "    </tr>\n",
       "    <tr>\n",
       "      <th>3</th>\n",
       "      <td>232000</td>\n",
       "    </tr>\n",
       "    <tr>\n",
       "      <th>4</th>\n",
       "      <td>539900</td>\n",
       "    </tr>\n",
       "  </tbody>\n",
       "</table>\n",
       "</div>"
      ],
      "text/plain": [
       "    price\n",
       "0  399900\n",
       "1  329900\n",
       "2  369000\n",
       "3  232000\n",
       "4  539900"
      ]
     },
     "execution_count": 57,
     "metadata": {},
     "output_type": "execute_result"
    }
   ],
   "source": [
    "y2.head()"
   ]
  },
  {
   "cell_type": "code",
   "execution_count": 58,
   "id": "cf338fbf-8922-4bc2-a215-679fe6072f41",
   "metadata": {},
   "outputs": [
    {
     "data": {
      "text/plain": [
       "0    271.5\n",
       "1    300.0\n",
       "2    509.8\n",
       "3    394.0\n",
       "4    540.0\n",
       "Name: price, dtype: float64"
      ]
     },
     "execution_count": 58,
     "metadata": {},
     "output_type": "execute_result"
    }
   ],
   "source": [
    "df3 = pd.read_csv('./data/housing_four_var.txt')\n",
    "y3_train = df3['price']\n",
    "y3_train.head()"
   ]
  },
  {
   "cell_type": "code",
   "execution_count": 59,
   "id": "b47c1790-b32b-4f0e-a858-c4f717b3825f",
   "metadata": {},
   "outputs": [
    {
     "data": {
      "text/html": [
       "<div>\n",
       "<style scoped>\n",
       "    .dataframe tbody tr th:only-of-type {\n",
       "        vertical-align: middle;\n",
       "    }\n",
       "\n",
       "    .dataframe tbody tr th {\n",
       "        vertical-align: top;\n",
       "    }\n",
       "\n",
       "    .dataframe thead th {\n",
       "        text-align: right;\n",
       "    }\n",
       "</style>\n",
       "<table border=\"1\" class=\"dataframe\">\n",
       "  <thead>\n",
       "    <tr style=\"text-align: right;\">\n",
       "      <th></th>\n",
       "      <th>sqft</th>\n",
       "      <th>rooms</th>\n",
       "      <th>floor</th>\n",
       "      <th>age</th>\n",
       "    </tr>\n",
       "  </thead>\n",
       "  <tbody>\n",
       "    <tr>\n",
       "      <th>0</th>\n",
       "      <td>952.0</td>\n",
       "      <td>2.0</td>\n",
       "      <td>1.0</td>\n",
       "      <td>65.0</td>\n",
       "    </tr>\n",
       "    <tr>\n",
       "      <th>1</th>\n",
       "      <td>1244.0</td>\n",
       "      <td>3.0</td>\n",
       "      <td>1.0</td>\n",
       "      <td>64.0</td>\n",
       "    </tr>\n",
       "    <tr>\n",
       "      <th>2</th>\n",
       "      <td>1947.0</td>\n",
       "      <td>3.0</td>\n",
       "      <td>2.0</td>\n",
       "      <td>17.0</td>\n",
       "    </tr>\n",
       "    <tr>\n",
       "      <th>3</th>\n",
       "      <td>1725.0</td>\n",
       "      <td>3.0</td>\n",
       "      <td>2.0</td>\n",
       "      <td>42.0</td>\n",
       "    </tr>\n",
       "    <tr>\n",
       "      <th>4</th>\n",
       "      <td>1959.0</td>\n",
       "      <td>3.0</td>\n",
       "      <td>2.0</td>\n",
       "      <td>15.0</td>\n",
       "    </tr>\n",
       "  </tbody>\n",
       "</table>\n",
       "</div>"
      ],
      "text/plain": [
       "     sqft  rooms  floor   age\n",
       "0   952.0    2.0    1.0  65.0\n",
       "1  1244.0    3.0    1.0  64.0\n",
       "2  1947.0    3.0    2.0  17.0\n",
       "3  1725.0    3.0    2.0  42.0\n",
       "4  1959.0    3.0    2.0  15.0"
      ]
     },
     "execution_count": 59,
     "metadata": {},
     "output_type": "execute_result"
    }
   ],
   "source": [
    "X3_train = df3[['sqft', 'rooms', 'floor', 'age']]\n",
    "X3_train.head()"
   ]
  },
  {
   "cell_type": "markdown",
   "id": "197ae271-9341-4a40-a228-910ee0ca2727",
   "metadata": {},
   "source": [
    "### Apply Housing Data with One Feature"
   ]
  },
  {
   "cell_type": "code",
   "execution_count": 60,
   "id": "8019f675-9325-41d1-ad11-fa1111ceda6f",
   "metadata": {},
   "outputs": [
    {
     "data": {
      "text/html": [
       "<div>\n",
       "<style scoped>\n",
       "    .dataframe tbody tr th:only-of-type {\n",
       "        vertical-align: middle;\n",
       "    }\n",
       "\n",
       "    .dataframe tbody tr th {\n",
       "        vertical-align: top;\n",
       "    }\n",
       "\n",
       "    .dataframe thead th {\n",
       "        text-align: right;\n",
       "    }\n",
       "</style>\n",
       "<table border=\"1\" class=\"dataframe\">\n",
       "  <thead>\n",
       "    <tr style=\"text-align: right;\">\n",
       "      <th></th>\n",
       "      <th>sqft</th>\n",
       "    </tr>\n",
       "  </thead>\n",
       "  <tbody>\n",
       "    <tr>\n",
       "      <th>0</th>\n",
       "      <td>2104</td>\n",
       "    </tr>\n",
       "    <tr>\n",
       "      <th>1</th>\n",
       "      <td>1600</td>\n",
       "    </tr>\n",
       "    <tr>\n",
       "      <th>2</th>\n",
       "      <td>2400</td>\n",
       "    </tr>\n",
       "    <tr>\n",
       "      <th>3</th>\n",
       "      <td>1416</td>\n",
       "    </tr>\n",
       "    <tr>\n",
       "      <th>4</th>\n",
       "      <td>3000</td>\n",
       "    </tr>\n",
       "  </tbody>\n",
       "</table>\n",
       "</div>"
      ],
      "text/plain": [
       "   sqft\n",
       "0  2104\n",
       "1  1600\n",
       "2  2400\n",
       "3  1416\n",
       "4  3000"
      ]
     },
     "execution_count": 60,
     "metadata": {},
     "output_type": "execute_result"
    }
   ],
   "source": [
    "x1.head()"
   ]
  },
  {
   "cell_type": "markdown",
   "id": "3158b6bc-1407-4e0b-8669-61815e0ad585",
   "metadata": {},
   "source": [
    "#### Applying 12 Degree Polynomial with no Regularization"
   ]
  },
  {
   "cell_type": "code",
   "execution_count": 61,
   "id": "f0f3c05e-7953-475c-80ae-b2188ed63540",
   "metadata": {},
   "outputs": [],
   "source": [
    "x1_poly = np.c_[x1, x1**2, x1**3, x1**4, x1**5, x1**6, x1**7, x1**8, x1**9, x1**10, x1**11, x1**12]"
   ]
  },
  {
   "cell_type": "code",
   "execution_count": 62,
   "id": "eecabe07-7964-4ed8-bc6c-a1c76fd3da7a",
   "metadata": {},
   "outputs": [],
   "source": [
    "x_poly_norm1, avg1, stddev1 = my.std_norm(x1_poly)"
   ]
  },
  {
   "cell_type": "code",
   "execution_count": 63,
   "id": "d47d3502-6a1a-4e90-be3a-254496bc44af",
   "metadata": {
    "scrolled": true
   },
   "outputs": [
    {
     "name": "stdout",
     "output_type": "stream",
     "text": [
      "2024-10-29 11:06:09.423308\n",
      "iteration 0: cost = 5.0808e+10: intercept = 3.4041e+04: weights = [10576.41334928 10306.43370472  9703.92597013  9050.16979869\n",
      "  8483.26579704 -3414.68335076   596.41884299 -2161.66380949\n",
      "  -385.50342691 -3191.07408236 -2264.73175665   551.48233837]\n",
      "iteration 500000: cost = 1.5904e+09: intercept = 3.4041e+05: weights = [ 243687.91945307 -470215.34695004  429944.97749913  173655.29565204\n",
      " -275293.62674734   -7164.39505875   -8161.16558739  -19398.58697887\n",
      "   12653.32883155   -7110.60676958    -615.02543091  -15555.98998881]\n",
      "iteration 1000000: cost = 1.5880e+09: intercept = 3.4041e+05: weights = [ 2.95317239e+05 -6.55296197e+05  6.76220028e+05  4.30077209e+04\n",
      " -2.57064049e+05 -7.11821609e+03 -8.16627985e+03 -1.94805819e+04\n",
      "  1.27944690e+04 -7.20024131e+03 -4.86779639e+02 -1.56587306e+04]\n",
      "iteration 1500000: cost = 1.5860e+09: intercept = 3.4041e+05: weights = [ 3.23824869e+05 -7.81000440e+05  8.98462387e+05 -1.37478767e+05\n",
      " -2.01519401e+05 -7.09697005e+03 -8.15331064e+03 -1.94555587e+04\n",
      "  1.28256857e+04 -7.24769714e+03 -4.41859337e+02 -1.56511981e+04]\n",
      "iteration 2000000: cost = 1.5840e+09: intercept = 3.4041e+05: weights = [ 3.48399101e+05 -8.96290740e+05  1.11546811e+06 -3.25001407e+05\n",
      " -1.40232223e+05 -7.07990894e+03 -8.13747535e+03 -1.94132656e+04\n",
      "  1.28388243e+04 -7.28800476e+03 -4.10769468e+02 -1.56257618e+04]\n",
      "iteration 2500000: cost = 1.5820e+09: intercept = 3.4041e+05: weights = [ 3.72186606e+05 -1.00919869e+06  1.33032779e+06 -5.12551376e+05\n",
      " -7.83757161e+04 -7.06363069e+03 -8.12126796e+03 -1.93684136e+04\n",
      "  1.28489420e+04 -7.32690858e+03 -3.82116082e+02 -1.55975629e+04]\n",
      "iteration 3000000: cost = 1.5800e+09: intercept = 3.4041e+05: weights = [ 3.95704247e+05 -1.12104576e+06  1.54355727e+06 -6.98987706e+05\n",
      " -1.67953021e+04 -7.04757692e+03 -8.10509662e+03 -1.93234126e+04\n",
      "  1.28585078e+04 -7.36535200e+03 -3.54030093e+02 -1.55690825e+04]\n",
      "iteration 3500000: cost = 1.5781e+09: intercept = 3.4041e+05: weights = [ 4.19037762e+05 -1.23205337e+06  1.75525023e+06 -8.84131325e+05\n",
      "  4.43730589e+04 -7.03165539e+03 -8.08902756e+03 -1.92786555e+04\n",
      "  1.28679267e+04 -7.40349128e+03 -3.26203893e+02 -1.55407261e+04]\n",
      "iteration 4000000: cost = 1.5762e+09: intercept = 3.4041e+05: weights = [ 4.42202204e+05 -1.34226257e+06  1.96543108e+06 -1.06796079e+06\n",
      "  1.05109693e+05 -7.01585031e+03 -8.07307094e+03 -1.92342050e+04\n",
      "  1.28772655e+04 -7.44135370e+03 -2.98585865e+02 -1.55125589e+04]\n",
      "iteration 4500000: cost = 1.5744e+09: intercept = 3.4041e+05: weights = [ 4.65201030e+05 -1.45168480e+06  2.17411281e+06 -1.25048045e+06\n",
      "  1.65413973e+05 -7.00015839e+03 -8.05722775e+03 -1.91900694e+04\n",
      "  1.28865357e+04 -7.47894534e+03 -2.71166367e+02 -1.54845904e+04]\n",
      "iteration 4999999: Last cost = 1.5725e+09: intercept = 3.4041e+05: weights = [ 4.88035745e+05 -1.56032640e+06  2.38130605e+06 -1.43169845e+06\n",
      "  2.25288254e+05 -6.98457848e+03 -8.04149751e+03 -1.91462482e+04\n",
      "  1.28957393e+04 -7.51626872e+03 -2.43942700e+02 -1.54568210e+04]\n",
      "best w [ 4.88035745e+05 -1.56032640e+06  2.38130605e+06 -1.43169845e+06\n",
      "  2.25288254e+05 -6.98457850e+03 -8.04149750e+03 -1.91462482e+04\n",
      "  1.28957393e+04 -7.51626870e+03 -2.43942700e+02 -1.54568210e+04]\n",
      "best b 340412.6596\n",
      "Duration: 0:04:22.041423\n"
     ]
    }
   ],
   "source": [
    "# This is along process\n",
    "# This is to demonstrate overfitting \n",
    "# Approx ~5 minutes\n",
    "\n",
    "startTime = datetime.now()\n",
    "print(startTime)\n",
    "\n",
    "coef1, intercept1, _, _, _ = compute_gradient_descent_regu_beta(x_poly_norm1, y1, iterations=5000000, alpha=0.1, printProgress=True, \n",
    "                                                                printProgressRate=500000)\n",
    "\n",
    "endTime = datetime.now()\n",
    "print('Duration:', endTime - startTime)"
   ]
  },
  {
   "cell_type": "code",
   "execution_count": 64,
   "id": "147944ec",
   "metadata": {},
   "outputs": [
    {
     "name": "stdout",
     "output_type": "stream",
     "text": [
      "original coef [[ 6.20750598e+02]\n",
      " [-3.84890780e-01]\n",
      " [ 1.32569747e-04]\n",
      " [-1.84041762e-08]\n",
      " [ 6.69185892e-13]\n",
      " [-1.36813827e-15]\n",
      " [-1.45000443e-15]\n",
      " [-3.65082462e-15]\n",
      " [ 2.32423143e-15]\n",
      " [-1.43536064e-15]\n",
      " [-4.49357339e-17]\n",
      " [-2.88809358e-15]]\n",
      "original intercept -151673.32369657373\n"
     ]
    }
   ],
   "source": [
    "coef_or1, intercept_or1 = my.reverse_bw_std_norm(coef1, intercept1, avg1, stddev1)\n",
    "print('original coef', coef_or1)\n",
    "print('original intercept', intercept_or1)"
   ]
  },
  {
   "cell_type": "code",
   "execution_count": 65,
   "id": "766658f0-83f0-4257-a2c6-56e1cef3cf5d",
   "metadata": {},
   "outputs": [],
   "source": [
    "y_pred1 = my.prediction(x1_poly, intercept_or1, coef_or1)"
   ]
  },
  {
   "cell_type": "code",
   "execution_count": 66,
   "id": "fb0793fd-5ddc-47c8-b75f-2fe5e641d846",
   "metadata": {},
   "outputs": [],
   "source": [
    "pline = np.c_[x1,y_pred1]\n",
    "pline = pline[pline[:,0].argsort()]"
   ]
  },
  {
   "cell_type": "code",
   "execution_count": 67,
   "id": "cd6ed941-a5b4-40a4-b5f5-88126c757884",
   "metadata": {},
   "outputs": [
    {
     "data": {
      "image/png": "[encoded data removed]",
      "text/plain": [
       "<Figure size 800x500 with 1 Axes>"
      ]
     },
     "metadata": {},
     "output_type": "display_data"
    }
   ],
   "source": [
    "plt.close('all')\n",
    "fig, (ax1) = plt.subplots(1, 1, figsize=(8, 5))\n",
    "ax1.scatter(x1, y1, marker='x', c='r')\n",
    "ax1.plot(pline[:,0], pline[:,1], label=str('Our Polynomail Prediction'))\n",
    "ax1.set_title('Housing Data')\n",
    "ax1.set_xlabel('x')\n",
    "ax1.set_ylabel('y')\n",
    "plt.show()"
   ]
  },
  {
   "cell_type": "markdown",
   "id": "436a406a-19ea-486c-90b5-ebc8802b81bd",
   "metadata": {},
   "source": [
    "#### Applying 12 Degree Polynomial with Regularization (Lambda = 100)"
   ]
  },
  {
   "cell_type": "code",
   "execution_count": 68,
   "id": "0f1679da-3d01-4130-9081-ed297c5a0b47",
   "metadata": {},
   "outputs": [
    {
     "name": "stdout",
     "output_type": "stream",
     "text": [
      "iteration 0: cost = 5.1339e+10: intercept = 3.4041e+04: weights = [10576.41334928 10306.43370472  9703.92597013  9050.16979869\n",
      "  8483.26579704 -3414.68335076   596.41884299 -2161.66380949\n",
      "  -385.50342691 -3191.07408236 -2264.73175665   551.48233837]\n",
      "iteration 50000: cost = 4.0222e+09: intercept = 3.4041e+05: weights = [18258.97653241 15907.69598544 13299.84188602 11030.45994569\n",
      "  9282.36938898 -7080.86595291  -174.18070485 -5484.87693559\n",
      "   147.28366664 -5951.1800907  -3233.83330351 -1990.76193972]\n",
      "iteration 100000: cost = 4.0222e+09: intercept = 3.4041e+05: weights = [18258.97653241 15907.69598544 13299.84188602 11030.45994569\n",
      "  9282.36938898 -7080.86595291  -174.18070485 -5484.87693559\n",
      "   147.28366664 -5951.1800907  -3233.83330351 -1990.76193972]\n",
      "iteration 150000: cost = 4.0222e+09: intercept = 3.4041e+05: weights = [18258.97653241 15907.69598544 13299.84188602 11030.45994569\n",
      "  9282.36938898 -7080.86595291  -174.18070485 -5484.87693559\n",
      "   147.28366664 -5951.1800907  -3233.83330351 -1990.76193972]\n",
      "iteration 199999: Last cost = 4.0222e+09: intercept = 3.4041e+05: weights = [18258.97653241 15907.69598544 13299.84188602 11030.45994569\n",
      "  9282.36938898 -7080.86595291  -174.18070485 -5484.87693559\n",
      "   147.28366664 -5951.1800907  -3233.83330351 -1990.76193972]\n",
      "best w [18258.9765 15907.696  13299.8419 11030.4599  9282.3694 -7080.866\n",
      "  -174.1807 -5484.8769   147.2837 -5951.1801 -3233.8333 -1990.7619]\n",
      "best b 340412.6596\n"
     ]
    }
   ],
   "source": [
    "coef1r, intercept1r, _, _, _ = compute_gradient_descent_regu_beta(x_poly_norm1, y1, iterations=200000, alpha=0.1, reguLambda = 100, \n",
    "                                                                  printProgress=True, printProgressRate=50000)"
   ]
  },
  {
   "cell_type": "code",
   "execution_count": 69,
   "id": "ebc3dc04-986b-464a-a958-7b757fb3a767",
   "metadata": {},
   "outputs": [
    {
     "name": "stdout",
     "output_type": "stream",
     "text": [
      "original coef [[ 2.32242632e+01]\n",
      " [ 3.92400303e-03]\n",
      " [ 7.40415818e-07]\n",
      " [ 1.41794194e-10]\n",
      " [ 2.75719241e-14]\n",
      " [-1.38699905e-15]\n",
      " [-3.14074330e-17]\n",
      " [-1.04586149e-15]\n",
      " [ 2.65453046e-17]\n",
      " [-1.13648008e-15]\n",
      " [-5.95691828e-16]\n",
      " [-3.71972140e-16]]\n",
      "original intercept 258736.26938212808\n"
     ]
    }
   ],
   "source": [
    "coef_or1r, intercept_or1r = my.reverse_bw_std_norm(coef1r, intercept1r, avg1, stddev1)\n",
    "print('original coef', coef_or1r)\n",
    "print('original intercept', intercept_or1r)"
   ]
  },
  {
   "cell_type": "code",
   "execution_count": 70,
   "id": "1be1db9e-9778-41aa-970a-70676402bce0",
   "metadata": {},
   "outputs": [],
   "source": [
    "y_pred1r = my.prediction(x1_poly, intercept_or1r, coef_or1r)"
   ]
  },
  {
   "cell_type": "code",
   "execution_count": 71,
   "id": "2a0acc0d-64a6-436a-859d-bbaec1ba3886",
   "metadata": {},
   "outputs": [],
   "source": [
    "pline = np.c_[x1,y_pred1r]\n",
    "pline = pline[pline[:,0].argsort()]"
   ]
  },
  {
   "cell_type": "code",
   "execution_count": 72,
   "id": "48a7abb2-36ab-4cda-b8ab-1359696ad75a",
   "metadata": {},
   "outputs": [
    {
     "data": {
      "image/png": "[encoded data removed]",
      "text/plain": [
       "<Figure size 800x500 with 1 Axes>"
      ]
     },
     "metadata": {},
     "output_type": "display_data"
    }
   ],
   "source": [
    "plt.close('all')\n",
    "fig, (ax1) = plt.subplots(1, 1, figsize=(8, 5))\n",
    "ax1.scatter(x1, y1, marker='x', c='r')\n",
    "ax1.plot(pline[:,0], pline[:,1], label=str('Our Polynomail Prediction'))\n",
    "ax1.set_title('Housing Data')\n",
    "ax1.set_xlabel('x')\n",
    "ax1.set_ylabel('y')\n",
    "plt.show()"
   ]
  },
  {
   "cell_type": "markdown",
   "id": "102244ea-293e-481a-8ddf-b875d46c19fa",
   "metadata": {},
   "source": [
    "With lambda of 100, we can transform the prediction curve to a smoother one."
   ]
  },
  {
   "cell_type": "markdown",
   "id": "6ffad948-8145-4a25-af67-68b683e0f259",
   "metadata": {},
   "source": [
    "#### Applying 12 Degree Polynomial with Regularization (Lambda = 1000)"
   ]
  },
  {
   "cell_type": "code",
   "execution_count": 73,
   "id": "6c546edc-fc7c-4704-ae5e-a7f104873ba3",
   "metadata": {},
   "outputs": [
    {
     "name": "stdout",
     "output_type": "stream",
     "text": [
      "iteration 0: cost = 6.4005e+10: intercept = 3.4041e+03: weights = [1057.64133493 1030.64337047  970.39259701  905.01697987  848.3265797\n",
      " -341.46833508   59.6418843  -216.16638095  -38.55034269 -319.10740824\n",
      " -226.47317567   55.14823384]\n",
      "iteration 50000: cost = 6.6968e+09: intercept = 3.4041e+05: weights = [ 4130.70545226  3969.64727892  3687.83519617  3398.601513\n",
      "  3154.32840997 -1391.7377903    185.81317018  -906.50810804\n",
      "  -125.00898201 -1279.13500719  -863.41092818   110.97522228]\n",
      "iteration 100000: cost = 6.6968e+09: intercept = 3.4041e+05: weights = [ 4130.70545226  3969.64727892  3687.83519617  3398.601513\n",
      "  3154.32840997 -1391.7377903    185.81317018  -906.50810804\n",
      "  -125.00898201 -1279.13500719  -863.41092818   110.97522228]\n",
      "iteration 150000: cost = 6.6968e+09: intercept = 3.4041e+05: weights = [ 4130.70545226  3969.64727892  3687.83519617  3398.601513\n",
      "  3154.32840997 -1391.7377903    185.81317018  -906.50810804\n",
      "  -125.00898201 -1279.13500719  -863.41092818   110.97522228]\n",
      "iteration 199999: Last cost = 6.6968e+09: intercept = 3.4041e+05: weights = [ 4130.70545226  3969.64727892  3687.83519617  3398.601513\n",
      "  3154.32840997 -1391.7377903    185.81317018  -906.50810804\n",
      "  -125.00898201 -1279.13500719  -863.41092818   110.97522228]\n",
      "best w [ 4130.7055  3969.6473  3687.8352  3398.6015  3154.3284 -1391.7378\n",
      "   185.8132  -906.5081  -125.009  -1279.135   -863.4109   110.9752]\n",
      "best b 340412.6596\n"
     ]
    }
   ],
   "source": [
    "coef1ru, intercept1ru, _, _, _ = compute_gradient_descent_regu_beta(x_poly_norm1, y1, iterations=200000, alpha=0.01, reguLambda = 1000, \n",
    "                                                                    printProgress=True, printProgressRate=50000)"
   ]
  },
  {
   "cell_type": "code",
   "execution_count": 74,
   "id": "63186cd5-5538-4509-941a-c5d93bfb72e1",
   "metadata": {},
   "outputs": [
    {
     "name": "stdout",
     "output_type": "stream",
     "text": [
      "original coef [[ 5.25399605e+00]\n",
      " [ 9.79205787e-04]\n",
      " [ 2.05305562e-07]\n",
      " [ 4.36882928e-11]\n",
      " [ 9.36947238e-15]\n",
      " [-2.72613407e-16]\n",
      " [ 3.35049436e-17]\n",
      " [-1.72853818e-16]\n",
      " [-2.25306823e-17]\n",
      " [-2.44272805e-16]\n",
      " [-1.59045562e-16]\n",
      " [ 2.07356239e-17]]\n",
      "original intercept 320230.5803704662\n"
     ]
    }
   ],
   "source": [
    "coef_or1ru, intercept_or1ru = my.reverse_bw_std_norm(coef1ru, intercept1ru, avg1, stddev1)\n",
    "print('original coef', coef_or1ru)\n",
    "print('original intercept', intercept_or1ru)"
   ]
  },
  {
   "cell_type": "code",
   "execution_count": 75,
   "id": "9c723fc2-6be0-408c-b844-efbc28e1a8ed",
   "metadata": {},
   "outputs": [],
   "source": [
    "y_pred1ru = my.prediction(x1_poly, intercept_or1ru, coef_or1ru)"
   ]
  },
  {
   "cell_type": "code",
   "execution_count": 76,
   "id": "2b33b40e-74bd-4298-9a7b-fe9acea32508",
   "metadata": {},
   "outputs": [],
   "source": [
    "pline = np.c_[x1,y_pred1ru]\n",
    "pline = pline[pline[:,0].argsort()]"
   ]
  },
  {
   "cell_type": "code",
   "execution_count": 77,
   "id": "abb0df7b-293c-4638-a3da-f493eec24212",
   "metadata": {},
   "outputs": [
    {
     "data": {
      "image/png": "[encoded data removed]",
      "text/plain": [
       "<Figure size 800x500 with 1 Axes>"
      ]
     },
     "metadata": {},
     "output_type": "display_data"
    }
   ],
   "source": [
    "plt.close('all')\n",
    "fig, (ax1) = plt.subplots(1, 1, figsize=(8, 5))\n",
    "ax1.scatter(x1, y1, marker='x', c='r')\n",
    "ax1.plot(pline[:,0], pline[:,1], label=str('Our Polynomail Prediction'))\n",
    "ax1.set_title('Housing Data')\n",
    "ax1.set_xlabel('x')\n",
    "ax1.set_ylabel('y')\n",
    "plt.show()"
   ]
  },
  {
   "cell_type": "markdown",
   "id": "4164cf0a-112a-4715-8127-b421ed48db21",
   "metadata": {},
   "source": [
    "If the lambda is too large, such as 1000, as in this case, then the prediction line would be underfit and too general."
   ]
  },
  {
   "cell_type": "markdown",
   "id": "f21e0fb7-a5b6-44f9-8ac5-15ff3cdc85b8",
   "metadata": {},
   "source": [
    "### Apply Housing Data with Two Features (12 Degrees Polynomial)"
   ]
  },
  {
   "cell_type": "code",
   "execution_count": 78,
   "id": "72652961-62bc-43d2-9cbb-0aaf1a0fb523",
   "metadata": {},
   "outputs": [
    {
     "data": {
      "text/html": [
       "<div>\n",
       "<style scoped>\n",
       "    .dataframe tbody tr th:only-of-type {\n",
       "        vertical-align: middle;\n",
       "    }\n",
       "\n",
       "    .dataframe tbody tr th {\n",
       "        vertical-align: top;\n",
       "    }\n",
       "\n",
       "    .dataframe thead th {\n",
       "        text-align: right;\n",
       "    }\n",
       "</style>\n",
       "<table border=\"1\" class=\"dataframe\">\n",
       "  <thead>\n",
       "    <tr style=\"text-align: right;\">\n",
       "      <th></th>\n",
       "      <th>sqft</th>\n",
       "      <th>rm</th>\n",
       "    </tr>\n",
       "  </thead>\n",
       "  <tbody>\n",
       "    <tr>\n",
       "      <th>0</th>\n",
       "      <td>2104</td>\n",
       "      <td>3</td>\n",
       "    </tr>\n",
       "    <tr>\n",
       "      <th>1</th>\n",
       "      <td>1600</td>\n",
       "      <td>3</td>\n",
       "    </tr>\n",
       "    <tr>\n",
       "      <th>2</th>\n",
       "      <td>2400</td>\n",
       "      <td>3</td>\n",
       "    </tr>\n",
       "    <tr>\n",
       "      <th>3</th>\n",
       "      <td>1416</td>\n",
       "      <td>2</td>\n",
       "    </tr>\n",
       "    <tr>\n",
       "      <th>4</th>\n",
       "      <td>3000</td>\n",
       "      <td>4</td>\n",
       "    </tr>\n",
       "  </tbody>\n",
       "</table>\n",
       "</div>"
      ],
      "text/plain": [
       "   sqft  rm\n",
       "0  2104   3\n",
       "1  1600   3\n",
       "2  2400   3\n",
       "3  1416   2\n",
       "4  3000   4"
      ]
     },
     "execution_count": 78,
     "metadata": {},
     "output_type": "execute_result"
    }
   ],
   "source": [
    "X2.head()"
   ]
  },
  {
   "cell_type": "markdown",
   "id": "96fc38a1-d2e0-449c-9f1c-a165f2be25c0",
   "metadata": {},
   "source": [
    "#### Gradient Descent with 12 Degrees Polynomial With No Regularization"
   ]
  },
  {
   "cell_type": "code",
   "execution_count": 79,
   "id": "00e58e92-ad73-4769-8fb1-afe8a2c5397a",
   "metadata": {},
   "outputs": [],
   "source": [
    "degree = 12\n",
    "polynomial_features= PolynomialFeatures(degree=degree,include_bias=False)\n",
    "X2_poly = polynomial_features.fit_transform(X2)"
   ]
  },
  {
   "cell_type": "code",
   "execution_count": 80,
   "id": "9a94aea2-a2ed-480d-a23f-e5c06871a49a",
   "metadata": {},
   "outputs": [
    {
     "data": {
      "text/html": [
       "<style>#sk-container-id-1 {color: black;background-color: white;}#sk-container-id-1 pre{padding: 0;}#sk-container-id-1 div.sk-toggleable {background-color: white;}#sk-container-id-1 label.sk-toggleable__label {cursor: pointer;display: block;width: 100%;margin-bottom: 0;padding: 0.3em;box-sizing: border-box;text-align: center;}#sk-container-id-1 label.sk-toggleable__label-arrow:before {content: \"▸\";float: left;margin-right: 0.25em;color: #696969;}#sk-container-id-1 label.sk-toggleable__label-arrow:hover:before {color: black;}#sk-container-id-1 div.sk-estimator:hover label.sk-toggleable__label-arrow:before {color: black;}#sk-container-id-1 div.sk-toggleable__content {max-height: 0;max-width: 0;overflow: hidden;text-align: left;background-color: #f0f8ff;}#sk-container-id-1 div.sk-toggleable__content pre {margin: 0.2em;color: black;border-radius: 0.25em;background-color: #f0f8ff;}#sk-container-id-1 input.sk-toggleable__control:checked~div.sk-toggleable__content {max-height: 200px;max-width: 100%;overflow: auto;}#sk-container-id-1 input.sk-toggleable__control:checked~label.sk-toggleable__label-arrow:before {content: \"▾\";}#sk-container-id-1 div.sk-estimator input.sk-toggleable__control:checked~label.sk-toggleable__label {background-color: #d4ebff;}#sk-container-id-1 div.sk-label input.sk-toggleable__control:checked~label.sk-toggleable__label {background-color: #d4ebff;}#sk-container-id-1 input.sk-hidden--visually {border: 0;clip: rect(1px 1px 1px 1px);clip: rect(1px, 1px, 1px, 1px);height: 1px;margin: -1px;overflow: hidden;padding: 0;position: absolute;width: 1px;}#sk-container-id-1 div.sk-estimator {font-family: monospace;background-color: #f0f8ff;border: 1px dotted black;border-radius: 0.25em;box-sizing: border-box;margin-bottom: 0.5em;}#sk-container-id-1 div.sk-estimator:hover {background-color: #d4ebff;}#sk-container-id-1 div.sk-parallel-item::after {content: \"\";width: 100%;border-bottom: 1px solid gray;flex-grow: 1;}#sk-container-id-1 div.sk-label:hover label.sk-toggleable__label {background-color: #d4ebff;}#sk-container-id-1 div.sk-serial::before {content: \"\";position: absolute;border-left: 1px solid gray;box-sizing: border-box;top: 0;bottom: 0;left: 50%;z-index: 0;}#sk-container-id-1 div.sk-serial {display: flex;flex-direction: column;align-items: center;background-color: white;padding-right: 0.2em;padding-left: 0.2em;position: relative;}#sk-container-id-1 div.sk-item {position: relative;z-index: 1;}#sk-container-id-1 div.sk-parallel {display: flex;align-items: stretch;justify-content: center;background-color: white;position: relative;}#sk-container-id-1 div.sk-item::before, #sk-container-id-1 div.sk-parallel-item::before {content: \"\";position: absolute;border-left: 1px solid gray;box-sizing: border-box;top: 0;bottom: 0;left: 50%;z-index: -1;}#sk-container-id-1 div.sk-parallel-item {display: flex;flex-direction: column;z-index: 1;position: relative;background-color: white;}#sk-container-id-1 div.sk-parallel-item:first-child::after {align-self: flex-end;width: 50%;}#sk-container-id-1 div.sk-parallel-item:last-child::after {align-self: flex-start;width: 50%;}#sk-container-id-1 div.sk-parallel-item:only-child::after {width: 0;}#sk-container-id-1 div.sk-dashed-wrapped {border: 1px dashed gray;margin: 0 0.4em 0.5em 0.4em;box-sizing: border-box;padding-bottom: 0.4em;background-color: white;}#sk-container-id-1 div.sk-label label {font-family: monospace;font-weight: bold;display: inline-block;line-height: 1.2em;}#sk-container-id-1 div.sk-label-container {text-align: center;}#sk-container-id-1 div.sk-container {/* jupyter's `normalize.less` sets `[hidden] { display: none; }` but bootstrap.min.css set `[hidden] { display: none !important; }` so we also need the `!important` here to be able to override the default hidden behavior on the sphinx rendered scikit-learn.org. See: https://github.com/scikit-learn/scikit-learn/issues/21755 */display: inline-block !important;position: relative;}#sk-container-id-1 div.sk-text-repr-fallback {display: none;}</style><div id=\"sk-container-id-1\" class=\"sk-top-container\"><div class=\"sk-text-repr-fallback\"><pre>LinearRegression()</pre><b>In a Jupyter environment, please rerun this cell to show the HTML representation or trust the notebook. <br />On GitHub, the HTML representation is unable to render, please try loading this page with nbviewer.org.</b></div><div class=\"sk-container\" hidden><div class=\"sk-item\"><div class=\"sk-estimator sk-toggleable\"><input class=\"sk-toggleable__control sk-hidden--visually\" id=\"sk-estimator-id-1\" type=\"checkbox\" checked><label for=\"sk-estimator-id-1\" class=\"sk-toggleable__label sk-toggleable__label-arrow\">LinearRegression</label><div class=\"sk-toggleable__content\"><pre>LinearRegression()</pre></div></div></div></div></div>"
      ],
      "text/plain": [
       "LinearRegression()"
      ]
     },
     "execution_count": 80,
     "metadata": {},
     "output_type": "execute_result"
    }
   ],
   "source": [
    "std_scaler = StandardScaler()\n",
    "X2_poly_norm = std_scaler.fit_transform(X2_poly)\n",
    "reg = LinearRegression()\n",
    "reg.fit(X2_poly_norm,y2)"
   ]
  },
  {
   "cell_type": "code",
   "execution_count": 81,
   "id": "209a45d3-a853-41f2-9c30-356ec567d1e4",
   "metadata": {},
   "outputs": [],
   "source": [
    "y_pred_no_regu = reg.predict(X2_poly_norm)\n",
    "pline = np.c_[X2['sqft'],y_pred_no_regu]\n",
    "pline = pline[pline[:,0].argsort()]"
   ]
  },
  {
   "cell_type": "code",
   "execution_count": 82,
   "id": "5686f854-45c5-46d1-a933-d72b34c16e90",
   "metadata": {},
   "outputs": [
    {
     "data": {
      "image/png": "[encoded data removed]",
      "text/plain": [
       "<Figure size 800x500 with 1 Axes>"
      ]
     },
     "metadata": {},
     "output_type": "display_data"
    }
   ],
   "source": [
    "plt.close('all')\n",
    "fig, (ax1) = plt.subplots(1, 1, figsize=(8, 5))\n",
    "ax1.scatter(X2['sqft'], y2, marker='x', c='r')\n",
    "ax1.plot(pline[:,0], pline[:,1], label=str('Actual sqft with Trained Housing Price'))\n",
    "ax1.set_title('Housing Data')\n",
    "ax1.set_xlabel('sqft')\n",
    "ax1.set_ylabel('price')\n",
    "plt.show()"
   ]
  },
  {
   "cell_type": "code",
   "execution_count": 83,
   "id": "d8552d87-5bb6-4122-9046-570ae287ba46",
   "metadata": {},
   "outputs": [],
   "source": [
    "myAsk = np.array([3800,3]).reshape(1,-1)\n",
    "myAsk= pd.DataFrame(myAsk, columns=['sqft','rm'])"
   ]
  },
  {
   "cell_type": "code",
   "execution_count": 84,
   "id": "c88134c2-9f88-441f-a1e6-81d20acd35c8",
   "metadata": {},
   "outputs": [],
   "source": [
    "myAsk_poly = polynomial_features.transform(myAsk)"
   ]
  },
  {
   "cell_type": "code",
   "execution_count": 85,
   "id": "95659aee",
   "metadata": {},
   "outputs": [
    {
     "data": {
      "text/plain": [
       "array([-2.06246486e+57])"
      ]
     },
     "execution_count": 85,
     "metadata": {},
     "output_type": "execute_result"
    }
   ],
   "source": [
    "my.prediction(myAsk_poly, reg.intercept_, reg.coef_[0])"
   ]
  },
  {
   "cell_type": "code",
   "execution_count": 86,
   "id": "f2971a27-52dd-4b08-b5e9-c3139a79bebc",
   "metadata": {},
   "outputs": [
    {
     "data": {
      "text/plain": [
       "array([[1000.,    3.],\n",
       "       [1100.,    3.],\n",
       "       [1200.,    3.],\n",
       "       [1300.,    3.],\n",
       "       [1400.,    3.]])"
      ]
     },
     "execution_count": 86,
     "metadata": {},
     "output_type": "execute_result"
    }
   ],
   "source": [
    "linAsk = np.arange(1000, 4500, 100).reshape(-1,1)\n",
    "rooms = np.ones((linAsk.shape[0],1)) * 3\n",
    "linAsk = np.c_[linAsk, rooms]\n",
    "linAsk[:5]"
   ]
  },
  {
   "cell_type": "code",
   "execution_count": 87,
   "id": "227ea19f-3458-4d37-bf3b-544d4f675565",
   "metadata": {},
   "outputs": [],
   "source": [
    "linAsk= pd.DataFrame(linAsk, columns=['sqft','rm'])\n",
    "linAsk_poly = polynomial_features.transform(linAsk)"
   ]
  },
  {
   "cell_type": "code",
   "execution_count": 88,
   "id": "f0eb37b3-529c-4d56-a3a8-6b2e7b4a56b4",
   "metadata": {},
   "outputs": [],
   "source": [
    "linAsk_pred = my.prediction(std_scaler.transform(linAsk_poly), reg.intercept_, reg.coef_[0])\n",
    "newpline = np.c_ [linAsk['sqft'],linAsk_pred]\n",
    "newpline = newpline[newpline[:,0].argsort()]"
   ]
  },
  {
   "cell_type": "code",
   "execution_count": 89,
   "id": "c654ecac-b641-4612-afe6-9db0d6eef3dc",
   "metadata": {},
   "outputs": [
    {
     "data": {
      "image/png": "[encoded data removed]",
      "text/plain": [
       "<Figure size 800x500 with 1 Axes>"
      ]
     },
     "metadata": {},
     "output_type": "display_data"
    }
   ],
   "source": [
    "plt.close('all')\n",
    "fig, (ax1) = plt.subplots(1, 1, figsize=(8, 5))\n",
    "ax1.scatter(X2['sqft'], y2, marker='x', c='r', label='Actual sqft with Housing Price')\n",
    "ax1.plot(pline[:,0], pline[:,1], label=str('Actual sqft with Trained Housing Price'))\n",
    "ax1.plot(newpline[:,0], newpline[:,1], c='g', label='Generic Linear sqft with Housing Price Prediction')\n",
    "ax1.set_ylim(100000,800000)\n",
    "ax1.set_title('Housing Data')\n",
    "ax1.set_xlabel('Sqft')\n",
    "ax1.set_ylabel('Price')\n",
    "ax1.legend(loc=\"upper left\")\n",
    "plt.show()\n"
   ]
  },
  {
   "cell_type": "markdown",
   "id": "02633b63-f304-4137-a49f-7855ea9b1c61",
   "metadata": {},
   "source": [
    "#### Gradient Descent with 12 Degrees Polynomial With Very High Regularization"
   ]
  },
  {
   "cell_type": "code",
   "execution_count": 90,
   "id": "e0debd82-395d-4566-89dd-666b10815f26",
   "metadata": {},
   "outputs": [],
   "source": [
    "X2_norm, avg2, stddev2 = my.std_norm(X2_poly)"
   ]
  },
  {
   "cell_type": "code",
   "execution_count": 91,
   "id": "4176a694",
   "metadata": {
    "scrolled": true
   },
   "outputs": [
    {
     "name": "stdout",
     "output_type": "stream",
     "text": [
      "iteration 0: cost = 6.5037e+10: intercept = 3.4041e+02: weights = [105.76413349  54.70882176 103.06433705  97.7738803   56.87167954\n",
      "  97.0392597   98.00031544  89.00009177  58.49254848  90.50169799\n",
      "  92.08006239  90.62816597  82.31835023  59.82308305  84.83265797\n",
      "  85.71477426  85.551292    83.60377849  77.19757059  60.83695463\n",
      "  80.33409495  80.38550928  80.03249003  79.31925074  77.65413614\n",
      "  73.10788193  61.4392177   76.86854418  76.25855479  75.49099104\n",
      "  74.76711226  74.03059299  72.80769846  69.72363266  61.57924419\n",
      "  74.19900224  73.12860952  72.02057717  71.07515736  70.34904438\n",
      "  69.74548303  68.90597333  66.86748608  61.29194106  72.11000737\n",
      "  70.74310627  69.41094134  68.27672431  67.40554581  66.78861041\n",
      "  66.3313297   65.77259994  64.44426152  60.68091121  70.43554854\n",
      "  68.89188829  67.43281782  66.18127036  65.18716039  64.45661907\n",
      "  63.96138313  63.6235724   63.25605906  62.39573369  59.87508806\n",
      "  69.05609227  67.41942778  65.90341413  64.59601109  63.5294514\n",
      "  62.70694308  62.11521537  61.72484761  61.47577869  61.23407619\n",
      "  60.67691442  58.99106034  67.88828269  66.21599136  64.69032666\n",
      "  63.37110195  62.2755632   61.4008038   60.73506607  60.26135855\n",
      "  59.95454019  59.76931972  59.60915558  59.24669542  58.11474199]\n",
      "iteration 50000: cost = 4.6603e+09: intercept = 3.4041e+05: weights = [ 4.57347991e+03  1.34026811e+03  3.90198356e+03  3.32852234e+03\n",
      "  1.07477283e+03  3.14213653e+03  2.99584890e+03  2.38082345e+03\n",
      "  8.53979569e+02  2.46196186e+03  2.38089211e+03  2.19528067e+03\n",
      "  1.71633502e+03  6.72323327e+02  1.91681133e+03  1.81885083e+03\n",
      "  1.72431843e+03  1.57574542e+03  1.24087104e+03  5.20144512e+02\n",
      "  1.49910414e+03  1.37581082e+03  1.28828712e+03  1.21809141e+03\n",
      "  1.11825306e+03  8.93246477e+02  3.90781861e+02  1.18280751e+03\n",
      "  1.04310833e+03  9.47552766e+02  8.88277398e+02  8.46274934e+02\n",
      "  7.85029976e+02  6.35243864e+02  2.80627437e+02  9.42215518e+02\n",
      "  7.96157283e+02  6.94606284e+02  6.32043565e+02  5.98352867e+02\n",
      "  5.77559413e+02  5.42263372e+02  4.41852433e+02  1.87725807e+02\n",
      "  7.56923610e+02  6.11969866e+02  5.09168345e+02  4.43087288e+02\n",
      "  4.06532368e+02  3.90721467e+02  3.83403176e+02  3.64244455e+02\n",
      "  2.95839474e+02  1.10554158e+02  6.11929750e+02  4.72827565e+02\n",
      "  3.72664583e+02  3.05656012e+02  2.65642238e+02  2.46548018e+02\n",
      "  2.41715474e+02  2.42069725e+02  2.32476011e+02  1.84899505e+02\n",
      "  4.74297182e+01  4.96518285e+02  3.65952391e+02  2.70938249e+02\n",
      "  2.05425706e+02  1.63727089e+02  1.40914583e+02  1.32539010e+02\n",
      "  1.33809780e+02  1.38058340e+02  1.33915886e+02  1.00084325e+02\n",
      " -3.55736107e+00  4.03098978e+02  2.82355095e+02  1.93860117e+02\n",
      "  1.31498123e+02  8.99216874e+01  6.48046569e+01  5.26658772e+01\n",
      "  5.04313539e+01  5.47114714e+01  6.05845633e+01  5.94178159e+01\n",
      "  3.48390824e+01 -4.43770319e+01]\n",
      "iteration 100000: cost = 4.6603e+09: intercept = 3.4041e+05: weights = [ 4.57347991e+03  1.34026811e+03  3.90198356e+03  3.32852234e+03\n",
      "  1.07477283e+03  3.14213653e+03  2.99584890e+03  2.38082345e+03\n",
      "  8.53979569e+02  2.46196186e+03  2.38089211e+03  2.19528067e+03\n",
      "  1.71633502e+03  6.72323327e+02  1.91681133e+03  1.81885083e+03\n",
      "  1.72431843e+03  1.57574542e+03  1.24087104e+03  5.20144512e+02\n",
      "  1.49910414e+03  1.37581082e+03  1.28828712e+03  1.21809141e+03\n",
      "  1.11825306e+03  8.93246477e+02  3.90781861e+02  1.18280751e+03\n",
      "  1.04310833e+03  9.47552766e+02  8.88277398e+02  8.46274934e+02\n",
      "  7.85029976e+02  6.35243864e+02  2.80627437e+02  9.42215518e+02\n",
      "  7.96157283e+02  6.94606284e+02  6.32043565e+02  5.98352867e+02\n",
      "  5.77559413e+02  5.42263372e+02  4.41852433e+02  1.87725807e+02\n",
      "  7.56923610e+02  6.11969866e+02  5.09168345e+02  4.43087288e+02\n",
      "  4.06532368e+02  3.90721467e+02  3.83403176e+02  3.64244455e+02\n",
      "  2.95839474e+02  1.10554158e+02  6.11929750e+02  4.72827565e+02\n",
      "  3.72664583e+02  3.05656012e+02  2.65642238e+02  2.46548018e+02\n",
      "  2.41715474e+02  2.42069725e+02  2.32476011e+02  1.84899505e+02\n",
      "  4.74297182e+01  4.96518285e+02  3.65952391e+02  2.70938249e+02\n",
      "  2.05425706e+02  1.63727089e+02  1.40914583e+02  1.32539010e+02\n",
      "  1.33809780e+02  1.38058340e+02  1.33915886e+02  1.00084325e+02\n",
      " -3.55736107e+00  4.03098978e+02  2.82355095e+02  1.93860117e+02\n",
      "  1.31498123e+02  8.99216874e+01  6.48046569e+01  5.26658772e+01\n",
      "  5.04313539e+01  5.47114714e+01  6.05845633e+01  5.94178159e+01\n",
      "  3.48390824e+01 -4.43770319e+01]\n",
      "iteration 150000: cost = 4.6603e+09: intercept = 3.4041e+05: weights = [ 4.57347991e+03  1.34026811e+03  3.90198356e+03  3.32852234e+03\n",
      "  1.07477283e+03  3.14213653e+03  2.99584890e+03  2.38082345e+03\n",
      "  8.53979569e+02  2.46196186e+03  2.38089211e+03  2.19528067e+03\n",
      "  1.71633502e+03  6.72323327e+02  1.91681133e+03  1.81885083e+03\n",
      "  1.72431843e+03  1.57574542e+03  1.24087104e+03  5.20144512e+02\n",
      "  1.49910414e+03  1.37581082e+03  1.28828712e+03  1.21809141e+03\n",
      "  1.11825306e+03  8.93246477e+02  3.90781861e+02  1.18280751e+03\n",
      "  1.04310833e+03  9.47552766e+02  8.88277398e+02  8.46274934e+02\n",
      "  7.85029976e+02  6.35243864e+02  2.80627437e+02  9.42215518e+02\n",
      "  7.96157283e+02  6.94606284e+02  6.32043565e+02  5.98352867e+02\n",
      "  5.77559413e+02  5.42263372e+02  4.41852433e+02  1.87725807e+02\n",
      "  7.56923610e+02  6.11969866e+02  5.09168345e+02  4.43087288e+02\n",
      "  4.06532368e+02  3.90721467e+02  3.83403176e+02  3.64244455e+02\n",
      "  2.95839474e+02  1.10554158e+02  6.11929750e+02  4.72827565e+02\n",
      "  3.72664583e+02  3.05656012e+02  2.65642238e+02  2.46548018e+02\n",
      "  2.41715474e+02  2.42069725e+02  2.32476011e+02  1.84899505e+02\n",
      "  4.74297182e+01  4.96518285e+02  3.65952391e+02  2.70938249e+02\n",
      "  2.05425706e+02  1.63727089e+02  1.40914583e+02  1.32539010e+02\n",
      "  1.33809780e+02  1.38058340e+02  1.33915886e+02  1.00084325e+02\n",
      " -3.55736107e+00  4.03098978e+02  2.82355095e+02  1.93860117e+02\n",
      "  1.31498123e+02  8.99216874e+01  6.48046569e+01  5.26658772e+01\n",
      "  5.04313539e+01  5.47114714e+01  6.05845633e+01  5.94178159e+01\n",
      "  3.48390824e+01 -4.43770319e+01]\n",
      "iteration 199999: Last cost = 4.6603e+09: intercept = 3.4041e+05: weights = [ 4.57347991e+03  1.34026811e+03  3.90198356e+03  3.32852234e+03\n",
      "  1.07477283e+03  3.14213653e+03  2.99584890e+03  2.38082345e+03\n",
      "  8.53979569e+02  2.46196186e+03  2.38089211e+03  2.19528067e+03\n",
      "  1.71633502e+03  6.72323327e+02  1.91681133e+03  1.81885083e+03\n",
      "  1.72431843e+03  1.57574542e+03  1.24087104e+03  5.20144512e+02\n",
      "  1.49910414e+03  1.37581082e+03  1.28828712e+03  1.21809141e+03\n",
      "  1.11825306e+03  8.93246477e+02  3.90781861e+02  1.18280751e+03\n",
      "  1.04310833e+03  9.47552766e+02  8.88277398e+02  8.46274934e+02\n",
      "  7.85029976e+02  6.35243864e+02  2.80627437e+02  9.42215518e+02\n",
      "  7.96157283e+02  6.94606284e+02  6.32043565e+02  5.98352867e+02\n",
      "  5.77559413e+02  5.42263372e+02  4.41852433e+02  1.87725807e+02\n",
      "  7.56923610e+02  6.11969866e+02  5.09168345e+02  4.43087288e+02\n",
      "  4.06532368e+02  3.90721467e+02  3.83403176e+02  3.64244455e+02\n",
      "  2.95839474e+02  1.10554158e+02  6.11929750e+02  4.72827565e+02\n",
      "  3.72664583e+02  3.05656012e+02  2.65642238e+02  2.46548018e+02\n",
      "  2.41715474e+02  2.42069725e+02  2.32476011e+02  1.84899505e+02\n",
      "  4.74297182e+01  4.96518285e+02  3.65952391e+02  2.70938249e+02\n",
      "  2.05425706e+02  1.63727089e+02  1.40914583e+02  1.32539010e+02\n",
      "  1.33809780e+02  1.38058340e+02  1.33915886e+02  1.00084325e+02\n",
      " -3.55736107e+00  4.03098978e+02  2.82355095e+02  1.93860117e+02\n",
      "  1.31498123e+02  8.99216874e+01  6.48046569e+01  5.26658772e+01\n",
      "  5.04313539e+01  5.47114714e+01  6.05845633e+01  5.94178159e+01\n",
      "  3.48390824e+01 -4.43770319e+01]\n",
      "best w [ 4.5734799e+03  1.3402681e+03  3.9019836e+03  3.3285223e+03\n",
      "  1.0747728e+03  3.1421365e+03  2.9958489e+03  2.3808235e+03\n",
      "  8.5397960e+02  2.4619619e+03  2.3808921e+03  2.1952807e+03\n",
      "  1.7163350e+03  6.7232330e+02  1.9168113e+03  1.8188508e+03\n",
      "  1.7243184e+03  1.5757454e+03  1.2408710e+03  5.2014450e+02\n",
      "  1.4991041e+03  1.3758108e+03  1.2882871e+03  1.2180914e+03\n",
      "  1.1182531e+03  8.9324650e+02  3.9078190e+02  1.1828075e+03\n",
      "  1.0431083e+03  9.4755280e+02  8.8827740e+02  8.4627490e+02\n",
      "  7.8503000e+02  6.3524390e+02  2.8062740e+02  9.4221550e+02\n",
      "  7.9615730e+02  6.9460630e+02  6.3204360e+02  5.9835290e+02\n",
      "  5.7755940e+02  5.4226340e+02  4.4185240e+02  1.8772580e+02\n",
      "  7.5692360e+02  6.1196990e+02  5.0916830e+02  4.4308730e+02\n",
      "  4.0653240e+02  3.9072150e+02  3.8340320e+02  3.6424450e+02\n",
      "  2.9583950e+02  1.1055420e+02  6.1192970e+02  4.7282760e+02\n",
      "  3.7266460e+02  3.0565600e+02  2.6564220e+02  2.4654800e+02\n",
      "  2.4171550e+02  2.4206970e+02  2.3247600e+02  1.8489950e+02\n",
      "  4.7429700e+01  4.9651830e+02  3.6595240e+02  2.7093820e+02\n",
      "  2.0542570e+02  1.6372710e+02  1.4091460e+02  1.3253900e+02\n",
      "  1.3380980e+02  1.3805830e+02  1.3391590e+02  1.0008430e+02\n",
      " -3.5574000e+00  4.0309900e+02  2.8235510e+02  1.9386010e+02\n",
      "  1.3149810e+02  8.9921700e+01  6.4804700e+01  5.2665900e+01\n",
      "  5.0431400e+01  5.4711500e+01  6.0584600e+01  5.9417800e+01\n",
      "  3.4839100e+01 -4.4377000e+01]\n",
      "best b 340412.6596\n"
     ]
    }
   ],
   "source": [
    "coef, intercept, _, _, _ = compute_gradient_descent_regu_beta(X2_norm, y2, iterations=200000, alpha=0.001, reguLambda= 500, \n",
    "                                                              printProgress=True, printProgressRate=50000)"
   ]
  },
  {
   "cell_type": "code",
   "execution_count": 92,
   "id": "2af065dc",
   "metadata": {},
   "outputs": [
    {
     "name": "stdout",
     "output_type": "stream",
     "text": [
      "original coef [ 5.81717715e+00  1.78027616e+03  9.62514959e-04  8.58206448e-01\n",
      "  2.29241419e+02  1.74925959e-07  1.67997634e-04  1.25779840e-01\n",
      "  3.57684442e+01  3.16479911e-11  3.02578315e-08  2.66019202e-05\n",
      "  1.87751802e-02  5.84950527e+00  5.69360842e-15  5.26832665e-12\n",
      "  4.74096702e-09  4.01123834e-06  2.81112969e-03  9.54811991e-01\n",
      "  1.02571898e-18  9.07432953e-16  8.00922761e-13  7.01994343e-10\n",
      "  5.87952992e-07  4.16949891e-04  1.51214528e-01  1.85776277e-22\n",
      "  1.56376238e-19  1.32996828e-16  1.15175352e-13  1.00365997e-10\n",
      "  8.43178057e-08  6.06791239e-05  2.27070673e-02  3.38618518e-26\n",
      "  2.70793587e-23  2.19892616e-20  1.84117064e-17  1.59134331e-14\n",
      "  1.39418462e-11  1.18093641e-08  8.58010745e-06  3.14379161e-03\n",
      "  6.20649287e-30  4.71454163e-27  3.63247368e-24  2.89850892e-21\n",
      "  2.42215145e-18  2.11047001e-15  1.87102355e-12  1.60018684e-09\n",
      "  1.16148812e-06  3.79435131e-04  1.14186727e-33  8.23786307e-31\n",
      "  5.98656562e-28  4.48864213e-25  3.54528385e-22  2.97838171e-19\n",
      "  2.63579193e-16  2.37798519e-13  2.05315726e-10  1.46169951e-07\n",
      "  3.30930053e-05  2.10368055e-37  1.43989036e-34  9.79279747e-32\n",
      "  6.76985170e-29  4.89437968e-26  3.80753016e-23  3.22912917e-20\n",
      "  2.93476951e-17  2.72274519e-14  2.37226621e-11  1.58858285e-08\n",
      " -5.01550582e-07  3.86999807e-41  2.50576780e-38  1.57533770e-35\n",
      "  9.72112054e-33  6.02021032e-30  3.91687213e-27  2.86750280e-24\n",
      "  2.46988062e-21  2.40790619e-18  2.39470281e-15  2.10821474e-12\n",
      "  1.10818746e-09 -1.25898044e-06]\n",
      "original coef 280287.97355060163\n"
     ]
    }
   ],
   "source": [
    "coef_or2, intercept_or2 = my.reverse_bw_std_norm(coef, intercept, avg2, stddev2)\n",
    "print('original coef', coef_or2.flatten())\n",
    "print('original coef', intercept_or2)"
   ]
  },
  {
   "cell_type": "code",
   "execution_count": 93,
   "id": "6d764c2b-9226-40e2-8083-aec611bc093e",
   "metadata": {},
   "outputs": [],
   "source": [
    "y_pred_regu500 = my.prediction(X2_poly, intercept_or2, coef_or2)\n",
    "pline = np.c_[X2['sqft'],y_pred_regu500]\n",
    "pline = pline[pline[:,0].argsort()]"
   ]
  },
  {
   "cell_type": "code",
   "execution_count": 94,
   "id": "d4239f44-46ba-46b5-8dc3-d23afcebc9bb",
   "metadata": {},
   "outputs": [],
   "source": [
    "linAsk_pred = my.prediction(linAsk_poly, intercept_or2, coef_or2)\n",
    "newpline = np.c_ [linAsk['sqft'],linAsk_pred]\n",
    "newpline = newpline[newpline[:,0].argsort()]"
   ]
  },
  {
   "cell_type": "code",
   "execution_count": 95,
   "id": "ae6e0093-1623-416d-9020-3c840d83e9ae",
   "metadata": {},
   "outputs": [
    {
     "data": {
      "image/png": "[encoded data removed]",
      "text/plain": [
       "<Figure size 800x500 with 1 Axes>"
      ]
     },
     "metadata": {},
     "output_type": "display_data"
    }
   ],
   "source": [
    "plt.close('all')\n",
    "fig, (ax1) = plt.subplots(1, 1, figsize=(8, 5))\n",
    "ax1.scatter(X2['sqft'], y2, marker='x', c='r', label='Actual sqft with Housing Price')\n",
    "ax1.plot(pline[:,0], pline[:,1], label=str('Actual sqft with Trained Housing Price'))\n",
    "ax1.plot(newpline[:,0], newpline[:,1], c='g', label='Generic Linear sqft with Housing Price Prediction')\n",
    "ax1.set_ylim(100000,800000)\n",
    "ax1.set_title('Housing Data')\n",
    "ax1.set_xlabel('Sqft')\n",
    "ax1.set_ylabel('Price')\n",
    "ax1.legend(loc=\"upper left\")\n",
    "plt.show()"
   ]
  },
  {
   "cell_type": "code",
   "execution_count": 96,
   "id": "322e6722",
   "metadata": {},
   "outputs": [
    {
     "data": {
      "text/plain": [
       "array([[411251.7849447]])"
      ]
     },
     "execution_count": 96,
     "metadata": {},
     "output_type": "execute_result"
    }
   ],
   "source": [
    "my.prediction(myAsk_poly, intercept_or2, coef_or2)"
   ]
  },
  {
   "cell_type": "markdown",
   "id": "901a2f21-edd2-4658-96b5-0dc1bb000d72",
   "metadata": {},
   "source": [
    "**The prediction is lower than expected as the trend line is almost flat.**"
   ]
  },
  {
   "cell_type": "markdown",
   "id": "d5a3d40c-a3e0-4baa-9bb1-445e62bc1870",
   "metadata": {},
   "source": [
    "#### Gradient Descent with 12 Degrees Polynomial With Some Regularization"
   ]
  },
  {
   "cell_type": "code",
   "execution_count": 97,
   "id": "cd8e1132-b5fb-479f-82af-92584ed1b0b8",
   "metadata": {
    "scrolled": true
   },
   "outputs": [
    {
     "name": "stdout",
     "output_type": "stream",
     "text": [
      "iteration 0: cost = 6.5035e+10: intercept = 3.4041e+02: weights = [105.76413349  54.70882176 103.06433705  97.7738803   56.87167954\n",
      "  97.0392597   98.00031544  89.00009177  58.49254848  90.50169799\n",
      "  92.08006239  90.62816597  82.31835023  59.82308305  84.83265797\n",
      "  85.71477426  85.551292    83.60377849  77.19757059  60.83695463\n",
      "  80.33409495  80.38550928  80.03249003  79.31925074  77.65413614\n",
      "  73.10788193  61.4392177   76.86854418  76.25855479  75.49099104\n",
      "  74.76711226  74.03059299  72.80769846  69.72363266  61.57924419\n",
      "  74.19900224  73.12860952  72.02057717  71.07515736  70.34904438\n",
      "  69.74548303  68.90597333  66.86748608  61.29194106  72.11000737\n",
      "  70.74310627  69.41094134  68.27672431  67.40554581  66.78861041\n",
      "  66.3313297   65.77259994  64.44426152  60.68091121  70.43554854\n",
      "  68.89188829  67.43281782  66.18127036  65.18716039  64.45661907\n",
      "  63.96138313  63.6235724   63.25605906  62.39573369  59.87508806\n",
      "  69.05609227  67.41942778  65.90341413  64.59601109  63.5294514\n",
      "  62.70694308  62.11521537  61.72484761  61.47577869  61.23407619\n",
      "  60.67691442  58.99106034  67.88828269  66.21599136  64.69032666\n",
      "  63.37110195  62.2755632   61.4008038   60.73506607  60.26135855\n",
      "  59.95454019  59.76931972  59.60915558  59.24669542  58.11474199]\n",
      "iteration 50000: cost = 2.2189e+09: intercept = 3.4041e+05: weights = [31237.79284928  3113.17530701 22684.69447579 17984.39360665\n",
      " -3309.48280977 14494.45090338 14863.82261537  9221.12279272\n",
      " -6691.46095297  7682.44902185  9450.60581442  9273.52982097\n",
      "  4392.70402794 -8015.41436641  2470.01914813  4506.63443937\n",
      "  6060.72050399  5907.02173941  1986.38324721 -8026.80783938\n",
      " -1319.21152868   659.84635308  2663.30697588  4121.04054952\n",
      "  4094.92425117   992.7278968  -7234.54665467 -3965.35582618\n",
      " -2102.36847999   -71.15615114  1828.14092422  3170.58869648\n",
      "  3241.75101494   789.81675352 -5998.72659854 -5734.75254704\n",
      " -3970.11056157 -2030.24899126   -97.2820726   1621.62080902\n",
      "  2815.92180929  2938.88143162   999.17765409 -4579.64153085\n",
      " -6847.94861333 -5152.31268137 -3321.61280967 -1480.93221499\n",
      "   258.41986447  1757.92314029  2789.34446927  2930.90430749\n",
      "  1395.56313986 -3155.82404514 -7477.7908622  -5828.71385369\n",
      " -4096.17368866 -2373.4484185   -726.64408474   780.45989811\n",
      "  2054.7194046   2926.01411219  3066.43765062  1850.75245979\n",
      " -1835.35163818 -7756.18440395 -6140.79981581 -4491.3279541\n",
      " -2880.20403354 -1349.95380671    69.51515864  1342.8570915\n",
      "  2406.13465868  3130.62637959  3259.74321462  2296.72408801\n",
      "  -671.07746821 -7782.28840174 -6195.36803739 -4616.9173747\n",
      " -3103.79334978 -1684.54216766  -372.68475307   821.6556076\n",
      "  1879.37780835  2755.4546801   3351.18205084  3464.72916827\n",
      "  2701.32800372   321.71201055]\n",
      "iteration 100000: cost = 2.2189e+09: intercept = 3.4041e+05: weights = [31237.79981209  3113.19525775 22684.68540691 17984.38328406\n",
      " -3309.4877835  14494.44709942 14863.8123964   9221.10974154\n",
      " -6691.4703236   7682.45412002  9450.60491614  9273.52454646\n",
      "  4392.69634242 -8015.42047874  2470.02931209  4506.6404428\n",
      "  6060.72334616  5907.02214788  1986.38175721 -8026.80946106\n",
      " -1319.2009395    659.8544625   2663.3133978   4121.04582749\n",
      "  4094.92843626   992.73064894 -7234.54498411 -3965.34795707\n",
      " -2102.36188065   -71.1501432   1828.14685268  3170.59469717\n",
      "  3241.75674418   789.82144846 -5998.72333908 -5734.74888814\n",
      " -3970.10736389 -2030.24567916   -97.27818428  1621.62551015\n",
      "  2815.92722274  2938.88702936   999.18252768 -4579.63811204\n",
      " -6847.94947799 -5152.3134749  -3321.61306044 -1480.9315377\n",
      "   258.42171684  1757.92621328  2789.34852955  2930.90877229\n",
      "  1395.56710261 -3155.8214115  -7477.79589384 -5828.7184605\n",
      " -4096.17750028 -2373.45113612  -726.64549713   780.45988661\n",
      "  2054.72072919  2926.0164868   3066.44050897  1850.75496705\n",
      " -1835.35028997 -7756.19294479 -6140.80769337 -4491.33489127\n",
      " -2880.20981493 -1349.9582751     69.51209488  1342.85543736\n",
      "  2406.13429603  3130.62701684  3259.74433668  2296.72495938\n",
      "  -671.07758477 -7782.29971836 -6195.37852871 -4616.92684551\n",
      " -3103.80165822 -1684.54921218  -372.69046922   821.65123997\n",
      "  1879.37474661  2755.45278788  3351.18105593  3464.72862019\n",
      "  2701.32727193   321.71044757]\n",
      "iteration 150000: cost = 2.2189e+09: intercept = 3.4041e+05: weights = [31237.79981246  3113.19525808 22684.68540672 17984.38328393\n",
      " -3309.48778363 14494.44709924 14863.81239617  9221.1097413\n",
      " -6691.47032378  7682.45412001  9450.60491606  9273.52454632\n",
      "  4392.69634227 -8015.42047884  2470.02931221  4506.64044287\n",
      "  6060.72334618  5907.02214787  1986.38175718 -8026.80946105\n",
      " -1319.20093934   659.85446263  2663.31339791  4121.04582757\n",
      "  4094.92843632   992.730649   -7234.54498403 -3965.34795694\n",
      " -2102.36188051   -71.15014307  1828.1468528   3170.59469727\n",
      "  3241.75674428   789.82144854 -5998.72333897 -5734.74888807\n",
      " -3970.1073638  -2030.24567906   -97.27818419  1621.62551024\n",
      "  2815.92722283  2938.88702945   999.18252777 -4579.63811194\n",
      " -6847.94947799 -5152.31347488 -3321.61306041 -1480.93153766\n",
      "   258.42171689  1757.92621334  2789.34852961  2930.90877235\n",
      "  1395.56710267 -3155.82141143 -7477.79589392 -5828.71846054\n",
      " -4096.17750031 -2373.45113613  -726.64549713   780.45988662\n",
      "  2054.72072921  2926.01648682  3066.44050899  1850.75496707\n",
      " -1835.35028994 -7756.19294493 -6140.80769348 -4491.33489136\n",
      " -2880.20981501 -1349.95827516    69.51209484  1342.85543733\n",
      "  2406.134296    3130.62701683  3259.74433666  2296.72495936\n",
      "  -671.07758478 -7782.29971854 -6195.37852887 -4616.92684565\n",
      " -3103.80165834 -1684.54921229  -372.69046931   821.65123989\n",
      "  1879.37474654  2755.45278781  3351.18105587  3464.72862014\n",
      "  2701.32727187   321.71044752]\n",
      "iteration 199999: Last cost = 2.2189e+09: intercept = 3.4041e+05: weights = [31237.79981246  3113.19525808 22684.68540672 17984.38328393\n",
      " -3309.48778363 14494.44709924 14863.81239617  9221.1097413\n",
      " -6691.47032378  7682.45412001  9450.60491606  9273.52454632\n",
      "  4392.69634227 -8015.42047884  2470.02931221  4506.64044287\n",
      "  6060.72334618  5907.02214787  1986.38175718 -8026.80946105\n",
      " -1319.20093934   659.85446263  2663.31339791  4121.04582757\n",
      "  4094.92843632   992.730649   -7234.54498403 -3965.34795694\n",
      " -2102.36188051   -71.15014307  1828.1468528   3170.59469727\n",
      "  3241.75674428   789.82144854 -5998.72333897 -5734.74888807\n",
      " -3970.1073638  -2030.24567906   -97.27818419  1621.62551024\n",
      "  2815.92722283  2938.88702945   999.18252777 -4579.63811194\n",
      " -6847.94947799 -5152.31347488 -3321.61306041 -1480.93153766\n",
      "   258.42171689  1757.92621334  2789.34852961  2930.90877235\n",
      "  1395.56710267 -3155.82141143 -7477.79589392 -5828.71846054\n",
      " -4096.17750031 -2373.45113613  -726.64549713   780.45988662\n",
      "  2054.72072921  2926.01648682  3066.44050899  1850.75496707\n",
      " -1835.35028994 -7756.19294493 -6140.80769348 -4491.33489136\n",
      " -2880.20981501 -1349.95827516    69.51209484  1342.85543733\n",
      "  2406.134296    3130.62701683  3259.74433666  2296.72495936\n",
      "  -671.07758478 -7782.29971854 -6195.37852887 -4616.92684565\n",
      " -3103.80165834 -1684.54921229  -372.69046931   821.65123989\n",
      "  1879.37474654  2755.45278781  3351.18105587  3464.72862014\n",
      "  2701.32727187   321.71044752]\n",
      "best w [31237.7998  3113.1953 22684.6854 17984.3833 -3309.4878 14494.4471\n",
      " 14863.8124  9221.1097 -6691.4703  7682.4541  9450.6049  9273.5245\n",
      "  4392.6963 -8015.4205  2470.0293  4506.6404  6060.7233  5907.0221\n",
      "  1986.3818 -8026.8095 -1319.2009   659.8545  2663.3134  4121.0458\n",
      "  4094.9284   992.7306 -7234.545  -3965.348  -2102.3619   -71.1501\n",
      "  1828.1469  3170.5947  3241.7567   789.8214 -5998.7233 -5734.7489\n",
      " -3970.1074 -2030.2457   -97.2782  1621.6255  2815.9272  2938.887\n",
      "   999.1825 -4579.6381 -6847.9495 -5152.3135 -3321.6131 -1480.9315\n",
      "   258.4217  1757.9262  2789.3485  2930.9088  1395.5671 -3155.8214\n",
      " -7477.7959 -5828.7185 -4096.1775 -2373.4511  -726.6455   780.4599\n",
      "  2054.7207  2926.0165  3066.4405  1850.755  -1835.3503 -7756.1929\n",
      " -6140.8077 -4491.3349 -2880.2098 -1349.9583    69.5121  1342.8554\n",
      "  2406.1343  3130.627   3259.7443  2296.725   -671.0776 -7782.2997\n",
      " -6195.3785 -4616.9268 -3103.8017 -1684.5492  -372.6905   821.6512\n",
      "  1879.3747  2755.4528  3351.1811  3464.7286  2701.3273   321.7104]\n",
      "best b 340412.6596\n"
     ]
    }
   ],
   "source": [
    "coef, intercept, _, _, _ = compute_gradient_descent_regu_beta(X2_norm, y2, iterations=200000, alpha=0.001, reguLambda= 10, printProgress=True, \n",
    "                                                              printProgressRate=50000)"
   ]
  },
  {
   "cell_type": "code",
   "execution_count": 98,
   "id": "58acc852-1786-41f2-9e00-18801a532b10",
   "metadata": {},
   "outputs": [
    {
     "name": "stdout",
     "output_type": "stream",
     "text": [
      "original coef [ 3.97325054e+01  4.13525270e+03  5.59570502e-03  4.63698667e+00\n",
      " -7.05890259e+02  8.06920714e-07  8.33515104e-04  4.87154859e-01\n",
      " -2.80268395e+02  9.87562983e-11  1.20104061e-07  1.12374496e-04\n",
      "  4.80521951e-02 -6.97376432e+01  7.33686173e-15  1.30535465e-11\n",
      "  1.66637953e-08  1.50369935e-05  4.50004598e-03 -1.47345473e+01\n",
      " -9.02625378e-19  4.35215130e-16  1.65577090e-12  2.37498668e-09\n",
      "  2.15302377e-06  4.63387147e-04 -2.79943471e+00 -6.22812732e-22\n",
      " -3.15172865e-19 -9.98650805e-18  2.37040205e-13  3.76024252e-10\n",
      "  3.48187743e-07  7.54445281e-05 -4.85388800e-01 -2.06098513e-25\n",
      " -1.35033571e-22 -6.42718103e-20 -2.83375620e-18  4.31277770e-14\n",
      "  6.79743477e-11  6.40028236e-08  1.94026168e-05 -7.66939192e-02\n",
      " -5.61506459e-29 -3.96927981e-26 -2.36968227e-23 -9.68769220e-21\n",
      "  1.53969668e-18  9.49538447e-15  1.36121376e-11  1.28759726e-08\n",
      "  5.47910188e-06 -1.08311576e-02 -1.39536448e-32 -1.01551153e-29\n",
      " -6.58018940e-27 -3.48547790e-24 -9.69787247e-22  9.42821393e-19\n",
      "  2.24057493e-15  2.87438831e-12  2.70818678e-09  1.46309079e-06\n",
      " -1.28057385e-03 -3.28619362e-36 -2.41618582e-33 -1.62334898e-30\n",
      " -9.49179814e-28 -4.03550102e-25  1.87822574e-23  3.27168103e-19\n",
      "  5.27722981e-16  6.17412874e-13  5.77450633e-10  3.64546384e-07\n",
      " -9.46148975e-05 -7.47148628e-40 -5.49810515e-37 -3.75178713e-34\n",
      " -2.29451413e-31 -1.12779696e-28 -2.25258644e-26  4.47365041e-23\n",
      "  9.20425669e-20  1.21270214e-16  1.32460849e-13  1.22932690e-10\n",
      "  8.59258283e-08  9.12695468e-06]\n",
      "original coef 175640.19618892658\n"
     ]
    }
   ],
   "source": [
    "coef_or3, intercept_or3 = my.reverse_bw_std_norm(coef, intercept, avg2, stddev2)\n",
    "print('original coef', coef_or3.flatten())\n",
    "print('original coef', intercept_or3)"
   ]
  },
  {
   "cell_type": "code",
   "execution_count": 99,
   "id": "28efd9e5-9a3a-4144-9a88-f5d0585d85e1",
   "metadata": {},
   "outputs": [],
   "source": [
    "y_pred_regu10 = my.prediction(X2_poly, intercept_or3, coef_or3)\n",
    "pline = np.c_[X2['sqft'],y_pred_regu10]\n",
    "pline = pline[pline[:,0].argsort()]"
   ]
  },
  {
   "cell_type": "code",
   "execution_count": 100,
   "id": "63606ea5-f8c0-42b2-b54d-8829cddf7fc6",
   "metadata": {},
   "outputs": [],
   "source": [
    "linAsk_pred = my.prediction(linAsk_poly, intercept_or3, coef_or3)\n",
    "newpline = np.c_ [linAsk['sqft'],linAsk_pred]\n",
    "newpline = newpline[newpline[:,0].argsort()]"
   ]
  },
  {
   "cell_type": "code",
   "execution_count": 101,
   "id": "c9d9317b-dcf8-4c1e-85b7-1dde016cdad2",
   "metadata": {},
   "outputs": [
    {
     "data": {
      "image/png": "[encoded data removed]",
      "text/plain": [
       "<Figure size 800x500 with 1 Axes>"
      ]
     },
     "metadata": {},
     "output_type": "display_data"
    }
   ],
   "source": [
    "plt.close('all')\n",
    "fig, (ax1) = plt.subplots(1, 1, figsize=(8, 5))\n",
    "ax1.scatter(X2['sqft'], y2, marker='x', c='r', label='Actual sqft with Housing Price')\n",
    "ax1.plot(pline[:,0], pline[:,1], label=str('Actual sqft with Trained Housing Price'))\n",
    "ax1.plot(newpline[:,0], newpline[:,1], c='g', label='Generic Linear sqft with Housing Price Prediction')\n",
    "ax1.set_ylim(100000,800000)\n",
    "ax1.set_title('Housing Data')\n",
    "ax1.set_xlabel('Sqft')\n",
    "ax1.set_ylabel('Price')\n",
    "ax1.legend(loc=\"upper left\")\n",
    "plt.show()"
   ]
  },
  {
   "cell_type": "code",
   "execution_count": 102,
   "id": "d0133fe0-7750-44ce-be2a-fcb66480fa37",
   "metadata": {},
   "outputs": [
    {
     "data": {
      "text/plain": [
       "array([[559963.01276876]])"
      ]
     },
     "execution_count": 102,
     "metadata": {},
     "output_type": "execute_result"
    }
   ],
   "source": [
    "my.prediction(myAsk_poly, intercept_or3, coef_or3)"
   ]
  },
  {
   "cell_type": "markdown",
   "id": "a3aa5d4c-dc2a-49a8-a5e4-aae64f324813",
   "metadata": {},
   "source": [
    "## End"
   ]
  },
  {
   "cell_type": "code",
   "execution_count": null,
   "id": "12ad1741-8908-45df-be03-fa209acc3565",
   "metadata": {},
   "outputs": [],
   "source": []
  }
 ],
 "metadata": {
  "kernelspec": {
   "display_name": "Python 3 (ipykernel)",
   "language": "python",
   "name": "python3"
  },
  "language_info": {
   "codemirror_mode": {
    "name": "ipython",
    "version": 3
   },
   "file_extension": ".py",
   "mimetype": "text/x-python",
   "name": "python",
   "nbconvert_exporter": "python",
   "pygments_lexer": "ipython3",
   "version": "3.11.5"
  }
 },
 "nbformat": 4,
 "nbformat_minor": 5
}
