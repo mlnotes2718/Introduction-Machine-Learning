{
 "cells": [
  {
   "cell_type": "markdown",
   "id": "610f4f08",
   "metadata": {},
   "source": [
    "# Machine Learning Master Notes 16 - Logistics Regression"
   ]
  },
  {
   "cell_type": "markdown",
   "id": "001ef361-5b6a-4583-aa21-e020be380eb4",
   "metadata": {},
   "source": [
    "### Prepare Environment"
   ]
  },
  {
   "cell_type": "code",
   "execution_count": 1,
   "id": "7d8a9716",
   "metadata": {},
   "outputs": [],
   "source": [
    "%matplotlib inline\n",
    "\n",
    "# Essential libraries\n",
    "import numpy as np\n",
    "import pandas as pd\n",
    "import math\n",
    "import scipy\n",
    "import random\n",
    "import datetime\n",
    "from datetime import datetime\n",
    "\n",
    "# Graphical Component\n",
    "import matplotlib.pyplot as plt\n",
    "from matplotlib.gridspec import GridSpec\n",
    "from matplotlib import cm\n",
    "\n",
    "## SciKit Learning Preprocessing \n",
    "from sklearn import preprocessing\n",
    "from sklearn.preprocessing import PolynomialFeatures \n",
    "from sklearn.preprocessing import StandardScaler\n",
    "from sklearn.preprocessing import MinMaxScaler\n",
    "\n",
    "## SciKit Learn Pipeline and Train Test Split\n",
    "from sklearn.pipeline import Pipeline\n",
    "from sklearn.model_selection import train_test_split\n",
    "\n",
    "## SciKit Learn ML Models\n",
    "from sklearn import linear_model\n",
    "from sklearn.linear_model import LinearRegression\n",
    "from sklearn.linear_model import LogisticRegression\n",
    "from sklearn.linear_model import Ridge\n",
    "from sklearn.linear_model import Lasso\n",
    "from sklearn.linear_model import ElasticNet\n",
    "\n",
    "## SciKit Learn Dataset\n",
    "import sklearn.datasets as skdata\n",
    "from sklearn.datasets import make_blobs, make_classification, make_circles, make_gaussian_quantiles\n",
    "\n",
    "# The following file contain the finalized gradient descent, cost function program \n",
    "import MyRegressionProgramV1 as my\n",
    "import testFile as test\n"
   ]
  },
  {
   "cell_type": "markdown",
   "id": "0f836a3d-68fc-49de-bde7-a6dd03baba87",
   "metadata": {},
   "source": [
    "## What is Logistics Regression"
   ]
  },
  {
   "attachments": {},
   "cell_type": "markdown",
   "id": "a527e3e9-95b4-4928-be80-6f483a61c9db",
   "metadata": {},
   "source": [
    "In machine learning, we use Linear Regression to predict housing prices and many other types of prices. We can also use Linear Regression to predict temperature, production volume, water level etc. We consider these types of problems as linear problems since there are many possible prices during the prediction.\n",
    "\n",
    "For classification problems such as classifying a prediction as yes or no, true or false or 0 and 1, we use Logistic Regression. We use logistic regression to predict the probability of an outcome that is nearer to the true or closer to false. Please note that Logistic Regression is not similar to linear regression. It was named Logistic Regression in the past.\n",
    "\n",
    "Examples of Logistic Regression are, classifying tumors as benign or malignant, deciding if an email is spam, deciding if a financial transaction is fraudulent. The above examples are also known as binary classification since we are classifying a prediction to yes or no. \n",
    "\n",
    "**Please be careful and take note how the hypothesis and its prediction are formed. A prediction of a presence of a malignant tumor is OPPOSITE to the prediction of a benign tumor. The prediction of a patient that has cancer is also OPPOSITE to the prediction of a patient that has NO cancer.** \n",
    "\n",
    "**The label of the expected outcome is very important to your hypothesis.** If your hypothesis is to determine email that are spam, then make sure the label of your expected outcome(y_train) is set to 1 for spam, good email should be set to 0. If your expected  label is opposite to your hypothesis, then you might want to change your hypothesis or reverse your expected label. **Beware of how the outcome is labeled and always double check against the hypothesis.**\n",
    "\n",
    "Please note that there are 3 types of classification problem as shown below:\n",
    "\n",
    "- Binary Classification: This is the standard classification where we have only a **true or false prediction.**\n",
    "- Multi-Class Classification:  In multi-class classification system, we classify the prediction into multiple classes such as the subject of a book, classify a movie to different genres or classify a news article into different topics. **We can have many classes but one record can only belongs to one class.**\n",
    "- Multi-Label Classification: In multi-label classification system, **a record can have more than one classification label.**\n",
    "  \n",
    "\n",
    "We will be looking at binary classification first and then multi-class classification. Multi-label classification is more involved in text processing and thus is beyond the scope of this introduction."
   ]
  },
  {
   "cell_type": "markdown",
   "id": "fe5cb777",
   "metadata": {},
   "source": [
    "## Examples of Simple Binary Classification Data"
   ]
  },
  {
   "cell_type": "markdown",
   "id": "6bd6be3f-e064-47ee-95d9-4cf00cc91a33",
   "metadata": {},
   "source": [
    "### One Feature Simple Classification Data"
   ]
  },
  {
   "cell_type": "code",
   "execution_count": 2,
   "id": "cd09b3a4",
   "metadata": {},
   "outputs": [],
   "source": [
    "x_train = np.array([1, 2.1, 11, 3.9, 8, 3, 9.6, 6.5, 7.2, 4.5, 5, 10]).reshape(-1,1)\n",
    "y_train = np.array([0, 0, 1, 0, 1, 0, 1, 1, 1, 0, 0, 1])"
   ]
  },
  {
   "cell_type": "code",
   "execution_count": 3,
   "id": "f9f2289b",
   "metadata": {},
   "outputs": [
    {
     "data": {
      "text/plain": [
       "array([[11. ],\n",
       "       [ 8. ],\n",
       "       [ 9.6],\n",
       "       [ 6.5],\n",
       "       [ 7.2],\n",
       "       [10. ]])"
      ]
     },
     "execution_count": 3,
     "metadata": {},
     "output_type": "execute_result"
    }
   ],
   "source": [
    "x_train_positive = x_train[y_train == 1]\n",
    "x_train_positive"
   ]
  },
  {
   "cell_type": "code",
   "execution_count": 4,
   "id": "fefbf780",
   "metadata": {},
   "outputs": [
    {
     "data": {
      "text/plain": [
       "array([1, 1, 1, 1, 1, 1])"
      ]
     },
     "execution_count": 4,
     "metadata": {},
     "output_type": "execute_result"
    }
   ],
   "source": [
    "y_train_positive = y_train[y_train == 1]\n",
    "y_train_positive"
   ]
  },
  {
   "cell_type": "code",
   "execution_count": 5,
   "id": "9548e28f",
   "metadata": {},
   "outputs": [
    {
     "data": {
      "text/plain": [
       "array([[1. ],\n",
       "       [2.1],\n",
       "       [3.9],\n",
       "       [3. ],\n",
       "       [4.5],\n",
       "       [5. ]])"
      ]
     },
     "execution_count": 5,
     "metadata": {},
     "output_type": "execute_result"
    }
   ],
   "source": [
    "x_train_negative = x_train[y_train == 0]\n",
    "x_train_negative "
   ]
  },
  {
   "cell_type": "code",
   "execution_count": 6,
   "id": "59263c79",
   "metadata": {},
   "outputs": [
    {
     "data": {
      "text/plain": [
       "array([0, 0, 0, 0, 0, 0])"
      ]
     },
     "execution_count": 6,
     "metadata": {},
     "output_type": "execute_result"
    }
   ],
   "source": [
    "y_train_negative = y_train[y_train == 0]\n",
    "y_train_negative"
   ]
  },
  {
   "cell_type": "code",
   "execution_count": 7,
   "id": "94148458",
   "metadata": {},
   "outputs": [
    {
     "data": {
      "image/png": "[encoded data removed]",
      "text/plain": [
       "<Figure size 800x500 with 1 Axes>"
      ]
     },
     "metadata": {},
     "output_type": "display_data"
    }
   ],
   "source": [
    "plt.close('all')\n",
    "fig, (ax1) = plt.subplots(1, 1, figsize=(8, 5))\n",
    "ax1.scatter(x_train_positive, y_train_positive, marker='o', s = 80, c='b', label=\"Positive Node\")\n",
    "ax1.scatter(x_train_negative, y_train_negative, marker='x', s = 80, c='r', label=\"Negative Node\")\n",
    "ax1.set_title('Classfication Data')\n",
    "ax1.set_xlabel('x Features')\n",
    "ax1.set_ylabel('True or False (0 or 1)')\n",
    "ax1.legend(loc=\"upper left\")\n",
    "plt.show()"
   ]
  },
  {
   "cell_type": "markdown",
   "id": "4a4aae36",
   "metadata": {},
   "source": [
    "### Two Features Classification Example"
   ]
  },
  {
   "cell_type": "code",
   "execution_count": 8,
   "id": "f2181f64",
   "metadata": {},
   "outputs": [],
   "source": [
    "X2_train = np.array([[1, 3], [2,4], [8, 9], [3,4],[7, 8.5], [6.8, 7.5], [2,5],[1.5, 2.5]])\n",
    "y2_train = np.array([0, 0, 1, 0, 1, 1, 0, 0])"
   ]
  },
  {
   "cell_type": "code",
   "execution_count": 9,
   "id": "6399672a",
   "metadata": {},
   "outputs": [
    {
     "data": {
      "text/plain": [
       "array([[1. , 3. ],\n",
       "       [2. , 4. ],\n",
       "       [8. , 9. ],\n",
       "       [3. , 4. ],\n",
       "       [7. , 8.5],\n",
       "       [6.8, 7.5],\n",
       "       [2. , 5. ],\n",
       "       [1.5, 2.5]])"
      ]
     },
     "execution_count": 9,
     "metadata": {},
     "output_type": "execute_result"
    }
   ],
   "source": [
    "X2_train"
   ]
  },
  {
   "cell_type": "code",
   "execution_count": 10,
   "id": "ff8fdbc4",
   "metadata": {},
   "outputs": [
    {
     "data": {
      "text/plain": [
       "array([[8. , 9. ],\n",
       "       [7. , 8.5],\n",
       "       [6.8, 7.5]])"
      ]
     },
     "execution_count": 10,
     "metadata": {},
     "output_type": "execute_result"
    }
   ],
   "source": [
    "X2_train_pos = X2_train[y2_train == 1]\n",
    "X2_train_pos"
   ]
  },
  {
   "cell_type": "code",
   "execution_count": 11,
   "id": "31cc20ab",
   "metadata": {},
   "outputs": [
    {
     "data": {
      "text/plain": [
       "array([[1. , 3. ],\n",
       "       [2. , 4. ],\n",
       "       [3. , 4. ],\n",
       "       [2. , 5. ],\n",
       "       [1.5, 2.5]])"
      ]
     },
     "execution_count": 11,
     "metadata": {},
     "output_type": "execute_result"
    }
   ],
   "source": [
    "X2_train_neg = X2_train[y2_train == 0]\n",
    "X2_train_neg"
   ]
  },
  {
   "cell_type": "code",
   "execution_count": 12,
   "id": "47bd7aad",
   "metadata": {},
   "outputs": [
    {
     "data": {
      "image/png": "[encoded data removed]",
      "text/plain": [
       "<Figure size 800x500 with 1 Axes>"
      ]
     },
     "metadata": {},
     "output_type": "display_data"
    }
   ],
   "source": [
    "plt.close('all')\n",
    "fig, (ax1) = plt.subplots(1, 1, figsize=(8, 5))\n",
    "ax1.scatter(X2_train_pos[:,0], X2_train_pos[:,1], marker='o', s = 80, c='b', label=\"Positive Node\")\n",
    "ax1.scatter(X2_train_neg[:,0], X2_train_neg[:,1], marker='x', s = 80, c='r', label=\"Negative Node\")\n",
    "ax1.set_title('Classfication Data')\n",
    "ax1.set_xlabel('Feature 1')\n",
    "ax1.set_ylabel('Feature 2')\n",
    "ax1.legend(loc=\"upper left\")\n",
    "plt.show()"
   ]
  },
  {
   "cell_type": "markdown",
   "id": "793ddb3d",
   "metadata": {},
   "source": [
    "### School Exam and Admission Dataset Example"
   ]
  },
  {
   "cell_type": "markdown",
   "id": "a7fb0637-1a9a-4ffd-b3f4-2b207a2d767e",
   "metadata": {},
   "source": [
    "**Example Dataset**\n",
    "\n",
    "The following dataset contains 2 exam score from student and the result of admission to the school. We can use the dataset to build a Logistics Regression model to predict students admission to the school based on their exam score."
   ]
  },
  {
   "cell_type": "code",
   "execution_count": 13,
   "id": "9fd3f3f1-31d6-46cf-b3e2-a12d22900307",
   "metadata": {},
   "outputs": [
    {
     "data": {
      "text/html": [
       "<div>\n",
       "<style scoped>\n",
       "    .dataframe tbody tr th:only-of-type {\n",
       "        vertical-align: middle;\n",
       "    }\n",
       "\n",
       "    .dataframe tbody tr th {\n",
       "        vertical-align: top;\n",
       "    }\n",
       "\n",
       "    .dataframe thead th {\n",
       "        text-align: right;\n",
       "    }\n",
       "</style>\n",
       "<table border=\"1\" class=\"dataframe\">\n",
       "  <thead>\n",
       "    <tr style=\"text-align: right;\">\n",
       "      <th></th>\n",
       "      <th>Exam1</th>\n",
       "      <th>Exam2</th>\n",
       "      <th>schoolAdmission</th>\n",
       "    </tr>\n",
       "  </thead>\n",
       "  <tbody>\n",
       "    <tr>\n",
       "      <th>0</th>\n",
       "      <td>34.623660</td>\n",
       "      <td>78.024693</td>\n",
       "      <td>0</td>\n",
       "    </tr>\n",
       "    <tr>\n",
       "      <th>1</th>\n",
       "      <td>30.286711</td>\n",
       "      <td>43.894998</td>\n",
       "      <td>0</td>\n",
       "    </tr>\n",
       "    <tr>\n",
       "      <th>2</th>\n",
       "      <td>35.847409</td>\n",
       "      <td>72.902198</td>\n",
       "      <td>0</td>\n",
       "    </tr>\n",
       "    <tr>\n",
       "      <th>3</th>\n",
       "      <td>60.182599</td>\n",
       "      <td>86.308552</td>\n",
       "      <td>1</td>\n",
       "    </tr>\n",
       "    <tr>\n",
       "      <th>4</th>\n",
       "      <td>79.032736</td>\n",
       "      <td>75.344376</td>\n",
       "      <td>1</td>\n",
       "    </tr>\n",
       "  </tbody>\n",
       "</table>\n",
       "</div>"
      ],
      "text/plain": [
       "       Exam1      Exam2  schoolAdmission\n",
       "0  34.623660  78.024693                0\n",
       "1  30.286711  43.894998                0\n",
       "2  35.847409  72.902198                0\n",
       "3  60.182599  86.308552                1\n",
       "4  79.032736  75.344376                1"
      ]
     },
     "execution_count": 13,
     "metadata": {},
     "output_type": "execute_result"
    }
   ],
   "source": [
    "df3 = pd.read_csv('./data/exam_score_data1.txt')\n",
    "df3.head()"
   ]
  },
  {
   "cell_type": "code",
   "execution_count": 14,
   "id": "60284327-976d-47bb-a547-e03007f527ca",
   "metadata": {},
   "outputs": [
    {
     "data": {
      "text/html": [
       "<div>\n",
       "<style scoped>\n",
       "    .dataframe tbody tr th:only-of-type {\n",
       "        vertical-align: middle;\n",
       "    }\n",
       "\n",
       "    .dataframe tbody tr th {\n",
       "        vertical-align: top;\n",
       "    }\n",
       "\n",
       "    .dataframe thead th {\n",
       "        text-align: right;\n",
       "    }\n",
       "</style>\n",
       "<table border=\"1\" class=\"dataframe\">\n",
       "  <thead>\n",
       "    <tr style=\"text-align: right;\">\n",
       "      <th></th>\n",
       "      <th>Exam1</th>\n",
       "      <th>Exam2</th>\n",
       "    </tr>\n",
       "  </thead>\n",
       "  <tbody>\n",
       "    <tr>\n",
       "      <th>0</th>\n",
       "      <td>34.623660</td>\n",
       "      <td>78.024693</td>\n",
       "    </tr>\n",
       "    <tr>\n",
       "      <th>1</th>\n",
       "      <td>30.286711</td>\n",
       "      <td>43.894998</td>\n",
       "    </tr>\n",
       "    <tr>\n",
       "      <th>2</th>\n",
       "      <td>35.847409</td>\n",
       "      <td>72.902198</td>\n",
       "    </tr>\n",
       "    <tr>\n",
       "      <th>3</th>\n",
       "      <td>60.182599</td>\n",
       "      <td>86.308552</td>\n",
       "    </tr>\n",
       "    <tr>\n",
       "      <th>4</th>\n",
       "      <td>79.032736</td>\n",
       "      <td>75.344376</td>\n",
       "    </tr>\n",
       "  </tbody>\n",
       "</table>\n",
       "</div>"
      ],
      "text/plain": [
       "       Exam1      Exam2\n",
       "0  34.623660  78.024693\n",
       "1  30.286711  43.894998\n",
       "2  35.847409  72.902198\n",
       "3  60.182599  86.308552\n",
       "4  79.032736  75.344376"
      ]
     },
     "execution_count": 14,
     "metadata": {},
     "output_type": "execute_result"
    }
   ],
   "source": [
    "X3_train = df3[['Exam1','Exam2']]\n",
    "X3_train.head()"
   ]
  },
  {
   "cell_type": "code",
   "execution_count": 15,
   "id": "72fded6d-e8f5-4aa7-be28-3b447871291b",
   "metadata": {},
   "outputs": [
    {
     "data": {
      "text/plain": [
       "(100, 2)"
      ]
     },
     "execution_count": 15,
     "metadata": {},
     "output_type": "execute_result"
    }
   ],
   "source": [
    "X3_train.shape"
   ]
  },
  {
   "cell_type": "code",
   "execution_count": 16,
   "id": "76355d2a-409c-4473-8e8e-a8e92dd3cb1b",
   "metadata": {},
   "outputs": [
    {
     "data": {
      "text/html": [
       "<div>\n",
       "<style scoped>\n",
       "    .dataframe tbody tr th:only-of-type {\n",
       "        vertical-align: middle;\n",
       "    }\n",
       "\n",
       "    .dataframe tbody tr th {\n",
       "        vertical-align: top;\n",
       "    }\n",
       "\n",
       "    .dataframe thead th {\n",
       "        text-align: right;\n",
       "    }\n",
       "</style>\n",
       "<table border=\"1\" class=\"dataframe\">\n",
       "  <thead>\n",
       "    <tr style=\"text-align: right;\">\n",
       "      <th></th>\n",
       "      <th>schoolAdmission</th>\n",
       "    </tr>\n",
       "  </thead>\n",
       "  <tbody>\n",
       "    <tr>\n",
       "      <th>0</th>\n",
       "      <td>0</td>\n",
       "    </tr>\n",
       "    <tr>\n",
       "      <th>1</th>\n",
       "      <td>0</td>\n",
       "    </tr>\n",
       "    <tr>\n",
       "      <th>2</th>\n",
       "      <td>0</td>\n",
       "    </tr>\n",
       "    <tr>\n",
       "      <th>3</th>\n",
       "      <td>1</td>\n",
       "    </tr>\n",
       "    <tr>\n",
       "      <th>4</th>\n",
       "      <td>1</td>\n",
       "    </tr>\n",
       "  </tbody>\n",
       "</table>\n",
       "</div>"
      ],
      "text/plain": [
       "   schoolAdmission\n",
       "0                0\n",
       "1                0\n",
       "2                0\n",
       "3                1\n",
       "4                1"
      ]
     },
     "execution_count": 16,
     "metadata": {},
     "output_type": "execute_result"
    }
   ],
   "source": [
    "y3_train = df3[['schoolAdmission']]\n",
    "y3_train.head()"
   ]
  },
  {
   "cell_type": "code",
   "execution_count": 17,
   "id": "39d4be18-bb45-45f8-8a53-2bac5e29fa69",
   "metadata": {},
   "outputs": [
    {
     "data": {
      "text/plain": [
       "(100, 1)"
      ]
     },
     "execution_count": 17,
     "metadata": {},
     "output_type": "execute_result"
    }
   ],
   "source": [
    "y3_train.shape"
   ]
  },
  {
   "cell_type": "code",
   "execution_count": 18,
   "id": "d416ef0a-8033-4c04-a337-d26b997764e9",
   "metadata": {},
   "outputs": [],
   "source": [
    "X3_train = X3_train.to_numpy()\n",
    "y3_train = y3_train.to_numpy()"
   ]
  },
  {
   "cell_type": "code",
   "execution_count": 19,
   "id": "7f0802e6",
   "metadata": {},
   "outputs": [
    {
     "data": {
      "text/plain": [
       "(60, 2)"
      ]
     },
     "execution_count": 19,
     "metadata": {},
     "output_type": "execute_result"
    }
   ],
   "source": [
    "X3_train_admitted = X3_train[y3_train.flatten() == 1]\n",
    "X3_train_admitted.shape"
   ]
  },
  {
   "cell_type": "code",
   "execution_count": 20,
   "id": "95e975d9",
   "metadata": {},
   "outputs": [
    {
     "data": {
      "text/plain": [
       "(40, 2)"
      ]
     },
     "execution_count": 20,
     "metadata": {},
     "output_type": "execute_result"
    }
   ],
   "source": [
    "X3_train_NotAdmitted = X3_train[y3_train.flatten() == 0]\n",
    "X3_train_NotAdmitted.shape"
   ]
  },
  {
   "cell_type": "code",
   "execution_count": 21,
   "id": "84c6a8ca",
   "metadata": {},
   "outputs": [
    {
     "data": {
      "image/png": "[encoded data removed]",
      "text/plain": [
       "<Figure size 800x500 with 1 Axes>"
      ]
     },
     "metadata": {},
     "output_type": "display_data"
    }
   ],
   "source": [
    "plt.close('all')\n",
    "fig, (ax1) = plt.subplots(1, 1, figsize=(8, 5))\n",
    "ax1.scatter(X3_train_NotAdmitted[:,0], X3_train_NotAdmitted[:,1], marker='x', c='r', label=\"Student Not Admitted\")\n",
    "ax1.scatter(X3_train_admitted[:,0], X3_train_admitted[:,1], marker='o', c='b', label=\"Student Admitted\")\n",
    "ax1.set_title('Classfication Data')\n",
    "ax1.set_xlabel('Exam 1')\n",
    "ax1.set_ylabel('Exam 2')\n",
    "ax1.legend(loc=\"upper left\")\n",
    "plt.show()"
   ]
  },
  {
   "cell_type": "markdown",
   "id": "74c8b4b1",
   "metadata": {},
   "source": [
    "## Sigmoid Function"
   ]
  },
  {
   "attachments": {},
   "cell_type": "markdown",
   "id": "e51507cc-1a35-4c38-acc2-3a6ee2c204f2",
   "metadata": {},
   "source": [
    "In Linear Regression, we have the formula\n",
    "\n",
    "$$f(x) = b + wx$$\n",
    "\n",
    "\n",
    "In Logistics Regression, $f(x)$ is also $z$. Therefore:\n",
    "\n",
    "<font color='blue'>\n",
    "    \n",
    "$$z = f(x)$$\n",
    "\n",
    "</font>\n",
    "\n",
    "We use the formula $z=f(x)$ above in Logistics Regression, and apply a **Sigmoid Function (a.k.a Logistic Function)** to the formula. This **Sigmoid function** converts $f(x)$ to a number that falls between 0 and 1."
   ]
  },
  {
   "cell_type": "markdown",
   "id": "61a067f1-c9c5-4658-85e5-17844c918c4f",
   "metadata": {},
   "source": [
    "**Sigmoid Function** is also known as **Logistics Function**:\n",
    "\n",
    "<font color='blue'>\n",
    "    \n",
    "$$g(z) = \\frac{1}{1+e^{-z}}$$\n",
    "\n",
    "</font>\n",
    "\n",
    "The result of $g(z)$ will be:\n",
    "$$0 < g(z) < 1$$"
   ]
  },
  {
   "cell_type": "markdown",
   "id": "cbeb6520-b3ef-4799-842d-2ec8f5d1c4a3",
   "metadata": {},
   "source": [
    "We need to apply $f(x) = b + wx$ into the Sigmoid function $g(z) = \\frac{1}{1+e^{-z}}$\n",
    "\n",
    "$$$$\n",
    "$$f(x) = b + wx$$\n",
    "$$z = f(x)$$\n",
    "$$z = b + wx$$\n",
    "$$$$\n",
    "$$g(z) = \\frac{1}{1+e^{-z}}$$\n",
    "$$g(z) = g(f(x))$$\n",
    "$$$$\n",
    "\n",
    "$$g(z) = g(f(x)) = \\frac{1}{1+e^{-z}}$$\n",
    "$$g(f(x)) = \\frac{1}{1+e^{-(f(x))}}$$\n",
    "$$g(f(x)) = \\frac{1}{1+e^{-(b + wx)}}$$\n",
    "$$$$\n"
   ]
  },
  {
   "cell_type": "markdown",
   "id": "eb971502-a2c4-4eae-8fc7-735b929bd25c",
   "metadata": {},
   "source": [
    "In general, we use the following for logistics regression:\n",
    "<font color='blue'>    \n",
    "$$g(z) = g(f(x)) = \\frac{1}{1+e^{-(z)}} = \\frac{1}{1+e^{-(f(x))}}$$\n",
    "</font>\n",
    "We can substitute any $f(x)$ we have into the Sigmoid Function\n"
   ]
  },
  {
   "cell_type": "markdown",
   "id": "02d32613-45bc-48d1-b34b-c509afbfbc9e",
   "metadata": {},
   "source": [
    "Please note that Sigmoid function returns a number between 0 and 1. Usually we set the **threshold as 0.5**, if it is more than 0.5 then it will be True or 1; and less than 0.5 will be False or 0. We interpret the Sigmoid function as the probability of the label is True. If the Sigmoid function return 0.6, then we can say that there is 60% chances to predict the data as True.\n",
    "\n",
    "Please note that **threshold can be adjusted** according to the requirement. The usual practice is 0.5.\n",
    "\n",
    "Therefore, we can also formulate the formula:\n",
    "\n",
    "$$f(x) = P(y = 1| \\vec{X}, \\vec{w}, b)$$\n",
    "$$$$\n",
    "The formula above can be interpreted as the probability of $y = 1$ given the variable $\\vec{X}$, $\\vec{w}$ and the intercept. Please also note that:\n",
    "$$$$\n",
    "$$P(y = 1) + P(y = 0) = 1$$\n",
    "\n"
   ]
  },
  {
   "cell_type": "markdown",
   "id": "432145ad-c891-47c2-94bf-c314208fe8c5",
   "metadata": {},
   "source": [
    "**Referecne**\n",
    "\n",
    "- https://towardsdatascience.com/sigmoid-and-softmax-functions-in-5-minutes-f516c80ea1f9"
   ]
  },
  {
   "cell_type": "code",
   "execution_count": 22,
   "id": "57ac99a0-28b2-4dbf-95e9-5dde04a88c46",
   "metadata": {},
   "outputs": [],
   "source": [
    "def sigmoid_beta(z):\n",
    "    '''\n",
    "    Sigmoid Function\n",
    "    z = f(x) a matrix of m by 1, each training examples in rows (m) and fx in 1 column, \n",
    "\n",
    "    Return:\n",
    "    Sigmoid (scalar)\n",
    "    '''\n",
    "\n",
    "    # there will be overflow error if we have data that is less than -709\n",
    "    # to overcome this error we use np.clip to limit the data range from -700 to 700\n",
    "    # The result will still be between 0 to 1\n",
    "    z = np.clip(z, -700, 700)\n",
    "    #print(z)\n",
    "    sigmoid = 1 / (1 + np.exp(-z))\n",
    "    \n",
    "    return sigmoid"
   ]
  },
  {
   "cell_type": "code",
   "execution_count": 23,
   "id": "067608bf",
   "metadata": {},
   "outputs": [
    {
     "data": {
      "text/plain": [
       "array([-10,  -9,  -8,  -7,  -6,  -5,  -4,  -3,  -2,  -1,   0,   1,   2,\n",
       "         3,   4,   5,   6,   7,   8,   9])"
      ]
     },
     "execution_count": 23,
     "metadata": {},
     "output_type": "execute_result"
    }
   ],
   "source": [
    "X4_train = np.arange(-10, 10, 1)\n",
    "X4_train"
   ]
  },
  {
   "cell_type": "code",
   "execution_count": 24,
   "id": "3bac2d66",
   "metadata": {},
   "outputs": [
    {
     "data": {
      "text/plain": [
       "array([0.   , 0.   , 0.   , 0.001, 0.002, 0.007, 0.018, 0.047, 0.119,\n",
       "       0.269, 0.5  , 0.731, 0.881, 0.953, 0.982, 0.993, 0.998, 0.999,\n",
       "       1.   , 1.   ])"
      ]
     },
     "execution_count": 24,
     "metadata": {},
     "output_type": "execute_result"
    }
   ],
   "source": [
    "ypred = np.round(sigmoid_beta(X4_train), 3)\n",
    "ypred"
   ]
  },
  {
   "cell_type": "markdown",
   "id": "2309b51d",
   "metadata": {},
   "source": [
    "- All number fall between 0 and 1.\n",
    "- The larger original data (z) then the result is is closer to 1\n",
    "- The smaller the input data (z), then close the result is to 0.\n",
    "- If the input is 0 then the sigmoid is exactly at 0.5 threshold."
   ]
  },
  {
   "cell_type": "code",
   "execution_count": 25,
   "id": "44ce600d",
   "metadata": {},
   "outputs": [
    {
     "data": {
      "text/plain": [
       "array([9.85967654e-305, 6.14417460e-006, 2.68941421e-001, 5.00000000e-001,\n",
       "       7.31058579e-001, 9.99954602e-001, 1.00000000e+000, 1.00000000e+000])"
      ]
     },
     "execution_count": 25,
     "metadata": {},
     "output_type": "execute_result"
    }
   ],
   "source": [
    "sigmoid_beta([-700, -12, -1, 0, 1, 10, 700, 900])"
   ]
  },
  {
   "attachments": {},
   "cell_type": "markdown",
   "id": "e77bd153-df39-4104-bac5-7a69cb46d910",
   "metadata": {},
   "source": [
    "So we can safely say that when $f(x) = z$ is greater than 0, then the Sigmoid function will return more than 0.5 to 1. \n",
    "\n",
    "If $f(x)=z$ is less than 0, then Sigmoid will return a False as the return will fall between 0 to 0.49."
   ]
  },
  {
   "cell_type": "code",
   "execution_count": 26,
   "id": "eb1c6749-7e61-40aa-b375-2db0cff70287",
   "metadata": {},
   "outputs": [
    {
     "data": {
      "image/png": "[encoded data removed]",
      "text/plain": [
       "<Figure size 800x500 with 1 Axes>"
      ]
     },
     "metadata": {},
     "output_type": "display_data"
    }
   ],
   "source": [
    "plt.close('all')\n",
    "fig, (ax1) = plt.subplots(1, 1, figsize=(8, 5))\n",
    "ax1.scatter(X4_train[ypred>0.5], ypred[ypred>0.5], marker='x', s = 60, c='r')\n",
    "ax1.scatter(X4_train[ypred<0.5], ypred[ypred<0.5], marker='o', s = 60, c='b')\n",
    "ax1.scatter(X4_train[ypred==0.5], ypred[ypred==0.5], marker='*', s = 130, c='m')\n",
    "ax1.plot(np.zeros(10), np.linspace(0,1,10))\n",
    "xlim = ax1.get_xlim()\n",
    "#print(xlim)\n",
    "ax1.axvspan(xlim[0], 0, alpha=0.2, color='blue')\n",
    "ax1.axvspan(0, xlim[1], alpha=0.2, color='red')\n",
    "ax1.set_title('Classfication Data')\n",
    "ax1.set_xlabel('x')\n",
    "ax1.set_ylabel('y')\n",
    "plt.show()"
   ]
  },
  {
   "cell_type": "markdown",
   "id": "f0d0c49c-7b86-4998-93b1-fcb456af4252",
   "metadata": {},
   "source": [
    "### Summary of Sigmoid Function"
   ]
  },
  {
   "cell_type": "markdown",
   "id": "07f8b7f6-8f43-4ce3-81c0-c5d0312eecd5",
   "metadata": {},
   "source": [
    "$$g(z) = g(f(x)) = \\frac{1}{1+e^{-(f(x))}}$$\n",
    "\n",
    "$$0 < g(z) < 1$$\n",
    "\n",
    "If $g(z) > 0$ then $0.5 < y < 1$\n",
    "$$$$\n",
    "If $g(z) < 0$ then $0 < y < 0.5$\n",
    "$$$$\n",
    "If $g(z) = 0$ then $y = 0.5$"
   ]
  },
  {
   "cell_type": "markdown",
   "id": "d131321d-b3a6-42d2-996c-cb07a2e8e193",
   "metadata": {},
   "source": [
    "<div class=\"alert alert-block alert-info\">\n",
    "\n",
    "**Please also note that Sigmoid Function is only ONE of the functions use in machine learning. There are many ways to construct $g(z)$. We can apply different type of function besides the Sigmoid Function.**\n",
    "\n",
    "</div>"
   ]
  },
  {
   "cell_type": "code",
   "execution_count": 27,
   "id": "0c588cd2",
   "metadata": {},
   "outputs": [],
   "source": [
    "X5_train = np.linspace(-10, 10, 50)\n",
    "ypred = sigmoid_beta(X5_train)"
   ]
  },
  {
   "cell_type": "code",
   "execution_count": 28,
   "id": "924b915e",
   "metadata": {},
   "outputs": [
    {
     "data": {
      "image/png": "[encoded data removed]",
      "text/plain": [
       "<Figure size 800x500 with 1 Axes>"
      ]
     },
     "metadata": {},
     "output_type": "display_data"
    }
   ],
   "source": [
    "plt.close('all')\n",
    "fig, (ax1) = plt.subplots(1, 1, figsize=(8, 5))\n",
    "ax1.plot(X5_train, ypred, c='b', linewidth = 5)\n",
    "ax1.plot(np.zeros(10), np.linspace(0,1,10))\n",
    "xlim = ax1.get_xlim()\n",
    "#print(xlim)\n",
    "ax1.axvspan(xlim[0], 0, alpha=0.2, color='blue')\n",
    "ax1.axvspan(0, xlim[1], alpha=0.2, color='red')\n",
    "ax1.set_title('Classfication Data')\n",
    "ax1.set_xlabel('x')\n",
    "ax1.set_ylabel('y')\n",
    "plt.show()"
   ]
  },
  {
   "cell_type": "markdown",
   "id": "89f21f37",
   "metadata": {},
   "source": [
    "#### Testing Sigmoid"
   ]
  },
  {
   "cell_type": "code",
   "execution_count": 29,
   "id": "5737dea0",
   "metadata": {},
   "outputs": [
    {
     "data": {
      "text/plain": [
       "array([0.26894142, 0.5       , 0.73105858, 0.88079708])"
      ]
     },
     "execution_count": 29,
     "metadata": {},
     "output_type": "execute_result"
    }
   ],
   "source": [
    "sigmoid_beta(np.array([-1, 0, 1, 2]))"
   ]
  },
  {
   "cell_type": "markdown",
   "id": "6afb5cf7",
   "metadata": {},
   "source": [
    "<details>\n",
    "<summary>\n",
    "    <b>Expected Output<b>\n",
    "</summary>\n",
    "<b>sigmoid([-1, 0, 1, 2])</b>\n",
    "        \n",
    "[0.26894142,        0.5,           0.73105858,        0.88079708]"
   ]
  },
  {
   "cell_type": "markdown",
   "id": "73c96552-3015-4a80-8512-06da398d4220",
   "metadata": {},
   "source": [
    "### Sigmoid Numeric Issues"
   ]
  },
  {
   "cell_type": "markdown",
   "id": "f1677401-9a19-4b7e-8f7a-970ff756778b",
   "metadata": {},
   "source": [
    "First let us try some numbers and its natural log."
   ]
  },
  {
   "cell_type": "code",
   "execution_count": 30,
   "id": "29ee619b-a54d-4cb2-bb51-191d41528fdd",
   "metadata": {},
   "outputs": [
    {
     "data": {
      "text/plain": [
       "inf"
      ]
     },
     "execution_count": 30,
     "metadata": {},
     "output_type": "execute_result"
    }
   ],
   "source": [
    "z_temp1 = 9.99e+999\n",
    "z_temp1"
   ]
  },
  {
   "cell_type": "code",
   "execution_count": 31,
   "id": "cf46cfa7-ca33-48d1-b7bb-f5054bf48a23",
   "metadata": {},
   "outputs": [
    {
     "data": {
      "text/plain": [
       "1.0"
      ]
     },
     "execution_count": 31,
     "metadata": {},
     "output_type": "execute_result"
    }
   ],
   "source": [
    "sig1 = 1 / (1 + np.exp(-z_temp1))\n",
    "sig1"
   ]
  },
  {
   "cell_type": "markdown",
   "id": "b53a8e6e-644f-4f0a-91b3-7c972fb83599",
   "metadata": {},
   "source": [
    "z_temp1 is consider as inf but we can still compute the Sigmoid function to 1."
   ]
  },
  {
   "cell_type": "code",
   "execution_count": 32,
   "id": "6d379c91-eb36-4c87-81d5-1133d5276240",
   "metadata": {},
   "outputs": [
    {
     "data": {
      "text/plain": [
       "9.99e+99"
      ]
     },
     "execution_count": 32,
     "metadata": {},
     "output_type": "execute_result"
    }
   ],
   "source": [
    "z_temp2 = 9.99e+99\n",
    "z_temp2"
   ]
  },
  {
   "cell_type": "code",
   "execution_count": 33,
   "id": "cb592222-10ff-4afa-928e-68bb4928d1f9",
   "metadata": {},
   "outputs": [
    {
     "data": {
      "text/plain": [
       "1.0"
      ]
     },
     "execution_count": 33,
     "metadata": {},
     "output_type": "execute_result"
    }
   ],
   "source": [
    "sig2 = 1 / (1 + np.exp(-z_temp2))\n",
    "sig2"
   ]
  },
  {
   "cell_type": "markdown",
   "id": "55879574-b032-4710-91ae-307601414070",
   "metadata": {},
   "source": [
    "The largest number the system can accept is 9.99e+99. The Sigmoid is still 1"
   ]
  },
  {
   "cell_type": "markdown",
   "id": "a080de28-40a9-4a76-8e70-c80fd69661b0",
   "metadata": {},
   "source": [
    "Let us try the negative number. Please note that we have a negative sign in the Sigmoid function, therefore, we will have a very large positive number to applied to the natural log."
   ]
  },
  {
   "cell_type": "code",
   "execution_count": 34,
   "id": "cf6cde28-e8ae-42e0-b768-3de14cca5c10",
   "metadata": {},
   "outputs": [
    {
     "data": {
      "text/plain": [
       "-9.99e+99"
      ]
     },
     "execution_count": 34,
     "metadata": {},
     "output_type": "execute_result"
    }
   ],
   "source": [
    "z_temp3 = -9.99e+99\n",
    "z_temp3"
   ]
  },
  {
   "cell_type": "code",
   "execution_count": 35,
   "id": "a7e1dd9a-b183-4e0b-9711-8717592c9d68",
   "metadata": {},
   "outputs": [
    {
     "name": "stderr",
     "output_type": "stream",
     "text": [
      "/var/folders/1h/s4bz3m4n32l_ljm5g40dytrw0000gp/T/ipykernel_3925/3017315470.py:1: RuntimeWarning: overflow encountered in exp\n",
      "  sig3 = 1 / (1 + np.exp(-z_temp3))\n"
     ]
    },
    {
     "data": {
      "text/plain": [
       "0.0"
      ]
     },
     "execution_count": 35,
     "metadata": {},
     "output_type": "execute_result"
    }
   ],
   "source": [
    "sig3 = 1 / (1 + np.exp(-z_temp3))\n",
    "sig3"
   ]
  },
  {
   "cell_type": "markdown",
   "id": "b2fca62c-9df5-4807-8724-069bb96f69d7",
   "metadata": {},
   "source": [
    "We have overflow error, this is because in floating point operation, there is a limit on how large the number we are able to process."
   ]
  },
  {
   "cell_type": "code",
   "execution_count": 36,
   "id": "b3f36b10-4763-4825-bd8b-764361d7e01b",
   "metadata": {},
   "outputs": [
    {
     "data": {
      "text/plain": [
       "array([-799.])"
      ]
     },
     "execution_count": 36,
     "metadata": {},
     "output_type": "execute_result"
    }
   ],
   "source": [
    "z_temp4 = np.array([-799.])\n",
    "z_temp4"
   ]
  },
  {
   "cell_type": "code",
   "execution_count": 37,
   "id": "d8c34bff-b41a-4164-bb67-77b1134a97e3",
   "metadata": {},
   "outputs": [
    {
     "name": "stderr",
     "output_type": "stream",
     "text": [
      "/var/folders/1h/s4bz3m4n32l_ljm5g40dytrw0000gp/T/ipykernel_3925/1031226181.py:1: RuntimeWarning: overflow encountered in exp\n",
      "  sig4 = 1 / (1 + np.exp(-z_temp4))\n"
     ]
    },
    {
     "data": {
      "text/plain": [
       "array([0.])"
      ]
     },
     "execution_count": 37,
     "metadata": {},
     "output_type": "execute_result"
    }
   ],
   "source": [
    "sig4 = 1 / (1 + np.exp(-z_temp4))\n",
    "sig4"
   ]
  },
  {
   "cell_type": "code",
   "execution_count": 38,
   "id": "5a1b6ae0-e1dd-4c7d-8eb3-8ded75126012",
   "metadata": {},
   "outputs": [
    {
     "data": {
      "text/plain": [
       "-710.0"
      ]
     },
     "execution_count": 38,
     "metadata": {},
     "output_type": "execute_result"
    }
   ],
   "source": [
    "z_temp5 = -710.\n",
    "z_temp5"
   ]
  },
  {
   "cell_type": "code",
   "execution_count": 39,
   "id": "486ac25b-50d2-4ee5-aae8-caa7e0e6f473",
   "metadata": {},
   "outputs": [
    {
     "name": "stderr",
     "output_type": "stream",
     "text": [
      "/var/folders/1h/s4bz3m4n32l_ljm5g40dytrw0000gp/T/ipykernel_3925/3194799085.py:1: RuntimeWarning: overflow encountered in exp\n",
      "  sig5 = 1 / (1 + np.exp(-z_temp5))\n"
     ]
    },
    {
     "data": {
      "text/plain": [
       "0.0"
      ]
     },
     "execution_count": 39,
     "metadata": {},
     "output_type": "execute_result"
    }
   ],
   "source": [
    "sig5 = 1 / (1 + np.exp(-z_temp5))\n",
    "sig5"
   ]
  },
  {
   "cell_type": "code",
   "execution_count": 40,
   "id": "1d1eb76c-a4fd-4ae8-8f86-af29c6cf7de3",
   "metadata": {},
   "outputs": [
    {
     "data": {
      "text/plain": [
       "-709.0"
      ]
     },
     "execution_count": 40,
     "metadata": {},
     "output_type": "execute_result"
    }
   ],
   "source": [
    "z_temp6 = -709.\n",
    "z_temp6"
   ]
  },
  {
   "cell_type": "code",
   "execution_count": 41,
   "id": "e15781be-d053-482a-95b0-d47949074dd3",
   "metadata": {},
   "outputs": [
    {
     "data": {
      "text/plain": [
       "1.216780750623423e-308"
      ]
     },
     "execution_count": 41,
     "metadata": {},
     "output_type": "execute_result"
    }
   ],
   "source": [
    "sig6 = 1 / (1 + np.exp(-z_temp6))\n",
    "sig6"
   ]
  },
  {
   "cell_type": "markdown",
   "id": "7d4e3225-15f1-4a5b-b8dc-786f90d86609",
   "metadata": {},
   "source": [
    "The result 1.216780750623423e-308 is effectively a zero."
   ]
  },
  {
   "cell_type": "markdown",
   "id": "1b80e371-0f5e-4203-a463-d1adc9d94667",
   "metadata": {},
   "source": [
    "**Therefore, we can conclude that the Sigmoid function can only accept -709 and higher. It will throw overflow error when we supply -710. However, the function accepts any large number and even infinity number.**"
   ]
  },
  {
   "cell_type": "markdown",
   "id": "6ff75ec8-dba0-43e9-88be-96d4a320daf0",
   "metadata": {},
   "source": [
    "The following shows that the problem lies in the natural log for positive number, the natural log cannot accept any number larger than 709. (Please note that we have a negative sign in front of z in the Sigmoid function). "
   ]
  },
  {
   "cell_type": "code",
   "execution_count": 42,
   "id": "1e4ecf29-34f6-4161-953d-7b921cbffaa1",
   "metadata": {},
   "outputs": [
    {
     "name": "stderr",
     "output_type": "stream",
     "text": [
      "/var/folders/1h/s4bz3m4n32l_ljm5g40dytrw0000gp/T/ipykernel_3925/574927170.py:1: RuntimeWarning: overflow encountered in exp\n",
      "  np.exp(710)\n"
     ]
    },
    {
     "data": {
      "text/plain": [
       "inf"
      ]
     },
     "execution_count": 42,
     "metadata": {},
     "output_type": "execute_result"
    }
   ],
   "source": [
    "np.exp(710)"
   ]
  },
  {
   "cell_type": "code",
   "execution_count": 43,
   "id": "23a2e61a-8a28-4064-93ee-832562103ea7",
   "metadata": {},
   "outputs": [
    {
     "data": {
      "text/plain": [
       "8.218407461554972e+307"
      ]
     },
     "execution_count": 43,
     "metadata": {},
     "output_type": "execute_result"
    }
   ],
   "source": [
    "np.exp(709)"
   ]
  },
  {
   "cell_type": "code",
   "execution_count": 44,
   "id": "4c54f210-40f0-4ac9-881f-2d1b5f5d7814",
   "metadata": {},
   "outputs": [
    {
     "data": {
      "text/plain": [
       "0.36787944117144233"
      ]
     },
     "execution_count": 44,
     "metadata": {},
     "output_type": "execute_result"
    }
   ],
   "source": [
    "np.exp(-1)"
   ]
  },
  {
   "cell_type": "code",
   "execution_count": 45,
   "id": "a7a2b77b-7406-4298-a354-2781db1fd75e",
   "metadata": {},
   "outputs": [
    {
     "data": {
      "text/plain": [
       "0.0"
      ]
     },
     "execution_count": 45,
     "metadata": {},
     "output_type": "execute_result"
    }
   ],
   "source": [
    "np.exp(-999)"
   ]
  },
  {
   "cell_type": "code",
   "execution_count": 46,
   "id": "f3cf4c9e-ac6b-4a97-b62d-1f6cb430bec3",
   "metadata": {},
   "outputs": [
    {
     "data": {
      "text/plain": [
       "0.0"
      ]
     },
     "execution_count": 46,
     "metadata": {},
     "output_type": "execute_result"
    }
   ],
   "source": [
    "np.exp(-9.9e+99)"
   ]
  },
  {
   "cell_type": "code",
   "execution_count": 47,
   "id": "d372d92c-9217-4c5f-aa26-7f16c77db995",
   "metadata": {},
   "outputs": [
    {
     "data": {
      "text/plain": [
       "0.0"
      ]
     },
     "execution_count": 47,
     "metadata": {},
     "output_type": "execute_result"
    }
   ],
   "source": [
    "np.exp(-9.9e+9999)"
   ]
  },
  {
   "cell_type": "markdown",
   "id": "23f77a47-10e6-4d30-ba50-bba9b13fcc60",
   "metadata": {},
   "source": [
    "The above examples shows that the Sigmoid function will throw overflow error as long as the number is larger than 709. "
   ]
  },
  {
   "cell_type": "markdown",
   "id": "d8ae4705-db09-450c-b1ea-c1c46e28997b",
   "metadata": {},
   "source": [
    "Back to the Sigmoid function, as we know that any number larger than 0 will return a Sigmoid of 0.5 to 1. There is no point in allowing very large number since it will always return a 1. Similarly a negative number of -709 is basically a zero. Since the system, will encounter overflow when we input -710. We can limit the positive end and negative end between 700 and -700. "
   ]
  },
  {
   "cell_type": "code",
   "execution_count": 48,
   "id": "72606aad-7779-4e47-9b32-5203ea1c205e",
   "metadata": {},
   "outputs": [],
   "source": [
    "z_temp7 = -700."
   ]
  },
  {
   "cell_type": "code",
   "execution_count": 49,
   "id": "f729325f-b329-4d5f-8796-cc4e29216f42",
   "metadata": {},
   "outputs": [
    {
     "data": {
      "text/plain": [
       "9.85967654375977e-305"
      ]
     },
     "execution_count": 49,
     "metadata": {},
     "output_type": "execute_result"
    }
   ],
   "source": [
    "sig7 = 1 / (1 + np.exp(-z_temp7))\n",
    "sig7"
   ]
  },
  {
   "cell_type": "code",
   "execution_count": 50,
   "id": "b18d699f-4482-4c66-8178-fbfb1f062586",
   "metadata": {},
   "outputs": [],
   "source": [
    "z_temp8 = 700."
   ]
  },
  {
   "cell_type": "code",
   "execution_count": 51,
   "id": "066eceaf-7d7e-4561-9660-07f815605de2",
   "metadata": {},
   "outputs": [
    {
     "data": {
      "text/plain": [
       "1.0"
      ]
     },
     "execution_count": 51,
     "metadata": {},
     "output_type": "execute_result"
    }
   ],
   "source": [
    "sig8 = 1 / (1 + np.exp(-z_temp8))\n",
    "sig8"
   ]
  },
  {
   "cell_type": "markdown",
   "id": "a23fd104-9a83-461d-9b5a-a188714169a0",
   "metadata": {},
   "source": [
    "Therefore we can limit our values between 700 and -700 in order to avoid the overflow error.  Thus we use the `np.clip` function."
   ]
  },
  {
   "cell_type": "code",
   "execution_count": 52,
   "id": "d3c305f4-d52a-4e9c-81c5-221a4f3bbe7e",
   "metadata": {},
   "outputs": [
    {
     "data": {
      "text/plain": [
       "-700.0"
      ]
     },
     "execution_count": 52,
     "metadata": {},
     "output_type": "execute_result"
    }
   ],
   "source": [
    "z_temp9 = -9.99e+99\n",
    "z = np.clip(z_temp9, -700, 700)\n",
    "z"
   ]
  },
  {
   "cell_type": "code",
   "execution_count": 53,
   "id": "053f53d5-c385-49a9-9277-e6fbb1896553",
   "metadata": {},
   "outputs": [
    {
     "data": {
      "text/plain": [
       "9.85967654375977e-305"
      ]
     },
     "execution_count": 53,
     "metadata": {},
     "output_type": "execute_result"
    }
   ],
   "source": [
    "sig9 = 1 / (1 + np.exp(-z))\n",
    "sig9"
   ]
  },
  {
   "cell_type": "code",
   "execution_count": 54,
   "id": "2df66ca3-9773-4ceb-85bf-c3b216c9ad73",
   "metadata": {},
   "outputs": [
    {
     "data": {
      "text/plain": [
       "array([-999., -799., -709., -200.,  -50.,  -10.,    0.,   10.,   50.,\n",
       "        200.,  709.,  799.,  999.,   inf])"
      ]
     },
     "execution_count": 54,
     "metadata": {},
     "output_type": "execute_result"
    }
   ],
   "source": [
    "z_temp10 = np.array([-999, -799, -709, -200, -50, -10, 0, 10, 50, 200, 709, 799, 999, 9.99e+999], dtype=float)\n",
    "z_temp10"
   ]
  },
  {
   "cell_type": "code",
   "execution_count": 55,
   "id": "35a21680-94c9-47d7-bf7a-2ac961210b68",
   "metadata": {},
   "outputs": [
    {
     "data": {
      "text/plain": [
       "array([-700., -700., -700., -200.,  -50.,  -10.,    0.,   10.,   50.,\n",
       "        200.,  700.,  700.,  700.,  700.])"
      ]
     },
     "execution_count": 55,
     "metadata": {},
     "output_type": "execute_result"
    }
   ],
   "source": [
    "z_temp11 = np.clip(z_temp10, -700, 700)\n",
    "z_temp11"
   ]
  },
  {
   "cell_type": "code",
   "execution_count": 56,
   "id": "2c7b111e-84cc-4e47-a5a8-82de2c481c92",
   "metadata": {},
   "outputs": [
    {
     "data": {
      "text/plain": [
       "array([9.85967654e-305, 9.85967654e-305, 9.85967654e-305, 1.38389653e-087,\n",
       "       1.92874985e-022, 4.53978687e-005, 5.00000000e-001, 9.99954602e-001,\n",
       "       1.00000000e+000, 1.00000000e+000, 1.00000000e+000, 1.00000000e+000,\n",
       "       1.00000000e+000, 1.00000000e+000])"
      ]
     },
     "execution_count": 56,
     "metadata": {},
     "output_type": "execute_result"
    }
   ],
   "source": [
    "sig11 = 1 / (1 + np.exp(-z_temp11))\n",
    "sig11"
   ]
  },
  {
   "cell_type": "markdown",
   "id": "9921586b-a8a8-4371-965b-7ce35ce22118",
   "metadata": {},
   "source": [
    "#### Alternative Method"
   ]
  },
  {
   "cell_type": "markdown",
   "id": "360e9d37-34e6-4c39-9211-cf0cc3e0896f",
   "metadata": {},
   "source": [
    "Instead of limiting the large positive and negative value. We can use an alternative Sigmoid equation to deal with the large negative number. The formula is as follows:\n",
    "$$\\frac{e^z}{1+e^z}$$\n",
    "The above is good for dealing with negative number but not positive. So the best way is to use the normal Sigmoid equation for dealing with positive number and use the formula above to deal with positive number."
   ]
  },
  {
   "cell_type": "code",
   "execution_count": 57,
   "id": "d1a20d24-77a2-49fe-95fb-737628887196",
   "metadata": {},
   "outputs": [
    {
     "data": {
      "text/plain": [
       "array([-999., -799., -709., -200.,  -50.,  -10.,    0.,   10.,   50.,\n",
       "        200.,  709.,  799.,  999.,   inf])"
      ]
     },
     "execution_count": 57,
     "metadata": {},
     "output_type": "execute_result"
    }
   ],
   "source": [
    "z_temp12 = np.array([-999, -799, -709, -200, -50, -10, 0, 10, 50, 200, 709, 799, 999, 9.99e+999], dtype=float)\n",
    "z_temp12"
   ]
  },
  {
   "cell_type": "code",
   "execution_count": 58,
   "id": "9470e1b2-49ea-4001-a158-4b887d26ab11",
   "metadata": {},
   "outputs": [
    {
     "name": "stdout",
     "output_type": "stream",
     "text": [
      "For each z = -999.0, the Sigmoid is: 0.0\n",
      "For each z = -799.0, the Sigmoid is: 0.0\n",
      "For each z = -709.0, the Sigmoid is: 1.216780750623423e-308\n",
      "For each z = -200.0, the Sigmoid is: 1.3838965267367376e-87\n",
      "For each z = -50.0, the Sigmoid is: 1.9287498479639178e-22\n",
      "For each z = -10.0, the Sigmoid is: 4.5397868702434395e-05\n",
      "For each z = 0.0, the Sigmoid is: 0.5\n",
      "For each z = 10.0, the Sigmoid is: 0.9999546021312976\n",
      "For each z = 50.0, the Sigmoid is: 1.0\n",
      "For each z = 200.0, the Sigmoid is: 1.0\n",
      "For each z = 709.0, the Sigmoid is: 1.0\n",
      "For each z = 799.0, the Sigmoid is: nan\n",
      "For each z = 999.0, the Sigmoid is: nan\n",
      "For each z = inf, the Sigmoid is: nan\n"
     ]
    },
    {
     "name": "stderr",
     "output_type": "stream",
     "text": [
      "/var/folders/1h/s4bz3m4n32l_ljm5g40dytrw0000gp/T/ipykernel_3925/1413296654.py:2: RuntimeWarning: overflow encountered in exp\n",
      "  sig = np.exp(each_z) / (1 + np.exp(each_z))\n",
      "/var/folders/1h/s4bz3m4n32l_ljm5g40dytrw0000gp/T/ipykernel_3925/1413296654.py:2: RuntimeWarning: invalid value encountered in double_scalars\n",
      "  sig = np.exp(each_z) / (1 + np.exp(each_z))\n"
     ]
    }
   ],
   "source": [
    "for each_z in z_temp12:\n",
    "    sig = np.exp(each_z) / (1 + np.exp(each_z))\n",
    "    print(f\"For each z = {each_z}, the Sigmoid is: {sig}\")"
   ]
  },
  {
   "cell_type": "markdown",
   "id": "d2ffc211-db2d-4d53-bcd8-3f035160255d",
   "metadata": {},
   "source": [
    "The alternative formula can deal with negative z but cannot handle large positive z. So the best way is to use the 2 formula, one formula to deal with the negative number and the standard formula deal with large positive number. This method is a little in efficient as we need a loop to examine each z value."
   ]
  },
  {
   "cell_type": "code",
   "execution_count": 59,
   "id": "b5291519-53bd-428e-8599-18dad736712e",
   "metadata": {},
   "outputs": [
    {
     "name": "stdout",
     "output_type": "stream",
     "text": [
      "For each z = -999.0, the Sigmoid is: 0.0\n",
      "For each z = -799.0, the Sigmoid is: 0.0\n",
      "For each z = -709.0, the Sigmoid is: 1.216780750623423e-308\n",
      "For each z = -200.0, the Sigmoid is: 1.3838965267367376e-87\n",
      "For each z = -50.0, the Sigmoid is: 1.9287498479639178e-22\n",
      "For each z = -10.0, the Sigmoid is: 4.5397868702434395e-05\n",
      "For each z = 0.0, the Sigmoid is: 0.5\n",
      "For each z = 10.0, the Sigmoid is: 0.9999546021312976\n",
      "For each z = 50.0, the Sigmoid is: 1.0\n",
      "For each z = 200.0, the Sigmoid is: 1.0\n",
      "For each z = 709.0, the Sigmoid is: 1.0\n",
      "For each z = 799.0, the Sigmoid is: 1.0\n",
      "For each z = 999.0, the Sigmoid is: 1.0\n",
      "For each z = inf, the Sigmoid is: 1.0\n"
     ]
    }
   ],
   "source": [
    "for each_z in z_temp12:\n",
    "    if each_z < 0:\n",
    "        sig = np.exp(each_z) / (1 + np.exp(each_z))\n",
    "    else:\n",
    "        sig = 1 / (1 + np.exp(-each_z))\n",
    "    print(f\"For each z = {each_z}, the Sigmoid is: {sig}\")"
   ]
  },
  {
   "cell_type": "markdown",
   "id": "44ba0dbe-cdde-47af-8f19-7d65a933ca50",
   "metadata": {},
   "source": [
    "Another way is to limit any negative number smaller than -709."
   ]
  },
  {
   "cell_type": "code",
   "execution_count": 60,
   "id": "44c28509-7ef2-492b-9a55-3225e59d7dbd",
   "metadata": {},
   "outputs": [
    {
     "data": {
      "text/plain": [
       "array([-709., -709., -709., -200.,  -50.,  -10.,    0.,   10.,   50.,\n",
       "        200.,  709.,  799.,  999.,   inf])"
      ]
     },
     "execution_count": 60,
     "metadata": {},
     "output_type": "execute_result"
    }
   ],
   "source": [
    "z_temp13 = np.where(z_temp12 < -709, -709, z_temp12)\n",
    "z_temp13"
   ]
  },
  {
   "cell_type": "code",
   "execution_count": 61,
   "id": "b0269c1f-c4ea-4a50-8329-c323b3e06220",
   "metadata": {},
   "outputs": [
    {
     "data": {
      "text/plain": [
       "array([1.21678075e-308, 1.21678075e-308, 1.21678075e-308, 1.38389653e-087,\n",
       "       1.92874985e-022, 4.53978687e-005, 5.00000000e-001, 9.99954602e-001,\n",
       "       1.00000000e+000, 1.00000000e+000, 1.00000000e+000, 1.00000000e+000,\n",
       "       1.00000000e+000, 1.00000000e+000])"
      ]
     },
     "execution_count": 61,
     "metadata": {},
     "output_type": "execute_result"
    }
   ],
   "source": [
    "sig13 = 1 / (1 + np.exp(-z_temp13))\n",
    "sig13"
   ]
  },
  {
   "cell_type": "markdown",
   "id": "fad9de47-027e-4670-8e23-7043066b65f5",
   "metadata": {},
   "source": [
    "**Reference**\n",
    "\n",
    "- https://blog.dailydoseofds.com/p/sigmoid-and-softmax-are-not-implemented\n",
    "- https://stackoverflow.com/questions/37074566/logistic-sigmoid-function-implementation-numerical-precision\n",
    "- https://shaktiwadekar.medium.com/how-to-avoid-numerical-overflow-in-sigmoid-function-numerically-stable-sigmoid-function-5298b14720f6"
   ]
  },
  {
   "cell_type": "markdown",
   "id": "6a2a7116",
   "metadata": {},
   "source": [
    "### Decision Boundary"
   ]
  },
  {
   "cell_type": "markdown",
   "id": "c1d51fb7",
   "metadata": {},
   "source": [
    "A decision boundary is a line that separates the binary classification. Please note that besides the straight line, we can have different types of curvy decision boundary and we may have a circle type of decision boundary.\n",
    "\n",
    "Below are some examples of decision boundaries.\n"
   ]
  },
  {
   "cell_type": "markdown",
   "id": "160abadb-cbf7-44f7-be8f-8b1ecad4e15d",
   "metadata": {},
   "source": [
    "Decision boundary is set when $g(z) = 0$. Let us take a formula for an example:\n",
    "\n",
    "$b = -6$, $w=1$, $x = 1, 2.1, 11, 3.9, 8, 3, 9.6, 6.5, 7.2, 4.5, 5, 10]$\n",
    "$$$$\n",
    "$$f(x) = x \\cdot w+b$$\n",
    "$$f(x) = x \\cdot 1 - 6$$\n",
    "$$g(f(x)) = x - 6$$\n",
    "If $g(z) = 0$, then\n",
    "$$0 = x - 6$$\n",
    "$$x - 6 = 0$$\n",
    "$$x = 6$$"
   ]
  },
  {
   "cell_type": "code",
   "execution_count": 62,
   "id": "3ac8ab73",
   "metadata": {},
   "outputs": [],
   "source": [
    "x_train = np.array([1, 2.1, 11, 3.9, 8, 3, 9.6, 6.5, 7.2, 4.5, 5, 10]).reshape(-1,1)\n",
    "y_train = np.array([0, 0, 1, 0, 1, 0, 1, 1, 1, 0, 0, 1])"
   ]
  },
  {
   "cell_type": "code",
   "execution_count": 63,
   "id": "d28897b3",
   "metadata": {},
   "outputs": [],
   "source": [
    "x_train_pos = x_train[y_train == 1]\n",
    "y_train_pos = y_train[y_train == 1]\n",
    "x_train_neg = x_train[y_train == 0]\n",
    "y_train_neg = y_train[y_train == 0]"
   ]
  },
  {
   "cell_type": "code",
   "execution_count": 64,
   "id": "acef28c5",
   "metadata": {},
   "outputs": [
    {
     "data": {
      "image/png": "[encoded data removed]",
      "text/plain": [
       "<Figure size 800x500 with 1 Axes>"
      ]
     },
     "metadata": {},
     "output_type": "display_data"
    }
   ],
   "source": [
    "plt.close('all')\n",
    "fig, (ax1) = plt.subplots(1, 1, figsize=(8, 5))\n",
    "ax1.scatter(x_train_pos, y_train_pos, marker='o', s = 80, c='b')\n",
    "ax1.scatter(x_train_neg, y_train_neg, marker='x', s = 80, c='r')\n",
    "# Below is the vertical line at x = 6\n",
    "ax1.axvline(x=6, linewidth=5)\n",
    "ax1.set_title('Classfication Data')\n",
    "ax1.set_xlabel('x')\n",
    "ax1.set_ylabel('y')\n",
    "plt.show()"
   ]
  },
  {
   "cell_type": "markdown",
   "id": "8a8ef3a4-49e9-4f48-8a4a-519a6de06f30",
   "metadata": {},
   "source": [
    "We can estimate the decision boundary by setting $g(z) = 0$"
   ]
  },
  {
   "cell_type": "markdown",
   "id": "bb21bc67",
   "metadata": {},
   "source": [
    "#### Another Example (Two Features)"
   ]
  },
  {
   "cell_type": "markdown",
   "id": "15b829fc-3393-494b-9f9b-5860a9aedc6d",
   "metadata": {},
   "source": [
    "$b = -10$, $w_1=1$, $w_2 = 1$, $x_1 = [1, 2, 8, 7, 6.8, 1.5]$ $x_2 = [3, 4, 9, 8.5, [7.5, 2.5]$\n",
    "$$$$\n",
    "$$f(x) = x_1w_1 + x_2w_2 + b$$\n",
    "$$f(x) = x_1 + x_2 - 10$$\n",
    "If $g(z) = 0$, then\n",
    "$$0 = x_1 + x_2 - 10$$\n",
    "$$x_1 + x_2 - 10 = 0$$\n",
    "$$x_1 + x_2  = 10$$\n",
    "$$x_1 = 10 - x_2$$\n",
    "$$x_2 = 10 - x_1$$"
   ]
  },
  {
   "cell_type": "code",
   "execution_count": 65,
   "id": "0b25cefb-6a67-4874-860a-9403892480c0",
   "metadata": {},
   "outputs": [],
   "source": [
    "X2_train = np.array([[1, 3], [2,4], [8, 9], [3,4],[7, 8.5], [6.8, 7.5], [2,5],[1.5, 2.5]])\n",
    "y2_train = np.array([0, 0, 1, 0, 1, 1, 0, 0])"
   ]
  },
  {
   "cell_type": "code",
   "execution_count": 66,
   "id": "ef564630-0799-4abb-aa99-133e2b78a55a",
   "metadata": {},
   "outputs": [
    {
     "data": {
      "text/plain": [
       "(8, 2)"
      ]
     },
     "execution_count": 66,
     "metadata": {},
     "output_type": "execute_result"
    }
   ],
   "source": [
    "X2_train.shape"
   ]
  },
  {
   "cell_type": "code",
   "execution_count": 67,
   "id": "0ec87e39",
   "metadata": {},
   "outputs": [],
   "source": [
    "X2_pos = X2_train[y2_train == 1]\n",
    "y2_pos = y2_train[y2_train == 1]\n",
    "X2_neg = X2_train[y2_train == 0]\n",
    "y2_neg = y2_train[y2_train == 0]"
   ]
  },
  {
   "cell_type": "code",
   "execution_count": 68,
   "id": "7d72bba3",
   "metadata": {},
   "outputs": [],
   "source": [
    "x1 = np.arange(0,10)\n",
    "x2 = 10 - x1"
   ]
  },
  {
   "cell_type": "code",
   "execution_count": 69,
   "id": "f34b25bf",
   "metadata": {},
   "outputs": [
    {
     "data": {
      "image/png": "[encoded data removed]",
      "text/plain": [
       "<Figure size 800x500 with 1 Axes>"
      ]
     },
     "metadata": {},
     "output_type": "display_data"
    }
   ],
   "source": [
    "plt.close('all')\n",
    "fig, (ax1) = plt.subplots(1, 1, figsize=(8, 5))\n",
    "ax1.scatter(X2_pos[:,0], X2_pos[:,1], marker='x', s = 80, c='r')\n",
    "ax1.scatter(X2_neg[:,0], X2_neg[:,1], marker='o', s = 80, c='b')\n",
    "ax1.plot(x1, x2, linewidth=5)\n",
    "ax1.set_title('Classfication Data')\n",
    "ax1.set_xlabel('x0')\n",
    "ax1.set_ylabel('x1')\n",
    "plt.show()"
   ]
  },
  {
   "cell_type": "markdown",
   "id": "0ddd0e62",
   "metadata": {},
   "source": [
    "Besides straight lines, we may have other forms of decision boundaries such as a circle or an eclips. \n",
    "\n",
    "Examples of other form decision boundaries shown below:"
   ]
  },
  {
   "cell_type": "code",
   "execution_count": 70,
   "id": "d6ef2876",
   "metadata": {},
   "outputs": [],
   "source": [
    "from sklearn.datasets import make_blobs, make_circles, make_gaussian_quantiles"
   ]
  },
  {
   "cell_type": "code",
   "execution_count": 71,
   "id": "051bad97-0d71-4ede-bc0a-55f61d62e636",
   "metadata": {},
   "outputs": [],
   "source": [
    "np.random.seed(10)\n",
    "X, y = make_circles(n_samples=200, factor=0.1, noise=0.18)"
   ]
  },
  {
   "cell_type": "code",
   "execution_count": 72,
   "id": "3d003c47-4940-41f0-9819-7da9e9d6da35",
   "metadata": {},
   "outputs": [],
   "source": [
    "X_pos = X[y == 1]\n",
    "y_pos = y[y == 1]\n",
    "X_neg = X[y == 0]\n",
    "y_neg = y[y == 0]"
   ]
  },
  {
   "cell_type": "code",
   "execution_count": 73,
   "id": "3bc75a41",
   "metadata": {},
   "outputs": [
    {
     "data": {
      "image/png": "[encoded data removed]",
      "text/plain": [
       "<Figure size 800x500 with 1 Axes>"
      ]
     },
     "metadata": {},
     "output_type": "display_data"
    }
   ],
   "source": [
    "circle1 = plt.Circle((0, 0), 0.5, fill=False)\n",
    "plt.close('all')\n",
    "fig, (ax1) = plt.subplots(1, 1, figsize=(8, 5))\n",
    "ax1.scatter(X_pos[:,0], X_pos[:,1], marker='o', s = 80, c='b')\n",
    "ax1.scatter(X_neg[:,0], X_neg[:,1], marker='x', s = 80, c='r')\n",
    "ax1.add_patch(circle1)\n",
    "ax1.set_title('Classfication Data')\n",
    "ax1.set_xlabel('x0')\n",
    "ax1.set_ylabel('x1')\n",
    "plt.show()"
   ]
  },
  {
   "cell_type": "markdown",
   "id": "d5b3c578-ace3-4d8a-b80e-562b0e88ad61",
   "metadata": {},
   "source": [
    "**Please note that the plotted circle above was drawn manually as illustration. We will learn how to calculate decision boundaries later.**"
   ]
  },
  {
   "cell_type": "markdown",
   "id": "798eb4b1-63dd-499e-a5b3-439cfeddedea",
   "metadata": {},
   "source": [
    "A possible formula for circle is $w_1 = 1$, $w_2 = 1$, and $b = -1$\n",
    "$$$$\n",
    "$$f(x) = x_1^2 w_1 + x_2^2 w_2 + b$$\n",
    "$$f(x) = x_1^2 + x_2^2 - 1$$\n",
    "If $g(z) = 0$, then\n",
    "$$0 = x_1^2 + x_2^2 - 1$$\n",
    "$$x_1^2 + x_2^2 - 1 = 0$$\n",
    "$$x_1^2 + x_2^2 = 1$$\n",
    "$$x_1^2  = 1 - x_2^2$$\n",
    "$$x_1  = \\sqrt{1 - x_2^2}$$\n",
    "$$x_2  = \\sqrt{1 - x_1^2}$$\n",
    "$$$$\n",
    "We will show how to plot non-linear decision boundary using our prediction later in this tutorial."
   ]
  },
  {
   "cell_type": "markdown",
   "id": "b54f5f4d",
   "metadata": {},
   "source": [
    "Another example of decision boundaries:"
   ]
  },
  {
   "cell_type": "code",
   "execution_count": 74,
   "id": "88d3a99c-b37b-4565-a9bc-7b2c306c8a87",
   "metadata": {},
   "outputs": [],
   "source": [
    "np.random.seed(10)\n",
    "X, Y = make_gaussian_quantiles(n_samples=100, n_features=2, n_classes=2)"
   ]
  },
  {
   "cell_type": "code",
   "execution_count": 75,
   "id": "e93211d5-c3d9-45e9-8300-4082ec3689f3",
   "metadata": {},
   "outputs": [
    {
     "data": {
      "image/png": "[encoded data removed]",
      "text/plain": [
       "<Figure size 800x500 with 1 Axes>"
      ]
     },
     "metadata": {},
     "output_type": "display_data"
    }
   ],
   "source": [
    "c1 = plt.Circle((0, 0), 1, fill=False)\n",
    "plt.close('all')\n",
    "fig, (ax1) = plt.subplots(1, 1, figsize=(8, 5))\n",
    "ax1.scatter(X[:, 0], X[:, 1], marker=\"o\", c=Y, s=25, edgecolor='k')\n",
    "ax1.add_patch(c1)\n",
    "plt.show()"
   ]
  },
  {
   "cell_type": "markdown",
   "id": "62ecf166-13a9-47b4-a4a4-d91be1dea748",
   "metadata": {},
   "source": [
    "**The circle above is also manually drawn. The derivation of decision boundary could be a polynomial equation similar to the circle above. The boundary is derived using $g(z) = 0$.**"
   ]
  },
  {
   "cell_type": "markdown",
   "id": "73e687af",
   "metadata": {},
   "source": [
    "## Cost Function for Logistics Regression"
   ]
  },
  {
   "cell_type": "markdown",
   "id": "483b7d13",
   "metadata": {},
   "source": [
    "Please note if we apply the same cost function for linear regression to logistics regression, we would not have a smooth convex cost function curve. Therefore it is not suitable to use it for logistics regression. We need to implement a new computation for Logistics Regression. "
   ]
  },
  {
   "cell_type": "markdown",
   "id": "055f8bba",
   "metadata": {},
   "source": [
    "### Lost Function"
   ]
  },
  {
   "cell_type": "markdown",
   "id": "ac571325",
   "metadata": {},
   "source": [
    "We are going to define the **Lost Function** as the differences between the prediction and actual data for each individual record before the summation and division by m.\n",
    "\n",
    "Therefore the cost function is:\n",
    "$$costFunction = J(w,b)$$\n",
    "$$J(w,b) = \\frac{1}{m} \\sum_{m=1}^{m} {(LossFunction)}$$"
   ]
  },
  {
   "cell_type": "markdown",
   "id": "1a83ebdb",
   "metadata": {},
   "source": [
    "The computation of **Loss Function** is as follows:"
   ]
  },
  {
   "cell_type": "markdown",
   "id": "172d54f6",
   "metadata": {},
   "source": [
    "**Lost Function**\n",
    "$$$$\n",
    "<font color='blue'>\n",
    "$$z = f(x)$$\n",
    "$$Lost Function = L(f(x),\\hat y)$$\n",
    "When $y^{(i)} = 1$\n",
    "$$L(f(x),\\hat y) = -log(g(z))$$\n",
    "$$L(f(x),\\hat y) = -log(g(f(x)))$$\n",
    "When $y^{(i)}=0$\n",
    "$$L(f(x),\\hat y) = -log(1-g(z))$$\n",
    "$$L(f(x),\\hat y) = -log(1-g(f(x)))$$"
   ]
  },
  {
   "cell_type": "markdown",
   "id": "b2f436dc-049f-46c0-93c5-b11e8079a52d",
   "metadata": {},
   "source": [
    "Let use explore the function $log(x)$ and $-log(x)$."
   ]
  },
  {
   "cell_type": "code",
   "execution_count": 76,
   "id": "a5f03f25",
   "metadata": {},
   "outputs": [],
   "source": [
    "x = np.linspace(0.01,5,100)\n",
    "y_log = np.log(x)\n",
    "y_neg_log = -np.log(x)"
   ]
  },
  {
   "cell_type": "markdown",
   "id": "ba2202fe",
   "metadata": {},
   "source": [
    "The follow shows relationship between log(x) and -log(x)"
   ]
  },
  {
   "cell_type": "code",
   "execution_count": 77,
   "id": "7ccee6fe",
   "metadata": {},
   "outputs": [
    {
     "data": {
      "image/png": "[encoded data removed]",
      "text/plain": [
       "<Figure size 800x500 with 1 Axes>"
      ]
     },
     "metadata": {},
     "output_type": "display_data"
    }
   ],
   "source": [
    "plt.close('all')\n",
    "fig, (ax1) = plt.subplots(1, 1, figsize=(8, 5))\n",
    "ax1.plot(x, y_log, linewidth=1, c='r', label='log(x)')\n",
    "ax1.plot(x, y_neg_log, linewidth=1, c='b', label='-log(x)')\n",
    "ax1.set_xlim(0,5)\n",
    "ax1.set_title('log(x) vs -log(x)')\n",
    "ax1.set_xlabel('x')\n",
    "ax1.set_ylabel('log of (x)')\n",
    "ax1.legend()\n",
    "plt.show()"
   ]
  },
  {
   "cell_type": "markdown",
   "id": "1a2df4ed",
   "metadata": {},
   "source": [
    "Now lets examine $-log(x)$ where x and y are between 0 and 1\n",
    "$$-log(x)$$"
   ]
  },
  {
   "cell_type": "code",
   "execution_count": 78,
   "id": "e0a9aae2",
   "metadata": {},
   "outputs": [],
   "source": [
    "x2 = np.linspace(0.01,1-0.01,100)\n",
    "y2 = -np.log(x2)"
   ]
  },
  {
   "cell_type": "code",
   "execution_count": 79,
   "id": "18f3aff1",
   "metadata": {},
   "outputs": [
    {
     "data": {
      "image/png": "[encoded data removed]",
      "text/plain": [
       "<Figure size 800x500 with 1 Axes>"
      ]
     },
     "metadata": {},
     "output_type": "display_data"
    }
   ],
   "source": [
    "plt.close('all')\n",
    "fig, (ax1) = plt.subplots(1, 1, figsize=(8, 5))\n",
    "ax1.plot(x2, y2, linewidth=1, c='b', label='-log(f(x))')\n",
    "ax1.set_xlim(0,1)\n",
    "ax1.set_ylim(0,5)\n",
    "ax1.set_title('Loss Fuction vs prediction when y = 1')\n",
    "ax1.set_xlabel('y prediction')\n",
    "ax1.set_ylabel('Loss = -log(x)')\n",
    "plt.show()"
   ]
  },
  {
   "cell_type": "markdown",
   "id": "2d439758",
   "metadata": {},
   "source": [
    "For this chart,  using the formula:\n",
    "$$$$\n",
    "- when $y=1$, and the prediction hit 1, then the loss is near zero. \n",
    "- when $y=0$ or near 0 such as 0.1, then the loss is high."
   ]
  },
  {
   "cell_type": "markdown",
   "id": "26d32914",
   "metadata": {},
   "source": [
    "Next we examine the formula when $y=0$, the formula is\n",
    "$$-log(1-x)$$"
   ]
  },
  {
   "cell_type": "code",
   "execution_count": 80,
   "id": "e719e04a",
   "metadata": {},
   "outputs": [],
   "source": [
    "x3 = np.linspace(0.01,1,1000)\n",
    "y3 = -np.log(1-x3[:-1])"
   ]
  },
  {
   "cell_type": "code",
   "execution_count": 81,
   "id": "bdfdaee5",
   "metadata": {},
   "outputs": [
    {
     "data": {
      "image/png": "[encoded data removed]",
      "text/plain": [
       "<Figure size 800x500 with 1 Axes>"
      ]
     },
     "metadata": {},
     "output_type": "display_data"
    }
   ],
   "source": [
    "plt.close('all')\n",
    "fig, (ax1) = plt.subplots(1, 1, figsize=(8, 5))\n",
    "ax1.plot(x3[:-1], y3, linewidth=1, c='b', label='-log(1-f(x))')\n",
    "ax1.set_xlim(0,1)\n",
    "ax1.set_ylim(0,5)\n",
    "ax1.set_title('Loss Fuction vs prediction when y = 0')\n",
    "ax1.set_xlabel('y prediction')\n",
    "ax1.set_ylabel('Loss = -log(1-x)')\n",
    "ax1.legend()\n",
    "plt.show()"
   ]
  },
  {
   "cell_type": "markdown",
   "id": "7e93b45c",
   "metadata": {},
   "source": [
    "For this chart,  using the formula:\n",
    "$$$$\n",
    "- when $y=0$, and the prediction hit 0, then the loss is near zero. \n",
    "- when $y=1$ or near 1, then the loss is high."
   ]
  },
  {
   "cell_type": "markdown",
   "id": "60bfae3d-0044-43aa-bbc5-d19b52749962",
   "metadata": {},
   "source": [
    "Thus using log function we can have a smooth convex loss function."
   ]
  },
  {
   "cell_type": "markdown",
   "id": "e4f14f0a-2c83-4cc0-84c2-4926b96bb4ec",
   "metadata": {},
   "source": [
    "### Loss Function for Logistics Regression"
   ]
  },
  {
   "cell_type": "markdown",
   "id": "4e5cccd4",
   "metadata": {},
   "source": [
    "$$z = f(x)$$\n",
    "\n",
    "<font color='blue'>\n",
    "\n",
    "When $y^{(i)} = 1$\n",
    "$$L(f(x),\\hat y) = -log(g(f(x)))$$\n",
    "$$L(f(x),\\hat y) = -log(g(z))$$\n",
    "When $y^{(i)}=0$\n",
    "$$L(f(x),\\hat y) = -log(1-g(f(x)))$$\n",
    "$$L(f(x),\\hat y) = -log(1-g(z))$$"
   ]
  },
  {
   "cell_type": "markdown",
   "id": "9c26e9ed",
   "metadata": {},
   "source": [
    "We can compress the formula above into one single line"
   ]
  },
  {
   "cell_type": "markdown",
   "id": "7d490361",
   "metadata": {},
   "source": [
    "$$z = f(x)$$\n",
    "$$loss(f(x),y) = y^{(i)}(-log(g(z)))-(1-y^{(i)})(log(1-g(z)))$$\n",
    "$$loss(f(x),y) = -y^{(i)}log(g(z))-(1-y^{(i)})log(1-g(z))$$\n",
    "\n",
    "<font color='red'>\n",
    "    \n",
    "$$loss(f(x),y) = -y^{(i)}log(g(z))-(1-y^{(i)})log(1-g(z))$$\n",
    "\n",
    "<font color='blue'>\n",
    "    \n",
    "The loss function was derived using statistical techniques of **maximum likelihood**.\n",
    "**Please note that the loss function above is also known as Binary-Cross-Entropy-Loss**\n",
    "\n",
    "</font>\n",
    "\n",
    "<font color='blue'>\n",
    "\n",
    "**Binary-Cross-Entropy Loss:**\n",
    "$$-\\left[y^{(i)}log(g(z))+(1-y^{(i)})log(1-g(z))\\right]$$"
   ]
  },
  {
   "cell_type": "markdown",
   "id": "c5e8e331",
   "metadata": {},
   "source": [
    "If <font color='blue'>$y=1$</font>, using the formula\n",
    "$$loss(f(x),y) = -y^{(i)}log(g(z))-(1-y^{(i)})log(1-g(z))$$\n",
    "after substituting $y=1$ to the formula, we have\n",
    "$$loss(f(x),y) = (-1)log(g(z))-(1-1)log(1-g(z))$$\n",
    "$$loss(f(x),y) = (-1)log(g(z))-(0)log(1-g(z))$$\n",
    "$$loss(f(x),y)= (-1)log(g(z))-0$$\n",
    "$$$$\n",
    "<font color='blue'>\n",
    "$$loss(f(x),y)= -log(g(z))$$"
   ]
  },
  {
   "cell_type": "markdown",
   "id": "79f226e1",
   "metadata": {},
   "source": [
    "If <font color='blue'>$y=0$</font>, using the formula\n",
    "$$loss(f(x),y) = -y^{(i)}log(g(z))-(1-y^{(i)})log(1-g(z))$$\n",
    "after substituting $y=0$ to the formula, we have\n",
    "$$loss(f(x),y) = (-0)log(g(z))-(1-0)log(1-g(z))$$\n",
    "$$loss(f(x),y) = 0 -(1)log(1-g(z))$$\n",
    "$$loss(f(x),y) = (-1)log(1-g(z))$$\n",
    "$$$$\n",
    "<font color='blue'>\n",
    "$$loss(f(x),y)= - log(1-g(z))$$"
   ]
  },
  {
   "cell_type": "markdown",
   "id": "a3c3d922",
   "metadata": {},
   "source": [
    "### Cost Function for Logistics Regression"
   ]
  },
  {
   "attachments": {},
   "cell_type": "markdown",
   "id": "bd4254fc-0b55-4453-a086-638ad0dc56f0",
   "metadata": {},
   "source": [
    "$$J(w,b) = \\frac{1}{m} \\sum_{m=1}^{m} {(LossFunction)}$$\n",
    "$$$$\n",
    "$$J(w,b) = \\frac{1}{m} \\sum_{m=1}^{m} \\left[ -(y)log(g(z)) - (1-y)log(1-g(z))\\right]$$\n",
    "$$$$\n",
    "<font color='red'>\n",
    "$$J(w,b) = -\\frac{1}{m} \\sum_{m=1}^{m} \\left[y^{(i)}log(g(z)) + (1-y^{(i)})log(1-g(z))\\right]$$\n",
    "$$J(w,b) = -\\frac{1}{m} \\sum_{m=1}^{m} \\left[y^{(i)}log(g(f(x))) + (1-y^{(i)})log(1-g(f(x)))\\right]$$\n",
    "$$$$\n",
    "- When we use the cost function above, we would have a smooth convex cost curve."
   ]
  },
  {
   "cell_type": "code",
   "execution_count": 265,
   "id": "2d5bb2e2",
   "metadata": {},
   "outputs": [],
   "source": [
    "def compute_logistic_cost_beta(X,y,coefficient,intercept, reguLambda = 0):\n",
    "    '''\n",
    "    Logistics cost function for both single and multiple features\n",
    "    X = matrix of training data, each training examples in rows (m) and features in column (n), \n",
    "        Single feature data must be in m by 1 vector, where m is total number of training examples.\n",
    "    y = m by 1 vector, where m is total number of training examples.\n",
    "    coefficient (w) = n by 1 vector, where n is total number of features\n",
    "    intercept (b) = scalar\n",
    "\n",
    "    Return:\n",
    "    Cost (scalar)\n",
    "    '''\n",
    "\n",
    "    ### the following section convert 1d array to 2d array for ease of computation ###\n",
    "    if isinstance(X, pd.DataFrame):\n",
    "        X = X.to_numpy()\n",
    "        \n",
    "    if isinstance(y, pd.DataFrame):\n",
    "        y = y.to_numpy()\n",
    "        \n",
    "    if X.ndim == 1:\n",
    "        X = X.reshape(-1,1)\n",
    "    \n",
    "    if y.ndim == 1:\n",
    "        y = y.reshape(-1,1)\n",
    "        \n",
    "    if np.isscalar(coefficient) == True:\n",
    "        coefficient = np.array([coefficient])\n",
    "        \n",
    "    if coefficient.ndim == 1:\n",
    "        coefficient = coefficient.reshape(-1,1)\n",
    "\n",
    "\n",
    "    z = np.matmul(X,coefficient) + intercept\n",
    "    sig = sigmoid_beta(z)\n",
    "    cost = - (y * np.log(sig + 1e-20) + (1-y)*np.log(1-sig + 1e-20)).mean()\n",
    "    \n",
    "    return cost"
   ]
  },
  {
   "cell_type": "markdown",
   "id": "789325b1",
   "metadata": {},
   "source": [
    "<div class=\"alert alert-block alert-warning\">\n",
    "\n",
    "**Important**\n",
    "    \n",
    "To implement the logistics cost function, the type of arrays between x, y and w are very important. \n",
    "\n",
    "- the dimension of y and w is very important. Both must be of the same type\n",
    "- if y is 1d array, then w must be 1d array, if one of them is different, there will be **no error but computation will be wrong**.\n",
    "- this is due to the formula y * np.log(fx), what we want is element wise computation\n",
    "- best is to use np.matmul to force a 2d operation.\n",
    "- We also have risk of having `np.log(0)`. This will lead to a divide by zero error.\n",
    "- To mitigate that problem, we add a very small number `1e-20` to the log number.\n",
    "\n",
    "</div>"
   ]
  },
  {
   "cell_type": "markdown",
   "id": "23a0ea33-3b3f-4d1a-88b0-ddf641b9909c",
   "metadata": {},
   "source": [
    "#### Showing Arrays Multiplication Issues"
   ]
  },
  {
   "cell_type": "code",
   "execution_count": 266,
   "id": "f21a9b92",
   "metadata": {},
   "outputs": [],
   "source": [
    "array1 = np.array([1,2,3])\n",
    "array2 = np.array([2,2,2])"
   ]
  },
  {
   "cell_type": "code",
   "execution_count": 267,
   "id": "26effd48",
   "metadata": {},
   "outputs": [
    {
     "data": {
      "text/plain": [
       "array([2, 4, 6])"
      ]
     },
     "execution_count": 267,
     "metadata": {},
     "output_type": "execute_result"
    }
   ],
   "source": [
    "array1 * array2"
   ]
  },
  {
   "cell_type": "code",
   "execution_count": 268,
   "id": "2aba8fab",
   "metadata": {},
   "outputs": [],
   "source": [
    "array3 = np.array([2,2,2]).reshape(-1,1)"
   ]
  },
  {
   "cell_type": "code",
   "execution_count": 269,
   "id": "b54bf42b",
   "metadata": {},
   "outputs": [
    {
     "data": {
      "text/plain": [
       "array([1, 2, 3])"
      ]
     },
     "execution_count": 269,
     "metadata": {},
     "output_type": "execute_result"
    }
   ],
   "source": [
    "array1"
   ]
  },
  {
   "cell_type": "code",
   "execution_count": 270,
   "id": "d6d4ba7d-dec3-416a-a12c-2e4843f0abc4",
   "metadata": {},
   "outputs": [
    {
     "data": {
      "text/plain": [
       "(3,)"
      ]
     },
     "execution_count": 270,
     "metadata": {},
     "output_type": "execute_result"
    }
   ],
   "source": [
    "array1.shape"
   ]
  },
  {
   "cell_type": "code",
   "execution_count": 271,
   "id": "7a8134b5",
   "metadata": {},
   "outputs": [
    {
     "data": {
      "text/plain": [
       "array([[2],\n",
       "       [2],\n",
       "       [2]])"
      ]
     },
     "execution_count": 271,
     "metadata": {},
     "output_type": "execute_result"
    }
   ],
   "source": [
    "array3"
   ]
  },
  {
   "cell_type": "code",
   "execution_count": 272,
   "id": "bbdf725b-04cd-41de-8286-84d47f543cca",
   "metadata": {},
   "outputs": [
    {
     "data": {
      "text/plain": [
       "(3, 1)"
      ]
     },
     "execution_count": 272,
     "metadata": {},
     "output_type": "execute_result"
    }
   ],
   "source": [
    "array3.shape"
   ]
  },
  {
   "cell_type": "code",
   "execution_count": 273,
   "id": "f1c1eb57",
   "metadata": {},
   "outputs": [
    {
     "data": {
      "text/plain": [
       "array([[2, 4, 6],\n",
       "       [2, 4, 6],\n",
       "       [2, 4, 6]])"
      ]
     },
     "execution_count": 273,
     "metadata": {},
     "output_type": "execute_result"
    }
   ],
   "source": [
    "(array1 * array3)"
   ]
  },
  {
   "cell_type": "markdown",
   "id": "54179ace-50c5-47f6-9889-da0e83513937",
   "metadata": {},
   "source": [
    "**The computation above is wrong. We want a vector of [2, 4, 6].**"
   ]
  },
  {
   "cell_type": "code",
   "execution_count": 274,
   "id": "80b3f6cc-fdb1-4c1f-b61c-795b62d075c3",
   "metadata": {},
   "outputs": [
    {
     "data": {
      "text/plain": [
       "array([[2],\n",
       "       [4],\n",
       "       [6]])"
      ]
     },
     "execution_count": 274,
     "metadata": {},
     "output_type": "execute_result"
    }
   ],
   "source": [
    "array1.reshape(-1,1) * array3"
   ]
  },
  {
   "cell_type": "markdown",
   "id": "9aa989dc-a6a8-41d7-92fd-f9ab60e13a3b",
   "metadata": {},
   "source": [
    "#### Showing Log Issues"
   ]
  },
  {
   "cell_type": "code",
   "execution_count": 275,
   "id": "0d239af7-eb6c-4d7c-827c-a193aa743e70",
   "metadata": {},
   "outputs": [
    {
     "data": {
      "text/plain": [
       "array([ -9.21034037,  -4.60517019,  -2.30258509,   0.        ,\n",
       "         2.30258509,   4.60517019,   6.90775528,  20.72326584,\n",
       "       709.19620864])"
      ]
     },
     "execution_count": 275,
     "metadata": {},
     "output_type": "execute_result"
    }
   ],
   "source": [
    "np.log([0.0001, 0.01, 0.1, 1,10,100,1000,1000000000,1e+308])"
   ]
  },
  {
   "cell_type": "code",
   "execution_count": 276,
   "id": "ba2bc9f4-36e0-4078-8728-7affe84204d9",
   "metadata": {},
   "outputs": [
    {
     "data": {
      "text/plain": [
       "array([inf])"
      ]
     },
     "execution_count": 276,
     "metadata": {},
     "output_type": "execute_result"
    }
   ],
   "source": [
    "np.log([1e+309])"
   ]
  },
  {
   "cell_type": "markdown",
   "id": "dca85beb-225f-4615-8bab-10e311ff34ba",
   "metadata": {},
   "source": [
    "**There is no chances of reaching such a high number because we have applied Sigmoid function. Basically the log should be between 0 to 1 or 1-Sigmoid value.**"
   ]
  },
  {
   "cell_type": "code",
   "execution_count": 277,
   "id": "762dfcf2-8682-44e0-a660-2df636bc0ef9",
   "metadata": {},
   "outputs": [
    {
     "data": {
      "text/plain": [
       "array([0.  , 0.01, 0.02, 0.03, 0.04, 0.05, 0.06, 0.07, 0.08, 0.09, 0.1 ,\n",
       "       0.11, 0.12, 0.13, 0.14, 0.15, 0.16, 0.17, 0.18, 0.19, 0.2 , 0.21,\n",
       "       0.22, 0.23, 0.24, 0.25, 0.26, 0.27, 0.28, 0.29, 0.3 , 0.31, 0.32,\n",
       "       0.33, 0.34, 0.35, 0.36, 0.37, 0.38, 0.39, 0.4 , 0.41, 0.42, 0.43,\n",
       "       0.44, 0.45, 0.46, 0.47, 0.48, 0.49, 0.5 , 0.51, 0.52, 0.53, 0.54,\n",
       "       0.55, 0.56, 0.57, 0.58, 0.59, 0.6 , 0.61, 0.62, 0.63, 0.64, 0.65,\n",
       "       0.66, 0.67, 0.68, 0.69, 0.7 , 0.71, 0.72, 0.73, 0.74, 0.75, 0.76,\n",
       "       0.77, 0.78, 0.79, 0.8 , 0.81, 0.82, 0.83, 0.84, 0.85, 0.86, 0.87,\n",
       "       0.88, 0.89, 0.9 , 0.91, 0.92, 0.93, 0.94, 0.95, 0.96, 0.97, 0.98,\n",
       "       0.99])"
      ]
     },
     "execution_count": 277,
     "metadata": {},
     "output_type": "execute_result"
    }
   ],
   "source": [
    "z1 =  np.arange(0,1,0.01)\n",
    "z1"
   ]
  },
  {
   "cell_type": "code",
   "execution_count": 278,
   "id": "8fe0b63c-b813-4749-b02c-a675cea30668",
   "metadata": {},
   "outputs": [
    {
     "name": "stderr",
     "output_type": "stream",
     "text": [
      "/var/folders/1h/s4bz3m4n32l_ljm5g40dytrw0000gp/T/ipykernel_3925/1677477055.py:1: RuntimeWarning: divide by zero encountered in log\n",
      "  np.log(z1)\n"
     ]
    },
    {
     "data": {
      "text/plain": [
       "array([       -inf, -4.60517019, -3.91202301, -3.5065579 , -3.21887582,\n",
       "       -2.99573227, -2.81341072, -2.65926004, -2.52572864, -2.40794561,\n",
       "       -2.30258509, -2.20727491, -2.12026354, -2.04022083, -1.96611286,\n",
       "       -1.89711998, -1.83258146, -1.77195684, -1.71479843, -1.66073121,\n",
       "       -1.60943791, -1.56064775, -1.51412773, -1.46967597, -1.42711636,\n",
       "       -1.38629436, -1.34707365, -1.30933332, -1.27296568, -1.23787436,\n",
       "       -1.2039728 , -1.17118298, -1.13943428, -1.10866262, -1.07880966,\n",
       "       -1.04982212, -1.02165125, -0.99425227, -0.96758403, -0.94160854,\n",
       "       -0.91629073, -0.89159812, -0.86750057, -0.84397007, -0.82098055,\n",
       "       -0.7985077 , -0.77652879, -0.75502258, -0.73396918, -0.71334989,\n",
       "       -0.69314718, -0.67334455, -0.65392647, -0.63487827, -0.61618614,\n",
       "       -0.597837  , -0.5798185 , -0.56211892, -0.54472718, -0.52763274,\n",
       "       -0.51082562, -0.49429632, -0.4780358 , -0.46203546, -0.4462871 ,\n",
       "       -0.43078292, -0.41551544, -0.40047757, -0.38566248, -0.37106368,\n",
       "       -0.35667494, -0.34249031, -0.32850407, -0.31471074, -0.30110509,\n",
       "       -0.28768207, -0.27443685, -0.26136476, -0.24846136, -0.23572233,\n",
       "       -0.22314355, -0.21072103, -0.19845094, -0.18632958, -0.17435339,\n",
       "       -0.16251893, -0.15082289, -0.13926207, -0.12783337, -0.11653382,\n",
       "       -0.10536052, -0.09431068, -0.08338161, -0.07257069, -0.0618754 ,\n",
       "       -0.05129329, -0.04082199, -0.03045921, -0.02020271, -0.01005034])"
      ]
     },
     "execution_count": 278,
     "metadata": {},
     "output_type": "execute_result"
    }
   ],
   "source": [
    "np.log(z1)"
   ]
  },
  {
   "cell_type": "markdown",
   "id": "ee7d0691-6a3f-4cf2-ae30-e838df7776e1",
   "metadata": {},
   "source": [
    "**We have issue with `log(0)`.**"
   ]
  },
  {
   "cell_type": "code",
   "execution_count": 279,
   "id": "4a6fba3d-7065-4f27-845d-5d39d92918da",
   "metadata": {},
   "outputs": [
    {
     "name": "stderr",
     "output_type": "stream",
     "text": [
      "/var/folders/1h/s4bz3m4n32l_ljm5g40dytrw0000gp/T/ipykernel_3925/2933082444.py:1: RuntimeWarning: divide by zero encountered in log\n",
      "  np.log(0)\n"
     ]
    },
    {
     "data": {
      "text/plain": [
       "-inf"
      ]
     },
     "execution_count": 279,
     "metadata": {},
     "output_type": "execute_result"
    }
   ],
   "source": [
    "np.log(0)"
   ]
  },
  {
   "cell_type": "code",
   "execution_count": 280,
   "id": "8c55aa0f-7399-4ce4-af75-764e67eb793a",
   "metadata": {},
   "outputs": [
    {
     "data": {
      "text/plain": [
       "array([1.  , 0.99, 0.98, 0.97, 0.96, 0.95, 0.94, 0.93, 0.92, 0.91, 0.9 ,\n",
       "       0.89, 0.88, 0.87, 0.86, 0.85, 0.84, 0.83, 0.82, 0.81, 0.8 , 0.79,\n",
       "       0.78, 0.77, 0.76, 0.75, 0.74, 0.73, 0.72, 0.71, 0.7 , 0.69, 0.68,\n",
       "       0.67, 0.66, 0.65, 0.64, 0.63, 0.62, 0.61, 0.6 , 0.59, 0.58, 0.57,\n",
       "       0.56, 0.55, 0.54, 0.53, 0.52, 0.51, 0.5 , 0.49, 0.48, 0.47, 0.46,\n",
       "       0.45, 0.44, 0.43, 0.42, 0.41, 0.4 , 0.39, 0.38, 0.37, 0.36, 0.35,\n",
       "       0.34, 0.33, 0.32, 0.31, 0.3 , 0.29, 0.28, 0.27, 0.26, 0.25, 0.24,\n",
       "       0.23, 0.22, 0.21, 0.2 , 0.19, 0.18, 0.17, 0.16, 0.15, 0.14, 0.13,\n",
       "       0.12, 0.11, 0.1 , 0.09, 0.08, 0.07, 0.06, 0.05, 0.04, 0.03, 0.02,\n",
       "       0.01])"
      ]
     },
     "execution_count": 280,
     "metadata": {},
     "output_type": "execute_result"
    }
   ],
   "source": [
    "z2 = 1-z1\n",
    "z2"
   ]
  },
  {
   "cell_type": "code",
   "execution_count": 281,
   "id": "b92d209b-78c6-492b-98b3-11af86dad87e",
   "metadata": {},
   "outputs": [
    {
     "data": {
      "text/plain": [
       "array([ 0.        , -0.01005034, -0.02020271, -0.03045921, -0.04082199,\n",
       "       -0.05129329, -0.0618754 , -0.07257069, -0.08338161, -0.09431068,\n",
       "       -0.10536052, -0.11653382, -0.12783337, -0.13926207, -0.15082289,\n",
       "       -0.16251893, -0.17435339, -0.18632958, -0.19845094, -0.21072103,\n",
       "       -0.22314355, -0.23572233, -0.24846136, -0.26136476, -0.27443685,\n",
       "       -0.28768207, -0.30110509, -0.31471074, -0.32850407, -0.34249031,\n",
       "       -0.35667494, -0.37106368, -0.38566248, -0.40047757, -0.41551544,\n",
       "       -0.43078292, -0.4462871 , -0.46203546, -0.4780358 , -0.49429632,\n",
       "       -0.51082562, -0.52763274, -0.54472718, -0.56211892, -0.5798185 ,\n",
       "       -0.597837  , -0.61618614, -0.63487827, -0.65392647, -0.67334455,\n",
       "       -0.69314718, -0.71334989, -0.73396918, -0.75502258, -0.77652879,\n",
       "       -0.7985077 , -0.82098055, -0.84397007, -0.86750057, -0.89159812,\n",
       "       -0.91629073, -0.94160854, -0.96758403, -0.99425227, -1.02165125,\n",
       "       -1.04982212, -1.07880966, -1.10866262, -1.13943428, -1.17118298,\n",
       "       -1.2039728 , -1.23787436, -1.27296568, -1.30933332, -1.34707365,\n",
       "       -1.38629436, -1.42711636, -1.46967597, -1.51412773, -1.56064775,\n",
       "       -1.60943791, -1.66073121, -1.71479843, -1.77195684, -1.83258146,\n",
       "       -1.89711998, -1.96611286, -2.04022083, -2.12026354, -2.20727491,\n",
       "       -2.30258509, -2.40794561, -2.52572864, -2.65926004, -2.81341072,\n",
       "       -2.99573227, -3.21887582, -3.5065579 , -3.91202301, -4.60517019])"
      ]
     },
     "execution_count": 281,
     "metadata": {},
     "output_type": "execute_result"
    }
   ],
   "source": [
    "np.log(z2)"
   ]
  },
  {
   "cell_type": "markdown",
   "id": "8819457c-090e-4db4-a6e3-f8cd9914b70b",
   "metadata": {},
   "source": [
    "**To counter the issue of divide by zero issue, we add a very small number to the log.**"
   ]
  },
  {
   "cell_type": "code",
   "execution_count": 282,
   "id": "31e24b45-af4a-4b03-8e55-56ccea23d1f1",
   "metadata": {},
   "outputs": [
    {
     "data": {
      "text/plain": [
       "-46.051701859880914"
      ]
     },
     "execution_count": 282,
     "metadata": {},
     "output_type": "execute_result"
    }
   ],
   "source": [
    "np.log(0+1e-20)"
   ]
  },
  {
   "cell_type": "code",
   "execution_count": 283,
   "id": "ca1a5dbb-00ce-4183-8858-c82390f09f8a",
   "metadata": {},
   "outputs": [
    {
     "data": {
      "text/plain": [
       "-46.051701859880914"
      ]
     },
     "execution_count": 283,
     "metadata": {},
     "output_type": "execute_result"
    }
   ],
   "source": [
    "z1[0] = z1[0]+1e-20\n",
    "np.log(z1[0])"
   ]
  },
  {
   "cell_type": "markdown",
   "id": "b81932fd-1222-4b32-a7f5-4bf2cae9c18c",
   "metadata": {},
   "source": [
    "We can also add the small value to the whole array"
   ]
  },
  {
   "cell_type": "code",
   "execution_count": 284,
   "id": "107379b3-ff20-433a-9f6e-0f432b3aecfc",
   "metadata": {},
   "outputs": [],
   "source": [
    "z1 = np.arange(0,1,0.01)\n",
    "z1 = z1 + 1e-20"
   ]
  },
  {
   "cell_type": "code",
   "execution_count": 285,
   "id": "a1f770fc-4a91-4138-8c91-03aafaa0aee7",
   "metadata": {},
   "outputs": [
    {
     "data": {
      "text/plain": [
       "array([-4.60517019e+01, -4.60517019e+00, -3.91202301e+00, -3.50655790e+00,\n",
       "       -3.21887582e+00, -2.99573227e+00, -2.81341072e+00, -2.65926004e+00,\n",
       "       -2.52572864e+00, -2.40794561e+00, -2.30258509e+00, -2.20727491e+00,\n",
       "       -2.12026354e+00, -2.04022083e+00, -1.96611286e+00, -1.89711998e+00,\n",
       "       -1.83258146e+00, -1.77195684e+00, -1.71479843e+00, -1.66073121e+00,\n",
       "       -1.60943791e+00, -1.56064775e+00, -1.51412773e+00, -1.46967597e+00,\n",
       "       -1.42711636e+00, -1.38629436e+00, -1.34707365e+00, -1.30933332e+00,\n",
       "       -1.27296568e+00, -1.23787436e+00, -1.20397280e+00, -1.17118298e+00,\n",
       "       -1.13943428e+00, -1.10866262e+00, -1.07880966e+00, -1.04982212e+00,\n",
       "       -1.02165125e+00, -9.94252273e-01, -9.67584026e-01, -9.41608540e-01,\n",
       "       -9.16290732e-01, -8.91598119e-01, -8.67500568e-01, -8.43970070e-01,\n",
       "       -8.20980552e-01, -7.98507696e-01, -7.76528789e-01, -7.55022584e-01,\n",
       "       -7.33969175e-01, -7.13349888e-01, -6.93147181e-01, -6.73344553e-01,\n",
       "       -6.53926467e-01, -6.34878272e-01, -6.16186139e-01, -5.97837001e-01,\n",
       "       -5.79818495e-01, -5.62118918e-01, -5.44727175e-01, -5.27632742e-01,\n",
       "       -5.10825624e-01, -4.94296322e-01, -4.78035801e-01, -4.62035460e-01,\n",
       "       -4.46287103e-01, -4.30782916e-01, -4.15515444e-01, -4.00477567e-01,\n",
       "       -3.85662481e-01, -3.71063681e-01, -3.56674944e-01, -3.42490309e-01,\n",
       "       -3.28504067e-01, -3.14710745e-01, -3.01105093e-01, -2.87682072e-01,\n",
       "       -2.74436846e-01, -2.61364764e-01, -2.48461359e-01, -2.35722334e-01,\n",
       "       -2.23143551e-01, -2.10721031e-01, -1.98450939e-01, -1.86329578e-01,\n",
       "       -1.74353387e-01, -1.62518929e-01, -1.50822890e-01, -1.39262067e-01,\n",
       "       -1.27833372e-01, -1.16533816e-01, -1.05360516e-01, -9.43106795e-02,\n",
       "       -8.33816089e-02, -7.25706928e-02, -6.18754037e-02, -5.12932944e-02,\n",
       "       -4.08219945e-02, -3.04592075e-02, -2.02027073e-02, -1.00503359e-02])"
      ]
     },
     "execution_count": 285,
     "metadata": {},
     "output_type": "execute_result"
    }
   ],
   "source": [
    "np.log(z1)"
   ]
  },
  {
   "cell_type": "code",
   "execution_count": 286,
   "id": "6a37ee60-c3cb-4c7e-925c-c7835d2918b2",
   "metadata": {},
   "outputs": [
    {
     "data": {
      "text/plain": [
       "array([ 0.        , -0.01005034, -0.02020271, -0.03045921, -0.04082199,\n",
       "       -0.05129329, -0.0618754 , -0.07257069, -0.08338161, -0.09431068,\n",
       "       -0.10536052, -0.11653382, -0.12783337, -0.13926207, -0.15082289,\n",
       "       -0.16251893, -0.17435339, -0.18632958, -0.19845094, -0.21072103,\n",
       "       -0.22314355, -0.23572233, -0.24846136, -0.26136476, -0.27443685,\n",
       "       -0.28768207, -0.30110509, -0.31471074, -0.32850407, -0.34249031,\n",
       "       -0.35667494, -0.37106368, -0.38566248, -0.40047757, -0.41551544,\n",
       "       -0.43078292, -0.4462871 , -0.46203546, -0.4780358 , -0.49429632,\n",
       "       -0.51082562, -0.52763274, -0.54472718, -0.56211892, -0.5798185 ,\n",
       "       -0.597837  , -0.61618614, -0.63487827, -0.65392647, -0.67334455,\n",
       "       -0.69314718, -0.71334989, -0.73396918, -0.75502258, -0.77652879,\n",
       "       -0.7985077 , -0.82098055, -0.84397007, -0.86750057, -0.89159812,\n",
       "       -0.91629073, -0.94160854, -0.96758403, -0.99425227, -1.02165125,\n",
       "       -1.04982212, -1.07880966, -1.10866262, -1.13943428, -1.17118298,\n",
       "       -1.2039728 , -1.23787436, -1.27296568, -1.30933332, -1.34707365,\n",
       "       -1.38629436, -1.42711636, -1.46967597, -1.51412773, -1.56064775,\n",
       "       -1.60943791, -1.66073121, -1.71479843, -1.77195684, -1.83258146,\n",
       "       -1.89711998, -1.96611286, -2.04022083, -2.12026354, -2.20727491,\n",
       "       -2.30258509, -2.40794561, -2.52572864, -2.65926004, -2.81341072,\n",
       "       -2.99573227, -3.21887582, -3.5065579 , -3.91202301, -4.60517019])"
      ]
     },
     "execution_count": 286,
     "metadata": {},
     "output_type": "execute_result"
    }
   ],
   "source": [
    "z2 = 1-z1\n",
    "np.log(z2)"
   ]
  },
  {
   "cell_type": "markdown",
   "id": "0f20dffd-4cb2-4a7f-8ecc-2424de63d843",
   "metadata": {},
   "source": [
    "**Please also note that we will never have a negative log number since we have applied Sigmoid function which converts all numbers from 0 to 1. If we encounter negative log issue, please check the input if it is between 0 to 1.**"
   ]
  },
  {
   "cell_type": "markdown",
   "id": "f24c19ee",
   "metadata": {},
   "source": [
    "### Implement Logistics Regression Cost Function"
   ]
  },
  {
   "cell_type": "code",
   "execution_count": 287,
   "id": "17e27057",
   "metadata": {},
   "outputs": [],
   "source": [
    "X_train = np.array([[0.5, 1.5], [1,1], [1.5, 0.5], [3, 0.5], [2, 2], [1, 2.5]])  #(m,n)\n",
    "y_train = np.array([0, 0, 0, 1, 1, 1])"
   ]
  },
  {
   "cell_type": "code",
   "execution_count": 288,
   "id": "5f129141",
   "metadata": {},
   "outputs": [
    {
     "name": "stdout",
     "output_type": "stream",
     "text": [
      "0.36686678640551745\n"
     ]
    }
   ],
   "source": [
    "w_tmp = np.array([1,1])\n",
    "b_tmp = -3\n",
    "print(compute_logistic_cost_beta(X_train, y_train, w_tmp, b_tmp))"
   ]
  },
  {
   "cell_type": "markdown",
   "id": "b8ea0610",
   "metadata": {},
   "source": [
    "<details>\n",
    "<summary>\n",
    "    <b>Expected Answer<b>\n",
    "</summary>\n",
    "\n",
    "        \n",
    "0.3668667864055175\n"
   ]
  },
  {
   "cell_type": "code",
   "execution_count": 289,
   "id": "072489c4",
   "metadata": {},
   "outputs": [
    {
     "name": "stdout",
     "output_type": "stream",
     "text": [
      "Cost for b = -3 :  0.36686678640551745\n",
      "Cost for b = -4 :  0.503680863674846\n"
     ]
    }
   ],
   "source": [
    "w_array1 = np.array([1,1]).reshape(-1,1)\n",
    "b_1 = -3\n",
    "w_array2 = np.array([1,1])\n",
    "b_2 = -4\n",
    "\n",
    "print(\"Cost for b = -3 : \", compute_logistic_cost_beta(X_train, y_train, w_array1, b_1))\n",
    "print(\"Cost for b = -4 : \", compute_logistic_cost_beta(X_train, y_train, w_array2, b_2))"
   ]
  },
  {
   "cell_type": "markdown",
   "id": "257dd647",
   "metadata": {},
   "source": [
    "<details>\n",
    "<summary>\n",
    "    <b>Expected Answer<b>\n",
    "</summary>\n",
    "\n",
    "Cost for b = -3 :  0.3668667864055175\n",
    "\n",
    "Cost for b = -4 :  0.5036808636748461\n"
   ]
  },
  {
   "cell_type": "code",
   "execution_count": 290,
   "id": "ba793de4",
   "metadata": {},
   "outputs": [
    {
     "name": "stdout",
     "output_type": "stream",
     "text": [
      "0.6931471805599453\n"
     ]
    }
   ],
   "source": [
    "m,n = X3_train.shape\n",
    "initial_w = np.zeros(2)\n",
    "initial_b = 0.\n",
    "print(compute_logistic_cost_beta(X3_train, y3_train, initial_w, initial_b))"
   ]
  },
  {
   "cell_type": "markdown",
   "id": "0372e4c1",
   "metadata": {},
   "source": [
    "<details>\n",
    "<summary>\n",
    "    <b>Expected Answer<b>\n",
    "</summary>\n",
    "\n",
    "        \n",
    "<b>Cost at initial w (zeros)</b>\n",
    "0.693"
   ]
  },
  {
   "cell_type": "code",
   "execution_count": 291,
   "id": "58597d52",
   "metadata": {},
   "outputs": [
    {
     "name": "stdout",
     "output_type": "stream",
     "text": [
      "0.21833019382659782\n"
     ]
    }
   ],
   "source": [
    "test_w = np.array([0.2, 0.2])\n",
    "test_b = -24.\n",
    "print(compute_logistic_cost_beta(X3_train, y3_train, test_w, test_b))"
   ]
  },
  {
   "cell_type": "markdown",
   "id": "5a5871a2",
   "metadata": {},
   "source": [
    "<details>\n",
    "<summary>\n",
    "    <b>Expected Answer<b>\n",
    "</summary>\n",
    "\n",
    "        \n",
    "<b>Cost at test w,b</b>\n",
    "0.218"
   ]
  },
  {
   "cell_type": "markdown",
   "id": "ac9791e8",
   "metadata": {},
   "source": [
    "## Gradient Descent For Logistics Regression"
   ]
  },
  {
   "cell_type": "markdown",
   "id": "7fbcb335",
   "metadata": {},
   "source": [
    "Hypothesis: \n",
    "$$z = f_{w,b}(x^{(i)}) = f(x^{(i)})$$\n",
    "$$g(z) = g(f(x^{(i)})) = \\frac{1}{1+e^{-(f(x))}}$$\n",
    "\n",
    "\n",
    "Cost Function: \n",
    "$$J(w,b) = -\\frac{1}{m} \\sum_{m=1}^{m} \\left[y^{(i)}log(g(f(x))) + (1-y^{(i)})log(1-g(f(x)))\\right]$$\n",
    "\n",
    "Gradient Descent Algorithm: $$\\begin{align*} \\text{repeat}&\\text{ until convergence:} \\; \\lbrace \\newline\n",
    "\\;  w &= w -  \\alpha \\frac{\\partial J(w,b)}{\\partial w}  \\; \\newline \n",
    " b &= b -  \\alpha \\frac{\\partial J(w,b)}{\\partial b}  \\newline \\rbrace\n",
    "\\end{align*}$$\n",
    "\n",
    "\n",
    "Partial Derivatives: $$\n",
    "\\begin{align}\n",
    "\\frac{\\partial J(w,b)}{\\partial w}  &= \\frac{1}{m} \\sum\\limits_{i = 0}^{m-1} (g(f(x^{(i)})) - y^{(i)})x^{(i)} \\\\\n",
    "  \\frac{\\partial J(w,b)}{\\partial b}  &= \\frac{1}{m} \\sum\\limits_{i = 0}^{m-1} (g(f(x^{(i)})) - y^{(i)}) \\\\\n",
    "\\end{align}\n",
    "$$\n",
    "\n",
    "Full Implementation of Gradient Descent:\n",
    "$$\\begin{align*} \\text{repeat}&\\text{ until convergence:} \\; \\lbrace \\newline\n",
    "\\;  w &= w -  \\alpha \\frac{1}{m} \\sum\\limits_{i = 0}^{m-1} (g(f(x^{(i)})) - y^{(i)})x^{(i)}  \\; \\newline \n",
    " b &= b -  \\alpha \\frac{1}{m} \\sum\\limits_{i = 0}^{m-1} (g(f(x^{(i)})) - y^{(i)})  \\newline \\rbrace\n",
    "\\end{align*}$$"
   ]
  },
  {
   "cell_type": "markdown",
   "id": "0f276389-25b8-4dea-a7dd-13959f944042",
   "metadata": {},
   "source": [
    "**Please note that the gradient descent algorithm is the same as linear regression. The differences is between $g(f(x))$ and $f(x)$  and the cost function.** \n",
    "\n",
    "Thus we will be adding a new function to compute the logistic gradient. Then we will be modifying existing gradient descent algorithm so that it can accept different gradient function and cost function. The default will be linear regression."
   ]
  },
  {
   "cell_type": "markdown",
   "id": "8e7c53c3-1bd1-4b5d-99c7-77a64bf8ffaf",
   "metadata": {},
   "source": [
    "### Compute Logistics Gradient"
   ]
  },
  {
   "cell_type": "code",
   "execution_count": 292,
   "id": "c23cbc99-4e06-4714-8539-f26ae7bd7253",
   "metadata": {},
   "outputs": [],
   "source": [
    "def compute_logistic_gradient_beta(X,y, coefficient, intercept, reguLambda=0.):\n",
    "    '''\n",
    "    Compute gradient for each step size\n",
    "    X = matrix of training data, each training examples in rows and features in column, \n",
    "        Single feature data must be in m by 1 vector, where m is total number of training examples.\n",
    "    y = m by 1 vector, where m is total number of training examples.\n",
    "    w = n by 1 vector, where n is total number of features\n",
    "    b = scalar (default = 0)\n",
    "    reguLambda = scalar (default = 0), no regularization if default. Please enter appropriate lambda value for regularization.\n",
    "\n",
    "    Return:\n",
    "    db (scalar)\n",
    "    dw (n by 1 vector)\n",
    "    '''\n",
    "    \n",
    "    ### the following section convert 1d array to 2d array for ease of computation ###\n",
    "    if X.ndim == 1:\n",
    "        X = X.reshape(-1,1)\n",
    "    \n",
    "    if y.ndim == 1:\n",
    "        y = y.reshape(-1,1)\n",
    "        \n",
    "    if np.isscalar(coefficient) == True:\n",
    "        coefficient = np.array([coefficient])\n",
    "        \n",
    "    if coefficient.ndim == 1:\n",
    "        coefficient = coefficient.reshape(-1,1)\n",
    "\n",
    "    ### The following will check if the size match\n",
    "    if X.shape[0] != y.shape[0]:\n",
    "        print('Error, the size of X and y does not match!')\n",
    "        return \n",
    "    \n",
    "    if coefficient.shape[0] != X.shape[1]:\n",
    "        print('Error, the size of X features does not match with size of w (coefficient)!')\n",
    "        print(coefficient.shape)\n",
    "        print(X.shape[1])\n",
    "        return\n",
    "    \n",
    "    # total number of features and training examples\n",
    "    m,n = X.shape\n",
    "\n",
    "    # Initialization of Variables \n",
    "    db = 0\n",
    "    dw = 0\n",
    "    temp_db = 0\n",
    "    temp_dw = 0\n",
    "\n",
    "    # Compute Sigmoid \n",
    "    fx = ((X@coefficient) + intercept)\n",
    "    sig = sigmoid_beta(fx)\n",
    "\n",
    "    temp_dw = (sig - y) * X\n",
    "    temp_db = (sig - y)\n",
    "    \n",
    "    db = temp_db.mean() \n",
    "    dw = temp_dw.mean(axis=0).reshape(-1,1) #.mean() function return a 1 d array\n",
    "\n",
    "    # Compute Regularization Term\n",
    "    #regu = coefficient * (reguLambda/m) \n",
    "\n",
    "    # This function do not support regularization\n",
    "    dwRegu = dw\n",
    "\n",
    "    return db, dwRegu"
   ]
  },
  {
   "cell_type": "code",
   "execution_count": 293,
   "id": "e4c36681",
   "metadata": {},
   "outputs": [
    {
     "name": "stdout",
     "output_type": "stream",
     "text": [
      "dj_db: 0.49861806546328574\n",
      "dj_dw: [[0.498333393278696], [0.49883942983996693]]\n"
     ]
    }
   ],
   "source": [
    "X_tmp = np.array([[0.5, 1.5], [1,1], [1.5, 0.5], [3, 0.5], [2, 2], [1, 2.5]])\n",
    "y_tmp = np.array([0, 0, 0, 1, 1, 1])\n",
    "w_tmp = np.array([2.,3.])\n",
    "b_tmp = 1.\n",
    "dj_db_tmp, dj_dw_tmp = compute_logistic_gradient_beta(X_tmp, y_tmp, w_tmp,  b_tmp)\n",
    "print(f\"dj_db: {dj_db_tmp}\" )\n",
    "print(f\"dj_dw: {dj_dw_tmp.tolist()}\" )"
   ]
  },
  {
   "cell_type": "markdown",
   "id": "05399f74",
   "metadata": {},
   "source": [
    "<details>\n",
    "<summary>\n",
    "    <b>Expected Answer<b>\n",
    "</summary>\n",
    "\n",
    "``` \n",
    "dj_db: 0.49861806546328574\n",
    "dj_dw: [0.498333393278696, 0.49883942983996693]\n",
    "```"
   ]
  },
  {
   "cell_type": "code",
   "execution_count": 294,
   "id": "7564c604",
   "metadata": {},
   "outputs": [
    {
     "name": "stdout",
     "output_type": "stream",
     "text": [
      "dj_db at initial w (zeros):-0.1\n",
      "dj_dw at initial w (zeros):[[-12.009216589291151], [-11.262842205513596]]\n"
     ]
    }
   ],
   "source": [
    "# Compute and display gradient with w initialized to zeroes\n",
    "initial_w = np.zeros(n)\n",
    "initial_b = 0.\n",
    "\n",
    "dj_db, dj_dw = compute_logistic_gradient_beta(X3_train, y3_train, initial_w, initial_b,)\n",
    "print(f'dj_db at initial w (zeros):{dj_db}' )\n",
    "print(f'dj_dw at initial w (zeros):{dj_dw.tolist()}' )"
   ]
  },
  {
   "cell_type": "markdown",
   "id": "a66204f2",
   "metadata": {},
   "source": [
    "<details>\n",
    "<summary>\n",
    "    <b>Expected Answer<b>\n",
    "</summary>\n",
    "\n",
    "``` \n",
    "dj_db at initial w (zeros):\n",
    "-0.1 \n",
    "dj_dw at initial w (zeros):\n",
    "[-12.00921658929115, -11.262842205513591]\n",
    "```"
   ]
  },
  {
   "cell_type": "code",
   "execution_count": 295,
   "id": "fd937dbb",
   "metadata": {},
   "outputs": [
    {
     "name": "stdout",
     "output_type": "stream",
     "text": [
      "dj_db at test_w: -0.5999999999991071\n",
      "dj_dw at test_w: [[-44.831353617873795], [-44.37384124953977]]\n"
     ]
    }
   ],
   "source": [
    "# Compute and display cost and gradient with non-zero w\n",
    "test_w = np.array([ 0.2, -0.5])\n",
    "test_b = -24\n",
    "dj_db,  dj_dw  = compute_logistic_gradient_beta(X3_train, y3_train, test_w, test_b)\n",
    "\n",
    "print('dj_db at test_w:', dj_db)\n",
    "print('dj_dw at test_w:', dj_dw.tolist())\n"
   ]
  },
  {
   "cell_type": "markdown",
   "id": "430ea845",
   "metadata": {},
   "source": [
    "<details>\n",
    "<summary>\n",
    "    <b>Expected Answer<b>\n",
    "</summary>\n",
    "\n",
    "``` \n",
    "dj_db at initial w (zeros):\n",
    "-0.5999999999991071\n",
    "\n",
    "dj_dw at initial w (zeros):\n",
    "[-44.8313536178737957, -44.37384124953978]\n",
    "```"
   ]
  },
  {
   "cell_type": "markdown",
   "id": "a075ac70-cfe1-4caa-9013-8d6fddf41a85",
   "metadata": {},
   "source": [
    "### Modified Gradient Descent to Accept Linear and Logistics Regression"
   ]
  },
  {
   "cell_type": "markdown",
   "id": "110caafb-1e56-4643-b763-548f65653f85",
   "metadata": {},
   "source": [
    "#### Addition Function for Linear Regression (Hide)"
   ]
  },
  {
   "cell_type": "code",
   "execution_count": 296,
   "id": "0886b95a-5980-4664-9d83-8a6dbfee300b",
   "metadata": {},
   "outputs": [],
   "source": [
    "# Cost Function\n",
    "def cost_function(X,y,coefficient,intercept,reguLambda=0):\n",
    "    '''\n",
    "    Actual cost function for both single and multiple features\n",
    "    X = matrix of training data, each training examples in rows (m) and features in column (n), \n",
    "        Single feature data must be in m by 1 vector, where m is total number of training examples.\n",
    "    y = m by 1 vector, where m is total number of training examples.\n",
    "    coefficient (w) = n by 1 vector, where n is total number of features\n",
    "    intercept (b) = scalar\n",
    "    reguLambda = default is 0, no regularization, please enter appropriate lambda value for regularization\n",
    "\n",
    "    Return:\n",
    "    Cost (scalar)\n",
    "    '''\n",
    "\n",
    "    ### the following section convert 1d array to 2d array for ease of computation ###\n",
    "    if X.ndim == 1:\n",
    "        X = X.reshape(-1,1)\n",
    "    \n",
    "    if y.ndim == 1:\n",
    "        y = y.reshape(-1,1)\n",
    "        \n",
    "    if np.isscalar(coefficient) == True:\n",
    "        coefficient = np.array([coefficient])\n",
    "        \n",
    "    if coefficient.ndim == 1:\n",
    "        coefficient = coefficient.reshape(-1,1)\n",
    "    \n",
    "    m = X.shape[0]\n",
    "\n",
    "    # Compute Normal Cost Function\n",
    "    fx = (X@coefficient) + intercept\n",
    "    lossFunction = (fx - y) ** 2\n",
    "    RSS = lossFunction.sum()\n",
    "    cost = (1 / (2 * m)) * RSS\n",
    "\n",
    "    # Compute Regularization Term\n",
    "    # lambda/2m * sum(w^2)\n",
    "    regu = (reguLambda/ (2*m)) * sum(coefficient ** 2)\n",
    "\n",
    "    totalCost = cost + regu[0]\n",
    "    \n",
    "    return totalCost\n",
    "\n",
    "\n",
    "# Compute Gradient\n",
    "def compute_gradient(X, y, coefficient, intercept=0., reguLambda=0.):\n",
    "    '''\n",
    "    Compute gradient for each step size\n",
    "    X = matrix of training data, each training examples in rows and features in column, \n",
    "        Single feature data must be in m by 1 vector, where m is total number of training examples.\n",
    "    y = m by 1 vector, where m is total number of training examples.\n",
    "    w = n by 1 vector, where n is total number of features\n",
    "    b = scalar (default = 0)\n",
    "    reguLambda = scalar (default = 0), no regularization if default. Please enter appropriate lambda value for regularization.\n",
    "\n",
    "    Return:\n",
    "    db (scalar)\n",
    "    dw (n by 1 vector)\n",
    "    '''\n",
    "    \n",
    "    ### the following section convert 1d array to 2d array for ease of computation ###\n",
    "    if X.ndim == 1:\n",
    "        X = X.reshape(-1,1)\n",
    "    \n",
    "    if y.ndim == 1:\n",
    "        y = y.reshape(-1,1)\n",
    "        \n",
    "    if np.isscalar(coefficient) == True:\n",
    "        coefficient = np.array([coefficient])\n",
    "        \n",
    "    if coefficient.ndim == 1:\n",
    "        coefficient = coefficient.reshape(-1,1)\n",
    "    \n",
    "    # total number of features and training examples\n",
    "    m,n = X.shape\n",
    "\n",
    "    # Initialization of Variables \n",
    "    db = 0\n",
    "    dw = 0\n",
    "    temp_db = 0\n",
    "    temp_dw = 0\n",
    "\n",
    "    # Matrix computation\n",
    "    fx = ((X@coefficient) + intercept)\n",
    "    temp_dw = (fx - y) * X\n",
    "    temp_db = (fx - y)\n",
    "    \n",
    "    db = temp_db.mean() \n",
    "    dw = temp_dw.mean(axis=0).reshape((n,1)) \n",
    "\n",
    "    # Compute Regularization Term\n",
    "    regu = coefficient * (reguLambda/m) \n",
    "\n",
    "    dwRegu = dw + regu\n",
    "\n",
    "    return db, dwRegu"
   ]
  },
  {
   "cell_type": "markdown",
   "id": "6dad8078-6a2b-473f-84dc-d28b5d2b9185",
   "metadata": {},
   "source": [
    "#### Modified Gradient Descent"
   ]
  },
  {
   "cell_type": "code",
   "execution_count": 297,
   "id": "3f925ff5-60cc-4122-8e30-eac5fd6c83f2",
   "metadata": {},
   "outputs": [],
   "source": [
    "# Run Gradient Descent  \n",
    "def compute_gradient_descent_beta(X, y, gradient_function = compute_gradient, cost_function = cost_function, init_coefficient = None, \n",
    "                                  init_intercept=0., iterations=10000, alpha=0.01, reguLambda = 0., printProgress=False, \n",
    "                                  printProgressRate = 1000, storeHistory=False):\n",
    "    '''\n",
    "    Runs Gradient Descent\n",
    "\n",
    "    Compulsory Input\n",
    "    X = matrix of training data, each training examples in rows and features in column, \n",
    "        Single feature data must be in m by 1 vector, where m is total number of training examples.\n",
    "    y = m by 1 vector, where m is total number of training examples.\n",
    "    \n",
    "    Optional Input with Defauls\n",
    "    gradient_function = enter the function name to compute Logistic gradient (default is compute_gradient which is for Linear Regression)\n",
    "    cost_function = enter the function name to compute Logistic cost function (default is cost_function which is for Linear Regression)\n",
    "    init_coefficient = initial w value (type: n by 1 vector, where n is total number of features) (default:None)\n",
    "    init_intercept = initial b value (type: scalar) (default:0.)\n",
    "    iterations = total number of runs for the gradient descent (default: 10,000)\n",
    "    alpha = learning rate / step size (default:0.01)\n",
    "    reguLambda = enter the lambda of regularization (default: reguLambda = 0 which is no regularization)\n",
    "\n",
    "    Print Progress Options\n",
    "    printProgress = To print the details while running gradient descent (type:Boolean) (default: False)\n",
    "    printProgressRate = To print the details every n iterations (default:1000)\n",
    "    storeHistory = To record all coefficient and intercept history (default:False) [Please note that if turn on, this may slow down the process] \n",
    "\n",
    "    Return:\n",
    "    w = best w (n by 1 vector, where n is total number of features)\n",
    "    b = best b (scalar)\n",
    "    cost_history = Computed cost for each iterations (list)\n",
    "    w_history = Computed w for each iterations (list)\n",
    "    b_history = Computed g for each iterations (list)\n",
    "    '''\n",
    "\n",
    "    #### The following check for different data types and convert them to Numpy\n",
    "    #### Also convert Pandas Series and DataFrame to Numpy\n",
    "    #### Also convert 1D array to Numpy\n",
    "    \n",
    "    ### the following check if data type is Series\n",
    "    if isinstance(X, pd.Series):\n",
    "        #print('convert to numpy')\n",
    "        X = X.to_frame()\n",
    "    if isinstance(y, pd.Series):\n",
    "        y = y.to_frame()\n",
    "    \n",
    "    ### the following check if data type is dataframe\n",
    "    if isinstance(X, pd.DataFrame):\n",
    "        #print('convert to numpy')\n",
    "        X = X.to_numpy()\n",
    "    if isinstance(y, pd.DataFrame):\n",
    "        y = y.to_numpy()\n",
    "\n",
    "    \n",
    "    ### the following section convert 1d array to 2d array for ease of computation ###\n",
    "    if X.ndim == 1:\n",
    "        X = X.reshape(len(X),1)\n",
    "    if y.ndim == 1:\n",
    "        y = y.reshape(len(y),1)\n",
    "\n",
    "\n",
    "    ### Check for init_coefficient separately as the dimension of w depends on X\n",
    "    ### Also perform copy to avoid changing the original array\n",
    "\n",
    "    if init_coefficient is None:\n",
    "        init_coefficient = np.zeros([X.shape[1],1])\n",
    "\n",
    "    if isinstance(init_coefficient, pd.Series):\n",
    "        init_coefficient = init_coefficient.copy().to_frame()\n",
    "\n",
    "    if isinstance(init_coefficient, pd.DataFrame):\n",
    "        init_coefficient = init_coefficient.copy().to_numpy()\n",
    "\n",
    "    if init_coefficient.ndim == 1:\n",
    "        init_coefficient = init_coefficient.copy()\n",
    "        init_coefficient = init_coefficient.reshape(len(init_coefficient),1)\n",
    "\n",
    "    \n",
    "    ### The following will check if the size match\n",
    "    if X.shape[0] != y.shape[0]:\n",
    "        print('Error, the size of X and y does not match!')\n",
    "        return \n",
    "    \n",
    "    if init_coefficient.shape[0] != X.shape[1]:\n",
    "        print('Error, the size of X features does not match with size of w (coefficient)!')\n",
    "        print(init_coefficient.shape)\n",
    "        print(X.shape[1])\n",
    "        return\n",
    "\n",
    "    # Initialization of variables\n",
    "    m,n = X.shape\n",
    "    \n",
    "    db = 0\n",
    "    dw = 0\n",
    "\n",
    "    b = init_intercept\n",
    "    w = init_coefficient\n",
    "    \n",
    "    cost_history = []\n",
    "    w_history = np.zeros((1,n))\n",
    "    b_history = []\n",
    "\n",
    "    \n",
    "    for j in range(iterations):\n",
    "\n",
    "        # Compute Partial Derivatives\n",
    "        db, dw = gradient_function(X,y,w,b,reguLambda)\n",
    "\n",
    "        b = b - (alpha * db)\n",
    "        w = w - (alpha * dw)\n",
    "        \n",
    "        cost = cost_function(X,y,w,b,reguLambda)\n",
    "\n",
    "        # Reshape w for printing and storing history\n",
    "        w_convert = w.copy()\n",
    "        w_convert = np.transpose(w_convert)\n",
    "        \n",
    "        if storeHistory == True: \n",
    "            cost_history.append(cost)\n",
    "            b_history.append(b)\n",
    "            w_history = np.vstack((w_history,w_convert))\n",
    "\n",
    "        if printProgress == True:\n",
    "            if j % printProgressRate == 0:\n",
    "                print(f\"iteration {j}: cost = {cost:.4e}: intercept = {b:.4e}: weights = {w_convert}\")\n",
    "\n",
    "\n",
    "    print(f\"iteration {j}: Last cost = {cost:.4e}: intercept = {b:.4e}: weights = {w_convert}\")    \n",
    "    print('best w', np.round(w.flatten(),4))\n",
    "    print('best b', np.round(b,4)) \n",
    "\n",
    "    return w, b, cost_history, w_history[1:], b_history"
   ]
  },
  {
   "cell_type": "markdown",
   "id": "04340d68-c6b1-40ac-a8e2-bbba3fedb268",
   "metadata": {},
   "source": [
    "#### Testing Logistic Regression Gradient Descent"
   ]
  },
  {
   "cell_type": "code",
   "execution_count": 298,
   "id": "b6750768",
   "metadata": {},
   "outputs": [],
   "source": [
    "X_train = np.array([[0.5, 1.5], [1,1], [1.5, 0.5], [3, 0.5], [2, 2], [1, 2.5]])\n",
    "y_train = np.array([0, 0, 0, 1, 1, 1])"
   ]
  },
  {
   "cell_type": "code",
   "execution_count": 299,
   "id": "2448ed70",
   "metadata": {},
   "outputs": [
    {
     "name": "stdout",
     "output_type": "stream",
     "text": [
      "iteration 0: cost = 6.8461e-01: intercept = 0.0000e+00: weights = [[0.025      0.01666667]]\n",
      "iteration 1000: cost = 1.5910e-01: intercept = -5.9110e+00: weights = [[2.30572624 2.07740353]]\n",
      "iteration 2000: cost = 8.4601e-02: intercept = -8.3115e+00: weights = [[3.15508984 2.94023038]]\n",
      "iteration 3000: cost = 5.7053e-02: intercept = -9.7823e+00: weights = [[3.68092411 3.47097047]]\n",
      "iteration 4000: cost = 4.2908e-02: intercept = -1.0839e+01: weights = [[4.06024975 3.8527842 ]]\n",
      "iteration 5000: cost = 3.4338e-02: intercept = -1.1662e+01: weights = [[4.35647898 4.15050189]]\n",
      "iteration 6000: cost = 2.8604e-02: intercept = -1.2335e+01: weights = [[4.59929949 4.39430614]]\n",
      "iteration 7000: cost = 2.4502e-02: intercept = -1.2905e+01: weights = [[4.80494417 4.6006459 ]]\n",
      "iteration 8000: cost = 2.1424e-02: intercept = -1.3398e+01: weights = [[4.98324047 4.77945746]]\n",
      "iteration 9000: cost = 1.9030e-02: intercept = -1.3834e+01: weights = [[5.14058319 4.93719618]]\n",
      "iteration 9999: Last cost = 1.7118e-02: intercept = -1.4222e+01: weights = [[5.28123029 5.07815608]]\n",
      "best w [5.2812 5.0782]\n",
      "best b -14.2224\n"
     ]
    }
   ],
   "source": [
    "w_out, b_out, _, _, _ = compute_gradient_descent_beta(X_train, y_train, iterations=10000, alpha=0.1, gradient_function=compute_logistic_gradient_beta, \n",
    "                                                      cost_function=compute_logistic_cost_beta,printProgress=True) "
   ]
  },
  {
   "cell_type": "markdown",
   "id": "17a0abd3",
   "metadata": {},
   "source": [
    "<details>\n",
    "<summary>\n",
    "    <b>Expected Answer<b>\n",
    "</summary>\n",
    "\n",
    "``` \n",
    "- iterations = 10000\n",
    "- alpha=0.1\n",
    "\n",
    "updated parameters: \n",
    "\n",
    "w:[5.28 5.08], b:-14.222409982019837\n",
    "```"
   ]
  },
  {
   "cell_type": "code",
   "execution_count": 300,
   "id": "0c1380b2",
   "metadata": {},
   "outputs": [
    {
     "name": "stdout",
     "output_type": "stream",
     "text": [
      "iteration 0: cost = 9.6379e-01: intercept = -7.9994e+00: weights = [[0.04397755 0.04655245]]\n",
      "iteration 1000: cost = 3.0509e-01: intercept = -8.0184e+00: weights = [[0.06992517 0.0634808 ]]\n",
      "iteration 2000: cost = 3.0472e-01: intercept = -8.0375e+00: weights = [[0.07007465 0.06363254]]\n",
      "iteration 3000: cost = 3.0436e-01: intercept = -8.0566e+00: weights = [[0.07022366 0.06378378]]\n",
      "iteration 4000: cost = 3.0400e-01: intercept = -8.0757e+00: weights = [[0.07037219 0.06393454]]\n",
      "iteration 5000: cost = 3.0363e-01: intercept = -8.0947e+00: weights = [[0.07052026 0.06408482]]\n",
      "iteration 6000: cost = 3.0328e-01: intercept = -8.1136e+00: weights = [[0.07066786 0.06423461]]\n",
      "iteration 7000: cost = 3.0292e-01: intercept = -8.1324e+00: weights = [[0.07081501 0.06438392]]\n",
      "iteration 8000: cost = 3.0257e-01: intercept = -8.1512e+00: weights = [[0.07096169 0.06453276]]\n",
      "iteration 9000: cost = 3.0222e-01: intercept = -8.1700e+00: weights = [[0.07110792 0.06468113]]\n",
      "iteration 9999: Last cost = 3.0187e-01: intercept = -8.1886e+00: weights = [[0.07125355 0.06482888]]\n",
      "best w [0.0713 0.0648]\n",
      "best b -8.1886\n"
     ]
    }
   ],
   "source": [
    "np.random.seed(1)\n",
    "intial_w = 0.01 * (np.random.rand(2).reshape(-1,1) - 0.5)\n",
    "initial_b = -8\n",
    "iterations = 10000\n",
    "alpha = 0.001\n",
    "\n",
    "coef, intercept, _, _, _ = compute_gradient_descent_beta(X3_train, y3_train, gradient_function=compute_logistic_gradient_beta, \n",
    "                                                         cost_function = compute_logistic_cost_beta, init_intercept=initial_b, \n",
    "                                                         init_coefficient=intial_w, iterations=iterations, alpha=alpha, printProgress=True) "
   ]
  },
  {
   "cell_type": "markdown",
   "id": "46f3c6d8",
   "metadata": {},
   "source": [
    "<details>\n",
    "<summary>\n",
    "    <b>Expected Output: Cost     0.30, (Click to see details):</b>\n",
    "</summary>\n",
    "\n",
    "    # With the following settings\n",
    "    np.random.seed(1)\n",
    "    intial_w = 0.01 * (np.random.rand(2).reshape(-1,1) - 0.5)\n",
    "    initial_b = -8\n",
    "    iterations = 10000\n",
    "    alpha = 0.001\n",
    "    #\n",
    "\n",
    "```\n",
    "Iteration    0: Cost     1.01   \n",
    "Iteration 1000: Cost     0.31   \n",
    "Iteration 2000: Cost     0.30   \n",
    "Iteration 3000: Cost     0.30   \n",
    "Iteration 4000: Cost     0.30   \n",
    "Iteration 5000: Cost     0.30   \n",
    "Iteration 6000: Cost     0.30   \n",
    "Iteration 7000: Cost     0.30   \n",
    "Iteration 8000: Cost     0.30   \n",
    "Iteration 9000: Cost     0.30   \n",
    "Iteration 9999: Cost     0.30   \n",
    "```"
   ]
  },
  {
   "cell_type": "markdown",
   "id": "d4629410-6b7f-4bf6-9c2b-a61c01080664",
   "metadata": {},
   "source": [
    "#### Prediction Logistics Function"
   ]
  },
  {
   "cell_type": "code",
   "execution_count": 301,
   "id": "4f01baea",
   "metadata": {},
   "outputs": [],
   "source": [
    "def predict_logistic_beta(X, coefficient, intercept, prob=False):\n",
    "    \n",
    "    if isinstance(X, pd.DataFrame):\n",
    "        X = X.to_numpy()\n",
    "\n",
    "    if X.ndim == 1:\n",
    "        X = X.reshape(-1,1)\n",
    "        \n",
    "    if np.isscalar(coefficient) == True:\n",
    "        coefficient = np.array([coefficient])\n",
    "        \n",
    "    if coefficient.ndim == 1:\n",
    "        coefficient = coefficient.reshape(-1,1)\n",
    "    \n",
    "    z = np.matmul(X,coefficient) + intercept\n",
    "    #print(z)\n",
    "    \n",
    "    proba = sigmoid_beta(z)\n",
    "    #print(proba)\n",
    "    \n",
    "    y_predict = proba>=0.5\n",
    "    y_predict = y_predict.astype(int)\n",
    "    if prob == False:\n",
    "        return y_predict\n",
    "    elif prob == True:\n",
    "        return proba"
   ]
  },
  {
   "cell_type": "code",
   "execution_count": 302,
   "id": "95331736",
   "metadata": {},
   "outputs": [
    {
     "name": "stdout",
     "output_type": "stream",
     "text": [
      "Output of predict: shape (4, 1), value [0 1 1 1]\n"
     ]
    }
   ],
   "source": [
    "np.random.seed(1)\n",
    "tmp_w = np.random.randn(2)\n",
    "tmp_b = 0.3    \n",
    "tmp_X = np.random.randn(4, 2) - 0.5\n",
    "tmp_p = predict_logistic_beta(tmp_X, tmp_w, tmp_b)\n",
    "print(f'Output of predict: shape {tmp_p.shape}, value {tmp_p.flatten()}')"
   ]
  },
  {
   "cell_type": "markdown",
   "id": "10b5d22f",
   "metadata": {},
   "source": [
    "<details>\n",
    "<summary>\n",
    "    <b>Expected Answer<b>\n",
    "</summary>\n",
    "        \n",
    "```\n",
    "Output of predict: shape (4,):\n",
    "value [0. 1. 1. 1.]\n",
    "```"
   ]
  },
  {
   "cell_type": "code",
   "execution_count": 303,
   "id": "40ef8292-323c-41b1-b129-ad09fcb93c46",
   "metadata": {},
   "outputs": [
    {
     "data": {
      "text/plain": [
       "array([[0.39943199],\n",
       "       [0.93133679],\n",
       "       [0.95662614],\n",
       "       [0.61407858]])"
      ]
     },
     "execution_count": 303,
     "metadata": {},
     "output_type": "execute_result"
    }
   ],
   "source": [
    "tmp_proba = predict_logistic_beta(tmp_X, tmp_w, tmp_b, prob=True)\n",
    "tmp_proba"
   ]
  },
  {
   "cell_type": "markdown",
   "id": "382ee0bf",
   "metadata": {},
   "source": [
    "## SciKit Learn Logistics Regression"
   ]
  },
  {
   "cell_type": "markdown",
   "id": "fc09b597-1567-4569-9bd2-8ec764dbf518",
   "metadata": {},
   "source": [
    "In SciKit Learn, we can use `LogisticRegession()` function, the following is the features:\n",
    "\n",
    "- This function allows binary and multi-class classification.\n",
    "- This function implements regularization by default(L2/Ridge). However, it allows for L1,L2 and ElasticNet for Regularization. We can also set regularization to None.\n",
    "- We need to fine tune the regularization parameter ourselves for optimal results.\n"
   ]
  },
  {
   "cell_type": "markdown",
   "id": "a50c3d2b-636f-48aa-9c19-bb581f55f626",
   "metadata": {},
   "source": [
    "Please also be aware that for `LogisticsRegression` in SciKit Learn, it supports different solvers for Logistic Regression. Solvers are different type of algorithm that find the best coefficient. Gradient Descent is one of the solvers but it is not the only one. SciKit Learn Logistic Regression do not support gradient descent. The followings are the solvers supported by SciKit Learn:\n",
    "\n",
    "- **liblinear** (Using coordinate descent algorithm). Coordinate descent is different from gradient descent.\n",
    "- **newton-cg** (Using Newton-Conjugate Gradient algorithm.)\n",
    "- **newton-cholesky** (Using Newton-Cholesky optimization algorithm)\n",
    "- **lbfgs** (Using Limited-memory Broyden-Fletcher-Goldfarb-Shanno algorithm) **Default solver**\n",
    "- **sag** (Using Stochastic Average Gradient)\n",
    "- **saga** (An extension of SAG that supports L1, L2, and Elastic Net regularization.)\n",
    "\n",
    "Please note that each solver supports different type of regularization and each solver has been own limitation. Detail study of each solvers is beyond the scope of this tutorial."
   ]
  },
  {
   "cell_type": "markdown",
   "id": "56c74be8-fc42-4ca3-8556-b1870b493991",
   "metadata": {},
   "source": [
    "### Reference"
   ]
  },
  {
   "cell_type": "markdown",
   "id": "d1c1d8da-1750-4a4f-8ecb-2c2337bdcc2b",
   "metadata": {},
   "source": [
    "\n",
    "https://scikit-learn.org/stable/modules/generated/sklearn.linear_model.LogisticRegression.html"
   ]
  },
  {
   "cell_type": "markdown",
   "id": "6bf12b8c-6189-4561-a6e4-3d0d395740e0",
   "metadata": {},
   "source": [
    "## Apply SciKit Learn Logistics Regression"
   ]
  },
  {
   "cell_type": "markdown",
   "id": "7c418b13-dade-48a1-8618-378e70e528ce",
   "metadata": {},
   "source": [
    "### Simple Linear Binary Classification (One Feature)"
   ]
  },
  {
   "cell_type": "code",
   "execution_count": 304,
   "id": "8647f489-180c-4710-a5de-72d94b49838a",
   "metadata": {},
   "outputs": [],
   "source": [
    "x_train = np.array([1, 2.1, 11, 3.9, 8, 3, 9.6, 6.5, 7.2, 4.5, 5, 10]).reshape(-1,1)\n",
    "y_train = np.array([0, 0, 1, 0, 1, 0, 1, 1, 1, 0, 0, 1])"
   ]
  },
  {
   "cell_type": "code",
   "execution_count": 305,
   "id": "9339546d-c813-4e05-a0a1-72d4097be0a6",
   "metadata": {},
   "outputs": [],
   "source": [
    "x_train_pos = x_train[y_train == 1]\n",
    "y_train_pos = y_train[y_train == 1]\n",
    "x_train_neg = x_train[y_train == 0]\n",
    "y_train_neg = y_train[y_train == 0]"
   ]
  },
  {
   "cell_type": "code",
   "execution_count": 306,
   "id": "0b304dcd-d529-43a6-b558-d93da82a6106",
   "metadata": {},
   "outputs": [
    {
     "data": {
      "image/png": "[encoded data removed]",
      "text/plain": [
       "<Figure size 800x500 with 1 Axes>"
      ]
     },
     "metadata": {},
     "output_type": "display_data"
    }
   ],
   "source": [
    "plt.close('all')\n",
    "fig, (ax1) = plt.subplots(1, 1, figsize=(8, 5))\n",
    "ax1.scatter(x_train_pos, y_train_pos, marker='o', s = 80, c='b')\n",
    "ax1.scatter(x_train_neg, y_train_neg, marker='x', s = 80, c='r')\n",
    "ax1.set_title('Classfication Data')\n",
    "ax1.set_xlabel('x')\n",
    "ax1.set_ylabel('y')\n",
    "plt.show()"
   ]
  },
  {
   "cell_type": "markdown",
   "id": "eaeed72b-eaa8-4b73-a3f6-d5076399d0b2",
   "metadata": {},
   "source": [
    "#### Apply SciKit Learn Logistics Regression (Default Solver: lbfgs)"
   ]
  },
  {
   "cell_type": "markdown",
   "id": "d5fe9784-2c2e-444b-bc7f-2aade1fb0daa",
   "metadata": {},
   "source": [
    "The default solver for `LogisticRegression` is `lbfgs`. By default it also uses L2 regularization. We will need to set it to `None`."
   ]
  },
  {
   "cell_type": "code",
   "execution_count": 307,
   "id": "83c94487-126c-4fa8-bd29-c2dfd831993e",
   "metadata": {},
   "outputs": [],
   "source": [
    "logisModel1 = LogisticRegression(penalty=None)\n",
    "logis1 = logisModel1.fit(x_train, y_train)"
   ]
  },
  {
   "cell_type": "code",
   "execution_count": 308,
   "id": "60a48e93-eb25-4b55-9c77-64bcd6e5d2be",
   "metadata": {},
   "outputs": [
    {
     "name": "stdout",
     "output_type": "stream",
     "text": [
      "[-70.52707017]\n",
      "[[12.27531093]]\n"
     ]
    }
   ],
   "source": [
    "print(logis1.intercept_)\n",
    "print(logis1.coef_)"
   ]
  },
  {
   "cell_type": "code",
   "execution_count": 309,
   "id": "172e4e2e-e2b2-40a0-a3ec-69aeeec2e33e",
   "metadata": {},
   "outputs": [
    {
     "data": {
      "text/plain": [
       "array([0, 0, 1, 0, 1, 0, 1, 1, 1, 0, 0, 1])"
      ]
     },
     "execution_count": 309,
     "metadata": {},
     "output_type": "execute_result"
    }
   ],
   "source": [
    "y_hat1 = logis1.predict(x_train)\n",
    "y_hat1"
   ]
  },
  {
   "cell_type": "code",
   "execution_count": 310,
   "id": "13756960-2595-4762-85ad-fe6d86afa6d8",
   "metadata": {},
   "outputs": [
    {
     "name": "stdout",
     "output_type": "stream",
     "text": [
      "Train Accuracy:  100.0\n"
     ]
    }
   ],
   "source": [
    "print('Train Accuracy: ', (np.mean(y_hat1 == y_train) * 100))"
   ]
  },
  {
   "cell_type": "code",
   "execution_count": 311,
   "id": "5f857d87-3fca-4e5e-b695-995597b2b969",
   "metadata": {},
   "outputs": [
    {
     "data": {
      "text/plain": [
       "1.0"
      ]
     },
     "execution_count": 311,
     "metadata": {},
     "output_type": "execute_result"
    }
   ],
   "source": [
    "logis1.score(x_train, y_train)"
   ]
  },
  {
   "cell_type": "markdown",
   "id": "f73d74a5-9639-4020-be49-ccb0b8862bcd",
   "metadata": {},
   "source": [
    "**The `score` function in `LogisticRegression` also compute the accuracy.** 1 means 100% accurate, a 50% accuracy will be 0.5."
   ]
  },
  {
   "cell_type": "code",
   "execution_count": 312,
   "id": "315054a1-8117-4755-9ab4-eac8d6ba45dc",
   "metadata": {},
   "outputs": [
    {
     "data": {
      "text/plain": [
       "\u001b[0;31mSignature:\u001b[0m \u001b[0mlogis1\u001b[0m\u001b[0;34m.\u001b[0m\u001b[0mscore\u001b[0m\u001b[0;34m(\u001b[0m\u001b[0mX\u001b[0m\u001b[0;34m,\u001b[0m \u001b[0my\u001b[0m\u001b[0;34m,\u001b[0m \u001b[0msample_weight\u001b[0m\u001b[0;34m=\u001b[0m\u001b[0;32mNone\u001b[0m\u001b[0;34m)\u001b[0m\u001b[0;34m\u001b[0m\u001b[0;34m\u001b[0m\u001b[0m\n",
       "\u001b[0;31mDocstring:\u001b[0m\n",
       "Return the mean accuracy on the given test data and labels.\n",
       "\n",
       "In multi-label classification, this is the subset accuracy\n",
       "which is a harsh metric since you require for each sample that\n",
       "each label set be correctly predicted.\n",
       "\n",
       "Parameters\n",
       "----------\n",
       "X : array-like of shape (n_samples, n_features)\n",
       "    Test samples.\n",
       "\n",
       "y : array-like of shape (n_samples,) or (n_samples, n_outputs)\n",
       "    True labels for `X`.\n",
       "\n",
       "sample_weight : array-like of shape (n_samples,), default=None\n",
       "    Sample weights.\n",
       "\n",
       "Returns\n",
       "-------\n",
       "score : float\n",
       "    Mean accuracy of ``self.predict(X)`` w.r.t. `y`.\n",
       "\u001b[0;31mFile:\u001b[0m      /opt/anaconda3/envs/ML311/lib/python3.11/site-packages/sklearn/base.py\n",
       "\u001b[0;31mType:\u001b[0m      method"
      ]
     },
     "metadata": {},
     "output_type": "display_data"
    }
   ],
   "source": [
    "logis1.score?"
   ]
  },
  {
   "cell_type": "markdown",
   "id": "2936db19-636f-4597-adf3-a098f04eb1eb",
   "metadata": {},
   "source": [
    "#### Using `liblinear` Solver"
   ]
  },
  {
   "cell_type": "markdown",
   "id": "a10d6a3c-806b-400a-aaf9-be3473634059",
   "metadata": {},
   "source": [
    "`liblinear` only supports L1 or L2 regularization. It do not have None option."
   ]
  },
  {
   "cell_type": "code",
   "execution_count": 313,
   "id": "3b4741c3-708d-4870-affd-4861c00c3dfd",
   "metadata": {},
   "outputs": [],
   "source": [
    "logisModel2 = LogisticRegression(penalty='l2', solver='liblinear') # Supports only l1 or l2. Cannot set to no regularization.\n",
    "logis2 = logisModel2.fit(x_train, y_train)"
   ]
  },
  {
   "cell_type": "code",
   "execution_count": 314,
   "id": "7903ffd9-8bca-43e7-8959-8cc5d4cf13a2",
   "metadata": {},
   "outputs": [
    {
     "name": "stdout",
     "output_type": "stream",
     "text": [
      "[-1.37992059]\n",
      "[[0.32891568]]\n"
     ]
    }
   ],
   "source": [
    "print(logis2.intercept_)\n",
    "print(logis2.coef_)"
   ]
  },
  {
   "cell_type": "code",
   "execution_count": 315,
   "id": "a40f2a72-ac3f-4f96-bf18-8f30a8aa64a8",
   "metadata": {},
   "outputs": [
    {
     "data": {
      "text/plain": [
       "array([0, 0, 1, 0, 1, 0, 1, 1, 1, 1, 1, 1])"
      ]
     },
     "execution_count": 315,
     "metadata": {},
     "output_type": "execute_result"
    }
   ],
   "source": [
    "y_hat2 = logis2.predict(x_train)\n",
    "y_hat2"
   ]
  },
  {
   "cell_type": "code",
   "execution_count": 316,
   "id": "acf3ff39-3510-4ce1-ad7a-d5135a738331",
   "metadata": {},
   "outputs": [
    {
     "data": {
      "text/plain": [
       "0.8333333333333334"
      ]
     },
     "execution_count": 316,
     "metadata": {},
     "output_type": "execute_result"
    }
   ],
   "source": [
    "logis2.score(x_train, y_train)"
   ]
  },
  {
   "cell_type": "code",
   "execution_count": 317,
   "id": "c8ad389e-fa32-4b37-8b78-88be40dc4119",
   "metadata": {},
   "outputs": [
    {
     "name": "stdout",
     "output_type": "stream",
     "text": [
      "Train Accuracy:  83.33333333333334\n"
     ]
    }
   ],
   "source": [
    "print('Train Accuracy: ', (np.mean(y_hat2 == y_train) * 100))"
   ]
  },
  {
   "cell_type": "markdown",
   "id": "6a0ad700-74c5-48d5-be4d-d63924dcb801",
   "metadata": {},
   "source": [
    "Please note that this is with regularization. This solver do not support no regularization."
   ]
  },
  {
   "cell_type": "markdown",
   "id": "6f39eaaa-37dd-41b3-8659-a37d8ae9eb82",
   "metadata": {},
   "source": [
    "#### Using `newton-cg` Solver"
   ]
  },
  {
   "cell_type": "code",
   "execution_count": 318,
   "id": "55315ab9-abaf-4393-ada5-f027f43ae868",
   "metadata": {},
   "outputs": [],
   "source": [
    "logisModel3 = LogisticRegression(penalty=None, solver='newton-cg')\n",
    "logis3 = logisModel3.fit(x_train, y_train)"
   ]
  },
  {
   "cell_type": "code",
   "execution_count": 319,
   "id": "a8a8ccf6-cbe7-47b6-a7aa-c522d3e50ac6",
   "metadata": {},
   "outputs": [
    {
     "name": "stdout",
     "output_type": "stream",
     "text": [
      "[-65.43839169]\n",
      "[[11.39889366]]\n"
     ]
    }
   ],
   "source": [
    "print(logis3.intercept_)\n",
    "print(logis3.coef_)"
   ]
  },
  {
   "cell_type": "code",
   "execution_count": 320,
   "id": "a8d74eb2-21be-4f55-8149-dac7aad65972",
   "metadata": {},
   "outputs": [
    {
     "data": {
      "text/plain": [
       "array([0, 0, 1, 0, 1, 0, 1, 1, 1, 0, 0, 1])"
      ]
     },
     "execution_count": 320,
     "metadata": {},
     "output_type": "execute_result"
    }
   ],
   "source": [
    "y_hat3 = logis3.predict(x_train)\n",
    "y_hat3"
   ]
  },
  {
   "cell_type": "code",
   "execution_count": 321,
   "id": "10eb0ca1-571b-49ab-87f1-5432b230fd9e",
   "metadata": {},
   "outputs": [
    {
     "name": "stdout",
     "output_type": "stream",
     "text": [
      "Train Accuracy:  100.0\n"
     ]
    }
   ],
   "source": [
    "print('Train Accuracy: ', (np.mean(y_hat3 == y_train) * 100))"
   ]
  },
  {
   "cell_type": "markdown",
   "id": "9f208a12-a9e1-4f25-8042-1140bd9214be",
   "metadata": {},
   "source": [
    "#### Using `newton-cholesky` Solver"
   ]
  },
  {
   "cell_type": "code",
   "execution_count": 322,
   "id": "59beb694-0c61-4ae1-9842-2b5a1fb43899",
   "metadata": {},
   "outputs": [],
   "source": [
    "logisModel3a = LogisticRegression(penalty=None, solver='newton-cholesky')\n",
    "logis3a = logisModel3a.fit(x_train, y_train)"
   ]
  },
  {
   "cell_type": "code",
   "execution_count": 323,
   "id": "cd64d73e-6ff0-41f4-9449-1625230a166f",
   "metadata": {},
   "outputs": [
    {
     "name": "stdout",
     "output_type": "stream",
     "text": [
      "[-63.81997606]\n",
      "[[11.09903688]]\n"
     ]
    }
   ],
   "source": [
    "print(logis3a.intercept_)\n",
    "print(logis3a.coef_)"
   ]
  },
  {
   "cell_type": "code",
   "execution_count": 324,
   "id": "8708c4d1-b974-4434-bad3-990e95488a15",
   "metadata": {},
   "outputs": [
    {
     "data": {
      "text/plain": [
       "array([0, 0, 1, 0, 1, 0, 1, 1, 1, 0, 0, 1])"
      ]
     },
     "execution_count": 324,
     "metadata": {},
     "output_type": "execute_result"
    }
   ],
   "source": [
    "y_hat3a = logis3a.predict(x_train)\n",
    "y_hat3a"
   ]
  },
  {
   "cell_type": "code",
   "execution_count": 325,
   "id": "f71f099a-a156-4fb8-b53a-35295824def7",
   "metadata": {},
   "outputs": [
    {
     "name": "stdout",
     "output_type": "stream",
     "text": [
      "Train Accuracy:  100.0\n"
     ]
    }
   ],
   "source": [
    "print('Train Accuracy: ', (np.mean(y_hat3a == y_train) * 100))"
   ]
  },
  {
   "cell_type": "markdown",
   "id": "fb931d33-37bc-4ab8-a716-c120e002337f",
   "metadata": {},
   "source": [
    "#### Using `sag` Solver"
   ]
  },
  {
   "cell_type": "markdown",
   "id": "9f54b6ca-2459-40dd-9ba6-00610e3bd85a",
   "metadata": {},
   "source": [
    "When using `sag` solver, please include `max_iter=10000`. Without `max_iter` it will not converge well with a warning."
   ]
  },
  {
   "cell_type": "code",
   "execution_count": 326,
   "id": "aadbf232-b3f3-4b26-b825-20f9ff8f36c6",
   "metadata": {},
   "outputs": [],
   "source": [
    "logisModel4 = LogisticRegression(penalty=None, solver='sag', max_iter=10000)\n",
    "logis4 = logisModel4.fit(x_train, y_train)"
   ]
  },
  {
   "cell_type": "code",
   "execution_count": 327,
   "id": "5329d301-f6fc-4c2c-8e8a-d6a6839491af",
   "metadata": {},
   "outputs": [
    {
     "name": "stdout",
     "output_type": "stream",
     "text": [
      "[-15.01624863]\n",
      "[[2.62879147]]\n"
     ]
    }
   ],
   "source": [
    "print(logis4.intercept_)\n",
    "print(logis4.coef_)"
   ]
  },
  {
   "cell_type": "code",
   "execution_count": 328,
   "id": "5103b9e6-680f-49c0-ae75-708cc5cb99a0",
   "metadata": {},
   "outputs": [
    {
     "data": {
      "text/plain": [
       "array([0, 0, 1, 0, 1, 0, 1, 1, 1, 0, 0, 1])"
      ]
     },
     "execution_count": 328,
     "metadata": {},
     "output_type": "execute_result"
    }
   ],
   "source": [
    "y_hat4 = logis4.predict(x_train)\n",
    "y_hat4"
   ]
  },
  {
   "cell_type": "code",
   "execution_count": 329,
   "id": "7a8b079d-51f8-4174-9705-cd3dfbf25988",
   "metadata": {},
   "outputs": [
    {
     "name": "stdout",
     "output_type": "stream",
     "text": [
      "Train Accuracy:  100.0\n"
     ]
    }
   ],
   "source": [
    "print('Train Accuracy: ', (np.mean(y_hat4 == y_train) * 100))"
   ]
  },
  {
   "cell_type": "markdown",
   "id": "f2f54c1e-52ef-4c97-bd0d-49cb1e52725b",
   "metadata": {},
   "source": [
    "#### Using `saga` Solver"
   ]
  },
  {
   "cell_type": "markdown",
   "id": "8a2a4a10-315a-4868-9858-cd367077afc7",
   "metadata": {},
   "source": [
    "When using `saga` solver, please include `max_iter=10000`. Without `max_iter` it will not converge well with a warning."
   ]
  },
  {
   "cell_type": "code",
   "execution_count": 330,
   "id": "b64fa1b6-48d2-421b-9a5c-74c61ab1a69b",
   "metadata": {},
   "outputs": [],
   "source": [
    "logisModel5 = LogisticRegression(penalty=None, solver='saga', max_iter=10000)\n",
    "logis5 = logisModel5.fit(x_train, y_train)"
   ]
  },
  {
   "cell_type": "code",
   "execution_count": 331,
   "id": "25e33822-f61e-43ad-bf37-18eba39b7774",
   "metadata": {},
   "outputs": [
    {
     "name": "stdout",
     "output_type": "stream",
     "text": [
      "[-12.16614582]\n",
      "[[2.13413575]]\n"
     ]
    }
   ],
   "source": [
    "print(logis5.intercept_)\n",
    "print(logis5.coef_)"
   ]
  },
  {
   "cell_type": "code",
   "execution_count": 332,
   "id": "9ae03986-f17b-47a9-9bfe-a343f1b9a79f",
   "metadata": {},
   "outputs": [
    {
     "data": {
      "text/plain": [
       "array([0, 0, 1, 0, 1, 0, 1, 1, 1, 0, 0, 1])"
      ]
     },
     "execution_count": 332,
     "metadata": {},
     "output_type": "execute_result"
    }
   ],
   "source": [
    "y_hat5 = logis5.predict(x_train)\n",
    "y_hat5"
   ]
  },
  {
   "cell_type": "code",
   "execution_count": 333,
   "id": "fae2708d-0607-4378-9bec-e522998fa2a0",
   "metadata": {},
   "outputs": [
    {
     "name": "stdout",
     "output_type": "stream",
     "text": [
      "Train Accuracy:  100.0\n"
     ]
    }
   ],
   "source": [
    "print('Train Accuracy: ', (np.mean(y_hat5 == y_train) * 100))"
   ]
  },
  {
   "cell_type": "markdown",
   "id": "0d79742e-698c-480f-aaff-9fc9dabf9e3a",
   "metadata": {},
   "source": [
    "#### Apply Gradient Descent"
   ]
  },
  {
   "cell_type": "code",
   "execution_count": 334,
   "id": "6067820e-5540-4754-b7ec-a2d926747a46",
   "metadata": {},
   "outputs": [
    {
     "name": "stdout",
     "output_type": "stream",
     "text": [
      "iteration 0: cost = 6.7553e-01: intercept = 0.0000e+00: weights = [[0.01366667]]\n",
      "iteration 1000: cost = 3.9426e-01: intercept = -1.4246e+00: weights = [[0.33706877]]\n",
      "iteration 2000: cost = 2.9878e-01: intercept = -2.3858e+00: weights = [[0.48414204]]\n",
      "iteration 3000: cost = 2.4656e-01: intercept = -3.0977e+00: weights = [[0.59638069]]\n",
      "iteration 4000: cost = 2.1341e-01: intercept = -3.6653e+00: weights = [[0.68759961]]\n",
      "iteration 5000: cost = 1.9022e-01: intercept = -4.1401e+00: weights = [[0.76493675]]\n",
      "iteration 6000: cost = 1.7289e-01: intercept = -4.5505e+00: weights = [[0.8324352]]\n",
      "iteration 7000: cost = 1.5934e-01: intercept = -4.9135e+00: weights = [[0.89258384]]\n",
      "iteration 8000: cost = 1.4837e-01: intercept = -5.2401e+00: weights = [[0.94701924]]\n",
      "iteration 9000: cost = 1.3926e-01: intercept = -5.5378e+00: weights = [[0.99687468]]\n",
      "iteration 9999: Last cost = 1.3153e-01: intercept = -5.8117e+00: weights = [[1.04292347]]\n",
      "best w [1.0429]\n",
      "best b -5.8117\n"
     ]
    }
   ],
   "source": [
    "coef6, intercept6, _, _, _ = compute_gradient_descent_beta(x_train, y_train, gradient_function=compute_logistic_gradient_beta, \n",
    "                                                       cost_function = compute_logistic_cost_beta, printProgress=True) "
   ]
  },
  {
   "cell_type": "code",
   "execution_count": 335,
   "id": "68544d38-9782-4b06-b117-36f219bdd895",
   "metadata": {},
   "outputs": [
    {
     "data": {
      "text/plain": [
       "array([0, 0, 1, 0, 1, 0, 1, 1, 1, 0, 0, 1])"
      ]
     },
     "execution_count": 335,
     "metadata": {},
     "output_type": "execute_result"
    }
   ],
   "source": [
    "y_hat6 = predict_logistic_beta(x_train, coef6, intercept6)\n",
    "y_hat6.flatten()"
   ]
  },
  {
   "cell_type": "code",
   "execution_count": 336,
   "id": "5c6d9b65-3122-42b5-affc-4cb8d8decdae",
   "metadata": {},
   "outputs": [
    {
     "name": "stdout",
     "output_type": "stream",
     "text": [
      "Train Accuracy:  50.0\n"
     ]
    }
   ],
   "source": [
    "print('Train Accuracy: ', (np.mean(y_hat6 == y_train) * 100))"
   ]
  },
  {
   "cell_type": "markdown",
   "id": "9bd56f2d-8bd2-4da8-97d6-ddd1acd077c6",
   "metadata": {},
   "source": [
    "**Please note that the prediction looks very low. For troubleshooting, always check the data.**"
   ]
  },
  {
   "cell_type": "code",
   "execution_count": 337,
   "id": "1a496859-0911-435e-9f00-9ba196a0760f",
   "metadata": {},
   "outputs": [
    {
     "data": {
      "text/plain": [
       "array([[0],\n",
       "       [0],\n",
       "       [1],\n",
       "       [0],\n",
       "       [1],\n",
       "       [0],\n",
       "       [1],\n",
       "       [1],\n",
       "       [1],\n",
       "       [0],\n",
       "       [0],\n",
       "       [1]])"
      ]
     },
     "execution_count": 337,
     "metadata": {},
     "output_type": "execute_result"
    }
   ],
   "source": [
    "y_hat6"
   ]
  },
  {
   "cell_type": "code",
   "execution_count": 338,
   "id": "e9338c31-1188-4c74-a5ab-79d3d97d4ec1",
   "metadata": {},
   "outputs": [
    {
     "data": {
      "text/plain": [
       "array([0, 0, 1, 0, 1, 0, 1, 1, 1, 0, 0, 1])"
      ]
     },
     "execution_count": 338,
     "metadata": {},
     "output_type": "execute_result"
    }
   ],
   "source": [
    "y_train"
   ]
  },
  {
   "cell_type": "markdown",
   "id": "729d28a9-023d-4680-884e-9e57f1644591",
   "metadata": {},
   "source": [
    "**Using eyeball check, our prediction is 100%. Let us check the dimension of the data.**"
   ]
  },
  {
   "cell_type": "code",
   "execution_count": 339,
   "id": "8aa957bb-e0af-4ab7-aeea-981a52b5161a",
   "metadata": {},
   "outputs": [
    {
     "data": {
      "text/plain": [
       "(12, 1)"
      ]
     },
     "execution_count": 339,
     "metadata": {},
     "output_type": "execute_result"
    }
   ],
   "source": [
    "y_hat6.shape"
   ]
  },
  {
   "cell_type": "code",
   "execution_count": 340,
   "id": "8d6a3771-7490-4216-9992-b2e80aefd8a3",
   "metadata": {},
   "outputs": [
    {
     "data": {
      "text/plain": [
       "(12,)"
      ]
     },
     "execution_count": 340,
     "metadata": {},
     "output_type": "execute_result"
    }
   ],
   "source": [
    "y_train.shape"
   ]
  },
  {
   "cell_type": "markdown",
   "id": "ba580ad0-aec1-40cd-b7e5-f1a51aa81625",
   "metadata": {},
   "source": [
    "**Again, we have the problem of working on 1D array with 2D array. In this case, let us reshape y_train to 2D array.**"
   ]
  },
  {
   "cell_type": "code",
   "execution_count": 341,
   "id": "8738eb60-7b00-4548-b29a-5c38e3da6bc6",
   "metadata": {},
   "outputs": [
    {
     "name": "stdout",
     "output_type": "stream",
     "text": [
      "Train Accuracy:  100.0\n"
     ]
    }
   ],
   "source": [
    "print('Train Accuracy: ', (np.mean(y_hat6 == y_train.reshape(-1,1)) * 100))"
   ]
  },
  {
   "cell_type": "markdown",
   "id": "7113caf3-096f-402c-aa74-338bab510cfb",
   "metadata": {},
   "source": [
    "### Simple Linear Binary Classification (Two Features)"
   ]
  },
  {
   "cell_type": "code",
   "execution_count": 342,
   "id": "9f989ab5-b0d4-461c-8661-758e7eb0642a",
   "metadata": {},
   "outputs": [
    {
     "data": {
      "text/plain": [
       "array([[1. , 3. ],\n",
       "       [2. , 4. ],\n",
       "       [8. , 9. ],\n",
       "       [3. , 4. ],\n",
       "       [7. , 8.5],\n",
       "       [6.8, 7.5],\n",
       "       [2. , 5. ],\n",
       "       [1.5, 2.5]])"
      ]
     },
     "execution_count": 342,
     "metadata": {},
     "output_type": "execute_result"
    }
   ],
   "source": [
    "X2_train"
   ]
  },
  {
   "cell_type": "code",
   "execution_count": 343,
   "id": "3723462d-dcce-44cf-876f-779b38007c2c",
   "metadata": {},
   "outputs": [
    {
     "data": {
      "text/plain": [
       "array([0, 0, 1, 0, 1, 1, 0, 0])"
      ]
     },
     "execution_count": 343,
     "metadata": {},
     "output_type": "execute_result"
    }
   ],
   "source": [
    "y2_train"
   ]
  },
  {
   "cell_type": "code",
   "execution_count": 344,
   "id": "78f542df-537e-4b3a-8b7c-d74adfbf032d",
   "metadata": {},
   "outputs": [],
   "source": [
    "X2_pos = X2_train[y2_train == 1]\n",
    "y2_pos = y2_train[y2_train == 1]\n",
    "X2_neg = X2_train[y2_train == 0]\n",
    "y2_neg = y2_train[y2_train == 0]"
   ]
  },
  {
   "cell_type": "code",
   "execution_count": 345,
   "id": "a411fc05-a641-4aae-8b60-702a524badec",
   "metadata": {},
   "outputs": [
    {
     "data": {
      "image/png": "[encoded data removed]",
      "text/plain": [
       "<Figure size 800x500 with 1 Axes>"
      ]
     },
     "metadata": {},
     "output_type": "display_data"
    }
   ],
   "source": [
    "plt.close('all')\n",
    "fig, (ax1) = plt.subplots(1, 1, figsize=(8, 5))\n",
    "ax1.scatter(X2_pos[:,0], X2_pos[:,1], marker='x', s = 80, c='r')\n",
    "ax1.scatter(X2_neg[:,0], X2_neg[:,1], marker='o', s = 80, c='b')\n",
    "ax1.set_title('Classfication Data')\n",
    "ax1.set_xlabel('x0')\n",
    "ax1.set_ylabel('x1')\n",
    "plt.show()"
   ]
  },
  {
   "cell_type": "markdown",
   "id": "9851a4a2-0302-477b-a6fa-9507ae0add7a",
   "metadata": {},
   "source": [
    "#### Apply SciKit Lean with Solver `sag`"
   ]
  },
  {
   "cell_type": "code",
   "execution_count": 346,
   "id": "0f65d902-fe69-4c57-a103-21023c0e9c36",
   "metadata": {},
   "outputs": [],
   "source": [
    "logisModel7 = LogisticRegression(penalty=None, solver='sag', max_iter=10000)\n",
    "logis7 = logisModel7.fit(X2_train, y2_train)"
   ]
  },
  {
   "cell_type": "code",
   "execution_count": 347,
   "id": "d1fbbfbb-b5b2-4359-9487-d2f007319e31",
   "metadata": {},
   "outputs": [
    {
     "name": "stdout",
     "output_type": "stream",
     "text": [
      "Intercept: [-6.14733278]\n",
      "Coefficient: [[ 4.50251829 -2.54067136]]\n"
     ]
    }
   ],
   "source": [
    "print('Intercept:',logis7.intercept_)\n",
    "print('Coefficient:',logis7.coef_)"
   ]
  },
  {
   "cell_type": "code",
   "execution_count": 348,
   "id": "135a84cb-827b-4a06-8f29-0c7ddf315812",
   "metadata": {},
   "outputs": [
    {
     "data": {
      "text/plain": [
       "array([0, 0, 1, 0, 1, 1, 0, 0])"
      ]
     },
     "execution_count": 348,
     "metadata": {},
     "output_type": "execute_result"
    }
   ],
   "source": [
    "y_hat7 = logis7.predict(X2_train)\n",
    "y_hat7"
   ]
  },
  {
   "cell_type": "code",
   "execution_count": 349,
   "id": "be209d0f-1873-43f7-a11b-de190899e187",
   "metadata": {},
   "outputs": [
    {
     "name": "stdout",
     "output_type": "stream",
     "text": [
      "Train Accuracy: 100.000000\n"
     ]
    }
   ],
   "source": [
    "print('Train Accuracy: %f'%(np.mean(y_hat7 == y2_train) * 100))"
   ]
  },
  {
   "cell_type": "code",
   "execution_count": 350,
   "id": "66eb69f5-78b7-4a9c-84e5-4d7b937c377c",
   "metadata": {},
   "outputs": [
    {
     "data": {
      "text/plain": [
       "1.0"
      ]
     },
     "execution_count": 350,
     "metadata": {},
     "output_type": "execute_result"
    }
   ],
   "source": [
    "logis7.score(X2_train, y2_train)"
   ]
  },
  {
   "cell_type": "markdown",
   "id": "77e4fb1a-85a8-425e-b91d-159465fd70a5",
   "metadata": {},
   "source": [
    "As already mentioned earlier, the score function computes the accuracy of training data and actual data"
   ]
  },
  {
   "cell_type": "markdown",
   "id": "0afd0066-e298-429a-ad46-56295a63dbd8",
   "metadata": {},
   "source": [
    "**The following function `predict_proba` return the probability of the prediction. For binary classification, it return 2 columns. The first columns is (1 - prediction) and the second column is (prediction). Therefore, each rows add up to 1.**"
   ]
  },
  {
   "cell_type": "code",
   "execution_count": 351,
   "id": "19f59e7f-94d9-4b33-b128-b6a0887a5727",
   "metadata": {},
   "outputs": [
    {
     "data": {
      "text/plain": [
       "array([[9.99905501e-01, 9.44988334e-05],\n",
       "       [9.99328270e-01, 6.71730335e-04],\n",
       "       [9.04908562e-04, 9.99095091e-01],\n",
       "       [9.42808793e-01, 5.71912069e-02],\n",
       "       [2.24317943e-02, 9.77568206e-01],\n",
       "       [4.43070320e-03, 9.95569297e-01],\n",
       "       [9.99947026e-01, 5.29741784e-05],\n",
       "       [9.96812208e-01, 3.18779245e-03]])"
      ]
     },
     "execution_count": 351,
     "metadata": {},
     "output_type": "execute_result"
    }
   ],
   "source": [
    "logis7.predict_proba(X2_train)\n",
    "# the return result show probabilities of [1 - prediction, prediction]"
   ]
  },
  {
   "cell_type": "code",
   "execution_count": 352,
   "id": "46977036-c0fe-4413-9235-a3e2a90e7b7d",
   "metadata": {},
   "outputs": [
    {
     "data": {
      "text/plain": [
       "array([9.99905501e-01, 9.99328270e-01, 9.04908562e-04, 9.42808793e-01,\n",
       "       2.24317943e-02, 4.43070320e-03, 9.99947026e-01, 9.96812208e-01])"
      ]
     },
     "execution_count": 352,
     "metadata": {},
     "output_type": "execute_result"
    }
   ],
   "source": [
    "logis7.predict_proba(X2_train)[:,0] # extract probabilities of 1 - prediction"
   ]
  },
  {
   "cell_type": "code",
   "execution_count": 353,
   "id": "3f98e8e5-a293-4b3c-a4f1-ee38196e5c0e",
   "metadata": {},
   "outputs": [
    {
     "data": {
      "text/plain": [
       "array([9.44988334e-05, 6.71730335e-04, 9.99095091e-01, 5.71912069e-02,\n",
       "       9.77568206e-01, 9.95569297e-01, 5.29741784e-05, 3.18779245e-03])"
      ]
     },
     "execution_count": 353,
     "metadata": {},
     "output_type": "execute_result"
    }
   ],
   "source": [
    "logis7.predict_proba(X2_train)[:,1] # extract probabilities of prediction"
   ]
  },
  {
   "cell_type": "code",
   "execution_count": 354,
   "id": "fd120cda-b6b8-4a16-8c8e-b754027f2090",
   "metadata": {},
   "outputs": [
    {
     "data": {
      "text/plain": [
       "array([False, False,  True, False,  True,  True, False, False])"
      ]
     },
     "execution_count": 354,
     "metadata": {},
     "output_type": "execute_result"
    }
   ],
   "source": [
    "result6 = logis7.predict_proba(X2_train)[:,1] > 0.5\n",
    "result6 "
   ]
  },
  {
   "cell_type": "code",
   "execution_count": 355,
   "id": "beccc245-712c-48de-a62c-4f24c2faeee8",
   "metadata": {},
   "outputs": [
    {
     "name": "stdout",
     "output_type": "stream",
     "text": [
      "Train Accuracy: 100.000000\n"
     ]
    }
   ],
   "source": [
    "print('Train Accuracy: %f'%(np.mean(result6 == y2_train) * 100))"
   ]
  },
  {
   "cell_type": "markdown",
   "id": "6605053b-6eca-4191-932f-47d8b7ef840a",
   "metadata": {},
   "source": [
    "#### Apply Gradient Descent"
   ]
  },
  {
   "cell_type": "code",
   "execution_count": 356,
   "id": "8dbbe9db-5a8c-4cb9-96bb-ab395acc834a",
   "metadata": {},
   "outputs": [
    {
     "name": "stdout",
     "output_type": "stream",
     "text": [
      "iteration 0: cost = 6.8587e-01: intercept = -1.2500e-03: weights = [[0.0076875 0.0040625]]\n",
      "iteration 1000: cost = 1.9127e-01: intercept = -1.1842e+00: weights = [[ 1.41558979 -0.85091834]]\n",
      "iteration 2000: cost = 1.2252e-01: intercept = -1.7566e+00: weights = [[ 1.9151958  -1.15677143]]\n",
      "iteration 3000: cost = 9.3332e-02: intercept = -2.1586e+00: weights = [[ 2.22264626 -1.33906102]]\n",
      "iteration 4000: cost = 7.6521e-02: intercept = -2.4755e+00: weights = [[ 2.44657863 -1.46863841]]\n",
      "iteration 5000: cost = 6.5358e-02: intercept = -2.7399e+00: weights = [[ 2.62353509 -1.56906197]]\n",
      "iteration 6000: cost = 5.7309e-02: intercept = -2.9682e+00: weights = [[ 2.77025425 -1.65100219]]\n",
      "iteration 7000: cost = 5.1182e-02: intercept = -3.1698e+00: weights = [[ 2.89581728 -1.72018533]]\n",
      "iteration 8000: cost = 4.6337e-02: intercept = -3.3508e+00: weights = [[ 3.00571322 -1.78003677]]\n",
      "iteration 9000: cost = 4.2395e-02: intercept = -3.5152e+00: weights = [[ 3.10351942 -1.83276709]]\n",
      "iteration 9999: Last cost = 3.9118e-02: intercept = -3.6660e+00: weights = [[ 3.19161661 -1.87984065]]\n",
      "best w [ 3.1916 -1.8798]\n",
      "best b -3.666\n"
     ]
    }
   ],
   "source": [
    "coef8, intercept8, _, _, _ = compute_gradient_descent_beta(X2_train, y2_train, gradient_function=compute_logistic_gradient_beta, \n",
    "                                                       cost_function = compute_logistic_cost_beta, printProgress=True)"
   ]
  },
  {
   "cell_type": "code",
   "execution_count": 357,
   "id": "cfa8253e-c1a4-46fe-ba8c-e57eb50c9eea",
   "metadata": {},
   "outputs": [
    {
     "data": {
      "text/plain": [
       "array([[0],\n",
       "       [0],\n",
       "       [1],\n",
       "       [0],\n",
       "       [1],\n",
       "       [1],\n",
       "       [0],\n",
       "       [0]])"
      ]
     },
     "execution_count": 357,
     "metadata": {},
     "output_type": "execute_result"
    }
   ],
   "source": [
    "y_hat8 = predict_logistic_beta(X2_train, coef8, intercept8)\n",
    "y_hat8"
   ]
  },
  {
   "cell_type": "code",
   "execution_count": 358,
   "id": "ff6022a0-a6ef-467e-b4dd-d7c3d985c7cd",
   "metadata": {},
   "outputs": [
    {
     "name": "stdout",
     "output_type": "stream",
     "text": [
      "Train Accuracy:  100.0\n"
     ]
    }
   ],
   "source": [
    "print('Train Accuracy: ', (np.mean(y_hat8 == y2_train.reshape(-1,1)) * 100))"
   ]
  },
  {
   "cell_type": "markdown",
   "id": "e5d96a55-d5a8-490c-ae3a-a7d955341739",
   "metadata": {},
   "source": [
    "#### Computing for Decision Boundary (Design Pattern for Computing Decision Boundary)"
   ]
  },
  {
   "cell_type": "markdown",
   "id": "ae0ec51f-47de-4994-b530-3d61241f8002",
   "metadata": {},
   "source": [
    "The following is the design pattern to plot decision boundary:"
   ]
  },
  {
   "cell_type": "code",
   "execution_count": 359,
   "id": "be01ce02-de7b-4d78-ba07-ab7aec769bee",
   "metadata": {},
   "outputs": [
    {
     "data": {
      "text/plain": [
       "array([[1. , 3. ],\n",
       "       [2. , 4. ],\n",
       "       [8. , 9. ],\n",
       "       [3. , 4. ],\n",
       "       [7. , 8.5],\n",
       "       [6.8, 7.5],\n",
       "       [2. , 5. ],\n",
       "       [1.5, 2.5]])"
      ]
     },
     "execution_count": 359,
     "metadata": {},
     "output_type": "execute_result"
    }
   ],
   "source": [
    "X2_train"
   ]
  },
  {
   "cell_type": "code",
   "execution_count": 360,
   "id": "3011ccc0-3fa5-4fb9-995f-fb7cf61c7592",
   "metadata": {},
   "outputs": [],
   "source": [
    "x_min, x_max = X2_train[:, 0].min() - 1, X2_train[:, 0].max() + 1\n",
    "y_min, y_max = X2_train[:, 1].min() - 1, X2_train[:, 1].max() + 1"
   ]
  },
  {
   "cell_type": "code",
   "execution_count": 361,
   "id": "cb96b42e-9b70-49e9-9a8c-8eb85fe45f04",
   "metadata": {},
   "outputs": [
    {
     "name": "stdout",
     "output_type": "stream",
     "text": [
      "x_min 0.0\n",
      "x_max 9.0\n",
      "y_min 1.5\n",
      "y_max 10.0\n"
     ]
    }
   ],
   "source": [
    "print('x_min',x_min)\n",
    "print('x_max',x_max)\n",
    "print('y_min',y_min)\n",
    "print('y_max',y_max)"
   ]
  },
  {
   "cell_type": "code",
   "execution_count": 362,
   "id": "176e09e7-7a24-439b-a55e-c5241688f102",
   "metadata": {},
   "outputs": [],
   "source": [
    "x1grid = np.arange(x_min, x_max, 0.01)\n",
    "x2grid = np.arange(y_min, y_max, 0.01)"
   ]
  },
  {
   "cell_type": "code",
   "execution_count": 363,
   "id": "cbd7e097-6df5-4345-87db-f705b2f8588d",
   "metadata": {},
   "outputs": [
    {
     "data": {
      "text/plain": [
       "array([0.  , 0.01, 0.02, 0.03, 0.04, 0.05, 0.06, 0.07, 0.08, 0.09])"
      ]
     },
     "execution_count": 363,
     "metadata": {},
     "output_type": "execute_result"
    }
   ],
   "source": [
    "x1grid[:10]"
   ]
  },
  {
   "cell_type": "code",
   "execution_count": 364,
   "id": "e0a60531-3a89-4d28-92e3-b3e9a1600fab",
   "metadata": {},
   "outputs": [
    {
     "data": {
      "text/plain": [
       "array([8.9 , 8.91, 8.92, 8.93, 8.94, 8.95, 8.96, 8.97, 8.98, 8.99])"
      ]
     },
     "execution_count": 364,
     "metadata": {},
     "output_type": "execute_result"
    }
   ],
   "source": [
    "x1grid[-10:]"
   ]
  },
  {
   "cell_type": "code",
   "execution_count": 365,
   "id": "c3230623-51c2-4fde-8fa3-8fdf109f2900",
   "metadata": {},
   "outputs": [
    {
     "data": {
      "text/plain": [
       "array([1.5 , 1.51, 1.52, 1.53, 1.54, 1.55, 1.56, 1.57, 1.58, 1.59])"
      ]
     },
     "execution_count": 365,
     "metadata": {},
     "output_type": "execute_result"
    }
   ],
   "source": [
    "x2grid[:10]"
   ]
  },
  {
   "cell_type": "code",
   "execution_count": 366,
   "id": "e36caf97-42b3-4e89-bb40-3b3fda4a946c",
   "metadata": {},
   "outputs": [
    {
     "data": {
      "text/plain": [
       "array([9.9 , 9.91, 9.92, 9.93, 9.94, 9.95, 9.96, 9.97, 9.98, 9.99])"
      ]
     },
     "execution_count": 366,
     "metadata": {},
     "output_type": "execute_result"
    }
   ],
   "source": [
    "x2grid[-10:]"
   ]
  },
  {
   "cell_type": "code",
   "execution_count": 367,
   "id": "c15a9a47-a102-4a13-aec9-75e21aa39e59",
   "metadata": {},
   "outputs": [],
   "source": [
    "xx, yy = np.meshgrid(x1grid,x2grid)"
   ]
  },
  {
   "cell_type": "code",
   "execution_count": 368,
   "id": "6abc8b08-9750-4043-bb31-023861a590de",
   "metadata": {},
   "outputs": [
    {
     "data": {
      "text/plain": [
       "(900,)"
      ]
     },
     "execution_count": 368,
     "metadata": {},
     "output_type": "execute_result"
    }
   ],
   "source": [
    "x1grid.shape"
   ]
  },
  {
   "cell_type": "code",
   "execution_count": 369,
   "id": "a7a1a679-4663-4f8b-858b-2e6d7378ab8d",
   "metadata": {},
   "outputs": [
    {
     "data": {
      "text/plain": [
       "(850,)"
      ]
     },
     "execution_count": 369,
     "metadata": {},
     "output_type": "execute_result"
    }
   ],
   "source": [
    "x2grid.shape"
   ]
  },
  {
   "cell_type": "code",
   "execution_count": 370,
   "id": "dcf41fae-6bf4-4f28-b2e4-c55c890dcf81",
   "metadata": {},
   "outputs": [
    {
     "data": {
      "text/plain": [
       "array([[0.  , 0.01, 0.02, ..., 8.97, 8.98, 8.99],\n",
       "       [0.  , 0.01, 0.02, ..., 8.97, 8.98, 8.99],\n",
       "       [0.  , 0.01, 0.02, ..., 8.97, 8.98, 8.99],\n",
       "       ...,\n",
       "       [0.  , 0.01, 0.02, ..., 8.97, 8.98, 8.99],\n",
       "       [0.  , 0.01, 0.02, ..., 8.97, 8.98, 8.99],\n",
       "       [0.  , 0.01, 0.02, ..., 8.97, 8.98, 8.99]])"
      ]
     },
     "execution_count": 370,
     "metadata": {},
     "output_type": "execute_result"
    }
   ],
   "source": [
    "xx"
   ]
  },
  {
   "cell_type": "code",
   "execution_count": 371,
   "id": "0510932e-f2cc-4198-b505-82e7727eea32",
   "metadata": {},
   "outputs": [
    {
     "data": {
      "text/plain": [
       "(850, 900)"
      ]
     },
     "execution_count": 371,
     "metadata": {},
     "output_type": "execute_result"
    }
   ],
   "source": [
    "xx.shape"
   ]
  },
  {
   "cell_type": "code",
   "execution_count": 372,
   "id": "7348dcf4-c24f-42c6-afa3-2736d0d34634",
   "metadata": {},
   "outputs": [
    {
     "data": {
      "text/plain": [
       "array([[1.5 , 1.5 , 1.5 , ..., 1.5 , 1.5 , 1.5 ],\n",
       "       [1.51, 1.51, 1.51, ..., 1.51, 1.51, 1.51],\n",
       "       [1.52, 1.52, 1.52, ..., 1.52, 1.52, 1.52],\n",
       "       ...,\n",
       "       [9.97, 9.97, 9.97, ..., 9.97, 9.97, 9.97],\n",
       "       [9.98, 9.98, 9.98, ..., 9.98, 9.98, 9.98],\n",
       "       [9.99, 9.99, 9.99, ..., 9.99, 9.99, 9.99]])"
      ]
     },
     "execution_count": 372,
     "metadata": {},
     "output_type": "execute_result"
    }
   ],
   "source": [
    "yy"
   ]
  },
  {
   "cell_type": "code",
   "execution_count": 373,
   "id": "ecdce812-654a-4128-ab04-c72349a50a0b",
   "metadata": {},
   "outputs": [
    {
     "data": {
      "text/plain": [
       "(850, 900)"
      ]
     },
     "execution_count": 373,
     "metadata": {},
     "output_type": "execute_result"
    }
   ],
   "source": [
    "yy.shape"
   ]
  },
  {
   "cell_type": "code",
   "execution_count": 374,
   "id": "b6a6e62b-43ca-427e-b7ce-4bfd09cbcbb5",
   "metadata": {},
   "outputs": [],
   "source": [
    "Z = logis7.predict(np.c_[xx.ravel(), yy.ravel()])"
   ]
  },
  {
   "cell_type": "code",
   "execution_count": 375,
   "id": "67624f47-660d-4b27-a250-936d1b2da2ba",
   "metadata": {},
   "outputs": [
    {
     "data": {
      "text/plain": [
       "array([0, 0, 0, ..., 1, 1, 1])"
      ]
     },
     "execution_count": 375,
     "metadata": {},
     "output_type": "execute_result"
    }
   ],
   "source": [
    "Z"
   ]
  },
  {
   "cell_type": "code",
   "execution_count": 376,
   "id": "9c26990a-af6b-45d3-bc90-25ec9a59aed0",
   "metadata": {},
   "outputs": [
    {
     "data": {
      "text/plain": [
       "(765000,)"
      ]
     },
     "execution_count": 376,
     "metadata": {},
     "output_type": "execute_result"
    }
   ],
   "source": [
    "Z.shape"
   ]
  },
  {
   "cell_type": "code",
   "execution_count": 377,
   "id": "87f5b7e5-e149-4fb9-87e2-694e556b3370",
   "metadata": {},
   "outputs": [],
   "source": [
    "Z = Z.reshape(xx.shape)"
   ]
  },
  {
   "cell_type": "code",
   "execution_count": 378,
   "id": "ce0ba717-9486-43fc-ae51-e597c83af599",
   "metadata": {},
   "outputs": [
    {
     "data": {
      "text/plain": [
       "array([[0, 0, 0, ..., 1, 1, 1],\n",
       "       [0, 0, 0, ..., 1, 1, 1],\n",
       "       [0, 0, 0, ..., 1, 1, 1],\n",
       "       ...,\n",
       "       [0, 0, 0, ..., 1, 1, 1],\n",
       "       [0, 0, 0, ..., 1, 1, 1],\n",
       "       [0, 0, 0, ..., 1, 1, 1]])"
      ]
     },
     "execution_count": 378,
     "metadata": {},
     "output_type": "execute_result"
    }
   ],
   "source": [
    "Z"
   ]
  },
  {
   "cell_type": "markdown",
   "id": "30c79315-1512-4c6b-b5ef-2a5774eb1a3e",
   "metadata": {},
   "source": [
    "#### Plotting Decision Boundary"
   ]
  },
  {
   "cell_type": "code",
   "execution_count": 379,
   "id": "8c7a08be-4f35-4446-9727-bc4953023a69",
   "metadata": {},
   "outputs": [],
   "source": [
    "x_min, x_max = X2_train[:, 0].min() - 1, X2_train[:, 0].max() + 1\n",
    "y_min, y_max = X2_train[:, 1].min() - 1, X2_train[:, 1].max() + 1\n",
    "x1grid = np.arange(x_min, x_max, 0.01)\n",
    "x2grid = np.arange(y_min, y_max, 0.01)\n",
    "xx, yy = np.meshgrid(x1grid,x2grid)\n",
    "Z = logis7.predict(np.c_[xx.ravel(), yy.ravel()])\n",
    "Z = Z.reshape(xx.shape)"
   ]
  },
  {
   "cell_type": "code",
   "execution_count": 380,
   "id": "be3d04ca-6ee4-452a-b6c0-62128e3058a6",
   "metadata": {},
   "outputs": [
    {
     "data": {
      "image/png": "[encoded data removed]",
      "text/plain": [
       "<Figure size 800x500 with 1 Axes>"
      ]
     },
     "metadata": {},
     "output_type": "display_data"
    }
   ],
   "source": [
    "plt.close('all')\n",
    "fig, (ax1) = plt.subplots(1, 1, figsize=(8, 5))\n",
    "ax1.contourf(xx, yy, Z, cmap=plt.cm.Paired)\n",
    "ax1.scatter(X2_pos[:,0], X2_pos[:,1], marker='x', s = 80, c='black')\n",
    "ax1.scatter(X2_neg[:,0], X2_neg[:,1], marker='o', s = 80, c='b')\n",
    "ax1.set_title('Classfication Data')\n",
    "ax1.set_xlabel('x0')\n",
    "ax1.set_ylabel('x1')\n",
    "plt.show()"
   ]
  },
  {
   "cell_type": "markdown",
   "id": "5781d662-02a2-413c-b6ef-44510b76691e",
   "metadata": {},
   "source": [
    "## Apply Logistics Regression for School Admission Data"
   ]
  },
  {
   "cell_type": "code",
   "execution_count": 381,
   "id": "8711dc93-4949-4075-8459-8d0be1dbdc84",
   "metadata": {},
   "outputs": [
    {
     "data": {
      "text/plain": [
       "array([[34.62365962, 78.02469282],\n",
       "       [30.28671077, 43.89499752],\n",
       "       [35.84740877, 72.90219803],\n",
       "       [60.18259939, 86.3085521 ],\n",
       "       [79.03273605, 75.34437644]])"
      ]
     },
     "execution_count": 381,
     "metadata": {},
     "output_type": "execute_result"
    }
   ],
   "source": [
    "X3_train[:5]"
   ]
  },
  {
   "cell_type": "code",
   "execution_count": 382,
   "id": "9013618d-b859-49c4-bf7e-add04192123b",
   "metadata": {},
   "outputs": [
    {
     "data": {
      "text/plain": [
       "array([[0],\n",
       "       [0],\n",
       "       [0],\n",
       "       [1],\n",
       "       [1]])"
      ]
     },
     "execution_count": 382,
     "metadata": {},
     "output_type": "execute_result"
    }
   ],
   "source": [
    "y3_train[:5]"
   ]
  },
  {
   "cell_type": "code",
   "execution_count": 383,
   "id": "eadd4dcf-bc48-485a-823c-c2d0bc514117",
   "metadata": {},
   "outputs": [],
   "source": [
    "X3_train_admitted = X3_train[y3_train.flatten() == 1]\n",
    "X3_train_NotAdmitted = X3_train[y3_train.flatten() == 0]"
   ]
  },
  {
   "cell_type": "code",
   "execution_count": 384,
   "id": "31b7f07e-91ae-4e61-bb76-037e15917864",
   "metadata": {},
   "outputs": [
    {
     "data": {
      "image/png": "[encoded data removed]",
      "text/plain": [
       "<Figure size 800x500 with 1 Axes>"
      ]
     },
     "metadata": {},
     "output_type": "display_data"
    }
   ],
   "source": [
    "plt.close('all')\n",
    "fig, (ax1) = plt.subplots(1, 1, figsize=(8, 5))\n",
    "ax1.scatter(X3_train_NotAdmitted[:,0], X3_train_NotAdmitted[:,1], marker='x', c='r', label=\"Student Not Admitted\")\n",
    "ax1.scatter(X3_train_admitted[:,0], X3_train_admitted[:,1], marker='o', c='b', label=\"Student Admitted\")\n",
    "ax1.set_title('Classfication Data')\n",
    "ax1.set_xlabel('Exam 1')\n",
    "ax1.set_ylabel('Exam 2')\n",
    "ax1.legend(loc=\"upper left\")\n",
    "plt.show()"
   ]
  },
  {
   "cell_type": "markdown",
   "id": "eb5c2085-07cb-4d4f-b6ea-b880632ac835",
   "metadata": {},
   "source": [
    "### Using Gradient Descent Logistics Regression"
   ]
  },
  {
   "cell_type": "code",
   "execution_count": 385,
   "id": "1a5a4fbd-262d-4c15-b725-394b0aa48065",
   "metadata": {},
   "outputs": [
    {
     "data": {
      "text/plain": [
       "array([[34.62365962, 78.02469282],\n",
       "       [30.28671077, 43.89499752],\n",
       "       [35.84740877, 72.90219803],\n",
       "       [60.18259939, 86.3085521 ],\n",
       "       [79.03273605, 75.34437644]])"
      ]
     },
     "execution_count": 385,
     "metadata": {},
     "output_type": "execute_result"
    }
   ],
   "source": [
    "X3_train[:5]"
   ]
  },
  {
   "cell_type": "code",
   "execution_count": 386,
   "id": "1ed53914-fba4-42cf-a008-2a154acb4a77",
   "metadata": {},
   "outputs": [
    {
     "data": {
      "text/plain": [
       "array([[0],\n",
       "       [0],\n",
       "       [0],\n",
       "       [1],\n",
       "       [1]])"
      ]
     },
     "execution_count": 386,
     "metadata": {},
     "output_type": "execute_result"
    }
   ],
   "source": [
    "y3_train[:5]"
   ]
  },
  {
   "cell_type": "code",
   "execution_count": 387,
   "id": "9e684b9e-f9de-458c-9941-14df0d587d1d",
   "metadata": {},
   "outputs": [],
   "source": [
    "initial_b = -8\n",
    "alpha = 0.001"
   ]
  },
  {
   "cell_type": "code",
   "execution_count": 388,
   "id": "38a3fad0-60a3-461f-8b19-c7b83f908aec",
   "metadata": {},
   "outputs": [
    {
     "name": "stdout",
     "output_type": "stream",
     "text": [
      "iteration 0: cost = 1.0071e+00: intercept = -7.9994e+00: weights = [[0.04480934 0.04435163]]\n",
      "iteration 1000: cost = 3.0509e-01: intercept = -8.0183e+00: weights = [[0.0699251  0.06348073]]\n",
      "iteration 2000: cost = 3.0472e-01: intercept = -8.0375e+00: weights = [[0.07007458 0.06363247]]\n",
      "iteration 3000: cost = 3.0436e-01: intercept = -8.0566e+00: weights = [[0.07022359 0.06378372]]\n",
      "iteration 4000: cost = 3.0400e-01: intercept = -8.0757e+00: weights = [[0.07037213 0.06393448]]\n",
      "iteration 5000: cost = 3.0363e-01: intercept = -8.0946e+00: weights = [[0.07052019 0.06408475]]\n",
      "iteration 6000: cost = 3.0328e-01: intercept = -8.1136e+00: weights = [[0.0706678  0.06423454]]\n",
      "iteration 7000: cost = 3.0292e-01: intercept = -8.1324e+00: weights = [[0.07081494 0.06438386]]\n",
      "iteration 8000: cost = 3.0257e-01: intercept = -8.1512e+00: weights = [[0.07096163 0.0645327 ]]\n",
      "iteration 9000: cost = 3.0222e-01: intercept = -8.1700e+00: weights = [[0.07110786 0.06468106]]\n",
      "iteration 9999: Last cost = 3.0187e-01: intercept = -8.1886e+00: weights = [[0.07125349 0.06482881]]\n",
      "best w [0.0713 0.0648]\n",
      "best b -8.1886\n"
     ]
    }
   ],
   "source": [
    "coef9, intercept9, _, _, _ = compute_gradient_descent_beta(X3_train ,y3_train, gradient_function=compute_logistic_gradient_beta, \n",
    "                                                           cost_function=compute_logistic_cost_beta, init_intercept=initial_b, alpha = alpha, \n",
    "                                                           printProgress=True)"
   ]
  },
  {
   "cell_type": "code",
   "execution_count": 389,
   "id": "cee35e6b-1e5f-4903-af06-18fe53c9cbf1",
   "metadata": {},
   "outputs": [
    {
     "name": "stdout",
     "output_type": "stream",
     "text": [
      "Train Accuracy: 92.000000\n"
     ]
    }
   ],
   "source": [
    "#Compute accuracy on our training set\n",
    "y_hat9 = predict_logistic_beta(X3_train, coef9, intercept9)\n",
    "print('Train Accuracy: %f'%(np.mean(y_hat9 == y3_train) * 100))"
   ]
  },
  {
   "cell_type": "markdown",
   "id": "ac8c0d7d-f50e-414f-a89f-32ddcc17ea2d",
   "metadata": {},
   "source": [
    "<details>\n",
    "<summary>\n",
    "    <b>Train Accuracy (approx):</b>\n",
    "</summary>\n",
    "\n",
    "92.00\n"
   ]
  },
  {
   "cell_type": "markdown",
   "id": "38926ef1-7dcb-462b-85b5-ff59bbf200fd",
   "metadata": {},
   "source": [
    "### Using SciKit Learn Logistics Regression"
   ]
  },
  {
   "cell_type": "markdown",
   "id": "e8567188-8806-4773-9d9f-ff9217f66f27",
   "metadata": {},
   "source": [
    "#### Using `lbfgs` Solver"
   ]
  },
  {
   "cell_type": "code",
   "execution_count": 390,
   "id": "add72b0c-4a6d-4847-9c7e-4211e7b878d2",
   "metadata": {},
   "outputs": [],
   "source": [
    "logisModel10 = LogisticRegression(penalty=None)\n",
    "logis10 = logisModel10.fit(X3_train, y3_train.reshape(-1,))"
   ]
  },
  {
   "cell_type": "code",
   "execution_count": 391,
   "id": "c0c6fe00-20b2-4070-a930-2324bbf4fdc7",
   "metadata": {},
   "outputs": [
    {
     "name": "stdout",
     "output_type": "stream",
     "text": [
      "Intercept: [-25.16138567]\n",
      "Coefficient: [[0.20623222 0.20147191]]\n"
     ]
    }
   ],
   "source": [
    "print('Intercept:',logis10.intercept_)\n",
    "print('Coefficient:',logis10.coef_)"
   ]
  },
  {
   "cell_type": "code",
   "execution_count": 392,
   "id": "8576d70e-2953-456f-ac07-d607b09dd14a",
   "metadata": {},
   "outputs": [],
   "source": [
    "y_hat10 = logis10.predict(X3_train)"
   ]
  },
  {
   "cell_type": "code",
   "execution_count": 393,
   "id": "d26f388d-bbae-417e-add6-cec86cc8e4f6",
   "metadata": {},
   "outputs": [
    {
     "name": "stdout",
     "output_type": "stream",
     "text": [
      "Train Accuracy: 50.000000\n"
     ]
    }
   ],
   "source": [
    "print('Train Accuracy: %f'%(np.mean(y_hat1 == np.array(y3_train)) * 100))"
   ]
  },
  {
   "cell_type": "code",
   "execution_count": 394,
   "id": "a1ccd93d-d100-43a6-b898-09b9c4682b82",
   "metadata": {},
   "outputs": [
    {
     "data": {
      "text/plain": [
       "(100,)"
      ]
     },
     "execution_count": 394,
     "metadata": {},
     "output_type": "execute_result"
    }
   ],
   "source": [
    "y_hat10.shape"
   ]
  },
  {
   "cell_type": "code",
   "execution_count": 395,
   "id": "201ee563-6480-4641-ad48-fb499d64db66",
   "metadata": {},
   "outputs": [
    {
     "data": {
      "text/plain": [
       "(100, 1)"
      ]
     },
     "execution_count": 395,
     "metadata": {},
     "output_type": "execute_result"
    }
   ],
   "source": [
    "y3_train.shape"
   ]
  },
  {
   "cell_type": "markdown",
   "id": "76273f52-dba0-4880-904f-e12ec77febf2",
   "metadata": {},
   "source": [
    "**Again, we have the problem of working on 1D array with 2D array. In this case, since `y_hat` is the result from SciKit Learn, we will change y3_train to 1D array.**"
   ]
  },
  {
   "cell_type": "code",
   "execution_count": 396,
   "id": "973149e3-6950-4621-be2f-d59f84ac735f",
   "metadata": {},
   "outputs": [
    {
     "name": "stdout",
     "output_type": "stream",
     "text": [
      "Train Accuracy: 89.000000\n"
     ]
    }
   ],
   "source": [
    "print('Train Accuracy: %f'%(np.mean(y_hat10 == np.array(y3_train.flatten())) * 100))"
   ]
  },
  {
   "cell_type": "code",
   "execution_count": 397,
   "id": "07705716-55d8-4c2d-a6a2-dfb411a24c92",
   "metadata": {},
   "outputs": [
    {
     "data": {
      "text/plain": [
       "0.89"
      ]
     },
     "execution_count": 397,
     "metadata": {},
     "output_type": "execute_result"
    }
   ],
   "source": [
    "logis10.score(X3_train, y3_train)"
   ]
  },
  {
   "cell_type": "markdown",
   "id": "8a383cc4-0f8c-4f61-87c9-f0d3be115c60",
   "metadata": {},
   "source": [
    "<details>\n",
    "<summary>\n",
    "    <b>Train Accuracy (approx):</b>\n",
    "</summary>\n",
    "\n",
    "92.00"
   ]
  },
  {
   "cell_type": "markdown",
   "id": "b7bfc699-92f5-482a-b769-1ca29591cc14",
   "metadata": {},
   "source": [
    "#### Using `sag` Solver"
   ]
  },
  {
   "cell_type": "code",
   "execution_count": 398,
   "id": "a72d2875-2cb9-44d1-a4db-68439af2752a",
   "metadata": {},
   "outputs": [],
   "source": [
    "logisModel11 = LogisticRegression(penalty=None, solver='sag', max_iter=20000)\n",
    "logis11 = logisModel11.fit(X3_train, y3_train.reshape(-1,))"
   ]
  },
  {
   "cell_type": "code",
   "execution_count": 399,
   "id": "33a16f90-d564-40ee-b774-af7c942d5e55",
   "metadata": {},
   "outputs": [
    {
     "name": "stdout",
     "output_type": "stream",
     "text": [
      "Intercept: [-5.04447741]\n",
      "Coefficient: [[0.04703875 0.04002078]]\n"
     ]
    }
   ],
   "source": [
    "print('Intercept:',logis11.intercept_)\n",
    "print('Coefficient:',logis11.coef_)"
   ]
  },
  {
   "cell_type": "code",
   "execution_count": 400,
   "id": "4d877f88-7876-4e49-ba44-a1d1d6590de0",
   "metadata": {},
   "outputs": [],
   "source": [
    "y_hat11 = logis11.predict(X3_train)"
   ]
  },
  {
   "cell_type": "code",
   "execution_count": 401,
   "id": "9bba7ec2-9f9c-4ef7-8f0a-431f3d2926f5",
   "metadata": {},
   "outputs": [
    {
     "name": "stdout",
     "output_type": "stream",
     "text": [
      "Train Accuracy: 91.000000\n"
     ]
    }
   ],
   "source": [
    "print('Train Accuracy: %f'%(np.mean(y_hat11 == np.array(y3_train.flatten())) * 100))"
   ]
  },
  {
   "cell_type": "code",
   "execution_count": 402,
   "id": "9da84776-7914-4157-879e-cc5df7f11af2",
   "metadata": {},
   "outputs": [
    {
     "data": {
      "text/plain": [
       "0.91"
      ]
     },
     "execution_count": 402,
     "metadata": {},
     "output_type": "execute_result"
    }
   ],
   "source": [
    "logis11.score(X3_train, y3_train)"
   ]
  },
  {
   "cell_type": "markdown",
   "id": "c86659fd-1830-4255-9b89-8fa465ab6e37",
   "metadata": {},
   "source": [
    "<details>\n",
    "<summary>\n",
    "    <b>Train Accuracy (approx):</b>\n",
    "</summary>\n",
    "\n",
    "92.00"
   ]
  },
  {
   "cell_type": "markdown",
   "id": "8b6fc8d6-e51e-4cc0-aa30-6c1b75a3a1c5",
   "metadata": {},
   "source": [
    "After some experiment, solver `sag` or `saga` have better accuracy."
   ]
  },
  {
   "cell_type": "markdown",
   "id": "85c2ff9a-7be0-4405-bbf5-819d137d60cd",
   "metadata": {},
   "source": [
    "### Plotting Decision Boundary"
   ]
  },
  {
   "cell_type": "code",
   "execution_count": 403,
   "id": "6f463d37-752c-477e-bb7b-660cfeaaf39b",
   "metadata": {},
   "outputs": [],
   "source": [
    "x_min, x_max = X3_train[:, 0].min() - 1, X3_train[:, 0].max() + 1\n",
    "y_min, y_max = X3_train[:, 1].min() - 1, X3_train[:, 1].max() + 1\n",
    "x1grid = np.arange(x_min, x_max, 0.1)\n",
    "x2grid = np.arange(y_min, y_max, 0.1)\n",
    "xx, yy = np.meshgrid(x1grid,x2grid)\n",
    "Z = logis11.predict(np.c_[xx.ravel(), yy.ravel()])\n",
    "Z = Z.reshape(xx.shape)"
   ]
  },
  {
   "cell_type": "code",
   "execution_count": 404,
   "id": "ece5450d-7add-42c4-a4a6-cb92f0baff1a",
   "metadata": {},
   "outputs": [
    {
     "data": {
      "image/png": "[encoded data removed]",
      "text/plain": [
       "<Figure size 800x500 with 1 Axes>"
      ]
     },
     "metadata": {},
     "output_type": "display_data"
    }
   ],
   "source": [
    "plt.close('all')\n",
    "fig, (ax1) = plt.subplots(1, 1, figsize=(8, 5))\n",
    "ax1.contourf(xx, yy, Z, cmap=plt.cm.Paired)\n",
    "ax1.scatter(X3_train_NotAdmitted[:,0], X3_train_NotAdmitted[:,1], marker='x', c='black', label=\"Student Not Admitted\")\n",
    "ax1.scatter(X3_train_admitted[:,0], X3_train_admitted[:,1], marker='o', c='b', label=\"Student Admitted\")\n",
    "ax1.set_title('Classfication Data')\n",
    "ax1.set_xlabel('Exam 1')\n",
    "ax1.set_ylabel('Exam 2')\n",
    "ax1.legend(loc=\"upper left\")\n",
    "plt.show()"
   ]
  },
  {
   "cell_type": "markdown",
   "id": "52a1356a-7935-4c40-add5-bba09706e501",
   "metadata": {},
   "source": [
    "## Apply Non_linear Logistics Regression with Pipeline"
   ]
  },
  {
   "cell_type": "code",
   "execution_count": 405,
   "id": "e683e174",
   "metadata": {},
   "outputs": [
    {
     "data": {
      "image/png": "[encoded data removed]",
      "text/plain": [
       "<Figure size 640x480 with 1 Axes>"
      ]
     },
     "metadata": {},
     "output_type": "display_data"
    }
   ],
   "source": [
    "np.random.seed(3)\n",
    "X, y = make_gaussian_quantiles(n_samples=100, n_features=2, n_classes=2)\n",
    "plt.scatter(X[:, 0], X[:, 1], marker=\"o\", c=y, s=25, edgecolor='k')\n",
    "plt.show()"
   ]
  },
  {
   "cell_type": "code",
   "execution_count": 406,
   "id": "b1858ffc-77bd-4722-a63f-b985fcb01f89",
   "metadata": {},
   "outputs": [
    {
     "data": {
      "text/plain": [
       "(100, 2)"
      ]
     },
     "execution_count": 406,
     "metadata": {},
     "output_type": "execute_result"
    }
   ],
   "source": [
    "X.shape"
   ]
  },
  {
   "cell_type": "markdown",
   "id": "3b9a86a0-1ecf-424b-a202-7bf4572954e1",
   "metadata": {},
   "source": [
    "### Logistic Regression without Polynomial Features"
   ]
  },
  {
   "cell_type": "code",
   "execution_count": 407,
   "id": "cf805a27-f068-4ef4-9692-b19eeeda4478",
   "metadata": {},
   "outputs": [
    {
     "data": {
      "text/html": [
       "<style>#sk-container-id-4 {color: black;background-color: white;}#sk-container-id-4 pre{padding: 0;}#sk-container-id-4 div.sk-toggleable {background-color: white;}#sk-container-id-4 label.sk-toggleable__label {cursor: pointer;display: block;width: 100%;margin-bottom: 0;padding: 0.3em;box-sizing: border-box;text-align: center;}#sk-container-id-4 label.sk-toggleable__label-arrow:before {content: \"▸\";float: left;margin-right: 0.25em;color: #696969;}#sk-container-id-4 label.sk-toggleable__label-arrow:hover:before {color: black;}#sk-container-id-4 div.sk-estimator:hover label.sk-toggleable__label-arrow:before {color: black;}#sk-container-id-4 div.sk-toggleable__content {max-height: 0;max-width: 0;overflow: hidden;text-align: left;background-color: #f0f8ff;}#sk-container-id-4 div.sk-toggleable__content pre {margin: 0.2em;color: black;border-radius: 0.25em;background-color: #f0f8ff;}#sk-container-id-4 input.sk-toggleable__control:checked~div.sk-toggleable__content {max-height: 200px;max-width: 100%;overflow: auto;}#sk-container-id-4 input.sk-toggleable__control:checked~label.sk-toggleable__label-arrow:before {content: \"▾\";}#sk-container-id-4 div.sk-estimator input.sk-toggleable__control:checked~label.sk-toggleable__label {background-color: #d4ebff;}#sk-container-id-4 div.sk-label input.sk-toggleable__control:checked~label.sk-toggleable__label {background-color: #d4ebff;}#sk-container-id-4 input.sk-hidden--visually {border: 0;clip: rect(1px 1px 1px 1px);clip: rect(1px, 1px, 1px, 1px);height: 1px;margin: -1px;overflow: hidden;padding: 0;position: absolute;width: 1px;}#sk-container-id-4 div.sk-estimator {font-family: monospace;background-color: #f0f8ff;border: 1px dotted black;border-radius: 0.25em;box-sizing: border-box;margin-bottom: 0.5em;}#sk-container-id-4 div.sk-estimator:hover {background-color: #d4ebff;}#sk-container-id-4 div.sk-parallel-item::after {content: \"\";width: 100%;border-bottom: 1px solid gray;flex-grow: 1;}#sk-container-id-4 div.sk-label:hover label.sk-toggleable__label {background-color: #d4ebff;}#sk-container-id-4 div.sk-serial::before {content: \"\";position: absolute;border-left: 1px solid gray;box-sizing: border-box;top: 0;bottom: 0;left: 50%;z-index: 0;}#sk-container-id-4 div.sk-serial {display: flex;flex-direction: column;align-items: center;background-color: white;padding-right: 0.2em;padding-left: 0.2em;position: relative;}#sk-container-id-4 div.sk-item {position: relative;z-index: 1;}#sk-container-id-4 div.sk-parallel {display: flex;align-items: stretch;justify-content: center;background-color: white;position: relative;}#sk-container-id-4 div.sk-item::before, #sk-container-id-4 div.sk-parallel-item::before {content: \"\";position: absolute;border-left: 1px solid gray;box-sizing: border-box;top: 0;bottom: 0;left: 50%;z-index: -1;}#sk-container-id-4 div.sk-parallel-item {display: flex;flex-direction: column;z-index: 1;position: relative;background-color: white;}#sk-container-id-4 div.sk-parallel-item:first-child::after {align-self: flex-end;width: 50%;}#sk-container-id-4 div.sk-parallel-item:last-child::after {align-self: flex-start;width: 50%;}#sk-container-id-4 div.sk-parallel-item:only-child::after {width: 0;}#sk-container-id-4 div.sk-dashed-wrapped {border: 1px dashed gray;margin: 0 0.4em 0.5em 0.4em;box-sizing: border-box;padding-bottom: 0.4em;background-color: white;}#sk-container-id-4 div.sk-label label {font-family: monospace;font-weight: bold;display: inline-block;line-height: 1.2em;}#sk-container-id-4 div.sk-label-container {text-align: center;}#sk-container-id-4 div.sk-container {/* jupyter's `normalize.less` sets `[hidden] { display: none; }` but bootstrap.min.css set `[hidden] { display: none !important; }` so we also need the `!important` here to be able to override the default hidden behavior on the sphinx rendered scikit-learn.org. See: https://github.com/scikit-learn/scikit-learn/issues/21755 */display: inline-block !important;position: relative;}#sk-container-id-4 div.sk-text-repr-fallback {display: none;}</style><div id=\"sk-container-id-4\" class=\"sk-top-container\"><div class=\"sk-text-repr-fallback\"><pre>Pipeline(steps=[(&#x27;poly&#x27;, PolynomialFeatures(degree=1, include_bias=False)),\n",
       "                (&#x27;scaler&#x27;, StandardScaler()),\n",
       "                (&#x27;model&#x27;, LogisticRegression(max_iter=10000, penalty=None))])</pre><b>In a Jupyter environment, please rerun this cell to show the HTML representation or trust the notebook. <br />On GitHub, the HTML representation is unable to render, please try loading this page with nbviewer.org.</b></div><div class=\"sk-container\" hidden><div class=\"sk-item sk-dashed-wrapped\"><div class=\"sk-label-container\"><div class=\"sk-label sk-toggleable\"><input class=\"sk-toggleable__control sk-hidden--visually\" id=\"sk-estimator-id-10\" type=\"checkbox\" ><label for=\"sk-estimator-id-10\" class=\"sk-toggleable__label sk-toggleable__label-arrow\">Pipeline</label><div class=\"sk-toggleable__content\"><pre>Pipeline(steps=[(&#x27;poly&#x27;, PolynomialFeatures(degree=1, include_bias=False)),\n",
       "                (&#x27;scaler&#x27;, StandardScaler()),\n",
       "                (&#x27;model&#x27;, LogisticRegression(max_iter=10000, penalty=None))])</pre></div></div></div><div class=\"sk-serial\"><div class=\"sk-item\"><div class=\"sk-estimator sk-toggleable\"><input class=\"sk-toggleable__control sk-hidden--visually\" id=\"sk-estimator-id-11\" type=\"checkbox\" ><label for=\"sk-estimator-id-11\" class=\"sk-toggleable__label sk-toggleable__label-arrow\">PolynomialFeatures</label><div class=\"sk-toggleable__content\"><pre>PolynomialFeatures(degree=1, include_bias=False)</pre></div></div></div><div class=\"sk-item\"><div class=\"sk-estimator sk-toggleable\"><input class=\"sk-toggleable__control sk-hidden--visually\" id=\"sk-estimator-id-12\" type=\"checkbox\" ><label for=\"sk-estimator-id-12\" class=\"sk-toggleable__label sk-toggleable__label-arrow\">StandardScaler</label><div class=\"sk-toggleable__content\"><pre>StandardScaler()</pre></div></div></div><div class=\"sk-item\"><div class=\"sk-estimator sk-toggleable\"><input class=\"sk-toggleable__control sk-hidden--visually\" id=\"sk-estimator-id-13\" type=\"checkbox\" ><label for=\"sk-estimator-id-13\" class=\"sk-toggleable__label sk-toggleable__label-arrow\">LogisticRegression</label><div class=\"sk-toggleable__content\"><pre>LogisticRegression(max_iter=10000, penalty=None)</pre></div></div></div></div></div></div></div>"
      ],
      "text/plain": [
       "Pipeline(steps=[('poly', PolynomialFeatures(degree=1, include_bias=False)),\n",
       "                ('scaler', StandardScaler()),\n",
       "                ('model', LogisticRegression(max_iter=10000, penalty=None))])"
      ]
     },
     "execution_count": 407,
     "metadata": {},
     "output_type": "execute_result"
    }
   ],
   "source": [
    "degree = 1\n",
    "stepsLinearLogisticsRegression = [\n",
    "    ('poly', PolynomialFeatures(degree=degree, include_bias=False)),\n",
    "    ('scaler', StandardScaler()),\n",
    "    ('model', LogisticRegression(penalty=None, solver='lbfgs', max_iter=10000))\n",
    "]\n",
    "\n",
    "losPipe1 = Pipeline(stepsLinearLogisticsRegression)\n",
    "\n",
    "losPipe1.fit(X, y)"
   ]
  },
  {
   "cell_type": "code",
   "execution_count": 408,
   "id": "ce998f6a-5673-4516-b2ac-a4576798df72",
   "metadata": {},
   "outputs": [
    {
     "data": {
      "text/plain": [
       "0.51"
      ]
     },
     "execution_count": 408,
     "metadata": {},
     "output_type": "execute_result"
    }
   ],
   "source": [
    "losPipe1.score(X, y)"
   ]
  },
  {
   "cell_type": "code",
   "execution_count": 409,
   "id": "89c7c401-9f36-48f6-9e11-5eeefe5ec7b1",
   "metadata": {},
   "outputs": [],
   "source": [
    "x_min, x_max = X[:, 0].min() - 1, X[:, 0].max() + 1\n",
    "y_min, y_max = X[:, 1].min() - 1, X[:, 1].max() + 1\n",
    "x1grid = np.arange(x_min, x_max, 0.01)\n",
    "x2grid = np.arange(y_min, y_max, 0.01)\n",
    "xx, yy = np.meshgrid(x1grid,x2grid)\n",
    "Z = losPipe1.predict(np.c_[xx.ravel(), yy.ravel()])\n",
    "Z = Z.reshape(xx.shape)"
   ]
  },
  {
   "cell_type": "code",
   "execution_count": 410,
   "id": "844644d7",
   "metadata": {},
   "outputs": [
    {
     "data": {
      "image/png": "[encoded data removed]",
      "text/plain": [
       "<Figure size 800x500 with 1 Axes>"
      ]
     },
     "metadata": {},
     "output_type": "display_data"
    }
   ],
   "source": [
    "plt.close('all')\n",
    "fig, (ax1) = plt.subplots(1, 1, figsize=(8, 5))\n",
    "ax1.contourf(xx, yy, Z, cmap=plt.cm.Paired)\n",
    "plt.scatter(X[:, 0], X[:, 1], marker=\"o\", c=y, s=25, edgecolor='k')\n",
    "ax1.set_title('Classfication Data')\n",
    "ax1.set_xlabel('x0')\n",
    "ax1.set_ylabel('x1')\n",
    "plt.show()"
   ]
  },
  {
   "cell_type": "markdown",
   "id": "40225f96-3c49-4ad2-9dbf-0766ceefcd75",
   "metadata": {},
   "source": [
    "### Logistic Regression with Polynomial Features (MinMaxScaler)"
   ]
  },
  {
   "cell_type": "code",
   "execution_count": 411,
   "id": "5fcefbe1-cf8e-4fc7-9627-dbf9434ca5a3",
   "metadata": {},
   "outputs": [
    {
     "data": {
      "text/html": [
       "<style>#sk-container-id-5 {color: black;background-color: white;}#sk-container-id-5 pre{padding: 0;}#sk-container-id-5 div.sk-toggleable {background-color: white;}#sk-container-id-5 label.sk-toggleable__label {cursor: pointer;display: block;width: 100%;margin-bottom: 0;padding: 0.3em;box-sizing: border-box;text-align: center;}#sk-container-id-5 label.sk-toggleable__label-arrow:before {content: \"▸\";float: left;margin-right: 0.25em;color: #696969;}#sk-container-id-5 label.sk-toggleable__label-arrow:hover:before {color: black;}#sk-container-id-5 div.sk-estimator:hover label.sk-toggleable__label-arrow:before {color: black;}#sk-container-id-5 div.sk-toggleable__content {max-height: 0;max-width: 0;overflow: hidden;text-align: left;background-color: #f0f8ff;}#sk-container-id-5 div.sk-toggleable__content pre {margin: 0.2em;color: black;border-radius: 0.25em;background-color: #f0f8ff;}#sk-container-id-5 input.sk-toggleable__control:checked~div.sk-toggleable__content {max-height: 200px;max-width: 100%;overflow: auto;}#sk-container-id-5 input.sk-toggleable__control:checked~label.sk-toggleable__label-arrow:before {content: \"▾\";}#sk-container-id-5 div.sk-estimator input.sk-toggleable__control:checked~label.sk-toggleable__label {background-color: #d4ebff;}#sk-container-id-5 div.sk-label input.sk-toggleable__control:checked~label.sk-toggleable__label {background-color: #d4ebff;}#sk-container-id-5 input.sk-hidden--visually {border: 0;clip: rect(1px 1px 1px 1px);clip: rect(1px, 1px, 1px, 1px);height: 1px;margin: -1px;overflow: hidden;padding: 0;position: absolute;width: 1px;}#sk-container-id-5 div.sk-estimator {font-family: monospace;background-color: #f0f8ff;border: 1px dotted black;border-radius: 0.25em;box-sizing: border-box;margin-bottom: 0.5em;}#sk-container-id-5 div.sk-estimator:hover {background-color: #d4ebff;}#sk-container-id-5 div.sk-parallel-item::after {content: \"\";width: 100%;border-bottom: 1px solid gray;flex-grow: 1;}#sk-container-id-5 div.sk-label:hover label.sk-toggleable__label {background-color: #d4ebff;}#sk-container-id-5 div.sk-serial::before {content: \"\";position: absolute;border-left: 1px solid gray;box-sizing: border-box;top: 0;bottom: 0;left: 50%;z-index: 0;}#sk-container-id-5 div.sk-serial {display: flex;flex-direction: column;align-items: center;background-color: white;padding-right: 0.2em;padding-left: 0.2em;position: relative;}#sk-container-id-5 div.sk-item {position: relative;z-index: 1;}#sk-container-id-5 div.sk-parallel {display: flex;align-items: stretch;justify-content: center;background-color: white;position: relative;}#sk-container-id-5 div.sk-item::before, #sk-container-id-5 div.sk-parallel-item::before {content: \"\";position: absolute;border-left: 1px solid gray;box-sizing: border-box;top: 0;bottom: 0;left: 50%;z-index: -1;}#sk-container-id-5 div.sk-parallel-item {display: flex;flex-direction: column;z-index: 1;position: relative;background-color: white;}#sk-container-id-5 div.sk-parallel-item:first-child::after {align-self: flex-end;width: 50%;}#sk-container-id-5 div.sk-parallel-item:last-child::after {align-self: flex-start;width: 50%;}#sk-container-id-5 div.sk-parallel-item:only-child::after {width: 0;}#sk-container-id-5 div.sk-dashed-wrapped {border: 1px dashed gray;margin: 0 0.4em 0.5em 0.4em;box-sizing: border-box;padding-bottom: 0.4em;background-color: white;}#sk-container-id-5 div.sk-label label {font-family: monospace;font-weight: bold;display: inline-block;line-height: 1.2em;}#sk-container-id-5 div.sk-label-container {text-align: center;}#sk-container-id-5 div.sk-container {/* jupyter's `normalize.less` sets `[hidden] { display: none; }` but bootstrap.min.css set `[hidden] { display: none !important; }` so we also need the `!important` here to be able to override the default hidden behavior on the sphinx rendered scikit-learn.org. See: https://github.com/scikit-learn/scikit-learn/issues/21755 */display: inline-block !important;position: relative;}#sk-container-id-5 div.sk-text-repr-fallback {display: none;}</style><div id=\"sk-container-id-5\" class=\"sk-top-container\"><div class=\"sk-text-repr-fallback\"><pre>Pipeline(steps=[(&#x27;poly&#x27;, PolynomialFeatures(degree=25, include_bias=False)),\n",
       "                (&#x27;scaler&#x27;, MinMaxScaler()),\n",
       "                (&#x27;model&#x27;, LogisticRegression(max_iter=10000, penalty=None))])</pre><b>In a Jupyter environment, please rerun this cell to show the HTML representation or trust the notebook. <br />On GitHub, the HTML representation is unable to render, please try loading this page with nbviewer.org.</b></div><div class=\"sk-container\" hidden><div class=\"sk-item sk-dashed-wrapped\"><div class=\"sk-label-container\"><div class=\"sk-label sk-toggleable\"><input class=\"sk-toggleable__control sk-hidden--visually\" id=\"sk-estimator-id-14\" type=\"checkbox\" ><label for=\"sk-estimator-id-14\" class=\"sk-toggleable__label sk-toggleable__label-arrow\">Pipeline</label><div class=\"sk-toggleable__content\"><pre>Pipeline(steps=[(&#x27;poly&#x27;, PolynomialFeatures(degree=25, include_bias=False)),\n",
       "                (&#x27;scaler&#x27;, MinMaxScaler()),\n",
       "                (&#x27;model&#x27;, LogisticRegression(max_iter=10000, penalty=None))])</pre></div></div></div><div class=\"sk-serial\"><div class=\"sk-item\"><div class=\"sk-estimator sk-toggleable\"><input class=\"sk-toggleable__control sk-hidden--visually\" id=\"sk-estimator-id-15\" type=\"checkbox\" ><label for=\"sk-estimator-id-15\" class=\"sk-toggleable__label sk-toggleable__label-arrow\">PolynomialFeatures</label><div class=\"sk-toggleable__content\"><pre>PolynomialFeatures(degree=25, include_bias=False)</pre></div></div></div><div class=\"sk-item\"><div class=\"sk-estimator sk-toggleable\"><input class=\"sk-toggleable__control sk-hidden--visually\" id=\"sk-estimator-id-16\" type=\"checkbox\" ><label for=\"sk-estimator-id-16\" class=\"sk-toggleable__label sk-toggleable__label-arrow\">MinMaxScaler</label><div class=\"sk-toggleable__content\"><pre>MinMaxScaler()</pre></div></div></div><div class=\"sk-item\"><div class=\"sk-estimator sk-toggleable\"><input class=\"sk-toggleable__control sk-hidden--visually\" id=\"sk-estimator-id-17\" type=\"checkbox\" ><label for=\"sk-estimator-id-17\" class=\"sk-toggleable__label sk-toggleable__label-arrow\">LogisticRegression</label><div class=\"sk-toggleable__content\"><pre>LogisticRegression(max_iter=10000, penalty=None)</pre></div></div></div></div></div></div></div>"
      ],
      "text/plain": [
       "Pipeline(steps=[('poly', PolynomialFeatures(degree=25, include_bias=False)),\n",
       "                ('scaler', MinMaxScaler()),\n",
       "                ('model', LogisticRegression(max_iter=10000, penalty=None))])"
      ]
     },
     "execution_count": 411,
     "metadata": {},
     "output_type": "execute_result"
    }
   ],
   "source": [
    "degree = 25\n",
    "stepsLogisticsRegression = [\n",
    "    ('poly', PolynomialFeatures(degree=degree, include_bias=False)),\n",
    "    ('scaler', MinMaxScaler()),\n",
    "    ('model', LogisticRegression(penalty=None, solver='lbfgs', max_iter=10000))\n",
    "]\n",
    "\n",
    "losPipe2 = Pipeline(stepsLogisticsRegression)\n",
    "\n",
    "losPipe2.fit(X, y)"
   ]
  },
  {
   "cell_type": "code",
   "execution_count": 412,
   "id": "181da08e-ca03-41c6-b3ed-9d0603656adb",
   "metadata": {
    "scrolled": true
   },
   "outputs": [
    {
     "data": {
      "text/plain": [
       "array([[-1.58851958e+02,  2.22144576e+02,  1.91792661e+03,\n",
       "         5.05825246e+02,  1.68130678e+03, -4.35251223e+01,\n",
       "         1.07909536e+02, -1.89064530e+02, -9.80495560e+01,\n",
       "         6.64738193e+02,  1.40149668e+02,  1.07680985e+03,\n",
       "         7.73955425e+01,  7.60337708e+02,  9.20833900e-01,\n",
       "         3.04874693e+01, -2.51630938e+01, -9.35186263e+01,\n",
       "        -8.11070593e+01, -7.80281901e+01,  3.07753141e+02,\n",
       "         1.04199005e+02,  2.56157600e+02,  4.80195342e+00,\n",
       "         5.28610625e+02,  7.05020393e+01,  3.64106104e+02,\n",
       "         1.24907821e+01,  2.32287750e-01, -9.62880430e+00,\n",
       "        -1.47378163e+01, -5.57488153e+01, -6.76135421e+01,\n",
       "        -3.89306212e+01, -4.46168156e+01,  2.00705992e+02,\n",
       "         9.62159857e+01,  1.23411669e+02,  5.43841830e+01,\n",
       "         2.47899354e+02,  1.70341559e+01,  1.96762802e+02,\n",
       "         7.51939428e+01,  2.06097440e+02,  1.66709657e+01,\n",
       "        -6.71463612e+00, -5.79903841e+00, -7.75691790e+00,\n",
       "        -1.44037256e+01, -7.10914893e+01, -2.21214124e+01,\n",
       "        -3.25923997e+01, -1.66860817e+01, -2.37601230e+01,\n",
       "         1.59943592e+02,  9.27744349e+01,  9.78485165e+01,\n",
       "         7.70511612e+01,  1.06590574e+02,  3.93984972e+01,\n",
       "         2.77083153e+02,  5.21355284e+01,  1.15892656e+02,\n",
       "         7.72668941e+01,  1.38568841e+02,  1.84496935e+01,\n",
       "        -6.51456811e+00, -3.10880355e+00, -4.47086114e+00,\n",
       "        -8.11314103e+00, -2.09126251e+01, -3.71823240e+01,\n",
       "        -5.40104482e+01, -3.88255921e+00, -1.48135806e+01,\n",
       "        -4.39967261e+00, -1.18804111e+01,  1.39883276e+02,\n",
       "         9.08610643e+01,  9.22027330e+01,  8.50922669e+01,\n",
       "         8.92319614e+01,  6.80672253e+01,  1.09798917e+02,\n",
       "         5.68128230e+01,  1.25817517e+02,  6.81543392e+01,\n",
       "         9.24216135e+01,  7.85298528e+01,  1.07788524e+02,\n",
       "         1.88295710e+01, -4.86694433e+00, -1.33494404e+00,\n",
       "        -2.09724119e+00, -4.17023847e+00, -9.31997417e+00,\n",
       "        -1.41457967e+01, -4.37968482e+01, -3.85598575e+01,\n",
       "        -1.63547803e+01,  2.32423360e+00, -5.34706612e+00,\n",
       "         2.22788641e+00, -5.00831280e+00,  1.27903527e+02,\n",
       "         8.98188379e+01,  9.08034217e+01,  8.80099227e+01,\n",
       "         8.80302823e+01,  8.10114290e+01,  8.55522805e+01,\n",
       "         6.10184785e+01,  1.57451478e+02,  6.09486168e+01,\n",
       "         9.30852818e+01,  7.43497349e+01,  8.47482132e+01,\n",
       "         7.96309323e+01,  9.31912554e+01,  1.82623360e+01,\n",
       "        -3.33460947e+00, -2.77597127e-01, -6.72074640e-01,\n",
       "        -1.72498437e+00, -4.10077795e+00, -6.94679933e+00,\n",
       "        -1.53565654e+01, -2.95249393e+01, -6.65979950e+01,\n",
       "        -4.58168493e+00, -3.64447512e+00,  5.20218089e+00,\n",
       "         8.94306810e-02,  5.72728658e+00, -8.39118855e-01,\n",
       "         1.19828392e+02,  8.92962700e+01,  9.03983438e+01,\n",
       "         8.91375944e+01,  8.87052389e+01,  8.61808148e+01,\n",
       "         8.57708995e+01,  7.64703860e+01,  8.49918455e+01,\n",
       "         6.87662515e+01,  1.11619507e+02,  7.02110661e+01,\n",
       "         8.46906641e+01,  7.72207023e+01,  8.21059544e+01,\n",
       "         8.05343478e+01,  8.61708684e+01,  1.71069505e+01,\n",
       "        -2.19410012e+00,  3.16259445e-01,  1.03725715e-01,\n",
       "        -3.92448334e-01, -1.49124577e+00, -3.08899543e+00,\n",
       "        -6.72056298e+00, -1.16086856e+01, -2.74853370e+01,\n",
       "        -7.55319395e+01, -1.47528376e+01,  4.51966797e+00,\n",
       "         1.62704247e+00,  6.74073633e+00,  3.36144202e+00,\n",
       "         7.55259832e+00,  1.83941100e+00,  1.13976665e+02,\n",
       "         8.90717327e+01,  9.02437957e+01,  8.95981200e+01,\n",
       "         8.92833184e+01,  8.82978480e+01,  8.75815797e+01,\n",
       "         8.40832897e+01,  8.33390228e+01,  7.15124945e+01,\n",
       "         1.01937466e+02,  7.61098370e+01,  8.81002862e+01,\n",
       "         7.55542659e+01,  8.22566466e+01,  7.88377511e+01,\n",
       "         8.12374577e+01,  8.11936565e+01,  8.28365591e+01,\n",
       "         1.56429428e+01, -1.39528960e+00,  6.37810003e-01,\n",
       "         5.07941464e-01,  2.86569038e-01, -2.18434052e-01,\n",
       "        -1.04158437e+00, -2.73606712e+00, -5.18855252e+00,\n",
       "        -1.04596919e+01, -2.16879385e+01, -7.04905048e+01,\n",
       "        -1.37365564e+01,  1.12747529e-01,  7.00851002e+00,\n",
       "         4.44400835e+00,  7.62409429e+00,  5.38443983e+00,\n",
       "         8.49529230e+00,  3.65691886e+00,  1.09540656e+02,\n",
       "         8.90118065e+01,  9.01612146e+01,  8.97927368e+01,\n",
       "         8.96148735e+01,  8.92034510e+01,  8.87472755e+01,\n",
       "         8.73582181e+01,  8.61903265e+01,  8.11358223e+01,\n",
       "         8.13296367e+01,  7.34439669e+01,  1.21169597e+02,\n",
       "         7.42010322e+01,  8.32072839e+01,  7.81617953e+01,\n",
       "         8.15370107e+01,  7.98564318e+01,  8.10263129e+01,\n",
       "         8.16276801e+01,  8.13287926e+01,  1.40661833e+01,\n",
       "        -8.39870838e-01,  8.07259325e-01,  7.14553267e-01,\n",
       "         6.21285588e-01,  3.89654795e-01, -1.41801465e-02,\n",
       "        -8.03623135e-01, -2.04701720e+00, -4.46729561e+00,\n",
       "        -8.56200425e+00, -1.77881968e+01, -5.47244842e+01,\n",
       "        -2.24352204e+01,  3.40898042e+00,  4.54069104e+00,\n",
       "         7.89997211e+00,  6.13996370e+00,  8.15772424e+00,\n",
       "         6.65853832e+00,  8.97355052e+00,  4.94722062e+00,\n",
       "         1.06075618e+02,  8.90388558e+01,  9.01062095e+01,\n",
       "         8.98759998e+01,  8.97844391e+01,  8.96040680e+01,\n",
       "         8.93612568e+01,  8.87782022e+01,  8.80595858e+01,\n",
       "         8.59892944e+01,  8.43047421e+01,  7.74906101e+01,\n",
       "         8.63807276e+01,  1.01774639e+02,  8.82987494e+01,\n",
       "         7.72492673e+01,  8.19794085e+01,  7.95513690e+01,\n",
       "         8.13673801e+01,  8.05242521e+01,  8.10548516e+01,\n",
       "         8.18863500e+01,  8.07265601e+01,  1.25019319e+01,\n",
       "        -4.47507753e-01,  8.93750272e-01,  8.19472348e-01,\n",
       "         7.83542669e-01,  6.77328909e-01,  4.84317263e-01,\n",
       "         1.18247749e-01, -4.91316934e-01, -1.64386584e+00,\n",
       "        -3.56820593e+00, -7.05059568e+00, -1.51544243e+01,\n",
       "        -4.14751718e+01, -3.04750497e+01,  2.75223817e-01,\n",
       "         7.36026560e+00,  6.39036363e+00,  8.32440722e+00,\n",
       "         7.20372423e+00,  8.49293779e+00,  7.47052852e+00,\n",
       "         9.20651989e+00,  5.89477061e+00,  1.03311729e+02,\n",
       "         8.91084156e+01,  9.00664127e+01,  8.99114887e+01,\n",
       "         8.98668467e+01,  8.97850418e+01,  8.96641510e+01,\n",
       "         8.94092425e+01,  8.90336981e+01,  8.81567997e+01,\n",
       "         8.70655637e+01,  8.39821860e+01,  8.21621461e+01,\n",
       "         7.66797742e+01,  1.41390961e+02,  7.96368658e+01,\n",
       "         8.29774524e+01,  7.92400609e+01,  8.16388151e+01,\n",
       "         8.03623327e+01,  8.13786113e+01,  8.09649374e+01,\n",
       "         8.11593486e+01,  8.20222854e+01,  8.05645485e+01,\n",
       "         1.10234969e+01, -1.63096985e-01,  9.36359936e-01,\n",
       "         8.72833639e-01,  8.61550471e-01,  8.12858993e-01,\n",
       "         7.21922979e-01,  5.52353697e-01,  2.60353661e-01,\n",
       "        -2.82621709e-01, -1.20964306e+00, -2.86579560e+00,\n",
       "        -5.96306423e+00, -1.17821445e+01, -3.42714679e+01,\n",
       "        -4.14404928e+01, -4.63856303e-03,  5.77178598e+00,\n",
       "         8.35791148e+00,  7.40062169e+00,  8.57368330e+00,\n",
       "         7.87985052e+00,  8.70927402e+00,  7.98733125e+00,\n",
       "         9.30964527e+00,  6.60731320e+00]])"
      ]
     },
     "execution_count": 412,
     "metadata": {},
     "output_type": "execute_result"
    }
   ],
   "source": [
    "losPipe2['model'].coef_"
   ]
  },
  {
   "cell_type": "code",
   "execution_count": 413,
   "id": "70434720-d762-4d4a-9b66-8d3d139a16b5",
   "metadata": {},
   "outputs": [
    {
     "data": {
      "text/plain": [
       "1.0"
      ]
     },
     "execution_count": 413,
     "metadata": {},
     "output_type": "execute_result"
    }
   ],
   "source": [
    "losPipe2.score(X, y)"
   ]
  },
  {
   "cell_type": "code",
   "execution_count": 414,
   "id": "c56a158e-5573-4eba-b808-544cf24ac4b6",
   "metadata": {},
   "outputs": [],
   "source": [
    "x_min, x_max = X[:, 0].min() - 1, X[:, 0].max() + 1\n",
    "y_min, y_max = X[:, 1].min() - 1, X[:, 1].max() + 1\n",
    "x1grid = np.arange(x_min, x_max, 0.01)\n",
    "x2grid = np.arange(y_min, y_max, 0.01)\n",
    "xx, yy = np.meshgrid(x1grid,x2grid)\n",
    "Z2 = losPipe2.predict(np.c_[xx.ravel(), yy.ravel()])\n",
    "Z2 = Z2.reshape(xx.shape)"
   ]
  },
  {
   "cell_type": "code",
   "execution_count": 415,
   "id": "748a4b20-d02c-4417-8490-b917ac54a58b",
   "metadata": {},
   "outputs": [
    {
     "data": {
      "image/png": "[encoded data removed]",
      "text/plain": [
       "<Figure size 800x500 with 1 Axes>"
      ]
     },
     "metadata": {},
     "output_type": "display_data"
    }
   ],
   "source": [
    "plt.close('all')\n",
    "fig, (ax1) = plt.subplots(1, 1, figsize=(8, 5))\n",
    "ax1.contourf(xx, yy, Z2, cmap=plt.cm.Paired)\n",
    "plt.scatter(X[:, 0], X[:, 1], marker=\"o\", c=y, s=25, edgecolor='k')\n",
    "ax1.set_title('Classfication Data')\n",
    "ax1.set_xlabel('x0')\n",
    "ax1.set_ylabel('x1')\n",
    "plt.show()"
   ]
  },
  {
   "cell_type": "markdown",
   "id": "30824c03-2277-4e19-befe-acade5c0fe45",
   "metadata": {},
   "source": [
    "### Logistic Regression with Polynomial Features (StandardScaler)"
   ]
  },
  {
   "cell_type": "code",
   "execution_count": 416,
   "id": "e3d213ac-887e-4fae-85f7-8c2ea77f6a9d",
   "metadata": {},
   "outputs": [
    {
     "data": {
      "text/html": [
       "<style>#sk-container-id-6 {color: black;background-color: white;}#sk-container-id-6 pre{padding: 0;}#sk-container-id-6 div.sk-toggleable {background-color: white;}#sk-container-id-6 label.sk-toggleable__label {cursor: pointer;display: block;width: 100%;margin-bottom: 0;padding: 0.3em;box-sizing: border-box;text-align: center;}#sk-container-id-6 label.sk-toggleable__label-arrow:before {content: \"▸\";float: left;margin-right: 0.25em;color: #696969;}#sk-container-id-6 label.sk-toggleable__label-arrow:hover:before {color: black;}#sk-container-id-6 div.sk-estimator:hover label.sk-toggleable__label-arrow:before {color: black;}#sk-container-id-6 div.sk-toggleable__content {max-height: 0;max-width: 0;overflow: hidden;text-align: left;background-color: #f0f8ff;}#sk-container-id-6 div.sk-toggleable__content pre {margin: 0.2em;color: black;border-radius: 0.25em;background-color: #f0f8ff;}#sk-container-id-6 input.sk-toggleable__control:checked~div.sk-toggleable__content {max-height: 200px;max-width: 100%;overflow: auto;}#sk-container-id-6 input.sk-toggleable__control:checked~label.sk-toggleable__label-arrow:before {content: \"▾\";}#sk-container-id-6 div.sk-estimator input.sk-toggleable__control:checked~label.sk-toggleable__label {background-color: #d4ebff;}#sk-container-id-6 div.sk-label input.sk-toggleable__control:checked~label.sk-toggleable__label {background-color: #d4ebff;}#sk-container-id-6 input.sk-hidden--visually {border: 0;clip: rect(1px 1px 1px 1px);clip: rect(1px, 1px, 1px, 1px);height: 1px;margin: -1px;overflow: hidden;padding: 0;position: absolute;width: 1px;}#sk-container-id-6 div.sk-estimator {font-family: monospace;background-color: #f0f8ff;border: 1px dotted black;border-radius: 0.25em;box-sizing: border-box;margin-bottom: 0.5em;}#sk-container-id-6 div.sk-estimator:hover {background-color: #d4ebff;}#sk-container-id-6 div.sk-parallel-item::after {content: \"\";width: 100%;border-bottom: 1px solid gray;flex-grow: 1;}#sk-container-id-6 div.sk-label:hover label.sk-toggleable__label {background-color: #d4ebff;}#sk-container-id-6 div.sk-serial::before {content: \"\";position: absolute;border-left: 1px solid gray;box-sizing: border-box;top: 0;bottom: 0;left: 50%;z-index: 0;}#sk-container-id-6 div.sk-serial {display: flex;flex-direction: column;align-items: center;background-color: white;padding-right: 0.2em;padding-left: 0.2em;position: relative;}#sk-container-id-6 div.sk-item {position: relative;z-index: 1;}#sk-container-id-6 div.sk-parallel {display: flex;align-items: stretch;justify-content: center;background-color: white;position: relative;}#sk-container-id-6 div.sk-item::before, #sk-container-id-6 div.sk-parallel-item::before {content: \"\";position: absolute;border-left: 1px solid gray;box-sizing: border-box;top: 0;bottom: 0;left: 50%;z-index: -1;}#sk-container-id-6 div.sk-parallel-item {display: flex;flex-direction: column;z-index: 1;position: relative;background-color: white;}#sk-container-id-6 div.sk-parallel-item:first-child::after {align-self: flex-end;width: 50%;}#sk-container-id-6 div.sk-parallel-item:last-child::after {align-self: flex-start;width: 50%;}#sk-container-id-6 div.sk-parallel-item:only-child::after {width: 0;}#sk-container-id-6 div.sk-dashed-wrapped {border: 1px dashed gray;margin: 0 0.4em 0.5em 0.4em;box-sizing: border-box;padding-bottom: 0.4em;background-color: white;}#sk-container-id-6 div.sk-label label {font-family: monospace;font-weight: bold;display: inline-block;line-height: 1.2em;}#sk-container-id-6 div.sk-label-container {text-align: center;}#sk-container-id-6 div.sk-container {/* jupyter's `normalize.less` sets `[hidden] { display: none; }` but bootstrap.min.css set `[hidden] { display: none !important; }` so we also need the `!important` here to be able to override the default hidden behavior on the sphinx rendered scikit-learn.org. See: https://github.com/scikit-learn/scikit-learn/issues/21755 */display: inline-block !important;position: relative;}#sk-container-id-6 div.sk-text-repr-fallback {display: none;}</style><div id=\"sk-container-id-6\" class=\"sk-top-container\"><div class=\"sk-text-repr-fallback\"><pre>LogisticRegression(max_iter=10000, penalty=None)</pre><b>In a Jupyter environment, please rerun this cell to show the HTML representation or trust the notebook. <br />On GitHub, the HTML representation is unable to render, please try loading this page with nbviewer.org.</b></div><div class=\"sk-container\" hidden><div class=\"sk-item\"><div class=\"sk-estimator sk-toggleable\"><input class=\"sk-toggleable__control sk-hidden--visually\" id=\"sk-estimator-id-18\" type=\"checkbox\" checked><label for=\"sk-estimator-id-18\" class=\"sk-toggleable__label sk-toggleable__label-arrow\">LogisticRegression</label><div class=\"sk-toggleable__content\"><pre>LogisticRegression(max_iter=10000, penalty=None)</pre></div></div></div></div></div>"
      ],
      "text/plain": [
       "LogisticRegression(max_iter=10000, penalty=None)"
      ]
     },
     "execution_count": 416,
     "metadata": {},
     "output_type": "execute_result"
    }
   ],
   "source": [
    "degree = 25\n",
    "polynomial_features3 = PolynomialFeatures(degree=degree, include_bias=False)\n",
    "X_poly3 = polynomial_features3.fit_transform(X)\n",
    "std_scaler3 = StandardScaler()\n",
    "X_norm3 = std_scaler3.fit_transform(X_poly3)\n",
    "model3 = LogisticRegression(penalty=None, solver='lbfgs', max_iter=10000)\n",
    "model3.fit(X_norm3, y)"
   ]
  },
  {
   "cell_type": "code",
   "execution_count": 417,
   "id": "675ad9c8-a036-43b4-9651-3f461e8627de",
   "metadata": {
    "scrolled": true
   },
   "outputs": [
    {
     "data": {
      "text/plain": [
       "array([[-2.96258765e+00,  1.07679253e+01,  6.79363170e+01,\n",
       "         2.47815177e+01,  5.06729686e+01, -5.20089913e+00,\n",
       "        -6.34463819e+00,  3.45805896e-01,  2.25089167e+00,\n",
       "         1.73337176e+01,  5.65565084e+00,  2.22260579e+01,\n",
       "        -9.71619500e-01,  1.99466881e+01, -1.50331394e+00,\n",
       "         5.13200567e-01, -6.91305680e-01, -7.15410552e+00,\n",
       "         6.28694336e-01, -2.17826199e+00,  1.19795901e+00,\n",
       "         3.27836949e-01,  3.09674461e+00, -4.73453383e+00,\n",
       "         7.93316431e+00, -1.98356082e+00,  3.97490678e+00,\n",
       "        -7.72545531e-01,  9.52809666e-01,  8.22012680e-02,\n",
       "        -2.11420231e+00,  1.02902575e+00, -4.10562328e+00,\n",
       "        -2.91637664e-02, -2.37418557e+00, -1.91300589e+00,\n",
       "        -5.93255842e-01, -5.58431341e-01, -1.40417052e+00,\n",
       "         8.88933606e-01, -4.91491654e+00, -3.75169305e-01,\n",
       "        -1.19660173e+00, -1.04761182e+00, -6.89644010e-01,\n",
       "         7.72958104e-01,  3.14103781e-01, -2.14696202e-01,\n",
       "         4.07899221e-01, -3.57316511e+00,  6.24400325e-01,\n",
       "        -1.50284017e+00, -9.13964020e-02, -1.74440678e+00,\n",
       "        -2.16229022e+00, -5.84337993e-01, -7.47801697e-01,\n",
       "        -8.50464276e-01, -1.14322000e+00, -1.75666650e+00,\n",
       "        -1.82994072e+00, -2.19510277e+00, -1.70055146e+00,\n",
       "        -7.29353234e-01, -2.03850221e+00, -6.49328351e-01,\n",
       "         6.54349951e-01,  3.87448003e-01,  2.28898342e-01,\n",
       "         2.81853287e-01, -8.64957275e-01,  7.66138992e-01,\n",
       "        -2.52547503e+00,  1.53017962e-02, -4.49303178e-01,\n",
       "         5.29744296e-02, -1.19157772e+00, -1.92231604e+00,\n",
       "        -4.89522497e-01, -6.14361133e-01, -6.47910639e-01,\n",
       "        -8.93469180e-01, -8.93814797e-01, -2.02877699e+00,\n",
       "        -1.58153826e+00, -2.18761357e+00, -1.02966547e+00,\n",
       "        -1.47205118e+00, -4.88987639e-01, -1.90506849e+00,\n",
       "        -5.74442654e-01,  5.86534211e-01,  4.10759183e-01,\n",
       "         3.54012679e-01,  3.28721536e-01,  6.61745387e-03,\n",
       "         3.17358265e-01, -1.83666599e+00,  5.30567418e-01,\n",
       "        -7.52094226e-01, -7.12188808e-02, -7.57656886e-02,\n",
       "         1.89004423e-01, -8.02829008e-01, -1.65586835e+00,\n",
       "        -4.28215431e-01, -5.21547564e-01, -5.36625624e-01,\n",
       "        -6.44385945e-01, -6.75539412e-01, -1.17449357e+00,\n",
       "        -8.72637667e-01, -3.33619334e+00, -7.65432177e-01,\n",
       "        -1.48014907e+00, -6.41608564e-01, -1.10553955e+00,\n",
       "        -3.61338941e-01, -1.56233396e+00, -4.76261955e-01,\n",
       "         5.43644375e-01,  4.17479033e-01,  3.95907692e-01,\n",
       "         3.72839028e-01,  2.68056867e-01,  2.89236020e-01,\n",
       "        -3.56742289e-01,  4.08663089e-01, -1.96967066e+00,\n",
       "         1.26089444e-01, -7.29103507e-02,  8.08942455e-03,\n",
       "         6.83620013e-02,  2.76653694e-01, -5.31357730e-01,\n",
       "        -1.43427398e+00, -3.97867923e-01, -4.72919093e-01,\n",
       "        -4.77609618e-01, -5.22050193e-01, -5.55473819e-01,\n",
       "        -7.43419836e-01, -7.07962983e-01, -1.68823847e+00,\n",
       "        -7.12944423e-01, -2.55553128e+00, -4.62485710e-01,\n",
       "        -9.87743301e-01, -4.85803467e-01, -8.30218693e-01,\n",
       "        -2.93904314e-01, -1.24774081e+00, -3.70598913e-01,\n",
       "         5.14389846e-01,  4.18851012e-01,  4.11212831e-01,\n",
       "         3.97552857e-01,  3.59017295e-01,  3.39648510e-01,\n",
       "         1.37004112e-01,  2.55592450e-01, -9.54390265e-01,\n",
       "         4.68239835e-01, -6.26363279e-01,  6.06281485e-02,\n",
       "         1.48669353e-01,  1.01198077e-01,  1.37024437e-01,\n",
       "         3.24586976e-01, -3.35548540e-01, -1.25725451e+00,\n",
       "        -3.85480236e-01, -4.48469989e-01, -4.47887881e-01,\n",
       "        -4.66656940e-01, -4.88098375e-01, -5.60353901e-01,\n",
       "        -5.88140611e-01, -9.16453842e-01, -7.15866581e-01,\n",
       "        -2.59813090e+00, -3.52380056e-01, -1.30717717e+00,\n",
       "        -3.92921405e-01, -7.04240731e-01, -4.08203649e-01,\n",
       "        -6.47705245e-01, -2.60461584e-01, -1.00336204e+00,\n",
       "        -2.67413808e-01,  4.93581683e-01,  4.18727410e-01,\n",
       "         4.16968292e-01,  4.09678677e-01,  3.94210131e-01,\n",
       "         3.78278908e-01,  3.07503049e-01,  2.98242338e-01,\n",
       "        -8.46961065e-02,  2.59657083e-01, -1.51433280e+00,\n",
       "         2.62208137e-01, -1.26780761e-02,  1.05124678e-01,\n",
       "         2.23664648e-01,  1.72388397e-01,  1.78171143e-01,\n",
       "         3.47042726e-01, -1.90161591e-01, -1.11522111e+00,\n",
       "        -3.82319806e-01, -4.36058144e-01, -4.33322598e-01,\n",
       "        -4.41544810e-01, -4.53114080e-01, -4.82487553e-01,\n",
       "        -5.08269755e-01, -6.25639285e-01, -6.27205507e-01,\n",
       "        -1.22360467e+00, -6.55034359e-01, -2.59286271e+00,\n",
       "        -2.59928365e-01, -7.78077367e-01, -3.64664262e-01,\n",
       "        -5.42428389e-01, -3.64133945e-01, -5.30023855e-01,\n",
       "        -2.46333769e-01, -8.22564202e-01, -1.71881065e-01,\n",
       "         4.78357853e-01,  4.18370919e-01,  4.19104132e-01,\n",
       "         4.15309904e-01,  4.08729794e-01,  3.99672971e-01,\n",
       "         3.72502525e-01,  3.52216376e-01,  2.23282850e-01,\n",
       "         2.52312121e-01, -4.54464723e-01,  3.57787836e-01,\n",
       "        -6.69779131e-01,  1.83012010e-01,  1.87042680e-01,\n",
       "         1.62324849e-01,  2.52689685e-01,  2.20441792e-01,\n",
       "         2.06817868e-01,  3.54694709e-01, -8.01854081e-02,\n",
       "        -9.99899574e-01, -3.83568600e-01, -4.29584636e-01,\n",
       "        -4.26271108e-01, -4.30002954e-01, -4.35789496e-01,\n",
       "        -4.48356050e-01, -4.63780639e-01, -5.09194594e-01,\n",
       "        -5.36675262e-01, -7.34939083e-01, -6.62549315e-01,\n",
       "        -1.78620954e+00, -4.17849075e-01, -1.24285477e+00,\n",
       "        -2.88318855e-01, -5.48834477e-01, -3.45326892e-01,\n",
       "        -4.48113504e-01, -3.37600452e-01, -4.54105267e-01,\n",
       "        -2.42921826e-01, -6.90476195e-01, -8.62159269e-02,\n",
       "         4.66947053e-01,  4.18131530e-01,  4.19847293e-01,\n",
       "         4.17849574e-01,  4.14947761e-01,  4.10347891e-01,\n",
       "         3.99157751e-01,  3.85816698e-01,  3.38232975e-01,\n",
       "         3.17264590e-01,  8.35229239e-02,  2.19883248e-01,\n",
       "        -9.70479430e-01,  3.52222526e-01, -2.39176494e-02,\n",
       "         1.90388505e-01,  2.51988321e-01,  2.07944281e-01,\n",
       "         2.66673833e-01,  2.51246510e-01,  2.28151156e-01,\n",
       "         3.54317820e-01,  3.91260751e-03, -9.05255755e-01,\n",
       "        -3.86722332e-01, -4.26079950e-01, -4.22873450e-01,\n",
       "        -4.24633096e-01, -4.27418257e-01, -4.32992256e-01,\n",
       "        -4.41068209e-01, -4.59872662e-01, -4.79643171e-01,\n",
       "        -5.52324536e-01, -5.73419445e-01, -9.22852230e-01,\n",
       "        -6.74190289e-01, -2.33538420e+00, -2.36171075e-01,\n",
       "        -6.80122803e-01, -3.06977247e-01, -4.38448580e-01,\n",
       "        -3.30871874e-01, -3.91805023e-01, -3.21282658e-01,\n",
       "        -4.04628292e-01, -2.45159189e-01, -5.93868543e-01,\n",
       "        -1.09444820e-02,  4.58200695e-01,  4.18054985e-01,\n",
       "         4.20063204e-01,  4.18973080e-01,  4.17666417e-01,\n",
       "         4.15438955e-01,  4.10610194e-01,  4.03459544e-01,\n",
       "         3.84441608e-01,  3.66059803e-01,  2.83073246e-01,\n",
       "         2.74027754e-01, -1.48386413e-01,  2.56326180e-01,\n",
       "        -7.38926693e-01,  2.67446696e-01,  1.90893668e-01,\n",
       "         2.17372380e-01,  2.74548438e-01,  2.39749250e-01,\n",
       "         2.75087323e-01,  2.70489041e-01,  2.44403136e-01,\n",
       "         3.49945750e-01,  6.86391247e-02]])"
      ]
     },
     "execution_count": 417,
     "metadata": {},
     "output_type": "execute_result"
    }
   ],
   "source": [
    "model3.coef_"
   ]
  },
  {
   "cell_type": "code",
   "execution_count": 418,
   "id": "3e6467c8-54a5-4efc-ad2c-29b784f61cab",
   "metadata": {},
   "outputs": [
    {
     "data": {
      "text/plain": [
       "1.0"
      ]
     },
     "execution_count": 418,
     "metadata": {},
     "output_type": "execute_result"
    }
   ],
   "source": [
    "model3.score(X_norm3, y)"
   ]
  },
  {
   "cell_type": "code",
   "execution_count": 419,
   "id": "530ad7c1-736c-4c1a-8dfe-bba997414817",
   "metadata": {},
   "outputs": [],
   "source": [
    "x_min, x_max = X[:, 0].min() - 1, X[:, 0].max() + 1\n",
    "y_min, y_max = X[:, 1].min() - 1, X[:, 1].max() + 1\n",
    "x1grid = np.arange(x_min, x_max, 0.01)\n",
    "x2grid = np.arange(y_min, y_max, 0.01)\n",
    "xx, yy = np.meshgrid(x1grid,x2grid)\n",
    "XX_poly = polynomial_features3.transform(np.c_[xx.ravel(), yy.ravel()])\n",
    "XX_norm = std_scaler3.transform(XX_poly)\n",
    "Z3 = model3.predict(XX_norm)\n",
    "Z3 = Z3.reshape(xx.shape)"
   ]
  },
  {
   "cell_type": "code",
   "execution_count": 420,
   "id": "0bb71622-43ff-444f-a353-185822967196",
   "metadata": {},
   "outputs": [
    {
     "data": {
      "image/png": "[encoded data removed]",
      "text/plain": [
       "<Figure size 800x500 with 1 Axes>"
      ]
     },
     "metadata": {},
     "output_type": "display_data"
    }
   ],
   "source": [
    "plt.close('all')\n",
    "fig, (ax1) = plt.subplots(1, 1, figsize=(8, 5))\n",
    "ax1.contourf(xx, yy, Z3, cmap=plt.cm.Paired)\n",
    "plt.scatter(X[:, 0], X[:, 1], marker=\"o\", c=y, s=25, edgecolor='k')\n",
    "ax1.set_title('Classfication Data')\n",
    "ax1.set_xlabel('x0')\n",
    "ax1.set_ylabel('x1')\n",
    "plt.show()"
   ]
  },
  {
   "cell_type": "markdown",
   "id": "8f4a3482-08d4-4ec1-98ab-401ac809acfc",
   "metadata": {},
   "source": [
    "### Logistic Regression with Polynomial Features using Gradient Descent"
   ]
  },
  {
   "cell_type": "code",
   "execution_count": 421,
   "id": "636e0208-fb4e-4b1b-bbf6-fe361e920395",
   "metadata": {},
   "outputs": [],
   "source": [
    "degree = 25\n",
    "polynomial_features4 = PolynomialFeatures(degree=degree, include_bias=False)\n",
    "X_poly4 = polynomial_features4.fit_transform(X)"
   ]
  },
  {
   "cell_type": "code",
   "execution_count": 422,
   "id": "e7e43df5-e842-4d06-a214-807a8003ab5a",
   "metadata": {},
   "outputs": [],
   "source": [
    "std_scaler4 = StandardScaler()\n",
    "X_norm4 = std_scaler4.fit_transform(X_poly4)"
   ]
  },
  {
   "cell_type": "code",
   "execution_count": 423,
   "id": "3e951eae-d9e1-48cb-9d9f-4a9d50de670a",
   "metadata": {
    "scrolled": true
   },
   "outputs": [
    {
     "name": "stdout",
     "output_type": "stream",
     "text": [
      "2024-10-29 11:53:35.097499\n",
      "iteration 9999: Last cost = 3.0147e-02: intercept = 4.0994e+00: weights = [[-2.66530036e-01  1.03484661e+00  8.38115277e+00  2.65137750e+00\n",
      "   6.75920014e+00 -1.00622283e+00 -5.76163428e-01  9.17644320e-02\n",
      "   5.00911124e-01  2.47962137e+00  5.65398533e-01  2.19045408e+00\n",
      "  -3.28115269e-01  3.00160429e+00 -3.35844905e-01  5.45436025e-02\n",
      "  -4.11046684e-02 -2.90662312e-01 -8.98723177e-02 -1.68439611e-01\n",
      "   3.52633495e-01  4.59502735e-02  3.30599723e-01 -1.00475025e+00\n",
      "   1.00855818e+00 -1.46488323e-01  7.47033853e-01 -1.35745840e-01\n",
      "   8.94640454e-02  2.83523337e-02 -1.14068254e-01  1.61549111e-02\n",
      "  -2.88287670e-01 -5.03797457e-02 -2.37865877e-01 -1.05686589e-01\n",
      "  -5.99170279e-02 -6.04919599e-02 -2.66277109e-01  1.40314062e-01\n",
      "  -7.66287202e-01  2.60118070e-02 -8.43707473e-02 -8.49519250e-03\n",
      "  -8.50793910e-02  7.35404195e-02  4.04430349e-02 -9.31711426e-03\n",
      "   3.55610624e-02 -2.96355315e-01  2.38940876e-02 -1.24524434e-01\n",
      "  -1.16725423e-02 -1.77501926e-01 -1.74191220e-01 -6.24360104e-02\n",
      "  -8.43946383e-02 -1.23125008e-01 -1.28966088e-01 -3.18360376e-01\n",
      "  -1.52958185e-01 -2.86470053e-01 -1.62072014e-01 -6.57701380e-02\n",
      "  -1.84806311e-01 -6.49472452e-02  6.48276174e-02  4.49828820e-02\n",
      "   2.81424655e-02  3.19047516e-02 -8.94555798e-02  5.59190814e-02\n",
      "  -2.31698276e-01 -7.85227116e-04 -3.62451867e-02  1.43613210e-02\n",
      "  -1.18889373e-01 -1.67569136e-01 -5.42269422e-02 -7.05496967e-02\n",
      "  -8.30277600e-02 -1.07284856e-01 -1.38935407e-01 -2.25105852e-01\n",
      "  -2.80503085e-01 -2.18633901e-01 -1.23358958e-01 -1.52248394e-01\n",
      "  -5.31459919e-02 -1.92383042e-01 -5.02442041e-02  6.06157260e-02\n",
      "   4.72308137e-02  4.12559881e-02  3.79715511e-02 -6.67673467e-04\n",
      "   2.61785818e-02 -2.01101004e-01  4.05645869e-02 -6.71022870e-02\n",
      "  -5.48011217e-04 -1.57413900e-03  2.95646824e-02 -7.75602530e-02\n",
      "  -1.50294374e-01 -4.89615437e-02 -6.04102561e-02 -6.56141032e-02\n",
      "  -7.82205009e-02 -9.09983102e-02 -1.40937040e-01 -1.49345557e-01\n",
      "  -3.62037290e-01 -1.24786397e-01 -1.54676516e-01 -7.64201929e-02\n",
      "  -1.18345615e-01 -4.36297610e-02 -1.63274631e-01 -3.69785606e-02\n",
      "   5.81382781e-02  4.83002550e-02  4.61710736e-02  4.33602977e-02\n",
      "   3.00212460e-02  2.96485335e-02 -4.55663687e-02  2.46993411e-02\n",
      "  -2.12833363e-01  1.46661586e-02 -1.32272461e-03  8.78313105e-03\n",
      "   1.26368141e-02  3.76449021e-02 -4.90186485e-02 -1.34078115e-01\n",
      "  -4.65504505e-02 -5.50340355e-02 -5.72173348e-02 -6.29506116e-02\n",
      "  -6.98792859e-02 -9.11055718e-02 -1.00293678e-01 -1.99166587e-01\n",
      "  -1.45447015e-01 -2.73082330e-01 -6.50551163e-02 -1.06424555e-01\n",
      "  -5.88206807e-02 -9.12182667e-02 -3.73927327e-02 -1.32892900e-01\n",
      "  -2.48757723e-02  5.64202428e-02  4.87876241e-02  4.81168088e-02\n",
      "   4.64843483e-02  4.14440540e-02  3.80411645e-02  1.29289496e-02\n",
      "   2.00668964e-02 -1.15303995e-01  2.86810493e-02 -6.39381676e-02\n",
      "   1.24280044e-02  2.05953753e-02  1.79362317e-02  1.97037938e-02\n",
      "   4.15325971e-02 -2.86407771e-02 -1.20419453e-01 -4.57269731e-02\n",
      "  -5.23494815e-02 -5.31531853e-02 -5.57489754e-02 -5.93840951e-02\n",
      "  -6.82446239e-02 -7.58488522e-02 -1.12267917e-01 -1.09816813e-01\n",
      "  -2.98268598e-01 -8.24459949e-02 -1.40241920e-01 -5.09278014e-02\n",
      "  -7.81353335e-02 -5.00265052e-02 -7.28346526e-02 -3.38348094e-02\n",
      "  -1.08538482e-01 -1.40617940e-02  5.51270052e-02  4.90098162e-02\n",
      "   4.89114452e-02  4.80634097e-02  4.60181917e-02  4.36503451e-02\n",
      "   3.44916854e-02  3.08984658e-02 -1.46957475e-02  1.19263294e-02\n",
      "  -1.75783618e-01  2.40953874e-02  2.67028216e-03  1.76655989e-02\n",
      "   2.82688840e-02  2.47194662e-02  2.40391248e-02  4.30804399e-02\n",
      "  -1.36101508e-02 -1.09071813e-01 -4.56659636e-02 -5.10169166e-02\n",
      "  -5.12024011e-02 -5.23980727e-02 -5.42139341e-02 -5.80307403e-02\n",
      "  -6.26161601e-02 -7.67019429e-02 -8.36905189e-02 -1.48509337e-01\n",
      "  -1.16129459e-01 -2.89445067e-01 -4.50266872e-02 -8.54559285e-02\n",
      "  -4.59161408e-02 -6.18476745e-02 -4.48889563e-02 -6.08333584e-02\n",
      "  -3.21125925e-02 -9.03237450e-02 -4.57608211e-03  5.41164824e-02\n",
      "   4.91179210e-02  4.92395702e-02  4.88147591e-02  4.79434048e-02\n",
      "   4.66541568e-02  4.30328193e-02  3.96386855e-02  2.34838316e-02\n",
      "   2.18634863e-02 -5.90491746e-02  1.43716035e-02 -7.37515209e-02\n",
      "   2.31013891e-02  2.41441944e-02  2.33703480e-02  3.14160839e-02\n",
      "   2.92751384e-02  2.70803772e-02  4.33718438e-02 -2.28150211e-03\n",
      "  -9.96148124e-02 -4.59345987e-02 -5.03463350e-02 -5.02719015e-02\n",
      "  -5.08337384e-02 -5.17136649e-02 -5.34107015e-02 -5.58337675e-02\n",
      "  -6.16248389e-02 -6.72288173e-02 -9.04602172e-02 -9.31523867e-02\n",
      "  -2.12677280e-01 -9.11640230e-02 -1.37169382e-01 -3.98780829e-02\n",
      "  -6.21646478e-02 -4.30139704e-02 -5.22773158e-02 -4.17126175e-02\n",
      "  -5.30210340e-02 -3.15230969e-02 -7.69465698e-02  3.63704788e-03\n",
      "   5.33107368e-02  4.91786195e-02  4.93740879e-02  4.91612202e-02\n",
      "   4.87786655e-02  4.81355493e-02  4.66159595e-02  4.46147262e-02\n",
      "   3.84069759e-02  3.40418896e-02  5.75598468e-03  1.21681115e-02\n",
      "  -1.18222985e-01  2.70402877e-02  3.49870677e-04  2.55631546e-02\n",
      "   3.12009595e-02  2.78129108e-02  3.30299704e-02  3.22040697e-02\n",
      "   2.93453862e-02  4.30239010e-02  6.36758323e-03 -9.16975062e-02\n",
      "  -4.63215961e-02 -4.99995538e-02 -4.98298669e-02 -5.00999533e-02\n",
      "  -5.05190317e-02 -5.12904084e-02 -5.24960100e-02 -5.49969573e-02\n",
      "  -5.82268698e-02 -6.73063641e-02 -7.35710641e-02 -1.13463524e-01\n",
      "  -1.03383122e-01 -2.70977352e-01 -4.50396734e-02 -7.62029045e-02\n",
      "  -3.94501663e-02 -5.10404266e-02 -4.10121319e-02 -4.65141522e-02\n",
      "  -3.97195923e-02 -4.78929261e-02 -3.15780578e-02 -6.71260351e-02\n",
      "   1.06856918e-02  5.26594298e-02  4.92195827e-02  4.94276636e-02\n",
      "   4.93180524e-02  4.91472998e-02  4.88389445e-02  4.81760583e-02\n",
      "   4.71430517e-02  4.45899937e-02  4.16587295e-02  3.11178137e-02\n",
      "   2.65613795e-02 -2.28018079e-02  7.90512627e-03 -8.56270380e-02\n",
      "   2.96445652e-02  2.44558530e-02  2.86031467e-02  3.37578890e-02\n",
      "   3.09094420e-02  3.40360894e-02  3.40442032e-02  3.10671499e-02\n",
      "   4.23839041e-02  1.30223492e-02]]\n",
      "best w [-2.6650e-01  1.0348e+00  8.3812e+00  2.6514e+00  6.7592e+00 -1.0062e+00\n",
      " -5.7620e-01  9.1800e-02  5.0090e-01  2.4796e+00  5.6540e-01  2.1905e+00\n",
      " -3.2810e-01  3.0016e+00 -3.3580e-01  5.4500e-02 -4.1100e-02 -2.9070e-01\n",
      " -8.9900e-02 -1.6840e-01  3.5260e-01  4.6000e-02  3.3060e-01 -1.0048e+00\n",
      "  1.0086e+00 -1.4650e-01  7.4700e-01 -1.3570e-01  8.9500e-02  2.8400e-02\n",
      " -1.1410e-01  1.6200e-02 -2.8830e-01 -5.0400e-02 -2.3790e-01 -1.0570e-01\n",
      " -5.9900e-02 -6.0500e-02 -2.6630e-01  1.4030e-01 -7.6630e-01  2.6000e-02\n",
      " -8.4400e-02 -8.5000e-03 -8.5100e-02  7.3500e-02  4.0400e-02 -9.3000e-03\n",
      "  3.5600e-02 -2.9640e-01  2.3900e-02 -1.2450e-01 -1.1700e-02 -1.7750e-01\n",
      " -1.7420e-01 -6.2400e-02 -8.4400e-02 -1.2310e-01 -1.2900e-01 -3.1840e-01\n",
      " -1.5300e-01 -2.8650e-01 -1.6210e-01 -6.5800e-02 -1.8480e-01 -6.4900e-02\n",
      "  6.4800e-02  4.5000e-02  2.8100e-02  3.1900e-02 -8.9500e-02  5.5900e-02\n",
      " -2.3170e-01 -8.0000e-04 -3.6200e-02  1.4400e-02 -1.1890e-01 -1.6760e-01\n",
      " -5.4200e-02 -7.0500e-02 -8.3000e-02 -1.0730e-01 -1.3890e-01 -2.2510e-01\n",
      " -2.8050e-01 -2.1860e-01 -1.2340e-01 -1.5220e-01 -5.3100e-02 -1.9240e-01\n",
      " -5.0200e-02  6.0600e-02  4.7200e-02  4.1300e-02  3.8000e-02 -7.0000e-04\n",
      "  2.6200e-02 -2.0110e-01  4.0600e-02 -6.7100e-02 -5.0000e-04 -1.6000e-03\n",
      "  2.9600e-02 -7.7600e-02 -1.5030e-01 -4.9000e-02 -6.0400e-02 -6.5600e-02\n",
      " -7.8200e-02 -9.1000e-02 -1.4090e-01 -1.4930e-01 -3.6200e-01 -1.2480e-01\n",
      " -1.5470e-01 -7.6400e-02 -1.1830e-01 -4.3600e-02 -1.6330e-01 -3.7000e-02\n",
      "  5.8100e-02  4.8300e-02  4.6200e-02  4.3400e-02  3.0000e-02  2.9600e-02\n",
      " -4.5600e-02  2.4700e-02 -2.1280e-01  1.4700e-02 -1.3000e-03  8.8000e-03\n",
      "  1.2600e-02  3.7600e-02 -4.9000e-02 -1.3410e-01 -4.6600e-02 -5.5000e-02\n",
      " -5.7200e-02 -6.3000e-02 -6.9900e-02 -9.1100e-02 -1.0030e-01 -1.9920e-01\n",
      " -1.4540e-01 -2.7310e-01 -6.5100e-02 -1.0640e-01 -5.8800e-02 -9.1200e-02\n",
      " -3.7400e-02 -1.3290e-01 -2.4900e-02  5.6400e-02  4.8800e-02  4.8100e-02\n",
      "  4.6500e-02  4.1400e-02  3.8000e-02  1.2900e-02  2.0100e-02 -1.1530e-01\n",
      "  2.8700e-02 -6.3900e-02  1.2400e-02  2.0600e-02  1.7900e-02  1.9700e-02\n",
      "  4.1500e-02 -2.8600e-02 -1.2040e-01 -4.5700e-02 -5.2300e-02 -5.3200e-02\n",
      " -5.5700e-02 -5.9400e-02 -6.8200e-02 -7.5800e-02 -1.1230e-01 -1.0980e-01\n",
      " -2.9830e-01 -8.2400e-02 -1.4020e-01 -5.0900e-02 -7.8100e-02 -5.0000e-02\n",
      " -7.2800e-02 -3.3800e-02 -1.0850e-01 -1.4100e-02  5.5100e-02  4.9000e-02\n",
      "  4.8900e-02  4.8100e-02  4.6000e-02  4.3700e-02  3.4500e-02  3.0900e-02\n",
      " -1.4700e-02  1.1900e-02 -1.7580e-01  2.4100e-02  2.7000e-03  1.7700e-02\n",
      "  2.8300e-02  2.4700e-02  2.4000e-02  4.3100e-02 -1.3600e-02 -1.0910e-01\n",
      " -4.5700e-02 -5.1000e-02 -5.1200e-02 -5.2400e-02 -5.4200e-02 -5.8000e-02\n",
      " -6.2600e-02 -7.6700e-02 -8.3700e-02 -1.4850e-01 -1.1610e-01 -2.8940e-01\n",
      " -4.5000e-02 -8.5500e-02 -4.5900e-02 -6.1800e-02 -4.4900e-02 -6.0800e-02\n",
      " -3.2100e-02 -9.0300e-02 -4.6000e-03  5.4100e-02  4.9100e-02  4.9200e-02\n",
      "  4.8800e-02  4.7900e-02  4.6700e-02  4.3000e-02  3.9600e-02  2.3500e-02\n",
      "  2.1900e-02 -5.9000e-02  1.4400e-02 -7.3800e-02  2.3100e-02  2.4100e-02\n",
      "  2.3400e-02  3.1400e-02  2.9300e-02  2.7100e-02  4.3400e-02 -2.3000e-03\n",
      " -9.9600e-02 -4.5900e-02 -5.0300e-02 -5.0300e-02 -5.0800e-02 -5.1700e-02\n",
      " -5.3400e-02 -5.5800e-02 -6.1600e-02 -6.7200e-02 -9.0500e-02 -9.3200e-02\n",
      " -2.1270e-01 -9.1200e-02 -1.3720e-01 -3.9900e-02 -6.2200e-02 -4.3000e-02\n",
      " -5.2300e-02 -4.1700e-02 -5.3000e-02 -3.1500e-02 -7.6900e-02  3.6000e-03\n",
      "  5.3300e-02  4.9200e-02  4.9400e-02  4.9200e-02  4.8800e-02  4.8100e-02\n",
      "  4.6600e-02  4.4600e-02  3.8400e-02  3.4000e-02  5.8000e-03  1.2200e-02\n",
      " -1.1820e-01  2.7000e-02  3.0000e-04  2.5600e-02  3.1200e-02  2.7800e-02\n",
      "  3.3000e-02  3.2200e-02  2.9300e-02  4.3000e-02  6.4000e-03 -9.1700e-02\n",
      " -4.6300e-02 -5.0000e-02 -4.9800e-02 -5.0100e-02 -5.0500e-02 -5.1300e-02\n",
      " -5.2500e-02 -5.5000e-02 -5.8200e-02 -6.7300e-02 -7.3600e-02 -1.1350e-01\n",
      " -1.0340e-01 -2.7100e-01 -4.5000e-02 -7.6200e-02 -3.9500e-02 -5.1000e-02\n",
      " -4.1000e-02 -4.6500e-02 -3.9700e-02 -4.7900e-02 -3.1600e-02 -6.7100e-02\n",
      "  1.0700e-02  5.2700e-02  4.9200e-02  4.9400e-02  4.9300e-02  4.9100e-02\n",
      "  4.8800e-02  4.8200e-02  4.7100e-02  4.4600e-02  4.1700e-02  3.1100e-02\n",
      "  2.6600e-02 -2.2800e-02  7.9000e-03 -8.5600e-02  2.9600e-02  2.4500e-02\n",
      "  2.8600e-02  3.3800e-02  3.0900e-02  3.4000e-02  3.4000e-02  3.1100e-02\n",
      "  4.2400e-02  1.3000e-02]\n",
      "best b 4.0994\n",
      "2024-10-29 11:53:36.791182\n",
      "Duration: 0:00:01.693683\n"
     ]
    }
   ],
   "source": [
    "startTime = datetime.now()\n",
    "print(startTime)\n",
    "coef12, intercept12, _, _, _ = compute_gradient_descent_beta(X_norm4 , y, gradient_function=compute_logistic_gradient_beta, \n",
    "                                                         cost_function=compute_logistic_cost_beta, iterations = 10000, alpha = 0.1)\n",
    "endTime = datetime.now()\n",
    "print(endTime)\n",
    "print('Duration:',endTime - startTime)"
   ]
  },
  {
   "cell_type": "code",
   "execution_count": 424,
   "id": "8c4dcfc1-e708-42d7-b37b-e39a6bc02819",
   "metadata": {},
   "outputs": [
    {
     "name": "stdout",
     "output_type": "stream",
     "text": [
      "Train Accuracy: 100.000000\n"
     ]
    }
   ],
   "source": [
    "#Compute accuracy on our training set\n",
    "y_hat12 = predict_logistic_beta(X_norm4, coef12, intercept12)\n",
    "print('Train Accuracy: %f'%(np.mean(y_hat12 == y.reshape(-1,1)) * 100))"
   ]
  },
  {
   "cell_type": "code",
   "execution_count": 425,
   "id": "9b8d06cc-a9b4-4a2a-8bd3-ee613531404a",
   "metadata": {},
   "outputs": [],
   "source": [
    "x_min, x_max = X[:, 0].min() - 1, X[:, 0].max() + 1\n",
    "y_min, y_max = X[:, 1].min() - 1, X[:, 1].max() + 1\n",
    "x1grid = np.arange(x_min, x_max, 0.01)\n",
    "x2grid = np.arange(y_min, y_max, 0.01)\n",
    "#print(x1grid.shape)\n",
    "#print(x2grid.shape)\n",
    "xx, yy = np.meshgrid(x1grid,x2grid)\n",
    "#print(xx.shape)\n",
    "#print(yy.shape)\n",
    "XX_poly = polynomial_features4.transform(np.c_[xx.ravel(), yy.ravel()])\n",
    "#print(XX_poly.shape)\n",
    "XX_norm = std_scaler4.transform(XX_poly)\n",
    "#print('norm',XX_norm.shape)\n",
    "Z4 = predict_logistic_beta(XX_norm, coef12, intercept12)\n",
    "#print(Z4.shape)\n",
    "#print(Z4[:5])\n",
    "#print(Z4[-10:])\n",
    "Z4 = Z4.reshape(xx.shape)\n",
    "#print(Z4.shape)"
   ]
  },
  {
   "cell_type": "code",
   "execution_count": 426,
   "id": "8063d39e-66cc-41b9-ac8f-d59537e0216d",
   "metadata": {},
   "outputs": [
    {
     "data": {
      "image/png": "[encoded data removed]",
      "text/plain": [
       "<Figure size 800x500 with 1 Axes>"
      ]
     },
     "metadata": {},
     "output_type": "display_data"
    }
   ],
   "source": [
    "plt.close('all')\n",
    "fig, (ax1) = plt.subplots(1, 1, figsize=(8, 5))\n",
    "ax1.contourf(xx, yy, Z4, cmap=plt.cm.Paired)\n",
    "plt.scatter(X[:, 0], X[:, 1], marker=\"o\", c=y, s=25, edgecolor='k')\n",
    "ax1.set_title('Classfication Data')\n",
    "ax1.set_xlabel('x0')\n",
    "ax1.set_ylabel('x1')\n",
    "plt.show()"
   ]
  },
  {
   "cell_type": "markdown",
   "id": "8397bae8-fda7-48c5-9a72-59e9afc0a749",
   "metadata": {},
   "source": [
    "## End"
   ]
  },
  {
   "cell_type": "code",
   "execution_count": null,
   "id": "39747d7f-83ef-4ed6-bbcd-3279b5f4ac7b",
   "metadata": {},
   "outputs": [],
   "source": []
  }
 ],
 "metadata": {
  "kernelspec": {
   "display_name": "Python 3 (ipykernel)",
   "language": "python",
   "name": "python3"
  },
  "language_info": {
   "codemirror_mode": {
    "name": "ipython",
    "version": 3
   },
   "file_extension": ".py",
   "mimetype": "text/x-python",
   "name": "python",
   "nbconvert_exporter": "python",
   "pygments_lexer": "ipython3",
   "version": "3.11.5"
  }
 },
 "nbformat": 4,
 "nbformat_minor": 5
}
