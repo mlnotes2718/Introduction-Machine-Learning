{
 "cells": [
  {
   "cell_type": "markdown",
   "id": "610f4f08",
   "metadata": {},
   "source": [
    "# Machine Learning Master Notes 18 - Logistic Regression on Multi-Class Classification"
   ]
  },
  {
   "cell_type": "markdown",
   "id": "001ef361-5b6a-4583-aa21-e020be380eb4",
   "metadata": {},
   "source": [
    "### Prepare Environment"
   ]
  },
  {
   "cell_type": "code",
   "execution_count": 1,
   "id": "7d8a9716",
   "metadata": {},
   "outputs": [
    {
     "name": "stderr",
     "output_type": "stream",
     "text": [
      "2024-10-30 14:17:20.540825: I tensorflow/core/platform/cpu_feature_guard.cc:182] This TensorFlow binary is optimized to use available CPU instructions in performance-critical operations.\n",
      "To enable the following instructions: SSE4.1 SSE4.2 AVX AVX2 AVX512F AVX512_VNNI FMA, in other operations, rebuild TensorFlow with the appropriate compiler flags.\n"
     ]
    }
   ],
   "source": [
    "%matplotlib inline\n",
    "\n",
    "\n",
    "# Essential libraries\n",
    "import numpy as np\n",
    "import pandas as pd\n",
    "import math\n",
    "import scipy\n",
    "import random\n",
    "import datetime\n",
    "from datetime import datetime\n",
    "\n",
    "# Graphical Component\n",
    "import matplotlib.pyplot as plt\n",
    "from matplotlib.gridspec import GridSpec\n",
    "from matplotlib import cm\n",
    "\n",
    "\n",
    "## SciKit Learning Preprocessing  \n",
    "from sklearn import preprocessing\n",
    "from sklearn.preprocessing import PolynomialFeatures \n",
    "from sklearn.preprocessing import StandardScaler\n",
    "from sklearn.preprocessing import MinMaxScaler\n",
    "\n",
    "\n",
    "# Pipeline and Train Test Split\n",
    "from sklearn.pipeline import Pipeline\n",
    "from sklearn.model_selection import train_test_split\n",
    "\n",
    "## SciKit Learn ML Models\n",
    "from sklearn import linear_model\n",
    "from sklearn.linear_model import LinearRegression\n",
    "from sklearn.linear_model import LogisticRegression\n",
    "from sklearn.linear_model import Ridge\n",
    "from sklearn.linear_model import Lasso\n",
    "from sklearn.linear_model import ElasticNet\n",
    "\n",
    "# Multiclass\n",
    "from sklearn import multiclass\n",
    "from sklearn.multiclass import OneVsRestClassifier\n",
    "\n",
    "## SciKit Learn Dataset\n",
    "import sklearn.datasets as skdata\n",
    "from sklearn.datasets import make_blobs, make_classification, make_circles, make_gaussian_quantiles\n",
    "\n",
    "## Pytorch\n",
    "import torch\n",
    "\n",
    "## Tensorflow\n",
    "import tensorflow as tf\n",
    "\n",
    "# The following file contain the finalized gradient descent, cost function program \n",
    "import MyRegressionProgramV2 as my\n",
    "import testFile as test\n"
   ]
  },
  {
   "cell_type": "markdown",
   "id": "0f836a3d-68fc-49de-bde7-a6dd03baba87",
   "metadata": {},
   "source": [
    "## Multiple Classification in Logistic Regression"
   ]
  },
  {
   "cell_type": "markdown",
   "id": "462f16a9",
   "metadata": {},
   "source": [
    "Besides binary classification, Logistic Regression also supported multi-class classification problem. There are two techniques that are used in multi-class classification. They are:\n",
    "\n",
    "1. **One-vs-Rest/One-vs-All (OvR/OvA)**\n",
    "2. **Multinomial Logistic Regression (a.k.a Softmax Regression)**"
   ]
  },
  {
   "cell_type": "markdown",
   "id": "9de5c550-387c-494b-9583-e7de72d6e684",
   "metadata": {},
   "source": [
    "### One-vs-Rest (OvR/OvA)"
   ]
  },
  {
   "cell_type": "markdown",
   "id": "9a954a18-2b2c-46b0-a262-af5b48968687",
   "metadata": {},
   "source": [
    "- Let us take an example of classifying 3 classes of cat, dog and rabbit. One-vs-all techniques will train the Logistic Regression 3 times.\n",
    "- For the first time, Logistic Regression will train the classification of 2 classes, it will train on the class of **cat** against the **other 2 classes combined**. It will compute the probability of the data is **cat** against the rest. \n",
    "- Using similar way, the model will run classification of the other 2 classes against the rest of the classes combined.\n",
    "- In essence, the model uses binary classification technique and it trains one class at a time. \n",
    "- For new query, the query will be use to compute with the trained weights and the prediction will be the class with the highest probability. This can also be expressed as $\\hat y = arg max_{k}P(y=k|x)$\n",
    "$$$$\n",
    "**Advantages**\n",
    "- This method is simple and easy to understand.\n",
    "- We can train different class in parallel.\n",
    "- This method can be used for large dataset\n",
    "$$$$\n",
    "**Disadvantage**\n",
    "- This model can create inconsistent decision boundaries across different class.\n",
    "- The probability predicted may not be comparable"
   ]
  },
  {
   "cell_type": "markdown",
   "id": "afee3c20-c627-4f35-9ee8-60ebb6a5aecc",
   "metadata": {},
   "source": [
    "### Softmax Regression"
   ]
  },
  {
   "attachments": {},
   "cell_type": "markdown",
   "id": "cd7e9b48-a806-431f-99bb-c1e3e497bda2",
   "metadata": {},
   "source": [
    "Softmax Regression, also known as Multinomial Logistic Regression, is a different technique in multi-class classification. Softmax directly models the probability distribution over multiple classes using the Softmax function.\n",
    "\n",
    "The formula for Softmax Function is as follows:\n",
    "$$P(y=k|x)=\\frac{e^{z_i}}{\\sum\\limits_{j=1}^{k}e^{z_j}}$$\n",
    "Since:\n",
    "$$z = f(x)$$\n",
    "Then:\n",
    "$$P(y=k|x)=\\frac{e^{f(x)_i}}{\\sum\\limits_{j=1}^{k}e^{f(x)_j}}$$\n",
    "$$P(y=k|x)=\\frac{e^{Xw_k+b_k}}{\\sum\\limits_{j=1}^{k}e^{Xw_j+b_j}}$$\n",
    "\n",
    "\n",
    "**Advantages:**\n",
    "- Using a single model, it produce better weights that are consistent\n",
    "- Using same model will also result in consistent decision boundaries.\n",
    "$$$$\n",
    "\n",
    "**Disadvantages:**\n",
    "- Computationally more intensive compared to OvR\n",
    "- The implementation is more complex."
   ]
  },
  {
   "cell_type": "markdown",
   "id": "adcb026b-eb7d-48c3-a485-39595a722a1e",
   "metadata": {},
   "source": [
    "**Reference:**\n",
    "\n",
    "- https://towardsdatascience.com/multiclass-classification-with-softmax-regression-explained-ea320518ea5d\n",
    "- https://towardsdatascience.com/multiclass-logistic-regression-from-scratch-9cc0007da372"
   ]
  },
  {
   "cell_type": "markdown",
   "id": "806082ee-0bbe-4f88-940d-5fdad69cc7a2",
   "metadata": {},
   "source": [
    "## Labeling Multi-Class Classification "
   ]
  },
  {
   "cell_type": "markdown",
   "id": "a3bc4fc1-f2ea-4fad-8b71-15c582d495d4",
   "metadata": {},
   "source": [
    "There are 2 ways to label the truth or the actual outcome in `y_train`. The first method is to use class index and the second method is to use one-hot encoding. Please note that multi-class classification can also be found in X-features. For now we focus on labeling `y_train`.\n",
    "\n",
    "Let us take the following 5 data example with 3 class and two features:\n",
    "\n",
    "**X features:**\n",
    "\n",
    "|x0|x1|\n",
    "|---|---|\n",
    "|1|3|\n",
    "|8|9|\n",
    "|5|4|\n",
    "|2|4|\n",
    "|9|8|\n",
    "\n",
    "There are 3 classes named class 0, class 1 and class 2. Using class index labeling we can label the class as follows:\n",
    "\n",
    "**Class Index Labeling**\n",
    "\n",
    "|x0|x1|y-truth|\n",
    "|---|---|---|\n",
    "|1|3|0|\n",
    "|8|9|1|\n",
    "|5|4|2|\n",
    "|2|4|0|\n",
    "|9|8|1|"
   ]
  },
  {
   "cell_type": "markdown",
   "id": "cb113755-d299-496f-b27b-e52ed9fceaf9",
   "metadata": {},
   "source": [
    "**One-Hot Encoding**\n",
    "\n",
    "In One-Hot Encoding method, `y-train` has 3 columns instead of one column. Take the first example of $x_0 = 1, x_1 = 3$, we will have 3 columns for `y-train` where each column represent each class. So `y-train` will have the columns `class 0`, `class 1` and `class 2`. Since the first example belongs to `class 0`, then we will have a $1$ in the column `class 0` and the rest of the columns will be 0. Thus\n",
    "\n",
    "|x0|x1|y-truth class 0| y-truth class 1| y-truth class 2|\n",
    "|---|---|---|---|---|\n",
    "|1|3|1|0|0|\n",
    "\n",
    "Therefore the whole classification will be as follows:\n",
    "\n",
    "\n",
    "|x0|x1|class 0|class 1|class 2|\n",
    "|:---:|:---:|:---:|:---:|:---:|\n",
    "|1|3|1|0|0|\n",
    "|8|9|0|1|0|\n",
    "|5|4|0|0|1|\n",
    "|2|4|1|0|0|\n",
    "|9|8|0|1|0|\n",
    "\n",
    "The `y_train` should contain just like  the table below:\n",
    "\n",
    "|class 0|class 1|class 2|\n",
    "|:---:|:---:|:---:|\n",
    "|1|0|0|\n",
    "|0|1|0|\n",
    "|0|0|1|\n",
    "|1|0|0|\n",
    "|0|1|0|"
   ]
  },
  {
   "cell_type": "markdown",
   "id": "301e295b-d87d-4edb-8fe7-20bd76bb8e5c",
   "metadata": {},
   "source": [
    "### When should we use Class Index or One-Hot encoding?"
   ]
  },
  {
   "cell_type": "markdown",
   "id": "88c753be-7a30-4d78-a401-07fb7fbb30f8",
   "metadata": {},
   "source": [
    "Please note that categorical labeling can be applied to the training features or in this case applied in the y truth label."
   ]
  },
  {
   "cell_type": "markdown",
   "id": "31b1f080-6a10-433e-bfb1-c169bbeddc3d",
   "metadata": {},
   "source": [
    "#### Labeling y Truth"
   ]
  },
  {
   "cell_type": "markdown",
   "id": "f2747ef8-048e-4eb5-acea-a6c8a0888899",
   "metadata": {},
   "source": [
    "**Advantages of One-Hot Encoding**\n",
    "\n",
    "- One-hot encoding works well with Softmax function. As Softmax function computes the probability distribution across different class, this works well with one-hot encoding as no special conversion is required.\n",
    "- One-hot encoding is suitable for some models, loss function or framework that is designed and works well with this type of labeling.\n",
    "- One-hot encoding is suitable for multi-label classification.\n",
    "\n",
    "**Disadvantages of One-Hot Encoding**\n",
    "\n",
    "- This method takes up more memory and may result in many columns if there are many classes\n",
    "- It is also computationally more expensive\n",
    "\n",
    "\n",
    "**Advantages of Class Index**\n",
    "\n",
    "- Memory efficient\n",
    "- Simpler to implement\n",
    "- Some models or loss function works well with class index.\n",
    "\n",
    "**Disadvantages of Class Index**\n",
    "\n",
    "- Not suitable for multi-label classification\n",
    "\n"
   ]
  },
  {
   "cell_type": "markdown",
   "id": "334040f4-c703-4574-af9b-9a479dfdf1f0",
   "metadata": {},
   "source": [
    "**Recommendation**\n",
    "\n",
    "- The choice of using one-hot encoding or class index largely depends on the loss function and the model we choose. If our model or loss function works well with one type of encoding, then we can choose the type of labeling\n",
    "- It also depends on the expected output we need. If we need one-hot encoding as our output then we should choose the specific labeling.\n",
    "- Multi-label classification only works with one-hot encoding.\n",
    "- More often we had a column with text description, in such case, we need to consider how many classes are there. If we have too many classes, we might want to consider using class index. For simple classification, one-hot encoding is good enough.\n",
    "- Use class index for simplicity, especially when there are many classes.\n",
    "- Use class index if our data is very large and we want to save memory. "
   ]
  },
  {
   "cell_type": "markdown",
   "id": "4b577c67-82a8-4273-aa07-3211821fc046",
   "metadata": {},
   "source": [
    "#### Labeling Categorical Features"
   ]
  },
  {
   "cell_type": "markdown",
   "id": "6a90b12e-a905-4dbe-9e06-4d665da161c1",
   "metadata": {},
   "source": [
    "**The decision of using class index or one-hot encoding is more important if we need to process categorical data in the X features. Using one-hot encoding will increase the number of columns if there are many classes. However, there are advantages and disadvantages when using both methods.**\n",
    "\n",
    "- Based on the reference below, using class index might affect the training as the system might consider class 2 better than class 1 due to its order. If we need to preserve the order of classification, then class index might be useful and it uses one column instead of multiple columns.\n",
    "- If ordinal relationship (the order of classification) is not important or each classes do not have any order relationship between the classes, then one-hot encoding is better. In fact some practitioner prefer one-hot encoding to prevent ordinal relationship issue.\n",
    "\n",
    "Example:\n",
    "The following are example of classification that have no ordinal relationship.\n",
    "\n",
    "- classification of apple, orange\n",
    "- classification of cars, planes\n",
    "\n",
    "The following are example of classification that have ordinal relationship.\n",
    "\n",
    "- Rating systems (1- strongly disagree to 5-strongly agree ratings).\n",
    "- Risk system (low, medium and high risk)"
   ]
  },
  {
   "cell_type": "markdown",
   "id": "f88684ae-69eb-4e8f-8f56-94fefe529096",
   "metadata": {},
   "source": [
    "**Reference**\n",
    "\n",
    "- https://medium.com/geekculture/machine-learning-one-hot-encoding-vs-integer-encoding-f180eb831cf1\n",
    "- https://medium.com/@kevin.menear/comparing-label-encoding-one-hot-encoding-and-binary-encoding-for-handling-categorical-variables-933544ccbd02\n",
    "- https://chatgpt.com/share/6709e91f-5690-8000-afa4-60450a5e6615"
   ]
  },
  {
   "cell_type": "markdown",
   "id": "9bb112b4-4bad-4d4e-bbd1-416bdbc67fef",
   "metadata": {},
   "source": [
    "## Implementing Class Index and One-Hot Encoding"
   ]
  },
  {
   "cell_type": "markdown",
   "id": "0f69b1be-a44b-4ff6-8aca-02f31b5ba9b9",
   "metadata": {},
   "source": [
    "### Converting Data to Class Index using SciKit Learn"
   ]
  },
  {
   "cell_type": "markdown",
   "id": "c36e9e06-cdb1-49f9-90b3-448ea5bc78ba",
   "metadata": {},
   "source": [
    "Consider the following data\n",
    "\n",
    "|x0|x1|y-truth|\n",
    "|---|---|---|\n",
    "|1|3|Cat A|\n",
    "|8|9|Cat B|\n",
    "|5|4|Cat C|\n",
    "|2|4|Cat A|\n",
    "|9|8|Cat B|"
   ]
  },
  {
   "cell_type": "code",
   "execution_count": 2,
   "id": "0706f5d1-079f-4b3c-a9ee-0b016f42baff",
   "metadata": {},
   "outputs": [],
   "source": [
    "X = np.array([[1, 3], [8, 9], [5,4], [2,4], [9,8]])\n",
    "y = np.array(['Cat A', 'Cat B', 'Cat C', 'Cat A', 'Cat B'])"
   ]
  },
  {
   "cell_type": "code",
   "execution_count": 3,
   "id": "9b0f6995-8c0f-4eff-9ce7-29d97512362d",
   "metadata": {},
   "outputs": [
    {
     "data": {
      "text/plain": [
       "array([0, 1, 2, 0, 1])"
      ]
     },
     "execution_count": 3,
     "metadata": {},
     "output_type": "execute_result"
    }
   ],
   "source": [
    "convert_order = preprocessing.LabelEncoder()\n",
    "y_convert_index = convert_order.fit_transform(y)\n",
    "y_convert_index"
   ]
  },
  {
   "cell_type": "code",
   "execution_count": 4,
   "id": "4c5beaa3-a7ef-45ab-8fd1-551ea93d812c",
   "metadata": {},
   "outputs": [
    {
     "data": {
      "text/plain": [
       "array(['Cat A', 'Cat B', 'Cat C'], dtype='<U5')"
      ]
     },
     "execution_count": 4,
     "metadata": {},
     "output_type": "execute_result"
    }
   ],
   "source": [
    "convert_order.classes_"
   ]
  },
  {
   "cell_type": "code",
   "execution_count": 5,
   "id": "80f0c3ae-2787-4255-adc4-d690a316e4e8",
   "metadata": {},
   "outputs": [
    {
     "data": {
      "text/plain": [
       "array([[0.],\n",
       "       [1.],\n",
       "       [2.],\n",
       "       [0.],\n",
       "       [1.]])"
      ]
     },
     "execution_count": 5,
     "metadata": {},
     "output_type": "execute_result"
    }
   ],
   "source": [
    "convert_order2 = preprocessing.OrdinalEncoder()\n",
    "y_convert_index2 = convert_order2.fit_transform(y.reshape(-1,1))\n",
    "y_convert_index2"
   ]
  },
  {
   "cell_type": "code",
   "execution_count": 6,
   "id": "f51345ef-187f-4ad9-8f82-9d546185e105",
   "metadata": {},
   "outputs": [
    {
     "data": {
      "text/plain": [
       "[array(['Cat A', 'Cat B', 'Cat C'], dtype='<U5')]"
      ]
     },
     "execution_count": 6,
     "metadata": {},
     "output_type": "execute_result"
    }
   ],
   "source": [
    "convert_order2.categories_"
   ]
  },
  {
   "cell_type": "code",
   "execution_count": 7,
   "id": "6151d608-17f4-4353-bcc0-729ad9fb179d",
   "metadata": {},
   "outputs": [],
   "source": [
    "# Partial Representation\n",
    "Xa = np.array([[1, 3], [8, 9]])\n",
    "ya = np.array(['Cat A', 'Cat B'])"
   ]
  },
  {
   "cell_type": "code",
   "execution_count": 8,
   "id": "1a775124-5242-4a31-a5dd-c063c59ce9de",
   "metadata": {},
   "outputs": [
    {
     "data": {
      "text/plain": [
       "array([0, 1])"
      ]
     },
     "execution_count": 8,
     "metadata": {},
     "output_type": "execute_result"
    }
   ],
   "source": [
    "convert_order = preprocessing.LabelEncoder()\n",
    "ya_convert_index = convert_order.fit_transform(ya)\n",
    "ya_convert_index"
   ]
  },
  {
   "cell_type": "markdown",
   "id": "df7f90c9-df40-4d9d-a3ec-589f2c3fedb0",
   "metadata": {},
   "source": [
    "<div class=\"alert alert-block alert-warning\">\n",
    "\n",
    "**Important**:\n",
    "`preprocessing.LabelEncoder()` and `preprocessing.OrdinalEncoder()` only work when all the class are represented in `y_train`.\n",
    "\n",
    "</div>"
   ]
  },
  {
   "cell_type": "markdown",
   "id": "8d77963f-abff-46d8-8e56-0fe698aa0b7d",
   "metadata": {},
   "source": [
    "**What is the Difference between OrdinalEncoder and LabelEncoder**\n",
    "\n",
    "The key difference is that ordinal encoder consider the order of the class whereas label encoder does not take the order into consideration.\n",
    "\n",
    "**Reference**\n",
    "- https://www.geeksforgeeks.org/what-is-the-difference-between-ordinalencoder-and-labelencoder/"
   ]
  },
  {
   "cell_type": "markdown",
   "id": "7f755c9b-dde3-49b2-82b7-3cfa6bf6a09d",
   "metadata": {},
   "source": [
    "### Converting Data to Class Index using Pandas"
   ]
  },
  {
   "cell_type": "code",
   "execution_count": 9,
   "id": "39a02a3f-b973-4125-86cb-9797eefce2f9",
   "metadata": {},
   "outputs": [],
   "source": [
    "X = np.array([[1, 3], [8, 9], [5,4], [2,4], [9,8]])\n",
    "y = np.array(['Cat A', 'Cat B', 'Cat C', 'Cat A', 'Cat B'])"
   ]
  },
  {
   "cell_type": "code",
   "execution_count": 10,
   "id": "3426a0e1-65d8-44f0-8de6-6e7b244210c5",
   "metadata": {},
   "outputs": [],
   "source": [
    "xdf = pd.DataFrame(X, columns=['x0','x1'])\n",
    "ydf = pd.DataFrame(y, columns=['y'])                  "
   ]
  },
  {
   "cell_type": "code",
   "execution_count": 11,
   "id": "fb0aee77-5f57-49ba-b2e0-fae8dc8db71d",
   "metadata": {},
   "outputs": [
    {
     "data": {
      "text/html": [
       "<div>\n",
       "<style scoped>\n",
       "    .dataframe tbody tr th:only-of-type {\n",
       "        vertical-align: middle;\n",
       "    }\n",
       "\n",
       "    .dataframe tbody tr th {\n",
       "        vertical-align: top;\n",
       "    }\n",
       "\n",
       "    .dataframe thead th {\n",
       "        text-align: right;\n",
       "    }\n",
       "</style>\n",
       "<table border=\"1\" class=\"dataframe\">\n",
       "  <thead>\n",
       "    <tr style=\"text-align: right;\">\n",
       "      <th></th>\n",
       "      <th>y</th>\n",
       "    </tr>\n",
       "  </thead>\n",
       "  <tbody>\n",
       "    <tr>\n",
       "      <th>0</th>\n",
       "      <td>Cat A</td>\n",
       "    </tr>\n",
       "    <tr>\n",
       "      <th>1</th>\n",
       "      <td>Cat B</td>\n",
       "    </tr>\n",
       "    <tr>\n",
       "      <th>2</th>\n",
       "      <td>Cat C</td>\n",
       "    </tr>\n",
       "    <tr>\n",
       "      <th>3</th>\n",
       "      <td>Cat A</td>\n",
       "    </tr>\n",
       "    <tr>\n",
       "      <th>4</th>\n",
       "      <td>Cat B</td>\n",
       "    </tr>\n",
       "  </tbody>\n",
       "</table>\n",
       "</div>"
      ],
      "text/plain": [
       "       y\n",
       "0  Cat A\n",
       "1  Cat B\n",
       "2  Cat C\n",
       "3  Cat A\n",
       "4  Cat B"
      ]
     },
     "execution_count": 11,
     "metadata": {},
     "output_type": "execute_result"
    }
   ],
   "source": [
    "ydf "
   ]
  },
  {
   "cell_type": "code",
   "execution_count": 12,
   "id": "35ac9e8f-5c74-4621-9ee5-1197f7225230",
   "metadata": {},
   "outputs": [
    {
     "data": {
      "text/plain": [
       "['Cat A', 'Cat B', 'Cat C', 'Cat A', 'Cat B']\n",
       "Categories (3, object): ['Cat A', 'Cat B', 'Cat C']"
      ]
     },
     "execution_count": 12,
     "metadata": {},
     "output_type": "execute_result"
    }
   ],
   "source": [
    "ydf = pd.Categorical(ydf.y)\n",
    "ydf"
   ]
  },
  {
   "cell_type": "code",
   "execution_count": 13,
   "id": "e2546fad-0493-451d-8ddb-4fa425eecc4c",
   "metadata": {},
   "outputs": [
    {
     "data": {
      "text/plain": [
       "array([0, 1, 2, 0, 1], dtype=int8)"
      ]
     },
     "execution_count": 13,
     "metadata": {},
     "output_type": "execute_result"
    }
   ],
   "source": [
    "ydf.codes"
   ]
  },
  {
   "cell_type": "code",
   "execution_count": 14,
   "id": "7d8ba94e-41ca-4761-8d5a-0c7133c775af",
   "metadata": {},
   "outputs": [],
   "source": [
    "# Partial Representation\n",
    "Xa = np.array([[1, 3], [8, 9]])\n",
    "ya = np.array(['Cat A', 'Cat B'])"
   ]
  },
  {
   "cell_type": "code",
   "execution_count": 15,
   "id": "f375bf7c-c2f9-4cf5-bb00-1c0ecc212ff2",
   "metadata": {},
   "outputs": [],
   "source": [
    "yadf = pd.DataFrame(ya, columns=['ya'])     "
   ]
  },
  {
   "cell_type": "code",
   "execution_count": 16,
   "id": "6ff3f24d-258f-4d1f-8e19-562c5d6702fa",
   "metadata": {},
   "outputs": [
    {
     "data": {
      "text/plain": [
       "['Cat A', 'Cat B']\n",
       "Categories (2, object): ['Cat A', 'Cat B']"
      ]
     },
     "execution_count": 16,
     "metadata": {},
     "output_type": "execute_result"
    }
   ],
   "source": [
    "yadf = pd.Categorical(yadf.ya)\n",
    "yadf"
   ]
  },
  {
   "cell_type": "code",
   "execution_count": 17,
   "id": "4130e0e2-191e-4092-9fa1-2728b76e0618",
   "metadata": {},
   "outputs": [
    {
     "data": {
      "text/plain": [
       "array([0, 1], dtype=int8)"
      ]
     },
     "execution_count": 17,
     "metadata": {},
     "output_type": "execute_result"
    }
   ],
   "source": [
    "yadf.codes"
   ]
  },
  {
   "cell_type": "markdown",
   "id": "21afbc94-dfb4-4a55-8947-afef0e8ccca2",
   "metadata": {},
   "source": [
    "<div class=\"alert alert-block alert-warning\">\n",
    "\n",
    "**Important**:\n",
    "`pd.Categorical()` only work when all the class are represented in `y_train`.\n",
    "\n",
    "</div>"
   ]
  },
  {
   "cell_type": "markdown",
   "id": "f5f47246-0ebc-4a16-81c1-9e4a77190476",
   "metadata": {},
   "source": [
    "### Converting Data to One-Hot Encoding SciKit Learn"
   ]
  },
  {
   "cell_type": "code",
   "execution_count": 18,
   "id": "c1587eb9-fd79-4860-8b74-4d97fc67d5c0",
   "metadata": {},
   "outputs": [],
   "source": [
    "X = np.array([[1, 3], [8, 9], [5,4], [2,4], [9,8]])\n",
    "y = np.array(['Cat A', 'Cat B', 'Cat C', 'Cat A', 'Cat B']).reshape(-1,1)"
   ]
  },
  {
   "cell_type": "code",
   "execution_count": 19,
   "id": "c06f3cd2-5b2b-4900-906d-ae93d601946f",
   "metadata": {},
   "outputs": [
    {
     "data": {
      "text/plain": [
       "array([[1., 0., 0.],\n",
       "       [0., 1., 0.],\n",
       "       [0., 0., 1.],\n",
       "       [1., 0., 0.],\n",
       "       [0., 1., 0.]])"
      ]
     },
     "execution_count": 19,
     "metadata": {},
     "output_type": "execute_result"
    }
   ],
   "source": [
    "one_hot_convert = preprocessing.OneHotEncoder()\n",
    "y_convert_one_hot = one_hot_convert.fit_transform(y).toarray()\n",
    "y_convert_one_hot"
   ]
  },
  {
   "cell_type": "code",
   "execution_count": 20,
   "id": "4a8d1907-1a7e-47bc-b8fe-ee303dcfa19b",
   "metadata": {},
   "outputs": [
    {
     "data": {
      "text/plain": [
       "[array(['Cat A', 'Cat B', 'Cat C'], dtype='<U5')]"
      ]
     },
     "execution_count": 20,
     "metadata": {},
     "output_type": "execute_result"
    }
   ],
   "source": [
    "one_hot_convert.categories_"
   ]
  },
  {
   "cell_type": "code",
   "execution_count": 21,
   "id": "11bae6fb-c1a8-45d9-899c-fb64fdfa3fd3",
   "metadata": {},
   "outputs": [],
   "source": [
    "# Partial Representation\n",
    "Xa = np.array([[1, 3], [8, 9]])\n",
    "ya = np.array(['Cat A', 'Cat B']).reshape(-1,1)"
   ]
  },
  {
   "cell_type": "code",
   "execution_count": 22,
   "id": "d5101bab-e020-4cba-8fdc-1dd8f0dafb27",
   "metadata": {},
   "outputs": [
    {
     "data": {
      "text/plain": [
       "array([[1., 0.],\n",
       "       [0., 1.]])"
      ]
     },
     "execution_count": 22,
     "metadata": {},
     "output_type": "execute_result"
    }
   ],
   "source": [
    "one_hot_convert = preprocessing.OneHotEncoder()\n",
    "ya_convert_one_hot = one_hot_convert.fit_transform(ya).toarray()\n",
    "ya_convert_one_hot"
   ]
  },
  {
   "cell_type": "markdown",
   "id": "04fcee07-c43f-4e7c-8728-eff9fd937112",
   "metadata": {},
   "source": [
    "<div class=\"alert alert-block alert-warning\">\n",
    "\n",
    "**Important**:\n",
    "`preprocessing.OneHotEncoder()` only work when all the class are represented in `y_train`.\n",
    "\n",
    "</div>"
   ]
  },
  {
   "cell_type": "markdown",
   "id": "9c56afcc-cf18-4d56-b59d-e2c700fa4b4d",
   "metadata": {},
   "source": [
    "### Converting Data to One-Hot Encoding Pandas"
   ]
  },
  {
   "cell_type": "code",
   "execution_count": 23,
   "id": "0f284d4c-f56c-4e04-9e13-15c1dc9f3130",
   "metadata": {},
   "outputs": [],
   "source": [
    "xdf = pd.DataFrame(X, columns=['x0','x1'])\n",
    "ydf = pd.DataFrame(y, columns=['y'])    "
   ]
  },
  {
   "cell_type": "code",
   "execution_count": 24,
   "id": "9f0dfb76-03e0-40d0-a50a-255d993ae2dc",
   "metadata": {},
   "outputs": [
    {
     "data": {
      "text/html": [
       "<div>\n",
       "<style scoped>\n",
       "    .dataframe tbody tr th:only-of-type {\n",
       "        vertical-align: middle;\n",
       "    }\n",
       "\n",
       "    .dataframe tbody tr th {\n",
       "        vertical-align: top;\n",
       "    }\n",
       "\n",
       "    .dataframe thead th {\n",
       "        text-align: right;\n",
       "    }\n",
       "</style>\n",
       "<table border=\"1\" class=\"dataframe\">\n",
       "  <thead>\n",
       "    <tr style=\"text-align: right;\">\n",
       "      <th></th>\n",
       "      <th>x0</th>\n",
       "      <th>x1</th>\n",
       "    </tr>\n",
       "  </thead>\n",
       "  <tbody>\n",
       "    <tr>\n",
       "      <th>0</th>\n",
       "      <td>1</td>\n",
       "      <td>3</td>\n",
       "    </tr>\n",
       "    <tr>\n",
       "      <th>1</th>\n",
       "      <td>8</td>\n",
       "      <td>9</td>\n",
       "    </tr>\n",
       "    <tr>\n",
       "      <th>2</th>\n",
       "      <td>5</td>\n",
       "      <td>4</td>\n",
       "    </tr>\n",
       "    <tr>\n",
       "      <th>3</th>\n",
       "      <td>2</td>\n",
       "      <td>4</td>\n",
       "    </tr>\n",
       "    <tr>\n",
       "      <th>4</th>\n",
       "      <td>9</td>\n",
       "      <td>8</td>\n",
       "    </tr>\n",
       "  </tbody>\n",
       "</table>\n",
       "</div>"
      ],
      "text/plain": [
       "   x0  x1\n",
       "0   1   3\n",
       "1   8   9\n",
       "2   5   4\n",
       "3   2   4\n",
       "4   9   8"
      ]
     },
     "execution_count": 24,
     "metadata": {},
     "output_type": "execute_result"
    }
   ],
   "source": [
    "xdf"
   ]
  },
  {
   "cell_type": "code",
   "execution_count": 25,
   "id": "0bf915ed-5308-42ba-8a85-873ccfd1254a",
   "metadata": {},
   "outputs": [
    {
     "data": {
      "text/html": [
       "<div>\n",
       "<style scoped>\n",
       "    .dataframe tbody tr th:only-of-type {\n",
       "        vertical-align: middle;\n",
       "    }\n",
       "\n",
       "    .dataframe tbody tr th {\n",
       "        vertical-align: top;\n",
       "    }\n",
       "\n",
       "    .dataframe thead th {\n",
       "        text-align: right;\n",
       "    }\n",
       "</style>\n",
       "<table border=\"1\" class=\"dataframe\">\n",
       "  <thead>\n",
       "    <tr style=\"text-align: right;\">\n",
       "      <th></th>\n",
       "      <th>y</th>\n",
       "    </tr>\n",
       "  </thead>\n",
       "  <tbody>\n",
       "    <tr>\n",
       "      <th>0</th>\n",
       "      <td>Cat A</td>\n",
       "    </tr>\n",
       "    <tr>\n",
       "      <th>1</th>\n",
       "      <td>Cat B</td>\n",
       "    </tr>\n",
       "    <tr>\n",
       "      <th>2</th>\n",
       "      <td>Cat C</td>\n",
       "    </tr>\n",
       "    <tr>\n",
       "      <th>3</th>\n",
       "      <td>Cat A</td>\n",
       "    </tr>\n",
       "    <tr>\n",
       "      <th>4</th>\n",
       "      <td>Cat B</td>\n",
       "    </tr>\n",
       "  </tbody>\n",
       "</table>\n",
       "</div>"
      ],
      "text/plain": [
       "       y\n",
       "0  Cat A\n",
       "1  Cat B\n",
       "2  Cat C\n",
       "3  Cat A\n",
       "4  Cat B"
      ]
     },
     "execution_count": 25,
     "metadata": {},
     "output_type": "execute_result"
    }
   ],
   "source": [
    "ydf"
   ]
  },
  {
   "cell_type": "code",
   "execution_count": 26,
   "id": "fd3d2747-0b08-49a3-8fc5-250c45829769",
   "metadata": {},
   "outputs": [
    {
     "data": {
      "text/html": [
       "<div>\n",
       "<style scoped>\n",
       "    .dataframe tbody tr th:only-of-type {\n",
       "        vertical-align: middle;\n",
       "    }\n",
       "\n",
       "    .dataframe tbody tr th {\n",
       "        vertical-align: top;\n",
       "    }\n",
       "\n",
       "    .dataframe thead th {\n",
       "        text-align: right;\n",
       "    }\n",
       "</style>\n",
       "<table border=\"1\" class=\"dataframe\">\n",
       "  <thead>\n",
       "    <tr style=\"text-align: right;\">\n",
       "      <th></th>\n",
       "      <th>y_Cat A</th>\n",
       "      <th>y_Cat B</th>\n",
       "      <th>y_Cat C</th>\n",
       "    </tr>\n",
       "  </thead>\n",
       "  <tbody>\n",
       "    <tr>\n",
       "      <th>0</th>\n",
       "      <td>True</td>\n",
       "      <td>False</td>\n",
       "      <td>False</td>\n",
       "    </tr>\n",
       "    <tr>\n",
       "      <th>1</th>\n",
       "      <td>False</td>\n",
       "      <td>True</td>\n",
       "      <td>False</td>\n",
       "    </tr>\n",
       "    <tr>\n",
       "      <th>2</th>\n",
       "      <td>False</td>\n",
       "      <td>False</td>\n",
       "      <td>True</td>\n",
       "    </tr>\n",
       "    <tr>\n",
       "      <th>3</th>\n",
       "      <td>True</td>\n",
       "      <td>False</td>\n",
       "      <td>False</td>\n",
       "    </tr>\n",
       "    <tr>\n",
       "      <th>4</th>\n",
       "      <td>False</td>\n",
       "      <td>True</td>\n",
       "      <td>False</td>\n",
       "    </tr>\n",
       "  </tbody>\n",
       "</table>\n",
       "</div>"
      ],
      "text/plain": [
       "   y_Cat A  y_Cat B  y_Cat C\n",
       "0     True    False    False\n",
       "1    False     True    False\n",
       "2    False    False     True\n",
       "3     True    False    False\n",
       "4    False     True    False"
      ]
     },
     "execution_count": 26,
     "metadata": {},
     "output_type": "execute_result"
    }
   ],
   "source": [
    "y = pd.get_dummies(ydf)\n",
    "y"
   ]
  },
  {
   "cell_type": "code",
   "execution_count": 27,
   "id": "41e8a840-6f93-4f84-88cb-9b06cc29d99b",
   "metadata": {},
   "outputs": [],
   "source": [
    "# Partial Representation\n",
    "Xa = np.array([[1, 3], [8, 9]])\n",
    "ya = np.array(['Cat A', 'Cat B']).reshape(-1,1)"
   ]
  },
  {
   "cell_type": "code",
   "execution_count": 28,
   "id": "5e485d1f-49ca-47a9-826d-5ddf919c4a0e",
   "metadata": {},
   "outputs": [],
   "source": [
    "Xadf = pd.DataFrame(Xa, columns=['x0','x1'])\n",
    "yadf = pd.DataFrame(ya, columns=['y'])    "
   ]
  },
  {
   "cell_type": "code",
   "execution_count": 29,
   "id": "ecb3712e-3054-4d45-9d89-65e5fd273596",
   "metadata": {},
   "outputs": [
    {
     "data": {
      "text/html": [
       "<div>\n",
       "<style scoped>\n",
       "    .dataframe tbody tr th:only-of-type {\n",
       "        vertical-align: middle;\n",
       "    }\n",
       "\n",
       "    .dataframe tbody tr th {\n",
       "        vertical-align: top;\n",
       "    }\n",
       "\n",
       "    .dataframe thead th {\n",
       "        text-align: right;\n",
       "    }\n",
       "</style>\n",
       "<table border=\"1\" class=\"dataframe\">\n",
       "  <thead>\n",
       "    <tr style=\"text-align: right;\">\n",
       "      <th></th>\n",
       "      <th>y_Cat A</th>\n",
       "      <th>y_Cat B</th>\n",
       "    </tr>\n",
       "  </thead>\n",
       "  <tbody>\n",
       "    <tr>\n",
       "      <th>0</th>\n",
       "      <td>True</td>\n",
       "      <td>False</td>\n",
       "    </tr>\n",
       "    <tr>\n",
       "      <th>1</th>\n",
       "      <td>False</td>\n",
       "      <td>True</td>\n",
       "    </tr>\n",
       "  </tbody>\n",
       "</table>\n",
       "</div>"
      ],
      "text/plain": [
       "   y_Cat A  y_Cat B\n",
       "0     True    False\n",
       "1    False     True"
      ]
     },
     "execution_count": 29,
     "metadata": {},
     "output_type": "execute_result"
    }
   ],
   "source": [
    "ya = pd.get_dummies(yadf)\n",
    "ya"
   ]
  },
  {
   "cell_type": "markdown",
   "id": "95411165-c9ea-4e41-8b01-a66320ca8b80",
   "metadata": {},
   "source": [
    "<div class=\"alert alert-block alert-warning\">\n",
    "\n",
    "**Important**:\n",
    "`pd.get_dummies()` only work when all the class are represented in `y_train`.\n",
    "\n",
    "</div>"
   ]
  },
  {
   "cell_type": "markdown",
   "id": "18e8ed3f-566e-4763-9054-85d172dcee19",
   "metadata": {},
   "source": [
    "### Converting Data to One-Hot Encoding from Class Index Alternative"
   ]
  },
  {
   "cell_type": "markdown",
   "id": "c4ce2eaa-4199-4f2a-8ace-aacce4ad3441",
   "metadata": {},
   "source": [
    "The following methods do not need to have all class represented:"
   ]
  },
  {
   "cell_type": "code",
   "execution_count": 30,
   "id": "51b746e9-4658-4519-8aea-a1a41aae485b",
   "metadata": {},
   "outputs": [],
   "source": [
    "X = np.array([[1, 3], [8, 9], [5,4], [2,4], [9,8]])\n",
    "y = np.array(['Cat A', 'Cat B', 'Cat C', 'Cat A', 'Cat B'])"
   ]
  },
  {
   "cell_type": "code",
   "execution_count": 31,
   "id": "21eb0758-48fb-4a4b-84c5-820793719a0b",
   "metadata": {},
   "outputs": [
    {
     "data": {
      "text/plain": [
       "array([0, 1, 2, 0, 1])"
      ]
     },
     "execution_count": 31,
     "metadata": {},
     "output_type": "execute_result"
    }
   ],
   "source": [
    "convert_order = preprocessing.LabelEncoder()\n",
    "y_convert_index = convert_order.fit_transform(y)\n",
    "y_convert_index"
   ]
  },
  {
   "cell_type": "code",
   "execution_count": 32,
   "id": "1491260c-2d5d-4cb8-8d3a-fe9b780e38b2",
   "metadata": {},
   "outputs": [
    {
     "data": {
      "text/plain": [
       "3"
      ]
     },
     "execution_count": 32,
     "metadata": {},
     "output_type": "execute_result"
    }
   ],
   "source": [
    "number_of_class = len(np.unique(y_convert_index))\n",
    "number_of_class"
   ]
  },
  {
   "cell_type": "code",
   "execution_count": 33,
   "id": "21f3b535-65ea-45db-9ead-54a8482c4962",
   "metadata": {},
   "outputs": [
    {
     "data": {
      "text/plain": [
       "array([[1., 0., 0.],\n",
       "       [0., 1., 0.],\n",
       "       [0., 0., 1.],\n",
       "       [1., 0., 0.],\n",
       "       [0., 1., 0.]])"
      ]
     },
     "execution_count": 33,
     "metadata": {},
     "output_type": "execute_result"
    }
   ],
   "source": [
    "y_oh = np.identity(number_of_class)[y_convert_index]\n",
    "y_oh"
   ]
  },
  {
   "cell_type": "code",
   "execution_count": 34,
   "id": "ffe916dc-57a6-4c85-af4f-363141e30685",
   "metadata": {},
   "outputs": [],
   "source": [
    "# Partial Representation\n",
    "Xa = np.array([[1, 3], [8, 9]])\n",
    "ya = np.array(['Cat A', 'Cat B'])"
   ]
  },
  {
   "cell_type": "code",
   "execution_count": 35,
   "id": "782cc5c2-0887-4a62-abeb-2d39665898cd",
   "metadata": {},
   "outputs": [
    {
     "data": {
      "text/plain": [
       "array([0, 1])"
      ]
     },
     "execution_count": 35,
     "metadata": {},
     "output_type": "execute_result"
    }
   ],
   "source": [
    "convert_order = preprocessing.LabelEncoder()\n",
    "ya_convert_index = convert_order.fit_transform(ya)\n",
    "ya_convert_index"
   ]
  },
  {
   "cell_type": "code",
   "execution_count": 36,
   "id": "1dd20220-e5a6-4765-b15d-1b522df8e73a",
   "metadata": {},
   "outputs": [],
   "source": [
    "# We need to hard code the number of class since all class information are not represented\n",
    "number_of_class = 3 # hard code"
   ]
  },
  {
   "cell_type": "code",
   "execution_count": 37,
   "id": "272c6f56-037e-4771-84c4-edd78047dda6",
   "metadata": {},
   "outputs": [
    {
     "data": {
      "text/plain": [
       "array([[1., 0., 0.],\n",
       "       [0., 1., 0.]])"
      ]
     },
     "execution_count": 37,
     "metadata": {},
     "output_type": "execute_result"
    }
   ],
   "source": [
    "ya_oh = np.identity(number_of_class)[ya_convert_index]\n",
    "ya_oh"
   ]
  },
  {
   "cell_type": "code",
   "execution_count": 38,
   "id": "c9347776-4c36-42ee-9df9-83d7b335ba58",
   "metadata": {},
   "outputs": [
    {
     "data": {
      "text/plain": [
       "array([[1., 0., 0.],\n",
       "       [0., 1., 0.]])"
      ]
     },
     "execution_count": 38,
     "metadata": {},
     "output_type": "execute_result"
    }
   ],
   "source": [
    "ya_oh1 = np.eye(number_of_class)[ya_convert_index]\n",
    "ya_oh1"
   ]
  },
  {
   "cell_type": "markdown",
   "id": "56a0ab0b-d5d1-4c79-9a39-c0ef660b7ee2",
   "metadata": {},
   "source": [
    "- **`np.identity` is the same as `np.eye`**\n",
    "- **The above method is useful when we know that there are how many classification, but we do not have the representing data with us. However, we cannot have more than one missing classes.**"
   ]
  },
  {
   "cell_type": "markdown",
   "id": "770fdb18-7796-43f7-8f95-feee04689ca4",
   "metadata": {},
   "source": [
    "### Converting Data from One-Hot Encoding to Class Index"
   ]
  },
  {
   "cell_type": "markdown",
   "id": "4dd011a9-6086-4323-9f0a-8b228a5f521f",
   "metadata": {},
   "source": [
    "If we have one-hot encoded data, we can convert them back to class index as follows:"
   ]
  },
  {
   "cell_type": "code",
   "execution_count": 39,
   "id": "544f15de-4f47-4cde-ac24-3c11be8a4e4d",
   "metadata": {},
   "outputs": [
    {
     "data": {
      "text/plain": [
       "array([[1, 0, 0],\n",
       "       [0, 1, 0],\n",
       "       [0, 0, 1],\n",
       "       [1, 0, 0],\n",
       "       [0, 0, 1],\n",
       "       [0, 1, 0]])"
      ]
     },
     "execution_count": 39,
     "metadata": {},
     "output_type": "execute_result"
    }
   ],
   "source": [
    "yb = np.array([[1,0,0],[0,1,0],[0,0,1],[1,0,0],[0,0,1],[0,1,0]])\n",
    "yb"
   ]
  },
  {
   "cell_type": "code",
   "execution_count": 40,
   "id": "acd7c2a1-bac9-4bc2-ae19-0403cec63013",
   "metadata": {},
   "outputs": [
    {
     "data": {
      "text/plain": [
       "array([0, 1, 2, 0, 2, 1])"
      ]
     },
     "execution_count": 40,
     "metadata": {},
     "output_type": "execute_result"
    }
   ],
   "source": [
    "np.argmax(yb, axis=1)"
   ]
  },
  {
   "cell_type": "markdown",
   "id": "fe5cb777",
   "metadata": {},
   "source": [
    "## Preparation of Simple Multi-Class Classification Data"
   ]
  },
  {
   "cell_type": "markdown",
   "id": "9b4fd5d7-4142-44f9-9842-e666592c9d92",
   "metadata": {},
   "source": [
    "### Example 1: 3 Class Custom Data"
   ]
  },
  {
   "cell_type": "code",
   "execution_count": 41,
   "id": "6f16999b-23df-4d5f-9524-33597e990868",
   "metadata": {},
   "outputs": [],
   "source": [
    "X1 = np.array([[1, 3], [2,4], [8, 9], [3,4],[7, 8.5], [6.8, 7.5], [2,5],[1.5, 2.5],[6,3],[7,4],[6,5], [6,8], [8,3],[5,4],[9,8]])\n",
    "y1 = np.array([0, 0, 1, 0, 1, 1, 0, 0, 2, 2, 2, 1, 2, 2, 1])"
   ]
  },
  {
   "cell_type": "code",
   "execution_count": 42,
   "id": "b2e671bc-bf92-4d53-9fda-3e376c8494e3",
   "metadata": {},
   "outputs": [],
   "source": [
    "X1_c0 = X1[y1 == 0]\n",
    "X1_c1 = X1[y1 == 1]\n",
    "X1_c2 = X1[y1 == 2]"
   ]
  },
  {
   "cell_type": "code",
   "execution_count": 43,
   "id": "17b4c8e4-10c7-4e4b-a23e-618416b5ae84",
   "metadata": {},
   "outputs": [
    {
     "data": {
      "image/png": "[encoded data removed]",
      "text/plain": [
       "<Figure size 800x500 with 1 Axes>"
      ]
     },
     "metadata": {},
     "output_type": "display_data"
    }
   ],
   "source": [
    "plt.close('all')\n",
    "fig, (ax1) = plt.subplots(1, 1, figsize=(8, 5))\n",
    "ax1.scatter(X1_c0[:,0], X1_c0[:,1], marker='o', s = 80, c='b', label=\"Class 0\")\n",
    "ax1.scatter(X1_c1[:,0], X1_c1[:,1], marker='x', s = 80, c='r', label=\"Class 1\")\n",
    "ax1.scatter(X1_c2[:,0], X1_c2[:,1], marker='*', s = 80, c='g', label=\"Class 2\")\n",
    "ax1.set_title('Classfication Data')\n",
    "ax1.set_xlabel('Feature 1')\n",
    "ax1.set_ylabel('Feature 2')\n",
    "ax1.legend(loc=\"upper left\")\n",
    "plt.show()"
   ]
  },
  {
   "cell_type": "markdown",
   "id": "94ce2411-6649-452c-8873-c56492de0554",
   "metadata": {},
   "source": [
    "### Example 2: 3 Class Basic Example"
   ]
  },
  {
   "cell_type": "code",
   "execution_count": 44,
   "id": "84bcc0b4-25c7-4f9e-9b53-216bb90283b6",
   "metadata": {},
   "outputs": [],
   "source": [
    "X2, y2 = make_classification(n_samples=30, n_features = 2, n_informative=2, n_redundant=0, n_repeated=0, n_classes=3, \n",
    "                             n_clusters_per_class = 1, random_state=15)"
   ]
  },
  {
   "cell_type": "code",
   "execution_count": 45,
   "id": "4db2c40c-70a8-4a18-894a-8f4510001566",
   "metadata": {},
   "outputs": [
    {
     "data": {
      "text/plain": [
       "array([[ 0.27912991, -1.44037331],\n",
       "       [ 1.09078803,  2.87039611],\n",
       "       [-0.1421124 , -1.92345206],\n",
       "       [ 0.52621628,  0.19413389],\n",
       "       [ 1.23776235, -0.80607812],\n",
       "       [ 0.92997061,  2.2107433 ],\n",
       "       [ 0.92163467, -0.99339502],\n",
       "       [-1.25848203,  2.69425705],\n",
       "       [-1.16747321,  1.02481538],\n",
       "       [ 0.34863806,  0.15637629],\n",
       "       [-0.91380625,  0.89020462],\n",
       "       [-1.02732663,  1.31426767],\n",
       "       [-0.79246704,  0.71060574],\n",
       "       [ 1.23144309,  2.18451769],\n",
       "       [-1.34277644,  2.39459039],\n",
       "       [-0.89802635,  1.12900034],\n",
       "       [ 1.60262439,  2.18545311],\n",
       "       [-0.28457476, -2.03758725],\n",
       "       [ 1.77926414, -0.46952691],\n",
       "       [ 2.02633732,  2.02052107],\n",
       "       [ 1.31489592, -0.27941799],\n",
       "       [-1.14698508, -0.14463301],\n",
       "       [ 1.13865231,  2.18013876],\n",
       "       [ 0.56927256, -1.30431595],\n",
       "       [ 1.35870645, -0.79851399],\n",
       "       [ 1.45015611, -0.59655324],\n",
       "       [-0.84034771,  0.09035531],\n",
       "       [-0.17669223,  1.82078771],\n",
       "       [-0.93615324,  0.77835966],\n",
       "       [ 0.90909835, -1.08810057]])"
      ]
     },
     "execution_count": 45,
     "metadata": {},
     "output_type": "execute_result"
    }
   ],
   "source": [
    "X2"
   ]
  },
  {
   "cell_type": "code",
   "execution_count": 46,
   "id": "be398888-7364-4205-9066-868002033c20",
   "metadata": {},
   "outputs": [
    {
     "data": {
      "text/plain": [
       "array([2, 1, 2, 1, 2, 1, 2, 0, 0, 1, 0, 0, 0, 1, 0, 0, 1, 2, 2, 1, 1, 0,\n",
       "       1, 2, 2, 2, 0, 1, 0, 2])"
      ]
     },
     "execution_count": 46,
     "metadata": {},
     "output_type": "execute_result"
    }
   ],
   "source": [
    "y2"
   ]
  },
  {
   "cell_type": "code",
   "execution_count": 47,
   "id": "09c29142-7c7a-4be9-b218-9bac1fe43503",
   "metadata": {},
   "outputs": [
    {
     "data": {
      "image/png": "[encoded data removed]",
      "text/plain": [
       "<Figure size 800x500 with 1 Axes>"
      ]
     },
     "metadata": {},
     "output_type": "display_data"
    }
   ],
   "source": [
    "plt.close('all')\n",
    "fig, (ax1) = plt.subplots(1, 1, figsize=(8, 5))\n",
    "ax1.scatter(X2[:, 0], X2[:, 1], c=y2, edgecolors='k', cmap=plt.cm.RdYlBu)\n",
    "ax1.set_title('Classfication Data')\n",
    "ax1.set_xlabel('Feature 1')\n",
    "ax1.set_ylabel('Feature 2')\n",
    "plt.show()"
   ]
  },
  {
   "cell_type": "markdown",
   "id": "a4430ede-e88a-4456-beac-4959c7183c98",
   "metadata": {},
   "source": [
    "### Example 3 : 4 Class"
   ]
  },
  {
   "cell_type": "code",
   "execution_count": 48,
   "id": "95f46328-ab52-47a3-aab1-52b48b7c87db",
   "metadata": {},
   "outputs": [],
   "source": [
    "X3, y3 = make_classification(n_samples=50, n_features = 2, n_informative = 2, n_redundant=0, n_repeated=0, \n",
    "                             n_classes=4, n_clusters_per_class = 1, random_state=33)"
   ]
  },
  {
   "cell_type": "code",
   "execution_count": 49,
   "id": "7e9e84a4-2d81-4417-aa03-81293230e58e",
   "metadata": {},
   "outputs": [
    {
     "data": {
      "image/png": "[encoded data removed]",
      "text/plain": [
       "<Figure size 800x500 with 1 Axes>"
      ]
     },
     "metadata": {},
     "output_type": "display_data"
    }
   ],
   "source": [
    "plt.close('all')\n",
    "fig, (ax1) = plt.subplots(1, 1, figsize=(8, 5))\n",
    "ax1.scatter(X3[:, 0], X3[:, 1], c=y3, edgecolors='k', cmap=plt.cm.RdYlBu)\n",
    "ax1.set_title('Classfication Data')\n",
    "ax1.set_xlabel('Feature 1')\n",
    "ax1.set_ylabel('Feature 2')\n",
    "plt.show()"
   ]
  },
  {
   "cell_type": "markdown",
   "id": "a87fc317-2b7c-428f-924c-347116fd4bf0",
   "metadata": {},
   "source": [
    "## SciKit Learn Logistics Regression and Regularization"
   ]
  },
  {
   "cell_type": "markdown",
   "id": "3b59ca61-8a54-4f34-9cfc-0efd5d98a25d",
   "metadata": {},
   "source": [
    "In SciKit Learn, `LogisticsRegression()` also supported multi-class classification. However, only some solver supported Softmax. Currently, `LogisticsRegression()` support OvR and multinomial by setting `multi_class`. However, this will be deprecated soon.\n",
    "\n",
    "Going forward, use `sklearn.multiclass.OneVsRestClassifier(LogisticRegression())` instead for OvR. In `sklearn.multiclass.OneVsRestClassifier(LogisticRegression())` we can add our solver and penalty inside `LogisticsRegression()`. All solvers supports OvR.\n",
    "\n",
    "`LogisticsRegression()` will be used for multinomial going forward.\n"
   ]
  },
  {
   "cell_type": "markdown",
   "id": "17ca949e-4c04-45cb-80d6-e7ed639f1f90",
   "metadata": {},
   "source": [
    "|Solver|Supported Penalty|multinomial multiclass|ovr|\n",
    "|---|---|---|---|\n",
    "|‘lbfgs’|‘l2’, None|yes|yes|\n",
    "|‘liblinear’|‘l1’, ‘l2’|no|yes|\n",
    "|‘newton-cg’|‘l2’, None|yes|yes|\n",
    "|‘newton-cholesky’|‘l2’, None|no|yes|\n",
    "|‘sag’|‘l2’, None|yes|yes|\n",
    "|‘saga’|‘elasticnet’, ‘l1’, ‘l2’, None|yes|yes|"
   ]
  },
  {
   "cell_type": "markdown",
   "id": "e3ae3997-49ed-4a17-81b9-2d884293fe10",
   "metadata": {},
   "source": [
    "Please note that only some solver support **softmax (multinomial)** but all solvers support **ovr**."
   ]
  },
  {
   "cell_type": "markdown",
   "id": "2d7e5758-b9be-4517-98e6-c9eca9f58d1e",
   "metadata": {},
   "source": [
    "## SciKit Learn Multi-Class Logistic Regression"
   ]
  },
  {
   "cell_type": "markdown",
   "id": "d5883080-e8a0-4ba4-bdab-e5190ae2c099",
   "metadata": {},
   "source": [
    "### Application of SciKit Learn for Example 1"
   ]
  },
  {
   "cell_type": "markdown",
   "id": "2e69c27d-ade9-4531-a3f0-558dd3a7d1e8",
   "metadata": {},
   "source": [
    "#### Using `ovr` in Logistic Regression"
   ]
  },
  {
   "cell_type": "code",
   "execution_count": 50,
   "id": "b879b630-21bf-4baf-ae08-7760ea72ffe1",
   "metadata": {},
   "outputs": [],
   "source": [
    "#logisModel1 = LogisticRegression(penalty=None, solver='lbfgs', multi_class='ovr')\n",
    "logisModel1 = OneVsRestClassifier(LogisticRegression(penalty=None, solver='lbfgs'))\n",
    "logis1 = logisModel1.fit(X1, y1)"
   ]
  },
  {
   "cell_type": "code",
   "execution_count": 51,
   "id": "9b31ab25-4e9f-4d0f-ac9c-af0dbcfd59b9",
   "metadata": {},
   "outputs": [
    {
     "data": {
      "text/plain": [
       "array([0, 0, 1, 0, 1, 1, 0, 0, 2, 2, 2, 1, 2, 2, 1])"
      ]
     },
     "execution_count": 51,
     "metadata": {},
     "output_type": "execute_result"
    }
   ],
   "source": [
    "y_hat1 = logis1.predict(X1)\n",
    "y_hat1"
   ]
  },
  {
   "cell_type": "code",
   "execution_count": 52,
   "id": "8dc5a32c-e9c7-4b43-be01-2d6159765831",
   "metadata": {},
   "outputs": [
    {
     "data": {
      "text/plain": [
       "1.0"
      ]
     },
     "execution_count": 52,
     "metadata": {},
     "output_type": "execute_result"
    }
   ],
   "source": [
    "logis1.score(X1,y1)"
   ]
  },
  {
   "cell_type": "code",
   "execution_count": 53,
   "id": "96541589-4264-4584-b8e6-b755a8f2e8b1",
   "metadata": {},
   "outputs": [],
   "source": [
    "x_min, x_max = X1[:, 0].min() - 1, X1[:, 0].max() + 1\n",
    "y_min, y_max = X1[:, 1].min() - 1, X1[:, 1].max() + 1\n",
    "x1grid = np.arange(x_min, x_max, 0.02)\n",
    "x2grid = np.arange(y_min, y_max, 0.02)\n",
    "xx, yy = np.meshgrid(x1grid,x2grid)\n",
    "Z1 = logis1.predict(np.c_[xx.ravel(), yy.ravel()])\n",
    "Z1 = Z1.reshape(xx.shape)"
   ]
  },
  {
   "cell_type": "code",
   "execution_count": 54,
   "id": "820c178a-9b2a-49a5-a1d8-8243cb27387a",
   "metadata": {},
   "outputs": [
    {
     "data": {
      "image/png": "[encoded data removed]",
      "text/plain": [
       "<Figure size 800x500 with 1 Axes>"
      ]
     },
     "metadata": {},
     "output_type": "display_data"
    }
   ],
   "source": [
    "plt.close('all')\n",
    "fig, (ax1) = plt.subplots(1, 1, figsize=(8, 5))\n",
    "ax1.contourf(xx, yy, Z1, alpha=0.3, cmap=plt.cm.RdYlBu)\n",
    "ax1.scatter(X1_c0[:,0], X1_c0[:,1], marker='o', s = 80, c='b', label=\"Class 0\")\n",
    "ax1.scatter(X1_c1[:,0], X1_c1[:,1], marker='x', s = 80, c='r', label=\"Class 1\")\n",
    "ax1.scatter(X1_c2[:,0], X1_c2[:,1], marker='*', s = 80, c='g', label=\"Class 2\")\n",
    "ax1.set_title('Classfication Data')\n",
    "ax1.set_xlabel('x0')\n",
    "ax1.set_ylabel('x1')\n",
    "ax1.legend(loc=\"upper left\")\n",
    "plt.show()"
   ]
  },
  {
   "cell_type": "markdown",
   "id": "4dc6dab8-ee58-4bd3-b555-391f8583018e",
   "metadata": {},
   "source": [
    "#### Using `multinomial` in Logistic Regression"
   ]
  },
  {
   "cell_type": "code",
   "execution_count": 55,
   "id": "99adccf5-70ad-40a6-a74b-493159b3abac",
   "metadata": {},
   "outputs": [],
   "source": [
    "logisModel2 = LogisticRegression(penalty=None, solver='newton-cg', multi_class='multinomial')\n",
    "logis2 = logisModel2.fit(X1, y1)"
   ]
  },
  {
   "cell_type": "code",
   "execution_count": 56,
   "id": "86a21dcb-9352-452b-ba27-e1be475cfa9c",
   "metadata": {},
   "outputs": [
    {
     "data": {
      "text/plain": [
       "array([0, 0, 1, 0, 1, 1, 0, 0, 2, 2, 2, 1, 2, 2, 1])"
      ]
     },
     "execution_count": 56,
     "metadata": {},
     "output_type": "execute_result"
    }
   ],
   "source": [
    "y_hat2 = logis1.predict(X1)\n",
    "y_hat2"
   ]
  },
  {
   "cell_type": "code",
   "execution_count": 57,
   "id": "5324ce91-30d4-4e2b-af60-a0f22520a80b",
   "metadata": {},
   "outputs": [
    {
     "data": {
      "text/plain": [
       "1.0"
      ]
     },
     "execution_count": 57,
     "metadata": {},
     "output_type": "execute_result"
    }
   ],
   "source": [
    "logis2.score(X1,y1)"
   ]
  },
  {
   "cell_type": "code",
   "execution_count": 58,
   "id": "90663753-371c-4c04-8788-270dd8711368",
   "metadata": {},
   "outputs": [],
   "source": [
    "x_min, x_max = X1[:, 0].min() - 1, X1[:, 0].max() + 1\n",
    "y_min, y_max = X1[:, 1].min() - 1, X1[:, 1].max() + 1\n",
    "x1grid = np.arange(x_min, x_max, 0.02)\n",
    "x2grid = np.arange(y_min, y_max, 0.02)\n",
    "xx, yy = np.meshgrid(x1grid,x2grid)\n",
    "Z2 = logis2.predict(np.c_[xx.ravel(), yy.ravel()])\n",
    "Z2 = Z2.reshape(xx.shape)"
   ]
  },
  {
   "cell_type": "code",
   "execution_count": 59,
   "id": "d4d3cdf6-c6da-48ea-93ea-e5f0bb37b6cd",
   "metadata": {},
   "outputs": [
    {
     "data": {
      "image/png": "[encoded data removed]",
      "text/plain": [
       "<Figure size 800x500 with 1 Axes>"
      ]
     },
     "metadata": {},
     "output_type": "display_data"
    }
   ],
   "source": [
    "plt.close('all')\n",
    "fig, (ax1) = plt.subplots(1, 1, figsize=(8, 5))\n",
    "ax1.contourf(xx, yy, Z2, alpha=0.3, cmap=plt.cm.RdYlBu)\n",
    "ax1.scatter(X1_c0[:,0], X1_c0[:,1], marker='o', s = 80, c='b', label=\"Class 0\")\n",
    "ax1.scatter(X1_c1[:,0], X1_c1[:,1], marker='x', s = 80, c='r', label=\"Class 1\")\n",
    "ax1.scatter(X1_c2[:,0], X1_c2[:,1], marker='*', s = 80, c='g', label=\"Class 2\")\n",
    "ax1.set_title('Classfication Data')\n",
    "ax1.set_xlabel('x0')\n",
    "ax1.set_ylabel('x1')\n",
    "ax1.legend(loc=\"upper left\")\n",
    "plt.show()"
   ]
  },
  {
   "cell_type": "markdown",
   "id": "86731f74-6edd-4d63-b451-be3d8bfb18ac",
   "metadata": {},
   "source": [
    "#### Using `ovr` in `OneVsRestClassifier`"
   ]
  },
  {
   "cell_type": "code",
   "execution_count": 60,
   "id": "4032773d-e500-4c9a-a18a-e15f189b91a6",
   "metadata": {},
   "outputs": [],
   "source": [
    "logisModel3 = OneVsRestClassifier(LogisticRegression(penalty=None, solver='saga', max_iter = 10000))\n",
    "logis3 = logisModel3.fit(X1, y1)"
   ]
  },
  {
   "cell_type": "code",
   "execution_count": 61,
   "id": "9327d948-da71-4053-9282-306f416432e2",
   "metadata": {},
   "outputs": [
    {
     "data": {
      "text/plain": [
       "1.0"
      ]
     },
     "execution_count": 61,
     "metadata": {},
     "output_type": "execute_result"
    }
   ],
   "source": [
    "logis3.score(X1,y1)"
   ]
  },
  {
   "cell_type": "code",
   "execution_count": 62,
   "id": "7c26d738-5eff-48c6-b931-c9ef6700ba0d",
   "metadata": {},
   "outputs": [],
   "source": [
    "x_min, x_max = X1[:, 0].min() - 1, X1[:, 0].max() + 1\n",
    "y_min, y_max = X1[:, 1].min() - 1, X1[:, 1].max() + 1\n",
    "x1grid = np.arange(x_min, x_max, 0.02)\n",
    "x2grid = np.arange(y_min, y_max, 0.02)\n",
    "xx, yy = np.meshgrid(x1grid,x2grid)\n",
    "Z3 = logis3.predict(np.c_[xx.ravel(), yy.ravel()])\n",
    "Z3 = Z3.reshape(xx.shape)"
   ]
  },
  {
   "cell_type": "code",
   "execution_count": 63,
   "id": "dd18b279-9f76-4726-b9d2-b431d35d13d7",
   "metadata": {},
   "outputs": [
    {
     "data": {
      "image/png": "[encoded data removed]",
      "text/plain": [
       "<Figure size 800x500 with 1 Axes>"
      ]
     },
     "metadata": {},
     "output_type": "display_data"
    }
   ],
   "source": [
    "plt.close('all')\n",
    "fig, (ax1) = plt.subplots(1, 1, figsize=(8, 5))\n",
    "ax1.contourf(xx, yy, Z3, alpha=0.3, cmap=plt.cm.RdYlBu)\n",
    "ax1.scatter(X1_c0[:,0], X1_c0[:,1], marker='o', s = 80, c='b', label=\"Class 0\")\n",
    "ax1.scatter(X1_c1[:,0], X1_c1[:,1], marker='x', s = 80, c='r', label=\"Class 1\")\n",
    "ax1.scatter(X1_c2[:,0], X1_c2[:,1], marker='*', s = 80, c='g', label=\"Class 2\")\n",
    "ax1.set_title('Classfication Data')\n",
    "ax1.set_xlabel('x0')\n",
    "ax1.set_ylabel('x1')\n",
    "ax1.legend(loc=\"upper left\")\n",
    "plt.show()"
   ]
  },
  {
   "cell_type": "markdown",
   "id": "f5fe372f-00ba-4dd0-97db-497f3ad0c465",
   "metadata": {},
   "source": [
    "### Application of SciKit Learn for Example 2"
   ]
  },
  {
   "cell_type": "markdown",
   "id": "1d982384-6854-4cde-ad23-312f4b89ac28",
   "metadata": {},
   "source": [
    "#### Using Multinomial Logistic Regression"
   ]
  },
  {
   "cell_type": "code",
   "execution_count": 64,
   "id": "91b32afc-7733-4bf9-8921-c77463da9649",
   "metadata": {},
   "outputs": [],
   "source": [
    "logisModel4 = LogisticRegression(penalty=None, solver='sag', multi_class='multinomial', max_iter=100000)\n",
    "logis4 = logisModel4.fit(X2, y2)"
   ]
  },
  {
   "cell_type": "code",
   "execution_count": 65,
   "id": "05d7ce1d-20c9-44e4-97b7-2bb5ba157621",
   "metadata": {},
   "outputs": [
    {
     "data": {
      "text/plain": [
       "1.0"
      ]
     },
     "execution_count": 65,
     "metadata": {},
     "output_type": "execute_result"
    }
   ],
   "source": [
    "logis4.score(X2,y2)"
   ]
  },
  {
   "cell_type": "code",
   "execution_count": 66,
   "id": "6f991772-27f4-41fc-af06-8a23c0a2abb1",
   "metadata": {},
   "outputs": [],
   "source": [
    "x_min, x_max = X2[:, 0].min() - 1, X2[:, 0].max() + 1\n",
    "y_min, y_max = X2[:, 1].min() - 1, X2[:, 1].max() + 1\n",
    "x1grid = np.arange(x_min, x_max, 0.02)\n",
    "x2grid = np.arange(y_min, y_max, 0.02)\n",
    "xx, yy = np.meshgrid(x1grid,x2grid)\n",
    "Z4 = logis4.predict(np.c_[xx.ravel(), yy.ravel()])\n",
    "Z4 = Z4.reshape(xx.shape)"
   ]
  },
  {
   "cell_type": "code",
   "execution_count": 67,
   "id": "65b8b92f-70d4-4cf2-9f0d-a0681d8f7c9f",
   "metadata": {},
   "outputs": [
    {
     "data": {
      "image/png": "[encoded data removed]",
      "text/plain": [
       "<Figure size 800x500 with 1 Axes>"
      ]
     },
     "metadata": {},
     "output_type": "display_data"
    }
   ],
   "source": [
    "plt.close('all')\n",
    "fig, (ax1) = plt.subplots(1, 1, figsize=(8, 5))\n",
    "ax1.contourf(xx, yy, Z4, alpha=0.3, cmap=plt.cm.RdYlBu)\n",
    "ax1.scatter(X2[:, 0], X2[:, 1], c=y2, edgecolors='k', cmap=plt.cm.RdYlBu)\n",
    "ax1.set_title('Classfication Data')\n",
    "ax1.set_xlabel('x0')\n",
    "ax1.set_ylabel('x1')\n",
    "plt.show()"
   ]
  },
  {
   "cell_type": "markdown",
   "id": "eac5aa18-0642-47e3-b8b0-9e1f7ced6801",
   "metadata": {},
   "source": [
    "#### Using OvR "
   ]
  },
  {
   "cell_type": "code",
   "execution_count": 68,
   "id": "051b8bc7-36cb-4ba6-9571-91aa720f9615",
   "metadata": {},
   "outputs": [],
   "source": [
    "logisModel5 = OneVsRestClassifier(LogisticRegression(penalty=None, solver='newton-cholesky',max_iter=100000))\n",
    "logis5 = logisModel5.fit(X2, y2)"
   ]
  },
  {
   "cell_type": "code",
   "execution_count": 69,
   "id": "724e4b28-e29c-47cc-8deb-b4c6797dbe2b",
   "metadata": {},
   "outputs": [
    {
     "data": {
      "text/plain": [
       "1.0"
      ]
     },
     "execution_count": 69,
     "metadata": {},
     "output_type": "execute_result"
    }
   ],
   "source": [
    "logis5.score(X2,y2)"
   ]
  },
  {
   "cell_type": "code",
   "execution_count": 70,
   "id": "6fe0d383-a2ce-44af-a0a0-74899cabbdc2",
   "metadata": {},
   "outputs": [],
   "source": [
    "x_min, x_max = X2[:, 0].min() - 1, X2[:, 0].max() + 1\n",
    "y_min, y_max = X2[:, 1].min() - 1, X2[:, 1].max() + 1\n",
    "x1grid = np.arange(x_min, x_max, 0.01)\n",
    "x2grid = np.arange(y_min, y_max, 0.01)\n",
    "xx, yy = np.meshgrid(x1grid,x2grid)\n",
    "Z5 = logis5.predict(np.c_[xx.ravel(), yy.ravel()])\n",
    "Z5 = Z5.reshape(xx.shape)"
   ]
  },
  {
   "cell_type": "code",
   "execution_count": 71,
   "id": "1c028231-e2a1-480b-a697-c37b0af3bbb1",
   "metadata": {},
   "outputs": [
    {
     "data": {
      "image/png": "[encoded data removed]",
      "text/plain": [
       "<Figure size 800x500 with 1 Axes>"
      ]
     },
     "metadata": {},
     "output_type": "display_data"
    }
   ],
   "source": [
    "plt.close('all')\n",
    "fig, (ax1) = plt.subplots(1, 1, figsize=(8, 5))\n",
    "ax1.contourf(xx, yy, Z5, alpha=0.3, cmap=plt.cm.RdYlBu)\n",
    "ax1.scatter(X2[:, 0], X2[:, 1], c=y2, edgecolors='k', cmap=plt.cm.RdYlBu)\n",
    "ax1.set_title('Classfication Data')\n",
    "ax1.set_xlabel('x0')\n",
    "ax1.set_ylabel('x1')\n",
    "plt.show()"
   ]
  },
  {
   "cell_type": "markdown",
   "id": "0095c48f-d860-4318-910e-fa3ebc8bb0f1",
   "metadata": {},
   "source": [
    "### Application of SciKit Learn for Example 3"
   ]
  },
  {
   "cell_type": "markdown",
   "id": "c6cad381-5abd-4afc-8cbf-61f277944dbd",
   "metadata": {},
   "source": [
    "#### Using OvR Logistic Regression"
   ]
  },
  {
   "cell_type": "code",
   "execution_count": 72,
   "id": "4dcf2ffc-4bea-4a63-bc80-f09586d505c0",
   "metadata": {},
   "outputs": [],
   "source": [
    "logisModel6 = OneVsRestClassifier(LogisticRegression(penalty=None, solver='lbfgs', max_iter=100000))\n",
    "logis6 = logisModel6.fit(X3, y3)"
   ]
  },
  {
   "cell_type": "code",
   "execution_count": 73,
   "id": "6cc0f02a-b84f-46b7-8016-de646a5cfaaf",
   "metadata": {},
   "outputs": [
    {
     "data": {
      "text/plain": [
       "0.86"
      ]
     },
     "execution_count": 73,
     "metadata": {},
     "output_type": "execute_result"
    }
   ],
   "source": [
    "logis6.score(X3,y3)"
   ]
  },
  {
   "cell_type": "code",
   "execution_count": 74,
   "id": "e3d1cede-de67-4d74-b5d4-3a27142d0791",
   "metadata": {},
   "outputs": [],
   "source": [
    "x_min, x_max = X3[:, 0].min() - 1, X3[:, 0].max() + 1\n",
    "y_min, y_max = X3[:, 1].min() - 1, X3[:, 1].max() + 1\n",
    "x1grid = np.arange(x_min, x_max, 0.02)\n",
    "x2grid = np.arange(y_min, y_max, 0.02)\n",
    "xx, yy = np.meshgrid(x1grid,x2grid)\n",
    "Z6 = logis6.predict(np.c_[xx.ravel(), yy.ravel()])\n",
    "Z6 = Z6.reshape(xx.shape)"
   ]
  },
  {
   "cell_type": "code",
   "execution_count": 75,
   "id": "de8cb988-ff62-4c55-bc57-04c74e73e9d8",
   "metadata": {},
   "outputs": [
    {
     "data": {
      "image/png": "[encoded data removed]",
      "text/plain": [
       "<Figure size 800x500 with 1 Axes>"
      ]
     },
     "metadata": {},
     "output_type": "display_data"
    }
   ],
   "source": [
    "plt.close('all')\n",
    "fig, (ax1) = plt.subplots(1, 1, figsize=(8, 5))\n",
    "ax1.contourf(xx, yy, Z6, alpha=0.3, cmap=plt.cm.RdYlBu)\n",
    "ax1.scatter(X3[:, 0], X3[:, 1], c=y3, edgecolors='k', cmap=plt.cm.RdYlBu)\n",
    "ax1.set_title('Classfication Data')\n",
    "ax1.set_xlabel('x0')\n",
    "ax1.set_ylabel('x1')\n",
    "plt.show()"
   ]
  },
  {
   "cell_type": "markdown",
   "id": "91a77bb1-0785-490b-8659-5274bb444404",
   "metadata": {},
   "source": [
    "#### Using Multinomial Logistic Regression"
   ]
  },
  {
   "cell_type": "code",
   "execution_count": 76,
   "id": "f69a4be7-b330-4234-b6ce-a5698fb1a1ff",
   "metadata": {},
   "outputs": [],
   "source": [
    "logisModel7 = LogisticRegression(penalty=None, solver='lbfgs', max_iter=100000)\n",
    "logis7 = logisModel7.fit(X3, y3)"
   ]
  },
  {
   "cell_type": "code",
   "execution_count": 77,
   "id": "d17922a9-e7b9-4aeb-b295-4797188dc76e",
   "metadata": {},
   "outputs": [
    {
     "data": {
      "text/plain": [
       "0.86"
      ]
     },
     "execution_count": 77,
     "metadata": {},
     "output_type": "execute_result"
    }
   ],
   "source": [
    "logis7.score(X3,y3)"
   ]
  },
  {
   "cell_type": "code",
   "execution_count": 78,
   "id": "7432d3d4-d71f-4ed8-bf8d-4802f749ccdf",
   "metadata": {},
   "outputs": [],
   "source": [
    "x_min, x_max = X3[:, 0].min() - 1, X3[:, 0].max() + 1\n",
    "y_min, y_max = X3[:, 1].min() - 1, X3[:, 1].max() + 1\n",
    "x1grid = np.arange(x_min, x_max, 0.02)\n",
    "x2grid = np.arange(y_min, y_max, 0.02)\n",
    "xx, yy = np.meshgrid(x1grid,x2grid)\n",
    "Z7 = logis7.predict(np.c_[xx.ravel(), yy.ravel()])\n",
    "Z7 = Z7.reshape(xx.shape)"
   ]
  },
  {
   "cell_type": "code",
   "execution_count": 79,
   "id": "c51eb1c1-09bd-4cd6-af1d-d2bcd02002a6",
   "metadata": {},
   "outputs": [
    {
     "data": {
      "image/png": "[encoded data removed]",
      "text/plain": [
       "<Figure size 800x500 with 1 Axes>"
      ]
     },
     "metadata": {},
     "output_type": "display_data"
    }
   ],
   "source": [
    "plt.close('all')\n",
    "fig, (ax1) = plt.subplots(1, 1, figsize=(8, 5))\n",
    "ax1.contourf(xx, yy, Z7, alpha=0.3, cmap=plt.cm.RdYlBu)\n",
    "ax1.scatter(X3[:, 0], X3[:, 1], c=y3, edgecolors='k', cmap=plt.cm.RdYlBu)\n",
    "ax1.set_title('Classfication Data')\n",
    "ax1.set_xlabel('x0')\n",
    "ax1.set_ylabel('x1')\n",
    "plt.show()"
   ]
  },
  {
   "cell_type": "markdown",
   "id": "aa1447a7-0b81-4e80-b7fb-95de958a8426",
   "metadata": {},
   "source": [
    "## Apply Multi-Class Logistic Regression with Polynomial Pipeline"
   ]
  },
  {
   "cell_type": "markdown",
   "id": "a34b7f1a-1361-46df-8434-82f9c1f6be8b",
   "metadata": {},
   "source": [
    "### Underfitting"
   ]
  },
  {
   "cell_type": "code",
   "execution_count": 80,
   "id": "c8a3fb5a-599c-4960-a764-e76c1b756895",
   "metadata": {},
   "outputs": [
    {
     "data": {
      "text/html": [
       "<style>#sk-container-id-1 {color: black;background-color: white;}#sk-container-id-1 pre{padding: 0;}#sk-container-id-1 div.sk-toggleable {background-color: white;}#sk-container-id-1 label.sk-toggleable__label {cursor: pointer;display: block;width: 100%;margin-bottom: 0;padding: 0.3em;box-sizing: border-box;text-align: center;}#sk-container-id-1 label.sk-toggleable__label-arrow:before {content: \"▸\";float: left;margin-right: 0.25em;color: #696969;}#sk-container-id-1 label.sk-toggleable__label-arrow:hover:before {color: black;}#sk-container-id-1 div.sk-estimator:hover label.sk-toggleable__label-arrow:before {color: black;}#sk-container-id-1 div.sk-toggleable__content {max-height: 0;max-width: 0;overflow: hidden;text-align: left;background-color: #f0f8ff;}#sk-container-id-1 div.sk-toggleable__content pre {margin: 0.2em;color: black;border-radius: 0.25em;background-color: #f0f8ff;}#sk-container-id-1 input.sk-toggleable__control:checked~div.sk-toggleable__content {max-height: 200px;max-width: 100%;overflow: auto;}#sk-container-id-1 input.sk-toggleable__control:checked~label.sk-toggleable__label-arrow:before {content: \"▾\";}#sk-container-id-1 div.sk-estimator input.sk-toggleable__control:checked~label.sk-toggleable__label {background-color: #d4ebff;}#sk-container-id-1 div.sk-label input.sk-toggleable__control:checked~label.sk-toggleable__label {background-color: #d4ebff;}#sk-container-id-1 input.sk-hidden--visually {border: 0;clip: rect(1px 1px 1px 1px);clip: rect(1px, 1px, 1px, 1px);height: 1px;margin: -1px;overflow: hidden;padding: 0;position: absolute;width: 1px;}#sk-container-id-1 div.sk-estimator {font-family: monospace;background-color: #f0f8ff;border: 1px dotted black;border-radius: 0.25em;box-sizing: border-box;margin-bottom: 0.5em;}#sk-container-id-1 div.sk-estimator:hover {background-color: #d4ebff;}#sk-container-id-1 div.sk-parallel-item::after {content: \"\";width: 100%;border-bottom: 1px solid gray;flex-grow: 1;}#sk-container-id-1 div.sk-label:hover label.sk-toggleable__label {background-color: #d4ebff;}#sk-container-id-1 div.sk-serial::before {content: \"\";position: absolute;border-left: 1px solid gray;box-sizing: border-box;top: 0;bottom: 0;left: 50%;z-index: 0;}#sk-container-id-1 div.sk-serial {display: flex;flex-direction: column;align-items: center;background-color: white;padding-right: 0.2em;padding-left: 0.2em;position: relative;}#sk-container-id-1 div.sk-item {position: relative;z-index: 1;}#sk-container-id-1 div.sk-parallel {display: flex;align-items: stretch;justify-content: center;background-color: white;position: relative;}#sk-container-id-1 div.sk-item::before, #sk-container-id-1 div.sk-parallel-item::before {content: \"\";position: absolute;border-left: 1px solid gray;box-sizing: border-box;top: 0;bottom: 0;left: 50%;z-index: -1;}#sk-container-id-1 div.sk-parallel-item {display: flex;flex-direction: column;z-index: 1;position: relative;background-color: white;}#sk-container-id-1 div.sk-parallel-item:first-child::after {align-self: flex-end;width: 50%;}#sk-container-id-1 div.sk-parallel-item:last-child::after {align-self: flex-start;width: 50%;}#sk-container-id-1 div.sk-parallel-item:only-child::after {width: 0;}#sk-container-id-1 div.sk-dashed-wrapped {border: 1px dashed gray;margin: 0 0.4em 0.5em 0.4em;box-sizing: border-box;padding-bottom: 0.4em;background-color: white;}#sk-container-id-1 div.sk-label label {font-family: monospace;font-weight: bold;display: inline-block;line-height: 1.2em;}#sk-container-id-1 div.sk-label-container {text-align: center;}#sk-container-id-1 div.sk-container {/* jupyter's `normalize.less` sets `[hidden] { display: none; }` but bootstrap.min.css set `[hidden] { display: none !important; }` so we also need the `!important` here to be able to override the default hidden behavior on the sphinx rendered scikit-learn.org. See: https://github.com/scikit-learn/scikit-learn/issues/21755 */display: inline-block !important;position: relative;}#sk-container-id-1 div.sk-text-repr-fallback {display: none;}</style><div id=\"sk-container-id-1\" class=\"sk-top-container\"><div class=\"sk-text-repr-fallback\"><pre>Pipeline(steps=[(&#x27;poly&#x27;, PolynomialFeatures(degree=1, include_bias=False)),\n",
       "                (&#x27;scaler&#x27;, StandardScaler()),\n",
       "                (&#x27;model&#x27;,\n",
       "                 OneVsRestClassifier(estimator=LogisticRegression(max_iter=10000,\n",
       "                                                                  penalty=None)))])</pre><b>In a Jupyter environment, please rerun this cell to show the HTML representation or trust the notebook. <br />On GitHub, the HTML representation is unable to render, please try loading this page with nbviewer.org.</b></div><div class=\"sk-container\" hidden><div class=\"sk-item sk-dashed-wrapped\"><div class=\"sk-label-container\"><div class=\"sk-label sk-toggleable\"><input class=\"sk-toggleable__control sk-hidden--visually\" id=\"sk-estimator-id-1\" type=\"checkbox\" ><label for=\"sk-estimator-id-1\" class=\"sk-toggleable__label sk-toggleable__label-arrow\">Pipeline</label><div class=\"sk-toggleable__content\"><pre>Pipeline(steps=[(&#x27;poly&#x27;, PolynomialFeatures(degree=1, include_bias=False)),\n",
       "                (&#x27;scaler&#x27;, StandardScaler()),\n",
       "                (&#x27;model&#x27;,\n",
       "                 OneVsRestClassifier(estimator=LogisticRegression(max_iter=10000,\n",
       "                                                                  penalty=None)))])</pre></div></div></div><div class=\"sk-serial\"><div class=\"sk-item\"><div class=\"sk-estimator sk-toggleable\"><input class=\"sk-toggleable__control sk-hidden--visually\" id=\"sk-estimator-id-2\" type=\"checkbox\" ><label for=\"sk-estimator-id-2\" class=\"sk-toggleable__label sk-toggleable__label-arrow\">PolynomialFeatures</label><div class=\"sk-toggleable__content\"><pre>PolynomialFeatures(degree=1, include_bias=False)</pre></div></div></div><div class=\"sk-item\"><div class=\"sk-estimator sk-toggleable\"><input class=\"sk-toggleable__control sk-hidden--visually\" id=\"sk-estimator-id-3\" type=\"checkbox\" ><label for=\"sk-estimator-id-3\" class=\"sk-toggleable__label sk-toggleable__label-arrow\">StandardScaler</label><div class=\"sk-toggleable__content\"><pre>StandardScaler()</pre></div></div></div><div class=\"sk-item sk-dashed-wrapped\"><div class=\"sk-label-container\"><div class=\"sk-label sk-toggleable\"><input class=\"sk-toggleable__control sk-hidden--visually\" id=\"sk-estimator-id-4\" type=\"checkbox\" ><label for=\"sk-estimator-id-4\" class=\"sk-toggleable__label sk-toggleable__label-arrow\">model: OneVsRestClassifier</label><div class=\"sk-toggleable__content\"><pre>OneVsRestClassifier(estimator=LogisticRegression(max_iter=10000, penalty=None))</pre></div></div></div><div class=\"sk-parallel\"><div class=\"sk-parallel-item\"><div class=\"sk-item\"><div class=\"sk-label-container\"><div class=\"sk-label sk-toggleable\"><input class=\"sk-toggleable__control sk-hidden--visually\" id=\"sk-estimator-id-5\" type=\"checkbox\" ><label for=\"sk-estimator-id-5\" class=\"sk-toggleable__label sk-toggleable__label-arrow\">estimator: LogisticRegression</label><div class=\"sk-toggleable__content\"><pre>LogisticRegression(max_iter=10000, penalty=None)</pre></div></div></div><div class=\"sk-serial\"><div class=\"sk-item\"><div class=\"sk-estimator sk-toggleable\"><input class=\"sk-toggleable__control sk-hidden--visually\" id=\"sk-estimator-id-6\" type=\"checkbox\" ><label for=\"sk-estimator-id-6\" class=\"sk-toggleable__label sk-toggleable__label-arrow\">LogisticRegression</label><div class=\"sk-toggleable__content\"><pre>LogisticRegression(max_iter=10000, penalty=None)</pre></div></div></div></div></div></div></div></div></div></div></div></div>"
      ],
      "text/plain": [
       "Pipeline(steps=[('poly', PolynomialFeatures(degree=1, include_bias=False)),\n",
       "                ('scaler', StandardScaler()),\n",
       "                ('model',\n",
       "                 OneVsRestClassifier(estimator=LogisticRegression(max_iter=10000,\n",
       "                                                                  penalty=None)))])"
      ]
     },
     "execution_count": 80,
     "metadata": {},
     "output_type": "execute_result"
    }
   ],
   "source": [
    "degree = 1\n",
    "stepsLogisticsRegression = [\n",
    "    ('poly', PolynomialFeatures(degree=degree, include_bias=False)),\n",
    "    ('scaler', StandardScaler()),\n",
    "    ('model', OneVsRestClassifier(LogisticRegression(penalty=None, solver='lbfgs', max_iter=10000)))\n",
    "]\n",
    "\n",
    "losPipe1 = Pipeline(stepsLogisticsRegression)\n",
    "\n",
    "losPipe1.fit(X3, y3)"
   ]
  },
  {
   "cell_type": "code",
   "execution_count": 81,
   "id": "368c6c30-643f-44cf-bbbb-78204fd523fe",
   "metadata": {},
   "outputs": [
    {
     "data": {
      "text/plain": [
       "0.86"
      ]
     },
     "execution_count": 81,
     "metadata": {},
     "output_type": "execute_result"
    }
   ],
   "source": [
    "losPipe1.score(X3, y3)"
   ]
  },
  {
   "cell_type": "code",
   "execution_count": 82,
   "id": "4e23abcb-e0f5-44fd-9478-4ec6977e859c",
   "metadata": {},
   "outputs": [],
   "source": [
    "x_min, x_max = X3[:,0].min() - 1, X3[:,0].max() + 1\n",
    "y_min, y_max = X3[:,1].min() - 1, X3[:,1].max() + 1\n",
    "x1grid = np.arange(x_min, x_max, 0.01)\n",
    "x2grid = np.arange(y_min, y_max, 0.01)\n",
    "xx, yy = np.meshgrid(x1grid,x2grid)\n",
    "Z1 = losPipe1.predict(np.c_[xx.ravel(), yy.ravel()])\n",
    "Z1 = Z1.reshape(xx.shape)"
   ]
  },
  {
   "cell_type": "code",
   "execution_count": 83,
   "id": "a4233897-185d-4db2-96b9-d6dcd9f51f5b",
   "metadata": {},
   "outputs": [
    {
     "data": {
      "image/png": "[encoded data removed]",
      "text/plain": [
       "<Figure size 800x500 with 1 Axes>"
      ]
     },
     "metadata": {},
     "output_type": "display_data"
    }
   ],
   "source": [
    "plt.close('all')\n",
    "fig, (ax1) = plt.subplots(1, 1, figsize=(8, 5))\n",
    "ax1.contourf(xx, yy, Z1, cmap=plt.cm.RdYlBu)\n",
    "plt.scatter(X3[:,0], X3[:,1], marker=\"o\", c=y3, s=25, edgecolor='k', cmap=plt.cm.RdYlBu)\n",
    "ax1.set_title('Classfication Data')\n",
    "ax1.set_xlabel('x0')\n",
    "ax1.set_ylabel('x1')\n",
    "plt.show()"
   ]
  },
  {
   "cell_type": "markdown",
   "id": "3714f4bf-a1da-4c58-bf79-590a004de4f7",
   "metadata": {},
   "source": [
    "### Overfitting"
   ]
  },
  {
   "cell_type": "code",
   "execution_count": 84,
   "id": "8dee7f3d-7618-4b26-907d-8b0e224000d5",
   "metadata": {},
   "outputs": [
    {
     "data": {
      "text/html": [
       "<style>#sk-container-id-2 {color: black;background-color: white;}#sk-container-id-2 pre{padding: 0;}#sk-container-id-2 div.sk-toggleable {background-color: white;}#sk-container-id-2 label.sk-toggleable__label {cursor: pointer;display: block;width: 100%;margin-bottom: 0;padding: 0.3em;box-sizing: border-box;text-align: center;}#sk-container-id-2 label.sk-toggleable__label-arrow:before {content: \"▸\";float: left;margin-right: 0.25em;color: #696969;}#sk-container-id-2 label.sk-toggleable__label-arrow:hover:before {color: black;}#sk-container-id-2 div.sk-estimator:hover label.sk-toggleable__label-arrow:before {color: black;}#sk-container-id-2 div.sk-toggleable__content {max-height: 0;max-width: 0;overflow: hidden;text-align: left;background-color: #f0f8ff;}#sk-container-id-2 div.sk-toggleable__content pre {margin: 0.2em;color: black;border-radius: 0.25em;background-color: #f0f8ff;}#sk-container-id-2 input.sk-toggleable__control:checked~div.sk-toggleable__content {max-height: 200px;max-width: 100%;overflow: auto;}#sk-container-id-2 input.sk-toggleable__control:checked~label.sk-toggleable__label-arrow:before {content: \"▾\";}#sk-container-id-2 div.sk-estimator input.sk-toggleable__control:checked~label.sk-toggleable__label {background-color: #d4ebff;}#sk-container-id-2 div.sk-label input.sk-toggleable__control:checked~label.sk-toggleable__label {background-color: #d4ebff;}#sk-container-id-2 input.sk-hidden--visually {border: 0;clip: rect(1px 1px 1px 1px);clip: rect(1px, 1px, 1px, 1px);height: 1px;margin: -1px;overflow: hidden;padding: 0;position: absolute;width: 1px;}#sk-container-id-2 div.sk-estimator {font-family: monospace;background-color: #f0f8ff;border: 1px dotted black;border-radius: 0.25em;box-sizing: border-box;margin-bottom: 0.5em;}#sk-container-id-2 div.sk-estimator:hover {background-color: #d4ebff;}#sk-container-id-2 div.sk-parallel-item::after {content: \"\";width: 100%;border-bottom: 1px solid gray;flex-grow: 1;}#sk-container-id-2 div.sk-label:hover label.sk-toggleable__label {background-color: #d4ebff;}#sk-container-id-2 div.sk-serial::before {content: \"\";position: absolute;border-left: 1px solid gray;box-sizing: border-box;top: 0;bottom: 0;left: 50%;z-index: 0;}#sk-container-id-2 div.sk-serial {display: flex;flex-direction: column;align-items: center;background-color: white;padding-right: 0.2em;padding-left: 0.2em;position: relative;}#sk-container-id-2 div.sk-item {position: relative;z-index: 1;}#sk-container-id-2 div.sk-parallel {display: flex;align-items: stretch;justify-content: center;background-color: white;position: relative;}#sk-container-id-2 div.sk-item::before, #sk-container-id-2 div.sk-parallel-item::before {content: \"\";position: absolute;border-left: 1px solid gray;box-sizing: border-box;top: 0;bottom: 0;left: 50%;z-index: -1;}#sk-container-id-2 div.sk-parallel-item {display: flex;flex-direction: column;z-index: 1;position: relative;background-color: white;}#sk-container-id-2 div.sk-parallel-item:first-child::after {align-self: flex-end;width: 50%;}#sk-container-id-2 div.sk-parallel-item:last-child::after {align-self: flex-start;width: 50%;}#sk-container-id-2 div.sk-parallel-item:only-child::after {width: 0;}#sk-container-id-2 div.sk-dashed-wrapped {border: 1px dashed gray;margin: 0 0.4em 0.5em 0.4em;box-sizing: border-box;padding-bottom: 0.4em;background-color: white;}#sk-container-id-2 div.sk-label label {font-family: monospace;font-weight: bold;display: inline-block;line-height: 1.2em;}#sk-container-id-2 div.sk-label-container {text-align: center;}#sk-container-id-2 div.sk-container {/* jupyter's `normalize.less` sets `[hidden] { display: none; }` but bootstrap.min.css set `[hidden] { display: none !important; }` so we also need the `!important` here to be able to override the default hidden behavior on the sphinx rendered scikit-learn.org. See: https://github.com/scikit-learn/scikit-learn/issues/21755 */display: inline-block !important;position: relative;}#sk-container-id-2 div.sk-text-repr-fallback {display: none;}</style><div id=\"sk-container-id-2\" class=\"sk-top-container\"><div class=\"sk-text-repr-fallback\"><pre>Pipeline(steps=[(&#x27;poly&#x27;, PolynomialFeatures(degree=5, include_bias=False)),\n",
       "                (&#x27;scaler&#x27;, StandardScaler()),\n",
       "                (&#x27;model&#x27;,\n",
       "                 OneVsRestClassifier(estimator=LogisticRegression(max_iter=10000,\n",
       "                                                                  penalty=None)))])</pre><b>In a Jupyter environment, please rerun this cell to show the HTML representation or trust the notebook. <br />On GitHub, the HTML representation is unable to render, please try loading this page with nbviewer.org.</b></div><div class=\"sk-container\" hidden><div class=\"sk-item sk-dashed-wrapped\"><div class=\"sk-label-container\"><div class=\"sk-label sk-toggleable\"><input class=\"sk-toggleable__control sk-hidden--visually\" id=\"sk-estimator-id-7\" type=\"checkbox\" ><label for=\"sk-estimator-id-7\" class=\"sk-toggleable__label sk-toggleable__label-arrow\">Pipeline</label><div class=\"sk-toggleable__content\"><pre>Pipeline(steps=[(&#x27;poly&#x27;, PolynomialFeatures(degree=5, include_bias=False)),\n",
       "                (&#x27;scaler&#x27;, StandardScaler()),\n",
       "                (&#x27;model&#x27;,\n",
       "                 OneVsRestClassifier(estimator=LogisticRegression(max_iter=10000,\n",
       "                                                                  penalty=None)))])</pre></div></div></div><div class=\"sk-serial\"><div class=\"sk-item\"><div class=\"sk-estimator sk-toggleable\"><input class=\"sk-toggleable__control sk-hidden--visually\" id=\"sk-estimator-id-8\" type=\"checkbox\" ><label for=\"sk-estimator-id-8\" class=\"sk-toggleable__label sk-toggleable__label-arrow\">PolynomialFeatures</label><div class=\"sk-toggleable__content\"><pre>PolynomialFeatures(degree=5, include_bias=False)</pre></div></div></div><div class=\"sk-item\"><div class=\"sk-estimator sk-toggleable\"><input class=\"sk-toggleable__control sk-hidden--visually\" id=\"sk-estimator-id-9\" type=\"checkbox\" ><label for=\"sk-estimator-id-9\" class=\"sk-toggleable__label sk-toggleable__label-arrow\">StandardScaler</label><div class=\"sk-toggleable__content\"><pre>StandardScaler()</pre></div></div></div><div class=\"sk-item sk-dashed-wrapped\"><div class=\"sk-label-container\"><div class=\"sk-label sk-toggleable\"><input class=\"sk-toggleable__control sk-hidden--visually\" id=\"sk-estimator-id-10\" type=\"checkbox\" ><label for=\"sk-estimator-id-10\" class=\"sk-toggleable__label sk-toggleable__label-arrow\">model: OneVsRestClassifier</label><div class=\"sk-toggleable__content\"><pre>OneVsRestClassifier(estimator=LogisticRegression(max_iter=10000, penalty=None))</pre></div></div></div><div class=\"sk-parallel\"><div class=\"sk-parallel-item\"><div class=\"sk-item\"><div class=\"sk-label-container\"><div class=\"sk-label sk-toggleable\"><input class=\"sk-toggleable__control sk-hidden--visually\" id=\"sk-estimator-id-11\" type=\"checkbox\" ><label for=\"sk-estimator-id-11\" class=\"sk-toggleable__label sk-toggleable__label-arrow\">estimator: LogisticRegression</label><div class=\"sk-toggleable__content\"><pre>LogisticRegression(max_iter=10000, penalty=None)</pre></div></div></div><div class=\"sk-serial\"><div class=\"sk-item\"><div class=\"sk-estimator sk-toggleable\"><input class=\"sk-toggleable__control sk-hidden--visually\" id=\"sk-estimator-id-12\" type=\"checkbox\" ><label for=\"sk-estimator-id-12\" class=\"sk-toggleable__label sk-toggleable__label-arrow\">LogisticRegression</label><div class=\"sk-toggleable__content\"><pre>LogisticRegression(max_iter=10000, penalty=None)</pre></div></div></div></div></div></div></div></div></div></div></div></div>"
      ],
      "text/plain": [
       "Pipeline(steps=[('poly', PolynomialFeatures(degree=5, include_bias=False)),\n",
       "                ('scaler', StandardScaler()),\n",
       "                ('model',\n",
       "                 OneVsRestClassifier(estimator=LogisticRegression(max_iter=10000,\n",
       "                                                                  penalty=None)))])"
      ]
     },
     "execution_count": 84,
     "metadata": {},
     "output_type": "execute_result"
    }
   ],
   "source": [
    "degree = 5\n",
    "stepsLogisticsRegression = [\n",
    "    ('poly', PolynomialFeatures(degree=degree, include_bias=False)),\n",
    "    ('scaler', StandardScaler()),\n",
    "    ('model', OneVsRestClassifier(LogisticRegression(penalty=None, solver='lbfgs', max_iter=10000)))\n",
    "]\n",
    "\n",
    "\n",
    "losPipe2 = Pipeline(stepsLogisticsRegression)\n",
    "\n",
    "losPipe2.fit(X3, y3)"
   ]
  },
  {
   "cell_type": "code",
   "execution_count": 85,
   "id": "57b59016-af70-4c98-914b-21d7b2723d7e",
   "metadata": {},
   "outputs": [
    {
     "data": {
      "text/plain": [
       "1.0"
      ]
     },
     "execution_count": 85,
     "metadata": {},
     "output_type": "execute_result"
    }
   ],
   "source": [
    "losPipe2.score(X3, y3)"
   ]
  },
  {
   "cell_type": "code",
   "execution_count": 86,
   "id": "be2cdc91-ac13-4a28-b307-af4e4e85690b",
   "metadata": {},
   "outputs": [],
   "source": [
    "x_min, x_max = X3[:,0].min() - 1, X3[:,0].max() + 1\n",
    "y_min, y_max = X3[:,1].min() - 1, X3[:,1].max() + 1\n",
    "x1grid = np.arange(x_min, x_max, 0.01)\n",
    "x2grid = np.arange(y_min, y_max, 0.01)\n",
    "xx, yy = np.meshgrid(x1grid,x2grid)\n",
    "Z2 = losPipe2.predict(np.c_[xx.ravel(), yy.ravel()])\n",
    "Z2 = Z2.reshape(xx.shape)"
   ]
  },
  {
   "cell_type": "code",
   "execution_count": 87,
   "id": "574cb7e8-f4ca-4b0a-8d74-7ec534b2c77b",
   "metadata": {},
   "outputs": [
    {
     "data": {
      "image/png": "[encoded data removed]",
      "text/plain": [
       "<Figure size 800x500 with 1 Axes>"
      ]
     },
     "metadata": {},
     "output_type": "display_data"
    }
   ],
   "source": [
    "plt.close('all')\n",
    "fig, (ax1) = plt.subplots(1, 1, figsize=(8, 5))\n",
    "ax1.contourf(xx, yy, Z2, cmap=plt.cm.RdYlBu)\n",
    "plt.scatter(X3[:,0], X3[:,1], marker=\"o\", c=y3, s=25, edgecolor='k', cmap=plt.cm.RdYlBu)\n",
    "ax1.set_title('Classfication Data')\n",
    "ax1.set_xlabel('x0')\n",
    "ax1.set_ylabel('x1')\n",
    "plt.show()"
   ]
  },
  {
   "cell_type": "markdown",
   "id": "e571b64b-e60a-4ac5-9429-4532dddeb6ec",
   "metadata": {},
   "source": [
    "### Just Right"
   ]
  },
  {
   "cell_type": "code",
   "execution_count": 88,
   "id": "1138411d-d7fb-4fbd-98e5-659f3cc92528",
   "metadata": {},
   "outputs": [
    {
     "data": {
      "text/html": [
       "<style>#sk-container-id-3 {color: black;background-color: white;}#sk-container-id-3 pre{padding: 0;}#sk-container-id-3 div.sk-toggleable {background-color: white;}#sk-container-id-3 label.sk-toggleable__label {cursor: pointer;display: block;width: 100%;margin-bottom: 0;padding: 0.3em;box-sizing: border-box;text-align: center;}#sk-container-id-3 label.sk-toggleable__label-arrow:before {content: \"▸\";float: left;margin-right: 0.25em;color: #696969;}#sk-container-id-3 label.sk-toggleable__label-arrow:hover:before {color: black;}#sk-container-id-3 div.sk-estimator:hover label.sk-toggleable__label-arrow:before {color: black;}#sk-container-id-3 div.sk-toggleable__content {max-height: 0;max-width: 0;overflow: hidden;text-align: left;background-color: #f0f8ff;}#sk-container-id-3 div.sk-toggleable__content pre {margin: 0.2em;color: black;border-radius: 0.25em;background-color: #f0f8ff;}#sk-container-id-3 input.sk-toggleable__control:checked~div.sk-toggleable__content {max-height: 200px;max-width: 100%;overflow: auto;}#sk-container-id-3 input.sk-toggleable__control:checked~label.sk-toggleable__label-arrow:before {content: \"▾\";}#sk-container-id-3 div.sk-estimator input.sk-toggleable__control:checked~label.sk-toggleable__label {background-color: #d4ebff;}#sk-container-id-3 div.sk-label input.sk-toggleable__control:checked~label.sk-toggleable__label {background-color: #d4ebff;}#sk-container-id-3 input.sk-hidden--visually {border: 0;clip: rect(1px 1px 1px 1px);clip: rect(1px, 1px, 1px, 1px);height: 1px;margin: -1px;overflow: hidden;padding: 0;position: absolute;width: 1px;}#sk-container-id-3 div.sk-estimator {font-family: monospace;background-color: #f0f8ff;border: 1px dotted black;border-radius: 0.25em;box-sizing: border-box;margin-bottom: 0.5em;}#sk-container-id-3 div.sk-estimator:hover {background-color: #d4ebff;}#sk-container-id-3 div.sk-parallel-item::after {content: \"\";width: 100%;border-bottom: 1px solid gray;flex-grow: 1;}#sk-container-id-3 div.sk-label:hover label.sk-toggleable__label {background-color: #d4ebff;}#sk-container-id-3 div.sk-serial::before {content: \"\";position: absolute;border-left: 1px solid gray;box-sizing: border-box;top: 0;bottom: 0;left: 50%;z-index: 0;}#sk-container-id-3 div.sk-serial {display: flex;flex-direction: column;align-items: center;background-color: white;padding-right: 0.2em;padding-left: 0.2em;position: relative;}#sk-container-id-3 div.sk-item {position: relative;z-index: 1;}#sk-container-id-3 div.sk-parallel {display: flex;align-items: stretch;justify-content: center;background-color: white;position: relative;}#sk-container-id-3 div.sk-item::before, #sk-container-id-3 div.sk-parallel-item::before {content: \"\";position: absolute;border-left: 1px solid gray;box-sizing: border-box;top: 0;bottom: 0;left: 50%;z-index: -1;}#sk-container-id-3 div.sk-parallel-item {display: flex;flex-direction: column;z-index: 1;position: relative;background-color: white;}#sk-container-id-3 div.sk-parallel-item:first-child::after {align-self: flex-end;width: 50%;}#sk-container-id-3 div.sk-parallel-item:last-child::after {align-self: flex-start;width: 50%;}#sk-container-id-3 div.sk-parallel-item:only-child::after {width: 0;}#sk-container-id-3 div.sk-dashed-wrapped {border: 1px dashed gray;margin: 0 0.4em 0.5em 0.4em;box-sizing: border-box;padding-bottom: 0.4em;background-color: white;}#sk-container-id-3 div.sk-label label {font-family: monospace;font-weight: bold;display: inline-block;line-height: 1.2em;}#sk-container-id-3 div.sk-label-container {text-align: center;}#sk-container-id-3 div.sk-container {/* jupyter's `normalize.less` sets `[hidden] { display: none; }` but bootstrap.min.css set `[hidden] { display: none !important; }` so we also need the `!important` here to be able to override the default hidden behavior on the sphinx rendered scikit-learn.org. See: https://github.com/scikit-learn/scikit-learn/issues/21755 */display: inline-block !important;position: relative;}#sk-container-id-3 div.sk-text-repr-fallback {display: none;}</style><div id=\"sk-container-id-3\" class=\"sk-top-container\"><div class=\"sk-text-repr-fallback\"><pre>Pipeline(steps=[(&#x27;poly&#x27;, PolynomialFeatures(include_bias=False)),\n",
       "                (&#x27;scaler&#x27;, StandardScaler()),\n",
       "                (&#x27;model&#x27;,\n",
       "                 OneVsRestClassifier(estimator=LogisticRegression(max_iter=10000,\n",
       "                                                                  penalty=None)))])</pre><b>In a Jupyter environment, please rerun this cell to show the HTML representation or trust the notebook. <br />On GitHub, the HTML representation is unable to render, please try loading this page with nbviewer.org.</b></div><div class=\"sk-container\" hidden><div class=\"sk-item sk-dashed-wrapped\"><div class=\"sk-label-container\"><div class=\"sk-label sk-toggleable\"><input class=\"sk-toggleable__control sk-hidden--visually\" id=\"sk-estimator-id-13\" type=\"checkbox\" ><label for=\"sk-estimator-id-13\" class=\"sk-toggleable__label sk-toggleable__label-arrow\">Pipeline</label><div class=\"sk-toggleable__content\"><pre>Pipeline(steps=[(&#x27;poly&#x27;, PolynomialFeatures(include_bias=False)),\n",
       "                (&#x27;scaler&#x27;, StandardScaler()),\n",
       "                (&#x27;model&#x27;,\n",
       "                 OneVsRestClassifier(estimator=LogisticRegression(max_iter=10000,\n",
       "                                                                  penalty=None)))])</pre></div></div></div><div class=\"sk-serial\"><div class=\"sk-item\"><div class=\"sk-estimator sk-toggleable\"><input class=\"sk-toggleable__control sk-hidden--visually\" id=\"sk-estimator-id-14\" type=\"checkbox\" ><label for=\"sk-estimator-id-14\" class=\"sk-toggleable__label sk-toggleable__label-arrow\">PolynomialFeatures</label><div class=\"sk-toggleable__content\"><pre>PolynomialFeatures(include_bias=False)</pre></div></div></div><div class=\"sk-item\"><div class=\"sk-estimator sk-toggleable\"><input class=\"sk-toggleable__control sk-hidden--visually\" id=\"sk-estimator-id-15\" type=\"checkbox\" ><label for=\"sk-estimator-id-15\" class=\"sk-toggleable__label sk-toggleable__label-arrow\">StandardScaler</label><div class=\"sk-toggleable__content\"><pre>StandardScaler()</pre></div></div></div><div class=\"sk-item sk-dashed-wrapped\"><div class=\"sk-label-container\"><div class=\"sk-label sk-toggleable\"><input class=\"sk-toggleable__control sk-hidden--visually\" id=\"sk-estimator-id-16\" type=\"checkbox\" ><label for=\"sk-estimator-id-16\" class=\"sk-toggleable__label sk-toggleable__label-arrow\">model: OneVsRestClassifier</label><div class=\"sk-toggleable__content\"><pre>OneVsRestClassifier(estimator=LogisticRegression(max_iter=10000, penalty=None))</pre></div></div></div><div class=\"sk-parallel\"><div class=\"sk-parallel-item\"><div class=\"sk-item\"><div class=\"sk-label-container\"><div class=\"sk-label sk-toggleable\"><input class=\"sk-toggleable__control sk-hidden--visually\" id=\"sk-estimator-id-17\" type=\"checkbox\" ><label for=\"sk-estimator-id-17\" class=\"sk-toggleable__label sk-toggleable__label-arrow\">estimator: LogisticRegression</label><div class=\"sk-toggleable__content\"><pre>LogisticRegression(max_iter=10000, penalty=None)</pre></div></div></div><div class=\"sk-serial\"><div class=\"sk-item\"><div class=\"sk-estimator sk-toggleable\"><input class=\"sk-toggleable__control sk-hidden--visually\" id=\"sk-estimator-id-18\" type=\"checkbox\" ><label for=\"sk-estimator-id-18\" class=\"sk-toggleable__label sk-toggleable__label-arrow\">LogisticRegression</label><div class=\"sk-toggleable__content\"><pre>LogisticRegression(max_iter=10000, penalty=None)</pre></div></div></div></div></div></div></div></div></div></div></div></div>"
      ],
      "text/plain": [
       "Pipeline(steps=[('poly', PolynomialFeatures(include_bias=False)),\n",
       "                ('scaler', StandardScaler()),\n",
       "                ('model',\n",
       "                 OneVsRestClassifier(estimator=LogisticRegression(max_iter=10000,\n",
       "                                                                  penalty=None)))])"
      ]
     },
     "execution_count": 88,
     "metadata": {},
     "output_type": "execute_result"
    }
   ],
   "source": [
    "degree = 2\n",
    "stepsLogisticsRegression = [\n",
    "    ('poly', PolynomialFeatures(degree=degree, include_bias=False)),\n",
    "    ('scaler', StandardScaler()),\n",
    "    ('model', OneVsRestClassifier(LogisticRegression(penalty=None, solver='lbfgs', max_iter=10000)))\n",
    "]\n",
    "\n",
    "\n",
    "losPipe3 = Pipeline(stepsLogisticsRegression)\n",
    "\n",
    "losPipe3.fit(X3, y3)"
   ]
  },
  {
   "cell_type": "code",
   "execution_count": 89,
   "id": "237c0019-0b57-4bd9-bf30-65c1f0ecef50",
   "metadata": {},
   "outputs": [
    {
     "data": {
      "text/plain": [
       "0.9"
      ]
     },
     "execution_count": 89,
     "metadata": {},
     "output_type": "execute_result"
    }
   ],
   "source": [
    "losPipe3.score(X3, y3)"
   ]
  },
  {
   "cell_type": "code",
   "execution_count": 90,
   "id": "6f55b2fb-324f-4be1-b058-5592c64bf74a",
   "metadata": {},
   "outputs": [],
   "source": [
    "x_min, x_max = X3[:,0].min() - 1, X3[:,0].max() + 1\n",
    "y_min, y_max = X3[:,1].min() - 1, X3[:,1].max() + 1\n",
    "x1grid = np.arange(x_min, x_max, 0.01)\n",
    "x2grid = np.arange(y_min, y_max, 0.01)\n",
    "xx, yy = np.meshgrid(x1grid,x2grid)\n",
    "Z3 = losPipe3.predict(np.c_[xx.ravel(), yy.ravel()])\n",
    "Z3 = Z3.reshape(xx.shape)"
   ]
  },
  {
   "cell_type": "code",
   "execution_count": 91,
   "id": "6f685cca-00c1-4bfb-9583-42ccf15e3182",
   "metadata": {},
   "outputs": [
    {
     "data": {
      "image/png": "[encoded data removed]",
      "text/plain": [
       "<Figure size 800x500 with 1 Axes>"
      ]
     },
     "metadata": {},
     "output_type": "display_data"
    }
   ],
   "source": [
    "plt.close('all')\n",
    "fig, (ax1) = plt.subplots(1, 1, figsize=(8, 5))\n",
    "ax1.contourf(xx, yy, Z3, cmap=plt.cm.RdYlBu)\n",
    "plt.scatter(X3[:,0], X3[:,1], marker=\"o\", c=y3, s=25, edgecolor='k', cmap=plt.cm.RdYlBu)\n",
    "ax1.set_title('Classfication Data')\n",
    "ax1.set_xlabel('x0')\n",
    "ax1.set_ylabel('x1')\n",
    "plt.show()"
   ]
  },
  {
   "cell_type": "markdown",
   "id": "5b71ad3b-1707-44d6-8458-40b79e8aba27",
   "metadata": {},
   "source": [
    "### Address Overfitting"
   ]
  },
  {
   "cell_type": "code",
   "execution_count": 92,
   "id": "eb0dd3c7-24a6-4aee-ab09-e9b394deab1a",
   "metadata": {},
   "outputs": [
    {
     "data": {
      "text/html": [
       "<style>#sk-container-id-4 {color: black;background-color: white;}#sk-container-id-4 pre{padding: 0;}#sk-container-id-4 div.sk-toggleable {background-color: white;}#sk-container-id-4 label.sk-toggleable__label {cursor: pointer;display: block;width: 100%;margin-bottom: 0;padding: 0.3em;box-sizing: border-box;text-align: center;}#sk-container-id-4 label.sk-toggleable__label-arrow:before {content: \"▸\";float: left;margin-right: 0.25em;color: #696969;}#sk-container-id-4 label.sk-toggleable__label-arrow:hover:before {color: black;}#sk-container-id-4 div.sk-estimator:hover label.sk-toggleable__label-arrow:before {color: black;}#sk-container-id-4 div.sk-toggleable__content {max-height: 0;max-width: 0;overflow: hidden;text-align: left;background-color: #f0f8ff;}#sk-container-id-4 div.sk-toggleable__content pre {margin: 0.2em;color: black;border-radius: 0.25em;background-color: #f0f8ff;}#sk-container-id-4 input.sk-toggleable__control:checked~div.sk-toggleable__content {max-height: 200px;max-width: 100%;overflow: auto;}#sk-container-id-4 input.sk-toggleable__control:checked~label.sk-toggleable__label-arrow:before {content: \"▾\";}#sk-container-id-4 div.sk-estimator input.sk-toggleable__control:checked~label.sk-toggleable__label {background-color: #d4ebff;}#sk-container-id-4 div.sk-label input.sk-toggleable__control:checked~label.sk-toggleable__label {background-color: #d4ebff;}#sk-container-id-4 input.sk-hidden--visually {border: 0;clip: rect(1px 1px 1px 1px);clip: rect(1px, 1px, 1px, 1px);height: 1px;margin: -1px;overflow: hidden;padding: 0;position: absolute;width: 1px;}#sk-container-id-4 div.sk-estimator {font-family: monospace;background-color: #f0f8ff;border: 1px dotted black;border-radius: 0.25em;box-sizing: border-box;margin-bottom: 0.5em;}#sk-container-id-4 div.sk-estimator:hover {background-color: #d4ebff;}#sk-container-id-4 div.sk-parallel-item::after {content: \"\";width: 100%;border-bottom: 1px solid gray;flex-grow: 1;}#sk-container-id-4 div.sk-label:hover label.sk-toggleable__label {background-color: #d4ebff;}#sk-container-id-4 div.sk-serial::before {content: \"\";position: absolute;border-left: 1px solid gray;box-sizing: border-box;top: 0;bottom: 0;left: 50%;z-index: 0;}#sk-container-id-4 div.sk-serial {display: flex;flex-direction: column;align-items: center;background-color: white;padding-right: 0.2em;padding-left: 0.2em;position: relative;}#sk-container-id-4 div.sk-item {position: relative;z-index: 1;}#sk-container-id-4 div.sk-parallel {display: flex;align-items: stretch;justify-content: center;background-color: white;position: relative;}#sk-container-id-4 div.sk-item::before, #sk-container-id-4 div.sk-parallel-item::before {content: \"\";position: absolute;border-left: 1px solid gray;box-sizing: border-box;top: 0;bottom: 0;left: 50%;z-index: -1;}#sk-container-id-4 div.sk-parallel-item {display: flex;flex-direction: column;z-index: 1;position: relative;background-color: white;}#sk-container-id-4 div.sk-parallel-item:first-child::after {align-self: flex-end;width: 50%;}#sk-container-id-4 div.sk-parallel-item:last-child::after {align-self: flex-start;width: 50%;}#sk-container-id-4 div.sk-parallel-item:only-child::after {width: 0;}#sk-container-id-4 div.sk-dashed-wrapped {border: 1px dashed gray;margin: 0 0.4em 0.5em 0.4em;box-sizing: border-box;padding-bottom: 0.4em;background-color: white;}#sk-container-id-4 div.sk-label label {font-family: monospace;font-weight: bold;display: inline-block;line-height: 1.2em;}#sk-container-id-4 div.sk-label-container {text-align: center;}#sk-container-id-4 div.sk-container {/* jupyter's `normalize.less` sets `[hidden] { display: none; }` but bootstrap.min.css set `[hidden] { display: none !important; }` so we also need the `!important` here to be able to override the default hidden behavior on the sphinx rendered scikit-learn.org. See: https://github.com/scikit-learn/scikit-learn/issues/21755 */display: inline-block !important;position: relative;}#sk-container-id-4 div.sk-text-repr-fallback {display: none;}</style><div id=\"sk-container-id-4\" class=\"sk-top-container\"><div class=\"sk-text-repr-fallback\"><pre>Pipeline(steps=[(&#x27;poly&#x27;, PolynomialFeatures(degree=5, include_bias=False)),\n",
       "                (&#x27;scaler&#x27;, StandardScaler()),\n",
       "                (&#x27;model&#x27;,\n",
       "                 OneVsRestClassifier(estimator=LogisticRegression(C=10,\n",
       "                                                                  max_iter=10000)))])</pre><b>In a Jupyter environment, please rerun this cell to show the HTML representation or trust the notebook. <br />On GitHub, the HTML representation is unable to render, please try loading this page with nbviewer.org.</b></div><div class=\"sk-container\" hidden><div class=\"sk-item sk-dashed-wrapped\"><div class=\"sk-label-container\"><div class=\"sk-label sk-toggleable\"><input class=\"sk-toggleable__control sk-hidden--visually\" id=\"sk-estimator-id-19\" type=\"checkbox\" ><label for=\"sk-estimator-id-19\" class=\"sk-toggleable__label sk-toggleable__label-arrow\">Pipeline</label><div class=\"sk-toggleable__content\"><pre>Pipeline(steps=[(&#x27;poly&#x27;, PolynomialFeatures(degree=5, include_bias=False)),\n",
       "                (&#x27;scaler&#x27;, StandardScaler()),\n",
       "                (&#x27;model&#x27;,\n",
       "                 OneVsRestClassifier(estimator=LogisticRegression(C=10,\n",
       "                                                                  max_iter=10000)))])</pre></div></div></div><div class=\"sk-serial\"><div class=\"sk-item\"><div class=\"sk-estimator sk-toggleable\"><input class=\"sk-toggleable__control sk-hidden--visually\" id=\"sk-estimator-id-20\" type=\"checkbox\" ><label for=\"sk-estimator-id-20\" class=\"sk-toggleable__label sk-toggleable__label-arrow\">PolynomialFeatures</label><div class=\"sk-toggleable__content\"><pre>PolynomialFeatures(degree=5, include_bias=False)</pre></div></div></div><div class=\"sk-item\"><div class=\"sk-estimator sk-toggleable\"><input class=\"sk-toggleable__control sk-hidden--visually\" id=\"sk-estimator-id-21\" type=\"checkbox\" ><label for=\"sk-estimator-id-21\" class=\"sk-toggleable__label sk-toggleable__label-arrow\">StandardScaler</label><div class=\"sk-toggleable__content\"><pre>StandardScaler()</pre></div></div></div><div class=\"sk-item sk-dashed-wrapped\"><div class=\"sk-label-container\"><div class=\"sk-label sk-toggleable\"><input class=\"sk-toggleable__control sk-hidden--visually\" id=\"sk-estimator-id-22\" type=\"checkbox\" ><label for=\"sk-estimator-id-22\" class=\"sk-toggleable__label sk-toggleable__label-arrow\">model: OneVsRestClassifier</label><div class=\"sk-toggleable__content\"><pre>OneVsRestClassifier(estimator=LogisticRegression(C=10, max_iter=10000))</pre></div></div></div><div class=\"sk-parallel\"><div class=\"sk-parallel-item\"><div class=\"sk-item\"><div class=\"sk-label-container\"><div class=\"sk-label sk-toggleable\"><input class=\"sk-toggleable__control sk-hidden--visually\" id=\"sk-estimator-id-23\" type=\"checkbox\" ><label for=\"sk-estimator-id-23\" class=\"sk-toggleable__label sk-toggleable__label-arrow\">estimator: LogisticRegression</label><div class=\"sk-toggleable__content\"><pre>LogisticRegression(C=10, max_iter=10000)</pre></div></div></div><div class=\"sk-serial\"><div class=\"sk-item\"><div class=\"sk-estimator sk-toggleable\"><input class=\"sk-toggleable__control sk-hidden--visually\" id=\"sk-estimator-id-24\" type=\"checkbox\" ><label for=\"sk-estimator-id-24\" class=\"sk-toggleable__label sk-toggleable__label-arrow\">LogisticRegression</label><div class=\"sk-toggleable__content\"><pre>LogisticRegression(C=10, max_iter=10000)</pre></div></div></div></div></div></div></div></div></div></div></div></div>"
      ],
      "text/plain": [
       "Pipeline(steps=[('poly', PolynomialFeatures(degree=5, include_bias=False)),\n",
       "                ('scaler', StandardScaler()),\n",
       "                ('model',\n",
       "                 OneVsRestClassifier(estimator=LogisticRegression(C=10,\n",
       "                                                                  max_iter=10000)))])"
      ]
     },
     "execution_count": 92,
     "metadata": {},
     "output_type": "execute_result"
    }
   ],
   "source": [
    "degree = 5\n",
    "stepsLogisticsRegression = [\n",
    "    ('poly', PolynomialFeatures(degree=degree, include_bias=False)),\n",
    "    ('scaler', StandardScaler()),\n",
    "    ('model', OneVsRestClassifier(LogisticRegression(C=10, solver='lbfgs', max_iter=10000)))\n",
    "]\n",
    "\n",
    "\n",
    "losPipe4 = Pipeline(stepsLogisticsRegression)\n",
    "\n",
    "losPipe4.fit(X3, y3)"
   ]
  },
  {
   "cell_type": "code",
   "execution_count": 93,
   "id": "7c5920eb-41ef-4edb-83b8-83f97d64934d",
   "metadata": {},
   "outputs": [
    {
     "data": {
      "text/plain": [
       "0.9"
      ]
     },
     "execution_count": 93,
     "metadata": {},
     "output_type": "execute_result"
    }
   ],
   "source": [
    "losPipe4.score(X3, y3)"
   ]
  },
  {
   "cell_type": "code",
   "execution_count": 94,
   "id": "64f9b331-71e4-4669-a060-07a81b36dd49",
   "metadata": {},
   "outputs": [],
   "source": [
    "x_min, x_max = X3[:,0].min() - 1, X3[:,0].max() + 1\n",
    "y_min, y_max = X3[:,1].min() - 1, X3[:,1].max() + 1\n",
    "x1grid = np.arange(x_min, x_max, 0.01)\n",
    "x2grid = np.arange(y_min, y_max, 0.01)\n",
    "xx, yy = np.meshgrid(x1grid,x2grid)\n",
    "Z4 = losPipe4.predict(np.c_[xx.ravel(), yy.ravel()])\n",
    "Z4 = Z4.reshape(xx.shape)"
   ]
  },
  {
   "cell_type": "code",
   "execution_count": 95,
   "id": "d46f9659-7872-4662-8b6d-0f878e173842",
   "metadata": {},
   "outputs": [
    {
     "data": {
      "image/png": "[encoded data removed]",
      "text/plain": [
       "<Figure size 800x500 with 1 Axes>"
      ]
     },
     "metadata": {},
     "output_type": "display_data"
    }
   ],
   "source": [
    "plt.close('all')\n",
    "fig, (ax1) = plt.subplots(1, 1, figsize=(8, 5))\n",
    "ax1.contourf(xx, yy, Z4, cmap=plt.cm.RdYlBu)\n",
    "plt.scatter(X3[:,0], X3[:,1], marker=\"o\", c=y3, s=25, edgecolor='k', cmap=plt.cm.RdYlBu)\n",
    "ax1.set_title('Classfication Data')\n",
    "ax1.set_xlabel('x0')\n",
    "ax1.set_ylabel('x1')\n",
    "plt.show()"
   ]
  },
  {
   "cell_type": "markdown",
   "id": "0e36785f-49af-458b-876d-453fc77565e4",
   "metadata": {},
   "source": [
    "## Implementation of OvR Manually"
   ]
  },
  {
   "cell_type": "markdown",
   "id": "3de3c111-d3d2-4f95-bc2e-e82d9ecc4eda",
   "metadata": {},
   "source": [
    "The procedure of implementing OvR (One-vs-All) in Logistic Regression is as follows:\n",
    "\n",
    "1. Re-compute y where y is classification 0, if y is classification 0, set it to 1 and the rest set it to 0. `np.where(y == 0, 1, 0)`\n",
    "2. Perform the same for all other classification.\n",
    "3. Perform gradient descent for each classification and keep the coefficient and the intercept.\n",
    "4. Perform prediction for each classification and keep the probability instead of the True or False result.\n",
    "5. You can stack each classification probability by rows or columns.\n",
    "6. Then we use `argmax()` to get the rows or columns that has the highest probability.\n",
    "\n",
    "**Important Note**\n",
    "- When stacking the probability, classification 0 must be the first column or first row and following according to classification number.\n",
    "- For very large classification, it is recommend to use Pandas DataFrame instead."
   ]
  },
  {
   "cell_type": "markdown",
   "id": "4e4304aa-4158-49df-ba17-6a0c790af4dd",
   "metadata": {},
   "source": [
    "### Manual Implementation of OvR Step by Step"
   ]
  },
  {
   "cell_type": "code",
   "execution_count": 96,
   "id": "6031438d-be66-4478-ac1f-d0c428e74481",
   "metadata": {},
   "outputs": [
    {
     "data": {
      "text/plain": [
       "array([[1. , 3. ],\n",
       "       [2. , 4. ],\n",
       "       [8. , 9. ],\n",
       "       [3. , 4. ],\n",
       "       [7. , 8.5],\n",
       "       [6.8, 7.5],\n",
       "       [2. , 5. ],\n",
       "       [1.5, 2.5],\n",
       "       [6. , 3. ],\n",
       "       [7. , 4. ],\n",
       "       [6. , 5. ],\n",
       "       [6. , 8. ],\n",
       "       [8. , 3. ],\n",
       "       [5. , 4. ],\n",
       "       [9. , 8. ]])"
      ]
     },
     "execution_count": 96,
     "metadata": {},
     "output_type": "execute_result"
    }
   ],
   "source": [
    "X1"
   ]
  },
  {
   "cell_type": "code",
   "execution_count": 97,
   "id": "f65f25c3-4ce8-485e-a792-452d61f19e8f",
   "metadata": {},
   "outputs": [
    {
     "data": {
      "text/plain": [
       "array([0, 0, 1, 0, 1, 1, 0, 0, 2, 2, 2, 1, 2, 2, 1])"
      ]
     },
     "execution_count": 97,
     "metadata": {},
     "output_type": "execute_result"
    }
   ],
   "source": [
    "y1"
   ]
  },
  {
   "cell_type": "code",
   "execution_count": 98,
   "id": "ba80cb66-06c7-454f-b61a-e4f0e2381db8",
   "metadata": {},
   "outputs": [
    {
     "data": {
      "text/plain": [
       "array([1, 1, 0, 1, 0, 0, 1, 1, 0, 0, 0, 0, 0, 0, 0])"
      ]
     },
     "execution_count": 98,
     "metadata": {},
     "output_type": "execute_result"
    }
   ],
   "source": [
    "y_classification_0 = np.where(y1==0,1,0)\n",
    "y_classification_0 "
   ]
  },
  {
   "cell_type": "code",
   "execution_count": 99,
   "id": "d44c1320-a079-42cd-88bd-682f768de00a",
   "metadata": {},
   "outputs": [
    {
     "data": {
      "text/plain": [
       "(15, 2)"
      ]
     },
     "execution_count": 99,
     "metadata": {},
     "output_type": "execute_result"
    }
   ],
   "source": [
    "X1.shape"
   ]
  },
  {
   "cell_type": "code",
   "execution_count": 100,
   "id": "1a59943b-0d25-469c-b928-075589180935",
   "metadata": {},
   "outputs": [],
   "source": [
    "iterations = 10000\n",
    "alpha = 0.01\n",
    "lambdaRegu = 0\n",
    "initial_b = 0."
   ]
  },
  {
   "cell_type": "code",
   "execution_count": 101,
   "id": "9af2f084-a068-4be1-807a-194a8142736c",
   "metadata": {},
   "outputs": [
    {
     "name": "stdout",
     "output_type": "stream",
     "text": [
      "iteration 9999: cost = 4.9573e-02: intercept = 3.0289e+00: weights = [-2.81041722  1.52373494]\n",
      "best w [-2.8104  1.5237]\n",
      "best b 3.0289\n"
     ]
    }
   ],
   "source": [
    "coef1_classification_0, intercept1_classification_0, _, _, _ = my.compute_gradient_descent(X1, y_classification_0, \n",
    "                                                                                           gradient_function=my.compute_logistic_gradient, \n",
    "                                                                                           cost_function = my.compute_logistic_cost, \n",
    "                                                                                           init_intercept=initial_b, iterations=iterations, \n",
    "                                                                                           alpha=alpha, reguLambda=lambdaRegu)"
   ]
  },
  {
   "cell_type": "code",
   "execution_count": 102,
   "id": "bab16296-429a-4d3f-9909-8e22b06e6e44",
   "metadata": {},
   "outputs": [
    {
     "data": {
      "text/plain": [
       "array([0, 0, 1, 0, 1, 1, 0, 0, 0, 0, 0, 1, 0, 0, 1])"
      ]
     },
     "execution_count": 102,
     "metadata": {},
     "output_type": "execute_result"
    }
   ],
   "source": [
    "y_classification_1 = np.where(y1==1,1,0)\n",
    "y_classification_1"
   ]
  },
  {
   "cell_type": "code",
   "execution_count": 103,
   "id": "7d89ce02-15a6-41d9-b9f2-06e69ee003c5",
   "metadata": {},
   "outputs": [
    {
     "name": "stdout",
     "output_type": "stream",
     "text": [
      "iteration 9999: cost = 1.1068e-01: intercept = -6.4557e+00: weights = [-0.03594626  1.08931414]\n",
      "best w [-0.0359  1.0893]\n",
      "best b -6.4557\n"
     ]
    }
   ],
   "source": [
    "coef1_classification_1, intercept1_classification_1, _, _, _ = my.compute_gradient_descent(X1, y_classification_1, \n",
    "                                                                                           gradient_function=my.compute_logistic_gradient, \n",
    "                                                                                           cost_function = my.compute_logistic_cost, \n",
    "                                                                                           init_intercept=initial_b, iterations=iterations, \n",
    "                                                                                           alpha=alpha, reguLambda=lambdaRegu)"
   ]
  },
  {
   "cell_type": "code",
   "execution_count": 104,
   "id": "c1360d3e-566d-4b18-b606-bd218f7ee852",
   "metadata": {},
   "outputs": [
    {
     "data": {
      "text/plain": [
       "array([0, 0, 0, 0, 0, 0, 0, 0, 1, 1, 1, 0, 1, 1, 0])"
      ]
     },
     "execution_count": 104,
     "metadata": {},
     "output_type": "execute_result"
    }
   ],
   "source": [
    "y_classification_2 = np.where(y1==2,1,0)\n",
    "y_classification_2"
   ]
  },
  {
   "cell_type": "code",
   "execution_count": 105,
   "id": "56877c44-2a3c-4c27-a8ca-552ea6c6903b",
   "metadata": {},
   "outputs": [
    {
     "name": "stdout",
     "output_type": "stream",
     "text": [
      "iteration 9999: cost = 6.6933e-02: intercept = 1.0370e+00: weights = [ 2.65909907 -3.23693611]\n",
      "best w [ 2.6591 -3.2369]\n",
      "best b 1.037\n"
     ]
    }
   ],
   "source": [
    "coef1_classification_2, intercept1_classification_2, _, _, _ = my.compute_gradient_descent(X1, y_classification_2, \n",
    "                                                                                           gradient_function=my.compute_logistic_gradient, \n",
    "                                                                                           cost_function = my.compute_logistic_cost, \n",
    "                                                                                           init_intercept=initial_b, iterations=iterations, \n",
    "                                                                                           alpha=alpha, reguLambda=lambdaRegu)"
   ]
  },
  {
   "cell_type": "code",
   "execution_count": 106,
   "id": "73d2f18d-aa21-44ed-9c62-9bb489936cce",
   "metadata": {},
   "outputs": [
    {
     "data": {
      "text/plain": [
       "array([[9.91753290e-01],\n",
       "       [9.70772377e-01],\n",
       "       [3.20175002e-03],\n",
       "       [6.66536292e-01],\n",
       "       [2.43089570e-02],\n",
       "       [9.43403471e-03],\n",
       "       [9.93482417e-01],\n",
       "       [9.32300978e-01],\n",
       "       [9.49157428e-05],\n",
       "       [2.62161597e-05],\n",
       "       [1.99531473e-03],\n",
       "       [1.61955262e-01],\n",
       "       [3.43781056e-07],\n",
       "       [7.18696144e-03],\n",
       "       [4.21175881e-05]])"
      ]
     },
     "execution_count": 106,
     "metadata": {},
     "output_type": "execute_result"
    }
   ],
   "source": [
    "y_predict_classification_0 = my.predict_logistic(X1, coef1_classification_0, intercept1_classification_0, prob=True)\n",
    "y_predict_classification_0"
   ]
  },
  {
   "cell_type": "code",
   "execution_count": 107,
   "id": "396909e7-346e-4acd-9f13-e61af46d6f56",
   "metadata": {},
   "outputs": [],
   "source": [
    "y_predict_all = np.array(y_predict_classification_0)"
   ]
  },
  {
   "cell_type": "code",
   "execution_count": 108,
   "id": "b3501f84-4c29-4c6c-9f36-426be56df7bd",
   "metadata": {},
   "outputs": [
    {
     "data": {
      "text/plain": [
       "array([[0.03828247],\n",
       "       [0.10244386],\n",
       "       [0.95523507],\n",
       "       [0.09918554],\n",
       "       [0.92769579],\n",
       "       [0.81301127],\n",
       "       [0.253308  ],\n",
       "       [0.02217514],\n",
       "       [0.03218751],\n",
       "       [0.08705845],\n",
       "       [0.22708728],\n",
       "       [0.88524964],\n",
       "       [0.03002172],\n",
       "       [0.09294463],\n",
       "       [0.8738318 ]])"
      ]
     },
     "execution_count": 108,
     "metadata": {},
     "output_type": "execute_result"
    }
   ],
   "source": [
    "y_predict_classification_1 = my.predict_logistic(X1, coef1_classification_1, intercept1_classification_1, prob=True)\n",
    "y_predict_classification_1"
   ]
  },
  {
   "cell_type": "code",
   "execution_count": 109,
   "id": "69d73d47-9e4c-426e-887a-0f56552711af",
   "metadata": {},
   "outputs": [],
   "source": [
    "y_predict_all = np.hstack((y_predict_all, y_predict_classification_1))"
   ]
  },
  {
   "cell_type": "code",
   "execution_count": 110,
   "id": "5bcd2c0d-55d0-4620-b882-2bb6548240b7",
   "metadata": {},
   "outputs": [
    {
     "data": {
      "text/plain": [
       "(15, 2)"
      ]
     },
     "execution_count": 110,
     "metadata": {},
     "output_type": "execute_result"
    }
   ],
   "source": [
    "y_predict_all.shape"
   ]
  },
  {
   "cell_type": "code",
   "execution_count": 111,
   "id": "ee2cd8ee-45dd-4e3f-ac74-d497780763ea",
   "metadata": {},
   "outputs": [
    {
     "data": {
      "text/plain": [
       "array([[2.43655889e-03],\n",
       "       [1.36864290e-03],\n",
       "       [1.08764509e-03],\n",
       "       [1.91998366e-02],\n",
       "       [3.84461193e-04],\n",
       "       [5.71933565e-03],\n",
       "       [5.38366563e-05],\n",
       "       [4.45014529e-02],\n",
       "       [9.99311816e-01],\n",
       "       [9.98774193e-01],\n",
       "       [6.91447270e-01],\n",
       "       [1.35837664e-04],\n",
       "       [9.99996625e-01],\n",
       "       [7.99749774e-01],\n",
       "       [2.83611561e-01]])"
      ]
     },
     "execution_count": 111,
     "metadata": {},
     "output_type": "execute_result"
    }
   ],
   "source": [
    "y_predict_classification_2 = my.predict_logistic(X1, coef1_classification_2, intercept1_classification_2, prob=True)\n",
    "y_predict_classification_2"
   ]
  },
  {
   "cell_type": "code",
   "execution_count": 112,
   "id": "673197d8-a3e1-4e9a-9363-18c129a04cfe",
   "metadata": {},
   "outputs": [],
   "source": [
    "y_predict_all = np.hstack((y_predict_all, y_predict_classification_2))"
   ]
  },
  {
   "cell_type": "code",
   "execution_count": 113,
   "id": "86e654f5-24a6-44f5-b2af-bd1712529f95",
   "metadata": {},
   "outputs": [
    {
     "data": {
      "text/plain": [
       "array([[9.91753290e-01, 3.82824713e-02, 2.43655889e-03],\n",
       "       [9.70772377e-01, 1.02443856e-01, 1.36864290e-03],\n",
       "       [3.20175002e-03, 9.55235066e-01, 1.08764509e-03],\n",
       "       [6.66536292e-01, 9.91855429e-02, 1.91998366e-02],\n",
       "       [2.43089570e-02, 9.27695792e-01, 3.84461193e-04],\n",
       "       [9.43403471e-03, 8.13011274e-01, 5.71933565e-03],\n",
       "       [9.93482417e-01, 2.53308001e-01, 5.38366563e-05],\n",
       "       [9.32300978e-01, 2.21751374e-02, 4.45014529e-02],\n",
       "       [9.49157428e-05, 3.21875071e-02, 9.99311816e-01],\n",
       "       [2.62161597e-05, 8.70584532e-02, 9.98774193e-01],\n",
       "       [1.99531473e-03, 2.27087282e-01, 6.91447270e-01],\n",
       "       [1.61955262e-01, 8.85249643e-01, 1.35837664e-04],\n",
       "       [3.43781056e-07, 3.00217221e-02, 9.99996625e-01],\n",
       "       [7.18696144e-03, 9.29446295e-02, 7.99749774e-01],\n",
       "       [4.21175881e-05, 8.73831797e-01, 2.83611561e-01]])"
      ]
     },
     "execution_count": 113,
     "metadata": {},
     "output_type": "execute_result"
    }
   ],
   "source": [
    "y_predict_all"
   ]
  },
  {
   "cell_type": "code",
   "execution_count": 114,
   "id": "f3e1c198-2e81-48ce-84eb-704dcdf22c02",
   "metadata": {},
   "outputs": [
    {
     "data": {
      "text/plain": [
       "array([0, 0, 1, 0, 1, 1, 0, 0, 2, 2, 2, 1, 2, 2, 1])"
      ]
     },
     "execution_count": 114,
     "metadata": {},
     "output_type": "execute_result"
    }
   ],
   "source": [
    "ypredict = np.argmax(y_predict_all,axis =1)\n",
    "ypredict"
   ]
  },
  {
   "cell_type": "code",
   "execution_count": 115,
   "id": "9c2261af-5671-4e38-a8f8-65275053ae94",
   "metadata": {},
   "outputs": [
    {
     "data": {
      "text/plain": [
       "array([0, 0, 1, 0, 1, 1, 0, 0, 2, 2, 2, 1, 2, 2, 1])"
      ]
     },
     "execution_count": 115,
     "metadata": {},
     "output_type": "execute_result"
    }
   ],
   "source": [
    "y1"
   ]
  },
  {
   "cell_type": "code",
   "execution_count": 116,
   "id": "8344f28b-599a-4c0b-9469-411958527023",
   "metadata": {},
   "outputs": [
    {
     "name": "stdout",
     "output_type": "stream",
     "text": [
      "Train Accuracy: 100.000000\n"
     ]
    }
   ],
   "source": [
    "print('Train Accuracy: %f'%(np.mean(ypredict.reshape(-1,1) == y1.reshape(-1,1)) * 100))"
   ]
  },
  {
   "cell_type": "code",
   "execution_count": 117,
   "id": "ef5e86a7-24f9-4972-8edf-e23f3cedaf86",
   "metadata": {},
   "outputs": [
    {
     "data": {
      "text/plain": [
       "array([0.99175329, 0.97077238, 0.95523507, 0.66653629, 0.92769579,\n",
       "       0.81301127, 0.99348242, 0.93230098, 0.99931182, 0.99877419,\n",
       "       0.69144727, 0.88524964, 0.99999662, 0.79974977, 0.8738318 ])"
      ]
     },
     "execution_count": 117,
     "metadata": {},
     "output_type": "execute_result"
    }
   ],
   "source": [
    "ypredict_prob = np.max(y_predict_all,axis =1)\n",
    "ypredict_prob"
   ]
  },
  {
   "cell_type": "markdown",
   "id": "8655e8eb-fe95-4081-be2e-d9255a8f6659",
   "metadata": {},
   "source": [
    "If we have very large classification we can use Pandas Dataframe to give us the classification name. Take this example, we can assume that 0 is Class A, 1 is Class B and 2 is Class C.\n",
    "\n",
    "The following shows us how to use Pandas to provide us the proper classification."
   ]
  },
  {
   "cell_type": "code",
   "execution_count": 118,
   "id": "5262e047-06f2-44d2-a09f-8958f9f43016",
   "metadata": {},
   "outputs": [
    {
     "data": {
      "text/html": [
       "<div>\n",
       "<style scoped>\n",
       "    .dataframe tbody tr th:only-of-type {\n",
       "        vertical-align: middle;\n",
       "    }\n",
       "\n",
       "    .dataframe tbody tr th {\n",
       "        vertical-align: top;\n",
       "    }\n",
       "\n",
       "    .dataframe thead th {\n",
       "        text-align: right;\n",
       "    }\n",
       "</style>\n",
       "<table border=\"1\" class=\"dataframe\">\n",
       "  <thead>\n",
       "    <tr style=\"text-align: right;\">\n",
       "      <th></th>\n",
       "      <th>class 0</th>\n",
       "      <th>class 1</th>\n",
       "      <th>class 2</th>\n",
       "    </tr>\n",
       "  </thead>\n",
       "  <tbody>\n",
       "    <tr>\n",
       "      <th>0</th>\n",
       "      <td>9.917533e-01</td>\n",
       "      <td>0.038282</td>\n",
       "      <td>0.002437</td>\n",
       "    </tr>\n",
       "    <tr>\n",
       "      <th>1</th>\n",
       "      <td>9.707724e-01</td>\n",
       "      <td>0.102444</td>\n",
       "      <td>0.001369</td>\n",
       "    </tr>\n",
       "    <tr>\n",
       "      <th>2</th>\n",
       "      <td>3.201750e-03</td>\n",
       "      <td>0.955235</td>\n",
       "      <td>0.001088</td>\n",
       "    </tr>\n",
       "    <tr>\n",
       "      <th>3</th>\n",
       "      <td>6.665363e-01</td>\n",
       "      <td>0.099186</td>\n",
       "      <td>0.019200</td>\n",
       "    </tr>\n",
       "    <tr>\n",
       "      <th>4</th>\n",
       "      <td>2.430896e-02</td>\n",
       "      <td>0.927696</td>\n",
       "      <td>0.000384</td>\n",
       "    </tr>\n",
       "    <tr>\n",
       "      <th>5</th>\n",
       "      <td>9.434035e-03</td>\n",
       "      <td>0.813011</td>\n",
       "      <td>0.005719</td>\n",
       "    </tr>\n",
       "    <tr>\n",
       "      <th>6</th>\n",
       "      <td>9.934824e-01</td>\n",
       "      <td>0.253308</td>\n",
       "      <td>0.000054</td>\n",
       "    </tr>\n",
       "    <tr>\n",
       "      <th>7</th>\n",
       "      <td>9.323010e-01</td>\n",
       "      <td>0.022175</td>\n",
       "      <td>0.044501</td>\n",
       "    </tr>\n",
       "    <tr>\n",
       "      <th>8</th>\n",
       "      <td>9.491574e-05</td>\n",
       "      <td>0.032188</td>\n",
       "      <td>0.999312</td>\n",
       "    </tr>\n",
       "    <tr>\n",
       "      <th>9</th>\n",
       "      <td>2.621616e-05</td>\n",
       "      <td>0.087058</td>\n",
       "      <td>0.998774</td>\n",
       "    </tr>\n",
       "    <tr>\n",
       "      <th>10</th>\n",
       "      <td>1.995315e-03</td>\n",
       "      <td>0.227087</td>\n",
       "      <td>0.691447</td>\n",
       "    </tr>\n",
       "    <tr>\n",
       "      <th>11</th>\n",
       "      <td>1.619553e-01</td>\n",
       "      <td>0.885250</td>\n",
       "      <td>0.000136</td>\n",
       "    </tr>\n",
       "    <tr>\n",
       "      <th>12</th>\n",
       "      <td>3.437811e-07</td>\n",
       "      <td>0.030022</td>\n",
       "      <td>0.999997</td>\n",
       "    </tr>\n",
       "    <tr>\n",
       "      <th>13</th>\n",
       "      <td>7.186961e-03</td>\n",
       "      <td>0.092945</td>\n",
       "      <td>0.799750</td>\n",
       "    </tr>\n",
       "    <tr>\n",
       "      <th>14</th>\n",
       "      <td>4.211759e-05</td>\n",
       "      <td>0.873832</td>\n",
       "      <td>0.283612</td>\n",
       "    </tr>\n",
       "  </tbody>\n",
       "</table>\n",
       "</div>"
      ],
      "text/plain": [
       "         class 0   class 1   class 2\n",
       "0   9.917533e-01  0.038282  0.002437\n",
       "1   9.707724e-01  0.102444  0.001369\n",
       "2   3.201750e-03  0.955235  0.001088\n",
       "3   6.665363e-01  0.099186  0.019200\n",
       "4   2.430896e-02  0.927696  0.000384\n",
       "5   9.434035e-03  0.813011  0.005719\n",
       "6   9.934824e-01  0.253308  0.000054\n",
       "7   9.323010e-01  0.022175  0.044501\n",
       "8   9.491574e-05  0.032188  0.999312\n",
       "9   2.621616e-05  0.087058  0.998774\n",
       "10  1.995315e-03  0.227087  0.691447\n",
       "11  1.619553e-01  0.885250  0.000136\n",
       "12  3.437811e-07  0.030022  0.999997\n",
       "13  7.186961e-03  0.092945  0.799750\n",
       "14  4.211759e-05  0.873832  0.283612"
      ]
     },
     "execution_count": 118,
     "metadata": {},
     "output_type": "execute_result"
    }
   ],
   "source": [
    "y_predict_all_df = pd.DataFrame(y_predict_all, columns=['class 0', 'class 1', 'class 2'])\n",
    "y_predict_all_df"
   ]
  },
  {
   "cell_type": "code",
   "execution_count": 119,
   "id": "f665bcef-2616-4ca9-9c91-ec79bb15c40d",
   "metadata": {},
   "outputs": [
    {
     "data": {
      "text/plain": [
       "0     class 0\n",
       "1     class 0\n",
       "2     class 1\n",
       "3     class 0\n",
       "4     class 1\n",
       "5     class 1\n",
       "6     class 0\n",
       "7     class 0\n",
       "8     class 2\n",
       "9     class 2\n",
       "10    class 2\n",
       "11    class 1\n",
       "12    class 2\n",
       "13    class 2\n",
       "14    class 1\n",
       "dtype: object"
      ]
     },
     "execution_count": 119,
     "metadata": {},
     "output_type": "execute_result"
    }
   ],
   "source": [
    "y_predict_df = y_predict_all_df.idxmax(axis=1)\n",
    "y_predict_df"
   ]
  },
  {
   "cell_type": "code",
   "execution_count": 120,
   "id": "a388411e-c49f-44ff-ae0f-d35f450859dd",
   "metadata": {},
   "outputs": [
    {
     "data": {
      "text/plain": [
       "array([0, 0, 1, 0, 1, 1, 0, 0, 2, 2, 2, 1, 2, 2, 1])"
      ]
     },
     "execution_count": 120,
     "metadata": {},
     "output_type": "execute_result"
    }
   ],
   "source": [
    "y1"
   ]
  },
  {
   "cell_type": "markdown",
   "id": "80b70584-3241-44b6-b0c1-39baab9a1310",
   "metadata": {},
   "source": [
    "### Implement OvR with Function"
   ]
  },
  {
   "cell_type": "code",
   "execution_count": 121,
   "id": "fa1ebc42-19d5-4184-b5b8-977adfb4e031",
   "metadata": {},
   "outputs": [],
   "source": [
    "def ovrLogisticRegression(X, y, gradient_function = my.compute_logistic_gradient, cost_function = my.compute_logistic_cost, init_coefficient = None, \n",
    "                             init_intercept=0., iterations=10000, alpha=0.01, reguLambda = 0., \n",
    "                             printProgress=False, printProgressRate = 1000, storeHistory=False ):\n",
    "\n",
    "    m,n = X.shape\n",
    "    number_class = np.unique(y)   \n",
    "    GD_result = {}\n",
    "    \n",
    "    for c in number_class:\n",
    "        y_class = np.where(y == c,1,0)\n",
    "        print('Classifying Class:',c)\n",
    "        coef, intercept, _, _, _ = my.compute_gradient_descent(X, y_class, gradient_function = gradient_function, cost_function = cost_function, \n",
    "                                                               init_coefficient = init_coefficient, init_intercept = init_intercept, \n",
    "                                                               iterations = iterations, alpha = alpha, reguLambda = reguLambda, \n",
    "                                                               printProgress = printProgress, printProgressRate = printProgressRate, \n",
    "                                                               storeHistory = storeHistory) \n",
    "        GD_result[c] = {'coef':coef, 'intercept':intercept}\n",
    "\n",
    "    result = GD_result\n",
    "    return result"
   ]
  },
  {
   "cell_type": "code",
   "execution_count": 122,
   "id": "df608a0f-7fc1-415d-9a0b-66b732aec0d8",
   "metadata": {},
   "outputs": [
    {
     "name": "stdout",
     "output_type": "stream",
     "text": [
      "Classifying Class: 0\n",
      "iteration 9999: cost = 4.9573e-02: intercept = 3.0289e+00: weights = [-2.81041722  1.52373494]\n",
      "best w [-2.8104  1.5237]\n",
      "best b 3.0289\n",
      "Classifying Class: 1\n",
      "iteration 9999: cost = 1.1068e-01: intercept = -6.4557e+00: weights = [-0.03594626  1.08931414]\n",
      "best w [-0.0359  1.0893]\n",
      "best b -6.4557\n",
      "Classifying Class: 2\n",
      "iteration 9999: cost = 6.6933e-02: intercept = 1.0370e+00: weights = [ 2.65909907 -3.23693611]\n",
      "best w [ 2.6591 -3.2369]\n",
      "best b 1.037\n"
     ]
    }
   ],
   "source": [
    "GD_result = ovrLogisticRegression(X1, y1)"
   ]
  },
  {
   "cell_type": "code",
   "execution_count": 123,
   "id": "989ad1cf-68e5-4e3a-9604-72e8f5785e37",
   "metadata": {},
   "outputs": [
    {
     "data": {
      "text/plain": [
       "{0: {'coef': array([[-2.81041722],\n",
       "         [ 1.52373494]]),\n",
       "  'intercept': 3.028872451997885},\n",
       " 1: {'coef': array([[-0.03594626],\n",
       "         [ 1.08931414]]),\n",
       "  'intercept': -6.455724808031753},\n",
       " 2: {'coef': array([[ 2.65909907],\n",
       "         [-3.23693611]]),\n",
       "  'intercept': 1.0369802607309073}}"
      ]
     },
     "execution_count": 123,
     "metadata": {},
     "output_type": "execute_result"
    }
   ],
   "source": [
    "GD_result"
   ]
  },
  {
   "cell_type": "code",
   "execution_count": 124,
   "id": "01db8bd7-18c8-4b8c-90e9-b72b21241e41",
   "metadata": {},
   "outputs": [],
   "source": [
    "def ovrMultiClassPredict(X, GD_result, prob=True):\n",
    "\n",
    "    number_class = GD_result.keys()\n",
    "    first = True\n",
    "\n",
    "    for c in number_class: \n",
    "        #print(c)\n",
    "        proba = my.predict_logistic(X, GD_result[c]['coef'], GD_result[c]['intercept'], prob=prob)\n",
    "        if first:\n",
    "            y_predict_all = np.array(proba)\n",
    "            first = False\n",
    "            #print('shape',y_predict_all.shape)\n",
    "        else:\n",
    "            #print(c)\n",
    "            y_predict_all = np.hstack((y_predict_all, proba))\n",
    "            #print(y_predict_all.shape)\n",
    "\n",
    "    #print('shape_all',y_predict_all.shape)\n",
    "    y_predict = np.argmax(y_predict_all, axis = 1)\n",
    "    #print('yredit',y_predict.shape)\n",
    "    y_proba = np.max(y_predict_all, axis = 1)\n",
    "\n",
    "    return y_predict, y_proba"
   ]
  },
  {
   "cell_type": "code",
   "execution_count": 125,
   "id": "7b87c374-be4c-4fe4-9d5b-e836639cbbc9",
   "metadata": {},
   "outputs": [
    {
     "data": {
      "text/plain": [
       "array([0, 0, 1, 0, 1, 1, 0, 0, 2, 2, 2, 1, 2, 2, 1])"
      ]
     },
     "execution_count": 125,
     "metadata": {},
     "output_type": "execute_result"
    }
   ],
   "source": [
    "y_predict, y_proba = ovrMultiClassPredict(X1, GD_result)\n",
    "y_predict"
   ]
  },
  {
   "cell_type": "code",
   "execution_count": 126,
   "id": "d20b2e5d-025b-4d61-a499-abd3081c9a2d",
   "metadata": {},
   "outputs": [
    {
     "data": {
      "text/plain": [
       "array([0, 0, 1, 0, 1, 1, 0, 0, 2, 2, 2, 1, 2, 2, 1])"
      ]
     },
     "execution_count": 126,
     "metadata": {},
     "output_type": "execute_result"
    }
   ],
   "source": [
    "y1"
   ]
  },
  {
   "cell_type": "code",
   "execution_count": 127,
   "id": "8d27e061-7637-4de5-999a-b97e2b10e379",
   "metadata": {},
   "outputs": [
    {
     "data": {
      "text/plain": [
       "array([0.99175329, 0.97077238, 0.95523507, 0.66653629, 0.92769579,\n",
       "       0.81301127, 0.99348242, 0.93230098, 0.99931182, 0.99877419,\n",
       "       0.69144727, 0.88524964, 0.99999662, 0.79974977, 0.8738318 ])"
      ]
     },
     "execution_count": 127,
     "metadata": {},
     "output_type": "execute_result"
    }
   ],
   "source": [
    "y_proba"
   ]
  },
  {
   "cell_type": "markdown",
   "id": "44f588fc-0bdd-4a62-bc6f-80ddf4d20fe6",
   "metadata": {},
   "source": [
    "### Application of OvR with Example 1"
   ]
  },
  {
   "cell_type": "code",
   "execution_count": 128,
   "id": "b0f66dfd-d2a6-4498-807a-6cc552879d8a",
   "metadata": {},
   "outputs": [],
   "source": [
    "logisModel11 = LogisticRegression(penalty=None, solver='lbfgs', multi_class='ovr')\n",
    "logis11 = logisModel11.fit(X1, y1)"
   ]
  },
  {
   "cell_type": "code",
   "execution_count": 129,
   "id": "b6b20bb8-5a9f-4f0d-8e64-1fc28a1fbbb0",
   "metadata": {},
   "outputs": [
    {
     "data": {
      "text/plain": [
       "array([0, 0, 1, 0, 1, 1, 0, 0, 2, 2, 2, 1, 2, 2, 1])"
      ]
     },
     "execution_count": 129,
     "metadata": {},
     "output_type": "execute_result"
    }
   ],
   "source": [
    "y_hat11 = logis11.predict(X1)\n",
    "y_hat11"
   ]
  },
  {
   "cell_type": "code",
   "execution_count": 130,
   "id": "e9b1e7d7-45da-470a-bcd5-b8c2de49d599",
   "metadata": {},
   "outputs": [
    {
     "data": {
      "text/plain": [
       "1.0"
      ]
     },
     "execution_count": 130,
     "metadata": {},
     "output_type": "execute_result"
    }
   ],
   "source": [
    "logis1.score(X1,y1)"
   ]
  },
  {
   "cell_type": "code",
   "execution_count": 131,
   "id": "6531730b-1393-407b-957f-dfffab53871d",
   "metadata": {},
   "outputs": [
    {
     "name": "stdout",
     "output_type": "stream",
     "text": [
      "Classifying Class: 0\n",
      "iteration 9999: cost = 4.9573e-02: intercept = 3.0289e+00: weights = [-2.81041722  1.52373494]\n",
      "best w [-2.8104  1.5237]\n",
      "best b 3.0289\n",
      "Classifying Class: 1\n",
      "iteration 9999: cost = 1.1068e-01: intercept = -6.4557e+00: weights = [-0.03594626  1.08931414]\n",
      "best w [-0.0359  1.0893]\n",
      "best b -6.4557\n",
      "Classifying Class: 2\n",
      "iteration 9999: cost = 6.6933e-02: intercept = 1.0370e+00: weights = [ 2.65909907 -3.23693611]\n",
      "best w [ 2.6591 -3.2369]\n",
      "best b 1.037\n"
     ]
    }
   ],
   "source": [
    "GD_result11 = ovrLogisticRegression(X1, y1)"
   ]
  },
  {
   "cell_type": "code",
   "execution_count": 132,
   "id": "12ede5fa-e414-43c6-a374-fbb2cc406ead",
   "metadata": {},
   "outputs": [
    {
     "data": {
      "text/plain": [
       "array([0, 0, 1, 0, 1, 1, 0, 0, 2, 2, 2, 1, 2, 2, 1])"
      ]
     },
     "execution_count": 132,
     "metadata": {},
     "output_type": "execute_result"
    }
   ],
   "source": [
    "y_predict11, y_proba11 = ovrMultiClassPredict(X1, GD_result11)\n",
    "y_predict11"
   ]
  },
  {
   "cell_type": "code",
   "execution_count": 133,
   "id": "3a06721c-06dc-467d-bc6d-acead90b58ac",
   "metadata": {},
   "outputs": [
    {
     "name": "stdout",
     "output_type": "stream",
     "text": [
      "Train Accuracy: 100.000000\n",
      "Compare Prediction with SciKit Learn: 100.000000\n"
     ]
    }
   ],
   "source": [
    "print('Train Accuracy: %f'%(np.mean(y_predict11.reshape(-1,1) == y1.reshape(-1,1)) * 100))\n",
    "print('Compare Prediction with SciKit Learn: %f'%(np.mean(y_predict11.reshape(-1,1) == y_hat11.reshape(-1,1)) * 100))"
   ]
  },
  {
   "cell_type": "code",
   "execution_count": 134,
   "id": "41e1c364-9012-4b07-8e52-122052ee56c0",
   "metadata": {},
   "outputs": [],
   "source": [
    "x_min, x_max = X1[:, 0].min() - 1, X1[:, 0].max() + 1\n",
    "y_min, y_max = X1[:, 1].min() - 1, X1[:, 1].max() + 1\n",
    "x1grid = np.arange(x_min, x_max, 0.01)\n",
    "x2grid = np.arange(y_min, y_max, 0.01)\n",
    "xx, yy = np.meshgrid(x1grid,x2grid)\n",
    "#print(xx.shape)\n",
    "#print(yy.shape)\n",
    "#print(np.c_[xx.ravel(), yy.ravel()].shape)\n",
    "ZG11, _ = ovrMultiClassPredict(np.c_[xx.ravel(), yy.ravel()], GD_result11)\n",
    "#print(ZG11.shape)\n",
    "#print(ZG11[:5])\n",
    "#print(Z4[-10:])\n",
    "ZG11 = ZG11.reshape(xx.shape)\n",
    "#print(ZG11.shape)"
   ]
  },
  {
   "cell_type": "code",
   "execution_count": 135,
   "id": "44652b3c-8804-45da-bfd8-601f7a51bcc6",
   "metadata": {},
   "outputs": [
    {
     "data": {
      "image/png": "[encoded data removed]",
      "text/plain": [
       "<Figure size 800x500 with 1 Axes>"
      ]
     },
     "metadata": {},
     "output_type": "display_data"
    }
   ],
   "source": [
    "plt.close('all')\n",
    "fig, (ax1) = plt.subplots(1, 1, figsize=(8, 5))\n",
    "ax1.contourf(xx, yy, ZG11, alpha=0.3, cmap=plt.cm.RdYlBu)\n",
    "plt.scatter(X1[:,0], X1[:,1], marker=\"o\", c=y1, s=25, edgecolor='k', cmap=plt.cm.RdYlBu)\n",
    "ax1.set_title('Classfication Data')\n",
    "ax1.set_xlabel('x0')\n",
    "ax1.set_ylabel('x1')\n",
    "plt.show()"
   ]
  },
  {
   "cell_type": "markdown",
   "id": "0e6dbd74-7427-4d7e-9b04-5798ea953dbd",
   "metadata": {},
   "source": [
    "### Application of OvR with Example 2"
   ]
  },
  {
   "cell_type": "code",
   "execution_count": 136,
   "id": "990fc08d-cb96-4b62-890f-d4ad66a96c59",
   "metadata": {},
   "outputs": [],
   "source": [
    "logisModel12 = OneVsRestClassifier(LogisticRegression(penalty=None, solver='newton-cg',max_iter=100000))\n",
    "logis12 = logisModel12.fit(X2, y2)"
   ]
  },
  {
   "cell_type": "code",
   "execution_count": 137,
   "id": "2149feac-17d9-46d4-8ac2-44ead2039461",
   "metadata": {},
   "outputs": [
    {
     "data": {
      "text/plain": [
       "1.0"
      ]
     },
     "execution_count": 137,
     "metadata": {},
     "output_type": "execute_result"
    }
   ],
   "source": [
    "logis12.score(X2, y2)"
   ]
  },
  {
   "cell_type": "code",
   "execution_count": 138,
   "id": "546edcd2-d8f6-4663-8069-62d370482394",
   "metadata": {},
   "outputs": [
    {
     "data": {
      "text/plain": [
       "array([2, 1, 2, 1, 2, 1, 2, 0, 0, 1, 0, 0, 0, 1, 0, 0, 1, 2, 2, 1, 1, 0,\n",
       "       1, 2, 2, 2, 0, 1, 0, 2])"
      ]
     },
     "execution_count": 138,
     "metadata": {},
     "output_type": "execute_result"
    }
   ],
   "source": [
    "y_hat12 = logis12.predict(X2)\n",
    "y_hat12"
   ]
  },
  {
   "cell_type": "code",
   "execution_count": 139,
   "id": "d933cc24-f986-40bc-9bb3-38ca070fac62",
   "metadata": {},
   "outputs": [
    {
     "name": "stdout",
     "output_type": "stream",
     "text": [
      "Classifying Class: 0\n",
      "iteration 49999: cost = 1.8835e-02: intercept = -3.6184e+00: weights = [-7.45365068  0.48793454]\n",
      "best w [-7.4537  0.4879]\n",
      "best b -3.6184\n",
      "Classifying Class: 1\n",
      "iteration 49999: cost = 2.5828e-01: intercept = -2.8816e+00: weights = [2.55699387 2.13615795]\n",
      "best w [2.557  2.1362]\n",
      "best b -2.8816\n",
      "Classifying Class: 2\n",
      "iteration 49999: cost = 3.5136e-02: intercept = -3.8337e+00: weights = [ 1.37195718 -6.48136216]\n",
      "best w [ 1.372  -6.4814]\n",
      "best b -3.8337\n"
     ]
    }
   ],
   "source": [
    "GD_result12 = ovrLogisticRegression(X2, y2, iterations=50000)\n",
    "y_predict12, y_proba12 = ovrMultiClassPredict(X2, GD_result12)"
   ]
  },
  {
   "cell_type": "code",
   "execution_count": 140,
   "id": "2ab8b7ab-ac05-4562-806e-e13bd07e520c",
   "metadata": {},
   "outputs": [
    {
     "name": "stdout",
     "output_type": "stream",
     "text": [
      "Train Accuracy: 100.000000\n",
      "Compare Prediction with SciKit Learn: 100.000000\n"
     ]
    }
   ],
   "source": [
    "print('Train Accuracy: %f'%(np.mean(y_predict12.reshape(-1,1) == y2.reshape(-1,1)) * 100))\n",
    "print('Compare Prediction with SciKit Learn: %f'%(np.mean(y_predict12.reshape(-1,1) == y_hat12.reshape(-1,1)) * 100))"
   ]
  },
  {
   "cell_type": "code",
   "execution_count": 141,
   "id": "b8ae0b5a-cffe-458b-b746-05d04f2da08a",
   "metadata": {},
   "outputs": [],
   "source": [
    "x_min, x_max = X2[:, 0].min() - 1, X2[:, 0].max() + 1\n",
    "y_min, y_max = X2[:, 1].min() - 1, X2[:, 1].max() + 1\n",
    "x1grid = np.arange(x_min, x_max, 0.01)\n",
    "x2grid = np.arange(y_min, y_max, 0.01)\n",
    "xx, yy = np.meshgrid(x1grid,x2grid)\n",
    "#print(xx.shape)\n",
    "#print(yy.shape)\n",
    "#print(np.c_[xx.ravel(), yy.ravel()].shape)\n",
    "ZG12, _ = ovrMultiClassPredict(np.c_[xx.ravel(), yy.ravel()], GD_result12)\n",
    "#print(ZG11.shape)\n",
    "#print(ZG11[:5])\n",
    "#print(Z4[-10:])\n",
    "ZG12 = ZG12.reshape(xx.shape)\n",
    "#print(ZG11.shape)"
   ]
  },
  {
   "cell_type": "code",
   "execution_count": 142,
   "id": "02a115b9-12ee-424c-be53-a8c8b96b8c0c",
   "metadata": {},
   "outputs": [
    {
     "data": {
      "image/png": "[encoded data removed]",
      "text/plain": [
       "<Figure size 800x500 with 1 Axes>"
      ]
     },
     "metadata": {},
     "output_type": "display_data"
    }
   ],
   "source": [
    "plt.close('all')\n",
    "fig, (ax1) = plt.subplots(1, 1, figsize=(8, 5))\n",
    "ax1.contourf(xx, yy, ZG12, alpha=0.3, cmap=plt.cm.RdYlBu)\n",
    "plt.scatter(X2[:,0], X2[:,1], marker=\"o\", c=y2, s=25, edgecolor='k', cmap=plt.cm.RdYlBu)\n",
    "ax1.set_title('Classfication Data')\n",
    "ax1.set_xlabel('x0')\n",
    "ax1.set_ylabel('x1')\n",
    "plt.show()"
   ]
  },
  {
   "cell_type": "markdown",
   "id": "7535ec69-587c-423c-83ec-ad8a041a00c7",
   "metadata": {},
   "source": [
    "### Application of OvR with Example 3 (1 Degree)"
   ]
  },
  {
   "cell_type": "code",
   "execution_count": 143,
   "id": "ff0578a5-0ade-4f37-b4aa-c2bb00069897",
   "metadata": {},
   "outputs": [],
   "source": [
    "logisModel13 = OneVsRestClassifier(LogisticRegression(penalty=None, solver='lbfgs',max_iter=30000))\n",
    "logis13 = logisModel13.fit(X3, y3)"
   ]
  },
  {
   "cell_type": "code",
   "execution_count": 144,
   "id": "c028a2a1-8335-4103-a704-61ed5a84a225",
   "metadata": {},
   "outputs": [
    {
     "data": {
      "text/plain": [
       "0.86"
      ]
     },
     "execution_count": 144,
     "metadata": {},
     "output_type": "execute_result"
    }
   ],
   "source": [
    "logis13.score(X3, y3)"
   ]
  },
  {
   "cell_type": "code",
   "execution_count": 145,
   "id": "6a562448-854c-4fa3-bb75-57a3c12b4850",
   "metadata": {},
   "outputs": [],
   "source": [
    "y_hat13 = logis13.predict(X3)"
   ]
  },
  {
   "cell_type": "code",
   "execution_count": 146,
   "id": "dbe40616-b73c-4e68-b666-78fe99610d68",
   "metadata": {},
   "outputs": [
    {
     "name": "stdout",
     "output_type": "stream",
     "text": [
      "Classifying Class: 0\n",
      "iteration 19999: cost = 2.3959e-01: intercept = -3.2501e+00: weights = [-2.82946634 -1.08344007]\n",
      "best w [-2.8295 -1.0834]\n",
      "best b -3.2501\n",
      "Classifying Class: 1\n",
      "iteration 19999: cost = 3.4575e-01: intercept = -2.8562e+00: weights = [ 1.29322877 -1.92522193]\n",
      "best w [ 1.2932 -1.9252]\n",
      "best b -2.8562\n",
      "Classifying Class: 2\n",
      "iteration 19999: cost = 4.2341e-01: intercept = -1.2227e+00: weights = [-0.59993849  0.94649863]\n",
      "best w [-0.5999  0.9465]\n",
      "best b -1.2227\n",
      "Classifying Class: 3\n",
      "iteration 19999: cost = 1.9547e-01: intercept = -2.3447e+00: weights = [2.42790471 2.08712202]\n",
      "best w [2.4279 2.0871]\n",
      "best b -2.3447\n"
     ]
    }
   ],
   "source": [
    "GD_result13 = ovrLogisticRegression(X3, y3, iterations=20000)\n",
    "y_predict13, y_proba13 = ovrMultiClassPredict(X3, GD_result13)"
   ]
  },
  {
   "cell_type": "code",
   "execution_count": 147,
   "id": "f245c25c-4456-44a4-a171-05332f61c58c",
   "metadata": {},
   "outputs": [
    {
     "name": "stdout",
     "output_type": "stream",
     "text": [
      "Train Accuracy: 86.000000\n",
      "Compare Prediction with SciKit Learn: 100.000000\n"
     ]
    }
   ],
   "source": [
    "print('Train Accuracy: %f'%(np.mean(y_predict13.reshape(-1,1) == y3.reshape(-1,1)) * 100))\n",
    "print('Compare Prediction with SciKit Learn: %f'%(np.mean(y_predict13.reshape(-1,1) == y_hat13.reshape(-1,1)) * 100))"
   ]
  },
  {
   "cell_type": "code",
   "execution_count": 148,
   "id": "7d6b17c8-20cf-4e55-abd5-01d724561daf",
   "metadata": {},
   "outputs": [
    {
     "data": {
      "text/plain": [
       "{0: {'coef': array([[-2.82946634],\n",
       "         [-1.08344007]]),\n",
       "  'intercept': -3.2500507718956992},\n",
       " 1: {'coef': array([[ 1.29322877],\n",
       "         [-1.92522193]]),\n",
       "  'intercept': -2.8562045716565425},\n",
       " 2: {'coef': array([[-0.59993849],\n",
       "         [ 0.94649863]]),\n",
       "  'intercept': -1.2227442389825458},\n",
       " 3: {'coef': array([[2.42790471],\n",
       "         [2.08712202]]),\n",
       "  'intercept': -2.3446515256166087}}"
      ]
     },
     "execution_count": 148,
     "metadata": {},
     "output_type": "execute_result"
    }
   ],
   "source": [
    "GD_result13"
   ]
  },
  {
   "cell_type": "code",
   "execution_count": 149,
   "id": "620b025d-931c-48ea-ab49-822d159d80b9",
   "metadata": {},
   "outputs": [],
   "source": [
    "x_min, x_max = X3[:, 0].min() - 1, X3[:, 0].max() + 1\n",
    "y_min, y_max = X3[:, 1].min() - 1, X3[:, 1].max() + 1\n",
    "x1grid = np.arange(x_min, x_max, 0.01)\n",
    "x2grid = np.arange(y_min, y_max, 0.01)\n",
    "xx, yy = np.meshgrid(x1grid,x2grid)\n",
    "#print(xx.shape)\n",
    "#print(yy.shape)\n",
    "#print(np.c_[xx.ravel(), yy.ravel()].shape)\n",
    "ZG13, _ = ovrMultiClassPredict(np.c_[xx.ravel(), yy.ravel()], GD_result13)\n",
    "#print(ZG11.shape)\n",
    "#print(ZG11[:5])\n",
    "#print(Z4[-10:])\n",
    "ZG13 = ZG13.reshape(xx.shape)\n",
    "#print(ZG11.shape)"
   ]
  },
  {
   "cell_type": "code",
   "execution_count": 150,
   "id": "9813c149-d505-46f3-b135-8bb99485d296",
   "metadata": {},
   "outputs": [
    {
     "data": {
      "image/png": "[encoded data removed]",
      "text/plain": [
       "<Figure size 800x500 with 1 Axes>"
      ]
     },
     "metadata": {},
     "output_type": "display_data"
    }
   ],
   "source": [
    "plt.close('all')\n",
    "fig, (ax1) = plt.subplots(1, 1, figsize=(8, 5))\n",
    "ax1.contourf(xx, yy, ZG13, alpha=0.3, cmap=plt.cm.RdYlBu)\n",
    "plt.scatter(X3[:,0], X3[:,1], marker=\"o\", c=y3, s=25, edgecolor='k', cmap=plt.cm.RdYlBu)\n",
    "ax1.set_title('Classfication Data')\n",
    "ax1.set_xlabel('x0')\n",
    "ax1.set_ylabel('x1')\n",
    "plt.show()"
   ]
  },
  {
   "cell_type": "markdown",
   "id": "bf90d884-1bff-4353-a013-201487224dce",
   "metadata": {},
   "source": [
    "### Application of OvR with Example 3 (3 Degree with Regularization)"
   ]
  },
  {
   "cell_type": "code",
   "execution_count": 151,
   "id": "05d97e1e-644d-4423-a2e6-55539582857e",
   "metadata": {},
   "outputs": [
    {
     "data": {
      "text/html": [
       "<style>#sk-container-id-5 {color: black;background-color: white;}#sk-container-id-5 pre{padding: 0;}#sk-container-id-5 div.sk-toggleable {background-color: white;}#sk-container-id-5 label.sk-toggleable__label {cursor: pointer;display: block;width: 100%;margin-bottom: 0;padding: 0.3em;box-sizing: border-box;text-align: center;}#sk-container-id-5 label.sk-toggleable__label-arrow:before {content: \"▸\";float: left;margin-right: 0.25em;color: #696969;}#sk-container-id-5 label.sk-toggleable__label-arrow:hover:before {color: black;}#sk-container-id-5 div.sk-estimator:hover label.sk-toggleable__label-arrow:before {color: black;}#sk-container-id-5 div.sk-toggleable__content {max-height: 0;max-width: 0;overflow: hidden;text-align: left;background-color: #f0f8ff;}#sk-container-id-5 div.sk-toggleable__content pre {margin: 0.2em;color: black;border-radius: 0.25em;background-color: #f0f8ff;}#sk-container-id-5 input.sk-toggleable__control:checked~div.sk-toggleable__content {max-height: 200px;max-width: 100%;overflow: auto;}#sk-container-id-5 input.sk-toggleable__control:checked~label.sk-toggleable__label-arrow:before {content: \"▾\";}#sk-container-id-5 div.sk-estimator input.sk-toggleable__control:checked~label.sk-toggleable__label {background-color: #d4ebff;}#sk-container-id-5 div.sk-label input.sk-toggleable__control:checked~label.sk-toggleable__label {background-color: #d4ebff;}#sk-container-id-5 input.sk-hidden--visually {border: 0;clip: rect(1px 1px 1px 1px);clip: rect(1px, 1px, 1px, 1px);height: 1px;margin: -1px;overflow: hidden;padding: 0;position: absolute;width: 1px;}#sk-container-id-5 div.sk-estimator {font-family: monospace;background-color: #f0f8ff;border: 1px dotted black;border-radius: 0.25em;box-sizing: border-box;margin-bottom: 0.5em;}#sk-container-id-5 div.sk-estimator:hover {background-color: #d4ebff;}#sk-container-id-5 div.sk-parallel-item::after {content: \"\";width: 100%;border-bottom: 1px solid gray;flex-grow: 1;}#sk-container-id-5 div.sk-label:hover label.sk-toggleable__label {background-color: #d4ebff;}#sk-container-id-5 div.sk-serial::before {content: \"\";position: absolute;border-left: 1px solid gray;box-sizing: border-box;top: 0;bottom: 0;left: 50%;z-index: 0;}#sk-container-id-5 div.sk-serial {display: flex;flex-direction: column;align-items: center;background-color: white;padding-right: 0.2em;padding-left: 0.2em;position: relative;}#sk-container-id-5 div.sk-item {position: relative;z-index: 1;}#sk-container-id-5 div.sk-parallel {display: flex;align-items: stretch;justify-content: center;background-color: white;position: relative;}#sk-container-id-5 div.sk-item::before, #sk-container-id-5 div.sk-parallel-item::before {content: \"\";position: absolute;border-left: 1px solid gray;box-sizing: border-box;top: 0;bottom: 0;left: 50%;z-index: -1;}#sk-container-id-5 div.sk-parallel-item {display: flex;flex-direction: column;z-index: 1;position: relative;background-color: white;}#sk-container-id-5 div.sk-parallel-item:first-child::after {align-self: flex-end;width: 50%;}#sk-container-id-5 div.sk-parallel-item:last-child::after {align-self: flex-start;width: 50%;}#sk-container-id-5 div.sk-parallel-item:only-child::after {width: 0;}#sk-container-id-5 div.sk-dashed-wrapped {border: 1px dashed gray;margin: 0 0.4em 0.5em 0.4em;box-sizing: border-box;padding-bottom: 0.4em;background-color: white;}#sk-container-id-5 div.sk-label label {font-family: monospace;font-weight: bold;display: inline-block;line-height: 1.2em;}#sk-container-id-5 div.sk-label-container {text-align: center;}#sk-container-id-5 div.sk-container {/* jupyter's `normalize.less` sets `[hidden] { display: none; }` but bootstrap.min.css set `[hidden] { display: none !important; }` so we also need the `!important` here to be able to override the default hidden behavior on the sphinx rendered scikit-learn.org. See: https://github.com/scikit-learn/scikit-learn/issues/21755 */display: inline-block !important;position: relative;}#sk-container-id-5 div.sk-text-repr-fallback {display: none;}</style><div id=\"sk-container-id-5\" class=\"sk-top-container\"><div class=\"sk-text-repr-fallback\"><pre>Pipeline(steps=[(&#x27;poly&#x27;, PolynomialFeatures(degree=5, include_bias=False)),\n",
       "                (&#x27;scaler&#x27;, StandardScaler()),\n",
       "                (&#x27;model&#x27;,\n",
       "                 OneVsRestClassifier(estimator=LogisticRegression(C=10,\n",
       "                                                                  max_iter=10000)))])</pre><b>In a Jupyter environment, please rerun this cell to show the HTML representation or trust the notebook. <br />On GitHub, the HTML representation is unable to render, please try loading this page with nbviewer.org.</b></div><div class=\"sk-container\" hidden><div class=\"sk-item sk-dashed-wrapped\"><div class=\"sk-label-container\"><div class=\"sk-label sk-toggleable\"><input class=\"sk-toggleable__control sk-hidden--visually\" id=\"sk-estimator-id-25\" type=\"checkbox\" ><label for=\"sk-estimator-id-25\" class=\"sk-toggleable__label sk-toggleable__label-arrow\">Pipeline</label><div class=\"sk-toggleable__content\"><pre>Pipeline(steps=[(&#x27;poly&#x27;, PolynomialFeatures(degree=5, include_bias=False)),\n",
       "                (&#x27;scaler&#x27;, StandardScaler()),\n",
       "                (&#x27;model&#x27;,\n",
       "                 OneVsRestClassifier(estimator=LogisticRegression(C=10,\n",
       "                                                                  max_iter=10000)))])</pre></div></div></div><div class=\"sk-serial\"><div class=\"sk-item\"><div class=\"sk-estimator sk-toggleable\"><input class=\"sk-toggleable__control sk-hidden--visually\" id=\"sk-estimator-id-26\" type=\"checkbox\" ><label for=\"sk-estimator-id-26\" class=\"sk-toggleable__label sk-toggleable__label-arrow\">PolynomialFeatures</label><div class=\"sk-toggleable__content\"><pre>PolynomialFeatures(degree=5, include_bias=False)</pre></div></div></div><div class=\"sk-item\"><div class=\"sk-estimator sk-toggleable\"><input class=\"sk-toggleable__control sk-hidden--visually\" id=\"sk-estimator-id-27\" type=\"checkbox\" ><label for=\"sk-estimator-id-27\" class=\"sk-toggleable__label sk-toggleable__label-arrow\">StandardScaler</label><div class=\"sk-toggleable__content\"><pre>StandardScaler()</pre></div></div></div><div class=\"sk-item sk-dashed-wrapped\"><div class=\"sk-label-container\"><div class=\"sk-label sk-toggleable\"><input class=\"sk-toggleable__control sk-hidden--visually\" id=\"sk-estimator-id-28\" type=\"checkbox\" ><label for=\"sk-estimator-id-28\" class=\"sk-toggleable__label sk-toggleable__label-arrow\">model: OneVsRestClassifier</label><div class=\"sk-toggleable__content\"><pre>OneVsRestClassifier(estimator=LogisticRegression(C=10, max_iter=10000))</pre></div></div></div><div class=\"sk-parallel\"><div class=\"sk-parallel-item\"><div class=\"sk-item\"><div class=\"sk-label-container\"><div class=\"sk-label sk-toggleable\"><input class=\"sk-toggleable__control sk-hidden--visually\" id=\"sk-estimator-id-29\" type=\"checkbox\" ><label for=\"sk-estimator-id-29\" class=\"sk-toggleable__label sk-toggleable__label-arrow\">estimator: LogisticRegression</label><div class=\"sk-toggleable__content\"><pre>LogisticRegression(C=10, max_iter=10000)</pre></div></div></div><div class=\"sk-serial\"><div class=\"sk-item\"><div class=\"sk-estimator sk-toggleable\"><input class=\"sk-toggleable__control sk-hidden--visually\" id=\"sk-estimator-id-30\" type=\"checkbox\" ><label for=\"sk-estimator-id-30\" class=\"sk-toggleable__label sk-toggleable__label-arrow\">LogisticRegression</label><div class=\"sk-toggleable__content\"><pre>LogisticRegression(C=10, max_iter=10000)</pre></div></div></div></div></div></div></div></div></div></div></div></div>"
      ],
      "text/plain": [
       "Pipeline(steps=[('poly', PolynomialFeatures(degree=5, include_bias=False)),\n",
       "                ('scaler', StandardScaler()),\n",
       "                ('model',\n",
       "                 OneVsRestClassifier(estimator=LogisticRegression(C=10,\n",
       "                                                                  max_iter=10000)))])"
      ]
     },
     "execution_count": 151,
     "metadata": {},
     "output_type": "execute_result"
    }
   ],
   "source": [
    "degree = 5\n",
    "stepsLogisticsRegression = [\n",
    "    ('poly', PolynomialFeatures(degree=degree, include_bias=False)),\n",
    "    ('scaler', StandardScaler()),\n",
    "    ('model', OneVsRestClassifier(LogisticRegression(C=10, solver='lbfgs',max_iter=10000)))\n",
    "]\n",
    "\n",
    "losPipe14 = Pipeline(stepsLogisticsRegression)\n",
    "\n",
    "losPipe14.fit(X3, y3)"
   ]
  },
  {
   "cell_type": "code",
   "execution_count": 152,
   "id": "90989a1a-d29b-45e3-ab63-bd03f51bec4a",
   "metadata": {},
   "outputs": [
    {
     "data": {
      "text/plain": [
       "0.9"
      ]
     },
     "execution_count": 152,
     "metadata": {},
     "output_type": "execute_result"
    }
   ],
   "source": [
    "losPipe14.score(X3, y3)"
   ]
  },
  {
   "cell_type": "code",
   "execution_count": 153,
   "id": "a869b9ad-c64b-4302-a7e2-db1c22fade0e",
   "metadata": {},
   "outputs": [],
   "source": [
    "y_hat14 = losPipe14.predict(X3)"
   ]
  },
  {
   "cell_type": "code",
   "execution_count": 154,
   "id": "2df40d47-fd96-44a8-a22e-c01393e56238",
   "metadata": {},
   "outputs": [],
   "source": [
    "x_min, x_max = X3[:,0].min() - 1, X3[:,0].max() + 1\n",
    "y_min, y_max = X3[:,1].min() - 1, X3[:,1].max() + 1\n",
    "x1grid = np.arange(x_min, x_max, 0.01)\n",
    "x2grid = np.arange(y_min, y_max, 0.01)\n",
    "xx, yy = np.meshgrid(x1grid,x2grid)\n",
    "Z14 = losPipe14.predict(np.c_[xx.ravel(), yy.ravel()])\n",
    "Z14 = Z14.reshape(xx.shape)"
   ]
  },
  {
   "cell_type": "code",
   "execution_count": 155,
   "id": "47ae4fd5-050e-43a5-a4e5-fc3aee627b40",
   "metadata": {},
   "outputs": [
    {
     "data": {
      "image/png": "[encoded data removed]",
      "text/plain": [
       "<Figure size 800x500 with 1 Axes>"
      ]
     },
     "metadata": {},
     "output_type": "display_data"
    }
   ],
   "source": [
    "plt.close('all')\n",
    "fig, (ax1) = plt.subplots(1, 1, figsize=(8, 5))\n",
    "ax1.contourf(xx, yy, Z14, alpha=0.4, cmap=plt.cm.RdYlBu)\n",
    "plt.scatter(X3[:,0], X3[:,1], marker=\"o\", c=y3, s=25, edgecolor='k', cmap=plt.cm.RdYlBu)\n",
    "ax1.set_title('Classfication Data')\n",
    "ax1.set_xlabel('x0')\n",
    "ax1.set_ylabel('x1')\n",
    "plt.show()"
   ]
  },
  {
   "cell_type": "code",
   "execution_count": 156,
   "id": "b4dd9668-ce88-413b-b950-fbc5702a35d6",
   "metadata": {},
   "outputs": [],
   "source": [
    "degree = 5\n",
    "polynomial_features14 = PolynomialFeatures(degree=degree, include_bias=False)\n",
    "X3_poly14 = polynomial_features14.fit_transform(X3)\n",
    "std_scaler14 = StandardScaler()\n",
    "X3_norm14 = std_scaler14.fit_transform(X3_poly14)"
   ]
  },
  {
   "cell_type": "code",
   "execution_count": 157,
   "id": "96ddda06-254f-4120-9f3b-827c2738dc01",
   "metadata": {
    "scrolled": true
   },
   "outputs": [
    {
     "name": "stdout",
     "output_type": "stream",
     "text": [
      "Classifying Class: 0\n",
      "iteration 19999: cost = 1.6293e-01: intercept = -5.3498e-01: weights = [-1.82364234 -0.3636045   1.84349637  1.00391412 -2.02544789 -1.86398908\n",
      " -1.27944057 -0.89115878 -0.02722787 -0.10782925  0.51495954  0.10530975\n",
      "  0.64718645 -0.36291531 -0.63409736 -0.40033453 -0.23383547 -0.42391708\n",
      " -0.11427144 -0.19403518]\n",
      "best w [-1.8236 -0.3636  1.8435  1.0039 -2.0254 -1.864  -1.2794 -0.8912 -0.0272\n",
      " -0.1078  0.515   0.1053  0.6472 -0.3629 -0.6341 -0.4003 -0.2338 -0.4239\n",
      " -0.1143 -0.194 ]\n",
      "best b -0.535\n",
      "Classifying Class: 1\n",
      "iteration 19999: cost = 2.0527e-01: intercept = -3.5681e+00: weights = [ 1.77546614 -3.26832899 -1.13260144 -1.33783824  0.33179166  0.36334591\n",
      "  0.56595584 -1.09262702 -0.13051714 -0.03814697 -0.75757666 -2.77068701\n",
      "  0.61662222 -0.15991727  0.55096309 -0.20594095 -1.22115107  1.71100948\n",
      " -0.13803369  0.16764869]\n",
      "best w [ 1.7755 -3.2683 -1.1326 -1.3378  0.3318  0.3633  0.566  -1.0926 -0.1305\n",
      " -0.0381 -0.7576 -2.7707  0.6166 -0.1599  0.551  -0.2059 -1.2212  1.711\n",
      " -0.138   0.1676]\n",
      "best b -3.5681\n",
      "Classifying Class: 2\n",
      "iteration 19999: cost = 2.4057e-01: intercept = -5.0816e+00: weights = [-1.85879937 -0.37291317 -3.57977135 -2.71158818 -1.66788681  0.45619814\n",
      "  0.82881691 -0.45390812  1.39966562 -0.53026795 -0.49460453  0.30890098\n",
      " -0.62906554 -0.54464607  0.08245116  0.32026531 -0.38657153  0.30345639\n",
      " -0.32223918  0.60062883]\n",
      "best w [-1.8588 -0.3729 -3.5798 -2.7116 -1.6679  0.4562  0.8288 -0.4539  1.3997\n",
      " -0.5303 -0.4946  0.3089 -0.6291 -0.5446  0.0825  0.3203 -0.3866  0.3035\n",
      " -0.3222  0.6006]\n",
      "best b -5.0816\n",
      "Classifying Class: 3\n",
      "iteration 19999: cost = 1.1182e-01: intercept = -3.2390e+00: weights = [ 3.3948985   3.49005102  0.14670365  2.0449597   0.62903688  0.13189612\n",
      " -0.07805318  2.02340702 -0.45211704 -0.82215465  0.36127111  1.51115876\n",
      " -0.84615525  0.35064683 -0.89428206  0.19908229  1.552994   -1.11774936\n",
      "  0.67374745 -0.18104134]\n",
      "best w [ 3.3949  3.4901  0.1467  2.045   0.629   0.1319 -0.0781  2.0234 -0.4521\n",
      " -0.8222  0.3613  1.5112 -0.8462  0.3506 -0.8943  0.1991  1.553  -1.1177\n",
      "  0.6737 -0.181 ]\n",
      "best b -3.239\n"
     ]
    }
   ],
   "source": [
    "GD_result14 = ovrLogisticRegression(X3_norm14, y3, alpha = 0.1, iterations=20000, reguLambda=0.1)\n",
    "\n",
    "y_predict14, y_proba14 = ovrMultiClassPredict(X3_norm14, GD_result14)"
   ]
  },
  {
   "cell_type": "code",
   "execution_count": 158,
   "id": "f4239e69-3a7c-44a4-9241-8dff16fee7c0",
   "metadata": {},
   "outputs": [
    {
     "name": "stdout",
     "output_type": "stream",
     "text": [
      "Train Accuracy: 90.000000\n",
      "Compare Prediction with SciKit Learn: 100.000000\n"
     ]
    }
   ],
   "source": [
    "print('Train Accuracy: %f'%(np.mean(y_predict14.reshape(-1,1) == y3.reshape(-1,1)) * 100))\n",
    "print('Compare Prediction with SciKit Learn: %f'%(np.mean(y_predict14.reshape(-1,1) == y_hat14.reshape(-1,1)) * 100))"
   ]
  },
  {
   "cell_type": "code",
   "execution_count": 159,
   "id": "738c5360-d5e9-4fb6-b041-b0e65f6aa52a",
   "metadata": {},
   "outputs": [],
   "source": [
    "x_min, x_max = X3[:, 0].min() - 1, X3[:, 0].max() + 1\n",
    "y_min, y_max = X3[:, 1].min() - 1, X3[:, 1].max() + 1\n",
    "x1grid = np.arange(x_min, x_max, 0.01)\n",
    "x2grid = np.arange(y_min, y_max, 0.01)\n",
    "xx, yy = np.meshgrid(x1grid,x2grid)\n",
    "zz = np.c_[xx.ravel(), yy.ravel()]\n",
    "zz_poly = polynomial_features14.transform(zz)\n",
    "zz_norm = std_scaler14.transform(zz_poly)\n",
    "ZG14, _ = ovrMultiClassPredict(zz_norm, GD_result14)\n",
    "ZG14 = ZG14.reshape(xx.shape)"
   ]
  },
  {
   "cell_type": "code",
   "execution_count": 160,
   "id": "dd6a7ef9-71df-4aaf-970e-3f140c78f217",
   "metadata": {},
   "outputs": [
    {
     "data": {
      "image/png": "[encoded data removed]",
      "text/plain": [
       "<Figure size 800x500 with 1 Axes>"
      ]
     },
     "metadata": {},
     "output_type": "display_data"
    }
   ],
   "source": [
    "plt.close('all')\n",
    "fig, (ax1) = plt.subplots(1, 1, figsize=(8, 5))\n",
    "ax1.contourf(xx, yy, ZG14, alpha=0.3, cmap=plt.cm.RdYlBu)\n",
    "plt.scatter(X3[:,0], X3[:,1], marker=\"o\", c=y3, s=25, edgecolor='k', cmap=plt.cm.RdYlBu)\n",
    "ax1.set_title('Classfication Data')\n",
    "ax1.set_xlabel('x0')\n",
    "ax1.set_ylabel('x1')\n",
    "plt.show()"
   ]
  },
  {
   "cell_type": "markdown",
   "id": "c418429a-7198-4ac9-97c8-51139e3e0d5b",
   "metadata": {},
   "source": [
    "### Application of OvR on Example 4 to Show Underfitting & Overfitting"
   ]
  },
  {
   "cell_type": "code",
   "execution_count": 161,
   "id": "67ff0364-44ad-42f4-b28d-a33393c8c9b4",
   "metadata": {},
   "outputs": [],
   "source": [
    "X4, y4 = make_classification(n_samples=50, n_features = 2, n_informative = 2, n_redundant=0, n_repeated=0, \n",
    "                             n_classes=4, n_clusters_per_class = 1, random_state=3388)"
   ]
  },
  {
   "cell_type": "code",
   "execution_count": 162,
   "id": "33162b35-4132-4d50-a6eb-794378c0e4c8",
   "metadata": {},
   "outputs": [
    {
     "data": {
      "image/png": "[encoded data removed]",
      "text/plain": [
       "<Figure size 800x500 with 1 Axes>"
      ]
     },
     "metadata": {},
     "output_type": "display_data"
    }
   ],
   "source": [
    "plt.close('all')\n",
    "fig, (ax1) = plt.subplots(1, 1, figsize=(8, 5))\n",
    "ax1.scatter(X4[:, 0], X4[:, 1], c=y4, edgecolors='k', cmap=plt.cm.RdYlBu)\n",
    "ax1.set_title('Classfication Data')\n",
    "ax1.set_xlabel('Feature 1')\n",
    "ax1.set_ylabel('Feature 2')\n",
    "plt.show()"
   ]
  },
  {
   "cell_type": "markdown",
   "id": "9a1dffe6-a627-417c-9fa3-2a35b3df3552",
   "metadata": {},
   "source": [
    "### Underfitting"
   ]
  },
  {
   "cell_type": "code",
   "execution_count": 163,
   "id": "17068e52-8588-4fd7-b8ef-8ce4e8ec38d1",
   "metadata": {},
   "outputs": [],
   "source": [
    "degree = 1\n",
    "polynomial_features15 = PolynomialFeatures(degree=degree, include_bias=False)\n",
    "X4_poly15 = polynomial_features15.fit_transform(X4)\n",
    "std_scaler15 = StandardScaler()\n",
    "X4_norm15 = std_scaler15.fit_transform(X4_poly15)"
   ]
  },
  {
   "cell_type": "code",
   "execution_count": 164,
   "id": "86dd5d49-bc91-4e17-977a-de92fa4d610e",
   "metadata": {},
   "outputs": [
    {
     "name": "stdout",
     "output_type": "stream",
     "text": [
      "Classifying Class: 0\n",
      "iteration 9999: cost = 2.4688e-01: intercept = -3.5465e+00: weights = [-2.13357204 -4.17498214]\n",
      "best w [-2.1336 -4.175 ]\n",
      "best b -3.5465\n",
      "Classifying Class: 1\n",
      "iteration 9999: cost = 2.2131e-01: intercept = -2.8784e+00: weights = [ 3.38199006 -2.77479366]\n",
      "best w [ 3.382  -2.7748]\n",
      "best b -2.8784\n",
      "Classifying Class: 2\n",
      "iteration 9999: cost = 5.3185e-02: intercept = -7.0455e+00: weights = [-4.41065808  6.71078552]\n",
      "best w [-4.4107  6.7108]\n",
      "best b -7.0455\n",
      "Classifying Class: 3\n",
      "iteration 9999: cost = 4.1003e-01: intercept = -1.6292e+00: weights = [1.16631928 0.86661571]\n",
      "best w [1.1663 0.8666]\n",
      "best b -1.6292\n"
     ]
    }
   ],
   "source": [
    "GD_result15 = ovrLogisticRegression(X4_norm15, y4, alpha = 0.1, iterations=10000, reguLambda=0)\n",
    "y_predict15, y_proba15 = ovrMultiClassPredict(X4_norm15, GD_result15)"
   ]
  },
  {
   "cell_type": "code",
   "execution_count": 165,
   "id": "240a8039-96f0-47e1-a550-5343a33a03c7",
   "metadata": {},
   "outputs": [
    {
     "name": "stdout",
     "output_type": "stream",
     "text": [
      "Train Accuracy: 94.000000\n"
     ]
    }
   ],
   "source": [
    "print('Train Accuracy: %f'%(np.mean(y_predict15.reshape(-1,1) == y4.reshape(-1,1)) * 100))"
   ]
  },
  {
   "cell_type": "code",
   "execution_count": 166,
   "id": "e5487a9b-2396-40fe-9bdb-f8f2c82101a7",
   "metadata": {},
   "outputs": [],
   "source": [
    "x_min, x_max = X4[:, 0].min() - 1, X4[:, 0].max() + 1\n",
    "y_min, y_max = X4[:, 1].min() - 1, X4[:, 1].max() + 1\n",
    "x1grid = np.arange(x_min, x_max, 0.01)\n",
    "x2grid = np.arange(y_min, y_max, 0.01)\n",
    "xx, yy = np.meshgrid(x1grid,x2grid)\n",
    "zz = np.c_[xx.ravel(), yy.ravel()]\n",
    "zz_poly = polynomial_features15.transform(zz)\n",
    "zz_norm = std_scaler15.transform(zz_poly)\n",
    "ZG15, _ = ovrMultiClassPredict(zz_norm, GD_result15)\n",
    "ZG15 = ZG15.reshape(xx.shape)"
   ]
  },
  {
   "cell_type": "code",
   "execution_count": 167,
   "id": "c2bb5e8e-7ea3-4b23-9bf2-42a57234519e",
   "metadata": {},
   "outputs": [
    {
     "data": {
      "image/png": "[encoded data removed]",
      "text/plain": [
       "<Figure size 800x500 with 1 Axes>"
      ]
     },
     "metadata": {},
     "output_type": "display_data"
    }
   ],
   "source": [
    "plt.close('all')\n",
    "fig, (ax1) = plt.subplots(1, 1, figsize=(8, 5))\n",
    "ax1.contourf(xx, yy, ZG15, alpha=0.3, cmap=plt.cm.RdYlBu)\n",
    "plt.scatter(X4[:,0], X4[:,1], marker=\"o\", c=y4, s=25, edgecolor='k', cmap=plt.cm.RdYlBu)\n",
    "ax1.set_title('Classfication Data')\n",
    "ax1.set_xlabel('x0')\n",
    "ax1.set_ylabel('x1')\n",
    "plt.show()"
   ]
  },
  {
   "cell_type": "markdown",
   "id": "9de8f3e7-2ea5-49f0-abc8-c4764a58a3ed",
   "metadata": {},
   "source": [
    "### Overfitting"
   ]
  },
  {
   "cell_type": "code",
   "execution_count": 168,
   "id": "66b329e6-9624-4753-aa47-afbf021d68f8",
   "metadata": {},
   "outputs": [],
   "source": [
    "degree = 5\n",
    "polynomial_features16 = PolynomialFeatures(degree=degree, include_bias=False)\n",
    "X4_poly16 = polynomial_features16.fit_transform(X4)\n",
    "std_scaler16 = StandardScaler()\n",
    "X4_norm16 = std_scaler16.fit_transform(X4_poly16)"
   ]
  },
  {
   "cell_type": "code",
   "execution_count": null,
   "id": "1f361546-f9ed-40f1-a899-e2a588ad0a8c",
   "metadata": {
    "scrolled": true
   },
   "outputs": [
    {
     "name": "stdout",
     "output_type": "stream",
     "text": [
      "2024-10-30 14:18:26.242423\n",
      "Classifying Class: 0\n",
      "iteration 49999: cost = 1.3222e-02: intercept = -4.1609e+00: weights = [-13.05654989  -5.26831859   4.15588962   5.67233231   2.81165004\n",
      "   2.2161965   -1.660241    -0.66740539  -4.04332548  -6.10217821\n",
      "   1.17237668   0.08536191   2.42832942   1.73263359   7.02956106\n",
      "  -1.6328228    0.16771127  -1.1713695    0.65256416  -1.11706144]\n",
      "best w [-13.0565  -5.2683   4.1559   5.6723   2.8117   2.2162  -1.6602  -0.6674\n",
      "  -4.0433  -6.1022   1.1724   0.0854   2.4283   1.7326   7.0296  -1.6328\n",
      "   0.1677  -1.1714   0.6526  -1.1171]\n",
      "best b -4.1609\n",
      "Classifying Class: 1\n",
      "iteration 49999: cost = 2.3280e-02: intercept = -5.9697e+00: weights = [  3.29232871 -10.72188522  -2.73405593  -8.12986883  -3.91163082\n",
      "   0.38794788  -1.46752681   3.95916      7.11027942   1.47821183\n",
      "  -0.90300478   2.21347591  -0.35767307  -4.68557159  -0.20536164\n",
      "  -0.56685046   1.48098765   0.06571651   1.24408005   4.58026172]\n",
      "best w [  3.2923 -10.7219  -2.7341  -8.1299  -3.9116   0.3879  -1.4675   3.9592\n",
      "   7.1103   1.4782  -0.903    2.2135  -0.3577  -4.6856  -0.2054  -0.5669\n",
      "   1.481    0.0657   1.2441   4.5803]\n",
      "best b -5.9697\n",
      "Classifying Class: 2\n",
      "iteration 49999: cost = 3.6520e-03: intercept = -4.2086e+00: weights = [-0.69618886  5.73336988 -2.40345114 -4.84433805  6.24695449 -1.8420539\n",
      " -0.57743254 -3.49481018  3.5806658   3.65600811 -0.93476048  0.17394844\n",
      " -2.19768812  2.15772782 -4.56811407  0.02667049 -0.11350136  0.72146124\n",
      " -0.43109046  1.73997465]\n",
      "best w [-0.6962  5.7334 -2.4035 -4.8443  6.247  -1.8421 -0.5774 -3.4948  3.5807\n",
      "  3.656  -0.9348  0.1739 -2.1977  2.1577 -4.5681  0.0267 -0.1135  0.7215\n",
      " -0.4311  1.74  ]\n",
      "best b -4.2086\n",
      "Classifying Class: 3\n"
     ]
    }
   ],
   "source": [
    "start_time = datetime.now()\n",
    "print(start_time)\n",
    "GD_result16 = ovrLogisticRegression(X4_norm16, y4, alpha = 0.1, iterations=50000, reguLambda=0)\n",
    "end_time = datetime.now()\n",
    "print(end_time)\n",
    "print('Duration', end_time-start_time)"
   ]
  },
  {
   "cell_type": "code",
   "execution_count": null,
   "id": "9972f7f9-d470-4e5e-999c-c739be024c7f",
   "metadata": {},
   "outputs": [],
   "source": [
    "y_predict16, y_proba16 = ovrMultiClassPredict(X4_norm16, GD_result16)"
   ]
  },
  {
   "cell_type": "code",
   "execution_count": null,
   "id": "423b92c6-1529-4a8b-b3dc-4862399ce5bb",
   "metadata": {},
   "outputs": [],
   "source": [
    "print('Train Accuracy: %f'%(np.mean(y_predict16.reshape(-1,1) == y4.reshape(-1,1)) * 100))"
   ]
  },
  {
   "cell_type": "code",
   "execution_count": null,
   "id": "1423ba92-ef9c-46ef-9436-a713c8593eec",
   "metadata": {},
   "outputs": [],
   "source": [
    "x_min, x_max = X4[:, 0].min() - 1, X4[:, 0].max() + 1\n",
    "y_min, y_max = X4[:, 1].min() - 1, X4[:, 1].max() + 1\n",
    "x1grid = np.arange(x_min, x_max, 0.01)\n",
    "x2grid = np.arange(y_min, y_max, 0.01)\n",
    "xx, yy = np.meshgrid(x1grid,x2grid)\n",
    "zz = np.c_[xx.ravel(), yy.ravel()]\n",
    "zz_poly = polynomial_features16.transform(zz)\n",
    "zz_norm = std_scaler16.transform(zz_poly)\n",
    "ZG16, _ = ovrMultiClassPredict(zz_norm, GD_result16)\n",
    "ZG16 = ZG16.reshape(xx.shape)"
   ]
  },
  {
   "cell_type": "code",
   "execution_count": null,
   "id": "5b3c2d5e-b435-4f5a-aca5-4106d17eedaa",
   "metadata": {},
   "outputs": [],
   "source": [
    "plt.close('all')\n",
    "fig, (ax1) = plt.subplots(1, 1, figsize=(8, 5))\n",
    "ax1.contourf(xx, yy, ZG16, alpha=0.3, cmap=plt.cm.RdYlBu)\n",
    "plt.scatter(X4[:,0], X4[:,1], marker=\"o\", c=y4, s=25, edgecolor='k', cmap=plt.cm.RdYlBu)\n",
    "ax1.set_title('Classfication Data')\n",
    "ax1.set_xlabel('x0')\n",
    "ax1.set_ylabel('x1')\n",
    "plt.show()"
   ]
  },
  {
   "cell_type": "markdown",
   "id": "45f91aeb-95a3-4b48-932b-cbd334ab6484",
   "metadata": {},
   "source": [
    "**Note: Gradient descent is not very fast when performing on complex data. Thus we setup a new example on smaller and simpler dataset.**"
   ]
  },
  {
   "cell_type": "code",
   "execution_count": null,
   "id": "7e4d7080-ec86-488b-9922-20077283d587",
   "metadata": {},
   "outputs": [],
   "source": []
  },
  {
   "cell_type": "code",
   "execution_count": null,
   "id": "a825efb6-70f8-46bd-b066-761361567871",
   "metadata": {},
   "outputs": [],
   "source": []
  },
  {
   "cell_type": "markdown",
   "id": "8397bae8-fda7-48c5-9a72-59e9afc0a749",
   "metadata": {},
   "source": [
    "## End"
   ]
  },
  {
   "cell_type": "code",
   "execution_count": null,
   "id": "1d53cb32-8a96-43f9-85e9-5f4578c9b430",
   "metadata": {},
   "outputs": [],
   "source": []
  }
 ],
 "metadata": {
  "kernelspec": {
   "display_name": "Python 3 (ipykernel)",
   "language": "python",
   "name": "python3"
  },
  "language_info": {
   "codemirror_mode": {
    "name": "ipython",
    "version": 3
   },
   "file_extension": ".py",
   "mimetype": "text/x-python",
   "name": "python",
   "nbconvert_exporter": "python",
   "pygments_lexer": "ipython3",
   "version": "3.11.5"
  }
 },
 "nbformat": 4,
 "nbformat_minor": 5
}
