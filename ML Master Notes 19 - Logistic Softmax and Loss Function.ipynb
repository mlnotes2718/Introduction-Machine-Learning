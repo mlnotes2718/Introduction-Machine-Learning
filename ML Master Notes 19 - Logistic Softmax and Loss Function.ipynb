{
 "cells": [
  {
   "cell_type": "markdown",
   "id": "610f4f08",
   "metadata": {},
   "source": [
    "# Machine Learning Master Notes 19 - Logistic Softmax and Loss Function"
   ]
  },
  {
   "cell_type": "markdown",
   "id": "001ef361-5b6a-4583-aa21-e020be380eb4",
   "metadata": {},
   "source": [
    "### Prepare Environment"
   ]
  },
  {
   "cell_type": "code",
   "execution_count": 1,
   "id": "7d8a9716",
   "metadata": {},
   "outputs": [
    {
     "name": "stderr",
     "output_type": "stream",
     "text": [
      "2024-10-30 11:36:32.478193: I tensorflow/core/platform/cpu_feature_guard.cc:182] This TensorFlow binary is optimized to use available CPU instructions in performance-critical operations.\n",
      "To enable the following instructions: SSE4.1 SSE4.2 AVX AVX2 AVX512F AVX512_VNNI FMA, in other operations, rebuild TensorFlow with the appropriate compiler flags.\n"
     ]
    }
   ],
   "source": [
    "%matplotlib inline\n",
    "\n",
    "\n",
    "# Essential libraries\n",
    "import numpy as np\n",
    "import pandas as pd\n",
    "import math\n",
    "import scipy\n",
    "import random\n",
    "import datetime\n",
    "from datetime import datetime\n",
    "\n",
    "# Graphical Component\n",
    "import matplotlib.pyplot as plt\n",
    "from matplotlib.gridspec import GridSpec\n",
    "from matplotlib import cm\n",
    "\n",
    "\n",
    "## SciKit Learning Preprocessing  \n",
    "from sklearn import preprocessing\n",
    "from sklearn.preprocessing import PolynomialFeatures \n",
    "from sklearn.preprocessing import StandardScaler\n",
    "from sklearn.preprocessing import MinMaxScaler\n",
    "\n",
    "\n",
    "# Pipeline and Train Test Split\n",
    "from sklearn.pipeline import Pipeline\n",
    "from sklearn.model_selection import train_test_split\n",
    "\n",
    "## SciKit Learn ML Models\n",
    "from sklearn import linear_model\n",
    "from sklearn.linear_model import LinearRegression\n",
    "from sklearn.linear_model import LogisticRegression\n",
    "from sklearn.linear_model import Ridge\n",
    "from sklearn.linear_model import Lasso\n",
    "from sklearn.linear_model import ElasticNet\n",
    "\n",
    "# Multiclass\n",
    "from sklearn import multiclass\n",
    "from sklearn.multiclass import OneVsRestClassifier\n",
    "\n",
    "## SciKit Learn Dataset\n",
    "import sklearn.datasets as skdata\n",
    "from sklearn.datasets import make_blobs, make_classification, make_circles, make_gaussian_quantiles\n",
    "\n",
    "## Pytorch\n",
    "import torch\n",
    "\n",
    "## Tensorflow\n",
    "import tensorflow as tf\n",
    "\n",
    "# The following file contain the finalized gradient descent, cost function program \n",
    "import MyRegressionProgramV2 as my\n",
    "import testFile as test\n"
   ]
  },
  {
   "cell_type": "markdown",
   "id": "fe5cb777",
   "metadata": {},
   "source": [
    "## Preparation of Simple Multi-Class Classification Data"
   ]
  },
  {
   "cell_type": "markdown",
   "id": "9b4fd5d7-4142-44f9-9842-e666592c9d92",
   "metadata": {},
   "source": [
    "### Example 1: 3 Class Custom Data"
   ]
  },
  {
   "cell_type": "code",
   "execution_count": 2,
   "id": "6f16999b-23df-4d5f-9524-33597e990868",
   "metadata": {},
   "outputs": [],
   "source": [
    "X1 = np.array([[1, 3], [2,4], [8, 9], [3,4],[7, 8.5], [6.8, 7.5], [2,5],[1.5, 2.5],[6,3],[7,4],[6,5], [6,8], [8,3],[5,4],[9,8]])\n",
    "y1 = np.array([0, 0, 1, 0, 1, 1, 0, 0, 2, 2, 2, 1, 2, 2, 1])"
   ]
  },
  {
   "cell_type": "code",
   "execution_count": 3,
   "id": "b2e671bc-bf92-4d53-9fda-3e376c8494e3",
   "metadata": {},
   "outputs": [],
   "source": [
    "X1_c0 = X1[y1 == 0]\n",
    "X1_c1 = X1[y1 == 1]\n",
    "X1_c2 = X1[y1 == 2]"
   ]
  },
  {
   "cell_type": "code",
   "execution_count": 4,
   "id": "17b4c8e4-10c7-4e4b-a23e-618416b5ae84",
   "metadata": {},
   "outputs": [
    {
     "data": {
      "image/png": "[encoded data removed]",
      "text/plain": [
       "<Figure size 800x500 with 1 Axes>"
      ]
     },
     "metadata": {},
     "output_type": "display_data"
    }
   ],
   "source": [
    "plt.close('all')\n",
    "fig, (ax1) = plt.subplots(1, 1, figsize=(8, 5))\n",
    "ax1.scatter(X1_c0[:,0], X1_c0[:,1], marker='o', s = 80, c='b', label=\"Class 0\")\n",
    "ax1.scatter(X1_c1[:,0], X1_c1[:,1], marker='x', s = 80, c='r', label=\"Class 1\")\n",
    "ax1.scatter(X1_c2[:,0], X1_c2[:,1], marker='*', s = 80, c='g', label=\"Class 2\")\n",
    "ax1.set_title('Classfication Data')\n",
    "ax1.set_xlabel('Feature 1')\n",
    "ax1.set_ylabel('Feature 2')\n",
    "ax1.legend(loc=\"upper left\")\n",
    "plt.show()"
   ]
  },
  {
   "cell_type": "markdown",
   "id": "94ce2411-6649-452c-8873-c56492de0554",
   "metadata": {},
   "source": [
    "### Example 2: 3 Class Basic Example"
   ]
  },
  {
   "cell_type": "code",
   "execution_count": 5,
   "id": "84bcc0b4-25c7-4f9e-9b53-216bb90283b6",
   "metadata": {},
   "outputs": [],
   "source": [
    "X2, y2 = make_classification(n_samples=30, n_features = 2, n_informative=2, n_redundant=0, n_repeated=0, n_classes=3, \n",
    "                             n_clusters_per_class = 1, random_state=15)"
   ]
  },
  {
   "cell_type": "code",
   "execution_count": 6,
   "id": "4db2c40c-70a8-4a18-894a-8f4510001566",
   "metadata": {},
   "outputs": [
    {
     "data": {
      "text/plain": [
       "array([[ 0.27912991, -1.44037331],\n",
       "       [ 1.09078803,  2.87039611],\n",
       "       [-0.1421124 , -1.92345206],\n",
       "       [ 0.52621628,  0.19413389],\n",
       "       [ 1.23776235, -0.80607812],\n",
       "       [ 0.92997061,  2.2107433 ],\n",
       "       [ 0.92163467, -0.99339502],\n",
       "       [-1.25848203,  2.69425705],\n",
       "       [-1.16747321,  1.02481538],\n",
       "       [ 0.34863806,  0.15637629],\n",
       "       [-0.91380625,  0.89020462],\n",
       "       [-1.02732663,  1.31426767],\n",
       "       [-0.79246704,  0.71060574],\n",
       "       [ 1.23144309,  2.18451769],\n",
       "       [-1.34277644,  2.39459039],\n",
       "       [-0.89802635,  1.12900034],\n",
       "       [ 1.60262439,  2.18545311],\n",
       "       [-0.28457476, -2.03758725],\n",
       "       [ 1.77926414, -0.46952691],\n",
       "       [ 2.02633732,  2.02052107],\n",
       "       [ 1.31489592, -0.27941799],\n",
       "       [-1.14698508, -0.14463301],\n",
       "       [ 1.13865231,  2.18013876],\n",
       "       [ 0.56927256, -1.30431595],\n",
       "       [ 1.35870645, -0.79851399],\n",
       "       [ 1.45015611, -0.59655324],\n",
       "       [-0.84034771,  0.09035531],\n",
       "       [-0.17669223,  1.82078771],\n",
       "       [-0.93615324,  0.77835966],\n",
       "       [ 0.90909835, -1.08810057]])"
      ]
     },
     "execution_count": 6,
     "metadata": {},
     "output_type": "execute_result"
    }
   ],
   "source": [
    "X2"
   ]
  },
  {
   "cell_type": "code",
   "execution_count": 7,
   "id": "be398888-7364-4205-9066-868002033c20",
   "metadata": {},
   "outputs": [
    {
     "data": {
      "text/plain": [
       "array([2, 1, 2, 1, 2, 1, 2, 0, 0, 1, 0, 0, 0, 1, 0, 0, 1, 2, 2, 1, 1, 0,\n",
       "       1, 2, 2, 2, 0, 1, 0, 2])"
      ]
     },
     "execution_count": 7,
     "metadata": {},
     "output_type": "execute_result"
    }
   ],
   "source": [
    "y2"
   ]
  },
  {
   "cell_type": "code",
   "execution_count": 8,
   "id": "09c29142-7c7a-4be9-b218-9bac1fe43503",
   "metadata": {},
   "outputs": [
    {
     "data": {
      "image/png": "[encoded data removed]",
      "text/plain": [
       "<Figure size 800x500 with 1 Axes>"
      ]
     },
     "metadata": {},
     "output_type": "display_data"
    }
   ],
   "source": [
    "plt.close('all')\n",
    "fig, (ax1) = plt.subplots(1, 1, figsize=(8, 5))\n",
    "ax1.scatter(X2[:, 0], X2[:, 1], c=y2, edgecolors='k', cmap=plt.cm.RdYlBu)\n",
    "ax1.set_title('Classfication Data')\n",
    "ax1.set_xlabel('Feature 1')\n",
    "ax1.set_ylabel('Feature 2')\n",
    "plt.show()"
   ]
  },
  {
   "cell_type": "markdown",
   "id": "a4430ede-e88a-4456-beac-4959c7183c98",
   "metadata": {},
   "source": [
    "### Example 3 : 4 Class"
   ]
  },
  {
   "cell_type": "code",
   "execution_count": 13,
   "id": "95f46328-ab52-47a3-aab1-52b48b7c87db",
   "metadata": {},
   "outputs": [],
   "source": [
    "X3, y3 = make_classification(n_samples=50, n_features = 2, n_informative = 2, n_redundant=0, n_repeated=0, \n",
    "                             n_classes=4, n_clusters_per_class = 1, random_state=33)"
   ]
  },
  {
   "cell_type": "code",
   "execution_count": 14,
   "id": "7e9e84a4-2d81-4417-aa03-81293230e58e",
   "metadata": {},
   "outputs": [
    {
     "data": {
      "image/png": "[encoded data removed]",
      "text/plain": [
       "<Figure size 800x500 with 1 Axes>"
      ]
     },
     "metadata": {},
     "output_type": "display_data"
    }
   ],
   "source": [
    "plt.close('all')\n",
    "fig, (ax1) = plt.subplots(1, 1, figsize=(8, 5))\n",
    "ax1.scatter(X3[:, 0], X3[:, 1], c=y3, edgecolors='k', cmap=plt.cm.RdYlBu)\n",
    "ax1.set_title('Classfication Data')\n",
    "ax1.set_xlabel('Feature 1')\n",
    "ax1.set_ylabel('Feature 2')\n",
    "plt.show()"
   ]
  },
  {
   "cell_type": "markdown",
   "id": "29c8ff59-27d6-4a57-9a8e-654b6be30f68",
   "metadata": {},
   "source": [
    "## Softmax Function"
   ]
  },
  {
   "cell_type": "markdown",
   "id": "2167998c-f84b-491f-b52f-9e21bf197fbf",
   "metadata": {},
   "source": [
    "The formula for Softmax Function is as follows:\n",
    "$$P(y=k|x)_i=\\frac{e^{z_i}}{\\sum\\limits_{j=1}^{k}e^{z_j}}$$\n",
    "Since:\n",
    "$$z = f(x)$$\n",
    "$$f(x) = Xw + b$$\n",
    "Then:\n",
    "$$P(y=k|x)=\\frac{e^{f(x)_i}}{\\sum\\limits_{j=1}^{k}e^{f(x)_j}}$$\n",
    "$$P(y=k|x)=\\frac{e^{Xw_k+b_k}}{\\sum\\limits_{j=1}^{k}e^{Xw_j+b_j}}$$"
   ]
  },
  {
   "cell_type": "markdown",
   "id": "99cf82b8-7043-4d25-b3dc-6ad0084c26ad",
   "metadata": {},
   "source": [
    "## Intuition of Softmax Function"
   ]
  },
  {
   "cell_type": "markdown",
   "id": "2b063164-4cc0-4604-89fb-8c32e3dcc32f",
   "metadata": {},
   "source": [
    "The purpose of the Softmax function is to compute the probability of each class against other classes. Thus we have the formula $\\frac{\\text{predictEachClass}}{\\text{sumAllPredict}}$. Suppose, we have 3 classes and for each example, we have a set of 3 data that explains the relationship of the training example with the classes.\n",
    "Let us suppose we have an example with the following score: $[5, 3, 2]$. Each score represents each class. Thus, the score of class 0 is 5 and so on. Each score is $z$\n",
    "\n",
    "Using Softmax function:\n",
    "$$P(y=k|x)_i=\\frac{e^{z_i}}{\\sum\\limits_{j=1}^{k}e^{z_j}}$$\n",
    "\n",
    "Where:\n",
    "$$z = [5,3,2]$$\n",
    "\n",
    "For the first score:\n",
    "$$P(y=0|x)_i=\\frac{e^{z_0}}{e^{z_0}+e^{z_1}+e^{z_2}}$$\n",
    "$$P(y=0|x)_i=\\frac{e^{5}}{e^{5}+e^{3}+e^{2}}$$\n",
    "\n",
    "For the second score:\n",
    "$$P(y=1|x)_i=\\frac{e^{z_1}}{e^{z_0}+e^{z_1}+e^{z_2}}$$\n",
    "$$P(y=1|x)_i=\\frac{e^{3}}{e^{5}+e^{3}+e^{2}}$$\n",
    "\n",
    "For the third score:\n",
    "$$P(y=2|x)_i=\\frac{e^{z_2}}{e^{z_0}+e^{z_1}+e^{z_2}}$$\n",
    "$$P(y=2|x)_i=\\frac{e^{2}}{e^{5}+e^{3}+e^{2}}$$"
   ]
  },
  {
   "cell_type": "code",
   "execution_count": 15,
   "id": "aa8b0637-9a7a-4172-ae8b-de774da5063d",
   "metadata": {},
   "outputs": [
    {
     "name": "stdout",
     "output_type": "stream",
     "text": [
      "148.4131591025766\n",
      "20.085536923187668\n",
      "7.38905609893065\n"
     ]
    }
   ],
   "source": [
    "print(np.exp(5))\n",
    "print(np.exp(3))\n",
    "print(np.exp(2))"
   ]
  },
  {
   "cell_type": "markdown",
   "id": "fc0c00a6-242a-4159-ba6a-13fd568a52e9",
   "metadata": {},
   "source": [
    "First score:\n",
    "$$P(y=0|x)_i=\\frac{e^{5}}{e^{5}+e^{3}+e^{2}}$$\n",
    "$$P(y=0|x)_i=\\frac{148.41}{148.41+20.89+7.39}$$\n",
    "\n",
    "Second score:\n",
    "$$P(y=0|x)_i=\\frac{e^{3}}{e^{5}+e^{3}+e^{2}}$$\n",
    "$$P(y=0|x)_i=\\frac{20.89}{148.41+20.89+7.39}$$\n",
    "\n",
    "Third score:\n",
    "$$P(y=0|x)_i=\\frac{e^{2}}{e^{5}+e^{3}+e^{2}}$$\n",
    "$$P(y=0|x)_i=\\frac{7.39}{148.41+20.89+7.39}$$"
   ]
  },
  {
   "cell_type": "code",
   "execution_count": 16,
   "id": "2965060a-bc94-4439-94f4-a491afaaca7f",
   "metadata": {},
   "outputs": [
    {
     "name": "stdout",
     "output_type": "stream",
     "text": [
      "0.8437947344813395\n",
      "0.11419519938459449\n",
      "0.042010066134066056\n"
     ]
    }
   ],
   "source": [
    "print(np.exp(5)/sum([np.exp(5), np.exp(3), np.exp(2)]))\n",
    "print(np.exp(3)/sum([np.exp(5), np.exp(3), np.exp(2)]))\n",
    "print(np.exp(2)/sum([np.exp(5), np.exp(3), np.exp(2)]))"
   ]
  },
  {
   "cell_type": "markdown",
   "id": "120b910f-1606-467f-8af4-a4616fb438e7",
   "metadata": {},
   "source": [
    "$$P(y=0|x)_i=\\frac{148.41}{148.41+20.89+7.39} = 0.8438$$\n",
    "$$P(y=1|x)_i=\\frac{20.89}{148.41+20.89+7.39} = 0.1142$$\n",
    "$$P(y=2|x)_i=\\frac{7.39}{148.41+20.89+7.39} = 0.0420$$\n",
    "\n",
    "The total probability of each classification add up to 1.\n",
    "\n",
    "$$0.8438 + 0.1142 + 0.0420 = 1$$"
   ]
  },
  {
   "cell_type": "markdown",
   "id": "26703841-ed40-49a5-bb29-f1371f4c5a9f",
   "metadata": {},
   "source": [
    "For each training example, we should have the probability distribution for each class that could be added to 1. To fit a linear equation of 2 features and 3 classes, for each training example, we should compute $f(x) = z = (x_0 \\cdot w_0) + (x_1 \\cdot w_1) + b$ for each class. Therefore, we should have the following construct:\n",
    "\n",
    "$$f(x^{(i)})_{z_0} = z_0^{(i)} = (x_0^{(i)} \\cdot w_0^{(i)}) + (x_1^{(i)} \\cdot w_1^{(i)}) + b^{(i)}$$\n",
    "$$f(x^{(i)})_{z_1} = z_1^{(i)} = (x_0^{(i)} \\cdot w_0^{(i)}) + (x_1^{(i)} \\cdot w_1^{(i)}) + b^{(i)}$$\n",
    "$$f(x^{(i)})_{z_2} = z_2^{(i)} = (x_0^{(i)} \\cdot w_0^{(i)}) + (x_1^{(i)} \\cdot w_1^{(i)}) + b^{(i)}$$\n",
    "$$ $$\n",
    "where $z_0$ belongs to the probability of class 1, $z_1$ belongs to probability of class 2 and $z_2$ belongs to probability of class 3.\n",
    "$$ $$\n",
    "Using matrix computation $f(x^{(i)})$ should return a dimension of 1 by `num_of_class` matrix for a single training example.\n",
    "\n",
    "The result for each training example should be\n",
    "$$\\hat{y}^{(i)} = \\begin{bmatrix} p_{z0}^{(i)} & p_{z1}^{(i)} & p_{z2}^{(i)} \\end{bmatrix}$$\n",
    "\n",
    "To compute $f(x)$ in matrix form, we have the following matrices:\n",
    "\n",
    "$$X = \\begin{bmatrix} x_0^{(0)} & x_1^{(0)} \\\\ x_0^{(1)} &  x_1^{(1)} \\\\ ... & ... \\\\ x_0^{(m)} &  x_1^{(m)} \\end{bmatrix}$$\n",
    "\n",
    "We need to construct the matrix of $W$ which is `number_of_features` by `number_of_class`.\n",
    "$$W = \\begin{bmatrix} w_{0,z0} & w_{0,z1} & w_{0,z2} \\\\ w_{1,z0} & w_{1,z1} & w_{1,z2} \\end{bmatrix}$$\n",
    "where the first index refers to the weights of feature and the second index should refer to each class.\n",
    "$$$$\n",
    "$b$ should also be a vector of 1 by `number_of_class`.\n",
    "$$b = \\begin{bmatrix} b_0 & b_1 & b_2 \\end{bmatrix}$$\n",
    "We have\n",
    "$$f(x) = XW + b = z = \\begin{bmatrix} z_0 & z_1 & z_2 \\end{bmatrix} = \\begin{bmatrix} z_0 & z_1 & z_2 \\\\ x_{0}w_{0} & x_{0}w_{0} & x_{0}w_{0} \\\\ + & + & + \\\\ x_{1}w_{1} & x_{1}w_{1} & x_{1}w_{1} \\\\ + & + & + \\\\ b_0 & b_1 & b_ 2\\end{bmatrix}$$\n",
    "This lead to the following result for single training example:\n",
    "$$\\hat{y}^{(i)} = \\begin{bmatrix} p_{z0}^{(i)} & p_{z1}^{(i)} & p_{z2}^{(i)} \\end{bmatrix}$$\n",
    "Thus we have the following for multiple examples:\n",
    "$$\\hat{y} = \\begin{bmatrix} p_{z0}^{(0)} & p_{z1}^{(0)} & p_{z2}^{(0)} \\\\ p_{z0}^{(1)} & p_{z1}^{(1)} & p_{z2}^{(1)} \\\\ ... & ... & ... \\\\ p_{z0}^{(m)} & p_{z1}^{(m)} & p_{z2}^{(m)} \\end{bmatrix}$$"
   ]
  },
  {
   "cell_type": "markdown",
   "id": "8c484986-d1c1-44ed-86e0-2928d367d7d5",
   "metadata": {},
   "source": [
    "- https://www.geeksforgeeks.org/how-to-implement-softmax-and-cross-entropy-in-python-and-pytorch/\n",
    "- https://community.deeplearning.ai/t/softmax-regression-constructing-custom-function/684236/14"
   ]
  },
  {
   "cell_type": "markdown",
   "id": "473a235b-64d7-4322-84a7-da93b32aad3c",
   "metadata": {},
   "source": [
    "## Implementation of Softmax Function"
   ]
  },
  {
   "cell_type": "code",
   "execution_count": 17,
   "id": "8bb0ca8e-7f3b-42df-a95d-9844149e70e6",
   "metadata": {},
   "outputs": [],
   "source": [
    "# Single training example with 3 classes\n",
    "fx = np.array([5, 3. , 2. ])"
   ]
  },
  {
   "cell_type": "code",
   "execution_count": 18,
   "id": "a212794a-e58b-4537-8b9d-6abd99b6e3a3",
   "metadata": {},
   "outputs": [
    {
     "data": {
      "text/plain": [
       "array([148.4131591 ,  20.08553692,   7.3890561 ])"
      ]
     },
     "execution_count": 18,
     "metadata": {},
     "output_type": "execute_result"
    }
   ],
   "source": [
    "numerator = np.exp(fx)\n",
    "numerator"
   ]
  },
  {
   "cell_type": "code",
   "execution_count": 19,
   "id": "22fcd7c4-24a8-40f0-b564-1a4e8a8eae84",
   "metadata": {},
   "outputs": [
    {
     "data": {
      "text/plain": [
       "175.8877521246949"
      ]
     },
     "execution_count": 19,
     "metadata": {},
     "output_type": "execute_result"
    }
   ],
   "source": [
    "demoninator = np.sum(numerator)\n",
    "demoninator"
   ]
  },
  {
   "cell_type": "code",
   "execution_count": 20,
   "id": "24656b90-87b4-46db-a011-7be33b4981f4",
   "metadata": {},
   "outputs": [
    {
     "data": {
      "text/plain": [
       "array([0.84379473, 0.1141952 , 0.04201007])"
      ]
     },
     "execution_count": 20,
     "metadata": {},
     "output_type": "execute_result"
    }
   ],
   "source": [
    "numerator/demoninator"
   ]
  },
  {
   "cell_type": "code",
   "execution_count": 21,
   "id": "64a80536-2c5c-4ed9-9b64-2b63b99bc04d",
   "metadata": {},
   "outputs": [],
   "source": [
    "def mySoftmax(fx):\n",
    "    '''\n",
    "    This Softmax function use the formula np.exp(X)/np.sum(np.exp(X))\n",
    "    For matrix this function only accepts columns as features.\n",
    "    The Softmax will work on per data observation in rows\n",
    "\n",
    "    INPUT:\n",
    "    fx = fx should be in (m,n) or (m,) \n",
    "\n",
    "    OUTPUT:\n",
    "    softmax (matrix) if there is more than one feature. All the columns in a specific row added up to 1.\n",
    "    '''\n",
    "    if fx.ndim == 1:\n",
    "        # Taking care of input that is 1D array\n",
    "        softmax = np.exp(fx)/np.sum(np.exp(fx))\n",
    "    else:\n",
    "        # Taking care of input that is 2D\n",
    "        m,n = fx.shape\n",
    "        if n == 1:\n",
    "            # Taking care of input that is 2D but contain only one feature\n",
    "            softmax = np.exp(fx)/np.sum(np.exp(fx), keepdims=True)\n",
    "        else:\n",
    "            # Taking care of input that is 2D with multiple columns\n",
    "            softmax = np.exp(fx)/np.sum(np.exp(fx), axis=1, keepdims=True)\n",
    "    return softmax"
   ]
  },
  {
   "cell_type": "code",
   "execution_count": 22,
   "id": "97196dbf-e4ba-40f0-ac31-d96e79dbf6ad",
   "metadata": {},
   "outputs": [
    {
     "data": {
      "text/plain": [
       "array([0.84379473, 0.1141952 , 0.04201007])"
      ]
     },
     "execution_count": 22,
     "metadata": {},
     "output_type": "execute_result"
    }
   ],
   "source": [
    "mySoftmax(fx)"
   ]
  },
  {
   "cell_type": "markdown",
   "id": "8c324d46-1a45-454e-8d88-4ca8539c8ee2",
   "metadata": {},
   "source": [
    "#### Example 1"
   ]
  },
  {
   "cell_type": "code",
   "execution_count": 23,
   "id": "600280ab-0a05-4574-9c0c-834c187f8370",
   "metadata": {},
   "outputs": [],
   "source": [
    "# One training example with 4 classes\n",
    "fx1 = np.array([2, 4, 5, 3], dtype=float)"
   ]
  },
  {
   "cell_type": "code",
   "execution_count": 24,
   "id": "64e04132-55e4-457e-aa56-75695d351b85",
   "metadata": {},
   "outputs": [
    {
     "data": {
      "text/plain": [
       "array([0.0320586 , 0.23688282, 0.64391426, 0.08714432])"
      ]
     },
     "execution_count": 24,
     "metadata": {},
     "output_type": "execute_result"
    }
   ],
   "source": [
    "mySoftmax(fx1)"
   ]
  },
  {
   "cell_type": "markdown",
   "id": "35a81870-0cb9-4487-bc3c-e5044408781d",
   "metadata": {},
   "source": [
    "**Expected Outcome: [0.0320586  0.23688282 0.64391426 0.08714432]**"
   ]
  },
  {
   "cell_type": "code",
   "execution_count": 25,
   "id": "c804cab0-1688-40cc-a17d-96072e5208d3",
   "metadata": {},
   "outputs": [
    {
     "data": {
      "text/plain": [
       "1.0"
      ]
     },
     "execution_count": 25,
     "metadata": {},
     "output_type": "execute_result"
    }
   ],
   "source": [
    "np.sum(mySoftmax(fx1))"
   ]
  },
  {
   "cell_type": "code",
   "execution_count": 26,
   "id": "d66f1487-9be7-4c3c-9d27-8ed91736325c",
   "metadata": {},
   "outputs": [
    {
     "data": {
      "text/plain": [
       "array([0.0320586 , 0.23688282, 0.64391426, 0.08714432])"
      ]
     },
     "execution_count": 26,
     "metadata": {},
     "output_type": "execute_result"
    }
   ],
   "source": [
    "scipy.special.softmax(fx1)"
   ]
  },
  {
   "cell_type": "markdown",
   "id": "4c0b15cd-d60c-4d36-a435-2694f407c7ce",
   "metadata": {},
   "source": [
    "**Expected Outcome: [0.0320586  0.23688282 0.64391426 0.08714432]**"
   ]
  },
  {
   "cell_type": "code",
   "execution_count": 27,
   "id": "197e7f5e-14ed-4863-8a8f-e3bb896d6f3b",
   "metadata": {},
   "outputs": [
    {
     "data": {
      "text/plain": [
       "0.9999999999999999"
      ]
     },
     "execution_count": 27,
     "metadata": {},
     "output_type": "execute_result"
    }
   ],
   "source": [
    "np.sum(scipy.special.softmax(fx1))"
   ]
  },
  {
   "cell_type": "code",
   "execution_count": 28,
   "id": "2be411f5-e36b-4c7c-8b34-31c5a3e88492",
   "metadata": {},
   "outputs": [
    {
     "data": {
      "text/plain": [
       "tensor([0.0321, 0.2369, 0.6439, 0.0871])"
      ]
     },
     "execution_count": 28,
     "metadata": {},
     "output_type": "execute_result"
    }
   ],
   "source": [
    "torch.nn.functional.softmax(torch.Tensor(fx1), dim=0)"
   ]
  },
  {
   "cell_type": "markdown",
   "id": "a93793af-90aa-4caf-a889-e1eaa80e0e5c",
   "metadata": {},
   "source": [
    "**Expected Outcome: [0.0320586  0.23688282 0.64391426 0.08714432]**"
   ]
  },
  {
   "cell_type": "code",
   "execution_count": 29,
   "id": "e1ccf6ab-0ffa-42d8-84be-a3f11c0c699b",
   "metadata": {},
   "outputs": [
    {
     "data": {
      "text/plain": [
       "tensor(1.0000)"
      ]
     },
     "execution_count": 29,
     "metadata": {},
     "output_type": "execute_result"
    }
   ],
   "source": [
    "torch.sum(torch.nn.functional.softmax(torch.Tensor(fx1), dim=0))"
   ]
  },
  {
   "cell_type": "code",
   "execution_count": 30,
   "id": "4d937d0a-9e9f-43af-9161-28409791fe6a",
   "metadata": {},
   "outputs": [
    {
     "data": {
      "text/plain": [
       "<tf.Tensor: shape=(4,), dtype=float64, numpy=array([0.0320586 , 0.23688282, 0.64391426, 0.08714432])>"
      ]
     },
     "execution_count": 30,
     "metadata": {},
     "output_type": "execute_result"
    }
   ],
   "source": [
    "tf.nn.softmax(fx1)"
   ]
  },
  {
   "cell_type": "markdown",
   "id": "4d1b5288-aba1-4ef7-bf87-f0167bd5667c",
   "metadata": {},
   "source": [
    "**Expected Outcome: [0.0320586  0.23688282 0.64391426 0.08714432]**"
   ]
  },
  {
   "cell_type": "code",
   "execution_count": 31,
   "id": "230192f6-c3cb-4f30-a721-84151ba78584",
   "metadata": {},
   "outputs": [
    {
     "data": {
      "text/plain": [
       "<tf.Tensor: shape=(), dtype=float64, numpy=1.0>"
      ]
     },
     "execution_count": 31,
     "metadata": {},
     "output_type": "execute_result"
    }
   ],
   "source": [
    "tf.math.reduce_sum(tf.nn.softmax(fx1))"
   ]
  },
  {
   "cell_type": "markdown",
   "id": "31651a02-f7ff-401e-8353-8fc1123dd134",
   "metadata": {},
   "source": [
    "#### Example 2"
   ]
  },
  {
   "cell_type": "code",
   "execution_count": 32,
   "id": "21ad711a-ce07-496c-a1c5-5d5b23a678b1",
   "metadata": {},
   "outputs": [],
   "source": [
    "# 2 features and 3 examples\n",
    "# y label has 3 class\n",
    "X2 = np.array([[1, 3], [5,4], [8, 9]])\n",
    "y2 = np.array([0, 1, 2]).reshape(-1,1)"
   ]
  },
  {
   "cell_type": "code",
   "execution_count": 33,
   "id": "809d8aa3-c77b-489c-b4c9-07cbe1228b93",
   "metadata": {},
   "outputs": [],
   "source": [
    "# class 0: w_0 = 0.2, w_1 = 0.3, b = 0.1\n",
    "# class 1: w_0 = 0.1, w_1 = 0.2, b = 0.3\n",
    "# class 2: w_0 = 0.3, w_1 = 0.4, b = 0.5\n",
    "W = np.array([[0.2, 0.1, 0.3],[0.3, 0.2, 0.4]])\n",
    "b = np.array([[0.1,0.3,0.5]])"
   ]
  },
  {
   "cell_type": "code",
   "execution_count": 34,
   "id": "90fc6e52-7890-419c-b5da-b95dc6ca52ae",
   "metadata": {},
   "outputs": [
    {
     "data": {
      "text/plain": [
       "array([[1.2, 1. , 2. ],\n",
       "       [2.3, 1.6, 3.6],\n",
       "       [4.4, 2.9, 6.5]])"
      ]
     },
     "execution_count": 34,
     "metadata": {},
     "output_type": "execute_result"
    }
   ],
   "source": [
    "# Each training example should have 1 by 3 row vector, one prediction for each class\n",
    "# 3 training example should return 3 by 3 matrix\n",
    "fx2 = X2@W + b\n",
    "fx2"
   ]
  },
  {
   "cell_type": "code",
   "execution_count": 35,
   "id": "c6befca3-10cd-42fa-bb04-0d30772202ff",
   "metadata": {},
   "outputs": [
    {
     "data": {
      "text/plain": [
       "array([[0.24726331, 0.20244208, 0.55029462],\n",
       "       [0.19357779, 0.09612788, 0.71029433],\n",
       "       [0.10650421, 0.0237643 , 0.86973149]])"
      ]
     },
     "execution_count": 35,
     "metadata": {},
     "output_type": "execute_result"
    }
   ],
   "source": [
    "mySoftmax(fx2)"
   ]
  },
  {
   "cell_type": "code",
   "execution_count": 36,
   "id": "b63ee864-7d7f-435d-ad92-ecc0acf377d8",
   "metadata": {},
   "outputs": [
    {
     "data": {
      "text/plain": [
       "array([[1.],\n",
       "       [1.],\n",
       "       [1.]])"
      ]
     },
     "execution_count": 36,
     "metadata": {},
     "output_type": "execute_result"
    }
   ],
   "source": [
    "np.sum(mySoftmax(fx2), axis = 1, keepdims=True)"
   ]
  },
  {
   "cell_type": "code",
   "execution_count": 37,
   "id": "2f8a2fd2-5669-4721-8802-7ae24791d5b7",
   "metadata": {},
   "outputs": [
    {
     "data": {
      "text/plain": [
       "array([[0.24726331, 0.20244208, 0.55029462],\n",
       "       [0.19357779, 0.09612788, 0.71029433],\n",
       "       [0.10650421, 0.0237643 , 0.86973149]])"
      ]
     },
     "execution_count": 37,
     "metadata": {},
     "output_type": "execute_result"
    }
   ],
   "source": [
    "scipy.special.softmax(fx2, axis = 1)"
   ]
  },
  {
   "cell_type": "code",
   "execution_count": 38,
   "id": "d476a0c8-1db8-46be-a87a-56f99bc20656",
   "metadata": {},
   "outputs": [
    {
     "data": {
      "text/plain": [
       "array([[1.],\n",
       "       [1.],\n",
       "       [1.]])"
      ]
     },
     "execution_count": 38,
     "metadata": {},
     "output_type": "execute_result"
    }
   ],
   "source": [
    "np.sum(scipy.special.softmax(fx2, axis=1), axis = 1, keepdims=True)"
   ]
  },
  {
   "cell_type": "code",
   "execution_count": 39,
   "id": "56a42f6d-c3c0-4907-b7f7-9209d25b5ee5",
   "metadata": {},
   "outputs": [
    {
     "data": {
      "text/plain": [
       "tensor([[0.2473, 0.2024, 0.5503],\n",
       "        [0.1936, 0.0961, 0.7103],\n",
       "        [0.1065, 0.0238, 0.8697]])"
      ]
     },
     "execution_count": 39,
     "metadata": {},
     "output_type": "execute_result"
    }
   ],
   "source": [
    "torch.nn.functional.softmax(torch.Tensor(fx2), dim=1)"
   ]
  },
  {
   "cell_type": "code",
   "execution_count": 40,
   "id": "7f9200da-5963-4c20-98a4-1fd3edd8db13",
   "metadata": {},
   "outputs": [
    {
     "data": {
      "text/plain": [
       "tensor([[1.],\n",
       "        [1.],\n",
       "        [1.]])"
      ]
     },
     "execution_count": 40,
     "metadata": {},
     "output_type": "execute_result"
    }
   ],
   "source": [
    "torch.sum(torch.nn.functional.softmax(torch.Tensor(fx2), dim=1),axis = 1, keepdims=True)"
   ]
  },
  {
   "cell_type": "code",
   "execution_count": 41,
   "id": "814af38b-70ba-4595-ae88-72a870013530",
   "metadata": {},
   "outputs": [
    {
     "data": {
      "text/plain": [
       "<tf.Tensor: shape=(3, 3), dtype=float64, numpy=\n",
       "array([[0.24726331, 0.20244208, 0.55029462],\n",
       "       [0.19357779, 0.09612788, 0.71029433],\n",
       "       [0.10650421, 0.0237643 , 0.86973149]])>"
      ]
     },
     "execution_count": 41,
     "metadata": {},
     "output_type": "execute_result"
    }
   ],
   "source": [
    "tf.nn.softmax(fx2)"
   ]
  },
  {
   "cell_type": "code",
   "execution_count": 42,
   "id": "f4ea7cec-15c6-4a31-804f-f03d0849984d",
   "metadata": {},
   "outputs": [
    {
     "data": {
      "text/plain": [
       "<tf.Tensor: shape=(3, 1), dtype=float64, numpy=\n",
       "array([[1.],\n",
       "       [1.],\n",
       "       [1.]])>"
      ]
     },
     "execution_count": 42,
     "metadata": {},
     "output_type": "execute_result"
    }
   ],
   "source": [
    "tf.math.reduce_sum(tf.nn.softmax(fx2),axis = 1, keepdims=True)"
   ]
  },
  {
   "cell_type": "markdown",
   "id": "d8c88ce0-901e-477f-8302-e2266854e762",
   "metadata": {},
   "source": [
    "#### Example 3"
   ]
  },
  {
   "cell_type": "code",
   "execution_count": 43,
   "id": "5d68ad53-ee33-49d6-9c7b-0e921030c2ef",
   "metadata": {},
   "outputs": [],
   "source": [
    "# One example 3 classes\n",
    "fx3 = np.array([2.0, 1.0, 0.1],dtype=float)"
   ]
  },
  {
   "cell_type": "code",
   "execution_count": 44,
   "id": "9fa8fca0-c280-4c41-85bd-58c2d9a8d23c",
   "metadata": {},
   "outputs": [
    {
     "data": {
      "text/plain": [
       "array([0.65900114, 0.24243297, 0.09856589])"
      ]
     },
     "execution_count": 44,
     "metadata": {},
     "output_type": "execute_result"
    }
   ],
   "source": [
    "mySoftmax(fx3)"
   ]
  },
  {
   "cell_type": "code",
   "execution_count": 45,
   "id": "6ff913d5-2ba4-4e00-b489-5cf6ab0adecb",
   "metadata": {},
   "outputs": [
    {
     "data": {
      "text/plain": [
       "1.0"
      ]
     },
     "execution_count": 45,
     "metadata": {},
     "output_type": "execute_result"
    }
   ],
   "source": [
    "np.sum(mySoftmax(fx3))"
   ]
  },
  {
   "cell_type": "code",
   "execution_count": 46,
   "id": "bdd17b0b-4be3-4a4f-880f-7e36ae876320",
   "metadata": {},
   "outputs": [
    {
     "data": {
      "text/plain": [
       "array([0.65900114, 0.24243297, 0.09856589])"
      ]
     },
     "execution_count": 46,
     "metadata": {},
     "output_type": "execute_result"
    }
   ],
   "source": [
    "scipy.special.softmax(fx3)"
   ]
  },
  {
   "cell_type": "code",
   "execution_count": 47,
   "id": "e8812f5c-c687-4430-b74b-56251114a3f0",
   "metadata": {},
   "outputs": [
    {
     "data": {
      "text/plain": [
       "1.0"
      ]
     },
     "execution_count": 47,
     "metadata": {},
     "output_type": "execute_result"
    }
   ],
   "source": [
    "np.sum(scipy.special.softmax(fx3))"
   ]
  },
  {
   "cell_type": "code",
   "execution_count": 48,
   "id": "66c24f7e-512a-42a7-85a7-1780df38ec88",
   "metadata": {},
   "outputs": [
    {
     "data": {
      "text/plain": [
       "tensor([0.6590, 0.2424, 0.0986])"
      ]
     },
     "execution_count": 48,
     "metadata": {},
     "output_type": "execute_result"
    }
   ],
   "source": [
    "torch.nn.functional.softmax(torch.Tensor(fx3), dim=0)"
   ]
  },
  {
   "cell_type": "code",
   "execution_count": 49,
   "id": "a852fb4c-12ad-44c9-a649-16db8a6f2ee0",
   "metadata": {},
   "outputs": [
    {
     "data": {
      "text/plain": [
       "tensor(1.0000)"
      ]
     },
     "execution_count": 49,
     "metadata": {},
     "output_type": "execute_result"
    }
   ],
   "source": [
    "torch.sum(torch.nn.functional.softmax(torch.Tensor(fx3), dim=0))"
   ]
  },
  {
   "cell_type": "code",
   "execution_count": 50,
   "id": "72f7e208-5f06-4011-ad7c-663bf22c70ef",
   "metadata": {},
   "outputs": [
    {
     "data": {
      "text/plain": [
       "<tf.Tensor: shape=(3,), dtype=float64, numpy=array([0.65900114, 0.24243297, 0.09856589])>"
      ]
     },
     "execution_count": 50,
     "metadata": {},
     "output_type": "execute_result"
    }
   ],
   "source": [
    "tf.nn.softmax(fx3)"
   ]
  },
  {
   "cell_type": "code",
   "execution_count": 51,
   "id": "c625662e-6036-4c28-a343-3d3d2ba192b9",
   "metadata": {},
   "outputs": [
    {
     "data": {
      "text/plain": [
       "<tf.Tensor: shape=(), dtype=float64, numpy=1.0>"
      ]
     },
     "execution_count": 51,
     "metadata": {},
     "output_type": "execute_result"
    }
   ],
   "source": [
    "tf.math.reduce_sum(tf.nn.softmax(fx3))"
   ]
  },
  {
   "cell_type": "markdown",
   "id": "6c77cc32-4fc8-4e61-8a7f-497306fbe61b",
   "metadata": {},
   "source": [
    "#### Example 4"
   ]
  },
  {
   "cell_type": "code",
   "execution_count": 52,
   "id": "f06d59cc-f9c5-473d-b7d7-777ba4ed65db",
   "metadata": {},
   "outputs": [],
   "source": [
    "# One example 3 classes\n",
    "fx4 = np.array([1, 2, 3], dtype=float).reshape(1,-1)"
   ]
  },
  {
   "cell_type": "code",
   "execution_count": 53,
   "id": "530b9db9-07cc-42ba-a950-2a6e1449b23c",
   "metadata": {},
   "outputs": [
    {
     "data": {
      "text/plain": [
       "array([[0.09003057, 0.24472847, 0.66524096]])"
      ]
     },
     "execution_count": 53,
     "metadata": {},
     "output_type": "execute_result"
    }
   ],
   "source": [
    "mySoftmax(fx4)"
   ]
  },
  {
   "cell_type": "code",
   "execution_count": 54,
   "id": "105a2951-ee01-4e96-9379-3ce582e95a97",
   "metadata": {},
   "outputs": [
    {
     "data": {
      "text/plain": [
       "1.0"
      ]
     },
     "execution_count": 54,
     "metadata": {},
     "output_type": "execute_result"
    }
   ],
   "source": [
    "np.sum(mySoftmax(fx4))"
   ]
  },
  {
   "cell_type": "code",
   "execution_count": 55,
   "id": "e833c966-5b23-471f-bc36-ff40b06696eb",
   "metadata": {},
   "outputs": [
    {
     "data": {
      "text/plain": [
       "array([[0.09003057, 0.24472847, 0.66524096]])"
      ]
     },
     "execution_count": 55,
     "metadata": {},
     "output_type": "execute_result"
    }
   ],
   "source": [
    "scipy.special.softmax(fx4)"
   ]
  },
  {
   "cell_type": "code",
   "execution_count": 56,
   "id": "0ee9aa37-f534-4928-adfb-3052ac2467b2",
   "metadata": {},
   "outputs": [
    {
     "data": {
      "text/plain": [
       "0.9999999999999999"
      ]
     },
     "execution_count": 56,
     "metadata": {},
     "output_type": "execute_result"
    }
   ],
   "source": [
    "np.sum(scipy.special.softmax(fx4))"
   ]
  },
  {
   "cell_type": "code",
   "execution_count": 57,
   "id": "00a27e35-3d28-43a7-b525-568f9e07aadb",
   "metadata": {},
   "outputs": [
    {
     "data": {
      "text/plain": [
       "tensor([[0.0900, 0.2447, 0.6652]])"
      ]
     },
     "execution_count": 57,
     "metadata": {},
     "output_type": "execute_result"
    }
   ],
   "source": [
    "torch.nn.functional.softmax(torch.Tensor(fx4), dim=1)"
   ]
  },
  {
   "cell_type": "code",
   "execution_count": 58,
   "id": "16c08e56-114a-4990-9f01-7e5072f5ba43",
   "metadata": {},
   "outputs": [
    {
     "data": {
      "text/plain": [
       "tensor(1.)"
      ]
     },
     "execution_count": 58,
     "metadata": {},
     "output_type": "execute_result"
    }
   ],
   "source": [
    "torch.sum(torch.nn.functional.softmax(torch.Tensor(fx4), dim=1))"
   ]
  },
  {
   "cell_type": "code",
   "execution_count": 59,
   "id": "00afca0e-ff5a-4dce-ad30-143202aed0dd",
   "metadata": {},
   "outputs": [
    {
     "data": {
      "text/plain": [
       "<tf.Tensor: shape=(1, 3), dtype=float64, numpy=array([[0.09003057, 0.24472847, 0.66524096]])>"
      ]
     },
     "execution_count": 59,
     "metadata": {},
     "output_type": "execute_result"
    }
   ],
   "source": [
    "tf.nn.softmax(fx4)"
   ]
  },
  {
   "cell_type": "code",
   "execution_count": 60,
   "id": "00928db7-dea6-43ce-88bc-ca4420710d53",
   "metadata": {},
   "outputs": [
    {
     "data": {
      "text/plain": [
       "<tf.Tensor: shape=(), dtype=float64, numpy=1.0>"
      ]
     },
     "execution_count": 60,
     "metadata": {},
     "output_type": "execute_result"
    }
   ],
   "source": [
    "tf.math.reduce_sum(tf.nn.softmax(fx4))"
   ]
  },
  {
   "cell_type": "markdown",
   "id": "0ac14020-f194-470a-8688-1f1fca5dfd90",
   "metadata": {},
   "source": [
    "#### Example 5"
   ]
  },
  {
   "cell_type": "code",
   "execution_count": 61,
   "id": "f34860fe-e23a-45bf-8bcf-86a15d737269",
   "metadata": {},
   "outputs": [],
   "source": [
    "# 3 example with 3 class\n",
    "fx5 = np.array([[2.0, 1.0, 0.1],[1.0, 3.0, 0.2],[0.2, 0.3, 1.5]], dtype=float)"
   ]
  },
  {
   "cell_type": "code",
   "execution_count": 62,
   "id": "91eaeba0-b817-49c3-a1d3-b196b127a8a6",
   "metadata": {},
   "outputs": [
    {
     "data": {
      "text/plain": [
       "(3, 3)"
      ]
     },
     "execution_count": 62,
     "metadata": {},
     "output_type": "execute_result"
    }
   ],
   "source": [
    "fx5.shape"
   ]
  },
  {
   "cell_type": "code",
   "execution_count": 63,
   "id": "8898abf1-2c06-40a2-9566-2da9e43d46ac",
   "metadata": {},
   "outputs": [
    {
     "data": {
      "text/plain": [
       "array([[0.65900114, 0.24243297, 0.09856589],\n",
       "       [0.11314284, 0.8360188 , 0.05083836],\n",
       "       [0.17317614, 0.19138923, 0.63543463]])"
      ]
     },
     "execution_count": 63,
     "metadata": {},
     "output_type": "execute_result"
    }
   ],
   "source": [
    "mySoftmax(fx5)"
   ]
  },
  {
   "cell_type": "code",
   "execution_count": 64,
   "id": "af7c5ee6-35f8-4901-bf9a-ade01b479d40",
   "metadata": {},
   "outputs": [
    {
     "data": {
      "text/plain": [
       "array([[1.],\n",
       "       [1.],\n",
       "       [1.]])"
      ]
     },
     "execution_count": 64,
     "metadata": {},
     "output_type": "execute_result"
    }
   ],
   "source": [
    "np.sum(mySoftmax(fx5),axis=1,keepdims=True)"
   ]
  },
  {
   "cell_type": "code",
   "execution_count": 65,
   "id": "17c600d7-7771-49bc-8f38-cc2e0d8baaad",
   "metadata": {},
   "outputs": [
    {
     "data": {
      "text/plain": [
       "array([[0.65900114, 0.24243297, 0.09856589],\n",
       "       [0.11314284, 0.8360188 , 0.05083836],\n",
       "       [0.17317614, 0.19138923, 0.63543463]])"
      ]
     },
     "execution_count": 65,
     "metadata": {},
     "output_type": "execute_result"
    }
   ],
   "source": [
    "scipy.special.softmax(fx5, axis=1)"
   ]
  },
  {
   "cell_type": "code",
   "execution_count": 66,
   "id": "1a229381-ab41-462e-9315-c6ff99558379",
   "metadata": {},
   "outputs": [
    {
     "data": {
      "text/plain": [
       "array([[1.],\n",
       "       [1.],\n",
       "       [1.]])"
      ]
     },
     "execution_count": 66,
     "metadata": {},
     "output_type": "execute_result"
    }
   ],
   "source": [
    "np.sum(scipy.special.softmax(fx5,axis=1), axis=1, keepdims=True)"
   ]
  },
  {
   "cell_type": "code",
   "execution_count": 67,
   "id": "76b4fb04-b52a-4165-83f8-9c7f1cb3cdff",
   "metadata": {},
   "outputs": [
    {
     "data": {
      "text/plain": [
       "tensor([[0.6590, 0.2424, 0.0986],\n",
       "        [0.1131, 0.8360, 0.0508],\n",
       "        [0.1732, 0.1914, 0.6354]])"
      ]
     },
     "execution_count": 67,
     "metadata": {},
     "output_type": "execute_result"
    }
   ],
   "source": [
    "torch.nn.functional.softmax(torch.Tensor(fx5), dim=1)"
   ]
  },
  {
   "cell_type": "code",
   "execution_count": 68,
   "id": "0aed0752-4423-4e97-9546-7994b12638dc",
   "metadata": {},
   "outputs": [
    {
     "data": {
      "text/plain": [
       "tensor([[1.0000],\n",
       "        [1.0000],\n",
       "        [1.0000]])"
      ]
     },
     "execution_count": 68,
     "metadata": {},
     "output_type": "execute_result"
    }
   ],
   "source": [
    "torch.sum(torch.nn.functional.softmax(torch.Tensor(fx5), dim=1), axis=1, keepdims=True)"
   ]
  },
  {
   "cell_type": "code",
   "execution_count": 69,
   "id": "6806c288-69d1-4c97-a133-f79f48232c8e",
   "metadata": {},
   "outputs": [
    {
     "data": {
      "text/plain": [
       "<tf.Tensor: shape=(3, 3), dtype=float64, numpy=\n",
       "array([[0.65900114, 0.24243297, 0.09856589],\n",
       "       [0.11314284, 0.8360188 , 0.05083836],\n",
       "       [0.17317614, 0.19138923, 0.63543463]])>"
      ]
     },
     "execution_count": 69,
     "metadata": {},
     "output_type": "execute_result"
    }
   ],
   "source": [
    "tf.nn.softmax(fx5)"
   ]
  },
  {
   "cell_type": "code",
   "execution_count": 70,
   "id": "f39bc8e6-a295-4924-a5fc-6e6da9ef8379",
   "metadata": {},
   "outputs": [
    {
     "data": {
      "text/plain": [
       "<tf.Tensor: shape=(3, 1), dtype=float64, numpy=\n",
       "array([[1.],\n",
       "       [1.],\n",
       "       [1.]])>"
      ]
     },
     "execution_count": 70,
     "metadata": {},
     "output_type": "execute_result"
    }
   ],
   "source": [
    "tf.math.reduce_sum(tf.nn.softmax(fx5),axis=1, keepdims=True)"
   ]
  },
  {
   "cell_type": "markdown",
   "id": "fc1eb5fc-1833-4d8b-97ef-f7124814ae00",
   "metadata": {},
   "source": [
    "### Numerical Stability for Softmax Function"
   ]
  },
  {
   "cell_type": "code",
   "execution_count": 71,
   "id": "1b58d3df-bd3e-4d86-a2d4-6b2505820246",
   "metadata": {},
   "outputs": [
    {
     "name": "stdout",
     "output_type": "stream",
     "text": [
      "z = [-9.99e+02 -7.99e+02 -7.10e+02 -7.09e+02 -1.00e+02 -5.00e+01 -1.00e+01\n",
      " -1.00e+00 -5.00e-01  0.00e+00  5.00e-01  1.00e+00  1.00e+01  5.00e+01\n",
      "  1.00e+02  7.09e+02  7.10e+02  9.99e+02  9.90e+99]\n",
      "np.exp(z) = [0.00000000e+000 0.00000000e+000 4.47628623e-309 1.21678075e-308\n",
      " 3.72007598e-044 1.92874985e-022 4.53999298e-005 3.67879441e-001\n",
      " 6.06530660e-001 1.00000000e+000 1.64872127e+000 2.71828183e+000\n",
      " 2.20264658e+004 5.18470553e+021 2.68811714e+043 8.21840746e+307\n",
      "             inf             inf             inf]\n"
     ]
    },
    {
     "name": "stderr",
     "output_type": "stream",
     "text": [
      "/var/folders/1h/s4bz3m4n32l_ljm5g40dytrw0000gp/T/ipykernel_3726/3012773297.py:3: RuntimeWarning: overflow encountered in exp\n",
      "  print(f\"np.exp(z) = {np.exp(z1)}\")\n"
     ]
    }
   ],
   "source": [
    "z1 = np.array([-999., -799, -710, -709, -100, -50, -10, -1, -0.5, 0, 0.5, 1, 10, 50, 100, 709, 710, 999, 9.9e+99]).astype(np.float64)\n",
    "print(f\"z = {z1}\")\n",
    "print(f\"np.exp(z) = {np.exp(z1)}\")"
   ]
  },
  {
   "cell_type": "markdown",
   "id": "a4bc2aa6-1133-4ff3-8d2f-ef12e3ef6edd",
   "metadata": {},
   "source": [
    "**Similar to Sigmoid, the system could not support natural log > (higher than) 709.**"
   ]
  },
  {
   "cell_type": "code",
   "execution_count": 72,
   "id": "b7fb01fe-52f1-4c57-b7a7-b80b07a04003",
   "metadata": {},
   "outputs": [
    {
     "name": "stderr",
     "output_type": "stream",
     "text": [
      "/var/folders/1h/s4bz3m4n32l_ljm5g40dytrw0000gp/T/ipykernel_3726/3972157667.py:1: RuntimeWarning: overflow encountered in exp\n",
      "  soft1 = np.exp(z1)/np.sum(np.exp(z1))\n",
      "/var/folders/1h/s4bz3m4n32l_ljm5g40dytrw0000gp/T/ipykernel_3726/3972157667.py:1: RuntimeWarning: invalid value encountered in divide\n",
      "  soft1 = np.exp(z1)/np.sum(np.exp(z1))\n"
     ]
    },
    {
     "data": {
      "text/plain": [
       "array([ 0.,  0.,  0.,  0.,  0.,  0.,  0.,  0.,  0.,  0.,  0.,  0.,  0.,\n",
       "        0.,  0.,  0., nan, nan, nan])"
      ]
     },
     "execution_count": 72,
     "metadata": {},
     "output_type": "execute_result"
    }
   ],
   "source": [
    "soft1 = np.exp(z1)/np.sum(np.exp(z1))\n",
    "soft1"
   ]
  },
  {
   "cell_type": "markdown",
   "id": "05f65f7a-a9a7-4c7f-b322-ef46c2147400",
   "metadata": {},
   "source": [
    "Below will show that even with 710, the standard formula will failed."
   ]
  },
  {
   "cell_type": "code",
   "execution_count": 73,
   "id": "7f7634ba-c19e-4d01-aa37-92cd41d8aad8",
   "metadata": {},
   "outputs": [
    {
     "data": {
      "text/plain": [
       "array([710.])"
      ]
     },
     "execution_count": 73,
     "metadata": {},
     "output_type": "execute_result"
    }
   ],
   "source": [
    "z2 = np.array([710]).astype(np.float64)\n",
    "z2"
   ]
  },
  {
   "cell_type": "code",
   "execution_count": 74,
   "id": "a1aee70d-7c0f-47bb-8a54-66171cc93d64",
   "metadata": {},
   "outputs": [
    {
     "name": "stderr",
     "output_type": "stream",
     "text": [
      "/var/folders/1h/s4bz3m4n32l_ljm5g40dytrw0000gp/T/ipykernel_3726/633897959.py:1: RuntimeWarning: overflow encountered in exp\n",
      "  soft2 = np.exp(z2)/np.sum(np.exp(z2))\n",
      "/var/folders/1h/s4bz3m4n32l_ljm5g40dytrw0000gp/T/ipykernel_3726/633897959.py:1: RuntimeWarning: invalid value encountered in divide\n",
      "  soft2 = np.exp(z2)/np.sum(np.exp(z2))\n"
     ]
    },
    {
     "data": {
      "text/plain": [
       "array([nan])"
      ]
     },
     "execution_count": 74,
     "metadata": {},
     "output_type": "execute_result"
    }
   ],
   "source": [
    "soft2 = np.exp(z2)/np.sum(np.exp(z2))\n",
    "soft2"
   ]
  },
  {
   "cell_type": "markdown",
   "id": "b9a7879a-179a-4e15-b0cb-45fcbcd1a4c2",
   "metadata": {},
   "source": [
    "Using 709 instead"
   ]
  },
  {
   "cell_type": "code",
   "execution_count": 75,
   "id": "b2510c92-aaef-43e2-955c-b35bc6ea4582",
   "metadata": {},
   "outputs": [
    {
     "data": {
      "text/plain": [
       "array([709.])"
      ]
     },
     "execution_count": 75,
     "metadata": {},
     "output_type": "execute_result"
    }
   ],
   "source": [
    "z3 = np.array([709]).astype(np.float64)\n",
    "z3"
   ]
  },
  {
   "cell_type": "code",
   "execution_count": 76,
   "id": "2b4179d2-6bdf-4cd0-889c-a24890ee42bf",
   "metadata": {},
   "outputs": [
    {
     "data": {
      "text/plain": [
       "array([1.])"
      ]
     },
     "execution_count": 76,
     "metadata": {},
     "output_type": "execute_result"
    }
   ],
   "source": [
    "soft3 = np.exp(z3)/np.sum(np.exp(z3))\n",
    "soft3"
   ]
  },
  {
   "cell_type": "markdown",
   "id": "ca0358fa-3df5-4b81-8230-0b658ae80b14",
   "metadata": {},
   "source": [
    "In order to deal with the overflow issue, instead of $z$, we use $z - max(z)$."
   ]
  },
  {
   "cell_type": "code",
   "execution_count": 77,
   "id": "b46a4605-ff46-4f91-81e0-0495e366ae40",
   "metadata": {},
   "outputs": [
    {
     "data": {
      "text/plain": [
       "array([-9.99e+02, -7.99e+02, -7.10e+02, -7.09e+02, -1.00e+02, -5.00e+01,\n",
       "       -1.00e+01, -1.00e+00, -5.00e-01,  0.00e+00,  5.00e-01,  1.00e+00,\n",
       "        1.00e+01,  5.00e+01,  1.00e+02,  7.09e+02,  7.10e+02,  9.99e+02,\n",
       "        9.90e+99])"
      ]
     },
     "execution_count": 77,
     "metadata": {},
     "output_type": "execute_result"
    }
   ],
   "source": [
    "z1"
   ]
  },
  {
   "cell_type": "code",
   "execution_count": 78,
   "id": "cf41b347-982c-4b48-a035-f7a916183bac",
   "metadata": {},
   "outputs": [
    {
     "data": {
      "text/plain": [
       "9.9e+99"
      ]
     },
     "execution_count": 78,
     "metadata": {},
     "output_type": "execute_result"
    }
   ],
   "source": [
    "zmax = np.max(z1)\n",
    "zmax"
   ]
  },
  {
   "cell_type": "code",
   "execution_count": 79,
   "id": "8bf3b359-af84-4357-97b9-fcff151907bd",
   "metadata": {},
   "outputs": [],
   "source": [
    "expz = np.exp(z1 - zmax)"
   ]
  },
  {
   "cell_type": "code",
   "execution_count": 80,
   "id": "31996e59-07ac-4f6f-bf37-9ecf8d6e7043",
   "metadata": {},
   "outputs": [
    {
     "data": {
      "text/plain": [
       "array([0., 0., 0., 0., 0., 0., 0., 0., 0., 0., 0., 0., 0., 0., 0., 0., 0.,\n",
       "       0., 1.])"
      ]
     },
     "execution_count": 80,
     "metadata": {},
     "output_type": "execute_result"
    }
   ],
   "source": [
    "softmax = expz/np.sum(expz)\n",
    "softmax"
   ]
  },
  {
   "cell_type": "code",
   "execution_count": 81,
   "id": "422b600c-9f86-4d55-b949-b087fc49b0bd",
   "metadata": {},
   "outputs": [
    {
     "data": {
      "text/plain": [
       "array([0., 0., 0., 0., 0., 0., 0., 0., 0., 0., 0., 0., 0., 0., 0., 0., 0.,\n",
       "       0., 1.])"
      ]
     },
     "execution_count": 81,
     "metadata": {},
     "output_type": "execute_result"
    }
   ],
   "source": [
    "soft4 = np.exp(z1 - np.max(z1))/np.sum(np.exp(z1 - np.max(z1)))\n",
    "np.round(soft4, 4)"
   ]
  },
  {
   "cell_type": "markdown",
   "id": "b5c85ab0-c411-45c4-a8fd-068105b51da1",
   "metadata": {},
   "source": [
    "Using the formula above, it will help to deal with the large natural log number. So while implementing Softmax function we should use the following formula:\n",
    "$$P(y=k|x)_i = \\frac{e^{z-max(z)}}{\\sum\\limits_{j=1}^{k}e^{z-max(z)}}$$\n",
    "\n",
    "**The $max$ should be on a per record basis, so we need to set the max function `dims` to a per row basis.**"
   ]
  },
  {
   "cell_type": "markdown",
   "id": "45d72e76-19e7-4b21-83e0-869d176953f8",
   "metadata": {},
   "source": [
    "**Reference**\n",
    "\n",
    "- https://community.deeplearning.ai/t/softmax-regression-constructing-custom-function/684236/13\n",
    "- https://stackoverflow.com/questions/42599498/numerically-stable-softmax\n",
    "- https://medium.com/@harrietfiagbor/softmax-uncovered-balancing-precision-with-numerical-stability-in-deep-learning-b8876490d411\n",
    "- https://jaykmody.com/blog/stable-softmax/\n",
    "- https://chatgpt.com/share/671f4635-cc60-8000-be34-f2bd9efbfdb4"
   ]
  },
  {
   "cell_type": "markdown",
   "id": "2e69a836-72e3-4e56-bcbc-fc0ea442d8d7",
   "metadata": {},
   "source": [
    "Please also note that although the above formula could handle any number larger than 710, it still could not handle any infinity number."
   ]
  },
  {
   "cell_type": "code",
   "execution_count": 82,
   "id": "f7b93c62-8ab5-4c95-8992-f2f7ca53ef28",
   "metadata": {},
   "outputs": [
    {
     "data": {
      "text/plain": [
       "array([100., 200.,  inf])"
      ]
     },
     "execution_count": 82,
     "metadata": {},
     "output_type": "execute_result"
    }
   ],
   "source": [
    "z5 = np.array([100, 200, 9.9e+308]).astype(np.float64)\n",
    "z5"
   ]
  },
  {
   "cell_type": "code",
   "execution_count": 83,
   "id": "73b4b786-0e9c-4c5b-b581-cffaa9d5a31d",
   "metadata": {},
   "outputs": [
    {
     "name": "stderr",
     "output_type": "stream",
     "text": [
      "/var/folders/1h/s4bz3m4n32l_ljm5g40dytrw0000gp/T/ipykernel_3726/2882242726.py:1: RuntimeWarning: invalid value encountered in subtract\n",
      "  soft5 = np.exp(z5 - np.max(z5))/np.sum(np.exp(z5 - np.max(z5)))\n"
     ]
    },
    {
     "data": {
      "text/plain": [
       "array([nan, nan, nan])"
      ]
     },
     "execution_count": 83,
     "metadata": {},
     "output_type": "execute_result"
    }
   ],
   "source": [
    "soft5 = np.exp(z5 - np.max(z5))/np.sum(np.exp(z5 - np.max(z5)))\n",
    "np.round(soft5, 4)"
   ]
  },
  {
   "cell_type": "markdown",
   "id": "3028d158-cb17-4360-b113-8e2c0c6e6488",
   "metadata": {},
   "source": [
    "It will still produce error since `9.9e+308` is recognized as `inf`. The maximum it will reach as inf is `9.9e+308`.`9.9e+307` will be recognized."
   ]
  },
  {
   "cell_type": "code",
   "execution_count": 84,
   "id": "9c3e30d9-4ff8-440b-ac1f-8cac1ddd9a11",
   "metadata": {},
   "outputs": [
    {
     "data": {
      "text/plain": [
       "array([9.9e+307])"
      ]
     },
     "execution_count": 84,
     "metadata": {},
     "output_type": "execute_result"
    }
   ],
   "source": [
    "z6 = np.array([9.9e+307]).astype(np.float64)\n",
    "z6"
   ]
  },
  {
   "cell_type": "code",
   "execution_count": 85,
   "id": "5b14e3f7-9be0-4d47-83af-727fa1946c92",
   "metadata": {},
   "outputs": [
    {
     "data": {
      "text/plain": [
       "array([1.])"
      ]
     },
     "execution_count": 85,
     "metadata": {},
     "output_type": "execute_result"
    }
   ],
   "source": [
    "soft6 = np.exp(z6 - np.max(z6))/np.sum(np.exp(z6 - np.max(z6)))\n",
    "np.round(soft6, 4)"
   ]
  },
  {
   "cell_type": "markdown",
   "id": "12f1811d-a882-4fbb-901c-5a2bd3250442",
   "metadata": {},
   "source": [
    "The above shows that it can support `9.9e+307`."
   ]
  },
  {
   "cell_type": "markdown",
   "id": "ef8e3177-9aa5-48b5-ab48-70fc9d5151f2",
   "metadata": {},
   "source": [
    "Let us construct a limit when z is larger than 9.9e+307"
   ]
  },
  {
   "cell_type": "code",
   "execution_count": 86,
   "id": "e209a1d8-a2ed-44be-8838-cd2e56b9177a",
   "metadata": {},
   "outputs": [
    {
     "name": "stdout",
     "output_type": "stream",
     "text": [
      "Limit to 9.9e+307\n"
     ]
    }
   ],
   "source": [
    "z7 = 9.9e+308\n",
    "if math.isinf(z7):\n",
    "    z7 = 9.9e+307\n",
    "    print('Limit to 9.9e+307')\n",
    "else:\n",
    "    print(z7)"
   ]
  },
  {
   "cell_type": "code",
   "execution_count": 87,
   "id": "73c36d92-9226-4e8b-8663-c507aa4b2191",
   "metadata": {},
   "outputs": [
    {
     "name": "stdout",
     "output_type": "stream",
     "text": [
      "3.1e+30\n"
     ]
    }
   ],
   "source": [
    "z8 = 3.1e+30\n",
    "if math.isinf(z8):\n",
    "    z = 9.9e+307\n",
    "    print('Limit to 9.9e+307')\n",
    "else:\n",
    "    print(z8)"
   ]
  },
  {
   "cell_type": "code",
   "execution_count": 88,
   "id": "1f450c9c-8fb3-4531-8fdd-c1e73c83bb57",
   "metadata": {},
   "outputs": [
    {
     "data": {
      "text/plain": [
       "array([3.1e+030, 9.9e+307, 2.3e+001, 3.4e+001])"
      ]
     },
     "execution_count": 88,
     "metadata": {},
     "output_type": "execute_result"
    }
   ],
   "source": [
    "z9 = np.array([3.1e+30,9.9e+308, 23, 34])\n",
    "z9 = np.where(np.isinf(z9),  9.9e+307, z9)\n",
    "z9"
   ]
  },
  {
   "cell_type": "markdown",
   "id": "48c88930-f147-4576-9342-69e330f7fcd3",
   "metadata": {},
   "source": [
    "#### Redefine Softmax Function"
   ]
  },
  {
   "cell_type": "code",
   "execution_count": 89,
   "id": "6e98ce67-cd88-46d4-b519-9880d1a03204",
   "metadata": {},
   "outputs": [],
   "source": [
    "def mySoftmax_v2(fx):\n",
    "    '''\n",
    "    This Softmax function use the formula np.exp(X)/np.sum(np.exp(X))\n",
    "    For matrix this function only accepts columns as features.\n",
    "    The Softmax will work on per data observation in rows\n",
    "\n",
    "    INPUT:\n",
    "    fx = fx should be in (m,n) or (m,) \n",
    "\n",
    "    OUTPUT:\n",
    "    softmax (matrix) if there is more than one feature. All the columns in a specific row added up to 1.\n",
    "    '''\n",
    "    # Taking care of infinity number\n",
    "    fx = np.where(np.isinf(fx),  9.9e+307, fx)\n",
    "    #print(fx)\n",
    "\n",
    "    # if fx is 1d array, then use the following direct computation\n",
    "    if fx.ndim == 1:\n",
    "        softmax = np.exp(fx - np.max(fx))/np.sum(np.exp(fx - np.max(fx)))\n",
    "    else:\n",
    "        # process following if it is 2D array\n",
    "        m,n = fx.shape\n",
    "        # If it is only one column, use the following computation\n",
    "        if n == 1:\n",
    "            softmax = np.exp(fx - np.max(fx))/np.sum(np.exp(fx - np.max(fx)), keepdims=True)\n",
    "        else:\n",
    "            # If there is more than one column use axis = 1\n",
    "            softmax = np.exp(fx - np.max(fx, axis=1, keepdims=True))/np.sum(np.exp(fx - np.max(fx, axis=1, keepdims=True)), axis=1, keepdims=True)\n",
    "    return softmax"
   ]
  },
  {
   "cell_type": "markdown",
   "id": "806497fb-c219-458b-9c91-ec59a99ad02f",
   "metadata": {},
   "source": [
    "#### Testing with Inf Number"
   ]
  },
  {
   "cell_type": "code",
   "execution_count": 90,
   "id": "37388d6c-82e6-4d99-a357-6389c369b06a",
   "metadata": {},
   "outputs": [
    {
     "data": {
      "text/plain": [
       "array([0., 1., 0., 0.])"
      ]
     },
     "execution_count": 90,
     "metadata": {},
     "output_type": "execute_result"
    }
   ],
   "source": [
    "z10 = np.array([3.1e+30,9.9e+555, 23, 34])\n",
    "soft10 = mySoftmax_v2(z10)\n",
    "soft10"
   ]
  },
  {
   "cell_type": "code",
   "execution_count": 91,
   "id": "9c07912b-8b55-482f-b1fd-1e9e5ed103e7",
   "metadata": {},
   "outputs": [
    {
     "data": {
      "text/plain": [
       "array([3.1e+030, 9.9e+307, 2.3e+001, 3.4e+001])"
      ]
     },
     "execution_count": 91,
     "metadata": {},
     "output_type": "execute_result"
    }
   ],
   "source": [
    "z10 = np.array([3.1e+30,9.9e+555, 23, 34])\n",
    "z10_new = np.where(np.isinf(z10),  9.9e+307, z10)\n",
    "z10_new"
   ]
  },
  {
   "cell_type": "code",
   "execution_count": 92,
   "id": "c691e84b-bbcc-487c-a92f-f604af0a82a2",
   "metadata": {},
   "outputs": [
    {
     "data": {
      "text/plain": [
       "array([0., 1., 0., 0.])"
      ]
     },
     "execution_count": 92,
     "metadata": {},
     "output_type": "execute_result"
    }
   ],
   "source": [
    "scipy.special.softmax(z10_new)"
   ]
  },
  {
   "cell_type": "code",
   "execution_count": 93,
   "id": "b5b27985-5592-4350-938e-18f25a44c5f9",
   "metadata": {},
   "outputs": [
    {
     "data": {
      "text/plain": [
       "<tf.Tensor: shape=(4,), dtype=float64, numpy=array([0., 1., 0., 0.])>"
      ]
     },
     "execution_count": 93,
     "metadata": {},
     "output_type": "execute_result"
    }
   ],
   "source": [
    "tf.nn.softmax(z10_new)"
   ]
  },
  {
   "cell_type": "markdown",
   "id": "d5591702-68cb-4d2e-9ee8-f8a59b86ac85",
   "metadata": {},
   "source": [
    "#### Other Test"
   ]
  },
  {
   "cell_type": "code",
   "execution_count": 94,
   "id": "d91f231d-ca7c-465c-92ac-d4128f294593",
   "metadata": {},
   "outputs": [
    {
     "data": {
      "text/plain": [
       "array([0.    , 0.    , 0.    , 0.    , 0.    , 0.    , 0.    , 0.    ,\n",
       "       0.    , 0.    , 0.    , 0.    , 0.    , 0.2689, 0.7311])"
      ]
     },
     "execution_count": 94,
     "metadata": {},
     "output_type": "execute_result"
    }
   ],
   "source": [
    "z11 = np.array([-710, -709, -100, -50, -10, -1, -0.5, 0, 0.5, 1, 10, 50, 100, 709, 710]).astype(np.float64)\n",
    "\n",
    "soft11 = mySoftmax_v2(z11)\n",
    "np.round(soft11, 4)"
   ]
  },
  {
   "cell_type": "code",
   "execution_count": 95,
   "id": "1214c135-9512-4f43-9b06-fad1b878368b",
   "metadata": {},
   "outputs": [
    {
     "data": {
      "text/plain": [
       "array([0.  , 0.  , 0.  , 0.  , 0.  , 0.  , 0.01, 0.03, 0.09, 0.23, 0.63])"
      ]
     },
     "execution_count": 95,
     "metadata": {},
     "output_type": "execute_result"
    }
   ],
   "source": [
    "z12 = np.array([700, 701, 702, 703, 704, 705, 706, 707, 708, 709, 710]).astype(np.float64)\n",
    "\n",
    "soft12 = mySoftmax_v2(z12)\n",
    "np.round(soft12, 2)"
   ]
  },
  {
   "cell_type": "code",
   "execution_count": 96,
   "id": "fb584e6d-1afb-422e-bd30-4267d68594e1",
   "metadata": {},
   "outputs": [
    {
     "data": {
      "text/plain": [
       "1.0"
      ]
     },
     "execution_count": 96,
     "metadata": {},
     "output_type": "execute_result"
    }
   ],
   "source": [
    "np.sum(soft12)"
   ]
  },
  {
   "cell_type": "code",
   "execution_count": 97,
   "id": "21c9fa62-feb5-44a1-a83c-bef5560f23e6",
   "metadata": {},
   "outputs": [
    {
     "data": {
      "text/plain": [
       "array([4.96991988e-40, 8.19401262e-40, 1.35096429e-39, 2.22736356e-39,\n",
       "       1.80485139e-35, 2.61027907e-23, 1.00000000e+00])"
      ]
     },
     "execution_count": 97,
     "metadata": {},
     "output_type": "execute_result"
    }
   ],
   "source": [
    "z13 = np.array([ -0.5, 0, 0.5, 1, 10, 38, 90]).astype(np.float64)\n",
    "soft13 = mySoftmax_v2(z13)\n",
    "soft13"
   ]
  },
  {
   "cell_type": "code",
   "execution_count": 98,
   "id": "6356a468-455c-4c37-af8d-fa99bcc0c1d7",
   "metadata": {},
   "outputs": [
    {
     "data": {
      "text/plain": [
       "1.0"
      ]
     },
     "execution_count": 98,
     "metadata": {},
     "output_type": "execute_result"
    }
   ],
   "source": [
    "np.sum(soft13)"
   ]
  },
  {
   "cell_type": "markdown",
   "id": "6bf4bef7-c87d-4229-bf63-2354763c1a42",
   "metadata": {},
   "source": [
    "#### 2D Matrix"
   ]
  },
  {
   "cell_type": "code",
   "execution_count": 99,
   "id": "4000e36c-e1de-4f94-b22a-8f7f88e16f71",
   "metadata": {},
   "outputs": [
    {
     "data": {
      "text/plain": [
       "array([[-1000.26485598,  -997.81571908,  -998.64495317,  -999.29794265,\n",
       "         -999.53348411],\n",
       "       [ -998.56049186,  -998.45708723,  -998.9758876 ,  -999.92766094,\n",
       "         -999.31561873],\n",
       "       [-1000.12237343,  -999.42659443,  -998.90487344,  -999.36923721,\n",
       "         -999.72621846]])"
      ]
     },
     "execution_count": 99,
     "metadata": {},
     "output_type": "execute_result"
    }
   ],
   "source": [
    "np.random.seed(135)\n",
    "z20 = np.random.randn(3,5) - 999\n",
    "z20"
   ]
  },
  {
   "cell_type": "code",
   "execution_count": 100,
   "id": "8dc70193-d8ee-4d5d-ba9c-617256999a02",
   "metadata": {},
   "outputs": [
    {
     "data": {
      "text/plain": [
       "array([[0.04476538, 0.51830917, 0.22618152, 0.11772464, 0.09301929],\n",
       "       [0.28622152, 0.3174025 , 0.18892882, 0.07293707, 0.13451009],\n",
       "       [0.10006254, 0.20065246, 0.33808432, 0.21249779, 0.1487029 ]])"
      ]
     },
     "execution_count": 100,
     "metadata": {},
     "output_type": "execute_result"
    }
   ],
   "source": [
    "soft20 = mySoftmax_v2(z20)\n",
    "soft20"
   ]
  },
  {
   "cell_type": "code",
   "execution_count": 101,
   "id": "37be778a-36b4-4596-b2b3-2c8e09fc0aef",
   "metadata": {},
   "outputs": [
    {
     "data": {
      "text/plain": [
       "array([[1.],\n",
       "       [1.],\n",
       "       [1.]])"
      ]
     },
     "execution_count": 101,
     "metadata": {},
     "output_type": "execute_result"
    }
   ],
   "source": [
    "np.sum(soft20,axis=1, keepdims=True)"
   ]
  },
  {
   "cell_type": "markdown",
   "id": "919b1b32-3dbb-4146-a25d-31e7afc2f246",
   "metadata": {},
   "source": [
    "#### Retest Example 1"
   ]
  },
  {
   "cell_type": "code",
   "execution_count": 102,
   "id": "217e6610-cfc2-40e2-9080-fdd594133dd8",
   "metadata": {},
   "outputs": [],
   "source": [
    "# One training example with 4 classes\n",
    "fx1 = np.array([2, 4, 5, 3], dtype=float)"
   ]
  },
  {
   "cell_type": "code",
   "execution_count": 103,
   "id": "c7d44a15-b2a7-40b4-995c-310f7fe4d646",
   "metadata": {},
   "outputs": [
    {
     "data": {
      "text/plain": [
       "array([0.0320586 , 0.23688282, 0.64391426, 0.08714432])"
      ]
     },
     "execution_count": 103,
     "metadata": {},
     "output_type": "execute_result"
    }
   ],
   "source": [
    "mySoftmax_v2(fx1)"
   ]
  },
  {
   "cell_type": "markdown",
   "id": "31bf327d-6fc7-49cb-a1c4-6bbdab3fbd86",
   "metadata": {},
   "source": [
    "**Expected Outcome: [0.0320586  0.23688282 0.64391426 0.08714432]**"
   ]
  },
  {
   "cell_type": "code",
   "execution_count": 104,
   "id": "26999543-6763-41d9-aa04-deabb9e14344",
   "metadata": {},
   "outputs": [
    {
     "data": {
      "text/plain": [
       "0.9999999999999999"
      ]
     },
     "execution_count": 104,
     "metadata": {},
     "output_type": "execute_result"
    }
   ],
   "source": [
    "np.sum(mySoftmax_v2(fx1))"
   ]
  },
  {
   "cell_type": "code",
   "execution_count": 105,
   "id": "26de7aa5-6317-47f6-a1ed-6fe1071c36ec",
   "metadata": {},
   "outputs": [
    {
     "data": {
      "text/plain": [
       "array([0.0320586 , 0.23688282, 0.64391426, 0.08714432])"
      ]
     },
     "execution_count": 105,
     "metadata": {},
     "output_type": "execute_result"
    }
   ],
   "source": [
    "scipy.special.softmax(fx1)"
   ]
  },
  {
   "cell_type": "code",
   "execution_count": 106,
   "id": "9904a621-d28b-435d-90c6-1960a9efd115",
   "metadata": {},
   "outputs": [
    {
     "data": {
      "text/plain": [
       "0.9999999999999999"
      ]
     },
     "execution_count": 106,
     "metadata": {},
     "output_type": "execute_result"
    }
   ],
   "source": [
    "np.sum(scipy.special.softmax(fx1))"
   ]
  },
  {
   "cell_type": "markdown",
   "id": "7f75c267-2569-44e1-a153-96d0b441e123",
   "metadata": {},
   "source": [
    "#### Retest Example 2"
   ]
  },
  {
   "cell_type": "code",
   "execution_count": 107,
   "id": "5b37183a-1e5c-4a96-a292-9eb971c6fa7d",
   "metadata": {},
   "outputs": [],
   "source": [
    "# 2 features and 3 examples\n",
    "# y label has 3 class\n",
    "X2 = np.array([[1, 3], [5,4], [8, 9]])\n",
    "y2 = np.array([0, 1, 2]).reshape(-1,1)"
   ]
  },
  {
   "cell_type": "code",
   "execution_count": 108,
   "id": "94b71eb0-f8de-435a-b33d-559c656c2f06",
   "metadata": {},
   "outputs": [],
   "source": [
    "# class 0: w_0 = 0.2, w_1 = 0.3, b = 0.1\n",
    "# class 1: w_0 = 0.1, w_1 = 0.2, b = 0.3\n",
    "# class 2: w_0 = 0.3, w_1 = 0.4, b = 0.5\n",
    "W = np.array([[0.2, 0.1, 0.3],[0.3, 0.2, 0.4]])\n",
    "b = np.array([[0.1,0.3,0.5]])"
   ]
  },
  {
   "cell_type": "code",
   "execution_count": 109,
   "id": "4adf25c6-6cab-4c6e-809c-b2861d3b5f24",
   "metadata": {},
   "outputs": [
    {
     "data": {
      "text/plain": [
       "array([[1.2, 1. , 2. ],\n",
       "       [2.3, 1.6, 3.6],\n",
       "       [4.4, 2.9, 6.5]])"
      ]
     },
     "execution_count": 109,
     "metadata": {},
     "output_type": "execute_result"
    }
   ],
   "source": [
    "# Each training example should have 1 by 3 row vector, one prediction for each class\n",
    "# 3 training example should return 3 by 3 matrix\n",
    "fx2 = X2@W + b\n",
    "fx2"
   ]
  },
  {
   "cell_type": "code",
   "execution_count": 110,
   "id": "a1ff924b-571d-4762-a3ee-7a419a87a9fa",
   "metadata": {},
   "outputs": [
    {
     "data": {
      "text/plain": [
       "array([[0.24726331, 0.20244208, 0.55029462],\n",
       "       [0.19357779, 0.09612788, 0.71029433],\n",
       "       [0.10650421, 0.0237643 , 0.86973149]])"
      ]
     },
     "execution_count": 110,
     "metadata": {},
     "output_type": "execute_result"
    }
   ],
   "source": [
    "mySoftmax(fx2)"
   ]
  },
  {
   "cell_type": "code",
   "execution_count": 111,
   "id": "926044d8-3e49-4003-9b87-89e4b63be7a9",
   "metadata": {},
   "outputs": [
    {
     "data": {
      "text/plain": [
       "array([[0.24726331, 0.20244208, 0.55029462],\n",
       "       [0.19357779, 0.09612788, 0.71029433],\n",
       "       [0.10650421, 0.0237643 , 0.86973149]])"
      ]
     },
     "execution_count": 111,
     "metadata": {},
     "output_type": "execute_result"
    }
   ],
   "source": [
    "mySoftmax_v2(fx2)"
   ]
  },
  {
   "cell_type": "code",
   "execution_count": 112,
   "id": "e690fe99-6e6d-437f-b833-98fe3b96f1f7",
   "metadata": {},
   "outputs": [
    {
     "data": {
      "text/plain": [
       "array([[1.],\n",
       "       [1.],\n",
       "       [1.]])"
      ]
     },
     "execution_count": 112,
     "metadata": {},
     "output_type": "execute_result"
    }
   ],
   "source": [
    "np.sum(mySoftmax_v2(fx2), axis = 1, keepdims=True)"
   ]
  },
  {
   "cell_type": "code",
   "execution_count": 113,
   "id": "37d96103-5275-40d2-9cd7-50abbf2c3aa6",
   "metadata": {},
   "outputs": [
    {
     "data": {
      "text/plain": [
       "array([[0.24726331, 0.20244208, 0.55029462],\n",
       "       [0.19357779, 0.09612788, 0.71029433],\n",
       "       [0.10650421, 0.0237643 , 0.86973149]])"
      ]
     },
     "execution_count": 113,
     "metadata": {},
     "output_type": "execute_result"
    }
   ],
   "source": [
    "scipy.special.softmax(fx2, axis = 1)"
   ]
  },
  {
   "cell_type": "code",
   "execution_count": 114,
   "id": "6cab0faa-0bf4-4a12-aa04-481c086c5bdc",
   "metadata": {},
   "outputs": [
    {
     "data": {
      "text/plain": [
       "array([[1.],\n",
       "       [1.],\n",
       "       [1.]])"
      ]
     },
     "execution_count": 114,
     "metadata": {},
     "output_type": "execute_result"
    }
   ],
   "source": [
    "np.sum(scipy.special.softmax(fx2, axis=1), axis = 1, keepdims=True)"
   ]
  },
  {
   "cell_type": "code",
   "execution_count": 115,
   "id": "365d0d84-f103-4af1-b61a-690dfebba2d3",
   "metadata": {},
   "outputs": [
    {
     "data": {
      "text/plain": [
       "<tf.Tensor: shape=(3, 3), dtype=float64, numpy=\n",
       "array([[0.24726331, 0.20244208, 0.55029462],\n",
       "       [0.19357779, 0.09612788, 0.71029433],\n",
       "       [0.10650421, 0.0237643 , 0.86973149]])>"
      ]
     },
     "execution_count": 115,
     "metadata": {},
     "output_type": "execute_result"
    }
   ],
   "source": [
    "tf.nn.softmax(fx2)"
   ]
  },
  {
   "cell_type": "code",
   "execution_count": 116,
   "id": "e47e084c-6a8e-435d-9e71-4a03ed35d0a4",
   "metadata": {},
   "outputs": [
    {
     "data": {
      "text/plain": [
       "<tf.Tensor: shape=(3, 1), dtype=float64, numpy=\n",
       "array([[1.],\n",
       "       [1.],\n",
       "       [1.]])>"
      ]
     },
     "execution_count": 116,
     "metadata": {},
     "output_type": "execute_result"
    }
   ],
   "source": [
    "tf.math.reduce_sum(tf.nn.softmax(fx2),axis=1, keepdims=True)"
   ]
  },
  {
   "cell_type": "markdown",
   "id": "7b519c75-ade3-451a-9c37-4410436e495c",
   "metadata": {},
   "source": [
    "#### Retest Example 3"
   ]
  },
  {
   "cell_type": "code",
   "execution_count": 117,
   "id": "033c9343-5382-43f9-8af9-fe802fd3e39a",
   "metadata": {},
   "outputs": [],
   "source": [
    "# One example 3 classes\n",
    "fx3 = np.array([2.0, 1.0, 0.1],dtype=float)"
   ]
  },
  {
   "cell_type": "code",
   "execution_count": 118,
   "id": "03b23126-de64-4f50-9d0d-5ef8678124b3",
   "metadata": {},
   "outputs": [
    {
     "data": {
      "text/plain": [
       "array([0.65900114, 0.24243297, 0.09856589])"
      ]
     },
     "execution_count": 118,
     "metadata": {},
     "output_type": "execute_result"
    }
   ],
   "source": [
    "mySoftmax_v2(fx3)"
   ]
  },
  {
   "cell_type": "code",
   "execution_count": 119,
   "id": "acc6b713-72f6-4015-9af9-dc5137b883cd",
   "metadata": {},
   "outputs": [
    {
     "data": {
      "text/plain": [
       "1.0"
      ]
     },
     "execution_count": 119,
     "metadata": {},
     "output_type": "execute_result"
    }
   ],
   "source": [
    "np.sum(mySoftmax_v2(fx3))"
   ]
  },
  {
   "cell_type": "code",
   "execution_count": 120,
   "id": "69a11921-04ad-49c3-a380-8d6f8f44d4e3",
   "metadata": {},
   "outputs": [
    {
     "data": {
      "text/plain": [
       "array([0.65900114, 0.24243297, 0.09856589])"
      ]
     },
     "execution_count": 120,
     "metadata": {},
     "output_type": "execute_result"
    }
   ],
   "source": [
    "scipy.special.softmax(fx3)"
   ]
  },
  {
   "cell_type": "code",
   "execution_count": 121,
   "id": "10e506ac-5eef-4fe1-b06c-019645d68606",
   "metadata": {},
   "outputs": [
    {
     "data": {
      "text/plain": [
       "1.0"
      ]
     },
     "execution_count": 121,
     "metadata": {},
     "output_type": "execute_result"
    }
   ],
   "source": [
    "np.sum(scipy.special.softmax(fx3))"
   ]
  },
  {
   "cell_type": "code",
   "execution_count": 122,
   "id": "612e4616-4201-4cbb-94c2-492cd4f653a4",
   "metadata": {},
   "outputs": [
    {
     "data": {
      "text/plain": [
       "tensor([0.6590, 0.2424, 0.0986])"
      ]
     },
     "execution_count": 122,
     "metadata": {},
     "output_type": "execute_result"
    }
   ],
   "source": [
    "torch.nn.functional.softmax(torch.Tensor(fx3), dim=0)"
   ]
  },
  {
   "cell_type": "code",
   "execution_count": 123,
   "id": "ef950c5e-7d60-4ed4-8913-e2560e5bb54b",
   "metadata": {},
   "outputs": [
    {
     "data": {
      "text/plain": [
       "tensor(1.0000)"
      ]
     },
     "execution_count": 123,
     "metadata": {},
     "output_type": "execute_result"
    }
   ],
   "source": [
    "torch.sum(torch.nn.functional.softmax(torch.Tensor(fx3), dim=0))"
   ]
  },
  {
   "cell_type": "code",
   "execution_count": 124,
   "id": "a94a8aab-65cd-4afa-a9d6-5d55217e26ed",
   "metadata": {},
   "outputs": [
    {
     "data": {
      "text/plain": [
       "<tf.Tensor: shape=(3,), dtype=float64, numpy=array([0.65900114, 0.24243297, 0.09856589])>"
      ]
     },
     "execution_count": 124,
     "metadata": {},
     "output_type": "execute_result"
    }
   ],
   "source": [
    "tf.nn.softmax(fx3)"
   ]
  },
  {
   "cell_type": "code",
   "execution_count": 125,
   "id": "8eb58421-4033-4659-bda8-1c557cc44d22",
   "metadata": {},
   "outputs": [
    {
     "data": {
      "text/plain": [
       "<tf.Tensor: shape=(), dtype=float64, numpy=1.0>"
      ]
     },
     "execution_count": 125,
     "metadata": {},
     "output_type": "execute_result"
    }
   ],
   "source": [
    "tf.math.reduce_sum(tf.nn.softmax(fx3))"
   ]
  },
  {
   "cell_type": "markdown",
   "id": "404fbc92-2639-4b56-9704-f8c58da2b286",
   "metadata": {},
   "source": [
    "#### Retest Example 4"
   ]
  },
  {
   "cell_type": "code",
   "execution_count": 126,
   "id": "b759faaa-405d-4e9c-a1cf-1cd89b2692f6",
   "metadata": {},
   "outputs": [],
   "source": [
    "# One example 3 classes\n",
    "fx4 = np.array([1, 2, 3], dtype=float).reshape(1,-1)"
   ]
  },
  {
   "cell_type": "code",
   "execution_count": 127,
   "id": "af994809-5d68-459b-a48c-2aabb57bd2d7",
   "metadata": {},
   "outputs": [
    {
     "data": {
      "text/plain": [
       "array([[0.09003057, 0.24472847, 0.66524096]])"
      ]
     },
     "execution_count": 127,
     "metadata": {},
     "output_type": "execute_result"
    }
   ],
   "source": [
    "mySoftmax_v2(fx4)"
   ]
  },
  {
   "cell_type": "code",
   "execution_count": 128,
   "id": "3e0d4686-1478-4c6f-8678-c14cfb52607b",
   "metadata": {},
   "outputs": [
    {
     "data": {
      "text/plain": [
       "1.0"
      ]
     },
     "execution_count": 128,
     "metadata": {},
     "output_type": "execute_result"
    }
   ],
   "source": [
    "np.sum(mySoftmax(fx4))"
   ]
  },
  {
   "cell_type": "code",
   "execution_count": 129,
   "id": "716095d4-3813-4869-8706-dc444c08529d",
   "metadata": {},
   "outputs": [
    {
     "data": {
      "text/plain": [
       "array([[0.09003057, 0.24472847, 0.66524096]])"
      ]
     },
     "execution_count": 129,
     "metadata": {},
     "output_type": "execute_result"
    }
   ],
   "source": [
    "scipy.special.softmax(fx4)"
   ]
  },
  {
   "cell_type": "code",
   "execution_count": 130,
   "id": "9fb613bb-32b8-4059-80af-da8abb74eb5f",
   "metadata": {},
   "outputs": [
    {
     "data": {
      "text/plain": [
       "0.9999999999999999"
      ]
     },
     "execution_count": 130,
     "metadata": {},
     "output_type": "execute_result"
    }
   ],
   "source": [
    "np.sum(scipy.special.softmax(fx4))"
   ]
  },
  {
   "cell_type": "code",
   "execution_count": 131,
   "id": "cb80f24a-da02-4ec1-a959-d7473e7db06c",
   "metadata": {},
   "outputs": [
    {
     "data": {
      "text/plain": [
       "tensor([[0.0900, 0.2447, 0.6652]])"
      ]
     },
     "execution_count": 131,
     "metadata": {},
     "output_type": "execute_result"
    }
   ],
   "source": [
    "torch.nn.functional.softmax(torch.Tensor(fx4), dim=1)"
   ]
  },
  {
   "cell_type": "code",
   "execution_count": 132,
   "id": "44dd3ce0-3232-4a98-bb60-7f5bd5b22807",
   "metadata": {},
   "outputs": [
    {
     "data": {
      "text/plain": [
       "tensor(1.)"
      ]
     },
     "execution_count": 132,
     "metadata": {},
     "output_type": "execute_result"
    }
   ],
   "source": [
    "torch.sum(torch.nn.functional.softmax(torch.Tensor(fx4), dim=1))"
   ]
  },
  {
   "cell_type": "code",
   "execution_count": 133,
   "id": "7a4f4141-6eb1-4d5d-8979-f2163725f3c5",
   "metadata": {},
   "outputs": [
    {
     "data": {
      "text/plain": [
       "<tf.Tensor: shape=(1, 3), dtype=float64, numpy=array([[0.09003057, 0.24472847, 0.66524096]])>"
      ]
     },
     "execution_count": 133,
     "metadata": {},
     "output_type": "execute_result"
    }
   ],
   "source": [
    "tf.nn.softmax(fx4)"
   ]
  },
  {
   "cell_type": "code",
   "execution_count": 134,
   "id": "4805dcae-bd39-4e83-b61f-864e06d7286e",
   "metadata": {},
   "outputs": [
    {
     "data": {
      "text/plain": [
       "<tf.Tensor: shape=(), dtype=float64, numpy=1.0>"
      ]
     },
     "execution_count": 134,
     "metadata": {},
     "output_type": "execute_result"
    }
   ],
   "source": [
    "tf.math.reduce_sum(tf.nn.softmax(fx4))"
   ]
  },
  {
   "cell_type": "markdown",
   "id": "7a7a41a1-3aa4-4b3c-a24b-575da296ecdd",
   "metadata": {},
   "source": [
    "#### Retest Example 5"
   ]
  },
  {
   "cell_type": "code",
   "execution_count": 135,
   "id": "3ab36123-a374-416d-842e-fe2c1fcc8ecf",
   "metadata": {},
   "outputs": [],
   "source": [
    "# 3 example with 3 class\n",
    "fx5 = np.array([[2.0, 1.0, 0.1],[1.0, 3.0, 0.2],[0.2, 0.3, 1.5]], dtype=float)"
   ]
  },
  {
   "cell_type": "code",
   "execution_count": 136,
   "id": "44c059d2-30a6-4061-836f-e40dab740b4f",
   "metadata": {},
   "outputs": [
    {
     "data": {
      "text/plain": [
       "array([[0.65900114, 0.24243297, 0.09856589],\n",
       "       [0.11314284, 0.8360188 , 0.05083836],\n",
       "       [0.17317614, 0.19138923, 0.63543463]])"
      ]
     },
     "execution_count": 136,
     "metadata": {},
     "output_type": "execute_result"
    }
   ],
   "source": [
    "mySoftmax(fx5)"
   ]
  },
  {
   "cell_type": "code",
   "execution_count": 137,
   "id": "20f3353d-fe12-41ce-8645-7d4ed393b535",
   "metadata": {},
   "outputs": [
    {
     "data": {
      "text/plain": [
       "array([[0.65900114, 0.24243297, 0.09856589],\n",
       "       [0.11314284, 0.8360188 , 0.05083836],\n",
       "       [0.17317614, 0.19138923, 0.63543463]])"
      ]
     },
     "execution_count": 137,
     "metadata": {},
     "output_type": "execute_result"
    }
   ],
   "source": [
    "mySoftmax_v2(fx5)"
   ]
  },
  {
   "cell_type": "code",
   "execution_count": 138,
   "id": "7b530857-b5e8-46f5-90b8-02ee4a653fb1",
   "metadata": {},
   "outputs": [
    {
     "data": {
      "text/plain": [
       "array([[1.],\n",
       "       [1.],\n",
       "       [1.]])"
      ]
     },
     "execution_count": 138,
     "metadata": {},
     "output_type": "execute_result"
    }
   ],
   "source": [
    "np.sum(mySoftmax(fx5),axis=1,keepdims=True)"
   ]
  },
  {
   "cell_type": "code",
   "execution_count": 139,
   "id": "46f74f17-ad0b-4faf-8fe5-7b448c7b6b77",
   "metadata": {},
   "outputs": [
    {
     "data": {
      "text/plain": [
       "array([[0.65900114, 0.24243297, 0.09856589],\n",
       "       [0.11314284, 0.8360188 , 0.05083836],\n",
       "       [0.17317614, 0.19138923, 0.63543463]])"
      ]
     },
     "execution_count": 139,
     "metadata": {},
     "output_type": "execute_result"
    }
   ],
   "source": [
    "scipy.special.softmax(fx5, axis=1)"
   ]
  },
  {
   "cell_type": "code",
   "execution_count": 140,
   "id": "6c152f20-8151-45ce-8c0f-c3da91635a89",
   "metadata": {},
   "outputs": [
    {
     "data": {
      "text/plain": [
       "array([[1.],\n",
       "       [1.],\n",
       "       [1.]])"
      ]
     },
     "execution_count": 140,
     "metadata": {},
     "output_type": "execute_result"
    }
   ],
   "source": [
    "np.sum(scipy.special.softmax(fx5,axis=1), axis=1, keepdims=True)"
   ]
  },
  {
   "cell_type": "code",
   "execution_count": 141,
   "id": "72eb4c1b-1148-4d19-8658-d270638e0a01",
   "metadata": {},
   "outputs": [
    {
     "data": {
      "text/plain": [
       "tensor([[0.6590, 0.2424, 0.0986],\n",
       "        [0.1131, 0.8360, 0.0508],\n",
       "        [0.1732, 0.1914, 0.6354]])"
      ]
     },
     "execution_count": 141,
     "metadata": {},
     "output_type": "execute_result"
    }
   ],
   "source": [
    "torch.nn.functional.softmax(torch.Tensor(fx5), dim=1)"
   ]
  },
  {
   "cell_type": "code",
   "execution_count": 142,
   "id": "b5aa7d5c-8ade-478c-b63d-9948f0312dc1",
   "metadata": {},
   "outputs": [
    {
     "data": {
      "text/plain": [
       "tensor([[1.0000],\n",
       "        [1.0000],\n",
       "        [1.0000]])"
      ]
     },
     "execution_count": 142,
     "metadata": {},
     "output_type": "execute_result"
    }
   ],
   "source": [
    "torch.sum(torch.nn.functional.softmax(torch.Tensor(fx5), dim=1), axis=1, keepdims=True)"
   ]
  },
  {
   "cell_type": "code",
   "execution_count": 143,
   "id": "7f13494a-d0c2-4608-be48-d8fb14285405",
   "metadata": {},
   "outputs": [
    {
     "data": {
      "text/plain": [
       "<tf.Tensor: shape=(3, 3), dtype=float64, numpy=\n",
       "array([[0.65900114, 0.24243297, 0.09856589],\n",
       "       [0.11314284, 0.8360188 , 0.05083836],\n",
       "       [0.17317614, 0.19138923, 0.63543463]])>"
      ]
     },
     "execution_count": 143,
     "metadata": {},
     "output_type": "execute_result"
    }
   ],
   "source": [
    "tf.nn.softmax(fx5)"
   ]
  },
  {
   "cell_type": "code",
   "execution_count": 144,
   "id": "1eff4e4b-acc0-4399-9129-79d0dfd08823",
   "metadata": {},
   "outputs": [
    {
     "data": {
      "text/plain": [
       "<tf.Tensor: shape=(3, 1), dtype=float64, numpy=\n",
       "array([[1.],\n",
       "       [1.],\n",
       "       [1.]])>"
      ]
     },
     "execution_count": 144,
     "metadata": {},
     "output_type": "execute_result"
    }
   ],
   "source": [
    "tf.math.reduce_sum(tf.nn.softmax(fx5),axis=1, keepdims=True)"
   ]
  },
  {
   "cell_type": "markdown",
   "id": "49e6ccbe-3718-48b6-9d42-db4e673acc10",
   "metadata": {},
   "source": [
    "## Softmax Loss and Cost Function"
   ]
  },
  {
   "cell_type": "markdown",
   "id": "d3a078d7-215f-4cd3-ab35-1e30ff37e01f",
   "metadata": {},
   "source": [
    "### Types of Loss and Cost Function"
   ]
  },
  {
   "cell_type": "markdown",
   "id": "f4181ef2-aee2-4033-b15d-ef2fb591627a",
   "metadata": {},
   "source": [
    "The Loss Function of Sigmoid Function is known as Binary-Cross-Entropy Loss Function. In Softmax, the loss function is known as **Categorical-Cross-Entropy Loss Function** or **Sparse-Categorical-Cross-Entropy Loss Function**. First we need to understand the differences between **Sparse Categorical Cross Entropy Loss** and **Categorical Cross Entropy Loss**. The different is in how the $y$ truth label are handled. \n",
    "\n",
    "\n",
    "- For **Categorical Cross Entropy Loss**, the $y$ label are **one-hot encoded**. \n",
    "- In **Sparse Categorical Cross Entropy Loss**, the $y$ label uses **class index**.\n",
    "\n",
    "For an example, a dataset that has 4 classification with prediction [10,2,3,4] the y label is [1,0,0,0] indicating that class 0 is the correct label. This label is used for **Categorical Cross Entropy Loss**. For **Sparse Categorical Cross Entropy Loss**, we label y as [0].\n",
    "\n",
    "Another example that has 4 classification with prediction [1,2,30,4] the y label is [0,0,1,0] indicating that class 2 (count from 0) is the correct label. This label is used for **Categorical Cross Entropy Loss**. For **Sparse Categorical Cross Entropy Loss**, we label y as [2].\n"
   ]
  },
  {
   "cell_type": "markdown",
   "id": "51ea3c5a-8586-4dee-a68e-f6aa236a7e70",
   "metadata": {},
   "source": [
    "### Formula of Loss and Cost Function"
   ]
  },
  {
   "cell_type": "markdown",
   "id": "e9159d24-cbde-4fa9-ad5b-9009dcf5a0eb",
   "metadata": {},
   "source": [
    "$$$$\n",
    "**Categorical-Cross-Entropy Loss Function**\n",
    "$$Loss_{Categorical} = - \\sum\\limits_{k=1}^{K}y_{k}log(\\hat{y}_k)$$\n",
    "\n",
    "**Categorical-Cross-Entropy Cost Function**\n",
    "$$\\text{Cost Function}_{Categorical} = - \\frac{1}{m}\\sum\\limits_{i=1}^{m}\\sum\\limits_{k=1}^{K}y_{ik}log(\\hat{y}_{ik})$$\n",
    "$$$$\n",
    "**Sparse-Categorical-Cross-Entropy Loss Function**\n",
    "$$Loss_{Sparse} = - log(\\hat{y}_y)$$\n",
    "\n",
    "**Sparse-Categorical-Cross-Entropy Cost Function**\n",
    "$$\\text{Cost Function}_{Sparse} = - \\frac{1}{m}\\sum\\limits_{i=1}^{m}log(\\hat{y}_{y_{i}})$$"
   ]
  },
  {
   "cell_type": "markdown",
   "id": "228e702f-bee1-40a2-86af-4b5b62c595e8",
   "metadata": {},
   "source": [
    "## Implementation of Softmax Loss and Cost Function"
   ]
  },
  {
   "cell_type": "markdown",
   "id": "64e6459a-3757-4098-92f2-eb93ff8599da",
   "metadata": {},
   "source": [
    "### Pytorch and Tensorflow Loss and Cost Function"
   ]
  },
  {
   "attachments": {},
   "cell_type": "markdown",
   "id": "8439ed63-86fc-4d42-aea5-6d515fd61cf0",
   "metadata": {},
   "source": [
    "Please note that in **Pytorch** and **Tensorflow** there are different function for Softmax Cross Entropy Loss.\n",
    "\n",
    "**Pytorch**\n",
    "\n",
    "In Pytorch, we have `torch.nn.CrossEntropyLoss()` and `torch.nn.functional.CrossEntropyLoss()`. Both functions support **Categorical Cross Entropy Loss** and **Sparse Categorical Cross Entropy Loss**. This means that the function accepts both type of $y$, label.\n",
    "\n",
    "Please also note that in Pytorch, there are multiple same functions under `torch.nn` and `torch.nn.functional`. In general, `torch.nn` is a class with methods and attributes in the class (stateful). Whereas, `torch.nn.functional` is just function only (stateless). We need to pass all necessary variable along. \n",
    "\n",
    "For simple operation like this tutorial we can use `torch.nn.functional`. We will use `torch.nn` when need to implement machine learning training.\n",
    "\n",
    "**Reference**\n",
    "- https://www.geeksforgeeks.org/differences-between-torch-nn-and-torch-nn-functional/\n",
    "- https://discuss.pytorch.org/t/what-is-the-difference-between-torch-nn-and-torch-nn-functional/33597"
   ]
  },
  {
   "cell_type": "markdown",
   "id": "8bc6b26c-af51-4c51-b830-d624d9a4d470",
   "metadata": {},
   "source": [
    "**Tensorflow**\n",
    "\n",
    "In Tensorflow, we have multiple functions that perform similar actions. In addition, we have `tf.keras.losses.CategoricalCrossentropy()` and `tf.keras.losses.categorical_crossentropy()`. Both functions perform the same thing, but `tf.keras.losses.CategoricalCrossentropy()` is a class instead of a function. Thus, the instance can store attributes or variable in addition to methods. \n",
    "\n",
    "The details are shown below:\n",
    "\n",
    "For **Categorical Cross Entropy Loss**: (One-Hot Encoded)\n",
    "- `tf.nn.softmax_cross_entropy_with_logits()` : compute Softmax loss for each example \n",
    "- `tf.keras.losses.categorical_crossentropy()` : compute Softmax loss for each example, expect logits already computed with Softmax, alternatively, set `from_logits=True`)\n",
    "- `tf.keras.losses.CategoricalCrossentropy()` : compute total Softmax **Cost** (Class), expect logits already computed with Softmax, alternatively, set `from_logits=True`)\n",
    "\n",
    "For **Sparse Categorical Cross Entropy Loss**: (Encoded with Class Index)\n",
    "- `tf.nn.sparse_softmax_cross_entropy_with_logits()` : compute Softmax loss for each example\n",
    "- `tf.keras.losses.sparse_categorical_crossentropy()` : compute Softmax loss for each example, expect logits already computed with Softmax, alternatively, set `from_logits=True`)\n",
    "- `tf.keras.losses.SparseCategoricalCrossentropy()` : compute total Softmax **Cost** (Class), expect logits already computed with Softmax, alternatively, set `from_logits=True`)\n"
   ]
  },
  {
   "cell_type": "markdown",
   "id": "04a5a289-5a43-4505-98b4-0ae766b88eaa",
   "metadata": {},
   "source": [
    "### Implementation of Custom Loss and Cost Function"
   ]
  },
  {
   "cell_type": "markdown",
   "id": "0ae186d1-e1d7-4aa4-ab81-ddf7e0d51d80",
   "metadata": {},
   "source": [
    "- The cost function is just to add up all the loss of each training example and took the average.\n",
    "- We will be implementing Cross Entropy Loss Function first\n",
    "- The formula is as follows:\n",
    "$$Loss = - \\sum\\limits_{k=1}^{K}y_{k}log(\\hat{y}_k)$$\n",
    "\n",
    "**Categorical Cross Entropy Loss Function**\n",
    "- $\\hat{y}$ is our prediction without Softmax function. For each row of observation, we have a vector of 1 by c where c refers to the number of classes in the classification.\n",
    "- The steps will be as follows:\n",
    "\n",
    "1. Apply Softmax function to the prediction\n",
    "2. Compute $y \\cdot log(predictionSoftmax)$\n",
    "3. Sum the above computation\n",
    "4. Add negative function\n",
    "\n",
    "\n",
    "$$Loss_{Sparse} = - log(\\hat{y}_y)$$\n",
    "\n",
    "\n",
    "**Sparse Categorical Cross Entropy Loss Function**\n",
    "1. Apply Softmax function to the prediction\n",
    "2. Since the $y$ labels are in class index, for each row of data observation, we only pick the Softmax value that matches the the correct classification\n",
    "3. Then we apply the log function.\n",
    "4. Add negative function"
   ]
  },
  {
   "cell_type": "markdown",
   "id": "3bc3b742-3904-41f3-b4e9-93a06bc03343",
   "metadata": {},
   "source": [
    "#### Step by Step Implementation : Single Example"
   ]
  },
  {
   "cell_type": "markdown",
   "id": "a95ddfca-53b4-48cf-a5e5-71030aaff5a0",
   "metadata": {},
   "source": [
    "**Below is the step by step guide to compute one single example:**"
   ]
  },
  {
   "cell_type": "code",
   "execution_count": 145,
   "id": "4bd47d66-55fd-452a-8f22-eddbba0bdfa6",
   "metadata": {},
   "outputs": [],
   "source": [
    "# One training example with 5 classes\n",
    "# One hot encoding label\n",
    "ya_label_oh = np.array([1, 0, 0, 0, 0], dtype=float).reshape(1,-1)\n",
    "ya_label = np.array([0])\n",
    " \n",
    "# y_predict: Prediction for each class\n",
    "ya_pred = np.array([10, 5, 3, 1, 4], dtype=float).reshape(1,-1)\n"
   ]
  },
  {
   "cell_type": "markdown",
   "id": "ca60d5b3-f6fe-4bb8-ba64-79e580899d00",
   "metadata": {},
   "source": [
    "**Categorical Cross Entropy Loss Function**"
   ]
  },
  {
   "cell_type": "code",
   "execution_count": 146,
   "id": "a3be8316-888b-4266-bae4-3ce5a3655921",
   "metadata": {},
   "outputs": [
    {
     "data": {
      "text/plain": [
       "array([[9.89852046e-01, 6.66957062e-03, 9.02628229e-04, 1.22157447e-04,\n",
       "        2.45359791e-03]])"
      ]
     },
     "execution_count": 146,
     "metadata": {},
     "output_type": "execute_result"
    }
   ],
   "source": [
    "pred_softmax = mySoftmax(ya_pred)\n",
    "pred_softmax"
   ]
  },
  {
   "cell_type": "code",
   "execution_count": 147,
   "id": "02fbc27f-6cf9-45e9-9c88-1ff3cde84306",
   "metadata": {},
   "outputs": [
    {
     "data": {
      "text/plain": [
       "array([[-0.0101998, -0.       , -0.       , -0.       , -0.       ]])"
      ]
     },
     "execution_count": 147,
     "metadata": {},
     "output_type": "execute_result"
    }
   ],
   "source": [
    "log_multiply = ya_label_oh * np.log(pred_softmax)\n",
    "log_multiply"
   ]
  },
  {
   "cell_type": "code",
   "execution_count": 148,
   "id": "c29a1ed0-b347-4e33-88ea-d51aa10bde12",
   "metadata": {},
   "outputs": [
    {
     "data": {
      "text/plain": [
       "0.010199795719758164"
      ]
     },
     "execution_count": 148,
     "metadata": {},
     "output_type": "execute_result"
    }
   ],
   "source": [
    "loss = np.negative(np.sum(log_multiply))\n",
    "loss"
   ]
  },
  {
   "cell_type": "markdown",
   "id": "93dc1691-f817-4f42-9899-56b1452fa19e",
   "metadata": {},
   "source": [
    "Expected Cross Entropy Loss:  **0.010199795719758164**"
   ]
  },
  {
   "cell_type": "markdown",
   "id": "f509db9a-3700-4df3-a7d2-30c6a5b5edc5",
   "metadata": {},
   "source": [
    "**Sparse Categorical Cross Entropy Loss Function**"
   ]
  },
  {
   "cell_type": "code",
   "execution_count": 149,
   "id": "4006bcfe-45ba-47b7-93fd-c68eafff22e5",
   "metadata": {},
   "outputs": [
    {
     "data": {
      "text/plain": [
       "array([[9.89852046e-01, 6.66957062e-03, 9.02628229e-04, 1.22157447e-04,\n",
       "        2.45359791e-03]])"
      ]
     },
     "execution_count": 149,
     "metadata": {},
     "output_type": "execute_result"
    }
   ],
   "source": [
    "sp_pred_softmax = mySoftmax(ya_pred)\n",
    "sp_pred_softmax"
   ]
  },
  {
   "cell_type": "code",
   "execution_count": 150,
   "id": "1cbc2b72-9ba1-4ded-b51f-c47943a6e007",
   "metadata": {},
   "outputs": [
    {
     "data": {
      "text/plain": [
       "array([0.98985205])"
      ]
     },
     "execution_count": 150,
     "metadata": {},
     "output_type": "execute_result"
    }
   ],
   "source": [
    "selected = sp_pred_softmax[np.arange(len(ya_label)),ya_label]\n",
    "selected"
   ]
  },
  {
   "cell_type": "code",
   "execution_count": 151,
   "id": "4eedfb29-d3e1-4611-815b-b60192ac3aef",
   "metadata": {},
   "outputs": [
    {
     "data": {
      "text/plain": [
       "array([-0.0101998])"
      ]
     },
     "execution_count": 151,
     "metadata": {},
     "output_type": "execute_result"
    }
   ],
   "source": [
    "log_selected = np.log(selected)\n",
    "log_selected"
   ]
  },
  {
   "cell_type": "code",
   "execution_count": 152,
   "id": "d9fd9f8a-cd12-4690-a559-1987c276fc57",
   "metadata": {},
   "outputs": [
    {
     "data": {
      "text/plain": [
       "array([0.0101998])"
      ]
     },
     "execution_count": 152,
     "metadata": {},
     "output_type": "execute_result"
    }
   ],
   "source": [
    "loss = np.negative(log_selected)\n",
    "loss"
   ]
  },
  {
   "cell_type": "markdown",
   "id": "ce72988c-f506-431d-b18d-c433dfd6e69e",
   "metadata": {},
   "source": [
    "Expected Cross Entropy Loss:  **0.010199795719758164**"
   ]
  },
  {
   "cell_type": "markdown",
   "id": "ded62e0c-ce44-44bf-8d55-712a0eb6e579",
   "metadata": {},
   "source": [
    "**Why do we select only the Softmax of the prediction that matches the label for Sparse Categorical Cross Entropy Loss?** "
   ]
  },
  {
   "cell_type": "markdown",
   "id": "55be7d22-8b7a-497f-b2d2-3d16949fa93f",
   "metadata": {},
   "source": [
    "We have Softmax:"
   ]
  },
  {
   "cell_type": "code",
   "execution_count": 153,
   "id": "7b216744-55ee-48ad-8745-025685992aa2",
   "metadata": {},
   "outputs": [
    {
     "data": {
      "text/plain": [
       "array([[9.89852046e-01, 6.66957062e-03, 9.02628229e-04, 1.22157447e-04,\n",
       "        2.45359791e-03]])"
      ]
     },
     "execution_count": 153,
     "metadata": {},
     "output_type": "execute_result"
    }
   ],
   "source": [
    "sp_pred_softmax"
   ]
  },
  {
   "cell_type": "markdown",
   "id": "76775eeb-6b4d-4457-9a2b-e4a44eeaf588",
   "metadata": {},
   "source": [
    "In one-hot encoding, we have log_multiply:"
   ]
  },
  {
   "cell_type": "code",
   "execution_count": 154,
   "id": "a44b1de0-4dc2-4001-92c3-e25fdf9238b6",
   "metadata": {},
   "outputs": [
    {
     "data": {
      "text/plain": [
       "array([[-0.0101998, -0.       , -0.       , -0.       , -0.       ]])"
      ]
     },
     "execution_count": 154,
     "metadata": {},
     "output_type": "execute_result"
    }
   ],
   "source": [
    "log_multiply"
   ]
  },
  {
   "cell_type": "markdown",
   "id": "98f72c2d-4263-45f6-ac87-6ffe2e1345d1",
   "metadata": {},
   "source": [
    "Notice that only the Softmax value that fits the true label are used. Instead of summing up all the values, we can also select the value that matches the truth and apply negative function."
   ]
  },
  {
   "cell_type": "code",
   "execution_count": 155,
   "id": "4db56683-dd66-4323-8532-f3f4f016b442",
   "metadata": {},
   "outputs": [
    {
     "data": {
      "text/plain": [
       "array([0.98985205])"
      ]
     },
     "execution_count": 155,
     "metadata": {},
     "output_type": "execute_result"
    }
   ],
   "source": [
    "selected"
   ]
  },
  {
   "cell_type": "code",
   "execution_count": 156,
   "id": "33752dba-3a8f-4eb9-8c1d-0867a87b964f",
   "metadata": {},
   "outputs": [
    {
     "data": {
      "text/plain": [
       "array([0.0101998])"
      ]
     },
     "execution_count": 156,
     "metadata": {},
     "output_type": "execute_result"
    }
   ],
   "source": [
    "np.negative(np.log(selected))"
   ]
  },
  {
   "cell_type": "markdown",
   "id": "fc3abf24-66cc-4af4-996e-edbccf42f49a",
   "metadata": {},
   "source": [
    "#### Step by Step Implementation : Multiple Example"
   ]
  },
  {
   "cell_type": "markdown",
   "id": "d7eef0f7-a821-4f3c-8af6-e68bcb1be6c5",
   "metadata": {},
   "source": [
    "**Now let us try multiple example:**"
   ]
  },
  {
   "cell_type": "code",
   "execution_count": 157,
   "id": "2b6baee6-8182-47ec-8997-452ab509ff40",
   "metadata": {},
   "outputs": [],
   "source": [
    "yb_pred = np.array([[2.0, 1.0, 0.1], [1.0, 3.0, 0.2], [0.2, 0.3, 1.5]])\n",
    "yb_label = np.array([0, 1, 2])\n",
    "yb_label_oh = np.array([[1, 0, 0],[0,1,0],[0,0,1]])"
   ]
  },
  {
   "cell_type": "markdown",
   "id": "53998091-9893-471f-a647-cfa8cb607d3d",
   "metadata": {},
   "source": [
    "**Categorical Cross Entropy Loss Function**"
   ]
  },
  {
   "cell_type": "code",
   "execution_count": 158,
   "id": "75a952dd-37af-40d6-a70c-def02d6de6f2",
   "metadata": {},
   "outputs": [
    {
     "data": {
      "text/plain": [
       "array([[0.65900114, 0.24243297, 0.09856589],\n",
       "       [0.11314284, 0.8360188 , 0.05083836],\n",
       "       [0.17317614, 0.19138923, 0.63543463]])"
      ]
     },
     "execution_count": 158,
     "metadata": {},
     "output_type": "execute_result"
    }
   ],
   "source": [
    "pred_softmax = mySoftmax(yb_pred)\n",
    "pred_softmax"
   ]
  },
  {
   "cell_type": "code",
   "execution_count": 159,
   "id": "1ba958d4-2023-4406-aaae-d45ff3980bad",
   "metadata": {},
   "outputs": [
    {
     "data": {
      "text/plain": [
       "array([[-0.41703002, -0.        , -0.        ],\n",
       "       [-0.        , -0.17910417, -0.        ],\n",
       "       [-0.        , -0.        , -0.45344606]])"
      ]
     },
     "execution_count": 159,
     "metadata": {},
     "output_type": "execute_result"
    }
   ],
   "source": [
    "log_multiply = yb_label_oh * np.log(pred_softmax)\n",
    "log_multiply"
   ]
  },
  {
   "cell_type": "code",
   "execution_count": 160,
   "id": "6ca1e17e-d6ab-4298-b179-40c1a44ed698",
   "metadata": {},
   "outputs": [
    {
     "data": {
      "text/plain": [
       "array([0.41703002, 0.17910417, 0.45344606])"
      ]
     },
     "execution_count": 160,
     "metadata": {},
     "output_type": "execute_result"
    }
   ],
   "source": [
    "loss = np.negative(np.sum(log_multiply, axis=1))\n",
    "loss"
   ]
  },
  {
   "cell_type": "code",
   "execution_count": 161,
   "id": "9932d92b-9c3c-4382-b452-16ba8cd5108a",
   "metadata": {},
   "outputs": [
    {
     "data": {
      "text/plain": [
       "0.34986008342246544"
      ]
     },
     "execution_count": 161,
     "metadata": {},
     "output_type": "execute_result"
    }
   ],
   "source": [
    "cost = loss.mean()\n",
    "cost"
   ]
  },
  {
   "cell_type": "markdown",
   "id": "cba511fd-8d0b-4272-a237-8bbc3a801911",
   "metadata": {},
   "source": [
    "**Expected Cost: 0.3498600**"
   ]
  },
  {
   "cell_type": "markdown",
   "id": "d3fbd6f5-44ef-4f78-8789-ded38fee7c8d",
   "metadata": {},
   "source": [
    "**Sparse Categorical Cross Entropy Loss Function**"
   ]
  },
  {
   "cell_type": "code",
   "execution_count": 162,
   "id": "06f216b7-dedd-426a-9e60-d43c2af8d3d1",
   "metadata": {},
   "outputs": [
    {
     "data": {
      "text/plain": [
       "array([[0.65900114, 0.24243297, 0.09856589],\n",
       "       [0.11314284, 0.8360188 , 0.05083836],\n",
       "       [0.17317614, 0.19138923, 0.63543463]])"
      ]
     },
     "execution_count": 162,
     "metadata": {},
     "output_type": "execute_result"
    }
   ],
   "source": [
    "sp_pred_softmax = mySoftmax(yb_pred)\n",
    "sp_pred_softmax"
   ]
  },
  {
   "cell_type": "code",
   "execution_count": 163,
   "id": "739b78ea-33b4-402e-84e1-76ab1359edc8",
   "metadata": {},
   "outputs": [
    {
     "data": {
      "text/plain": [
       "array([0, 1, 2])"
      ]
     },
     "execution_count": 163,
     "metadata": {},
     "output_type": "execute_result"
    }
   ],
   "source": [
    "yb_label"
   ]
  },
  {
   "cell_type": "markdown",
   "id": "e94c399d-10e9-49e4-812f-ee9eb2d98a37",
   "metadata": {},
   "source": [
    "So for first row, we need to select column index 0 and second row select index 1 and third row select column index 2"
   ]
  },
  {
   "cell_type": "code",
   "execution_count": 164,
   "id": "9a4ecd21-0b96-4d02-9019-8c65521482a9",
   "metadata": {},
   "outputs": [
    {
     "data": {
      "text/plain": [
       "array([0.65900114, 0.8360188 , 0.63543463])"
      ]
     },
     "execution_count": 164,
     "metadata": {},
     "output_type": "execute_result"
    }
   ],
   "source": [
    "selected = pred_softmax[np.arange(len(yb_pred)),yb_label]\n",
    "selected"
   ]
  },
  {
   "cell_type": "code",
   "execution_count": 165,
   "id": "9e6aafa0-ec40-42ac-be1c-8d728788ae3e",
   "metadata": {},
   "outputs": [
    {
     "data": {
      "text/plain": [
       "array([-0.41703002, -0.17910417, -0.45344606])"
      ]
     },
     "execution_count": 165,
     "metadata": {},
     "output_type": "execute_result"
    }
   ],
   "source": [
    "log_selected = np.log(selected)\n",
    "log_selected"
   ]
  },
  {
   "cell_type": "code",
   "execution_count": 166,
   "id": "5660901a-328e-40ba-a57b-59e142fe08ba",
   "metadata": {},
   "outputs": [
    {
     "data": {
      "text/plain": [
       "array([0.41703002, 0.17910417, 0.45344606])"
      ]
     },
     "execution_count": 166,
     "metadata": {},
     "output_type": "execute_result"
    }
   ],
   "source": [
    "loss = np.negative(log_selected)\n",
    "loss"
   ]
  },
  {
   "cell_type": "code",
   "execution_count": 167,
   "id": "3ffb4d2f-9e14-436e-8ed2-49070003e681",
   "metadata": {},
   "outputs": [
    {
     "data": {
      "text/plain": [
       "0.34986008342246544"
      ]
     },
     "execution_count": 167,
     "metadata": {},
     "output_type": "execute_result"
    }
   ],
   "source": [
    "cost = loss.mean()\n",
    "cost"
   ]
  },
  {
   "cell_type": "markdown",
   "id": "c7734581-dced-4add-b223-d34fe1422f28",
   "metadata": {},
   "source": [
    "**Expected Cost: 0.3498600**"
   ]
  },
  {
   "cell_type": "markdown",
   "id": "f6c4fa9d-af81-411e-81e7-5877b105dcb1",
   "metadata": {},
   "source": [
    "#### Python Exception Handling"
   ]
  },
  {
   "cell_type": "markdown",
   "id": "e6767268-6eeb-488a-bb11-31928f0b6bef",
   "metadata": {},
   "source": [
    "If our y label is in different dimension such as m by 1 matrix:"
   ]
  },
  {
   "cell_type": "code",
   "execution_count": 168,
   "id": "53f5105d-40d9-4939-b4d3-6d48968a9c43",
   "metadata": {},
   "outputs": [],
   "source": [
    "yb_label2 = yb_label.reshape(-1,1)"
   ]
  },
  {
   "cell_type": "code",
   "execution_count": 169,
   "id": "287bd795-f7c1-4723-aad5-a5b9bdf6c2a4",
   "metadata": {},
   "outputs": [
    {
     "data": {
      "text/plain": [
       "array([[0.65900114, 0.11314284, 0.17317614],\n",
       "       [0.24243297, 0.8360188 , 0.19138923],\n",
       "       [0.09856589, 0.05083836, 0.63543463]])"
      ]
     },
     "execution_count": 169,
     "metadata": {},
     "output_type": "execute_result"
    }
   ],
   "source": [
    "selected2 = pred_softmax[np.arange(len(yb_pred)),yb_label2]\n",
    "selected2"
   ]
  },
  {
   "cell_type": "markdown",
   "id": "b9b5dc4f-43ba-41bd-9475-c9e4de31fcf6",
   "metadata": {},
   "source": [
    "<font color='red'>\n",
    "\n",
    "**The selection failed.**\n",
    "\n",
    "</font>"
   ]
  },
  {
   "cell_type": "code",
   "execution_count": 170,
   "id": "009f2bb3-5e82-4952-a3c7-c386eb907acf",
   "metadata": {},
   "outputs": [
    {
     "data": {
      "text/plain": [
       "(3,)"
      ]
     },
     "execution_count": 170,
     "metadata": {},
     "output_type": "execute_result"
    }
   ],
   "source": [
    "np.arange(len(yb_pred)).shape"
   ]
  },
  {
   "cell_type": "code",
   "execution_count": 171,
   "id": "c56c100a-377a-41e9-962e-d1878af88154",
   "metadata": {},
   "outputs": [
    {
     "data": {
      "text/plain": [
       "(3, 1)"
      ]
     },
     "execution_count": 171,
     "metadata": {},
     "output_type": "execute_result"
    }
   ],
   "source": [
    " yb_label2.shape"
   ]
  },
  {
   "cell_type": "markdown",
   "id": "fdb1fe1e-365f-44ef-b1d1-c80229cb6927",
   "metadata": {},
   "source": [
    "<font color='blue'>\n",
    "    \n",
    "**When performing selection, both array MUST be in the same dimension.** We need to convert both to same dimension.\n",
    "\n",
    "</font>"
   ]
  },
  {
   "cell_type": "code",
   "execution_count": 172,
   "id": "7a6364a2-d412-4448-b5f2-35650857e059",
   "metadata": {},
   "outputs": [
    {
     "data": {
      "text/plain": [
       "array([[0.65900114],\n",
       "       [0.8360188 ],\n",
       "       [0.63543463]])"
      ]
     },
     "execution_count": 172,
     "metadata": {},
     "output_type": "execute_result"
    }
   ],
   "source": [
    "selected2 = pred_softmax[np.arange(len(yb_pred)).reshape(-1,1),yb_label2]\n",
    "selected2"
   ]
  },
  {
   "cell_type": "code",
   "execution_count": 173,
   "id": "63a651e3-0441-40ce-aee2-9969c085c0e2",
   "metadata": {},
   "outputs": [
    {
     "data": {
      "text/plain": [
       "array([0.65900114, 0.8360188 , 0.63543463])"
      ]
     },
     "execution_count": 173,
     "metadata": {},
     "output_type": "execute_result"
    }
   ],
   "source": [
    "selected2 = pred_softmax[np.arange(len(yb_pred)),yb_label2.ravel()]\n",
    "selected2"
   ]
  },
  {
   "cell_type": "markdown",
   "id": "67c464fb-224d-4c76-b7fb-7aa855718492",
   "metadata": {},
   "source": [
    "### Constructing Loss Function"
   ]
  },
  {
   "cell_type": "markdown",
   "id": "ea7127f6-ec48-4aa7-a4ee-c3951b4b2031",
   "metadata": {},
   "source": [
    "For cost function we just need to apply the `mean()` function to get the cost."
   ]
  },
  {
   "cell_type": "code",
   "execution_count": 174,
   "id": "47bddb94-2e7e-4630-a6c7-6e9b53e2842b",
   "metadata": {},
   "outputs": [],
   "source": [
    "def myCrossEntropyLoss(predict, labels):\n",
    "    '''\n",
    "    Cross Entropy Loss for One Hot Encoded Label\n",
    "\n",
    "    INPUT:\n",
    "    predict = also known as predictions or yhat. Accepts a matrix by m by n where the number of observations are in rows and features are in columns\n",
    "    labels = also known as y or truth label. Accepts a matrix of one hot ecoding to each class.\n",
    "\n",
    "    OUTPUT:\n",
    "    loss = loss each observation\n",
    "    '''\n",
    "    \n",
    "    softmax = mySoftmax(predict)\n",
    "    #print('softmax',softmax)\n",
    "    \n",
    "    loss = np.negative(np.sum((labels * np.log(softmax+1e-20)), axis = 1))\n",
    "\n",
    "    return loss"
   ]
  },
  {
   "cell_type": "code",
   "execution_count": 175,
   "id": "ec943e36-06f4-49a9-87ec-565eba2fbf03",
   "metadata": {},
   "outputs": [],
   "source": [
    "def mySparseCrossEntropyLoss(predict, labels):\n",
    "    '''\n",
    "    Cross Entropy Loss for One Hot Encoded Label\n",
    "\n",
    "    INPUT:\n",
    "    predict = also known as predictions or yhat. Accepts a matrix by m by n where the number of observations are in rows and features are in columns\n",
    "    labels = also known as y or truth label. Accepts a list of class index.\n",
    "\n",
    "    OUTPUT:\n",
    "    loss = loss each observation\n",
    "    '''\n",
    "\n",
    "    if labels.ndim == 2:\n",
    "        labels = np.array(labels.ravel(), dtype=int) \n",
    "    else:\n",
    "        labels = np.array(labels, dtype=int)\n",
    "    \n",
    "    softmax = mySoftmax(predict)\n",
    "    #print('softmax',softmax)\n",
    "    \n",
    "    loss = np.negative(np.log(softmax[np.arange(len(predict)), labels] +1e-20))\n",
    "\n",
    "    return loss"
   ]
  },
  {
   "cell_type": "markdown",
   "id": "812d21c9-d673-4ac9-8dd8-9ce65589edec",
   "metadata": {},
   "source": [
    "### Log Issue with the Loss Function"
   ]
  },
  {
   "cell_type": "markdown",
   "id": "ed36b692-c879-4e85-b973-49dfa684d344",
   "metadata": {},
   "source": [
    "**Similar to the logistic cost function, we also have problems with a $log(0)$ issue.**"
   ]
  },
  {
   "cell_type": "code",
   "execution_count": 176,
   "id": "09581556-97ce-496f-8a81-70679eae521d",
   "metadata": {},
   "outputs": [],
   "source": [
    "zz = np.arange(0,1,0.01)"
   ]
  },
  {
   "cell_type": "code",
   "execution_count": 177,
   "id": "fb6ac6c1-0753-46b3-b2ae-a9e490787e14",
   "metadata": {},
   "outputs": [
    {
     "name": "stderr",
     "output_type": "stream",
     "text": [
      "/var/folders/1h/s4bz3m4n32l_ljm5g40dytrw0000gp/T/ipykernel_3726/3438760845.py:1: RuntimeWarning: divide by zero encountered in log\n",
      "  np.log(zz)\n"
     ]
    },
    {
     "data": {
      "text/plain": [
       "array([       -inf, -4.60517019, -3.91202301, -3.5065579 , -3.21887582,\n",
       "       -2.99573227, -2.81341072, -2.65926004, -2.52572864, -2.40794561,\n",
       "       -2.30258509, -2.20727491, -2.12026354, -2.04022083, -1.96611286,\n",
       "       -1.89711998, -1.83258146, -1.77195684, -1.71479843, -1.66073121,\n",
       "       -1.60943791, -1.56064775, -1.51412773, -1.46967597, -1.42711636,\n",
       "       -1.38629436, -1.34707365, -1.30933332, -1.27296568, -1.23787436,\n",
       "       -1.2039728 , -1.17118298, -1.13943428, -1.10866262, -1.07880966,\n",
       "       -1.04982212, -1.02165125, -0.99425227, -0.96758403, -0.94160854,\n",
       "       -0.91629073, -0.89159812, -0.86750057, -0.84397007, -0.82098055,\n",
       "       -0.7985077 , -0.77652879, -0.75502258, -0.73396918, -0.71334989,\n",
       "       -0.69314718, -0.67334455, -0.65392647, -0.63487827, -0.61618614,\n",
       "       -0.597837  , -0.5798185 , -0.56211892, -0.54472718, -0.52763274,\n",
       "       -0.51082562, -0.49429632, -0.4780358 , -0.46203546, -0.4462871 ,\n",
       "       -0.43078292, -0.41551544, -0.40047757, -0.38566248, -0.37106368,\n",
       "       -0.35667494, -0.34249031, -0.32850407, -0.31471074, -0.30110509,\n",
       "       -0.28768207, -0.27443685, -0.26136476, -0.24846136, -0.23572233,\n",
       "       -0.22314355, -0.21072103, -0.19845094, -0.18632958, -0.17435339,\n",
       "       -0.16251893, -0.15082289, -0.13926207, -0.12783337, -0.11653382,\n",
       "       -0.10536052, -0.09431068, -0.08338161, -0.07257069, -0.0618754 ,\n",
       "       -0.05129329, -0.04082199, -0.03045921, -0.02020271, -0.01005034])"
      ]
     },
     "execution_count": 177,
     "metadata": {},
     "output_type": "execute_result"
    }
   ],
   "source": [
    "np.log(zz)"
   ]
  },
  {
   "cell_type": "code",
   "execution_count": 178,
   "id": "e654508f-def6-48fb-886e-b6cb4b0b925a",
   "metadata": {},
   "outputs": [
    {
     "name": "stderr",
     "output_type": "stream",
     "text": [
      "/var/folders/1h/s4bz3m4n32l_ljm5g40dytrw0000gp/T/ipykernel_3726/2933082444.py:1: RuntimeWarning: divide by zero encountered in log\n",
      "  np.log(0)\n"
     ]
    },
    {
     "data": {
      "text/plain": [
       "-inf"
      ]
     },
     "execution_count": 178,
     "metadata": {},
     "output_type": "execute_result"
    }
   ],
   "source": [
    "np.log(0)"
   ]
  },
  {
   "cell_type": "markdown",
   "id": "6cfd9f31-3b2e-44cb-a554-8dd569e7b0f4",
   "metadata": {},
   "source": [
    "**To counter the issue of divide by zero issue, we add a very small number to the log.**"
   ]
  },
  {
   "cell_type": "code",
   "execution_count": 179,
   "id": "c7b66064-02fe-4949-98f6-28617308366a",
   "metadata": {},
   "outputs": [
    {
     "data": {
      "text/plain": [
       "-46.051701859880914"
      ]
     },
     "execution_count": 179,
     "metadata": {},
     "output_type": "execute_result"
    }
   ],
   "source": [
    "np.log(0+1e-20)"
   ]
  },
  {
   "cell_type": "markdown",
   "id": "3097cc0e-9122-4bbb-887d-a6318f5bf807",
   "metadata": {},
   "source": [
    "**Please also note that we will never have a negative log number since we have applied Sigmoid function which converts all numbers from 0 to 1. If we encounter negative log issue, please check the input if it is between 0 to 1.**"
   ]
  },
  {
   "cell_type": "markdown",
   "id": "6ddda400-39af-4f7a-96ec-32511c7e7843",
   "metadata": {},
   "source": [
    "### Application of Cost Function Example 1"
   ]
  },
  {
   "cell_type": "markdown",
   "id": "ee18a786-bdc4-4c53-963c-76e1859a7788",
   "metadata": {},
   "source": [
    "The following is one example. prediction is [10, 5, 3, 1, 4], label is one-hot encoded [1, 0, 0, 0, 0]. One data point."
   ]
  },
  {
   "cell_type": "code",
   "execution_count": 180,
   "id": "262c4dd4-2e39-4764-91e7-c2e4b23f6e96",
   "metadata": {},
   "outputs": [],
   "source": [
    "# One hot encoded label/truth\n",
    "y_label1 = np.array([0])\n",
    "y_label_oh1 = np.array([1, 0, 0, 0, 0]).reshape(1,-1)\n",
    " \n",
    "# y_predict: Prediction for each class\n",
    "y_pred1 = np.array([10, 5, 3, 1, 4]).reshape(1,-1)"
   ]
  },
  {
   "cell_type": "markdown",
   "id": "f37adf7a-97e1-4e9b-8625-824c26dd938d",
   "metadata": {},
   "source": [
    "#### Custom Function"
   ]
  },
  {
   "cell_type": "code",
   "execution_count": 181,
   "id": "7c1d4811-2b5c-4d2b-8831-85ebb37b02d9",
   "metadata": {},
   "outputs": [
    {
     "data": {
      "text/plain": [
       "array([0.0101998])"
      ]
     },
     "execution_count": 181,
     "metadata": {},
     "output_type": "execute_result"
    }
   ],
   "source": [
    "myCrossEntropyLoss(y_pred1, y_label_oh1)"
   ]
  },
  {
   "cell_type": "code",
   "execution_count": 182,
   "id": "e99484a8-c939-448c-8330-2da1f9298dd6",
   "metadata": {},
   "outputs": [
    {
     "data": {
      "text/plain": [
       "array([0.0101998])"
      ]
     },
     "execution_count": 182,
     "metadata": {},
     "output_type": "execute_result"
    }
   ],
   "source": [
    "mySparseCrossEntropyLoss(y_pred1, y_label1)"
   ]
  },
  {
   "cell_type": "markdown",
   "id": "57cee6c1-ad15-4c27-b85e-0aee4a351dcf",
   "metadata": {},
   "source": [
    "**Expected Cost: 0.010199686**"
   ]
  },
  {
   "cell_type": "markdown",
   "id": "da6aae50-8cb9-4199-84c0-0e0785a46911",
   "metadata": {},
   "source": [
    "#### Pytorch"
   ]
  },
  {
   "cell_type": "code",
   "execution_count": 183,
   "id": "461cca27-27d5-47a0-bcaf-f0b2cdd3b32c",
   "metadata": {},
   "outputs": [],
   "source": [
    "# Convert to Pytorch datatype\n",
    "# For Sparse datatype must be in long\n",
    "yt_label1 = torch.tensor(y_label1).long()\n",
    "# Single data must be in 2D shape like 1,5: accepts float\n",
    "yt_label_oh1 = torch.tensor(y_label_oh1).float()\n",
    "# Single data must be in 2D shape like 1,5: accepts float\n",
    "yt_pred1 = torch.tensor(y_pred1).float()\n"
   ]
  },
  {
   "cell_type": "code",
   "execution_count": 184,
   "id": "37321169-74e1-4baa-85cb-c6f3c8a3a3f5",
   "metadata": {},
   "outputs": [
    {
     "name": "stdout",
     "output_type": "stream",
     "text": [
      "yt_pred1 shape: torch.Size([1, 5])\n",
      "yt_label1 shape: torch.Size([1])\n",
      "yt_label_oh1 shape: torch.Size([1, 5])\n"
     ]
    }
   ],
   "source": [
    "print('yt_pred1 shape:',yt_pred1.shape)\n",
    "print('yt_label1 shape:',yt_label1.shape)\n",
    "print('yt_label_oh1 shape:',yt_label_oh1.shape)"
   ]
  },
  {
   "cell_type": "code",
   "execution_count": 185,
   "id": "643ea05f-1143-4d45-9a98-49afe8dd0981",
   "metadata": {},
   "outputs": [
    {
     "name": "stdout",
     "output_type": "stream",
     "text": [
      "Cross-entropy loss: 0.010199685581028461\n"
     ]
    }
   ],
   "source": [
    "# Compute the cross-entropy loss\n",
    "loss1 = torch.nn.functional.cross_entropy(yt_pred1,yt_label_oh1)\n",
    "print(f\"Cross-entropy loss: {loss1.item()}\")"
   ]
  },
  {
   "cell_type": "code",
   "execution_count": 186,
   "id": "ade679c2-0215-4be4-b6dc-f98ee453a9fe",
   "metadata": {},
   "outputs": [
    {
     "name": "stdout",
     "output_type": "stream",
     "text": [
      "Cross-entropy loss: 0.010199685581028461\n"
     ]
    }
   ],
   "source": [
    "# Compute the sparse cross-entropy loss\n",
    "sp_loss1 = torch.nn.functional.cross_entropy(yt_pred1,yt_label1)\n",
    "print(f\"Cross-entropy loss: {sp_loss1.item()}\")"
   ]
  },
  {
   "cell_type": "markdown",
   "id": "78416dd6-84b1-4ed5-b34b-639964bc07a9",
   "metadata": {},
   "source": [
    "**Expected Cost: 0.010199685581028461**"
   ]
  },
  {
   "cell_type": "markdown",
   "id": "99376e20-9828-4d8e-88bc-b6f0fd954bd4",
   "metadata": {},
   "source": [
    "#### TensorFlow"
   ]
  },
  {
   "cell_type": "code",
   "execution_count": 187,
   "id": "2d05e5c3-af66-4477-b71d-d807cab82149",
   "metadata": {},
   "outputs": [],
   "source": [
    "# Label must be in tf.int64\n",
    "# Prediction must be in float\n",
    "y_label_tf1 = tf.convert_to_tensor(y_label1, dtype=tf.int64)\n",
    "y_label_oh_tf1 = tf.convert_to_tensor(y_label_oh1, dtype=tf.int64)\n",
    "y_pred_tf1 = tf.convert_to_tensor(y_pred1, dtype=float)"
   ]
  },
  {
   "cell_type": "code",
   "execution_count": 188,
   "id": "465b5da4-11ac-4501-8454-17abecdcb46a",
   "metadata": {},
   "outputs": [
    {
     "data": {
      "text/plain": [
       "<tf.Tensor: shape=(1,), dtype=float32, numpy=array([0.01019969], dtype=float32)>"
      ]
     },
     "execution_count": 188,
     "metadata": {},
     "output_type": "execute_result"
    }
   ],
   "source": [
    "tfLoss1 = tf.nn.softmax_cross_entropy_with_logits(y_label_oh_tf1, y_pred_tf1)\n",
    "tfLoss1"
   ]
  },
  {
   "cell_type": "code",
   "execution_count": 189,
   "id": "49eb5a7d-b9a2-4e3e-b574-8ab692ba8b63",
   "metadata": {},
   "outputs": [
    {
     "data": {
      "text/plain": [
       "<tf.Tensor: shape=(1,), dtype=float32, numpy=array([0.01019969], dtype=float32)>"
      ]
     },
     "execution_count": 189,
     "metadata": {},
     "output_type": "execute_result"
    }
   ],
   "source": [
    "tfLoss1a = tf.keras.losses.categorical_crossentropy(y_label_oh_tf1, y_pred_tf1, from_logits=True)\n",
    "tfLoss1a"
   ]
  },
  {
   "cell_type": "code",
   "execution_count": 190,
   "id": "61d1c30a-5be2-40a2-a574-78f4337c613b",
   "metadata": {},
   "outputs": [
    {
     "data": {
      "text/plain": [
       "<tf.Tensor: shape=(), dtype=float32, numpy=0.010199686>"
      ]
     },
     "execution_count": 190,
     "metadata": {},
     "output_type": "execute_result"
    }
   ],
   "source": [
    "cce = tf.keras.losses.CategoricalCrossentropy(from_logits=True)\n",
    "tf_Cost1 = cce(y_label_oh_tf1, y_pred_tf1)\n",
    "tf_Cost1"
   ]
  },
  {
   "cell_type": "code",
   "execution_count": 191,
   "id": "502f4d3b-ad7a-4dbb-a7ce-2bbf935b811c",
   "metadata": {},
   "outputs": [
    {
     "data": {
      "text/plain": [
       "<tf.Tensor: shape=(1,), dtype=float32, numpy=array([0.01019969], dtype=float32)>"
      ]
     },
     "execution_count": 191,
     "metadata": {},
     "output_type": "execute_result"
    }
   ],
   "source": [
    "tf_sp_Loss1 = tf.nn.sparse_softmax_cross_entropy_with_logits(y_label_tf1, y_pred_tf1)\n",
    "tf_sp_Loss1"
   ]
  },
  {
   "cell_type": "code",
   "execution_count": 192,
   "id": "d7138002-9289-477a-8004-85ae46cdedb9",
   "metadata": {},
   "outputs": [
    {
     "data": {
      "text/plain": [
       "<tf.Tensor: shape=(1,), dtype=float32, numpy=array([0.01019969], dtype=float32)>"
      ]
     },
     "execution_count": 192,
     "metadata": {},
     "output_type": "execute_result"
    }
   ],
   "source": [
    "tf_sp_Loss1a = tf.keras.losses.sparse_categorical_crossentropy(y_label_tf1, tf.nn.softmax(y_pred_tf1))\n",
    "tf_sp_Loss1a"
   ]
  },
  {
   "cell_type": "code",
   "execution_count": 193,
   "id": "20128a8f-50c3-4aab-9321-649ef27b3c49",
   "metadata": {},
   "outputs": [
    {
     "data": {
      "text/plain": [
       "<tf.Tensor: shape=(), dtype=float32, numpy=0.010199686>"
      ]
     },
     "execution_count": 193,
     "metadata": {},
     "output_type": "execute_result"
    }
   ],
   "source": [
    "sp_cce = tf.keras.losses.SparseCategoricalCrossentropy(from_logits=True)\n",
    "tf_sp_Cost1 = sp_cce(y_label_tf1, y_pred_tf1)\n",
    "tf_sp_Cost1"
   ]
  },
  {
   "cell_type": "markdown",
   "id": "42d2bd67-b033-4c05-b833-746cc7778e1d",
   "metadata": {},
   "source": [
    "**Expected Cost: 0.010199685581028461**"
   ]
  },
  {
   "cell_type": "markdown",
   "id": "f30f1091-3a6e-4fe4-aed7-b8ebea662386",
   "metadata": {},
   "source": [
    "### Application of Cost Function Example 2"
   ]
  },
  {
   "cell_type": "code",
   "execution_count": 194,
   "id": "3121cd84-d59c-4e2e-b022-02f0ef360ffd",
   "metadata": {},
   "outputs": [],
   "source": [
    "# y label/truth\n",
    "y_label2 = np.array([0, 1, 2])\n",
    " \n",
    "# y_predict: Prediction for each class\n",
    "y_pred2 = np.array([[2.0, 1.0, 0.1], [1.0, 3.0, 0.2], [0.2, 0.3, 1.5]])"
   ]
  },
  {
   "cell_type": "code",
   "execution_count": 195,
   "id": "5093d4f1-b9b7-4034-9ad2-b3941185d989",
   "metadata": {},
   "outputs": [
    {
     "data": {
      "text/plain": [
       "array([[1., 0., 0.],\n",
       "       [0., 1., 0.],\n",
       "       [0., 0., 1.]])"
      ]
     },
     "execution_count": 195,
     "metadata": {},
     "output_type": "execute_result"
    }
   ],
   "source": [
    "one_hot_convert = preprocessing.OneHotEncoder()\n",
    "y_label_oh2 = one_hot_convert.fit_transform(y_label2.reshape(-1,1)).toarray()\n",
    "y_label_oh2"
   ]
  },
  {
   "cell_type": "markdown",
   "id": "03732628-0cc5-4fcc-9b50-7ac97be7e4a2",
   "metadata": {},
   "source": [
    "#### Custom Function"
   ]
  },
  {
   "cell_type": "code",
   "execution_count": 196,
   "id": "f57d300d-8bd2-4b70-8aac-c288dbd35354",
   "metadata": {},
   "outputs": [
    {
     "data": {
      "text/plain": [
       "array([0.41703002, 0.17910417, 0.45344606])"
      ]
     },
     "execution_count": 196,
     "metadata": {},
     "output_type": "execute_result"
    }
   ],
   "source": [
    "myCrossEntropyLoss(y_pred2, y_label_oh2)"
   ]
  },
  {
   "cell_type": "code",
   "execution_count": 197,
   "id": "37f73bc9-b3d7-4862-9db7-1ec5c4232bd6",
   "metadata": {},
   "outputs": [
    {
     "data": {
      "text/plain": [
       "0.34986008342246544"
      ]
     },
     "execution_count": 197,
     "metadata": {},
     "output_type": "execute_result"
    }
   ],
   "source": [
    "cost2a = myCrossEntropyLoss(y_pred2, y_label_oh2).mean()\n",
    "cost2a"
   ]
  },
  {
   "cell_type": "code",
   "execution_count": 198,
   "id": "e8231b79-746b-4c78-b3be-79e49cdd2c73",
   "metadata": {},
   "outputs": [
    {
     "data": {
      "text/plain": [
       "array([0.41703002, 0.17910417, 0.45344606])"
      ]
     },
     "execution_count": 198,
     "metadata": {},
     "output_type": "execute_result"
    }
   ],
   "source": [
    "mySparseCrossEntropyLoss(y_pred2, y_label2)"
   ]
  },
  {
   "cell_type": "code",
   "execution_count": 199,
   "id": "b9292fb5-ffb8-4c31-ba30-567fda6c794a",
   "metadata": {},
   "outputs": [
    {
     "data": {
      "text/plain": [
       "0.34986008342246544"
      ]
     },
     "execution_count": 199,
     "metadata": {},
     "output_type": "execute_result"
    }
   ],
   "source": [
    "cost2b = mySparseCrossEntropyLoss(y_pred2, y_label2).mean()\n",
    "cost2b"
   ]
  },
  {
   "cell_type": "markdown",
   "id": "74f2acf8-3fdd-46a4-b47c-b601f2c4f506",
   "metadata": {},
   "source": [
    "**Expected Loss: [0.41702995, 0.17910424, 0.45344603]**"
   ]
  },
  {
   "cell_type": "markdown",
   "id": "b59fee67-a1f4-4f2e-bb94-a6f6a7f0bb82",
   "metadata": {},
   "source": [
    "**Expected Cost: 0.3498600721359253**"
   ]
  },
  {
   "cell_type": "markdown",
   "id": "e17c7e27-103f-4222-8d3d-c642f509bd13",
   "metadata": {},
   "source": [
    "#### Pytorch"
   ]
  },
  {
   "cell_type": "code",
   "execution_count": 200,
   "id": "b71dc427-c73a-4614-972a-7980fbe5edd5",
   "metadata": {},
   "outputs": [],
   "source": [
    "# Convert to Pytorch datatype\n",
    "# For Sparse datatype must be in long\n",
    "yt_label2 = torch.tensor(y_label2).long()\n",
    "# Single data must be in 2D shape like 1,5: accepts float\n",
    "yt_label_oh2 = torch.tensor(y_label_oh2).float()\n",
    "# Single data must be in 2D shape like 1,5: accepts float\n",
    "yt_pred2 = torch.tensor(y_pred2).float()"
   ]
  },
  {
   "cell_type": "code",
   "execution_count": 201,
   "id": "ee5071f5-11f2-4b09-9837-f19b49a13970",
   "metadata": {},
   "outputs": [
    {
     "name": "stdout",
     "output_type": "stream",
     "text": [
      "Cross-entropy loss: 0.3498600721359253\n"
     ]
    }
   ],
   "source": [
    "# Compute the cross-entropy loss\n",
    "loss2 = torch.nn.functional.cross_entropy(yt_pred2,yt_label_oh2)\n",
    "print(f\"Cross-entropy loss: {loss2.item()}\")"
   ]
  },
  {
   "cell_type": "code",
   "execution_count": 202,
   "id": "520d58d6-7c90-4cc6-af89-e49a077a5723",
   "metadata": {},
   "outputs": [
    {
     "name": "stdout",
     "output_type": "stream",
     "text": [
      "Cross-entropy loss: 0.3498600721359253\n"
     ]
    }
   ],
   "source": [
    "# Compute the sparse cross-entropy loss\n",
    "sp_loss2 = torch.nn.functional.cross_entropy(yt_pred2,yt_label2)\n",
    "print(f\"Cross-entropy loss: {sp_loss2.item()}\")"
   ]
  },
  {
   "cell_type": "markdown",
   "id": "4541a7d7-5e67-4aee-aa1f-2d134c69b095",
   "metadata": {},
   "source": [
    "**Expected Cost: 0.3498600721359253**"
   ]
  },
  {
   "cell_type": "markdown",
   "id": "2d0360b0-10b0-45a5-8982-e3f1111300ca",
   "metadata": {},
   "source": [
    "#### TensorFlow"
   ]
  },
  {
   "cell_type": "code",
   "execution_count": 203,
   "id": "f40bc570-40ca-4ae3-9697-38c739f24b40",
   "metadata": {},
   "outputs": [],
   "source": [
    "# Label must be in tf.int64\n",
    "# Prediction must be in float\n",
    "y_label_tf2 = tf.convert_to_tensor(y_label2, dtype=tf.int64)\n",
    "y_label_oh_tf2 = tf.convert_to_tensor(y_label_oh2, dtype=tf.int64)\n",
    "y_pred_tf2 = tf.convert_to_tensor(y_pred2, dtype=float)"
   ]
  },
  {
   "cell_type": "code",
   "execution_count": 204,
   "id": "36b9e166-5a5a-4dbb-bf59-5b9cfb6bea38",
   "metadata": {},
   "outputs": [
    {
     "data": {
      "text/plain": [
       "<tf.Tensor: shape=(3,), dtype=int64, numpy=array([0, 1, 2])>"
      ]
     },
     "execution_count": 204,
     "metadata": {},
     "output_type": "execute_result"
    }
   ],
   "source": [
    "y_label_tf2"
   ]
  },
  {
   "cell_type": "code",
   "execution_count": 205,
   "id": "fd64fef7-2161-443a-b63d-f26238da2535",
   "metadata": {},
   "outputs": [
    {
     "data": {
      "text/plain": [
       "<tf.Tensor: shape=(3, 3), dtype=int64, numpy=\n",
       "array([[1, 0, 0],\n",
       "       [0, 1, 0],\n",
       "       [0, 0, 1]])>"
      ]
     },
     "execution_count": 205,
     "metadata": {},
     "output_type": "execute_result"
    }
   ],
   "source": [
    "y_label_oh_tf2"
   ]
  },
  {
   "cell_type": "code",
   "execution_count": 206,
   "id": "2bc1c20b-733c-4566-8aa4-f73e697ca763",
   "metadata": {},
   "outputs": [
    {
     "data": {
      "text/plain": [
       "<tf.Tensor: shape=(3,), dtype=float32, numpy=array([0.41702995, 0.17910424, 0.45344603], dtype=float32)>"
      ]
     },
     "execution_count": 206,
     "metadata": {},
     "output_type": "execute_result"
    }
   ],
   "source": [
    "tfLoss2 = tf.nn.softmax_cross_entropy_with_logits(y_label_oh_tf2, y_pred_tf2)\n",
    "tfLoss2"
   ]
  },
  {
   "cell_type": "code",
   "execution_count": 207,
   "id": "a1adc914-96f1-4f3c-bf5c-7e64385e6bad",
   "metadata": {},
   "outputs": [
    {
     "data": {
      "text/plain": [
       "<tf.Tensor: shape=(3,), dtype=float32, numpy=array([0.41702995, 0.17910424, 0.45344603], dtype=float32)>"
      ]
     },
     "execution_count": 207,
     "metadata": {},
     "output_type": "execute_result"
    }
   ],
   "source": [
    "tfLoss2a = tf.keras.losses.categorical_crossentropy(y_label_oh_tf2, y_pred_tf2, from_logits=True)\n",
    "tfLoss2a"
   ]
  },
  {
   "cell_type": "markdown",
   "id": "3137e1c0-c766-47fa-84ea-a2f49fb8c734",
   "metadata": {},
   "source": [
    "**Expected Loss: [0.41702995, 0.17910424, 0.45344603]**"
   ]
  },
  {
   "cell_type": "code",
   "execution_count": 208,
   "id": "a48d1861-7a36-4ada-98ab-371c84badd5f",
   "metadata": {},
   "outputs": [
    {
     "data": {
      "text/plain": [
       "<tf.Tensor: shape=(), dtype=float32, numpy=0.34986007>"
      ]
     },
     "execution_count": 208,
     "metadata": {},
     "output_type": "execute_result"
    }
   ],
   "source": [
    "cce = tf.keras.losses.CategoricalCrossentropy(from_logits=True)\n",
    "tf_Cost2 = cce(y_label_oh_tf2, y_pred_tf2)\n",
    "tf_Cost2"
   ]
  },
  {
   "cell_type": "markdown",
   "id": "fd4b20f7-2be2-49f7-9828-66ccf992cc2e",
   "metadata": {},
   "source": [
    "**Expected Cost: 0.3498600721359253**"
   ]
  },
  {
   "cell_type": "code",
   "execution_count": 209,
   "id": "d8da85af-1afb-4053-9881-7424e5ad172f",
   "metadata": {},
   "outputs": [
    {
     "data": {
      "text/plain": [
       "<tf.Tensor: shape=(3,), dtype=float32, numpy=array([0.41702995, 0.17910424, 0.45344603], dtype=float32)>"
      ]
     },
     "execution_count": 209,
     "metadata": {},
     "output_type": "execute_result"
    }
   ],
   "source": [
    "tf_sp_Loss2 = tf.nn.sparse_softmax_cross_entropy_with_logits(y_label_tf2, y_pred_tf2)\n",
    "tf_sp_Loss2"
   ]
  },
  {
   "cell_type": "code",
   "execution_count": 210,
   "id": "905d90d8-be2b-412d-a7ad-862599c65e92",
   "metadata": {},
   "outputs": [
    {
     "data": {
      "text/plain": [
       "<tf.Tensor: shape=(3,), dtype=float32, numpy=array([0.41702995, 0.17910424, 0.45344603], dtype=float32)>"
      ]
     },
     "execution_count": 210,
     "metadata": {},
     "output_type": "execute_result"
    }
   ],
   "source": [
    "tf_sp_Loss2a = tf.keras.losses.sparse_categorical_crossentropy(y_label_tf2, tf.nn.softmax(y_pred_tf2))\n",
    "tf_sp_Loss2a"
   ]
  },
  {
   "cell_type": "markdown",
   "id": "35ce6f11-baeb-4a6b-a2dc-0b171227959d",
   "metadata": {},
   "source": [
    "**Expected Cost: [0.41702995, 0.17910424, 0.45344603]**"
   ]
  },
  {
   "cell_type": "code",
   "execution_count": 211,
   "id": "c8238e9a-5da1-4fd4-84bc-e9515304b73f",
   "metadata": {},
   "outputs": [
    {
     "data": {
      "text/plain": [
       "<tf.Tensor: shape=(), dtype=float32, numpy=0.34986007>"
      ]
     },
     "execution_count": 211,
     "metadata": {},
     "output_type": "execute_result"
    }
   ],
   "source": [
    "tf.math.reduce_mean(tf.keras.losses.sparse_categorical_crossentropy(y_label_tf2, y_pred_tf2, from_logits=True))"
   ]
  },
  {
   "cell_type": "markdown",
   "id": "633ab186-3d29-48f9-accf-140a65354926",
   "metadata": {},
   "source": [
    "**Expected Cost: 0.3498600721359253**"
   ]
  },
  {
   "cell_type": "code",
   "execution_count": 212,
   "id": "41108318-ff41-451e-b1cc-5e7cd1072ca4",
   "metadata": {},
   "outputs": [
    {
     "data": {
      "text/plain": [
       "<tf.Tensor: shape=(), dtype=float32, numpy=0.34986007>"
      ]
     },
     "execution_count": 212,
     "metadata": {},
     "output_type": "execute_result"
    }
   ],
   "source": [
    "sp_cce = tf.keras.losses.SparseCategoricalCrossentropy(from_logits=True)\n",
    "tf_sp_Cost2 = sp_cce(y_label_tf2, y_pred_tf2)\n",
    "tf_sp_Cost2"
   ]
  },
  {
   "cell_type": "markdown",
   "id": "d4e6d462-6cfa-441a-ba26-539e8b0795ce",
   "metadata": {},
   "source": [
    "**Expected Cost: 0.3498600721359253**"
   ]
  },
  {
   "cell_type": "markdown",
   "id": "7758bdd6-e81a-4566-910c-3f5e945fc243",
   "metadata": {},
   "source": [
    "### Application of Cost Function Example 3"
   ]
  },
  {
   "cell_type": "code",
   "execution_count": 213,
   "id": "13fc83f6-8605-49ff-86ec-89f0dabd826e",
   "metadata": {},
   "outputs": [],
   "source": [
    "y_label3 = np.array([3, 3, 1])\n",
    "y_logits3 = np.array([\n",
    "    [0.3377, 0.4867, 0.8842, 0.0854, 0.2147],\n",
    "    [0.4853, 0.0468, 0.6769, 0.5482, 0.1570],\n",
    "    [0.0976, 0.9899, 0.6903, 0.0828, 0.0647]\n",
    "])"
   ]
  },
  {
   "cell_type": "code",
   "execution_count": 214,
   "id": "a08c98d1-dbad-4a10-9665-6a8a4d98404b",
   "metadata": {},
   "outputs": [
    {
     "data": {
      "text/plain": [
       "array([[0., 0., 0., 1., 0.],\n",
       "       [0., 0., 0., 1., 0.],\n",
       "       [0., 1., 0., 0., 0.]])"
      ]
     },
     "execution_count": 214,
     "metadata": {},
     "output_type": "execute_result"
    }
   ],
   "source": [
    "# Below is alternative way to convert class index to one-hot encoding\n",
    "y_label_oh3 = np.identity(5)[y_label3]\n",
    "y_label_oh3"
   ]
  },
  {
   "cell_type": "markdown",
   "id": "416d7e8f-ce44-4d6d-95e7-2c8218a54715",
   "metadata": {},
   "source": [
    "#### Custom Function"
   ]
  },
  {
   "cell_type": "code",
   "execution_count": 215,
   "id": "f1c96176-aea8-4b0f-b0b3-4334276e6525",
   "metadata": {},
   "outputs": [
    {
     "data": {
      "text/plain": [
       "array([1.96594395, 1.47208511, 1.08213471])"
      ]
     },
     "execution_count": 215,
     "metadata": {},
     "output_type": "execute_result"
    }
   ],
   "source": [
    "myCrossEntropyLoss(y_logits3, y_label_oh3)"
   ]
  },
  {
   "cell_type": "code",
   "execution_count": 216,
   "id": "1c9630e0-2b6e-443f-9514-ac93257d13d9",
   "metadata": {},
   "outputs": [
    {
     "data": {
      "text/plain": [
       "1.5067212566449255"
      ]
     },
     "execution_count": 216,
     "metadata": {},
     "output_type": "execute_result"
    }
   ],
   "source": [
    "cost3a = myCrossEntropyLoss(y_logits3, y_label_oh3).mean()\n",
    "cost3a"
   ]
  },
  {
   "cell_type": "code",
   "execution_count": 217,
   "id": "fa358d62-2b53-49bf-92d9-24867d6006dd",
   "metadata": {},
   "outputs": [
    {
     "data": {
      "text/plain": [
       "array([1.96594395, 1.47208511, 1.08213471])"
      ]
     },
     "execution_count": 217,
     "metadata": {},
     "output_type": "execute_result"
    }
   ],
   "source": [
    "mySparseCrossEntropyLoss(y_logits3, y_label3)"
   ]
  },
  {
   "cell_type": "code",
   "execution_count": 218,
   "id": "06094a1a-4fea-415b-9033-b8e5da5faaec",
   "metadata": {},
   "outputs": [
    {
     "data": {
      "text/plain": [
       "1.5067212566449255"
      ]
     },
     "execution_count": 218,
     "metadata": {},
     "output_type": "execute_result"
    }
   ],
   "source": [
    "cost3b = mySparseCrossEntropyLoss(y_logits3, y_label3).mean()\n",
    "cost3b"
   ]
  },
  {
   "cell_type": "markdown",
   "id": "52754606-c9a9-474b-ab17-d14a88159b03",
   "metadata": {},
   "source": [
    "**Expected Loss: [1.96594395, 1.47208511, 1.08213471]**"
   ]
  },
  {
   "cell_type": "markdown",
   "id": "f7243768-8dd7-44cf-9316-638a6ba59c4c",
   "metadata": {},
   "source": [
    "**Expected Cost: 1.5067212566449257**"
   ]
  },
  {
   "cell_type": "markdown",
   "id": "b67e65d2-5b94-4854-bd53-18e8d6fd3df6",
   "metadata": {},
   "source": [
    "#### Pytorch"
   ]
  },
  {
   "cell_type": "code",
   "execution_count": 219,
   "id": "6d18f88d-273f-4cf6-94a0-af0c5e3d6bfc",
   "metadata": {},
   "outputs": [],
   "source": [
    "# Convert to Pytorch datatype\n",
    "# For Sparse datatype must be in long\n",
    "yt_label3 = torch.tensor(y_label3).long()\n",
    "# Single data must be in 2D shape like 1,5: accepts float\n",
    "yt_label_oh3 = torch.tensor(y_label_oh3).float()\n",
    "# Single data must be in 2D shape like 1,5: accepts float\n",
    "yt_pred3 = torch.tensor(y_logits3).float()"
   ]
  },
  {
   "cell_type": "code",
   "execution_count": 220,
   "id": "0f76a1cc-4a9f-4265-bba6-bd81fb96cece",
   "metadata": {},
   "outputs": [
    {
     "name": "stdout",
     "output_type": "stream",
     "text": [
      "Cross-entropy loss: 1.5067211389541626\n"
     ]
    }
   ],
   "source": [
    "# Compute the cross-entropy loss\n",
    "loss3 = torch.nn.functional.cross_entropy(yt_pred3,yt_label_oh3)\n",
    "print(f\"Cross-entropy loss: {loss3.item()}\")"
   ]
  },
  {
   "cell_type": "code",
   "execution_count": 221,
   "id": "7ad04429-49f5-4c90-a9e7-cc6ba02096e7",
   "metadata": {},
   "outputs": [
    {
     "name": "stdout",
     "output_type": "stream",
     "text": [
      "Cross-entropy loss: 1.5067211389541626\n"
     ]
    }
   ],
   "source": [
    "# Compute the sparse cross-entropy loss\n",
    "sp_loss3 = torch.nn.functional.cross_entropy(yt_pred3,yt_label3)\n",
    "print(f\"Cross-entropy loss: {sp_loss3.item()}\")"
   ]
  },
  {
   "cell_type": "markdown",
   "id": "2e3bc4ea-d181-44f3-96a9-c32c61b93577",
   "metadata": {},
   "source": [
    "**Expected Cost: 1.5067212566449257**"
   ]
  },
  {
   "cell_type": "markdown",
   "id": "cbf8342e-4294-4c3c-984c-9b7426aeb271",
   "metadata": {},
   "source": [
    "#### TensorFlow"
   ]
  },
  {
   "cell_type": "code",
   "execution_count": 222,
   "id": "960238ba-29bd-478b-8571-204b6e77ce38",
   "metadata": {},
   "outputs": [],
   "source": [
    "# Label must be in tf.int64\n",
    "# Prediction must be in float\n",
    "y_label_tf3 = tf.convert_to_tensor(y_label3, dtype=tf.int64)\n",
    "y_label_oh_tf3 = tf.convert_to_tensor(y_label_oh3, dtype=tf.int64)\n",
    "y_pred_tf3= tf.convert_to_tensor(y_logits3, dtype=float)"
   ]
  },
  {
   "cell_type": "code",
   "execution_count": 223,
   "id": "2f984027-b4aa-4e8b-8fdf-b42a60bae33b",
   "metadata": {},
   "outputs": [
    {
     "data": {
      "text/plain": [
       "<tf.Tensor: shape=(3,), dtype=float32, numpy=array([1.9659439, 1.4720851, 1.0821347], dtype=float32)>"
      ]
     },
     "execution_count": 223,
     "metadata": {},
     "output_type": "execute_result"
    }
   ],
   "source": [
    "tfLoss3 = tf.nn.softmax_cross_entropy_with_logits(y_label_oh_tf3, y_pred_tf3)\n",
    "tfLoss3"
   ]
  },
  {
   "cell_type": "code",
   "execution_count": 224,
   "id": "30db5b61-6833-4b59-8cbd-9c163b06b7cc",
   "metadata": {},
   "outputs": [
    {
     "data": {
      "text/plain": [
       "<tf.Tensor: shape=(3,), dtype=float32, numpy=array([1.9659439, 1.4720851, 1.0821347], dtype=float32)>"
      ]
     },
     "execution_count": 224,
     "metadata": {},
     "output_type": "execute_result"
    }
   ],
   "source": [
    "tfLoss3a = tf.keras.losses.categorical_crossentropy(y_label_oh_tf3, y_pred_tf3, from_logits=True)\n",
    "tfLoss3a"
   ]
  },
  {
   "cell_type": "markdown",
   "id": "95221e5a-756d-4383-87e5-41da4dbd68da",
   "metadata": {},
   "source": [
    "**Expected Loss: [1.96594395, 1.47208511, 1.08213471]**"
   ]
  },
  {
   "cell_type": "code",
   "execution_count": 225,
   "id": "b2082cb1-243f-44fa-9458-5d5ff43303c3",
   "metadata": {},
   "outputs": [
    {
     "data": {
      "text/plain": [
       "<tf.Tensor: shape=(), dtype=float32, numpy=1.5067211>"
      ]
     },
     "execution_count": 225,
     "metadata": {},
     "output_type": "execute_result"
    }
   ],
   "source": [
    "cce = tf.keras.losses.CategoricalCrossentropy(from_logits=True)\n",
    "tf_Cost3 = cce(y_label_oh_tf3, y_pred_tf3)\n",
    "tf_Cost3"
   ]
  },
  {
   "cell_type": "markdown",
   "id": "016535d6-2b29-4315-b6ff-77c68c1ed46f",
   "metadata": {},
   "source": [
    "**Expected Cost: 1.5067212566449257**"
   ]
  },
  {
   "cell_type": "code",
   "execution_count": 226,
   "id": "caee4328-91ad-48c0-9874-70dca946e2ff",
   "metadata": {},
   "outputs": [
    {
     "data": {
      "text/plain": [
       "<tf.Tensor: shape=(3,), dtype=float32, numpy=array([1.9659439, 1.4720851, 1.0821347], dtype=float32)>"
      ]
     },
     "execution_count": 226,
     "metadata": {},
     "output_type": "execute_result"
    }
   ],
   "source": [
    "tf_sp_Loss3 = tf.nn.sparse_softmax_cross_entropy_with_logits(y_label_tf3, y_pred_tf3)\n",
    "tf_sp_Loss3"
   ]
  },
  {
   "cell_type": "code",
   "execution_count": 227,
   "id": "02fdc599-1c46-423c-9bc9-a27e3f8ad617",
   "metadata": {},
   "outputs": [
    {
     "data": {
      "text/plain": [
       "<tf.Tensor: shape=(3,), dtype=float32, numpy=array([1.9659439, 1.4720851, 1.0821347], dtype=float32)>"
      ]
     },
     "execution_count": 227,
     "metadata": {},
     "output_type": "execute_result"
    }
   ],
   "source": [
    "tf_sp_Loss3a = tf.keras.losses.sparse_categorical_crossentropy(y_label_tf3, tf.nn.softmax(y_pred_tf3))\n",
    "tf_sp_Loss3a"
   ]
  },
  {
   "cell_type": "markdown",
   "id": "efd5127f-80e9-458c-a08c-b350971edd0d",
   "metadata": {},
   "source": [
    "**Expected Loss: [1.96594395, 1.47208511, 1.08213471]**"
   ]
  },
  {
   "cell_type": "code",
   "execution_count": 228,
   "id": "4c2fe264-3b2b-4c37-81ae-82fd8ce1e5b0",
   "metadata": {},
   "outputs": [
    {
     "data": {
      "text/plain": [
       "<tf.Tensor: shape=(), dtype=float32, numpy=1.5067211>"
      ]
     },
     "execution_count": 228,
     "metadata": {},
     "output_type": "execute_result"
    }
   ],
   "source": [
    "sp_cce = tf.keras.losses.SparseCategoricalCrossentropy(from_logits=True)\n",
    "tf_sp_Cost3 = sp_cce(y_label_tf3, y_pred_tf3)\n",
    "tf_sp_Cost3"
   ]
  },
  {
   "cell_type": "markdown",
   "id": "c091488f-7b2f-4995-9864-31226489795a",
   "metadata": {},
   "source": [
    "**Expected Cost: 1.5067212566449257**"
   ]
  },
  {
   "cell_type": "markdown",
   "id": "8c90c723-4a37-4193-98d8-c80afad88fe4",
   "metadata": {},
   "source": [
    "### Application of Cost Function Example 4"
   ]
  },
  {
   "cell_type": "code",
   "execution_count": 229,
   "id": "35eea3b4-efbf-4a78-8971-1530a218b65b",
   "metadata": {},
   "outputs": [],
   "source": [
    "y_label4 = np.array([0])\n",
    "y_logits4 = np.array([1.4, 0.4, 1.1, 0.1, 2.3]).reshape(1,-1)"
   ]
  },
  {
   "cell_type": "code",
   "execution_count": 230,
   "id": "f83cb2c3-9cdb-4d0c-9814-fe7cfe1a0369",
   "metadata": {},
   "outputs": [
    {
     "data": {
      "text/plain": [
       "array([[1., 0., 0., 0., 0.]])"
      ]
     },
     "execution_count": 230,
     "metadata": {},
     "output_type": "execute_result"
    }
   ],
   "source": [
    "number_of_class = 5\n",
    "y_label_oh4 = np.identity(number_of_class)[y_label4]\n",
    "y_label_oh4"
   ]
  },
  {
   "cell_type": "markdown",
   "id": "d3139116-11ab-441d-97dd-7f4c738180a4",
   "metadata": {},
   "source": [
    "#### Custom Function"
   ]
  },
  {
   "cell_type": "code",
   "execution_count": 231,
   "id": "1165933e-5e43-455b-8143-f8a6614da866",
   "metadata": {},
   "outputs": [
    {
     "data": {
      "text/plain": [
       "array([1.57708672])"
      ]
     },
     "execution_count": 231,
     "metadata": {},
     "output_type": "execute_result"
    }
   ],
   "source": [
    "myCrossEntropyLoss(y_logits4, y_label_oh4)"
   ]
  },
  {
   "cell_type": "code",
   "execution_count": 232,
   "id": "6c400d90-23fa-4fe9-a316-3a2a887d53fe",
   "metadata": {},
   "outputs": [
    {
     "data": {
      "text/plain": [
       "array([1.57708672])"
      ]
     },
     "execution_count": 232,
     "metadata": {},
     "output_type": "execute_result"
    }
   ],
   "source": [
    "mySparseCrossEntropyLoss(y_logits4, y_label4)"
   ]
  },
  {
   "cell_type": "markdown",
   "id": "172387a0-6023-4213-aa6e-17016e6a315c",
   "metadata": {},
   "source": [
    "**Expected: 1.5770866870880127**"
   ]
  },
  {
   "cell_type": "markdown",
   "id": "46e8beca-0dbb-48d5-bf00-b630c14b5723",
   "metadata": {},
   "source": [
    "#### Pytorch"
   ]
  },
  {
   "cell_type": "code",
   "execution_count": 233,
   "id": "d558db88-eb1a-470d-b4b1-85cef3590396",
   "metadata": {},
   "outputs": [],
   "source": [
    "# Convert to Pytorch datatype\n",
    "# For Sparse datatype must be in long\n",
    "yt_label4 = torch.tensor(y_label4).long()\n",
    "# Single data must be in 2D shape like 1,5: accepts float\n",
    "yt_label_oh4 = torch.tensor(y_label_oh4).float()\n",
    "# Single data must be in 2D shape like 1,5: accepts float\n",
    "yt_pred4= torch.tensor(y_logits4).float()"
   ]
  },
  {
   "cell_type": "code",
   "execution_count": 234,
   "id": "d00c68b7-555c-432f-a8a0-b35f37b87c6b",
   "metadata": {},
   "outputs": [
    {
     "name": "stdout",
     "output_type": "stream",
     "text": [
      "Cross-entropy loss: 1.5770866870880127\n"
     ]
    }
   ],
   "source": [
    "# Compute the cross-entropy loss\n",
    "loss4 = torch.nn.functional.cross_entropy(yt_pred4,yt_label_oh4)\n",
    "print(f\"Cross-entropy loss: {loss4.item()}\")"
   ]
  },
  {
   "cell_type": "code",
   "execution_count": 235,
   "id": "fe4dfd50-108e-4fc8-9e72-7b7c13398407",
   "metadata": {},
   "outputs": [
    {
     "name": "stdout",
     "output_type": "stream",
     "text": [
      "Cross-entropy loss: 1.5770866870880127\n"
     ]
    }
   ],
   "source": [
    "# Compute the sparse cross-entropy loss\n",
    "sp_loss4 = torch.nn.functional.cross_entropy(yt_pred4,yt_label4)\n",
    "print(f\"Cross-entropy loss: {sp_loss4.item()}\")"
   ]
  },
  {
   "cell_type": "markdown",
   "id": "a6f10818-5f80-4799-8fba-b6cbf27a444c",
   "metadata": {},
   "source": [
    "**Expected: 1.5770866870880127**"
   ]
  },
  {
   "cell_type": "markdown",
   "id": "5a7fb1a5-e775-4b11-bdf5-2ec0fbe974d5",
   "metadata": {},
   "source": [
    "#### TensorFlow"
   ]
  },
  {
   "cell_type": "code",
   "execution_count": 236,
   "id": "5e793644-1f04-4c1d-af96-00096dc10bfe",
   "metadata": {},
   "outputs": [],
   "source": [
    "# Label must be in tf.int64\n",
    "# Prediction must be in float\n",
    "y_label_tf4 = tf.convert_to_tensor(y_label4, dtype=tf.int64)\n",
    "y_label_oh_tf4 = tf.convert_to_tensor(y_label_oh4, dtype=tf.int64)\n",
    "y_pred_tf4= tf.convert_to_tensor(y_logits4, dtype=float)"
   ]
  },
  {
   "cell_type": "code",
   "execution_count": 237,
   "id": "97963f11-86a4-4a39-8815-eab86c320c03",
   "metadata": {},
   "outputs": [
    {
     "data": {
      "text/plain": [
       "<tf.Tensor: shape=(1,), dtype=float32, numpy=array([1.5770867], dtype=float32)>"
      ]
     },
     "execution_count": 237,
     "metadata": {},
     "output_type": "execute_result"
    }
   ],
   "source": [
    "tfLoss4 = tf.nn.softmax_cross_entropy_with_logits(y_label_oh_tf4, y_pred_tf4)\n",
    "tfLoss4"
   ]
  },
  {
   "cell_type": "code",
   "execution_count": 238,
   "id": "c0c7bffc-6440-4c45-b2e1-a04d09fe62df",
   "metadata": {},
   "outputs": [
    {
     "data": {
      "text/plain": [
       "<tf.Tensor: shape=(1,), dtype=float32, numpy=array([1.5770867], dtype=float32)>"
      ]
     },
     "execution_count": 238,
     "metadata": {},
     "output_type": "execute_result"
    }
   ],
   "source": [
    "tfLoss4a = tf.keras.losses.categorical_crossentropy(y_label_oh_tf4, y_pred_tf4, from_logits=True)\n",
    "tfLoss4a"
   ]
  },
  {
   "cell_type": "code",
   "execution_count": 239,
   "id": "47f909b9-6212-4a00-bd1a-534c66f698d3",
   "metadata": {},
   "outputs": [
    {
     "data": {
      "text/plain": [
       "<tf.Tensor: shape=(), dtype=float32, numpy=1.5770867>"
      ]
     },
     "execution_count": 239,
     "metadata": {},
     "output_type": "execute_result"
    }
   ],
   "source": [
    "cce = tf.keras.losses.CategoricalCrossentropy(from_logits=True)\n",
    "tf_Cost4 = cce(y_label_oh_tf4, y_pred_tf4)\n",
    "tf_Cost4"
   ]
  },
  {
   "cell_type": "code",
   "execution_count": 240,
   "id": "dc96bd26-10ff-45ae-9014-40c38f668337",
   "metadata": {},
   "outputs": [
    {
     "data": {
      "text/plain": [
       "<tf.Tensor: shape=(1,), dtype=float32, numpy=array([1.5770867], dtype=float32)>"
      ]
     },
     "execution_count": 240,
     "metadata": {},
     "output_type": "execute_result"
    }
   ],
   "source": [
    "tf_sp_Loss4 = tf.nn.sparse_softmax_cross_entropy_with_logits(y_label_tf4, y_pred_tf4)\n",
    "tf_sp_Loss4"
   ]
  },
  {
   "cell_type": "code",
   "execution_count": 241,
   "id": "26f3f158-215e-4474-aff8-236a3fe0d4a3",
   "metadata": {},
   "outputs": [
    {
     "data": {
      "text/plain": [
       "<tf.Tensor: shape=(1,), dtype=float32, numpy=array([1.5770867], dtype=float32)>"
      ]
     },
     "execution_count": 241,
     "metadata": {},
     "output_type": "execute_result"
    }
   ],
   "source": [
    "tf_sp_Loss4a = tf.keras.losses.sparse_categorical_crossentropy(y_label_tf4, tf.nn.softmax(y_pred_tf4))\n",
    "tf_sp_Loss4a"
   ]
  },
  {
   "cell_type": "code",
   "execution_count": 242,
   "id": "58a65054-1843-44c1-8216-21964d823e00",
   "metadata": {},
   "outputs": [
    {
     "data": {
      "text/plain": [
       "<tf.Tensor: shape=(), dtype=float32, numpy=1.5770867>"
      ]
     },
     "execution_count": 242,
     "metadata": {},
     "output_type": "execute_result"
    }
   ],
   "source": [
    "sp_cce = tf.keras.losses.SparseCategoricalCrossentropy(from_logits=True)\n",
    "tf_sp_Cost4 = sp_cce(y_label_tf4, y_pred_tf4)\n",
    "tf_sp_Cost4"
   ]
  },
  {
   "cell_type": "markdown",
   "id": "b967f0fd-232a-4009-bb87-da27690bcae4",
   "metadata": {},
   "source": [
    "**Expected: 1.5770866870880127**"
   ]
  },
  {
   "cell_type": "markdown",
   "id": "7a7f2782-5a74-48a2-bb9d-3c4f48b1fd66",
   "metadata": {},
   "source": [
    "### Application of Cost Function Example 5"
   ]
  },
  {
   "cell_type": "code",
   "execution_count": 243,
   "id": "ac1095b8-51a1-46e6-8c14-c2abcf69f8a1",
   "metadata": {},
   "outputs": [
    {
     "data": {
      "text/plain": [
       "array([[1. , 3. ],\n",
       "       [2. , 4. ],\n",
       "       [8. , 9. ],\n",
       "       [3. , 4. ],\n",
       "       [7. , 8.5],\n",
       "       [6.8, 7.5],\n",
       "       [2. , 5. ],\n",
       "       [1.5, 2.5],\n",
       "       [6. , 3. ],\n",
       "       [7. , 4. ],\n",
       "       [6. , 5. ],\n",
       "       [6. , 8. ],\n",
       "       [8. , 3. ],\n",
       "       [5. , 4. ],\n",
       "       [9. , 8. ]])"
      ]
     },
     "execution_count": 243,
     "metadata": {},
     "output_type": "execute_result"
    }
   ],
   "source": [
    "X1"
   ]
  },
  {
   "cell_type": "code",
   "execution_count": 244,
   "id": "929179d6-f35e-4cc6-a9ed-5db3452c8485",
   "metadata": {},
   "outputs": [
    {
     "data": {
      "text/plain": [
       "array([0, 0, 1, 0, 1, 1, 0, 0, 2, 2, 2, 1, 2, 2, 1])"
      ]
     },
     "execution_count": 244,
     "metadata": {},
     "output_type": "execute_result"
    }
   ],
   "source": [
    "y1"
   ]
  },
  {
   "cell_type": "code",
   "execution_count": 245,
   "id": "b8e92887-9626-4c76-935f-0f929da17e5b",
   "metadata": {},
   "outputs": [],
   "source": [
    "w = np.array([[0.8,0.3,0.5],[0.1,0.4,0.7]])\n",
    "b = 3"
   ]
  },
  {
   "cell_type": "code",
   "execution_count": 246,
   "id": "fd7630a0-02a7-42d5-94df-5bca3562fb62",
   "metadata": {},
   "outputs": [
    {
     "data": {
      "text/plain": [
       "(2, 3)"
      ]
     },
     "execution_count": 246,
     "metadata": {},
     "output_type": "execute_result"
    }
   ],
   "source": [
    "w.shape"
   ]
  },
  {
   "cell_type": "code",
   "execution_count": 247,
   "id": "251d2744-7404-4b13-81ba-9bf0cf9711e1",
   "metadata": {},
   "outputs": [],
   "source": [
    "y_logits5 = X1@w + b"
   ]
  },
  {
   "cell_type": "code",
   "execution_count": 248,
   "id": "7e1fa08c-713a-4c47-b38b-ed792c855d5b",
   "metadata": {},
   "outputs": [
    {
     "data": {
      "text/plain": [
       "(15, 3)"
      ]
     },
     "execution_count": 248,
     "metadata": {},
     "output_type": "execute_result"
    }
   ],
   "source": [
    "y_logits5.shape"
   ]
  },
  {
   "cell_type": "code",
   "execution_count": 249,
   "id": "bb16592c-0bdd-4aa2-a538-03b5a2a0b13a",
   "metadata": {},
   "outputs": [],
   "source": [
    "y_label5 = y1"
   ]
  },
  {
   "cell_type": "code",
   "execution_count": 250,
   "id": "66e9723d-c4f9-4f9d-85c0-c0115b15186e",
   "metadata": {},
   "outputs": [],
   "source": [
    "oh_encoder = preprocessing.OneHotEncoder()\n",
    "y_label_oh5 = oh_encoder.fit_transform(y_label5.reshape(-1,1)).toarray()"
   ]
  },
  {
   "cell_type": "markdown",
   "id": "a08b6bb2-d5f2-429e-bc3d-a4533c4d107b",
   "metadata": {},
   "source": [
    "#### Pytorch"
   ]
  },
  {
   "cell_type": "code",
   "execution_count": 251,
   "id": "2354e878-4d76-401f-92a1-0bd4f2f363b8",
   "metadata": {},
   "outputs": [],
   "source": [
    "# Convert to Pytorch datatype\n",
    "# For Sparse datatype must be in long\n",
    "# Pytorch only accept 1D for class index\n",
    "yt_label5 = torch.tensor(y_label5).long()\n",
    "# Single data must be in 2D shape like 1,5: accepts float\n",
    "yt_label_oh5 = torch.tensor(y_label_oh5).float()\n",
    "# Single data must be in 2D shape like 1,5: accepts float\n",
    "yt_pred5= torch.tensor(y_logits5).float()"
   ]
  },
  {
   "cell_type": "code",
   "execution_count": 252,
   "id": "3dc2a9e0-3c5c-4a0e-b588-679f374349d7",
   "metadata": {},
   "outputs": [
    {
     "data": {
      "text/plain": [
       "torch.Size([15])"
      ]
     },
     "execution_count": 252,
     "metadata": {},
     "output_type": "execute_result"
    }
   ],
   "source": [
    "yt_label5.shape"
   ]
  },
  {
   "cell_type": "code",
   "execution_count": 253,
   "id": "54231f05-79bc-49e4-90f4-3669d540de47",
   "metadata": {},
   "outputs": [
    {
     "data": {
      "text/plain": [
       "torch.Size([15, 3])"
      ]
     },
     "execution_count": 253,
     "metadata": {},
     "output_type": "execute_result"
    }
   ],
   "source": [
    "yt_pred5.shape"
   ]
  },
  {
   "cell_type": "code",
   "execution_count": 254,
   "id": "adb1f07c-05f4-42f8-8387-813b2dd63636",
   "metadata": {},
   "outputs": [
    {
     "data": {
      "text/plain": [
       "torch.Size([15, 3])"
      ]
     },
     "execution_count": 254,
     "metadata": {},
     "output_type": "execute_result"
    }
   ],
   "source": [
    "yt_label_oh5.shape"
   ]
  },
  {
   "cell_type": "code",
   "execution_count": 255,
   "id": "0d78ffaf-404c-48e3-ad6d-3d24a563006e",
   "metadata": {},
   "outputs": [
    {
     "name": "stdout",
     "output_type": "stream",
     "text": [
      "Cross-entropy loss: 2.221487283706665\n"
     ]
    }
   ],
   "source": [
    "# Compute the cross-entropy loss\n",
    "loss5 = torch.nn.functional.cross_entropy(yt_pred5,yt_label_oh5)\n",
    "print(f\"Cross-entropy loss: {loss5.item()}\")"
   ]
  },
  {
   "cell_type": "code",
   "execution_count": 256,
   "id": "aeb2599e-798a-4345-8727-13ca260c832d",
   "metadata": {},
   "outputs": [
    {
     "name": "stdout",
     "output_type": "stream",
     "text": [
      "Cross-entropy loss: 2.221487283706665\n"
     ]
    }
   ],
   "source": [
    "# Compute the sparse cross-entropy loss\n",
    "# Pytorch y label only accept 1D \n",
    "sp_loss5 = torch.nn.functional.cross_entropy(yt_pred5,yt_label5)\n",
    "print(f\"Cross-entropy loss: {sp_loss5.item()}\")"
   ]
  },
  {
   "cell_type": "markdown",
   "id": "d83b6afa-9dae-42e5-a78a-a140cbea8b2c",
   "metadata": {},
   "source": [
    "**Expected: 2.221487283706665**"
   ]
  },
  {
   "cell_type": "markdown",
   "id": "750a0bdd-319e-45ba-835b-6fac036b8216",
   "metadata": {},
   "source": [
    "#### Custom Function"
   ]
  },
  {
   "cell_type": "code",
   "execution_count": 257,
   "id": "5409e70c-9c00-4f9c-a0cb-c2a566c54258",
   "metadata": {},
   "outputs": [
    {
     "data": {
      "text/plain": [
       "(15, 3)"
      ]
     },
     "execution_count": 257,
     "metadata": {},
     "output_type": "execute_result"
    }
   ],
   "source": [
    "y_logits5.shape"
   ]
  },
  {
   "cell_type": "code",
   "execution_count": 258,
   "id": "1a9ee28f-7303-4008-81f9-3d963a09b9c1",
   "metadata": {},
   "outputs": [
    {
     "data": {
      "text/plain": [
       "(15, 3)"
      ]
     },
     "execution_count": 258,
     "metadata": {},
     "output_type": "execute_result"
    }
   ],
   "source": [
    "y_label_oh5.shape"
   ]
  },
  {
   "cell_type": "code",
   "execution_count": 259,
   "id": "39d8d4a8-3b4d-4ed5-a8d2-bfcbb1328228",
   "metadata": {},
   "outputs": [
    {
     "data": {
      "text/plain": [
       "(15,)"
      ]
     },
     "execution_count": 259,
     "metadata": {},
     "output_type": "execute_result"
    }
   ],
   "source": [
    "y_label5.shape"
   ]
  },
  {
   "cell_type": "code",
   "execution_count": 260,
   "id": "132b1497-eb39-46da-be97-f38d61b8a7f2",
   "metadata": {},
   "outputs": [
    {
     "data": {
      "text/plain": [
       "array([1.94211923, 2.11276149, 4.36142959, 1.82817293, 4.01676271,\n",
       "       3.71659787, 2.61534246, 1.58055501, 0.75257411, 0.59613604,\n",
       "       0.31364197, 3.67428226, 1.06615927, 0.41698043, 4.32879068])"
      ]
     },
     "execution_count": 260,
     "metadata": {},
     "output_type": "execute_result"
    }
   ],
   "source": [
    "cross_en_loss5 = myCrossEntropyLoss(y_logits5, y_label_oh5)\n",
    "cross_en_loss5"
   ]
  },
  {
   "cell_type": "code",
   "execution_count": 261,
   "id": "5e6f4c94-b1ca-4ffb-8bfb-d9260005b49f",
   "metadata": {},
   "outputs": [
    {
     "data": {
      "text/plain": [
       "2.2214870703751908"
      ]
     },
     "execution_count": 261,
     "metadata": {},
     "output_type": "execute_result"
    }
   ],
   "source": [
    "cost5_en = cross_en_loss5.mean()\n",
    "cost5_en"
   ]
  },
  {
   "cell_type": "code",
   "execution_count": 262,
   "id": "10a4e5d0-73a7-4e0f-b798-58dc070b01e7",
   "metadata": {},
   "outputs": [
    {
     "data": {
      "text/plain": [
       "array([1.94211923, 2.11276149, 4.36142959, 1.82817293, 4.01676271,\n",
       "       3.71659787, 2.61534246, 1.58055501, 0.75257411, 0.59613604,\n",
       "       0.31364197, 3.67428226, 1.06615927, 0.41698043, 4.32879068])"
      ]
     },
     "execution_count": 262,
     "metadata": {},
     "output_type": "execute_result"
    }
   ],
   "source": [
    "cross_sp_en_loss5 = mySparseCrossEntropyLoss(y_logits5, y_label5)\n",
    "cross_sp_en_loss5"
   ]
  },
  {
   "cell_type": "code",
   "execution_count": 263,
   "id": "32c85c93-9d14-4530-b9ef-fe59cdb9e51d",
   "metadata": {},
   "outputs": [
    {
     "data": {
      "text/plain": [
       "2.2214870703751908"
      ]
     },
     "execution_count": 263,
     "metadata": {},
     "output_type": "execute_result"
    }
   ],
   "source": [
    "cross_sp_en_loss5.mean()"
   ]
  },
  {
   "cell_type": "markdown",
   "id": "f4132855-59c1-45ca-b088-95ea555ca402",
   "metadata": {},
   "source": [
    "**Expected: 2.221487283706665**"
   ]
  },
  {
   "cell_type": "markdown",
   "id": "2df20f53-cf75-48e5-8982-99a03a537614",
   "metadata": {},
   "source": [
    "#### TensorFlow"
   ]
  },
  {
   "cell_type": "code",
   "execution_count": 264,
   "id": "73114dbb-1f03-4ce2-9463-4a5bdbff91fd",
   "metadata": {},
   "outputs": [],
   "source": [
    "# Label must be in tf.int64\n",
    "# Prediction must be in float\n",
    "y_label_tf5 = tf.convert_to_tensor(y_label5, dtype=tf.int64)\n",
    "y_label_oh_tf5 = tf.convert_to_tensor(y_label_oh5, dtype=tf.int64)\n",
    "y_pred_tf5= tf.convert_to_tensor(y_logits5, dtype=float)"
   ]
  },
  {
   "cell_type": "code",
   "execution_count": 265,
   "id": "20f98cae-7fed-43e9-8606-5cb0ac7698fd",
   "metadata": {},
   "outputs": [
    {
     "data": {
      "text/plain": [
       "<tf.Tensor: shape=(15,), dtype=float32, numpy=\n",
       "array([1.9421194 , 2.1127617 , 4.3614297 , 1.8281729 , 4.0167623 ,\n",
       "       3.7165976 , 2.6153426 , 1.5805552 , 0.75257415, 0.596136  ,\n",
       "       0.31364208, 3.6742826 , 1.0661589 , 0.41698036, 4.328791  ],\n",
       "      dtype=float32)>"
      ]
     },
     "execution_count": 265,
     "metadata": {},
     "output_type": "execute_result"
    }
   ],
   "source": [
    "tfLoss5 = tf.nn.softmax_cross_entropy_with_logits(y_label_oh_tf5, y_pred_tf5)\n",
    "tfLoss5"
   ]
  },
  {
   "cell_type": "code",
   "execution_count": 266,
   "id": "b427c368-3262-4a15-a703-bf3a2652fac0",
   "metadata": {},
   "outputs": [
    {
     "data": {
      "text/plain": [
       "<tf.Tensor: shape=(15,), dtype=float32, numpy=\n",
       "array([1.9421194 , 2.1127617 , 4.3614297 , 1.8281729 , 4.0167623 ,\n",
       "       3.7165976 , 2.6153426 , 1.5805552 , 0.75257415, 0.596136  ,\n",
       "       0.31364208, 3.6742826 , 1.0661589 , 0.41698036, 4.328791  ],\n",
       "      dtype=float32)>"
      ]
     },
     "execution_count": 266,
     "metadata": {},
     "output_type": "execute_result"
    }
   ],
   "source": [
    "tfLoss5a = tf.keras.losses.categorical_crossentropy(y_label_oh_tf5, y_pred_tf5, from_logits=True)\n",
    "tfLoss5a"
   ]
  },
  {
   "cell_type": "code",
   "execution_count": 267,
   "id": "3cba27b2-9d40-4c63-afcd-8ba0fa4d2daa",
   "metadata": {},
   "outputs": [
    {
     "data": {
      "text/plain": [
       "<tf.Tensor: shape=(), dtype=float32, numpy=2.2214873>"
      ]
     },
     "execution_count": 267,
     "metadata": {},
     "output_type": "execute_result"
    }
   ],
   "source": [
    "cce = tf.keras.losses.CategoricalCrossentropy(from_logits=True)\n",
    "tf_Cost5 = cce(y_label_oh_tf5, y_pred_tf5)\n",
    "tf_Cost5"
   ]
  },
  {
   "cell_type": "markdown",
   "id": "0e267ec5-6683-4411-92ac-bd4d5c2f8f8a",
   "metadata": {},
   "source": [
    "**Expected: 2.221487283706665**"
   ]
  },
  {
   "cell_type": "code",
   "execution_count": 268,
   "id": "9a593da0-fc64-4941-820c-301fcf14d96a",
   "metadata": {},
   "outputs": [
    {
     "data": {
      "text/plain": [
       "<tf.Tensor: shape=(15,), dtype=float32, numpy=\n",
       "array([1.9421192 , 2.1127617 , 4.3614297 , 1.8281729 , 4.0167623 ,\n",
       "       3.7165976 , 2.6153426 , 1.5805552 , 0.75257415, 0.5961359 ,\n",
       "       0.31364208, 3.6742826 , 1.0661589 , 0.41698036, 4.328791  ],\n",
       "      dtype=float32)>"
      ]
     },
     "execution_count": 268,
     "metadata": {},
     "output_type": "execute_result"
    }
   ],
   "source": [
    "tf_sp_Loss5 = tf.nn.sparse_softmax_cross_entropy_with_logits(y_label_tf5, y_pred_tf5)\n",
    "tf_sp_Loss5"
   ]
  },
  {
   "cell_type": "code",
   "execution_count": 269,
   "id": "f45f5445-7b87-4e83-aad5-59a4c19d836e",
   "metadata": {},
   "outputs": [
    {
     "data": {
      "text/plain": [
       "<tf.Tensor: shape=(15,), dtype=float32, numpy=\n",
       "array([1.9421191 , 2.1127615 , 4.3614297 , 1.8281729 , 4.0167627 ,\n",
       "       3.7165976 , 2.6153426 , 1.5805552 , 0.75257415, 0.5961359 ,\n",
       "       0.31364208, 3.6742826 , 1.0661588 , 0.41698036, 4.328791  ],\n",
       "      dtype=float32)>"
      ]
     },
     "execution_count": 269,
     "metadata": {},
     "output_type": "execute_result"
    }
   ],
   "source": [
    "tf_sp_Loss5a = tf.keras.losses.sparse_categorical_crossentropy(y_label_tf5, tf.nn.softmax(y_pred_tf5))\n",
    "tf_sp_Loss5a"
   ]
  },
  {
   "cell_type": "code",
   "execution_count": 270,
   "id": "5c36f033-c48f-4ab5-a63d-2de1fb327996",
   "metadata": {},
   "outputs": [
    {
     "data": {
      "text/plain": [
       "<tf.Tensor: shape=(), dtype=float32, numpy=2.2214873>"
      ]
     },
     "execution_count": 270,
     "metadata": {},
     "output_type": "execute_result"
    }
   ],
   "source": [
    "sp_cce = tf.keras.losses.SparseCategoricalCrossentropy(from_logits=True)\n",
    "tf_sp_Cost5 = sp_cce(y_label_tf5, y_pred_tf5)\n",
    "tf_sp_Cost5"
   ]
  },
  {
   "cell_type": "markdown",
   "id": "800665cf-b7ac-42d6-b342-13c505b75a2b",
   "metadata": {},
   "source": [
    "**Expected: 2.221487283706665**"
   ]
  },
  {
   "cell_type": "markdown",
   "id": "2e19027a-6597-47dd-be60-0d0c840a4549",
   "metadata": {},
   "source": [
    "## Softmax Loss and Cost Function Full Implementation"
   ]
  },
  {
   "cell_type": "code",
   "execution_count": 271,
   "id": "d10bff94-d679-4869-92f1-22390cd0e70d",
   "metadata": {},
   "outputs": [],
   "source": [
    "def myCategoricalCrossEntropyCost(X,y,W,b):\n",
    "    '''\n",
    "    Categorical Cross Entropy Loss for One Hot Encoded Label\n",
    "\n",
    "    INPUT:\n",
    "    X = features data in matrix form in (m, n) matrix where m is the total number of examples and n is number of features\n",
    "    y = also known as y or truth label. Accepts a matrix (m,k) of one hot ecoding to each class. m is total number of examples \n",
    "        and k is total number of classes\n",
    "    W = estimate W in matrix form in (n,k) where n is the number of features and k is number of classes\n",
    "    b = estimate b in row vectors (1, k) where k is number of classes\n",
    "\n",
    "    OUTPUT:\n",
    "    loss = loss of each observation/example\n",
    "    cost = the mean of the loss function\n",
    "    '''\n",
    "    \n",
    "    ## Dimension checking\n",
    "    if y.ndim == 1:\n",
    "        print('Error, the y label must be one-hot encoded')\n",
    "        return\n",
    "\n",
    "    if X.ndim == 1:\n",
    "        X = X.reshape(-1,1)\n",
    "\n",
    "    m,n = X.shape\n",
    "    k = y.shape[1]\n",
    "\n",
    "    ## Check the shape of data input to see if it is matched\n",
    "    if y.shape != (m,k):\n",
    "        print('Error, y must be in m by k matrix where m = total examples as X, k is total number of class')\n",
    "        return\n",
    "\n",
    "    if W.shape != (n,k):\n",
    "        print(W.shape)\n",
    "        print((n,k))\n",
    "        print('Error, type mismatch for W. W must be n by k matrix where n = number of features, k = number of classes')\n",
    "        return\n",
    "\n",
    "    if b.shape != (1,k):\n",
    "        print('Error, type mismatch for b. b must be 1 by k matrix where k = number of classes')\n",
    "        return\n",
    "\n",
    "    if X.shape[0] != y.shape[0]:\n",
    "        print('Error, the total number of observation does not match between X and y')\n",
    "        return\n",
    "    \n",
    "    ## Make prediction\n",
    "    fx = X@W + b\n",
    "\n",
    "    ## Applied Softmax\n",
    "    softmax = mySoftmax_v2(fx)\n",
    "    #print('softmax',softmax)\n",
    "\n",
    "    ## Compute Loss Function\n",
    "    loss = np.negative(np.sum((y * np.log(softmax +1e-20)), axis = 1))\n",
    "\n",
    "    ## Compute Cost\n",
    "    cost = loss.mean()\n",
    "\n",
    "    return cost, loss"
   ]
  },
  {
   "cell_type": "code",
   "execution_count": 272,
   "id": "df95e6f6-a7d5-4a5b-af44-a391287816f1",
   "metadata": {},
   "outputs": [],
   "source": [
    "def mySparseCategoricalCrossEntropyCost(X,y,W,b):\n",
    "    '''\n",
    "    Sparse Categorical Cross Entropy Loss for Class Index Label\n",
    "\n",
    "    INPUT:\n",
    "    X = features data in matrix form in (m, n) matrix where m is the total number of examples and n is number of features\n",
    "    y = also known as y or truth label. Accepts a matrix of one hot ecoding to each class.\n",
    "    W = estimate W in matrix form in (n,k) where n is the number of features and k is number of classes\n",
    "    b = estimate b in row vectors (1, k) where k is number of classes\n",
    "\n",
    "    OUTPUT:\n",
    "    loss = loss each observation\n",
    "    cost = the mean of the loss function\n",
    "    '''\n",
    "\n",
    "    ## Dimension checking\n",
    "    if y.ndim == 1:\n",
    "        y = y.reshape(-1,1)\n",
    "\n",
    "    if X.ndim == 1:\n",
    "        X = X.reshape(-1,1)\n",
    "\n",
    "    m,n = X.shape\n",
    "    k = len(np.unique(y))\n",
    "\n",
    "    ## Check the shape of data input to see if it is matched\n",
    "    if W.shape != (n,k):\n",
    "        print('Error, type mismatch for W. W must be n by k matrix where n = number of features, k = number of classes')\n",
    "        return\n",
    "\n",
    "    if b.shape != (1,k):\n",
    "        print('Error, type mismatch for b. b must be 1 by k matrix where k = number of classes')\n",
    "        return\n",
    "\n",
    "    if X.shape[0] != y.shape[0]:\n",
    "        print('Error, the total number of observation does not match between X and y')\n",
    "        return\n",
    "        \n",
    "\n",
    "    ## Make prediction\n",
    "    fx = X@W + b\n",
    "\n",
    "    ## Applied Softmax\n",
    "    softmax = mySoftmax_v2(fx)\n",
    "    #print('softmax',softmax)\n",
    "\n",
    "     ## Compute Loss Function\n",
    "    loss = np.negative(np.log(softmax[np.arange(m).reshape(-1,1), y]+1e-20))\n",
    "\n",
    "    ## Compute Cost\n",
    "    cost = loss.mean()\n",
    "\n",
    "    return cost, loss"
   ]
  },
  {
   "cell_type": "markdown",
   "id": "87e6b571-2974-49b8-a65a-013a0aed3170",
   "metadata": {},
   "source": [
    "### Full Application of Cost Function Example 1"
   ]
  },
  {
   "cell_type": "code",
   "execution_count": 273,
   "id": "9820b9e0-802a-4a55-912e-31dde0472f57",
   "metadata": {},
   "outputs": [
    {
     "data": {
      "text/plain": [
       "(15, 2)"
      ]
     },
     "execution_count": 273,
     "metadata": {},
     "output_type": "execute_result"
    }
   ],
   "source": [
    "X1.shape"
   ]
  },
  {
   "cell_type": "code",
   "execution_count": 274,
   "id": "36ad09f8-8126-4ec6-9eae-f8645525d23a",
   "metadata": {},
   "outputs": [
    {
     "data": {
      "text/plain": [
       "(15,)"
      ]
     },
     "execution_count": 274,
     "metadata": {},
     "output_type": "execute_result"
    }
   ],
   "source": [
    "y1.shape"
   ]
  },
  {
   "cell_type": "code",
   "execution_count": 275,
   "id": "efeefaaf-56ce-4a7e-83ed-adefa00dc96b",
   "metadata": {},
   "outputs": [
    {
     "data": {
      "text/plain": [
       "3"
      ]
     },
     "execution_count": 275,
     "metadata": {},
     "output_type": "execute_result"
    }
   ],
   "source": [
    "y_label10  = y1.reshape(-1,1)\n",
    "k = len(np.unique(y1))\n",
    "k"
   ]
  },
  {
   "cell_type": "code",
   "execution_count": 276,
   "id": "059048dd-c016-42a1-b20d-2600edff0fff",
   "metadata": {},
   "outputs": [],
   "source": [
    "oh_encoder = preprocessing.OneHotEncoder()\n",
    "y_label_oh10 = oh_encoder.fit_transform(y_label10).toarray()"
   ]
  },
  {
   "cell_type": "code",
   "execution_count": 277,
   "id": "6e06b0b1-0f9a-4773-8771-f1c4ebf0652b",
   "metadata": {},
   "outputs": [],
   "source": [
    "np.random.seed(123)\n",
    "W = np.random.randn(2,3)\n",
    "b = np.random.randn(1,3)"
   ]
  },
  {
   "cell_type": "code",
   "execution_count": 278,
   "id": "75ee5679-1660-4b3f-85b5-d98e052fea0d",
   "metadata": {},
   "outputs": [
    {
     "data": {
      "text/plain": [
       "array([[-1.0856306 ,  0.99734545,  0.2829785 ],\n",
       "       [-1.50629471, -0.57860025,  1.65143654]])"
      ]
     },
     "execution_count": 278,
     "metadata": {},
     "output_type": "execute_result"
    }
   ],
   "source": [
    "W"
   ]
  },
  {
   "cell_type": "code",
   "execution_count": 279,
   "id": "03a8e077-9afc-4614-a7f2-230eaa014e4f",
   "metadata": {},
   "outputs": [
    {
     "data": {
      "text/plain": [
       "array([[-2.42667924, -0.42891263,  1.26593626]])"
      ]
     },
     "execution_count": 279,
     "metadata": {},
     "output_type": "execute_result"
    }
   ],
   "source": [
    "b"
   ]
  },
  {
   "cell_type": "code",
   "execution_count": 280,
   "id": "7afd4f33-a6e5-4a04-af1f-3ef5e80eef37",
   "metadata": {},
   "outputs": [],
   "source": [
    "y_logits10 = X1@W + b"
   ]
  },
  {
   "cell_type": "markdown",
   "id": "6197c1a9-cbf3-46cc-abb4-b10d783d1f34",
   "metadata": {},
   "source": [
    "#### Pytorch"
   ]
  },
  {
   "cell_type": "code",
   "execution_count": 281,
   "id": "dbf149fd-eb7f-4ebd-bcf4-d0a6624fc8f3",
   "metadata": {},
   "outputs": [],
   "source": [
    "# Convert to Pytorch datatype\n",
    "# For Sparse datatype must be in long\n",
    "# Pytorch only accept 1D for class index\n",
    "yt_label10 = torch.tensor(y1).long()\n",
    "# Single data must be in 2D shape like 1,5: accepts float\n",
    "yt_label_oh10 = torch.tensor(y_label_oh10).float()\n",
    "# Single data must be in 2D shape like 1,5: accepts float\n",
    "yt_pred10= torch.tensor(y_logits10).float()"
   ]
  },
  {
   "cell_type": "code",
   "execution_count": 282,
   "id": "4965709d-737a-4b58-82c6-0baee038501b",
   "metadata": {},
   "outputs": [
    {
     "name": "stdout",
     "output_type": "stream",
     "text": [
      "Cross-entropy loss: 10.906058311462402\n"
     ]
    }
   ],
   "source": [
    "# Compute the cross-entropy loss\n",
    "loss10 = torch.nn.functional.cross_entropy(yt_pred10,yt_label_oh10)\n",
    "print(f\"Cross-entropy loss: {loss10.item()}\")"
   ]
  },
  {
   "cell_type": "code",
   "execution_count": 283,
   "id": "dc68a38c-e814-4e0c-ba29-92c69366089f",
   "metadata": {},
   "outputs": [
    {
     "name": "stdout",
     "output_type": "stream",
     "text": [
      "Cross-entropy loss: 10.906058311462402\n"
     ]
    }
   ],
   "source": [
    "# Compute the sparse cross-entropy loss\n",
    "# Pytorch y label only accept 1D \n",
    "sp_loss10 = torch.nn.functional.cross_entropy(yt_pred10,yt_label10)\n",
    "print(f\"Cross-entropy loss: {sp_loss10.item()}\")"
   ]
  },
  {
   "cell_type": "markdown",
   "id": "3020d174-696b-4a67-96f8-89e140b10382",
   "metadata": {},
   "source": [
    "#### Custom Function"
   ]
  },
  {
   "cell_type": "code",
   "execution_count": 284,
   "id": "e434fed6-38d8-4e43-89cf-b5d1c0042d5a",
   "metadata": {},
   "outputs": [
    {
     "data": {
      "text/plain": [
       "10.906058965246007"
      ]
     },
     "execution_count": 284,
     "metadata": {},
     "output_type": "execute_result"
    }
   ],
   "source": [
    "cross_en_cost10,  cross_en_loss10 = myCategoricalCrossEntropyCost(X1, y_label_oh10, W, b)\n",
    "cross_en_cost10"
   ]
  },
  {
   "cell_type": "code",
   "execution_count": 285,
   "id": "cc7a0e32-ae8b-4bd8-b664-627776616170",
   "metadata": {},
   "outputs": [
    {
     "data": {
      "text/plain": [
       "array([1.45348851e+01, 1.90608611e+01, 1.60502445e+01, 2.04295771e+01,\n",
       "       1.56495931e+01, 1.35624308e+01, 2.22185010e+01, 1.36418891e+01,\n",
       "       1.64571150e-02, 3.63826962e-03, 1.91825002e-04, 1.52489417e+01,\n",
       "       6.69580166e-02, 8.72980164e-04, 1.31058427e+01])"
      ]
     },
     "execution_count": 285,
     "metadata": {},
     "output_type": "execute_result"
    }
   ],
   "source": [
    "cross_en_loss10"
   ]
  },
  {
   "cell_type": "code",
   "execution_count": 286,
   "id": "f810fe2e-2f36-4dcf-b658-36f312c048ae",
   "metadata": {},
   "outputs": [
    {
     "data": {
      "text/plain": [
       "10.906058965246007"
      ]
     },
     "execution_count": 286,
     "metadata": {},
     "output_type": "execute_result"
    }
   ],
   "source": [
    "cross_en_loss10.mean()"
   ]
  },
  {
   "cell_type": "code",
   "execution_count": 287,
   "id": "06060e27-d8c8-4429-b8ad-2e9dc99ef242",
   "metadata": {},
   "outputs": [
    {
     "data": {
      "text/plain": [
       "10.906058965246007"
      ]
     },
     "execution_count": 287,
     "metadata": {},
     "output_type": "execute_result"
    }
   ],
   "source": [
    "sp_cross_en_cost10,  cross_en_loss10 = mySparseCategoricalCrossEntropyCost(X1, y_label10, W, b)\n",
    "sp_cross_en_cost10"
   ]
  },
  {
   "cell_type": "markdown",
   "id": "3bd5aab6-44c6-46a7-90aa-0eca42a74751",
   "metadata": {},
   "source": [
    "#### TensorFlow"
   ]
  },
  {
   "cell_type": "code",
   "execution_count": 288,
   "id": "4a7f4381-0036-4f7d-b0ee-49991b7676c0",
   "metadata": {},
   "outputs": [],
   "source": [
    "# Label must be in tf.int64\n",
    "# Prediction must be in float\n",
    "y_label_tf10 = tf.convert_to_tensor(y1, dtype=tf.int64)\n",
    "y_label_oh_tf10 = tf.convert_to_tensor(y_label_oh10, dtype=tf.int64)\n",
    "y_pred_tf10 = tf.convert_to_tensor(y_logits10, dtype=float)"
   ]
  },
  {
   "cell_type": "code",
   "execution_count": 289,
   "id": "7084074f-0f2d-4c67-a67f-1bcfe4f8068f",
   "metadata": {},
   "outputs": [
    {
     "data": {
      "text/plain": [
       "<tf.Tensor: shape=(), dtype=float32, numpy=10.906058>"
      ]
     },
     "execution_count": 289,
     "metadata": {},
     "output_type": "execute_result"
    }
   ],
   "source": [
    "cce = tf.keras.losses.CategoricalCrossentropy(from_logits=True)\n",
    "tf_Cost10 = cce(y_label_oh_tf10, y_pred_tf10)\n",
    "tf_Cost10"
   ]
  },
  {
   "cell_type": "code",
   "execution_count": 290,
   "id": "0f066fa2-c00f-418e-adaf-5754165f573e",
   "metadata": {},
   "outputs": [
    {
     "data": {
      "text/plain": [
       "<tf.Tensor: shape=(), dtype=float32, numpy=10.906058>"
      ]
     },
     "execution_count": 290,
     "metadata": {},
     "output_type": "execute_result"
    }
   ],
   "source": [
    "sp_cce = tf.keras.losses.SparseCategoricalCrossentropy(from_logits=True)\n",
    "tf_sp_Cost10 = sp_cce(y_label_tf10, y_pred_tf10)\n",
    "tf_sp_Cost10"
   ]
  },
  {
   "cell_type": "markdown",
   "id": "a85e4f3d-2334-48bc-9a54-f0955b66fade",
   "metadata": {},
   "source": [
    "### Full Application of Cost Function Example 2"
   ]
  },
  {
   "cell_type": "code",
   "execution_count": 291,
   "id": "f2ad4630-d45c-44a2-8c39-575974e635b1",
   "metadata": {},
   "outputs": [
    {
     "data": {
      "text/plain": [
       "(3, 2)"
      ]
     },
     "execution_count": 291,
     "metadata": {},
     "output_type": "execute_result"
    }
   ],
   "source": [
    "X2.shape"
   ]
  },
  {
   "cell_type": "code",
   "execution_count": 292,
   "id": "f371ad42-5185-4673-95ab-79a26e7fd25c",
   "metadata": {},
   "outputs": [
    {
     "data": {
      "text/plain": [
       "(3, 1)"
      ]
     },
     "execution_count": 292,
     "metadata": {},
     "output_type": "execute_result"
    }
   ],
   "source": [
    "y2.shape"
   ]
  },
  {
   "cell_type": "code",
   "execution_count": 293,
   "id": "c95ad662-bc65-4bd9-b0e8-674158fd5e11",
   "metadata": {},
   "outputs": [
    {
     "data": {
      "text/plain": [
       "3"
      ]
     },
     "execution_count": 293,
     "metadata": {},
     "output_type": "execute_result"
    }
   ],
   "source": [
    "y_label11  = y2.reshape(-1,1)\n",
    "k = len(np.unique(y2))\n",
    "k"
   ]
  },
  {
   "cell_type": "code",
   "execution_count": 294,
   "id": "a9333138-3255-4fb1-aa33-3ef5a158b7fe",
   "metadata": {},
   "outputs": [],
   "source": [
    "y_label_oh11 = oh_encoder.fit_transform(y2.reshape(-1,1)).toarray()\n",
    "np.random.seed(124)\n",
    "W = np.random.randn(2,3)\n",
    "b = np.random.randn(1,3)\n",
    "y_logits11 = X2@W + b"
   ]
  },
  {
   "cell_type": "markdown",
   "id": "ea8d3880-8c81-4754-9948-07714a49c4ea",
   "metadata": {},
   "source": [
    "#### Pytorch"
   ]
  },
  {
   "cell_type": "code",
   "execution_count": 295,
   "id": "b01c4092-50b7-4533-a94d-e4699c214e1e",
   "metadata": {},
   "outputs": [],
   "source": [
    "# Convert to Pytorch datatype\n",
    "# For Sparse datatype must be in long\n",
    "# Pytorch only accept 1D for class index\n",
    "yt_label11 = torch.tensor(y2.ravel()).long()\n",
    "# Single data must be in 2D shape like 1,5: accepts float\n",
    "yt_label_oh11 = torch.tensor(y_label_oh11).float()\n",
    "# Single data must be in 2D shape like 1,5: accepts float\n",
    "yt_pred11= torch.tensor(y_logits11).float()"
   ]
  },
  {
   "cell_type": "code",
   "execution_count": 296,
   "id": "e5e66080-3043-499f-8801-9bcb41960ce0",
   "metadata": {},
   "outputs": [
    {
     "name": "stdout",
     "output_type": "stream",
     "text": [
      "Cross-entropy loss: 18.30141258239746\n"
     ]
    }
   ],
   "source": [
    "# Compute the cross-entropy loss\n",
    "loss11 = torch.nn.functional.cross_entropy(yt_pred11,yt_label_oh11)\n",
    "print(f\"Cross-entropy loss: {loss11.item()}\")"
   ]
  },
  {
   "cell_type": "code",
   "execution_count": 297,
   "id": "11574063-bd0a-45cd-9769-bc92e6687c23",
   "metadata": {},
   "outputs": [
    {
     "name": "stdout",
     "output_type": "stream",
     "text": [
      "Cross-entropy loss: 18.301410675048828\n"
     ]
    }
   ],
   "source": [
    "# Compute the sparse cross-entropy loss\n",
    "# Pytorch y label only accept 1D \n",
    "sp_loss11 = torch.nn.functional.cross_entropy(yt_pred11,yt_label11)\n",
    "print(f\"Cross-entropy loss: {sp_loss11.item()}\")"
   ]
  },
  {
   "cell_type": "markdown",
   "id": "55ff40fc-723f-4537-9bc2-4a31c5d267b9",
   "metadata": {},
   "source": [
    "#### Custom Function"
   ]
  },
  {
   "cell_type": "code",
   "execution_count": 298,
   "id": "c564f9ad-6d02-419c-9bc7-23e6d718ba81",
   "metadata": {},
   "outputs": [
    {
     "data": {
      "text/plain": [
       "18.301205047490257"
      ]
     },
     "execution_count": 298,
     "metadata": {},
     "output_type": "execute_result"
    }
   ],
   "source": [
    "cross_en_cost11,  cross_en_loss11 = myCategoricalCrossEntropyCost(X2,y_label_oh11, W, b)\n",
    "cross_en_cost11"
   ]
  },
  {
   "cell_type": "code",
   "execution_count": 299,
   "id": "5d1de662-afc5-4fc6-9bc3-eaa439432090",
   "metadata": {},
   "outputs": [
    {
     "data": {
      "text/plain": [
       "18.301205047490257"
      ]
     },
     "execution_count": 299,
     "metadata": {},
     "output_type": "execute_result"
    }
   ],
   "source": [
    "sp_cross_en_cost11,  cross_en_loss11 = mySparseCategoricalCrossEntropyCost(X2,y_label11, W, b)\n",
    "sp_cross_en_cost11"
   ]
  },
  {
   "cell_type": "markdown",
   "id": "a5c7cb45-e01e-4399-b312-5f5d6877b02d",
   "metadata": {},
   "source": [
    "#### TensorFlow"
   ]
  },
  {
   "cell_type": "code",
   "execution_count": 300,
   "id": "20da7070-1a44-4ddf-914b-32b4ac2751e0",
   "metadata": {},
   "outputs": [],
   "source": [
    "# Label must be in tf.int64\n",
    "# Prediction must be in float\n",
    "y_label_tf11 = tf.convert_to_tensor(y2.ravel(), dtype=tf.int64)\n",
    "y_label_oh_tf11 = tf.convert_to_tensor(y_label_oh11, dtype=tf.int64)\n",
    "y_pred_tf11 = tf.convert_to_tensor(y_logits11, dtype=float)"
   ]
  },
  {
   "cell_type": "code",
   "execution_count": 301,
   "id": "52e6ff36-0f16-456b-a4dd-389361f74d3f",
   "metadata": {},
   "outputs": [
    {
     "data": {
      "text/plain": [
       "<tf.Tensor: shape=(), dtype=float32, numpy=18.301413>"
      ]
     },
     "execution_count": 301,
     "metadata": {},
     "output_type": "execute_result"
    }
   ],
   "source": [
    "cce = tf.keras.losses.CategoricalCrossentropy(from_logits=True)\n",
    "tf_Cost11 = cce(y_label_oh_tf11, y_pred_tf11)\n",
    "tf_Cost11"
   ]
  },
  {
   "cell_type": "code",
   "execution_count": 302,
   "id": "112f4f34-6af6-4ae9-a243-cd64bd7bb34f",
   "metadata": {},
   "outputs": [
    {
     "data": {
      "text/plain": [
       "<tf.Tensor: shape=(), dtype=float32, numpy=18.301413>"
      ]
     },
     "execution_count": 302,
     "metadata": {},
     "output_type": "execute_result"
    }
   ],
   "source": [
    "sp_cce = tf.keras.losses.SparseCategoricalCrossentropy(from_logits=True)\n",
    "tf_sp_Cost11 = sp_cce(y_label_tf11, y_pred_tf11)\n",
    "tf_sp_Cost11"
   ]
  },
  {
   "cell_type": "markdown",
   "id": "3ca6c335-0c4a-4b7e-89d2-6452a5765d60",
   "metadata": {},
   "source": [
    "### Full Application of Cost Function Example 3"
   ]
  },
  {
   "cell_type": "code",
   "execution_count": 303,
   "id": "2a90d476-044c-4b49-9ce8-b60bf1388e78",
   "metadata": {},
   "outputs": [
    {
     "data": {
      "text/plain": [
       "(50, 2)"
      ]
     },
     "execution_count": 303,
     "metadata": {},
     "output_type": "execute_result"
    }
   ],
   "source": [
    "X3.shape"
   ]
  },
  {
   "cell_type": "code",
   "execution_count": 304,
   "id": "2cd52774-330a-4d51-b9c1-e7d66748e78b",
   "metadata": {},
   "outputs": [
    {
     "data": {
      "text/plain": [
       "(50,)"
      ]
     },
     "execution_count": 304,
     "metadata": {},
     "output_type": "execute_result"
    }
   ],
   "source": [
    "y3.shape"
   ]
  },
  {
   "cell_type": "code",
   "execution_count": 305,
   "id": "6b81e707-0866-44fc-8dfa-887184a82ef3",
   "metadata": {},
   "outputs": [
    {
     "data": {
      "text/plain": [
       "4"
      ]
     },
     "execution_count": 305,
     "metadata": {},
     "output_type": "execute_result"
    }
   ],
   "source": [
    "y_label12  = y3.reshape(-1,1)\n",
    "k = len(np.unique(y3))\n",
    "k"
   ]
  },
  {
   "cell_type": "code",
   "execution_count": 306,
   "id": "e3449af6-a35c-47d0-91de-01f1284dfe85",
   "metadata": {},
   "outputs": [],
   "source": [
    "y_label_oh12 = oh_encoder.fit_transform(y3.reshape(-1,1)).toarray()\n",
    "np.random.seed(125)\n",
    "W = np.random.randn(2,4)\n",
    "b = np.random.randn(1,4)\n",
    "y_logits12 = X3@W + b"
   ]
  },
  {
   "cell_type": "markdown",
   "id": "12d322f1-e9b8-498c-a296-5c124f0046dc",
   "metadata": {},
   "source": [
    "#### Pytorch"
   ]
  },
  {
   "cell_type": "code",
   "execution_count": 307,
   "id": "34d25e77-fa87-46ef-87f1-775ddbf7d32b",
   "metadata": {},
   "outputs": [],
   "source": [
    "# Convert to Pytorch datatype\n",
    "# For Sparse datatype must be in long\n",
    "# Pytorch only accept 1D for class index\n",
    "yt_label12 = torch.tensor(y3).long()\n",
    "# Single data must be in 2D shape like 1,5: accepts float\n",
    "yt_label_oh12 = torch.tensor(y_label_oh12).float()\n",
    "# Single data must be in 2D shape like 1,5: accepts float\n",
    "yt_pred12= torch.tensor(y_logits12).float()"
   ]
  },
  {
   "cell_type": "code",
   "execution_count": 308,
   "id": "e92c9647-6d4e-423e-a5b1-8714e5fa1fdd",
   "metadata": {},
   "outputs": [
    {
     "name": "stdout",
     "output_type": "stream",
     "text": [
      "Cross-entropy loss: 2.867373466491699\n"
     ]
    }
   ],
   "source": [
    "# Compute the cross-entropy loss\n",
    "loss12 = torch.nn.functional.cross_entropy(yt_pred12,yt_label_oh12)\n",
    "print(f\"Cross-entropy loss: {loss12.item()}\")"
   ]
  },
  {
   "cell_type": "code",
   "execution_count": 309,
   "id": "ff80b340-4952-47c7-ab92-4c2dcb05ff18",
   "metadata": {},
   "outputs": [
    {
     "name": "stdout",
     "output_type": "stream",
     "text": [
      "Cross-entropy loss: 2.867372751235962\n"
     ]
    }
   ],
   "source": [
    "# Compute the sparse cross-entropy loss\n",
    "# Pytorch y label only accept 1D \n",
    "sp_loss12 = torch.nn.functional.cross_entropy(yt_pred12,yt_label12)\n",
    "print(f\"Cross-entropy loss: {sp_loss12.item()}\")"
   ]
  },
  {
   "cell_type": "markdown",
   "id": "55da029d-3c05-45ae-ad22-db87220a9a85",
   "metadata": {},
   "source": [
    "#### Custom Function"
   ]
  },
  {
   "cell_type": "code",
   "execution_count": 310,
   "id": "6f9f24a6-2fcd-4545-b33d-21db085e1a80",
   "metadata": {},
   "outputs": [
    {
     "data": {
      "text/plain": [
       "2.867373145950611"
      ]
     },
     "execution_count": 310,
     "metadata": {},
     "output_type": "execute_result"
    }
   ],
   "source": [
    "cross_en_cost12,  cross_en_loss12 = myCategoricalCrossEntropyCost(X3,y_label_oh12, W, b)\n",
    "cross_en_cost12"
   ]
  },
  {
   "cell_type": "code",
   "execution_count": 311,
   "id": "8b1164d4-f887-47b1-82e0-847267918411",
   "metadata": {},
   "outputs": [
    {
     "data": {
      "text/plain": [
       "2.867373145950611"
      ]
     },
     "execution_count": 311,
     "metadata": {},
     "output_type": "execute_result"
    }
   ],
   "source": [
    "sp_cross_en_cost12,  cross_en_loss12 = mySparseCategoricalCrossEntropyCost(X3,y_label12, W, b)\n",
    "sp_cross_en_cost12"
   ]
  },
  {
   "cell_type": "markdown",
   "id": "65e2a66d-5319-4014-b81a-27131dc0f4a3",
   "metadata": {},
   "source": [
    "#### TensorFlow"
   ]
  },
  {
   "cell_type": "code",
   "execution_count": 312,
   "id": "8d2b7ba5-d089-4813-821c-4e8e50ddc692",
   "metadata": {},
   "outputs": [],
   "source": [
    "# Label must be in tf.int64\n",
    "# Prediction must be in float\n",
    "y_label_tf12 = tf.convert_to_tensor(y3, dtype=tf.int64)\n",
    "y_label_oh_tf12 = tf.convert_to_tensor(y_label_oh12, dtype=tf.int64)\n",
    "y_pred_tf12 = tf.convert_to_tensor(y_logits12, dtype=float)"
   ]
  },
  {
   "cell_type": "code",
   "execution_count": 313,
   "id": "04bc4728-36f8-4a36-b018-e000e57d2d42",
   "metadata": {},
   "outputs": [
    {
     "data": {
      "text/plain": [
       "<tf.Tensor: shape=(), dtype=float32, numpy=2.8673728>"
      ]
     },
     "execution_count": 313,
     "metadata": {},
     "output_type": "execute_result"
    }
   ],
   "source": [
    "cce = tf.keras.losses.CategoricalCrossentropy(from_logits=True)\n",
    "tf_Cost12 = cce(y_label_oh_tf12, y_pred_tf12)\n",
    "tf_Cost12"
   ]
  },
  {
   "cell_type": "code",
   "execution_count": 314,
   "id": "162b4d6b-4499-4b7b-ad8f-cd2c9fd9713e",
   "metadata": {},
   "outputs": [
    {
     "data": {
      "text/plain": [
       "<tf.Tensor: shape=(), dtype=float32, numpy=2.8673728>"
      ]
     },
     "execution_count": 314,
     "metadata": {},
     "output_type": "execute_result"
    }
   ],
   "source": [
    "sp_cce = tf.keras.losses.SparseCategoricalCrossentropy(from_logits=True)\n",
    "tf_sp_Cost12 = sp_cce(y_label_tf12, y_pred_tf12)\n",
    "tf_sp_Cost12"
   ]
  },
  {
   "cell_type": "markdown",
   "id": "8397bae8-fda7-48c5-9a72-59e9afc0a749",
   "metadata": {},
   "source": [
    "## End"
   ]
  },
  {
   "cell_type": "code",
   "execution_count": null,
   "id": "8c42ee9d-a3ea-4386-a69f-c17731554e24",
   "metadata": {},
   "outputs": [],
   "source": []
  }
 ],
 "metadata": {
  "kernelspec": {
   "display_name": "Python 3 (ipykernel)",
   "language": "python",
   "name": "python3"
  },
  "language_info": {
   "codemirror_mode": {
    "name": "ipython",
    "version": 3
   },
   "file_extension": ".py",
   "mimetype": "text/x-python",
   "name": "python",
   "nbconvert_exporter": "python",
   "pygments_lexer": "ipython3",
   "version": "3.11.5"
  }
 },
 "nbformat": 4,
 "nbformat_minor": 5
}
