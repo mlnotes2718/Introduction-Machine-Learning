{
 "cells": [
  {
   "cell_type": "markdown",
   "id": "7734d10a",
   "metadata": {},
   "source": [
    "# Machine Learning Master Notes 2 - Overview of Linear Regression (One Feature)"
   ]
  },
  {
   "cell_type": "markdown",
   "id": "4c650cff",
   "metadata": {},
   "source": [
    "## Supervised Learning\n",
    "\n",
    "In supervised learning, we will be using multiple features to predict an outcome. To have a better understanding of regression model, we simplified into one feature and one outcome. \n",
    "\n",
    "In the example of predicting housing prices, we will be using the size of the house as a basis to predict housing price. Please note that in reality, we may be using more characteristics such as location, number of rooms and age of the house etc to have better predictions. \n",
    "\n",
    "In our introduction of Linear Regression, we will start with one characteristics. \n",
    "\n",
    "In the terminology of machine learning, these characteristics are known as features. Thus, we will be showing linear regression with one feature.\n"
   ]
  },
  {
   "cell_type": "markdown",
   "id": "026a37e9",
   "metadata": {
    "jp-MarkdownHeadingCollapsed": true
   },
   "source": [
    "## Linear Regression (One Feature)"
   ]
  },
  {
   "cell_type": "markdown",
   "id": "d8c182ce",
   "metadata": {
    "jp-MarkdownHeadingCollapsed": true
   },
   "source": [
    "### Prepare Environment"
   ]
  },
  {
   "cell_type": "code",
   "execution_count": 1,
   "id": "1cec6739",
   "metadata": {},
   "outputs": [],
   "source": [
    "%matplotlib inline\n",
    "import numpy as np\n",
    "import pandas as pd\n",
    "import matplotlib.pyplot as plt"
   ]
  },
  {
   "cell_type": "markdown",
   "id": "ef0cdcd5",
   "metadata": {
    "jp-MarkdownHeadingCollapsed": true
   },
   "source": [
    "### Prepare Data"
   ]
  },
  {
   "cell_type": "code",
   "execution_count": 2,
   "id": "8aecc26e",
   "metadata": {},
   "outputs": [],
   "source": [
    "# read data from data file\n",
    "df = pd.read_csv('./data/housing_one_var.csv')"
   ]
  },
  {
   "cell_type": "code",
   "execution_count": 3,
   "id": "c756be45-53a1-4165-933b-7254d32f7e1c",
   "metadata": {},
   "outputs": [
    {
     "data": {
      "text/html": [
       "<div>\n",
       "<style scoped>\n",
       "    .dataframe tbody tr th:only-of-type {\n",
       "        vertical-align: middle;\n",
       "    }\n",
       "\n",
       "    .dataframe tbody tr th {\n",
       "        vertical-align: top;\n",
       "    }\n",
       "\n",
       "    .dataframe thead th {\n",
       "        text-align: right;\n",
       "    }\n",
       "</style>\n",
       "<table border=\"1\" class=\"dataframe\">\n",
       "  <thead>\n",
       "    <tr style=\"text-align: right;\">\n",
       "      <th></th>\n",
       "      <th>sqft</th>\n",
       "      <th>price</th>\n",
       "    </tr>\n",
       "  </thead>\n",
       "  <tbody>\n",
       "    <tr>\n",
       "      <th>0</th>\n",
       "      <td>2104</td>\n",
       "      <td>399900</td>\n",
       "    </tr>\n",
       "    <tr>\n",
       "      <th>1</th>\n",
       "      <td>1600</td>\n",
       "      <td>329900</td>\n",
       "    </tr>\n",
       "    <tr>\n",
       "      <th>2</th>\n",
       "      <td>2400</td>\n",
       "      <td>369000</td>\n",
       "    </tr>\n",
       "    <tr>\n",
       "      <th>3</th>\n",
       "      <td>1416</td>\n",
       "      <td>232000</td>\n",
       "    </tr>\n",
       "    <tr>\n",
       "      <th>4</th>\n",
       "      <td>3000</td>\n",
       "      <td>539900</td>\n",
       "    </tr>\n",
       "  </tbody>\n",
       "</table>\n",
       "</div>"
      ],
      "text/plain": [
       "   sqft   price\n",
       "0  2104  399900\n",
       "1  1600  329900\n",
       "2  2400  369000\n",
       "3  1416  232000\n",
       "4  3000  539900"
      ]
     },
     "execution_count": 3,
     "metadata": {},
     "output_type": "execute_result"
    }
   ],
   "source": [
    "df.head()"
   ]
  },
  {
   "cell_type": "markdown",
   "id": "b214b540-4f9b-4297-a4c4-d1d6a9b29753",
   "metadata": {},
   "source": [
    "As shown above, the first column is the size of the house and the second column is the price of the house. "
   ]
  },
  {
   "cell_type": "markdown",
   "id": "defb4dc0-985d-4137-89a5-928b1a59dfec",
   "metadata": {},
   "source": [
    "We need to split both columns into x and y. Size of the housing will be `x` and the prices of house will be `y`. "
   ]
  },
  {
   "cell_type": "markdown",
   "id": "1d6199d1-7186-433b-8aed-58c3482c6e4f",
   "metadata": {},
   "source": [
    "In practice, we usually split the data into training set and test set. For simplification, we consider all data as training data set. Thus the feature set will be named as `x_train`. The expected outcome will be labeled as `y_train`."
   ]
  },
  {
   "cell_type": "code",
   "execution_count": 4,
   "id": "0d79af76",
   "metadata": {},
   "outputs": [
    {
     "data": {
      "text/plain": [
       "0    2104\n",
       "1    1600\n",
       "2    2400\n",
       "3    1416\n",
       "4    3000\n",
       "Name: sqft, dtype: int64"
      ]
     },
     "execution_count": 4,
     "metadata": {},
     "output_type": "execute_result"
    }
   ],
   "source": [
    "# split the input features into x_train \n",
    "# There is no test data, so all of the data are training data\n",
    "x_train = df['sqft']\n",
    "x_train.head()"
   ]
  },
  {
   "cell_type": "code",
   "execution_count": 5,
   "id": "7cd04245",
   "metadata": {},
   "outputs": [
    {
     "data": {
      "text/plain": [
       "0    399900\n",
       "1    329900\n",
       "2    369000\n",
       "3    232000\n",
       "4    539900\n",
       "Name: price, dtype: int64"
      ]
     },
     "execution_count": 5,
     "metadata": {},
     "output_type": "execute_result"
    }
   ],
   "source": [
    "# split the output features into y_train \n",
    "# there is no test data, so all of the data are training data\n",
    "y_train = df['price']\n",
    "y_train.head()"
   ]
  },
  {
   "cell_type": "markdown",
   "id": "1debbd9c",
   "metadata": {
    "jp-MarkdownHeadingCollapsed": true
   },
   "source": [
    "## Basics of Linear Regression"
   ]
  },
  {
   "cell_type": "markdown",
   "id": "a73ca1f5",
   "metadata": {},
   "source": [
    "The simplest form of machine learning algorithm is linear regression. In Statistics, we use linear regression to make simple predictions by drawing a straight line to fit the data trend. We make predictions by moving the variable on the straight line.\n",
    "\n",
    "To draw a straight line in a graph, we use the formula:\n",
    "\n",
    "$$y = b + wx$$\n",
    "\n",
    "Where:\n",
    "- $x$ and $y$ are the axis on the graph \n",
    "- $b$ is the fixed constant (a.k.a. y-intercept) \n",
    "- $w$ is the weight of $x$ (a.k.a gradient of the slope)\n",
    "\n",
    "Alternatively, some textbook also use the following formula:\n",
    "\n",
    "$$y = w_0 + w_1x$$\n",
    "\n",
    "Where \n",
    "- $w_0$ is the same as $b$, \n",
    "- $w_1$ refers to the weight of $x$ \n",
    "\n",
    "We can also rewrite the formula above as a function of $x$:\n",
    "\n",
    "$$f_{w,b}(x) = b + wx$$\n",
    "\t\n",
    "Or in simpler form\n",
    "\n",
    "$$f(x) = b + wx$$\n"
   ]
  },
  {
   "cell_type": "markdown",
   "id": "accfd4e3-4c9a-41c5-a707-a969eb60b4b8",
   "metadata": {},
   "source": [
    "To estimate the housing price, we need to draw a trend line that fits the data. Once we plot a straight line that fits the data trend, then we we can estimate the value of y by moving the x value along the straight line."
   ]
  },
  {
   "cell_type": "markdown",
   "id": "074238d2-da50-41e3-bdac-272823996c17",
   "metadata": {},
   "source": [
    "Let us start by plotting the data first."
   ]
  },
  {
   "cell_type": "markdown",
   "id": "f44c2aeb",
   "metadata": {},
   "source": [
    "We can plot the chart as follows:"
   ]
  },
  {
   "cell_type": "code",
   "execution_count": 6,
   "id": "7a3f5c52",
   "metadata": {},
   "outputs": [
    {
     "data": {
      "image/png": "[encoded data removed]",
      "text/plain": [
       "<Figure size 640x480 with 1 Axes>"
      ]
     },
     "metadata": {},
     "output_type": "display_data"
    }
   ],
   "source": [
    "# Scatter plot of housing prices with corresponding house size\n",
    "fig = plt.figure()\n",
    "# Plot the data points\n",
    "plt.scatter(x_train, y_train, marker='x', c='r')\n",
    "# Set the title\n",
    "plt.title(\"Housing Prices\")\n",
    "# Set the y-axis label\n",
    "plt.ylabel('Price')\n",
    "# Set the x-axis label\n",
    "plt.xlabel('Size (sqft)')\n",
    "plt.show()"
   ]
  },
  {
   "cell_type": "markdown",
   "id": "a665fab8",
   "metadata": {},
   "source": [
    "We can draw a prediction line by determine the $b$ and $w$. To compute the housing price $y$ we use the formula:\n",
    "$y = b + wx$"
   ]
  },
  {
   "cell_type": "code",
   "execution_count": 7,
   "id": "885eb99c",
   "metadata": {},
   "outputs": [],
   "source": [
    "def compute_prediction_line(x,b,w):\n",
    "    m = len(x)\n",
    "    f = np.zeros(m)\n",
    "    for i in range(m):\n",
    "        f[i] = (x[i] * w) + b\n",
    "        \n",
    "    return f"
   ]
  },
  {
   "cell_type": "markdown",
   "id": "d4a632d1-736d-4423-ba79-f0a5cab1a98e",
   "metadata": {},
   "source": [
    "**Let us assume $b$ is $200$ and $w$ is $170$.**"
   ]
  },
  {
   "cell_type": "code",
   "execution_count": 8,
   "id": "4a7cfb81",
   "metadata": {},
   "outputs": [],
   "source": [
    "# Let us assume b is 200 and w is 170.\n",
    "b = 200\n",
    "w = 170\n",
    "y = compute_prediction_line(x_train,b,w)"
   ]
  },
  {
   "cell_type": "markdown",
   "id": "4f35ff50",
   "metadata": {},
   "source": [
    "If we draw a straight line as a rough estimation, we achieve our purpose of estimating housing prices.\n"
   ]
  },
  {
   "cell_type": "code",
   "execution_count": 9,
   "id": "f44776ff",
   "metadata": {},
   "outputs": [
    {
     "data": {
      "image/png": "[encoded data removed]",
      "text/plain": [
       "<Figure size 640x480 with 1 Axes>"
      ]
     },
     "metadata": {},
     "output_type": "display_data"
    }
   ],
   "source": [
    "fig = plt.figure()\n",
    "# Plot our model prediction\n",
    "plt.plot(x_train, y, c='b',label='Our Prediction')\n",
    "\n",
    "# Plot the data points\n",
    "plt.scatter(x_train, y_train, marker='x', c='r',label='Actual Values')\n",
    "\n",
    "# Set the title\n",
    "plt.title(\"Housing Prices\")\n",
    "# Set the y-axis label\n",
    "plt.ylabel('Price')\n",
    "# Set the x-axis label\n",
    "plt.xlabel('Size')\n",
    "plt.legend()\n",
    "plt.show()"
   ]
  },
  {
   "cell_type": "markdown",
   "id": "cf26a080",
   "metadata": {},
   "source": [
    "The above plot is drawn by **guessing** the b and w."
   ]
  },
  {
   "cell_type": "markdown",
   "id": "42ad5d41-6d52-4e3f-9a9e-a10dcd276268",
   "metadata": {},
   "source": [
    "In machine learning, we will be computing b and w using the linear regression formula.\n",
    "\n",
    "For the time being let's assume that the fitted line is b = 200, w = 170. What is the prediction if you want to sell a house at 3000 sq ft? \n",
    "\n",
    "We can compute using the following function."
   ]
  },
  {
   "cell_type": "code",
   "execution_count": 10,
   "id": "17159d78",
   "metadata": {},
   "outputs": [],
   "source": [
    "def prediction_house_price(x,b,w):\n",
    "    y_predict = (x * w) + b\n",
    "    return y_predict"
   ]
  },
  {
   "cell_type": "code",
   "execution_count": 11,
   "id": "d18df9d1",
   "metadata": {},
   "outputs": [
    {
     "name": "stdout",
     "output_type": "stream",
     "text": [
      "Estimated selling price of a house with 3,000sqft is $510,200.\n"
     ]
    }
   ],
   "source": [
    "estimated_price = prediction_house_price(3000,b,w)\n",
    "print(f\"Estimated selling price of a house with {3000:,}sqft is ${estimated_price:,}.\")"
   ]
  },
  {
   "cell_type": "markdown",
   "id": "4276e400",
   "metadata": {
    "jp-MarkdownHeadingCollapsed": true
   },
   "source": [
    "## Linear Regression in Machine Learning "
   ]
  },
  {
   "cell_type": "markdown",
   "id": "64b4aded",
   "metadata": {},
   "source": [
    "We begin Linear Regression with one variable. In linear regression, we must first fit the straight line to the data trend. Using the straight line formula above. We form a hypothesis where\n",
    "\n",
    "$$f(x) =b + wx$$\n",
    "\n",
    "We also use $m$ to denote the number of training examples. To refer to each training example, we use $x^{(i)}$ and $y^{(i)}$ in the formula:\n",
    "\n",
    "$$f(x^{(i)})  =b +wx^{(i)}$$\n",
    "\n",
    "The $(i)$ in this context refers to each line of record or each data set. Please note that this is **Not exponent**, it refers to ith training examples.\n",
    "\n",
    "In summary, our straight line in machine learning is written as follows:\n",
    "\n",
    "$$f(x^{(i)}) =b +wx^{(i)}$$ \n",
    "\n",
    "\n",
    "The main challenge is to find the straight line that fits best to the data trend. In Statistics, we can use a formula (**Normal Equation**) to estimate the best fit line and thus also estimate the best value for w and b. This method is not used in machine learning because, when the data get large, the computation becomes more difficult. \n",
    "\n",
    "In machine learning, we use computer programs to iteratively find the best fit. In this context, (w) and (b) are also known as **learning parameters**. It is also known as **coefficients or weights** and **intercept**.\n",
    "\n",
    "Once we have the best-fit line with its parameters (w) and (b). We can make predictions using a new x.\n",
    "\n",
    "For prediction of $y$ or $f(x)$, we can rewrite the formula as the following:\n",
    "\n",
    "$$\\hat y = b + wx$$\n",
    "\n",
    "where $\\hat y$  refers to the prediction  and $y$ refers to a known outcome."
   ]
  },
  {
   "cell_type": "markdown",
   "id": "d644f4b9-d547-4437-98ff-10011a4ecbc4",
   "metadata": {
    "jp-MarkdownHeadingCollapsed": true
   },
   "source": [
    "### Glossory\n",
    "The following is a list of common machine learning terminology, its mathematical notation and commonly used name in Python:\n",
    "\n",
    "|Term|Definition|Math Notation|Common Names Used in Python|\n",
    "|---|---|---|---|\n",
    "|dataset or dataframe|This refers to the data we are working on|-|`df`|\n",
    "|features or input features|This usually refers to the independent input features that we want to work on. In the case of predicting housing prices, features refer to the housing size. We must have at least one feature. Usually we have more features to make our prediction more accurate|$x$|`x`|\n",
    "|target or expected outcome|This usually refers to the expected outcome|$y$|`y`|\n",
    "|prediction|This usually refer to the prediction computed by the ML model|$\\hat{y}$|`y_hat` or `yhat` or `y_predict`|\n",
    "|intercept|This refers to the intercept of the linear equation|$b$|`b`|\n",
    "|weights or coeficient| This refers to the slope of the linear equation|$w$|`w`|\n",
    "|learning parameters| In regression model, the learning parameters are $b$ and $w$|$b$ and $w$|`b` and `w`|\n",
    "|training set or training examples|This refers to the training dataset that we are going to use to run throught the ML model. It contains the features input in `x` and expected outcome in `y`|-|`x_train` and `y_train`|\n",
    "|test set| This is separate dataset that is carved out from the original data frame for testing purpose|-|`x_test` and `y_test`|\n",
    "| number of training examples| This refers to how many examples we have in `x_train`|$m$|`m`|\n",
    "|(i)th training examples|Refers to the individual training example in rows|$x^{(i)}$|`x_i`|"
   ]
  },
  {
   "cell_type": "markdown",
   "id": "ee95dff4",
   "metadata": {},
   "source": [
    "## End of Note 2"
   ]
  },
  {
   "cell_type": "code",
   "execution_count": null,
   "id": "f78d9137-480c-4383-8d5c-d0044d691c6d",
   "metadata": {},
   "outputs": [],
   "source": []
  },
  {
   "cell_type": "code",
   "execution_count": null,
   "id": "d2a69fad-e89a-451b-b9dc-c1067c93bb2a",
   "metadata": {},
   "outputs": [],
   "source": []
  }
 ],
 "metadata": {
  "kernelspec": {
   "display_name": "Python 3 (ipykernel)",
   "language": "python",
   "name": "python3"
  },
  "language_info": {
   "codemirror_mode": {
    "name": "ipython",
    "version": 3
   },
   "file_extension": ".py",
   "mimetype": "text/x-python",
   "name": "python",
   "nbconvert_exporter": "python",
   "pygments_lexer": "ipython3",
   "version": "3.10.13"
  }
 },
 "nbformat": 4,
 "nbformat_minor": 5
}
