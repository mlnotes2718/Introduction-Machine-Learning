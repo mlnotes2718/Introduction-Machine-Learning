{
 "cells": [
  {
   "cell_type": "markdown",
   "id": "610f4f08",
   "metadata": {},
   "source": [
    "# Machine Learning Master Notes 20 - Logistic Categorical CE Softmax Regression"
   ]
  },
  {
   "cell_type": "markdown",
   "id": "001ef361-5b6a-4583-aa21-e020be380eb4",
   "metadata": {},
   "source": [
    "### Prepare Environment"
   ]
  },
  {
   "cell_type": "code",
   "execution_count": 1,
   "id": "7d8a9716",
   "metadata": {},
   "outputs": [
    {
     "name": "stderr",
     "output_type": "stream",
     "text": [
      "2024-10-30 12:08:35.209912: I tensorflow/core/platform/cpu_feature_guard.cc:182] This TensorFlow binary is optimized to use available CPU instructions in performance-critical operations.\n",
      "To enable the following instructions: SSE4.1 SSE4.2 AVX AVX2 AVX512F AVX512_VNNI FMA, in other operations, rebuild TensorFlow with the appropriate compiler flags.\n"
     ]
    }
   ],
   "source": [
    "%matplotlib inline\n",
    "\n",
    "\n",
    "# Essential libraries\n",
    "import numpy as np\n",
    "import pandas as pd\n",
    "import math\n",
    "import scipy\n",
    "import random\n",
    "import datetime\n",
    "from datetime import datetime\n",
    "\n",
    "# Graphical Component\n",
    "import matplotlib.pyplot as plt\n",
    "from matplotlib.gridspec import GridSpec\n",
    "from matplotlib import cm\n",
    "\n",
    "\n",
    "## SciKit Learning Preprocessing  \n",
    "from sklearn import preprocessing\n",
    "from sklearn.preprocessing import PolynomialFeatures \n",
    "from sklearn.preprocessing import StandardScaler\n",
    "from sklearn.preprocessing import MinMaxScaler\n",
    "\n",
    "\n",
    "# Pipeline and Train Test Split\n",
    "from sklearn.pipeline import Pipeline\n",
    "from sklearn.model_selection import train_test_split\n",
    "\n",
    "## SciKit Learn ML Models\n",
    "from sklearn import linear_model\n",
    "from sklearn.linear_model import LinearRegression\n",
    "from sklearn.linear_model import LogisticRegression\n",
    "from sklearn.linear_model import Ridge\n",
    "from sklearn.linear_model import Lasso\n",
    "from sklearn.linear_model import ElasticNet\n",
    "\n",
    "# Multiclass\n",
    "from sklearn import multiclass\n",
    "from sklearn.multiclass import OneVsRestClassifier\n",
    "\n",
    "## SciKit Learn Dataset\n",
    "import sklearn.datasets as skdata\n",
    "from sklearn.datasets import make_blobs, make_classification, make_circles, make_gaussian_quantiles\n",
    "\n",
    "## Pytorch\n",
    "import torch\n",
    "\n",
    "## Tensorflow\n",
    "import tensorflow as tf\n",
    "\n",
    "# The following file contain the finalized gradient descent, cost function program \n",
    "import MyRegressionProgramV2 as my\n",
    "import testFile as test\n"
   ]
  },
  {
   "cell_type": "markdown",
   "id": "fe5cb777",
   "metadata": {},
   "source": [
    "## Preparation of Simple Multi-Class Classification Data"
   ]
  },
  {
   "cell_type": "markdown",
   "id": "9b4fd5d7-4142-44f9-9842-e666592c9d92",
   "metadata": {},
   "source": [
    "### Example 1: 3 Class Custom Data"
   ]
  },
  {
   "cell_type": "code",
   "execution_count": 2,
   "id": "6f16999b-23df-4d5f-9524-33597e990868",
   "metadata": {},
   "outputs": [],
   "source": [
    "X1 = np.array([[1, 3], [2,4], [8, 9], [3,4],[7, 8.5], [6.8, 7.5], [2,5],[1.5, 2.5],[6,3],[7,4],[6,5], [6,8], [8,3],[5,4],[9,8]])\n",
    "y1 = np.array([0, 0, 1, 0, 1, 1, 0, 0, 2, 2, 2, 1, 2, 2, 1])"
   ]
  },
  {
   "cell_type": "code",
   "execution_count": 3,
   "id": "b2e671bc-bf92-4d53-9fda-3e376c8494e3",
   "metadata": {},
   "outputs": [],
   "source": [
    "X1_c0 = X1[y1 == 0]\n",
    "X1_c1 = X1[y1 == 1]\n",
    "X1_c2 = X1[y1 == 2]"
   ]
  },
  {
   "cell_type": "code",
   "execution_count": 4,
   "id": "17b4c8e4-10c7-4e4b-a23e-618416b5ae84",
   "metadata": {},
   "outputs": [
    {
     "data": {
      "image/png": "[encoded data removed]",
      "text/plain": [
       "<Figure size 800x500 with 1 Axes>"
      ]
     },
     "metadata": {},
     "output_type": "display_data"
    }
   ],
   "source": [
    "plt.close('all')\n",
    "fig, (ax1) = plt.subplots(1, 1, figsize=(8, 5))\n",
    "ax1.scatter(X1_c0[:,0], X1_c0[:,1], marker='o', s = 80, c='b', label=\"Class 0\")\n",
    "ax1.scatter(X1_c1[:,0], X1_c1[:,1], marker='x', s = 80, c='r', label=\"Class 1\")\n",
    "ax1.scatter(X1_c2[:,0], X1_c2[:,1], marker='*', s = 80, c='g', label=\"Class 2\")\n",
    "ax1.set_title('Classfication Data')\n",
    "ax1.set_xlabel('Feature 1')\n",
    "ax1.set_ylabel('Feature 2')\n",
    "ax1.legend(loc=\"upper left\")\n",
    "plt.show()"
   ]
  },
  {
   "cell_type": "markdown",
   "id": "94ce2411-6649-452c-8873-c56492de0554",
   "metadata": {},
   "source": [
    "### Example 2: 3 Class Basic Example"
   ]
  },
  {
   "cell_type": "code",
   "execution_count": 5,
   "id": "84bcc0b4-25c7-4f9e-9b53-216bb90283b6",
   "metadata": {},
   "outputs": [],
   "source": [
    "X2, y2 = make_classification(n_samples=30, n_features = 2, n_informative=2, n_redundant=0, n_repeated=0, n_classes=3, \n",
    "                             n_clusters_per_class = 1, random_state=15)"
   ]
  },
  {
   "cell_type": "code",
   "execution_count": 6,
   "id": "4db2c40c-70a8-4a18-894a-8f4510001566",
   "metadata": {},
   "outputs": [
    {
     "data": {
      "text/plain": [
       "array([[ 0.27912991, -1.44037331],\n",
       "       [ 1.09078803,  2.87039611],\n",
       "       [-0.1421124 , -1.92345206],\n",
       "       [ 0.52621628,  0.19413389],\n",
       "       [ 1.23776235, -0.80607812],\n",
       "       [ 0.92997061,  2.2107433 ],\n",
       "       [ 0.92163467, -0.99339502],\n",
       "       [-1.25848203,  2.69425705],\n",
       "       [-1.16747321,  1.02481538],\n",
       "       [ 0.34863806,  0.15637629],\n",
       "       [-0.91380625,  0.89020462],\n",
       "       [-1.02732663,  1.31426767],\n",
       "       [-0.79246704,  0.71060574],\n",
       "       [ 1.23144309,  2.18451769],\n",
       "       [-1.34277644,  2.39459039],\n",
       "       [-0.89802635,  1.12900034],\n",
       "       [ 1.60262439,  2.18545311],\n",
       "       [-0.28457476, -2.03758725],\n",
       "       [ 1.77926414, -0.46952691],\n",
       "       [ 2.02633732,  2.02052107],\n",
       "       [ 1.31489592, -0.27941799],\n",
       "       [-1.14698508, -0.14463301],\n",
       "       [ 1.13865231,  2.18013876],\n",
       "       [ 0.56927256, -1.30431595],\n",
       "       [ 1.35870645, -0.79851399],\n",
       "       [ 1.45015611, -0.59655324],\n",
       "       [-0.84034771,  0.09035531],\n",
       "       [-0.17669223,  1.82078771],\n",
       "       [-0.93615324,  0.77835966],\n",
       "       [ 0.90909835, -1.08810057]])"
      ]
     },
     "execution_count": 6,
     "metadata": {},
     "output_type": "execute_result"
    }
   ],
   "source": [
    "X2"
   ]
  },
  {
   "cell_type": "code",
   "execution_count": 7,
   "id": "be398888-7364-4205-9066-868002033c20",
   "metadata": {},
   "outputs": [
    {
     "data": {
      "text/plain": [
       "array([2, 1, 2, 1, 2, 1, 2, 0, 0, 1, 0, 0, 0, 1, 0, 0, 1, 2, 2, 1, 1, 0,\n",
       "       1, 2, 2, 2, 0, 1, 0, 2])"
      ]
     },
     "execution_count": 7,
     "metadata": {},
     "output_type": "execute_result"
    }
   ],
   "source": [
    "y2"
   ]
  },
  {
   "cell_type": "code",
   "execution_count": 8,
   "id": "09c29142-7c7a-4be9-b218-9bac1fe43503",
   "metadata": {},
   "outputs": [
    {
     "data": {
      "image/png": "[encoded data removed]",
      "text/plain": [
       "<Figure size 800x500 with 1 Axes>"
      ]
     },
     "metadata": {},
     "output_type": "display_data"
    }
   ],
   "source": [
    "plt.close('all')\n",
    "fig, (ax1) = plt.subplots(1, 1, figsize=(8, 5))\n",
    "ax1.scatter(X2[:, 0], X2[:, 1], c=y2, edgecolors='k', cmap=plt.cm.RdYlBu)\n",
    "ax1.set_title('Classfication Data')\n",
    "ax1.set_xlabel('Feature 1')\n",
    "ax1.set_ylabel('Feature 2')\n",
    "plt.show()"
   ]
  },
  {
   "cell_type": "markdown",
   "id": "a4430ede-e88a-4456-beac-4959c7183c98",
   "metadata": {},
   "source": [
    "### Example 3 : 4 Class"
   ]
  },
  {
   "cell_type": "code",
   "execution_count": 9,
   "id": "95f46328-ab52-47a3-aab1-52b48b7c87db",
   "metadata": {},
   "outputs": [],
   "source": [
    "X3, y3 = make_classification(n_samples=50, n_features = 2, n_informative = 2, n_redundant=0, n_repeated=0, \n",
    "                             n_classes=4, n_clusters_per_class = 1, random_state=33)"
   ]
  },
  {
   "cell_type": "code",
   "execution_count": 10,
   "id": "7e9e84a4-2d81-4417-aa03-81293230e58e",
   "metadata": {},
   "outputs": [
    {
     "data": {
      "image/png": "[encoded data removed]",
      "text/plain": [
       "<Figure size 800x500 with 1 Axes>"
      ]
     },
     "metadata": {},
     "output_type": "display_data"
    }
   ],
   "source": [
    "plt.close('all')\n",
    "fig, (ax1) = plt.subplots(1, 1, figsize=(8, 5))\n",
    "ax1.scatter(X3[:, 0], X3[:, 1], c=y3, edgecolors='k', cmap=plt.cm.RdYlBu)\n",
    "ax1.set_title('Classfication Data')\n",
    "ax1.set_xlabel('Feature 1')\n",
    "ax1.set_ylabel('Feature 2')\n",
    "plt.show()"
   ]
  },
  {
   "cell_type": "markdown",
   "id": "b54ea977-2687-49d5-a10a-56ad1c082384",
   "metadata": {},
   "source": [
    "## Softmax Function and Loss Function"
   ]
  },
  {
   "cell_type": "code",
   "execution_count": 11,
   "id": "6e98ce67-cd88-46d4-b519-9880d1a03204",
   "metadata": {},
   "outputs": [],
   "source": [
    "def mySoftmax_v2(fx):\n",
    "    '''\n",
    "    This Softmax function use the formula np.exp(X)/np.sum(np.exp(X))\n",
    "    For matrix this function only accepts columns as features.\n",
    "    The Softmax will work on per data observation in rows\n",
    "\n",
    "    INPUT:\n",
    "    fx = fx should be in (m,n) or (m,) \n",
    "\n",
    "    OUTPUT:\n",
    "    softmax (matrix) if there is more than one feature. All the columns in a specific row added up to 1.\n",
    "    '''\n",
    "    # Taking care of infinity number\n",
    "    fx = np.where(np.isinf(fx),  9.9e+307, fx)\n",
    "    #print(fx)\n",
    "\n",
    "    # if fx is 1d array, then use the following direct computation\n",
    "    if fx.ndim == 1:\n",
    "        softmax = np.exp(fx - np.max(fx))/np.sum(np.exp(fx - np.max(fx)))\n",
    "    else:\n",
    "        # process following if it is 2D array\n",
    "        m,n = fx.shape\n",
    "        # If it is only one column, use the following computation\n",
    "        if n == 1:\n",
    "            softmax = np.exp(fx - np.max(fx))/np.sum(np.exp(fx - np.max(fx)), keepdims=True)\n",
    "        else:\n",
    "            # If there is more than one column use axis = 1\n",
    "            softmax = np.exp(fx - np.max(fx, axis=1, keepdims=True))/np.sum(np.exp(fx - np.max(fx, axis=1, keepdims=True)), axis=1, keepdims=True)\n",
    "    return softmax"
   ]
  },
  {
   "cell_type": "code",
   "execution_count": 12,
   "id": "8fb3aff1-a506-4641-b4b3-d0c3e2da8fb9",
   "metadata": {},
   "outputs": [],
   "source": [
    "def myCategoricalCrossEntropyCost(X,y,W,b):\n",
    "    '''\n",
    "    Categorical Cross Entropy Loss for One Hot Encoded Label\n",
    "\n",
    "    INPUT:\n",
    "    X = features data in matrix form in (m, n) matrix where m is the total number of examples and n is number of features\n",
    "    y = also known as y or truth label. Accepts a matrix (m,k) of one hot ecoding to each class. m is total number of examples \n",
    "        and k is total number of classes\n",
    "    W = estimate W in matrix form in (n,k) where n is the number of features and k is number of classes\n",
    "    b = estimate b in row vectors (1, k) where k is number of classes\n",
    "\n",
    "    OUTPUT:\n",
    "    loss = loss of each observation/example\n",
    "    cost = the mean of the loss function\n",
    "    '''\n",
    "    \n",
    "    ## Dimension checking\n",
    "    if y.ndim == 1:\n",
    "        print('Error, the y label must be one-hot encoded')\n",
    "        return\n",
    "\n",
    "    if X.ndim == 1:\n",
    "        X = X.reshape(-1,1)\n",
    "\n",
    "    m,n = X.shape\n",
    "    k = y.shape[1]\n",
    "\n",
    "    ## Check the shape of data input to see if it is matched\n",
    "    if y.shape != (m,k):\n",
    "        print('Error, y must be in m by k matrix where m = total examples as X, k is total number of class')\n",
    "        return\n",
    "\n",
    "    if W.shape != (n,k):\n",
    "        print(W.shape)\n",
    "        print((n,k))\n",
    "        print('Error, type mismatch for W. W must be n by k matrix where n = number of features, k = number of classes')\n",
    "        return\n",
    "\n",
    "    if b.shape != (1,k):\n",
    "        print('Error, type mismatch for b. b must be 1 by k matrix where k = number of classes')\n",
    "        return\n",
    "\n",
    "    if X.shape[0] != y.shape[0]:\n",
    "        print('Error, the total number of observation does not match between X and y')\n",
    "        return\n",
    "    \n",
    "    ## Make prediction\n",
    "    fx = X@W + b\n",
    "\n",
    "    ## Applied Softmax\n",
    "    softmax = mySoftmax_v2(fx)\n",
    "    #print('softmax',softmax)\n",
    "\n",
    "    ## Compute Loss Function\n",
    "    loss = np.negative(np.sum((y * np.log(softmax+1e-20)), axis = 1))\n",
    "\n",
    "    ## Compute Cost\n",
    "    cost = loss.mean()\n",
    "\n",
    "    return cost, loss"
   ]
  },
  {
   "cell_type": "markdown",
   "id": "5517e1dc-a461-431f-bf0e-228d92ce0190",
   "metadata": {},
   "source": [
    "## Gradient Descent for Softmax (Multinomial) Logistic Regression"
   ]
  },
  {
   "cell_type": "markdown",
   "id": "facbb266-4bc2-4e12-ac32-a9a8144f90dc",
   "metadata": {},
   "source": [
    "Hypothesis: \n",
    "$$z = f_{w,b}(x) = f(x)$$\n",
    "$$f(x) = b + wx$$\n",
    "Softmax Function:\n",
    "$$\\sigma(z)_i=\\frac{e^{z_i}}{\\sum\\limits_{j=1}^{k}e^{z_j}}$$\n",
    "$$P(y=k|x)=\\frac{e^{z_k}}{\\sum\\limits_{j=1}^{k}e^{z_j}}$$\n",
    "where:\n",
    "- $i$ is each element in a training example\n",
    "\n",
    "Then:\n",
    "$$P(y=k|x)=\\frac{e^{f(x)_k}}{\\sum\\limits_{j=1}^{k}e^{f(x)_j}}$$\n",
    "$$P(y=k|x)=\\frac{e^{Xw_k+b_k}}{\\sum\\limits_{j=1}^{k}e^{Xw_j+b_j}}$$\n",
    "\n",
    "\n",
    "\n",
    "Categorical-Cross-Entropy Loss Function\n",
    "$$Loss_{Categorical} = - \\sum\\limits_{k=1}^{K}y_{k}log(\\hat{y}_k)$$\n",
    "\n",
    "Categorical-Cross-Entropy Cost Function\n",
    "$$\\text{Cost Function}_{Categorical} = - \\frac{1}{m}\\sum\\limits_{i=1}^{m}\\sum\\limits_{k=1}^{K}y_{ik}log(\\hat{y}_{ik})$$\n",
    "$$ $$\n",
    "\n",
    "Gradient Descent Algorithm: $$\\begin{align*} \\text{repeat}&\\text{ until convergence:} \\; \\lbrace \\newline\n",
    "\\;  w &= w -  \\alpha \\frac{\\partial J(w,b)}{\\partial w}  \\; \\newline \n",
    " b &= b -  \\alpha \\frac{\\partial J(w,b)}{\\partial b}  \\newline \\rbrace\n",
    "\\end{align*}$$\n",
    "\n",
    "\n",
    "Partial Derivatives: $$\n",
    "\\begin{align}\n",
    "\\frac{\\partial J(w,b)}{\\partial w}  &= \\frac{1}{m} \\sum\\limits_{i = 0}^{m-1} (\\hat{y}^{(i)} - y^{(i)})X^{(i)} \\\\\n",
    "  \\frac{\\partial J(w,b)}{\\partial b}  &= \\frac{1}{m} \\sum\\limits_{i = 0}^{m-1} (\\hat{y}^{(i)} - y^{(i)}) \\\\\n",
    "\\end{align}\n",
    "$$\n",
    "\n",
    "where:\n",
    "$$\\hat{y} = P(y=k|x)=\\frac{e^{Xw_k+b_k}}{\\sum\\limits_{j=1}^{k}e^{Xw_j+b_j}}$$\n",
    "\n",
    "\n",
    "Full Implementation of Gradient Descent:\n",
    "$$\\begin{align*} \\text{repeat}&\\text{ until convergence:} \\; \\lbrace \\newline\n",
    "\\;  w &= w -  \\alpha \\frac{1}{m} \\sum\\limits_{i = 0}^{m-1} (\\hat{y}^{(i)} - y^{(i)})X^{(i)}  \\; \\newline \n",
    " b &= b -  \\alpha \\frac{1}{m} \\sum\\limits_{i = 0}^{m-1} (\\hat{y}^{(i)} - y^{(i)})  \\newline \\rbrace\n",
    "\\end{align*}$$"
   ]
  },
  {
   "cell_type": "markdown",
   "id": "97004f49-49f5-4835-acb7-d44437d8749e",
   "metadata": {},
   "source": [
    "**Reference: Apply Softmax function on Linear Equation**\n",
    "- https://math.stackexchange.com/questions/2060944/gradient-of-a-softmax-applied-on-a-linear-function\n",
    "- https://nbviewer.org/github/rasbt/python-machine-learning-book/blob/master/code/bonus/softmax-regression.ipynb"
   ]
  },
  {
   "cell_type": "markdown",
   "id": "352f6bbb-2a83-41af-ab63-5632e1517eb3",
   "metadata": {},
   "source": [
    "**Reference: Softmax Gradient on NN**\n",
    "- https://math.stackexchange.com/questions/4258008/derivative-of-the-log-softmax-function\n",
    "- https://eli.thegreenplace.net/2016/the-softmax-function-and-its-derivative/\n",
    "- https://www.michaelpiseno.com/blog/2021/softmax-gradient/\n",
    "- https://community.deeplearning.ai/t/calculating-gradient-of-softmax-function/1897/6\n",
    "- https://community.deeplearning.ai/t/c2-w2-softmax-cost-computation-and-partial-derivatives/157928"
   ]
  },
  {
   "cell_type": "markdown",
   "id": "1a9cce2a-d3ee-44b3-89b7-d4e584ff885b",
   "metadata": {},
   "source": [
    "**Other Softmax Reference**\n",
    "\n",
    "- https://scikit-learn.org/stable/modules/generated/sklearn.linear_model.LogisticRegression.\n",
    "- https://www.kaggle.com/code/manishkc06/multi-class-logistic-regression-beginner-s-guide\n",
    "- https://machinelearningmastery.com/multinomial-logistic-regression-with-python/\n",
    "- https://towardsdatascience.com/multiclass-logistic-regression-from-scratch-9cc0007da372\n",
    "- https://gist.github.com/sophiamyang/2ec198390126c412c1a9ab4c26c683ac#file-multiclass-logistic-py\n",
    "- https://machinelearningmastery.com/softmax-activation-function-with-python/\n",
    "- https://machinelearningmastery.com/cross-entropy-for-machine-learning/\n",
    "- https://machinelearningmastery.com/discrete-probability-distributions-for-machine-learning/\n",
    "- https://www.geeksforgeeks.org/how-to-implement-softmax-and-cross-entropy-in-python-and-pytorch/\n",
    "- https://community.deeplearning.ai/t/multiclass-lab-how-is-softmax-implied-in-the-loss-function/349849/2\n",
    "- https://www.parasdahal.com/softmax-crossentropy\n",
    "- https://medium.com/@shine160700/softmax-function-and-the-maths-behind-it-12422d07c78a\n",
    "- https://machinelearningmastery.com/what-is-information-entropy/\n",
    "- https://d2l.ai/chapter_linear-classification/softmax-regression.html\n",
    "- https://www.turing.com/kb/softmax-multiclass-neural-networks\n",
    "- https://medium.com/@liangjinzhenggoon/the-difference-between-softmax-and-softmax-loss-173d385120c2\n",
    "- https://pytorch.org/docs/stable/generated/torch.nn.CrossEntropyLoss.html\n",
    "- https://medium.com/@shireenchand/choosing-between-cross-entropy-and-sparse-cross-entropy-the-only-guide-you-need-abea92c84662#:~:text=Another%20caveat%20%E2%80%94%20Sparse%20Cross%20Entropy,0.3%2C%200.7%2C%200.1%5D.\n",
    "- https://madalinabuzau.github.io/2016/11/29/gradient-descent-on-a-softmax-cross-entropy-cost-function.html"
   ]
  },
  {
   "cell_type": "markdown",
   "id": "0edc5807-5719-4c8b-be08-b8f7771ea38a",
   "metadata": {},
   "source": [
    "### Intuition of Computing Partial Derivative with Softmax (Categorical Cross Entropy)"
   ]
  },
  {
   "cell_type": "markdown",
   "id": "43c7d866-92bc-4e1f-a0e0-03d3462e0b92",
   "metadata": {},
   "source": [
    "For a training dataset of 2 features with 3 classes, we have established that for each training example, we need to perform probability computation for each classes:\n",
    "\n",
    "$$f(x^{(i)})_{z_0} = z_0^{(i)} = (x_0^{(i)} \\cdot w_0^{(i)}) + (x_1^{(i)} \\cdot w_1^{(i)}) + b^{(i)}$$\n",
    "$$f(x^{(i)})_{z_1} = z_1^{(i)} = (x_0^{(i)} \\cdot w_0^{(i)}) + (x_1^{(i)} \\cdot w_1^{(i)}) + b^{(i)}$$\n",
    "$$f(x^{(i)})_{z_2} = z_2^{(i)} = (x_0^{(i)} \\cdot w_0^{(i)}) + (x_1^{(i)} \\cdot w_1^{(i)}) + b^{(i)}$$\n",
    "\n",
    "We also need to construct the matrix of $W$ which is `number_of_features` by `number_of_class`. (n by k)\n",
    "$$W = \\begin{bmatrix} w_{0,z0} & w_{0,z1} & w_{0,z2} \\\\ w_{1,z0} & w_{1,z1} & w_{1,z2} \\end{bmatrix}$$\n",
    "where the first index refers to the weights of feature and the second index should refer to each class.\n",
    "$$$$\n",
    "In this case, the shape of $W$ should be 2 by 3 (2 features 3 class).\n",
    "$$ $$\n",
    "$b$ should also be a vector of 1 by `number_of_class`.\n",
    "$$b = \\begin{bmatrix} b_{z0} & b_{z1} & b_{z2} \\end{bmatrix}$$\n",
    "$$$$\n",
    "In this case, the shape of $b$ should be 1 by 3 (3 class).\n",
    "$$$$\n",
    "Assuming we have 5 training examples, then our $X$ should be a matrix of 5 by 2.\n",
    "\n",
    "$$X = \\begin{bmatrix} x_{0}^{(0)} & x_{1}^{(0)} \\\\ x_{0}^{(1)} & x_{1}^{(1)} \\\\ x_{0}^{(2)} & x_{1}^{(2)} \\\\ x_{0}^{(3)} & x_{1}^{(3)} \\\\ x_{0}^{(4)} & x_{1}^{(4)}\\end{bmatrix}$$\n",
    "$$$$\n",
    "To compute $\\hat{y}$, we need to have the dot product of $XW$. This will result in a matrix of 5 by 3. \n",
    "\n",
    "$$\\begin{bmatrix} x_{0}^{(0)} & x_{1}^{(0)} \\\\ x_{0}^{(1)} & x_{1}^{(1)} \\\\ x_{0}^{(2)} & x_{1}^{(2)} \\\\ x_{0}^{(3)} & x_{1}^{(3)} \\\\ x_{0}^{(4)} & x_{1}^{(4)}\\end{bmatrix} \\cdot \\begin{bmatrix} w_{0,z0} & w_{0,z1} & w_{0,z2} \\\\ w_{1,z0} & w_{1,z1} & w_{1,z2} \\end{bmatrix} = \\begin{bmatrix} xw_{z0}^{(0)} & xw_{z1}^{(0)} & xw_{z2}^{(0)} \\\\  xw_{z0}^{(1)} & xw_{z1}^{(1)} & xw_{z2}^{(1)} \\\\  xw_{z0}^{(2)} & xw_{z1}^{(2)} & xw_{z2}^{(2)} \\\\  xw_{z0}^{(3)} & xw_{z1}^{(3)} & xw_{z2}^{(3)} \\\\  xw_{z0}^{(4)} & xw_{z1}^{(4)} & xw_{z2}^{(4)} \\end{bmatrix}$$\n",
    "\n",
    "Then we apply an element wise operation of adding $b$. \n",
    "\n",
    "$$\\begin{bmatrix} xw_{z0}^{(0)} & xw_{z1}^{(0)} & xw_{z2}^{(0)} \\\\  xw_{z0}^{(1)} & xw_{z1}^{(1)} & xw_{z2}^{(1)} \\\\  xw_{z0}^{(2)} & xw_{z1}^{(2)} & xw_{z2}^{(2)} \\\\  xw_{z0}^{(3)} & xw_{z1}^{(3)} & xw_{z2}^{(3)} \\\\  xw_{z0}^{(4)} & xw_{z1}^{(4)} & xw_{z2}^{(4)} \\end{bmatrix} + \\begin{bmatrix} b_{z0} & b_{z1} & b_{z2} \\end{bmatrix}$$\n",
    "\n",
    "The matrix computation $f(x^{(i)})$ should return a dimension of 1 by `num_of_class` matrix for a single training example.\n",
    "\n",
    "The result for 5 training example should be\n",
    "$$\\hat{y} = \\begin{bmatrix} p_{0}^{(0)} & p_{1}^{(0)} & p_{2}^{(0)} \\\\ p_{0}^{(1)} & p_{1}^{(1)} & p_{2}^{(1)} \\\\ p_{0}^{(2)} & p_{1}^{(2)} & p_{2}^{(2)} \\\\ p_{0}^{(3)} & p_{1}^{(3)} & p_{2}^{(3)} \\\\ p_{0}^{(4)} & p_{1}^{(4)} & p_{2}^{(4)} \\end{bmatrix}$$\n",
    "\n",
    "The shape of $\\hat{y}$ should be 5,3. Next we need to apply the softmax function, so that the scores will convert to probability distribution.\n",
    "\n",
    "$$$$\n",
    "We also assume that we will be use categorical cross entropy loss and cost function. The $y$ will be one hot encoded.\n",
    "$$$$\n",
    "To compute the partial derivatives: $$\n",
    "\\begin{align}\n",
    "\\frac{\\partial J(w,b)}{\\partial w}  &= \\frac{1}{m} \\sum\\limits_{i = 0}^{m-1} (\\hat{y}^{(i)} - y^{(i)})X^{(i)} \\\\\n",
    "  \\frac{\\partial J(w,b)}{\\partial b}  &= \\frac{1}{m} \\sum\\limits_{i = 0}^{m-1} (\\hat{y}^{(i)} - y^{(i)}) \\\\\n",
    "\\end{align}\n",
    "$$\n",
    "\n",
    "The shape of $\\hat{y}$ should be 5 by 3 and the shape of $y$ is also 5 by 3\n",
    "\n",
    "$$\\hat{y} = \\begin{bmatrix} p_{0}^{(0)} & p_{1}^{(0)} & p_{2}^{(0)} \\\\ p_{0}^{(1)} & p_{1}^{(1)} & p_{2}^{(1)} \\\\ p_{0}^{(2)} & p_{1}^{(2)} & p_{2}^{(2)} \\\\ p_{0}^{(3)} & p_{1}^{(3)} & p_{2}^{(3)} \\\\ p_{0}^{(4)} & p_{1}^{(4)} & p_{2}^{(4)} \\end{bmatrix}$$\n",
    "\n",
    "$$y = \\begin{bmatrix} 1 & 0 & 0 \\\\ 0 & 1 & 0 \\\\ 1 & 0 & 0 \\\\ 0 & 1 & 0 \\\\ 0 & 0 & 1 \\end{bmatrix}$$\n",
    "$$$$\n",
    "$\\hat{y} - y$ will produce the same dimension of 5 by 3 matrix since this is element wise operation.\n",
    "$$Loss = \\begin{bmatrix} L_{z0}^{(0)} & L_{z1}^{(0)} & L_{z2}^{(0)} \\\\  L_{z0}^{(1)} & L_{z1}^{(1)} & L_{z2}^{(1)} \\\\  L_{z0}^{(2)} & L_{z1}^{(2)} & L_{z2}^{(2)} \\\\  L_{z0}^{(3)} & L_{z1}^{(3)} & L_{z2}^{(3)} \\\\  L_{z0}^{(4)} & L_{z1}^{(4)} & L_{z2}^{(4)} \\end{bmatrix}$$\n"
   ]
  },
  {
   "cell_type": "markdown",
   "id": "672c9550-9d62-4012-89c4-6fa888abc8d9",
   "metadata": {},
   "source": [
    "To compute the partial derivatives: $$\n",
    "\\begin{align}\n",
    "\\frac{\\partial J(w,b)}{\\partial w}  &= \\frac{1}{m} \\sum\\limits_{i = 0}^{m-1} (\\hat{y}^{(i)} - y^{(i)})X^{(i)} \\\\\n",
    "  \\frac{\\partial J(w,b)}{\\partial b}  &= \\frac{1}{m} \\sum\\limits_{i = 0}^{m-1} (\\hat{y}^{(i)} - y^{(i)}) \\\\\n",
    "\\end{align}\n",
    "$$\n",
    "\n",
    "Next we need to multiply $X$ by the $Loss$.\n",
    "\n",
    "$$Loss = \\begin{bmatrix} L_{z0}^{(0)} & L_{z1}^{(0)} & L_{z2}^{(0)} \\\\  L_{z0}^{(1)} & L_{z1}^{(1)} & L_{z2}^{(1)} \\\\  L_{z0}^{(2)} & L_{z1}^{(2)} & L_{z2}^{(2)} \\\\  L_{z0}^{(3)} & L_{z1}^{(3)} & L_{z2}^{(3)} \\\\  L_{z0}^{(4)} & L_{z1}^{(4)} & L_{z2}^{(4)} \\end{bmatrix}$$\n",
    "\n",
    "$$X = \\begin{bmatrix} x_{0}^{(0)} & x_{1}^{(0)} \\\\ x_{0}^{(1)} & x_{1}^{(1)} \\\\ x_{0}^{(2)} & x_{1}^{(2)} \\\\ x_{0}^{(3)} & x_{1}^{(3)} \\\\ x_{0}^{(4)} & x_{1}^{(4)}\\end{bmatrix}$$\n",
    "\n",
    "To perform the dot product, we need to transpose X as follows:\n",
    "\n",
    "$$X.T = \\begin{bmatrix} x_{0}^{(0)} & x_{0}^{(1)} & x_{0}^{(2)}  & x_{0}^{(3)}  & x_{0}^{(4)}  \\\\ x_{1}^{(0)} & x_{1}^{(1)} & x_{1}^{(2)} & x_{1}^{(3)} & x_{1}^{(4)}\\end{bmatrix}$$\n",
    "\n",
    "The dot product of 2 by 5 matrix with the loss matrix of 5 by 3 will produce a 2 by 3 matrix which is the same dimension as $W$\n",
    "\n",
    "$$\\begin{bmatrix} x_{0}^{(0)} & x_{0}^{(1)} & x_{0}^{(2)}  & x_{0}^{(3)}  & x_{0}^{(4)}  \\\\ x_{1}^{(0)} & x_{1}^{(1)} & x_{1}^{(2)} & x_{1}^{(3)} & x_{1}^{(4)}\\end{bmatrix} \\cdot \\begin{bmatrix} L_{z0}^{(0)} & L_{z1}^{(0)} & L_{z2}^{(0)} \\\\  L_{z0}^{(1)} & L_{z1}^{(1)} & L_{z2}^{(1)} \\\\  L_{z0}^{(2)} & L_{z1}^{(2)} & L_{z2}^{(2)} \\\\  L_{z0}^{(3)} & L_{z1}^{(3)} & L_{z2}^{(3)} \\\\  L_{z0}^{(4)} & L_{z1}^{(4)} & L_{z2}^{(4)} \\end{bmatrix} = dW = \\begin{bmatrix} w_{0} & w_{0} & w_{0}   \\\\ w_{1} & w_{1} & w_{1}\\end{bmatrix}$$\n",
    "\n",
    "The result is already sum up, so we just need to divide by $m$."
   ]
  },
  {
   "cell_type": "markdown",
   "id": "2dd554b3-13d8-4bcd-bb6b-66fdf248d58d",
   "metadata": {},
   "source": [
    "#### Why do we need to do transpose? Let us look at Linear Regression Computation"
   ]
  },
  {
   "cell_type": "markdown",
   "id": "8c39d67e-3bb8-4f62-a627-96edc33fd731",
   "metadata": {},
   "source": [
    "In Linear Regression, we have $f(x) = b + x_0w_0 + x_1w_1$\n",
    "\n",
    "Partial Derivative:\n",
    "$$\\begin{align}\n",
    "\\frac{\\partial J(w,b)}{\\partial w}  &= \\frac{1}{m} \\sum\\limits_{i = 0}^{m-1} (\\hat{y}^{(i)} - y^{(i)})x^{(i)} \\\\\n",
    "  \\frac{\\partial J(w,b)}{\\partial b}  &= \\frac{1}{m} \\sum\\limits_{i = 0}^{m-1} (\\hat{y}^{(i)} - y^{(i)}) \\\\\n",
    "\\end{align}$$\n",
    "\n",
    "X is:\n",
    "$$ $$\n",
    "$$X = \\begin{bmatrix} x_{0}^{(0)} & x_{1}^{(0)} \\\\ x_{0}^{(1)} & x_{1}^{(1)} \\\\ x_{0}^{(2)} & x_{1}^{(2)} \\\\ x_{0}^{(3)} & x_{1}^{(3)} \\\\ x_{0}^{(4)} & x_{1}^{(4)}\\end{bmatrix}$$\n",
    "\n",
    "\n",
    "Loss is :\n",
    "$$Loss = \\begin{bmatrix} L^{(0)} \\\\ L^{(1)} \\\\ L^{(2)} \\\\ L^{(3)} \\\\ L^{(4)}\\end{bmatrix}$$\n",
    "\n",
    "$$dW = \\frac{1}{m}\\sum\\begin{bmatrix} L^{(0)}x_{0}^{(0)} & L^{(0)}x_{1}^{(0)} \\\\ L^{(1)}x_{0}^{(1)} & L^{(1)}x_{1}^{(1)} \\\\ L^{(2)}x_{0}^{(2)} & L^{(2)}x_{1}^{(2)} \\\\ L^{(3)}x_{0}^{(3)} & L^{(3)}x_{1}^{(3)} \\\\ L^{(4)}x_{0}^{(4)} & L^{(4)}x_{1}^{(4)}\\end{bmatrix}= \\begin{bmatrix} w_0 & w_1 \\end{bmatrix}$$\n",
    "\n",
    "In Linear Regression we just perform element wise computation and then sum it up later and divide my number of samples. Softmax also use the same principle except that the summing is done during the dot product. "
   ]
  },
  {
   "cell_type": "markdown",
   "id": "bc4e2519-4670-4093-82a5-b7991a472d98",
   "metadata": {},
   "source": [
    "Back to partial derivative computation of softmax:\n",
    "\n",
    "We can separate the computation into 2 parts\n",
    "$$\\begin{bmatrix} x_{0}^{(0)} & x_{0}^{(1)} & x_{0}^{(2)}  & x_{0}^{(3)}  & x_{0}^{(4)} \\end{bmatrix} \\cdot \\begin{bmatrix} L_{z0}^{(0)} & L_{z1}^{(0)} & L_{z2}^{(0)} \\\\  L_{z0}^{(1)} & L_{z1}^{(1)} & L_{z2}^{(1)} \\\\  L_{z0}^{(2)} & L_{z1}^{(2)} & L_{z2}^{(2)} \\\\  L_{z0}^{(3)} & L_{z1}^{(3)} & L_{z2}^{(3)} \\\\  L_{z0}^{(4)} & L_{z1}^{(4)} & L_{z2}^{(4)} \\end{bmatrix} = \\sum \\begin{bmatrix} L_{z0}^{(0)}x_{0}^{(0)} & L_{z1}^{(0)}x_{0}^{(0)} & L_{z2}^{(0)}x_{0}^{(0)} \\\\  L_{z0}^{(1)}x_{0}^{(1)} & L_{z1}^{(1)}x_{0}^{(1)} & L_{z2}^{(1)}x_{0}^{(1)} \\\\  L_{z0}^{(2)}x_{0}^{(2)} & L_{z1}^{(2)}x_{0}^{(2)} & L_{z2}^{(2)}x_{0}^{(2)} \\\\  L_{z0}^{(3)}x_{0}^{(3)} & L_{z1}^{(3)}x_{0}^{(3)} & L_{z2}^{(3)}x_{0}^{(3)} \\\\  L_{z0}^{(4)}x_{0}^{(4)} & L_{z1}^{(4)}x_{0}^{(4)} & L_{z2}^{(4)}x_{0}^{(4)} \\end{bmatrix} = \\begin{bmatrix} w_{0} & w_{0} & w_{0} \\end{bmatrix}$$\n",
    "For the next feature\n",
    "$$\\begin{bmatrix} x_{1}^{(0)} & x_{1}^{(1)} & x_{1}^{(2)}  & x_{1}^{(3)}  & x_{1}^{(4)} \\end{bmatrix} \\cdot \\begin{bmatrix} L_{z0}^{(0)} & L_{z1}^{(0)} & L_{z2}^{(0)} \\\\  L_{z0}^{(1)} & L_{z1}^{(1)} & L_{z2}^{(1)} \\\\  L_{z0}^{(2)} & L_{z1}^{(2)} & L_{z2}^{(2)} \\\\  L_{z0}^{(3)} & L_{z1}^{(3)} & L_{z2}^{(3)} \\\\  L_{z0}^{(4)} & L_{z1}^{(4)} & L_{z2}^{(4)} \\end{bmatrix} = \\sum \\begin{bmatrix} L_{z0}^{(0)}x_{1}^{(0)} & L_{z1}^{(0)}x_{1}^{(0)} & L_{z2}^{(0)}x_{1}^{(0)} \\\\  L_{z0}^{(1)}x_{1}^{(1)} & L_{z1}^{(1)}x_{1}^{(1)} & L_{z2}^{(1)}x_{1}^{(1)} \\\\  L_{z0}^{(2)}x_{1}^{(2)} & L_{z1}^{(2)}x_{1}^{(2)} & L_{z2}^{(2)}x_{1}^{(2)} \\\\  L_{z0}^{(3)}x_{1}^{(3)} & L_{z1}^{(3)}x_{1}^{(3)} & L_{z2}^{(3)}x_{1}^{(3)} \\\\  L_{z0}^{(4)}x_{1}^{(4)} & L_{z1}^{(4)}x_{1}^{(4)} & L_{z2}^{(4)}x_{1}^{(4)} \\end{bmatrix} = \\begin{bmatrix} w_{1} & w_{1} & w_{1} \\end{bmatrix}$$\n",
    "\n",
    "The summing is done during the dot product, we just need to divide the result by number of sample."
   ]
  },
  {
   "cell_type": "markdown",
   "id": "e377f819-b289-473b-ab7e-6cfb2dd793f4",
   "metadata": {},
   "source": [
    "### Step by Step Compute Partial Derivative for dW"
   ]
  },
  {
   "cell_type": "code",
   "execution_count": 13,
   "id": "f55fb007-f555-4b9d-9ff0-33e1d895ce8d",
   "metadata": {},
   "outputs": [
    {
     "data": {
      "text/plain": [
       "(5, 2)"
      ]
     },
     "execution_count": 13,
     "metadata": {},
     "output_type": "execute_result"
    }
   ],
   "source": [
    "X = np.array([[0.5, 1.0], [1.5, 2.0], [3.0, 3.5], [2.0, 1.0], [0.5, 0.5]])\n",
    "y = np.array([0, 1, 2, 1, 0])  # Class labels\n",
    "X.shape"
   ]
  },
  {
   "cell_type": "code",
   "execution_count": 14,
   "id": "2de19eb1-a8dd-47da-a3bc-feb27712235e",
   "metadata": {},
   "outputs": [],
   "source": [
    "alpha = 0.01\n",
    "m,n = X.shape"
   ]
  },
  {
   "cell_type": "code",
   "execution_count": 15,
   "id": "8248d219-0f03-4f99-b510-b2b15d2eec54",
   "metadata": {},
   "outputs": [
    {
     "data": {
      "text/plain": [
       "array([[1., 0., 0.],\n",
       "       [0., 1., 0.],\n",
       "       [0., 0., 1.],\n",
       "       [0., 1., 0.],\n",
       "       [1., 0., 0.]])"
      ]
     },
     "execution_count": 15,
     "metadata": {},
     "output_type": "execute_result"
    }
   ],
   "source": [
    "num_classes = len(np.unique(y))  # Number of classes\n",
    "one_hot_convert = preprocessing.OneHotEncoder()\n",
    "y_one_hot = one_hot_convert.fit_transform(y.reshape(-1,1)).toarray()\n",
    "y_one_hot"
   ]
  },
  {
   "cell_type": "code",
   "execution_count": 16,
   "id": "0ef703c8-7e36-4d58-b34d-5485f97cc19e",
   "metadata": {},
   "outputs": [],
   "source": [
    "W = np.zeros((n,num_classes))\n",
    "b = np.zeros((1,num_classes))"
   ]
  },
  {
   "cell_type": "code",
   "execution_count": 17,
   "id": "c0d59ca0-7c70-4b39-9a87-fea79685f8b0",
   "metadata": {},
   "outputs": [
    {
     "data": {
      "text/plain": [
       "array([[0., 0., 0.],\n",
       "       [0., 0., 0.],\n",
       "       [0., 0., 0.],\n",
       "       [0., 0., 0.],\n",
       "       [0., 0., 0.]])"
      ]
     },
     "execution_count": 17,
     "metadata": {},
     "output_type": "execute_result"
    }
   ],
   "source": [
    "fx = X@W + b\n",
    "fx"
   ]
  },
  {
   "cell_type": "code",
   "execution_count": 18,
   "id": "5a4e73e8-efa8-4908-9bcc-f785b06fe6aa",
   "metadata": {},
   "outputs": [
    {
     "data": {
      "text/plain": [
       "array([[0.33333333, 0.33333333, 0.33333333],\n",
       "       [0.33333333, 0.33333333, 0.33333333],\n",
       "       [0.33333333, 0.33333333, 0.33333333],\n",
       "       [0.33333333, 0.33333333, 0.33333333],\n",
       "       [0.33333333, 0.33333333, 0.33333333]])"
      ]
     },
     "execution_count": 18,
     "metadata": {},
     "output_type": "execute_result"
    }
   ],
   "source": [
    "y_pred = mySoftmax_v2(fx)\n",
    "y_pred"
   ]
  },
  {
   "cell_type": "code",
   "execution_count": 19,
   "id": "2f8323a3-38e8-4662-9731-6088594673cc",
   "metadata": {},
   "outputs": [
    {
     "data": {
      "text/plain": [
       "array([[-0.66666667,  0.33333333,  0.33333333],\n",
       "       [ 0.33333333, -0.66666667,  0.33333333],\n",
       "       [ 0.33333333,  0.33333333, -0.66666667],\n",
       "       [ 0.33333333, -0.66666667,  0.33333333],\n",
       "       [-0.66666667,  0.33333333,  0.33333333]])"
      ]
     },
     "execution_count": 19,
     "metadata": {},
     "output_type": "execute_result"
    }
   ],
   "source": [
    "(y_pred - y_one_hot)"
   ]
  },
  {
   "cell_type": "code",
   "execution_count": 20,
   "id": "9e42b935-4b2c-4c79-8de3-ee7ae459b940",
   "metadata": {},
   "outputs": [
    {
     "data": {
      "text/plain": [
       "array([[ 0.3       , -0.2       , -0.1       ],\n",
       "       [ 0.23333333, -0.06666667, -0.16666667]])"
      ]
     },
     "execution_count": 20,
     "metadata": {},
     "output_type": "execute_result"
    }
   ],
   "source": [
    "temp_dW = (X.T @ (y_pred - y_one_hot))/m\n",
    "temp_dW"
   ]
  },
  {
   "cell_type": "code",
   "execution_count": 21,
   "id": "0488a922-4eb1-4517-aaa0-10af5a9807dc",
   "metadata": {},
   "outputs": [
    {
     "data": {
      "text/plain": [
       "array([-0.06666667, -0.06666667,  0.13333333])"
      ]
     },
     "execution_count": 21,
     "metadata": {},
     "output_type": "execute_result"
    }
   ],
   "source": [
    "temp_db = np.mean(y_pred - y_one_hot, axis=0)\n",
    "temp_db"
   ]
  },
  {
   "cell_type": "code",
   "execution_count": 22,
   "id": "2cbe573b-4a86-427f-a320-5c5663e8e37b",
   "metadata": {},
   "outputs": [],
   "source": [
    "b = b - (alpha * temp_db)\n",
    "W = W - (alpha * temp_dW)"
   ]
  },
  {
   "cell_type": "code",
   "execution_count": 23,
   "id": "32c2f93d-38aa-41d8-862a-32875fbb83b9",
   "metadata": {},
   "outputs": [
    {
     "name": "stdout",
     "output_type": "stream",
     "text": [
      "b [[ 0.00066667  0.00066667 -0.00133333]]\n",
      "w [[-0.003       0.002       0.001     ]\n",
      " [-0.00233333  0.00066667  0.00166667]]\n"
     ]
    }
   ],
   "source": [
    "print('b',b)\n",
    "print('w',W)"
   ]
  },
  {
   "cell_type": "code",
   "execution_count": 24,
   "id": "a4daae0c-5b5a-404f-84fa-b8ddb21b2546",
   "metadata": {},
   "outputs": [
    {
     "data": {
      "text/plain": [
       "1.096100104050468"
      ]
     },
     "execution_count": 24,
     "metadata": {},
     "output_type": "execute_result"
    }
   ],
   "source": [
    "cost, loss = myCategoricalCrossEntropyCost(X, y_one_hot, W, b)\n",
    "cost"
   ]
  },
  {
   "cell_type": "markdown",
   "id": "1ec58a25-7a40-4f38-821f-5573d90fe1b1",
   "metadata": {},
   "source": [
    "<details>\n",
    "<summary>\n",
    "    <b>Expected Answer<b>\n",
    "</summary>\n",
    "\n",
    "``` \n",
    "Epoch 0: Loss = 1.0961\n",
    "W [[-0.003       0.002       0.001     ]\n",
    " [-0.00233333  0.00066667  0.00166667]]\n",
    "b [[ 0.00066667  0.00066667 -0.00133333]]\n",
    "```"
   ]
  },
  {
   "cell_type": "markdown",
   "id": "85997363-e0ed-492e-8304-5c366170cf8a",
   "metadata": {},
   "source": [
    "### Custom Function to Compute Gradient"
   ]
  },
  {
   "cell_type": "code",
   "execution_count": 25,
   "id": "3a29224f-1bbd-4ffd-9b59-fd1b2ca29192",
   "metadata": {},
   "outputs": [],
   "source": [
    "def myCategoricalSoftmaxGradient(X,y,W,b):\n",
    "    '''\n",
    "    Compute gradient for each step size\n",
    "    X = m by n matrix of training data, each training examples (m) in rows and features (n) in column, \n",
    "        Single feature data must be in m by 1 vector, where m is total number of training examples.\n",
    "    y = m by k matrix, one-hot encoded, where m is total number of examples and k is number of classes.\n",
    "    W = n by k matrix, where n is total number of features and k is number of classes.\n",
    "    b = 1 by k row vector, where k is number of classes.\n",
    "\n",
    "    Return:\n",
    "    db (1 by k)\n",
    "    dw (n by k matrix)\n",
    "    '''\n",
    "    \n",
    "    ## Dimension checking\n",
    "    if y.ndim == 1:\n",
    "        print('Error, the y label must be one-hot encoded')\n",
    "        return\n",
    "\n",
    "    if X.ndim == 1:\n",
    "        X = X.reshape(-1,1)\n",
    "\n",
    "    m,n = X.shape\n",
    "    k = y.shape[1]\n",
    "\n",
    "    ## Check the shape of data input to see if it is matched\n",
    "    if y.shape != (m,k):\n",
    "        print('Error, y must be in m by k matrix where m = total examples as X, k is total number of class')\n",
    "        return\n",
    "\n",
    "    if W.shape != (n,k):\n",
    "        print(W.shape)\n",
    "        print((n,k))\n",
    "        print('Error, type mismatch for W. W must be n by k matrix where n = number of features, k = number of classes')\n",
    "        return\n",
    "\n",
    "    if b.shape != (1,k):\n",
    "        print('Error, type mismatch for b. b must be 1 by k matrix where k = number of classes')\n",
    "        return\n",
    "\n",
    "    if X.shape[0] != y.shape[0]:\n",
    "        print('Error, the total number of observation does not match between X and y')\n",
    "        return\n",
    "    \n",
    "    \n",
    "    # total number of features and training examples\n",
    "    m,n = X.shape\n",
    "\n",
    "    ## Make prediction\n",
    "    fx = X@W + b\n",
    "\n",
    "    ## Applied Softmax\n",
    "    y_pred = mySoftmax_v2(fx)\n",
    "\n",
    "    ## Compute Gradient\n",
    "    temp_dW = X.T @ (y_pred - y)\n",
    "    temp_db = y_pred - y\n",
    "\n",
    "    dW = temp_dW /m\n",
    "    db = np.mean(temp_db, axis=0, keepdims=True)\n",
    "    #print(db.shape)\n",
    "\n",
    "    return db, dW"
   ]
  },
  {
   "cell_type": "code",
   "execution_count": 26,
   "id": "a19e5a2b-76fe-4ca8-b90e-7d484a89fc59",
   "metadata": {},
   "outputs": [],
   "source": [
    "X = np.array([[0.5, 1.0], [1.5, 2.0], [3.0, 3.5], [2.0, 1.0], [0.5, 0.5]])\n",
    "y = np.array([0, 1, 2, 1, 0])  # Class labels\n",
    "num_classes = len(np.unique(y)) \n",
    "y_one_hot = one_hot_convert.fit_transform(y.reshape(-1,1)).toarray()\n",
    "W = np.zeros((n,num_classes))\n",
    "b = np.zeros((1,num_classes))"
   ]
  },
  {
   "cell_type": "code",
   "execution_count": 27,
   "id": "98447489-d546-4801-8331-8238078eca89",
   "metadata": {},
   "outputs": [
    {
     "data": {
      "text/plain": [
       "array([[ 0.3       , -0.2       , -0.1       ],\n",
       "       [ 0.23333333, -0.06666667, -0.16666667]])"
      ]
     },
     "execution_count": 27,
     "metadata": {},
     "output_type": "execute_result"
    }
   ],
   "source": [
    "db, dW = myCategoricalSoftmaxGradient(X,y_one_hot,W,b)\n",
    "dW"
   ]
  },
  {
   "cell_type": "markdown",
   "id": "b518be42-48c3-49f6-a86b-3fba48b2d8a2",
   "metadata": {},
   "source": [
    "**Expected Result**:\n",
    "\n",
    "**[[ 0.3,          -0.2,          -0.1       ]**\n",
    "\n",
    "**[ 0.23333333, -0.06666667, -0.16666667]]**"
   ]
  },
  {
   "cell_type": "code",
   "execution_count": 28,
   "id": "d95cd7c3-cee7-4b47-a3a3-b0c6bbec1334",
   "metadata": {},
   "outputs": [
    {
     "data": {
      "text/plain": [
       "array([[-0.06666667, -0.06666667,  0.13333333]])"
      ]
     },
     "execution_count": 28,
     "metadata": {},
     "output_type": "execute_result"
    }
   ],
   "source": [
    "db"
   ]
  },
  {
   "cell_type": "code",
   "execution_count": 29,
   "id": "ff13b9de-204d-4dae-9a13-6fd76b4251c2",
   "metadata": {},
   "outputs": [
    {
     "data": {
      "text/plain": [
       "(1, 3)"
      ]
     },
     "execution_count": 29,
     "metadata": {},
     "output_type": "execute_result"
    }
   ],
   "source": [
    "db.shape"
   ]
  },
  {
   "cell_type": "markdown",
   "id": "51ccb7c5-fbdc-43e3-a66f-7f3716cbdc74",
   "metadata": {},
   "source": [
    "**Expected Result:**\n",
    "\n",
    "**[-0.06666667, -0.06666667,  0.13333333]**"
   ]
  },
  {
   "cell_type": "markdown",
   "id": "41d8a7fd-ef5d-48fe-886e-3df4411fb2ab",
   "metadata": {},
   "source": [
    "### Custom Function to Compute Gradient Descent"
   ]
  },
  {
   "cell_type": "code",
   "execution_count": 30,
   "id": "3eccb6aa-5fb6-4a4b-8f90-f98bc40580cb",
   "metadata": {},
   "outputs": [],
   "source": [
    "def categorical_softmax_gradient_descent(X, y, k, init_coefficient = None, init_intercept= None, iterations=10000, alpha=0.01, reguLambda = 0., \n",
    "                             printProgress=False, printProgressRate = 1000, storeHistory=False):\n",
    "    '''\n",
    "    Runs Gradient Descent\n",
    "\n",
    "    Compulsory Input\n",
    "    X = m by n matrix of training data, each training examples (m) in rows and features (n) in column, \n",
    "        Single feature data must be in m by 1 vector, where m is total number of training examples.\n",
    "    y = m by k matrix, one-hot encoded, where m is total number of examples and k is number of classes.\n",
    "    k = number of class (Use as a double check)\n",
    "    \n",
    "    Optional Input with Defaults\n",
    "    init_coefficient = n by k matrix, where n is total number of features and k is number of classes. (default=None)\n",
    "    init_intercept = 1 by k row vector, where k is number of classes. (default=None)\n",
    "    iterations = total number of runs for the gradient descent (default: 10,000)\n",
    "    alpha = learning rate / step size (default:0.01)\n",
    "    reguLambda = regularization control parameter, lambda (default:0.)\n",
    "\n",
    "    Print Progress Options\n",
    "    printProgress = To print the details while running gradient descent (type:Boolean) (default: False)\n",
    "    printProgressRate = To print the details every n iterations (default:1000)\n",
    "    storeHistory = To record all coefficient and intercept history (default:False) [Please note that if turn on, this may slow down the process] \n",
    "\n",
    "    Return:\n",
    "    w = best w (n by k matrix, where n is total number of features and k is number of classes)\n",
    "    b = best b (1 by k vector)\n",
    "    cost_history = Computed cost for each iterations (list)\n",
    "    w_history = Computed w for each iterations (list)\n",
    "    b_history = Computed g for each iterations (list)\n",
    "    '''\n",
    "\n",
    "    #### The following check for different data types and convert them to Numpy\n",
    "    #### Also convert Pandas Series and DataFrame to Numpy\n",
    "    #### Also convert 1D array to Numpy\n",
    "    \n",
    "    ### the following check if data type is Series\n",
    "    if isinstance(X, pd.Series):\n",
    "        #print('convert to numpy')\n",
    "        X = X.to_frame()\n",
    "    if isinstance(y, pd.Series):\n",
    "        y = y.to_frame()\n",
    "    \n",
    "    ### the following check if data type is dataframe\n",
    "    if isinstance(X, pd.DataFrame):\n",
    "        #print('convert to numpy')\n",
    "        X = X.to_numpy()\n",
    "    if isinstance(y, pd.DataFrame):\n",
    "        y = y.to_numpy()\n",
    "\n",
    "    \n",
    "    ### the following section convert 1d array to 2d array for ease of computation ###\n",
    "    if X.ndim == 1:\n",
    "        X = X.reshape(-1,1)\n",
    "    if y.ndim == 1:\n",
    "        print('Error, y must be one hot encoded!')\n",
    "        return \n",
    "\n",
    "\n",
    "    ### The following will check if the size match\n",
    "    if X.shape[0] != y.shape[0]:\n",
    "        print('Error, the size of X and y does not match!')\n",
    "        return \n",
    "\n",
    "    m,n = X.shape\n",
    "\n",
    "    ### check if the number of class is correct\n",
    "    if y.shape[1] != k:\n",
    "        print('Error, the number of class you entered is different from the actual one-hot encoded y label!')\n",
    "        return\n",
    "\n",
    "    m,n = X.shape\n",
    "    ### Initialize W should by n by num_class\n",
    "    if init_coefficient is None:\n",
    "        init_coefficient = np.zeros((n,k))\n",
    "\n",
    "    if isinstance(init_coefficient, pd.Series):\n",
    "        init_coefficient = init_coefficient.copy().to_frame()\n",
    "\n",
    "    if isinstance(init_coefficient, pd.DataFrame):\n",
    "        init_coefficient = init_coefficient.copy().to_numpy()\n",
    "\n",
    "    if init_coefficient.ndim == 1 & n == 1:\n",
    "        init_coefficient = init_coefficient.copy()\n",
    "        init_coefficient = init_coefficient.reshape(1,-1)\n",
    "\n",
    "    if init_coefficient.ndim == 1 & k == 1:\n",
    "        init_coefficient = init_coefficient.copy()\n",
    "        init_coefficient = init_coefficient.reshape(-1,1)\n",
    "\n",
    "    if init_coefficient.shape[1] != k:\n",
    "        print('Error, the number of class k is different from the coefficient!')\n",
    "        print('coefficient:',init_coefficient.shape)\n",
    "        return\n",
    "        \n",
    "    if init_coefficient.shape[0] != X.shape[1]:\n",
    "        print('Error, the size of X features does not match with size of w (coefficient)!')\n",
    "        print('coefficient:',init_coefficient.shape)\n",
    "        print('X Features:',X.shape[1])\n",
    "        return\n",
    "\n",
    "    ### Initialize b should by n by num_class\n",
    "    if init_intercept is None:\n",
    "        init_intercept = np.zeros((1,k))\n",
    "\n",
    "    if isinstance(init_intercept, pd.Series):\n",
    "        init_intercept = init_intercept.copy().to_frame()\n",
    "\n",
    "    if isinstance(init_intercept, pd.DataFrame):\n",
    "        init_intercept = init_intercept.copy().to_numpy()\n",
    "\n",
    "    if init_intercept.ndim == 1:\n",
    "        init_intercept = init_intercept.copy()\n",
    "        init_intercept = init_intercept.reshape(1,-1)\n",
    "\n",
    "    if init_intercept.shape[1] != k:\n",
    "        print('Error, the number of class k is different from the intercept!')\n",
    "        print('intercept:',init_intercept.shape)\n",
    "        return\n",
    "\n",
    "    # Initialization of variables\n",
    "    m,n = X.shape\n",
    "    \n",
    "    db = 0\n",
    "    dW = 0\n",
    "\n",
    "    b = init_intercept\n",
    "    W = init_coefficient\n",
    "    \n",
    "    cost_history = []\n",
    "    W_history = []\n",
    "    b_history = []\n",
    "\n",
    "    \n",
    "    for j in range(iterations):\n",
    "\n",
    "        # Compute Partial Derivatives\n",
    "        db, dW = myCategoricalSoftmaxGradient(X,y,W,b)\n",
    "        #print(db.shape)\n",
    "\n",
    "        b = b - (alpha * db)\n",
    "        W = W - (alpha * dW)\n",
    "\n",
    "        cost, _ = myCategoricalCrossEntropyCost(X,y,W,b)\n",
    "\n",
    "        # Reshape w for printing and storing history\n",
    "        W_convert = W.copy()\n",
    "        W_convert = np.transpose(W_convert)\n",
    "        \n",
    "        if storeHistory == True: \n",
    "            cost_history.append(cost)\n",
    "            b_history.append(b)\n",
    "            W_history = np.vstack((W_history,W_convert))\n",
    "\n",
    "        if printProgress == True:\n",
    "            if j % printProgressRate == 0:\n",
    "                print(f\"iteration {j}: cost = {cost:.6e}: intercept = {b:}: weights = {W_convert}\")\n",
    "\n",
    "\n",
    "    print(f\"iteration {j}: cost = {cost:.6e}: intercept = {b}: weights = {W_convert}\")    \n",
    "    print('best w', np.round(W,6))\n",
    "    print('best b', np.round(b,6)) \n",
    "\n",
    "    return W, b, cost_history, W_history[1:], b_history\n"
   ]
  },
  {
   "cell_type": "code",
   "execution_count": 31,
   "id": "56335f7a-17b7-4c1b-ae8a-e021167a7c52",
   "metadata": {},
   "outputs": [],
   "source": [
    "def softmax_predict(X, coefficient, intercept):\n",
    "\n",
    "    '''\n",
    "    Make Softmax Prediction\n",
    "\n",
    "    INPUT:\n",
    "    X = (m by n) matrix of training data, each training examples (m) in rows and features (n) in column, \n",
    "        Single feature data must be in m by 1 vector, where m is total number of training examples.\n",
    "    coefficient = the trained coefficient/weights in (n by k) matrix \n",
    "    intercept = the trained intercept in (1 by k) row vector \n",
    "\n",
    "    RETURN:\n",
    "    y_predict, proba\n",
    "    \n",
    "    where\n",
    "    y_predict = True or False if prediction over 0.5\n",
    "    proba = the probability of the prediction.\n",
    "    '''\n",
    "    \n",
    "    if isinstance(X, pd.DataFrame):\n",
    "        X = X.to_numpy()\n",
    "\n",
    "    if X.ndim == 1:\n",
    "        X = X.reshape(-1,1)\n",
    "        \n",
    "    ## Make prediction    \n",
    "    fx = X@coefficient + intercept\n",
    "\n",
    "    ## Applied Softmax\n",
    "    softmax = mySoftmax_v2(fx)\n",
    "\n",
    "    ## Compute Prediction and Probabilities\n",
    "    y_predict = np.argmax(softmax, axis = 1)\n",
    "    y_proba = np.max(softmax, axis = 1)\n",
    "    \n",
    "    return y_predict, y_proba"
   ]
  },
  {
   "cell_type": "markdown",
   "id": "e334bdb3-f06f-4767-8846-67cbccebb439",
   "metadata": {},
   "source": [
    "#### Test Code from ChatGPT"
   ]
  },
  {
   "cell_type": "code",
   "execution_count": 32,
   "id": "016f8753-3ab7-4222-be5f-b146bf3f183b",
   "metadata": {},
   "outputs": [],
   "source": [
    "# Softmax function\n",
    "def softmax_gpt(z):\n",
    "    exp_z = np.exp(z - np.max(z, axis=1, keepdims=True))  # Numerical stability\n",
    "    return exp_z / np.sum(exp_z, axis=1, keepdims=True)\n",
    "\n",
    "# Cross-entropy loss function\n",
    "def cross_entropy_loss(y_true, y_pred):\n",
    "    m = y_true.shape[0]\n",
    "    return -np.sum(y_true * np.log(y_pred + 1e-8)) / m  # Add small epsilon to avoid log(0)\n",
    "\n",
    "# Gradient of the loss with respect to weights\n",
    "def compute_gradients(X, y_true, y_pred):\n",
    "    m = X.shape[0]\n",
    "    dz = y_pred - y_true  # Difference between prediction and actual\n",
    "    dW = np.dot(X.T, dz) / m  # Gradient with respect to weights\n",
    "    db = np.sum(dz, axis=0) / m  # Gradient with respect to biases\n",
    "    return dW, db\n",
    "\n",
    "# Gradient descent function\n",
    "def gradient_descent(X, y, num_classes, learning_rate=0.01, epochs=1000):\n",
    "    n_samples, n_features = X.shape\n",
    "    #W = np.random.randn(n_features, num_classes)  # Initialize weights randomly\n",
    "    W = np.zeros((n_features, num_classes))\n",
    "    b = np.zeros((1, num_classes))  # Initialize biases as zeros\n",
    "\n",
    "    for epoch in range(epochs):\n",
    "        # Compute linear logits\n",
    "        z = np.dot(X, W) + b\n",
    "        \n",
    "        \n",
    "        # Apply softmax to get probabilities\n",
    "        y_pred = softmax_gpt(z)\n",
    "        \n",
    "        # Compute loss (cross-entropy)\n",
    "        loss = cross_entropy_loss(y, y_pred)\n",
    "        #print(loss)\n",
    "        \n",
    "        # Compute gradients\n",
    "        dW, db = compute_gradients(X, y, y_pred)\n",
    "        #print(dW)\n",
    "        #print(db)\n",
    "        \n",
    "        # Update weights and biases\n",
    "        W -= learning_rate * dW\n",
    "        b -= learning_rate * db\n",
    "\n",
    "        #print(W)\n",
    "        #print(b)\n",
    "\n",
    "        z = np.dot(X, W) + b\n",
    "        y_pred = softmax_gpt(z)\n",
    "        loss = cross_entropy_loss(y, y_pred)\n",
    "        \n",
    "        # Print loss every 100 epochs\n",
    "        if epoch % 1000 == 0:\n",
    "            print(f\"Epoch {epoch}: Loss = {loss:.4f}\")\n",
    "\n",
    "    return W, b"
   ]
  },
  {
   "cell_type": "markdown",
   "id": "742db6f9-8bfb-4496-bcf8-4d17fed57ff8",
   "metadata": {},
   "source": [
    "#### Testing First Example"
   ]
  },
  {
   "cell_type": "code",
   "execution_count": 33,
   "id": "75272bd0-d34d-4b8c-98a1-b52b098c752b",
   "metadata": {},
   "outputs": [],
   "source": [
    "X = np.array([[0.5, 1.0], [1.5, 2.0], [3.0, 3.5], [2.0, 1.0], [0.5, 0.5]])\n",
    "y = np.array([0, 1, 2, 1, 0])  # Class labels\n",
    "k = len(np.unique(y)) \n",
    "y_one_hot = one_hot_convert.fit_transform(y.reshape(-1,1)).toarray()\n",
    "W = np.zeros((n,k))\n",
    "b = np.zeros((1,k))"
   ]
  },
  {
   "cell_type": "code",
   "execution_count": 34,
   "id": "2f66865d-b2c7-4353-af57-cacae7a7849d",
   "metadata": {},
   "outputs": [
    {
     "name": "stdout",
     "output_type": "stream",
     "text": [
      "X (5, 2)\n",
      "y_one_hot (5, 3)\n",
      "W (2, 3)\n",
      "b (1, 3)\n"
     ]
    }
   ],
   "source": [
    "print('X', X.shape)\n",
    "print('y_one_hot', y_one_hot.shape)\n",
    "print('W', W.shape)\n",
    "print('b', b.shape)"
   ]
  },
  {
   "cell_type": "code",
   "execution_count": 35,
   "id": "b20b2850-c2c1-4997-ab70-3647fdf2fb9e",
   "metadata": {},
   "outputs": [
    {
     "name": "stdout",
     "output_type": "stream",
     "text": [
      "Epoch 0: Loss = 1.0961\n",
      "W [[-0.003       0.002       0.001     ]\n",
      " [-0.00233333  0.00066667  0.00166667]]\n",
      "b [[ 0.00066667  0.00066667 -0.00133333]]\n",
      "Predicted class labels: [1 1 1 1 1]\n"
     ]
    }
   ],
   "source": [
    "# Train softmax classifier\n",
    "W, b = gradient_descent(X, y_one_hot, k, learning_rate=0.01, epochs=1)\n",
    "\n",
    "# Make predictions\n",
    "z = np.dot(X, W) + b\n",
    "y_pred = softmax_gpt(z)\n",
    "predicted_classes = np.argmax(y_pred, axis=1)\n",
    "\n",
    "print('W',W)\n",
    "print('b',b)\n",
    "print(\"Predicted class labels:\", predicted_classes)\n"
   ]
  },
  {
   "cell_type": "code",
   "execution_count": 36,
   "id": "85b914b6-8e9c-4c27-8ce7-317299e47f05",
   "metadata": {},
   "outputs": [
    {
     "name": "stdout",
     "output_type": "stream",
     "text": [
      "iteration 0: cost = 1.096100e+00: intercept = [[ 0.00066667  0.00066667 -0.00133333]]: weights = [[-0.003      -0.00233333]\n",
      " [ 0.002       0.00066667]\n",
      " [ 0.001       0.00166667]]\n",
      "best w [[-0.003     0.002     0.001   ]\n",
      " [-0.002333  0.000667  0.001667]]\n",
      "best b [[ 0.000667  0.000667 -0.001333]]\n"
     ]
    }
   ],
   "source": [
    "W, b, _, _, _ = categorical_softmax_gradient_descent(X, y_one_hot, k, init_coefficient = None, init_intercept= None, iterations=1, alpha=0.01, \n",
    "                                         reguLambda = 0., printProgress=False, printProgressRate = 1000, storeHistory=False)"
   ]
  },
  {
   "cell_type": "code",
   "execution_count": 37,
   "id": "a1aa13db-d845-4552-b6ee-2ab16b090614",
   "metadata": {},
   "outputs": [
    {
     "data": {
      "text/plain": [
       "array([1, 1, 1, 1, 1])"
      ]
     },
     "execution_count": 37,
     "metadata": {},
     "output_type": "execute_result"
    }
   ],
   "source": [
    "y_pred, y_proba = softmax_predict(X,W,b)\n",
    "y_pred"
   ]
  },
  {
   "cell_type": "markdown",
   "id": "45973ee5-692a-4569-beb6-43dcdd6612ed",
   "metadata": {},
   "source": [
    "<details>\n",
    "<summary>\n",
    "    <b>Expected Answer (alpha = 0.01)<b>\n",
    "</summary>\n",
    "\n",
    "``` \n",
    "Epoch 0: Loss = 1.0961\n",
    "W [[-0.003       0.002       0.001     ]\n",
    " [-0.00233333  0.00066667  0.00166667]]\n",
    "b [[ 0.00066667  0.00066667 -0.00133333]]\n",
    "```"
   ]
  },
  {
   "cell_type": "markdown",
   "id": "f4309d2d-765e-49c1-bed4-34c225e29b8f",
   "metadata": {},
   "source": [
    "#### Full Gradient Descent (10k)"
   ]
  },
  {
   "cell_type": "code",
   "execution_count": 38,
   "id": "1ab38895-945c-482b-a6be-baf7877012a4",
   "metadata": {},
   "outputs": [
    {
     "name": "stdout",
     "output_type": "stream",
     "text": [
      "Epoch 0: Loss = 1.0961\n",
      "Epoch 1000: Loss = 0.5845\n",
      "Epoch 2000: Loss = 0.4240\n",
      "Epoch 3000: Loss = 0.3426\n",
      "Epoch 4000: Loss = 0.2912\n",
      "Epoch 5000: Loss = 0.2546\n",
      "Epoch 6000: Loss = 0.2267\n",
      "Epoch 7000: Loss = 0.2044\n",
      "Epoch 8000: Loss = 0.1862\n",
      "Epoch 9000: Loss = 0.1709\n",
      "W [[-2.69914826  1.55628747  1.1428608 ]\n",
      " [-0.84366305 -0.72040513  1.56406817]]\n",
      "b [[ 4.65357986  0.18393832 -4.83751818]]\n",
      "Predicted class labels: [0 1 2 1 0]\n"
     ]
    }
   ],
   "source": [
    "# Train softmax classifier\n",
    "W, b = gradient_descent(X, y_one_hot, k, learning_rate=0.01, epochs=10000)\n",
    "\n",
    "# Make predictions\n",
    "z = np.dot(X, W) + b\n",
    "y_pred = softmax_gpt(z)\n",
    "predicted_classes = np.argmax(y_pred, axis=1)\n",
    "\n",
    "print('W',W)\n",
    "print('b',b)\n",
    "print(\"Predicted class labels:\", predicted_classes)\n"
   ]
  },
  {
   "cell_type": "code",
   "execution_count": 39,
   "id": "ce15c0c2-3b6f-434a-9c88-6b555f6120ca",
   "metadata": {},
   "outputs": [
    {
     "name": "stdout",
     "output_type": "stream",
     "text": [
      "iteration 9999: cost = 1.579106e-01: intercept = [[ 4.65357986  0.18393832 -4.83751818]]: weights = [[-2.69914826 -0.84366305]\n",
      " [ 1.55628747 -0.72040513]\n",
      " [ 1.1428608   1.56406817]]\n",
      "best w [[-2.699148  1.556287  1.142861]\n",
      " [-0.843663 -0.720405  1.564068]]\n",
      "best b [[ 4.65358   0.183938 -4.837518]]\n"
     ]
    }
   ],
   "source": [
    "W, b, _, _, _ = categorical_softmax_gradient_descent(X, y_one_hot, k, init_coefficient = None, init_intercept= None, \n",
    "                                                     iterations=10000, alpha=0.01, reguLambda = 0.)"
   ]
  },
  {
   "cell_type": "code",
   "execution_count": 40,
   "id": "c45d7dd4-0e33-45c8-8332-725cdc69bab3",
   "metadata": {},
   "outputs": [
    {
     "data": {
      "text/plain": [
       "array([0, 1, 2, 1, 0])"
      ]
     },
     "execution_count": 40,
     "metadata": {},
     "output_type": "execute_result"
    }
   ],
   "source": [
    "y_pred, y_proba = softmax_predict(X,W,b)\n",
    "y_pred"
   ]
  },
  {
   "cell_type": "markdown",
   "id": "5b882925-f06a-4a9e-8499-6e32d512df7d",
   "metadata": {},
   "source": [
    "## Gradient Descent Test with Custom Function"
   ]
  },
  {
   "cell_type": "markdown",
   "id": "6d836ebd-be3c-4410-807c-993e0211c4e4",
   "metadata": {},
   "source": [
    "### Test Example 1: SciKit Learn"
   ]
  },
  {
   "cell_type": "code",
   "execution_count": 41,
   "id": "2e39d54c-df24-45cc-b885-20e3df70aeda",
   "metadata": {},
   "outputs": [
    {
     "data": {
      "text/plain": [
       "(15, 2)"
      ]
     },
     "execution_count": 41,
     "metadata": {},
     "output_type": "execute_result"
    }
   ],
   "source": [
    "X1.shape"
   ]
  },
  {
   "cell_type": "code",
   "execution_count": 42,
   "id": "ad00e3bd-c3e8-45cf-b381-126f34b29726",
   "metadata": {},
   "outputs": [
    {
     "data": {
      "text/plain": [
       "(15,)"
      ]
     },
     "execution_count": 42,
     "metadata": {},
     "output_type": "execute_result"
    }
   ],
   "source": [
    "y1.shape"
   ]
  },
  {
   "cell_type": "code",
   "execution_count": 43,
   "id": "e96198ef-e119-412a-a0c4-f2d83ea4e913",
   "metadata": {},
   "outputs": [
    {
     "data": {
      "image/png": "[encoded data removed]",
      "text/plain": [
       "<Figure size 800x500 with 1 Axes>"
      ]
     },
     "metadata": {},
     "output_type": "display_data"
    }
   ],
   "source": [
    "plt.close('all')\n",
    "fig, (ax1) = plt.subplots(1, 1, figsize=(8, 5))\n",
    "ax1.scatter(X1_c0[:,0], X1_c0[:,1], marker='o', s = 80, c='b', label=\"Class 0\")\n",
    "ax1.scatter(X1_c1[:,0], X1_c1[:,1], marker='x', s = 80, c='r', label=\"Class 1\")\n",
    "ax1.scatter(X1_c2[:,0], X1_c2[:,1], marker='*', s = 80, c='g', label=\"Class 2\")\n",
    "ax1.set_title('Classfication Data')\n",
    "ax1.set_xlabel('Feature 1')\n",
    "ax1.set_ylabel('Feature 2')\n",
    "ax1.legend(loc=\"upper left\")\n",
    "plt.show()"
   ]
  },
  {
   "cell_type": "code",
   "execution_count": 44,
   "id": "1ff980b0-0118-46ba-95db-f6f3799ef87b",
   "metadata": {},
   "outputs": [],
   "source": [
    "logisModel1 = LogisticRegression(penalty=None, solver='newton-cg', multi_class='multinomial')\n",
    "logis1 = logisModel1.fit(X1, y1)"
   ]
  },
  {
   "cell_type": "code",
   "execution_count": 45,
   "id": "01df0516-2be6-4171-8736-a775a02cee5c",
   "metadata": {},
   "outputs": [
    {
     "data": {
      "text/plain": [
       "array([0, 0, 1, 0, 1, 1, 0, 0, 2, 2, 2, 1, 2, 2, 1])"
      ]
     },
     "execution_count": 45,
     "metadata": {},
     "output_type": "execute_result"
    }
   ],
   "source": [
    "y_hat1 = logis1.predict(X1)\n",
    "y_hat1"
   ]
  },
  {
   "cell_type": "code",
   "execution_count": 46,
   "id": "0cb9e262-72b6-4020-abb3-c10cb26d9f6b",
   "metadata": {},
   "outputs": [
    {
     "data": {
      "text/plain": [
       "1.0"
      ]
     },
     "execution_count": 46,
     "metadata": {},
     "output_type": "execute_result"
    }
   ],
   "source": [
    "logis1.score(X1,y1)"
   ]
  },
  {
   "cell_type": "code",
   "execution_count": 47,
   "id": "4de213b7-80b1-4257-8438-9204eb400ac9",
   "metadata": {},
   "outputs": [],
   "source": [
    "x_min, x_max = X1[:, 0].min() - 1, X1[:, 0].max() + 1\n",
    "y_min, y_max = X1[:, 1].min() - 1, X1[:, 1].max() + 1\n",
    "x1grid = np.arange(x_min, x_max, 0.02)\n",
    "x2grid = np.arange(y_min, y_max, 0.02)\n",
    "xx, yy = np.meshgrid(x1grid,x2grid)\n",
    "Z1 = logis1.predict(np.c_[xx.ravel(), yy.ravel()])\n",
    "Z1 = Z1.reshape(xx.shape)"
   ]
  },
  {
   "cell_type": "code",
   "execution_count": 48,
   "id": "874f81de-6951-4ac7-a099-9743949cc911",
   "metadata": {},
   "outputs": [
    {
     "data": {
      "image/png": "[encoded data removed]",
      "text/plain": [
       "<Figure size 800x500 with 1 Axes>"
      ]
     },
     "metadata": {},
     "output_type": "display_data"
    }
   ],
   "source": [
    "plt.close('all')\n",
    "fig, (ax1) = plt.subplots(1, 1, figsize=(8, 5))\n",
    "ax1.contourf(xx, yy, Z1, alpha=0.3, cmap=plt.cm.RdYlBu)\n",
    "ax1.scatter(X1_c0[:,0], X1_c0[:,1], marker='o', s = 80, c='b', label=\"Class 0\")\n",
    "ax1.scatter(X1_c1[:,0], X1_c1[:,1], marker='x', s = 80, c='r', label=\"Class 1\")\n",
    "ax1.scatter(X1_c2[:,0], X1_c2[:,1], marker='*', s = 80, c='g', label=\"Class 2\")\n",
    "ax1.set_title('Classfication Data')\n",
    "ax1.set_xlabel('x0')\n",
    "ax1.set_ylabel('x1')\n",
    "ax1.legend(loc=\"upper left\")\n",
    "plt.show()"
   ]
  },
  {
   "cell_type": "markdown",
   "id": "db00f21c-1d1e-458e-b5c9-71bdea79f68c",
   "metadata": {},
   "source": [
    "### Test Example 1: Gradient Descent Function"
   ]
  },
  {
   "cell_type": "code",
   "execution_count": 49,
   "id": "aa05896f-69b0-4196-9482-70e69ef96f88",
   "metadata": {},
   "outputs": [
    {
     "data": {
      "text/plain": [
       "array([0, 0, 1, 0, 1, 1, 0, 0, 2, 2, 2, 1, 2, 2, 1])"
      ]
     },
     "execution_count": 49,
     "metadata": {},
     "output_type": "execute_result"
    }
   ],
   "source": [
    "y1"
   ]
  },
  {
   "cell_type": "code",
   "execution_count": 50,
   "id": "dc906480-e0f9-4af1-ae7d-2a75ebe15efb",
   "metadata": {},
   "outputs": [
    {
     "data": {
      "text/plain": [
       "array([[1., 0., 0.],\n",
       "       [1., 0., 0.],\n",
       "       [0., 1., 0.],\n",
       "       [1., 0., 0.],\n",
       "       [0., 1., 0.],\n",
       "       [0., 1., 0.],\n",
       "       [1., 0., 0.],\n",
       "       [1., 0., 0.],\n",
       "       [0., 0., 1.],\n",
       "       [0., 0., 1.],\n",
       "       [0., 0., 1.],\n",
       "       [0., 1., 0.],\n",
       "       [0., 0., 1.],\n",
       "       [0., 0., 1.],\n",
       "       [0., 1., 0.]])"
      ]
     },
     "execution_count": 50,
     "metadata": {},
     "output_type": "execute_result"
    }
   ],
   "source": [
    "y1_one_hot = one_hot_convert.fit_transform(y1.reshape(-1,1)).toarray()\n",
    "y1_one_hot"
   ]
  },
  {
   "cell_type": "code",
   "execution_count": 51,
   "id": "a323f165-4685-4a68-b757-4c3ebc225170",
   "metadata": {},
   "outputs": [
    {
     "data": {
      "text/plain": [
       "3"
      ]
     },
     "execution_count": 51,
     "metadata": {},
     "output_type": "execute_result"
    }
   ],
   "source": [
    "k = len(np.unique(y1)) \n",
    "k"
   ]
  },
  {
   "cell_type": "code",
   "execution_count": 52,
   "id": "4c078844-82ed-4f95-87c6-9311e94b5411",
   "metadata": {},
   "outputs": [
    {
     "name": "stdout",
     "output_type": "stream",
     "text": [
      "iteration 9999: cost = 5.981354e-02: intercept = [[ 2.36272647 -3.28150276  0.91877628]]: weights = [[-2.20993449  1.50197251]\n",
      " [ 0.02134279  0.8329919 ]\n",
      " [ 2.18859169 -2.33496442]]\n",
      "best w [[-2.209934  0.021343  2.188592]\n",
      " [ 1.501973  0.832992 -2.334964]]\n",
      "best b [[ 2.362726 -3.281503  0.918776]]\n"
     ]
    }
   ],
   "source": [
    "W1, b1, _, _, _ = categorical_softmax_gradient_descent(X1, y1_one_hot, k, init_coefficient = None, init_intercept= None, \n",
    "                                                       iterations=10000, alpha=0.01, reguLambda = 0., printProgress=False)"
   ]
  },
  {
   "cell_type": "code",
   "execution_count": 53,
   "id": "64731db4-5a3e-40ba-a5ad-ceaf736359e5",
   "metadata": {},
   "outputs": [
    {
     "data": {
      "text/plain": [
       "array([0, 0, 1, 0, 1, 1, 0, 0, 2, 2, 2, 1, 2, 2, 1])"
      ]
     },
     "execution_count": 53,
     "metadata": {},
     "output_type": "execute_result"
    }
   ],
   "source": [
    "y_predict1, y_proba1 = softmax_predict(X1, W1, b1)\n",
    "y_predict1"
   ]
  },
  {
   "cell_type": "code",
   "execution_count": 54,
   "id": "0de3ec6b-633c-47ea-87fb-8605a16b4b8e",
   "metadata": {},
   "outputs": [
    {
     "name": "stdout",
     "output_type": "stream",
     "text": [
      "Train Accuracy: 100.000000\n",
      "Compare Prediction with SciKit Learn: 100.000000\n"
     ]
    }
   ],
   "source": [
    "print('Train Accuracy: %f'%(np.mean(y_predict1.reshape(-1,1) == y1.reshape(-1,1)) * 100))\n",
    "print('Compare Prediction with SciKit Learn: %f'%(np.mean(y_predict1.reshape(-1,1) == y_hat1.reshape(-1,1)) * 100))"
   ]
  },
  {
   "cell_type": "code",
   "execution_count": 55,
   "id": "9d185380-f8a6-45ba-97f2-c8e951c2a8d8",
   "metadata": {},
   "outputs": [],
   "source": [
    "x_min, x_max = X1[:, 0].min() - 1, X1[:, 0].max() + 1\n",
    "y_min, y_max = X1[:, 1].min() - 1, X1[:, 1].max() + 1\n",
    "x1grid = np.arange(x_min, x_max, 0.01)\n",
    "x2grid = np.arange(y_min, y_max, 0.01)\n",
    "xx, yy = np.meshgrid(x1grid,x2grid)\n",
    "ZG1, _ = softmax_predict(np.c_[xx.ravel(), yy.ravel()], W1, b1)\n",
    "ZG1 = ZG1.reshape(xx.shape)"
   ]
  },
  {
   "cell_type": "code",
   "execution_count": 56,
   "id": "c1de3725-bdb1-436e-a969-d341f95ddb8d",
   "metadata": {},
   "outputs": [
    {
     "data": {
      "image/png": "[encoded data removed]",
      "text/plain": [
       "<Figure size 800x500 with 1 Axes>"
      ]
     },
     "metadata": {},
     "output_type": "display_data"
    }
   ],
   "source": [
    "plt.close('all')\n",
    "fig, (ax1) = plt.subplots(1, 1, figsize=(8, 5))\n",
    "ax1.contourf(xx, yy, ZG1, alpha=0.3, cmap=plt.cm.RdYlBu)\n",
    "ax1.scatter(X1_c0[:,0], X1_c0[:,1], marker='o', s = 80, c='b', label=\"Class 0\")\n",
    "ax1.scatter(X1_c1[:,0], X1_c1[:,1], marker='x', s = 80, c='r', label=\"Class 1\")\n",
    "ax1.scatter(X1_c2[:,0], X1_c2[:,1], marker='*', s = 80, c='g', label=\"Class 2\")\n",
    "ax1.set_title('Classfication Data')\n",
    "ax1.set_xlabel('x0')\n",
    "ax1.set_ylabel('x1')\n",
    "plt.show()"
   ]
  },
  {
   "cell_type": "markdown",
   "id": "67e1f84f-74a7-4d9f-a47a-c6eccc940d7a",
   "metadata": {},
   "source": [
    "### Test Example 2: SciKit Learn"
   ]
  },
  {
   "cell_type": "code",
   "execution_count": 57,
   "id": "b57515a2-4da7-4350-8f0a-0e1cddeabacd",
   "metadata": {},
   "outputs": [
    {
     "name": "stdout",
     "output_type": "stream",
     "text": [
      "(30, 2)\n",
      "(30,)\n"
     ]
    }
   ],
   "source": [
    "print(X2.shape)\n",
    "print(y2.shape)"
   ]
  },
  {
   "cell_type": "code",
   "execution_count": 58,
   "id": "0ed872b3-4b2d-4b37-9385-6d717652f2c4",
   "metadata": {},
   "outputs": [
    {
     "data": {
      "image/png": "[encoded data removed]",
      "text/plain": [
       "<Figure size 800x500 with 1 Axes>"
      ]
     },
     "metadata": {},
     "output_type": "display_data"
    }
   ],
   "source": [
    "plt.close('all')\n",
    "fig, (ax1) = plt.subplots(1, 1, figsize=(8, 5))\n",
    "ax1.scatter(X2[:, 0], X2[:, 1], c=y2, edgecolors='k', cmap=plt.cm.RdYlBu)\n",
    "ax1.set_title('Classfication Data')\n",
    "ax1.set_xlabel('Feature 1')\n",
    "ax1.set_ylabel('Feature 2')\n",
    "plt.show()"
   ]
  },
  {
   "cell_type": "code",
   "execution_count": 59,
   "id": "5950648c-8722-411a-b321-c52004f93e0c",
   "metadata": {},
   "outputs": [],
   "source": [
    "logisModel2 = LogisticRegression(penalty=None, solver='sag', multi_class='multinomial', max_iter=10000)\n",
    "logis2 = logisModel2.fit(X2, y2)"
   ]
  },
  {
   "cell_type": "code",
   "execution_count": 60,
   "id": "d1f9eb33-66c9-4236-9b4c-8110b03c9e2a",
   "metadata": {},
   "outputs": [
    {
     "data": {
      "text/plain": [
       "array([2, 1, 2, 1, 2, 1, 2, 0, 0, 1, 0, 0, 0, 1, 0, 0, 1, 2, 2, 1, 1, 0,\n",
       "       1, 2, 2, 2, 0, 1, 0, 2])"
      ]
     },
     "execution_count": 60,
     "metadata": {},
     "output_type": "execute_result"
    }
   ],
   "source": [
    "y_hat2 = logis2.predict(X2)\n",
    "y_hat2"
   ]
  },
  {
   "cell_type": "code",
   "execution_count": 61,
   "id": "5d1c15a4-a05a-429a-84dc-6037c86d3678",
   "metadata": {},
   "outputs": [
    {
     "data": {
      "text/plain": [
       "1.0"
      ]
     },
     "execution_count": 61,
     "metadata": {},
     "output_type": "execute_result"
    }
   ],
   "source": [
    "logis2.score(X2,y2)"
   ]
  },
  {
   "cell_type": "code",
   "execution_count": 62,
   "id": "60f91ff4-b3a9-4bd2-a5fc-7ad96e834b86",
   "metadata": {},
   "outputs": [],
   "source": [
    "x_min, x_max = X2[:, 0].min() - 1, X2[:, 0].max() + 1\n",
    "y_min, y_max = X2[:, 1].min() - 1, X2[:, 1].max() + 1\n",
    "x1grid = np.arange(x_min, x_max, 0.02)\n",
    "x2grid = np.arange(y_min, y_max, 0.02)\n",
    "xx, yy = np.meshgrid(x1grid,x2grid)\n",
    "Z2 = logis2.predict(np.c_[xx.ravel(), yy.ravel()])\n",
    "Z2 = Z2.reshape(xx.shape)"
   ]
  },
  {
   "cell_type": "code",
   "execution_count": 63,
   "id": "c3028d0f-9842-436b-87bd-32f869cebf18",
   "metadata": {},
   "outputs": [
    {
     "data": {
      "image/png": "[encoded data removed]",
      "text/plain": [
       "<Figure size 800x500 with 1 Axes>"
      ]
     },
     "metadata": {},
     "output_type": "display_data"
    }
   ],
   "source": [
    "plt.close('all')\n",
    "fig, (ax1) = plt.subplots(1, 1, figsize=(8, 5))\n",
    "ax1.contourf(xx, yy, Z2, alpha=0.3, cmap=plt.cm.RdYlBu)\n",
    "ax1.scatter(X2[:, 0], X2[:, 1], c=y2, edgecolors='k', cmap=plt.cm.RdYlBu)\n",
    "ax1.set_title('Classfication Data')\n",
    "ax1.set_xlabel('x0')\n",
    "ax1.set_ylabel('x1')\n",
    "plt.show()"
   ]
  },
  {
   "cell_type": "markdown",
   "id": "c487bb57-e631-414a-a831-17c281ebd7ed",
   "metadata": {},
   "source": [
    "### Test Example 2: Gradient Descent Function"
   ]
  },
  {
   "cell_type": "code",
   "execution_count": 64,
   "id": "22a0cc16-fa83-46b2-97db-06a7d48b4591",
   "metadata": {},
   "outputs": [
    {
     "data": {
      "text/plain": [
       "array([2, 1, 2, 1, 2, 1, 2, 0, 0, 1, 0, 0, 0, 1, 0, 0, 1, 2, 2, 1, 1, 0,\n",
       "       1, 2, 2, 2, 0, 1, 0, 2])"
      ]
     },
     "execution_count": 64,
     "metadata": {},
     "output_type": "execute_result"
    }
   ],
   "source": [
    "y2"
   ]
  },
  {
   "cell_type": "code",
   "execution_count": 65,
   "id": "07683d15-e635-4a4e-8ecf-ca6c0c147d2e",
   "metadata": {},
   "outputs": [
    {
     "data": {
      "text/plain": [
       "array([[0., 0., 1.],\n",
       "       [0., 1., 0.],\n",
       "       [0., 0., 1.],\n",
       "       [0., 1., 0.],\n",
       "       [0., 0., 1.]])"
      ]
     },
     "execution_count": 65,
     "metadata": {},
     "output_type": "execute_result"
    }
   ],
   "source": [
    "y2_one_hot = one_hot_convert.fit_transform(y2.reshape(-1,1)).toarray()\n",
    "y2_one_hot[:5]"
   ]
  },
  {
   "cell_type": "code",
   "execution_count": 66,
   "id": "32d07f42-b25a-4d0a-a7d9-33a11d06c6a1",
   "metadata": {},
   "outputs": [
    {
     "data": {
      "text/plain": [
       "3"
      ]
     },
     "execution_count": 66,
     "metadata": {},
     "output_type": "execute_result"
    }
   ],
   "source": [
    "k = len(np.unique(y2)) \n",
    "k"
   ]
  },
  {
   "cell_type": "code",
   "execution_count": 67,
   "id": "e652a2fa-5c61-47a4-bdb7-9fda70562394",
   "metadata": {},
   "outputs": [
    {
     "name": "stdout",
     "output_type": "stream",
     "text": [
      "iteration 49999: cost = 3.633611e-02: intercept = [[ 0.36676879  1.26667294 -1.63344173]]: weights = [[-5.39951481  1.48330491]\n",
      " [ 2.64053904  3.43675812]\n",
      " [ 2.75897577 -4.92006303]]\n",
      "best w [[-5.399515  2.640539  2.758976]\n",
      " [ 1.483305  3.436758 -4.920063]]\n",
      "best b [[ 0.366769  1.266673 -1.633442]]\n"
     ]
    }
   ],
   "source": [
    "W2, b2, _, _, _ = categorical_softmax_gradient_descent(X2, y2_one_hot, k, init_coefficient = None, init_intercept= None, iterations=50000, \n",
    "                                                       alpha=0.01, reguLambda = 0.)"
   ]
  },
  {
   "cell_type": "code",
   "execution_count": 68,
   "id": "858ebe68-e638-4edd-ab06-55a2d051499d",
   "metadata": {},
   "outputs": [
    {
     "data": {
      "text/plain": [
       "array([2, 1, 2, 1, 2, 1, 2, 0, 0, 1, 0, 0, 0, 1, 0, 0, 1, 2, 2, 1, 1, 0,\n",
       "       1, 2, 2, 2, 0, 1, 0, 2])"
      ]
     },
     "execution_count": 68,
     "metadata": {},
     "output_type": "execute_result"
    }
   ],
   "source": [
    "y_predict2, y_proba2 = softmax_predict(X2, W2, b2)\n",
    "y_predict2"
   ]
  },
  {
   "cell_type": "code",
   "execution_count": 69,
   "id": "5517b710-3037-44ca-ab7d-f364e89b8987",
   "metadata": {},
   "outputs": [
    {
     "name": "stdout",
     "output_type": "stream",
     "text": [
      "Train Accuracy: 100.000000\n",
      "Compare Prediction with SciKit Learn: 100.000000\n"
     ]
    }
   ],
   "source": [
    "print('Train Accuracy: %f'%(np.mean(y_predict2.reshape(-1,1) == y2.reshape(-1,1)) * 100))\n",
    "print('Compare Prediction with SciKit Learn: %f'%(np.mean(y_predict2.reshape(-1,1) == y_hat2.reshape(-1,1)) * 100))"
   ]
  },
  {
   "cell_type": "code",
   "execution_count": 72,
   "id": "617aff54-0f2e-4dec-99af-43009b0611f1",
   "metadata": {},
   "outputs": [],
   "source": [
    "x_min, x_max = X2[:, 0].min() - 1, X2[:, 0].max() + 1\n",
    "y_min, y_max = X2[:, 1].min() - 1, X2[:, 1].max() + 1\n",
    "x1grid = np.arange(x_min, x_max, 0.01)\n",
    "x2grid = np.arange(y_min, y_max, 0.01)\n",
    "xx, yy = np.meshgrid(x1grid,x2grid)\n",
    "ZG2, _ = softmax_predict(np.c_[xx.ravel(), yy.ravel()], W2, b2)\n",
    "ZG2 = ZG2.reshape(xx.shape)"
   ]
  },
  {
   "cell_type": "code",
   "execution_count": 73,
   "id": "ad542e35-498e-4116-9258-ba43667b501b",
   "metadata": {},
   "outputs": [
    {
     "data": {
      "image/png": "[encoded data removed]",
      "text/plain": [
       "<Figure size 800x500 with 1 Axes>"
      ]
     },
     "metadata": {},
     "output_type": "display_data"
    }
   ],
   "source": [
    "plt.close('all')\n",
    "fig, (ax1) = plt.subplots(1, 1, figsize=(8, 5))\n",
    "ax1.contourf(xx, yy, ZG2, alpha=0.3, cmap=plt.cm.RdYlBu)\n",
    "plt.scatter(X2[:,0], X2[:,1], marker=\"o\", c=y2, s=25, edgecolor='k', cmap=plt.cm.RdYlBu)\n",
    "ax1.set_title('Classfication Data')\n",
    "ax1.set_xlabel('x0')\n",
    "ax1.set_ylabel('x1')\n",
    "plt.show()"
   ]
  },
  {
   "cell_type": "markdown",
   "id": "dce060de-3d2c-4bb4-8ebb-8a28ec7ee91f",
   "metadata": {},
   "source": [
    "### Test Example 3: SciKit Learn"
   ]
  },
  {
   "cell_type": "code",
   "execution_count": 74,
   "id": "fab5f021-7ea9-4e9c-a7eb-5beb64083171",
   "metadata": {},
   "outputs": [],
   "source": [
    "logisModel3 = LogisticRegression(penalty=None, solver='lbfgs', multi_class='multinomial', max_iter=100000)\n",
    "logis3 = logisModel3.fit(X3, y3)"
   ]
  },
  {
   "cell_type": "code",
   "execution_count": 75,
   "id": "37da7bce-ac1d-4e53-a8aa-91228e73de86",
   "metadata": {},
   "outputs": [
    {
     "data": {
      "text/plain": [
       "0.86"
      ]
     },
     "execution_count": 75,
     "metadata": {},
     "output_type": "execute_result"
    }
   ],
   "source": [
    "logis3.score(X3,y3)"
   ]
  },
  {
   "cell_type": "code",
   "execution_count": 76,
   "id": "4516f40e-f9e9-4a37-b907-ed790020c921",
   "metadata": {},
   "outputs": [],
   "source": [
    "y_hat3 = logis3.predict(X3)"
   ]
  },
  {
   "cell_type": "code",
   "execution_count": 77,
   "id": "d1dac025-4166-4c36-897b-6aacfd1aa2e7",
   "metadata": {},
   "outputs": [],
   "source": [
    "x_min, x_max = X3[:, 0].min() - 1, X3[:, 0].max() + 1\n",
    "y_min, y_max = X3[:, 1].min() - 1, X3[:, 1].max() + 1\n",
    "x1grid = np.arange(x_min, x_max, 0.02)\n",
    "x2grid = np.arange(y_min, y_max, 0.02)\n",
    "xx, yy = np.meshgrid(x1grid,x2grid)\n",
    "Z3 = logis3.predict(np.c_[xx.ravel(), yy.ravel()])\n",
    "Z3 = Z3.reshape(xx.shape)"
   ]
  },
  {
   "cell_type": "code",
   "execution_count": 78,
   "id": "49d9cab4-1dc6-438a-bdef-e854a097f8b9",
   "metadata": {},
   "outputs": [
    {
     "data": {
      "image/png": "[encoded data removed]",
      "text/plain": [
       "<Figure size 800x500 with 1 Axes>"
      ]
     },
     "metadata": {},
     "output_type": "display_data"
    }
   ],
   "source": [
    "plt.close('all')\n",
    "fig, (ax1) = plt.subplots(1, 1, figsize=(8, 5))\n",
    "ax1.contourf(xx, yy, Z3, alpha=0.3, cmap=plt.cm.RdYlBu)\n",
    "ax1.scatter(X3[:, 0], X3[:, 1], c=y3, edgecolors='k', cmap=plt.cm.RdYlBu)\n",
    "ax1.set_title('Classfication Data')\n",
    "ax1.set_xlabel('x0')\n",
    "ax1.set_ylabel('x1')\n",
    "plt.show()"
   ]
  },
  {
   "cell_type": "markdown",
   "id": "e8f82945-8465-4b1a-924e-d59a613a8320",
   "metadata": {},
   "source": [
    "### Test Example 3: Gradient Descent Function"
   ]
  },
  {
   "cell_type": "code",
   "execution_count": 79,
   "id": "1458c26b-a71b-4658-b705-7d4c025d31b6",
   "metadata": {},
   "outputs": [
    {
     "data": {
      "text/plain": [
       "(50,)"
      ]
     },
     "execution_count": 79,
     "metadata": {},
     "output_type": "execute_result"
    }
   ],
   "source": [
    "y3.shape"
   ]
  },
  {
   "cell_type": "code",
   "execution_count": 80,
   "id": "f7e5d031-76ec-4c7a-9d91-bb7d16d0723b",
   "metadata": {},
   "outputs": [
    {
     "data": {
      "text/plain": [
       "array([[0., 0., 1., 0.],\n",
       "       [1., 0., 0., 0.],\n",
       "       [1., 0., 0., 0.],\n",
       "       [0., 0., 0., 1.],\n",
       "       [0., 0., 0., 1.]])"
      ]
     },
     "execution_count": 80,
     "metadata": {},
     "output_type": "execute_result"
    }
   ],
   "source": [
    "y3_one_hot = one_hot_convert.fit_transform(y3.reshape(-1,1)).toarray()\n",
    "y3_one_hot[:5]"
   ]
  },
  {
   "cell_type": "code",
   "execution_count": 81,
   "id": "f08c90c3-8949-4724-a640-934a4f99dd67",
   "metadata": {},
   "outputs": [
    {
     "data": {
      "text/plain": [
       "4"
      ]
     },
     "execution_count": 81,
     "metadata": {},
     "output_type": "execute_result"
    }
   ],
   "source": [
    "k = len(np.unique(y3)) \n",
    "k"
   ]
  },
  {
   "cell_type": "code",
   "execution_count": 87,
   "id": "bbd468d9-c287-41b1-827f-d319987e534d",
   "metadata": {},
   "outputs": [
    {
     "name": "stdout",
     "output_type": "stream",
     "text": [
      "iteration 0: cost = 1.381615e+00: intercept = [[ 0.0001  0.0001 -0.0001 -0.0001]]: weights = [[-0.00366414 -0.00170263]\n",
      " [ 0.00169729 -0.0023708 ]\n",
      " [-0.00144479  0.0021109 ]\n",
      " [ 0.00341164  0.00196253]]\n",
      "iteration 14999: cost = 5.013631e-01: intercept = [[-0.68461669 -0.56355021  1.29012067 -0.04195377]]: weights = [[-2.98859884 -0.71972492]\n",
      " [ 1.64860422 -1.76657357]\n",
      " [-1.01825876  0.70210159]\n",
      " [ 2.35825338  1.7841969 ]]\n",
      "best w [[-2.988599  1.648604 -1.018259  2.358253]\n",
      " [-0.719725 -1.766574  0.702102  1.784197]]\n",
      "best b [[-0.684617 -0.56355   1.290121 -0.041954]]\n"
     ]
    }
   ],
   "source": [
    "W3, b3, _, _, _ = categorical_softmax_gradient_descent(X3, y3_one_hot, k, init_coefficient = None, init_intercept= None, iterations=15000, \n",
    "                                                       alpha=0.01, reguLambda = 0., printProgress=True, printProgressRate=50000)"
   ]
  },
  {
   "cell_type": "code",
   "execution_count": 88,
   "id": "8cec29c3-738c-4eab-aff3-5d0f230f4ab4",
   "metadata": {},
   "outputs": [],
   "source": [
    "y_predict3, y_proba3 = softmax_predict(X3, W3, b3)"
   ]
  },
  {
   "cell_type": "code",
   "execution_count": 89,
   "id": "afabbb95-e13b-4c73-af50-6d04a57b3eea",
   "metadata": {},
   "outputs": [
    {
     "name": "stdout",
     "output_type": "stream",
     "text": [
      "Train Accuracy: 86.000000\n",
      "Compare Prediction with SciKit Learn: 100.000000\n"
     ]
    }
   ],
   "source": [
    "print('Train Accuracy: %f'%(np.mean(y_predict3.reshape(-1,1) == y3.reshape(-1,1)) * 100))\n",
    "print('Compare Prediction with SciKit Learn: %f'%(np.mean(y_predict3.reshape(-1,1) == y_hat3.reshape(-1,1)) * 100))"
   ]
  },
  {
   "cell_type": "code",
   "execution_count": 90,
   "id": "4545ffff-b555-4a2d-a5a0-3a9be936f47d",
   "metadata": {},
   "outputs": [],
   "source": [
    "x_min, x_max = X3[:, 0].min() - 1, X3[:, 0].max() + 1\n",
    "y_min, y_max = X3[:, 1].min() - 1, X3[:, 1].max() + 1\n",
    "x1grid = np.arange(x_min, x_max, 0.01)\n",
    "x2grid = np.arange(y_min, y_max, 0.01)\n",
    "xx, yy = np.meshgrid(x1grid,x2grid)\n",
    "#print(xx.shape)\n",
    "#print(yy.shape)\n",
    "#print(np.c_[xx.ravel(), yy.ravel()].shape)\n",
    "ZG3, _ = softmax_predict(np.c_[xx.ravel(), yy.ravel()], W3, b3)\n",
    "#print(ZG1.shape)\n",
    "#print(ZG1[:5])\n",
    "ZG3 = ZG3.reshape(xx.shape)\n",
    "#print(ZG11.shape)"
   ]
  },
  {
   "cell_type": "code",
   "execution_count": 91,
   "id": "ce55fb77-475b-40b0-b3d6-0e1dca7d3a12",
   "metadata": {},
   "outputs": [
    {
     "data": {
      "image/png": "[encoded data removed]",
      "text/plain": [
       "<Figure size 800x500 with 1 Axes>"
      ]
     },
     "metadata": {},
     "output_type": "display_data"
    }
   ],
   "source": [
    "plt.close('all')\n",
    "fig, (ax1) = plt.subplots(1, 1, figsize=(8, 5))\n",
    "ax1.contourf(xx, yy, ZG3, alpha=0.3, cmap=plt.cm.RdYlBu)\n",
    "plt.scatter(X3[:,0], X3[:,1], marker=\"o\", c=y3, s=25, edgecolor='k', cmap=plt.cm.RdYlBu)\n",
    "ax1.set_title('Classfication Data')\n",
    "ax1.set_xlabel('x0')\n",
    "ax1.set_ylabel('x1')\n",
    "plt.show()"
   ]
  },
  {
   "cell_type": "markdown",
   "id": "8397bae8-fda7-48c5-9a72-59e9afc0a749",
   "metadata": {},
   "source": [
    "## End"
   ]
  },
  {
   "cell_type": "code",
   "execution_count": null,
   "id": "1d53cb32-8a96-43f9-85e9-5f4578c9b430",
   "metadata": {},
   "outputs": [],
   "source": []
  }
 ],
 "metadata": {
  "kernelspec": {
   "display_name": "Python 3 (ipykernel)",
   "language": "python",
   "name": "python3"
  },
  "language_info": {
   "codemirror_mode": {
    "name": "ipython",
    "version": 3
   },
   "file_extension": ".py",
   "mimetype": "text/x-python",
   "name": "python",
   "nbconvert_exporter": "python",
   "pygments_lexer": "ipython3",
   "version": "3.11.5"
  }
 },
 "nbformat": 4,
 "nbformat_minor": 5
}
