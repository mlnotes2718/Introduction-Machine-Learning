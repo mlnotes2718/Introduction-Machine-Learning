{
 "cells": [
  {
   "cell_type": "markdown",
   "id": "7734d10a",
   "metadata": {},
   "source": [
    "# Machine Learning Master Notes 8 - Multiple Linear Regression and Vectorization"
   ]
  },
  {
   "cell_type": "markdown",
   "id": "d01652e1-13c0-4cf9-851b-38876ac83710",
   "metadata": {
    "jp-MarkdownHeadingCollapsed": true
   },
   "source": [
    "### Prepare Environment"
   ]
  },
  {
   "cell_type": "code",
   "execution_count": 1,
   "id": "1cec6739",
   "metadata": {},
   "outputs": [],
   "source": [
    "%matplotlib inline\n",
    "import numpy as np\n",
    "import pandas as pd\n",
    "import matplotlib.pyplot as plt\n",
    "from matplotlib.gridspec import GridSpec\n",
    "from matplotlib import cm"
   ]
  },
  {
   "cell_type": "markdown",
   "id": "65f6471f-f83b-46dd-adeb-ec680c8ed9b5",
   "metadata": {
    "jp-MarkdownHeadingCollapsed": true
   },
   "source": [
    "## Linear Regression and Gradient Descent Formula Summary"
   ]
  },
  {
   "cell_type": "markdown",
   "id": "1d350672-9604-47f3-8546-41227d40596c",
   "metadata": {},
   "source": [
    "Hypothesis: $$f_{w,b}(x^{(i)}) = wx^{(i)} + b$$\n",
    "Cost Function: $$J(w,b) = \\frac{1}{2m} \\sum\\limits_{i = 0}^{m-1} (f_{w,b}(x^{(i)}) - y^{(i)})^2$$ \n",
    "\n",
    "Gradient Descent Algorithm: $$\\begin{align*} \\text{repeat}&\\text{ until convergence:} \\; \\lbrace \\newline\n",
    "\\;  w &= w -  \\alpha \\frac{\\partial J(w,b)}{\\partial w}  \\; \\newline \n",
    " b &= b -  \\alpha \\frac{\\partial J(w,b)}{\\partial b}  \\newline \\rbrace\n",
    "\\end{align*}$$\n",
    "\n",
    "\n",
    "Partial Derivatives: $$\n",
    "\\begin{align}\n",
    "\\frac{\\partial J(w,b)}{\\partial w}  &= \\frac{1}{m} \\sum\\limits_{i = 0}^{m-1} (f_{w,b}(x^{(i)}) - y^{(i)})x^{(i)} \\\\\n",
    "  \\frac{\\partial J(w,b)}{\\partial b}  &= \\frac{1}{m} \\sum\\limits_{i = 0}^{m-1} (f_{w,b}(x^{(i)}) - y^{(i)}) \\\\\n",
    "\\end{align}\n",
    "$$\n",
    "\n",
    "Full Implementation of Gradient Descent:\n",
    "$$\\begin{align*} \\text{repeat}&\\text{ until convergence:} \\; \\lbrace \\newline\n",
    "\\;  w &= w -  \\alpha \\frac{1}{m} \\sum\\limits_{i = 0}^{m-1} ((wx^{(i)} + b) - y^{(i)})x^{(i)}  \\; \\newline \n",
    " b &= b -  \\alpha \\frac{1}{m} \\sum\\limits_{i = 0}^{m-1} ((wx^{(i)} + b) - y^{(i)})  \\newline \\rbrace\n",
    "\\end{align*}$$"
   ]
  },
  {
   "cell_type": "markdown",
   "id": "4a0ddb30-a8f3-4711-9395-28156802f700",
   "metadata": {
    "jp-MarkdownHeadingCollapsed": true
   },
   "source": [
    "## Multiple Linear Regression (Multiple Features) Formulation"
   ]
  },
  {
   "cell_type": "markdown",
   "id": "5c95bc89-dff1-4983-b68a-feb8fdf75fc8",
   "metadata": {},
   "source": [
    "**In the previously notes, we use housing size as the main factor in estimating housing price using linear regression. However, in practice, housing size is not the only factor affecting the housing prices. The number of bedrooms, number of bathrooms, number of floors and the age of the house will also be considered. In the following notes, we will be applying multiple features to our linear regression.**"
   ]
  },
  {
   "cell_type": "markdown",
   "id": "d0405e79-4fc8-4f95-b1c3-2e067de944f4",
   "metadata": {},
   "source": [
    "In summary, for **single feature** linear regression, we have:\n",
    "\n",
    "Hypothesis: $$f_{w,b}(x^{(i)}) = wx^{(i)} + b$$\n",
    "\n",
    "For a dataset with 3 training examples, we have:\n",
    "\n",
    "$$f_{w,b}(x^{(1)})=b + wx^{(1)}$$\n",
    "$$f_{w,b}(x^{(2)})=b + wx^{(2)}$$\n",
    "$$f_{w,b}(x^{(3)})=b + wx^{(3)}$$\n",
    "\n",
    "$$$$\n",
    "$$$$\n",
    "\n",
    "For **multiple features** linear regression, assuming we have **4 features**, then the formula for computing **one training example** will be:\n",
    "\n",
    "Linear Function: $$f_{w,b}(x)=b + w_{1}x_{1} + w_{2}x_{2} + w_{3}x_{3} + w_{4}x_{4}$$\n",
    "\n",
    "- In this case there will be more than one `x` and one `w`.\n",
    "- We use subscript to represent each feature. \n",
    "\n",
    "\n",
    "For a dataset with 3 training examples, we have:\n",
    "\n",
    "$$f_{w,b}(x^{(1)})=b + w_{1}x_{1}^{(1)} + w_{2}x_{2}^{(1)} + w_{3}x_{3}^{(1)} + w_{4}x_{4}^{(1)}$$\n",
    "$$f_{w,b}(x^{(2)})=b + w_{1}x_{1}^{(2)} + w_{2}x_{2}^{(2)} + w_{3}x_{3}^{(2)} + w_{4}x_{4}^{(2)}$$\n",
    "$$f_{w,b}(x^{(3)})=b + w_{1}x_{1}^{(3)} + w_{2}x_{2}^{(3)} + w_{3}x_{3}^{(3)} + w_{4}x_{4}^{(3)}$$\n",
    "\n",
    "To convert to short form:\n",
    "\n",
    "- we still use $i$ to represent single training example\n",
    "- we use $m$ to represent total number of training examples\n",
    "\n",
    "$$f_{w,b}(x^{(i)})=\\left(b + w_{1}x_{1}^{(i)} + w_{2}x_{2}^{(i)} + w_{3}x_{3}^{(i)} + w_{4}x_{4}^{(i)}\\right)$$\n",
    "\n",
    "Then\n",
    "- we use $n$ is represent total number of features used.\n",
    "- we use $j$  to represent each different feature\n",
    "\n",
    "In short: $$f_{w,b}(x^{(i)})=b + \\sum\\limits_{j=0}^{n-1} w_{j}x_{j}^{(i)}$$\n",
    "\n",
    "- This means that for every training example, we need to multiply and sum up all the features and $b$ before we proceed to the next training examples.\n",
    "\n",
    "We denote a vector (a list of numbers) as $\\vec{x}$, please note that some formula conveniently ignore it. In addition, $w$ will no long be a single number instead $w$ will be a vector denoted as $\\vec w$\n",
    "\n",
    "In short: $$f_{\\vec{w},b}(\\vec{x}^{(i)})=b + \\sum\\limits_{j=0}^{n-1} \\vec{w}_{j}\\vec{x}_{j}^{(i)}$$"
   ]
  },
  {
   "cell_type": "markdown",
   "id": "ae3cf37f-0ab0-478c-9987-fa424e6450f5",
   "metadata": {
    "jp-MarkdownHeadingCollapsed": true
   },
   "source": [
    "## Multiple Linear Regression (Multiple Features) Cost Function"
   ]
  },
  {
   "cell_type": "markdown",
   "id": "e07076ab-23b5-419d-af48-6de2bb9aa618",
   "metadata": {},
   "source": [
    "Hypothesis: $$f_{\\vec{w},b}(\\vec{x}^{(i)})=b + \\sum\\limits_{j=0}^{n-1} \\vec{w}_{j}\\vec{x}_{j}^{(i)}$$\n",
    "Cost Function:\t$$J(\\vec w, b) = \\frac{1}{2m}   \\sum\\limits_{i=0}^{m-1} (f_{\\vec w,b}(\\vec{x}^{(i)})-\\vec{y}^{(i)})^{2}$$\n",
    "\n",
    "$\\therefore$ \n",
    "$$J(\\vec w, b) = \\frac{1}{2m} \\sum\\limits_{i=0}^{m-1} \\left(\\left(b + \\sum\\limits_{j=0}^{n-1} \\vec w_{j} \\vec x_{j}^{(i)} \\right)-\\vec{y}^{(i)}\\right)^{2}$$"
   ]
  },
  {
   "cell_type": "markdown",
   "id": "f379db8f-9374-4584-b238-c2387f1a99b0",
   "metadata": {
    "jp-MarkdownHeadingCollapsed": true
   },
   "source": [
    "## Vector and Matrix"
   ]
  },
  {
   "cell_type": "markdown",
   "id": "904b3221-1124-42be-bae9-7a4c9554bc44",
   "metadata": {},
   "source": [
    "<div class=\"alert alert-block alert-info\">\n",
    "\n",
    "**Introducing Vector and Matrix**\n",
    "\n",
    "Now, we are going to review the mathematics of vectors and matrix. We will also review how Python support vector and matrix computation. This subject will help us to deal with more complex structure and big data. This will be a very brief introduction to the basics of matrix manipulation. We have a more detailed explanation on this topics a on separate supplemental notes.\n",
    "\n",
    "**Why Do We Need Vector and Matrix**\n",
    "\n",
    "When we are dealing with a large dataset especially data with millions of rows and thousands of features. Matrix computation help us to handle the computation in a much easier way. In addition, our computing system has a way to handle this type of computation in parallel and thus increase the speed of computation.\n",
    "\n",
    "**Advantages of Matrix Computation**\n",
    "\n",
    "- **Fewer codes and no loops required for matrix computation**\n",
    "- **Computer hardware able to handle such massive computation in parallel resulting in faster computing speed.**\n",
    "</div>"
   ]
  },
  {
   "cell_type": "markdown",
   "id": "4718ef8f-a1ec-4e6f-a172-446225e8d314",
   "metadata": {
    "jp-MarkdownHeadingCollapsed": true
   },
   "source": [
    "### What is Vector?"
   ]
  },
  {
   "cell_type": "markdown",
   "id": "4645ca23-4f36-48b8-b735-fd57dbd4c477",
   "metadata": {},
   "source": [
    "A **Vector** is a mathematical object that has both magnitude and direction. In machine learning application, we treat the vectors as list of numbers. Vectors are frequently denote as $\\vec x$.\n",
    "\n",
    "E.g.\n",
    "Below is a **column vector**.\n",
    "$$\\vec x = \\begin{bmatrix}\n",
    "           1 \\\\\n",
    "           2 \\\\\n",
    "           \\vdots \\\\\n",
    "           n\n",
    "         \\end{bmatrix}$$\n",
    "         \n",
    "\n",
    "For **row vector**:\n",
    "\n",
    "$$\\vec y = \\begin{bmatrix}\n",
    "           1,\n",
    "           2,\n",
    "           ...\n",
    "           n\n",
    "         \\end{bmatrix}$$\n"
   ]
  },
  {
   "cell_type": "markdown",
   "id": "0e0dc04f-a067-4098-9efe-f183cf822f53",
   "metadata": {},
   "source": [
    "<div class=\"alert alert-block alert-info\">\n",
    "\n",
    "**Programmers Note 1**\n",
    "\n",
    "Although vectors looks like a list in python, however, list works differently with vector data structure. In Python, vector is represented using the Numpy library. We use Numpy library to convert a list to Numpy array. \n",
    "\n",
    "In Python, Numpy array allow us to perform computation more efficiently.\n",
    "\n",
    "In Mathematics, we refer to the first item as item 1. In computing, usually we refer to first item as item 0.\n",
    "\n",
    "$$\\vec x = \\begin{bmatrix}\n",
    "           1 \\\\\n",
    "           2 \\\\\n",
    "           3 \\\\\n",
    "           4\n",
    "         \\end{bmatrix}$$\n",
    "\n",
    "Mathematics\n",
    "$$x_{1} = 1$$\n",
    "$$x_{3} = 3$$\n",
    "\n",
    "Computing\n",
    "$$x_{0} = 1$$\n",
    "$$x_{3} = 4$$\n",
    "\n",
    "</div>"
   ]
  },
  {
   "cell_type": "markdown",
   "id": "f7342144-8ee8-4558-9995-8d01f93055c3",
   "metadata": {},
   "source": [
    "<div class=\"alert alert-block alert-info\">\n",
    "\n",
    "**Programmers Note 2: 1D Numpy vs 2D Numpy**\n",
    "\n",
    "Numpy can form 1D or 2D array. 1D array is like a list consist of numbers. The shape of the array is indicated as (n,), where n is number of elements in that array. \n",
    "\n",
    "A 2D array consist of rows and column. A vector is a 2D array. A column vector is a n rows by 1 column vector. The shape for a column vector is (n,1) where n is number of rows and 1 is the number of column. Hence, a row vector should have the shape of (1,n) where n refers to number of columns.\n",
    "\n",
    "**For beginners in machine learning, it is best to use 2D array, especially when we use Python to program our own function. It allow new learners to understand the matrix computation.**\n",
    "\n",
    "**However, please be aware that some library function (from SciKit Learn, Pytorch) accepts only 1D whereas some function accepts only 2D. There are some functions accepts either.**\n",
    "\n"
   ]
  },
  {
   "cell_type": "markdown",
   "id": "10e70cd0-5a2c-4a94-a1bb-71cf63b94796",
   "metadata": {},
   "source": [
    "<div class=\"alert alert-block alert-warning\">\n",
    "\n",
    "**Important:**\n",
    "- **Please be aware that once we created an object of a vector, we can manipulate the vector as required. However, when we assign the vector to another variable, the new variable only contains a pointer that points to the original array.**    \n",
    "- **In such case, we can say that the Numpy array return a view instead of returning a copy when we assigned original array to a new variable.**\n",
    "- **Please also note that some Numpy operations return a view, some operations return a copy.**\n",
    "- **There are some operations where it can return either the view or a copy depending on memory situations.**\n",
    "- **To create a copy, use the method .copy().**\n",
    "- **For now, let us remember that simple assignment (=) and slicing([:]) always return a view.**\n",
    "\n",
    "**Reference**\n",
    "- https://scipy-cookbook.readthedocs.io/items/ViewsVsCopies.html\n",
    "- https://nedbatchelder.com/text/names1.html\n",
    "- https://chatgpt.com/share/66f13f1c-8260-8000-b731-5b65f664bc69\n",
    "- https://stackoverflow.com/questions/65572924/when-should-i-use-copy?rq=3\n",
    "\n",
    "</div>"
   ]
  },
  {
   "cell_type": "markdown",
   "id": "88106213-c868-4498-bd7f-7e06fb421401",
   "metadata": {
    "jp-MarkdownHeadingCollapsed": true
   },
   "source": [
    "#### Vector Creation and Manipulation"
   ]
  },
  {
   "cell_type": "code",
   "execution_count": 2,
   "id": "a4340922-feda-4c94-b1e5-3e956b5d7d64",
   "metadata": {},
   "outputs": [
    {
     "data": {
      "text/plain": [
       "array([[1, 2, 3, 4, 5]])"
      ]
     },
     "execution_count": 2,
     "metadata": {},
     "output_type": "execute_result"
    }
   ],
   "source": [
    "v1 = np.array([[1,2,3,4,5]])\n",
    "v1"
   ]
  },
  {
   "cell_type": "code",
   "execution_count": 3,
   "id": "d466553c-2d16-45d1-a4da-0e0a8bcb08b2",
   "metadata": {},
   "outputs": [
    {
     "data": {
      "text/plain": [
       "(1, 5)"
      ]
     },
     "execution_count": 3,
     "metadata": {},
     "output_type": "execute_result"
    }
   ],
   "source": [
    "v1.shape"
   ]
  },
  {
   "cell_type": "code",
   "execution_count": 4,
   "id": "87752d03-178a-44f5-8f65-a465af88ca94",
   "metadata": {},
   "outputs": [
    {
     "data": {
      "text/plain": [
       "array([1, 2, 3, 4, 5])"
      ]
     },
     "execution_count": 4,
     "metadata": {},
     "output_type": "execute_result"
    }
   ],
   "source": [
    "v2 = np.array([1,2,3,4,5])\n",
    "v2"
   ]
  },
  {
   "cell_type": "code",
   "execution_count": 5,
   "id": "8d26bcce-caff-4cb3-a06f-6bafec4ae593",
   "metadata": {},
   "outputs": [
    {
     "data": {
      "text/plain": [
       "(5,)"
      ]
     },
     "execution_count": 5,
     "metadata": {},
     "output_type": "execute_result"
    }
   ],
   "source": [
    "v2.shape"
   ]
  },
  {
   "cell_type": "code",
   "execution_count": 6,
   "id": "badac7d3-e9a6-45f6-bb12-663f396d3f89",
   "metadata": {},
   "outputs": [
    {
     "data": {
      "text/plain": [
       "array([[1],\n",
       "       [2],\n",
       "       [3],\n",
       "       [4],\n",
       "       [5]])"
      ]
     },
     "execution_count": 6,
     "metadata": {},
     "output_type": "execute_result"
    }
   ],
   "source": [
    "v2 = v2.reshape(5,1)\n",
    "v2"
   ]
  },
  {
   "cell_type": "code",
   "execution_count": 7,
   "id": "f64cb944-f2bf-46b7-96e9-90b29ad0ad06",
   "metadata": {},
   "outputs": [
    {
     "data": {
      "text/plain": [
       "(5, 1)"
      ]
     },
     "execution_count": 7,
     "metadata": {},
     "output_type": "execute_result"
    }
   ],
   "source": [
    "v2.shape"
   ]
  },
  {
   "cell_type": "code",
   "execution_count": 8,
   "id": "bf7161ab-4307-4d7d-a443-c2e8eeb2f100",
   "metadata": {},
   "outputs": [
    {
     "data": {
      "text/plain": [
       "(1, 5)"
      ]
     },
     "execution_count": 8,
     "metadata": {},
     "output_type": "execute_result"
    }
   ],
   "source": [
    "v3 = v2.reshape(1,5)\n",
    "v3.shape"
   ]
  },
  {
   "cell_type": "code",
   "execution_count": 9,
   "id": "7c722e03-53aa-444c-9393-154d077f1008",
   "metadata": {},
   "outputs": [
    {
     "data": {
      "text/plain": [
       "array([[1, 2, 3, 4, 5]])"
      ]
     },
     "execution_count": 9,
     "metadata": {},
     "output_type": "execute_result"
    }
   ],
   "source": [
    "v3"
   ]
  },
  {
   "cell_type": "code",
   "execution_count": 10,
   "id": "7c8363e7-6436-4e8a-85f6-08b72b1f90a7",
   "metadata": {},
   "outputs": [
    {
     "data": {
      "text/plain": [
       "4"
      ]
     },
     "execution_count": 10,
     "metadata": {},
     "output_type": "execute_result"
    }
   ],
   "source": [
    "v3[0,3]"
   ]
  },
  {
   "cell_type": "code",
   "execution_count": 11,
   "id": "e1074c7a-4885-480d-94b7-9fcaac88c3a1",
   "metadata": {},
   "outputs": [],
   "source": [
    "v3[0,3] = 40"
   ]
  },
  {
   "cell_type": "code",
   "execution_count": 12,
   "id": "500f336a-12d4-4558-adfa-f7208eebb9e4",
   "metadata": {},
   "outputs": [
    {
     "data": {
      "text/plain": [
       "array([[ 1,  2,  3, 40,  5]])"
      ]
     },
     "execution_count": 12,
     "metadata": {},
     "output_type": "execute_result"
    }
   ],
   "source": [
    "v3"
   ]
  },
  {
   "cell_type": "code",
   "execution_count": 13,
   "id": "2f33b308-9fe5-415e-a2b5-ec34fad9925d",
   "metadata": {},
   "outputs": [
    {
     "data": {
      "text/plain": [
       "array([[ 1],\n",
       "       [ 2],\n",
       "       [ 3],\n",
       "       [40],\n",
       "       [ 5]])"
      ]
     },
     "execution_count": 13,
     "metadata": {},
     "output_type": "execute_result"
    }
   ],
   "source": [
    "v2"
   ]
  },
  {
   "cell_type": "markdown",
   "id": "dd3e0a66-c7ca-445e-9033-575a0e68df63",
   "metadata": {},
   "source": [
    "**The above show that new variable assignment are just additional reference to the same object, although the shape is different.**"
   ]
  },
  {
   "cell_type": "code",
   "execution_count": 14,
   "id": "5d7d0c94-69a2-461f-8c28-4a7e70404389",
   "metadata": {},
   "outputs": [
    {
     "data": {
      "text/plain": [
       "array([[ 1,  2,  3, 40,  5]])"
      ]
     },
     "execution_count": 14,
     "metadata": {},
     "output_type": "execute_result"
    }
   ],
   "source": [
    "v4 = v3.copy()\n",
    "v4"
   ]
  },
  {
   "cell_type": "code",
   "execution_count": 15,
   "id": "a60cdd58-d532-42fe-bf4d-6254a190e8f3",
   "metadata": {},
   "outputs": [
    {
     "data": {
      "text/plain": [
       "array([[   1,    2,    3,   40, 1000]])"
      ]
     },
     "execution_count": 15,
     "metadata": {},
     "output_type": "execute_result"
    }
   ],
   "source": [
    "v4[0,4] = 1000\n",
    "v4"
   ]
  },
  {
   "cell_type": "code",
   "execution_count": 16,
   "id": "9643b8b4-6a01-4513-8581-332c3f164c24",
   "metadata": {},
   "outputs": [
    {
     "data": {
      "text/plain": [
       "array([[ 1,  2,  3, 40,  5]])"
      ]
     },
     "execution_count": 16,
     "metadata": {},
     "output_type": "execute_result"
    }
   ],
   "source": [
    "v3"
   ]
  },
  {
   "cell_type": "code",
   "execution_count": 17,
   "id": "7a34c5fe-f4aa-40e1-aa3f-4f303e02ab4f",
   "metadata": {},
   "outputs": [
    {
     "data": {
      "text/plain": [
       "array([[ 1],\n",
       "       [ 2],\n",
       "       [ 3],\n",
       "       [40],\n",
       "       [ 5]])"
      ]
     },
     "execution_count": 17,
     "metadata": {},
     "output_type": "execute_result"
    }
   ],
   "source": [
    "v2"
   ]
  },
  {
   "cell_type": "code",
   "execution_count": 18,
   "id": "c8e2126b-60d4-47a8-93e4-1c8af81285ce",
   "metadata": {},
   "outputs": [
    {
     "data": {
      "text/plain": [
       "array([[ 1,  2,  3, 40,  5]])"
      ]
     },
     "execution_count": 18,
     "metadata": {},
     "output_type": "execute_result"
    }
   ],
   "source": [
    "v2 = v3.copy()\n",
    "v2"
   ]
  },
  {
   "cell_type": "code",
   "execution_count": 19,
   "id": "743e2742-da32-484c-baf1-cfbbe7cc04db",
   "metadata": {},
   "outputs": [
    {
     "data": {
      "text/plain": [
       "array([[ 1],\n",
       "       [ 2],\n",
       "       [ 3],\n",
       "       [40],\n",
       "       [ 5]])"
      ]
     },
     "execution_count": 19,
     "metadata": {},
     "output_type": "execute_result"
    }
   ],
   "source": [
    "v2 = v2.reshape((5,1))\n",
    "v2"
   ]
  },
  {
   "cell_type": "code",
   "execution_count": 20,
   "id": "283b9d77-dfa3-43c8-9d35-f13ff6bf06ae",
   "metadata": {},
   "outputs": [
    {
     "data": {
      "text/plain": [
       "array([[1],\n",
       "       [2],\n",
       "       [3],\n",
       "       [4],\n",
       "       [5]])"
      ]
     },
     "execution_count": 20,
     "metadata": {},
     "output_type": "execute_result"
    }
   ],
   "source": [
    "v2[3,0] = 4\n",
    "v2"
   ]
  },
  {
   "cell_type": "code",
   "execution_count": 21,
   "id": "8b2aa152-71df-4573-b9e2-9f43969b62a2",
   "metadata": {},
   "outputs": [
    {
     "data": {
      "text/plain": [
       "array([[ 1,  2,  3, 40,  5]])"
      ]
     },
     "execution_count": 21,
     "metadata": {},
     "output_type": "execute_result"
    }
   ],
   "source": [
    "v3"
   ]
  },
  {
   "cell_type": "code",
   "execution_count": 22,
   "id": "c70f1b47-f399-4185-9bed-182ab3dff4fa",
   "metadata": {},
   "outputs": [
    {
     "data": {
      "text/plain": [
       "array([[   1,    2,    3,   40, 1000]])"
      ]
     },
     "execution_count": 22,
     "metadata": {},
     "output_type": "execute_result"
    }
   ],
   "source": [
    "v4"
   ]
  },
  {
   "cell_type": "markdown",
   "id": "5b397368-16f2-4ebb-8e3d-45ddfc758656",
   "metadata": {
    "jp-MarkdownHeadingCollapsed": true
   },
   "source": [
    "### What is Matrix?"
   ]
  },
  {
   "cell_type": "markdown",
   "id": "eed45f93-9432-49b3-be24-282cb6c58b0d",
   "metadata": {},
   "source": [
    "A matrix consist of many rows and columns as shown in the example below:\n",
    "\n",
    "$$\\begin{bmatrix}\n",
    "    x_{11}       & x_{12} & x_{13} & \\dots & x_{1n} \\\\\n",
    "    x_{21}       & x_{22} & x_{23} & \\dots & x_{2n} \\\\\n",
    "    \\dots        & \\dots  &\\dots   &\\dots  &\\dots \\\\\n",
    "    x_{m1}       & x_{m2} & x_{m3} & \\dots & x_{mn}\n",
    "\\end{bmatrix}\n",
    "$$\n",
    "\n",
    "We use the format **row by column** to describe matrix:\n",
    "\n",
    "The following is **2 by 2** matrix:\n",
    "\n",
    "\n",
    "$$\\begin{bmatrix}\n",
    "    x_{11}       & x_{12} \\\\\n",
    "    x_{21}       & x_{22}  \n",
    "\\end{bmatrix}\n",
    "$$\n",
    "\n",
    "A 2 by 2 or 3 by 3 or n by n matrices also known as **square matrix**.\n",
    "\n",
    "Matrix can have non uniform rows and columns. The following is **3 by 2 matrix**:\n",
    "    \n",
    "$$\\begin{bmatrix}\n",
    "    x_{11}       & x_{12} \\\\\n",
    "    x_{21}       & x_{22} \\\\\n",
    "    x_{31}       & x_{32} \n",
    "\\end{bmatrix}\n",
    "$$    \n",
    "\n",
    "\n",
    "The following is **4 by 5 matrix**:\n",
    "\n",
    "\n",
    "$$\\begin{bmatrix}\n",
    "    x_{11}       & x_{12} & x_{13}& x_{14}& x_{15}\\\\\n",
    "    x_{21}       & x_{22} & x_{23}& x_{24}& x_{25}\\\\\n",
    "    x_{31}       & x_{32} & x_{33}& x_{34}& x_{35}\\\\\n",
    "    x_{41}       & x_{42} & x_{43}& x_{44}& x_{45}\n",
    "\\end{bmatrix}\n",
    "$$\n",
    "\n",
    "To refer to the items, we use $x_{12}$. We refer it as first row and 2nd column.  Please note that in computing term we start from row and column 0.\n",
    "\n",
    "Please also note that 2D vector is also consider as matrix. In such cases, it will be a **n by 1 matrix** or **1 by n matrix**."
   ]
  },
  {
   "cell_type": "markdown",
   "id": "be521689-d7c6-41b7-aeb3-719c67159c09",
   "metadata": {},
   "source": [
    "<div class=\"alert alert-block alert-warning\">\n",
    "\n",
    "**Important:**\n",
    "- **Please be aware that once we created an object of a matrix, we can manipulate the matrix as required. However, when we assign the matrix to another variable, the new variable only contains a pointer that points to the original matrix array.**    \n",
    "- **In such cases, we can say that the Numpy array return a view instead of returning a copy when we assigned original array to a new variable.**\n",
    "- **Please also note that some Numpy operations return a view, some operations return a copy.**\n",
    "- **There are some operations where it can return either the view or a copy depending on situations.**\n",
    "- **To create a copy, use the method .copy().**\n",
    "- **In summary, simple assignment (=), slicing([:]) always return a view.**\n",
    "    \n",
    "</div>"
   ]
  },
  {
   "cell_type": "markdown",
   "id": "2c374083-8cdd-4c9f-896e-46a7ddc35ff0",
   "metadata": {
    "jp-MarkdownHeadingCollapsed": true
   },
   "source": [
    "#### Matrix Creation and Manipulation"
   ]
  },
  {
   "cell_type": "code",
   "execution_count": 23,
   "id": "f49b0aa4-6472-40c5-802e-48a609e5b3df",
   "metadata": {},
   "outputs": [
    {
     "data": {
      "text/plain": [
       "array([[ 1,  2,  3,  4,  5],\n",
       "       [ 2,  4,  6,  8, 10],\n",
       "       [11, 13, 17, 19, 23]])"
      ]
     },
     "execution_count": 23,
     "metadata": {},
     "output_type": "execute_result"
    }
   ],
   "source": [
    "m1 = np.array([[1,2,3,4,5],[2,4,6,8,10],[11,13,17,19,23]])\n",
    "m1"
   ]
  },
  {
   "cell_type": "code",
   "execution_count": 24,
   "id": "5d3e3988-14b2-4d96-9a99-0fa7afeab9f5",
   "metadata": {},
   "outputs": [
    {
     "data": {
      "text/plain": [
       "(3, 5)"
      ]
     },
     "execution_count": 24,
     "metadata": {},
     "output_type": "execute_result"
    }
   ],
   "source": [
    "m1.shape"
   ]
  },
  {
   "cell_type": "code",
   "execution_count": 25,
   "id": "fb8eeb94-3a59-4b20-be07-b6142742eced",
   "metadata": {},
   "outputs": [
    {
     "data": {
      "text/plain": [
       "(50,)"
      ]
     },
     "execution_count": 25,
     "metadata": {},
     "output_type": "execute_result"
    }
   ],
   "source": [
    "a1 = np.arange(1,51)\n",
    "a1.shape"
   ]
  },
  {
   "cell_type": "code",
   "execution_count": 26,
   "id": "efbf5a35-9267-4785-bc2f-af99b2269840",
   "metadata": {},
   "outputs": [
    {
     "data": {
      "text/plain": [
       "array([[ 1,  2,  3,  4,  5,  6,  7,  8,  9, 10],\n",
       "       [11, 12, 13, 14, 15, 16, 17, 18, 19, 20],\n",
       "       [21, 22, 23, 24, 25, 26, 27, 28, 29, 30],\n",
       "       [31, 32, 33, 34, 35, 36, 37, 38, 39, 40],\n",
       "       [41, 42, 43, 44, 45, 46, 47, 48, 49, 50]])"
      ]
     },
     "execution_count": 26,
     "metadata": {},
     "output_type": "execute_result"
    }
   ],
   "source": [
    "m2 = a1.reshape(5,10)\n",
    "m2"
   ]
  },
  {
   "cell_type": "code",
   "execution_count": 27,
   "id": "fa6659df-b400-42e5-b28a-01775fc11266",
   "metadata": {},
   "outputs": [
    {
     "data": {
      "text/plain": [
       "array([[ 1,  2,  3,  4,  5],\n",
       "       [ 6,  7,  8,  9, 10],\n",
       "       [11, 12, 13, 14, 15],\n",
       "       [16, 17, 18, 19, 20],\n",
       "       [21, 22, 23, 24, 25],\n",
       "       [26, 27, 28, 29, 30],\n",
       "       [31, 32, 33, 34, 35],\n",
       "       [36, 37, 38, 39, 40],\n",
       "       [41, 42, 43, 44, 45],\n",
       "       [46, 47, 48, 49, 50]])"
      ]
     },
     "execution_count": 27,
     "metadata": {},
     "output_type": "execute_result"
    }
   ],
   "source": [
    "m3 = m2.reshape(10,5)\n",
    "m3"
   ]
  },
  {
   "cell_type": "code",
   "execution_count": 28,
   "id": "719bb294-4af8-4557-9b01-cccf29ab36d0",
   "metadata": {},
   "outputs": [
    {
     "data": {
      "text/plain": [
       "array([[ 4,  5],\n",
       "       [ 9, 10],\n",
       "       [14, 15],\n",
       "       [19, 20],\n",
       "       [24, 25]])"
      ]
     },
     "execution_count": 28,
     "metadata": {},
     "output_type": "execute_result"
    }
   ],
   "source": [
    "m4 = m3[:5,3:]\n",
    "m4"
   ]
  },
  {
   "cell_type": "code",
   "execution_count": 29,
   "id": "efc1a491-1b40-453d-bc35-19d15f82e85e",
   "metadata": {},
   "outputs": [
    {
     "data": {
      "text/plain": [
       "14"
      ]
     },
     "execution_count": 29,
     "metadata": {},
     "output_type": "execute_result"
    }
   ],
   "source": [
    "m3[2,3]"
   ]
  },
  {
   "cell_type": "code",
   "execution_count": 30,
   "id": "02640e78-b781-4269-9714-7b388769cfb7",
   "metadata": {},
   "outputs": [
    {
     "data": {
      "text/plain": [
       "array([[    1,     2,     3,     4,     5],\n",
       "       [    6,     7,     8,     9,    10],\n",
       "       [   11,    12,    13, 14000,    15],\n",
       "       [   16,    17,    18,    19,    20],\n",
       "       [   21,    22,    23,    24,    25],\n",
       "       [   26,    27,    28,    29,    30],\n",
       "       [   31,    32,    33,    34,    35],\n",
       "       [   36,    37,    38,    39,    40],\n",
       "       [   41,    42,    43,    44,    45],\n",
       "       [   46,    47,    48,    49,    50]])"
      ]
     },
     "execution_count": 30,
     "metadata": {},
     "output_type": "execute_result"
    }
   ],
   "source": [
    "m3[2,3] = 14000\n",
    "m3"
   ]
  },
  {
   "cell_type": "code",
   "execution_count": 31,
   "id": "29730920-4077-48cb-b2f5-284f640c651a",
   "metadata": {},
   "outputs": [
    {
     "data": {
      "text/plain": [
       "array([[    4,     5],\n",
       "       [    9,    10],\n",
       "       [14000,    15],\n",
       "       [   19,    20],\n",
       "       [   24,    25]])"
      ]
     },
     "execution_count": 31,
     "metadata": {},
     "output_type": "execute_result"
    }
   ],
   "source": [
    "m4"
   ]
  },
  {
   "cell_type": "code",
   "execution_count": 32,
   "id": "fdbeb534-1b2a-4684-8809-92695de9830e",
   "metadata": {},
   "outputs": [
    {
     "data": {
      "text/plain": [
       "array([[    1,     2,     3,     4,     5,     6,     7,     8,     9,\n",
       "           10],\n",
       "       [   11,    12,    13, 14000,    15,    16,    17,    18,    19,\n",
       "           20],\n",
       "       [   21,    22,    23,    24,    25,    26,    27,    28,    29,\n",
       "           30],\n",
       "       [   31,    32,    33,    34,    35,    36,    37,    38,    39,\n",
       "           40],\n",
       "       [   41,    42,    43,    44,    45,    46,    47,    48,    49,\n",
       "           50]])"
      ]
     },
     "execution_count": 32,
     "metadata": {},
     "output_type": "execute_result"
    }
   ],
   "source": [
    "m2"
   ]
  },
  {
   "cell_type": "markdown",
   "id": "7ff668ab-3be4-449d-9dc8-40996e806465",
   "metadata": {},
   "source": [
    "This proves that even we just capture a slices of the main matrix. m4 still reference to the m3 and thus any changes to m3 will be reflected in m4. To have a distinct copy, use the copy() function."
   ]
  },
  {
   "cell_type": "code",
   "execution_count": 33,
   "id": "f1fec44a-f572-4596-bc45-1473b38b76ba",
   "metadata": {},
   "outputs": [
    {
     "data": {
      "text/plain": [
       "array([[    4,     5],\n",
       "       [    9,    10],\n",
       "       [14000,    15],\n",
       "       [   19,    20],\n",
       "       [   24,    25]])"
      ]
     },
     "execution_count": 33,
     "metadata": {},
     "output_type": "execute_result"
    }
   ],
   "source": [
    "m4 = m3[:5,3:].copy()\n",
    "m4"
   ]
  },
  {
   "cell_type": "code",
   "execution_count": 34,
   "id": "9a3943bb-2716-41b6-bcf7-9d2e673700eb",
   "metadata": {},
   "outputs": [
    {
     "data": {
      "text/plain": [
       "array([[ 4,  5],\n",
       "       [ 9, 10],\n",
       "       [14, 15],\n",
       "       [19, 20],\n",
       "       [24, 25]])"
      ]
     },
     "execution_count": 34,
     "metadata": {},
     "output_type": "execute_result"
    }
   ],
   "source": [
    "m4[2,0] = 14\n",
    "m4"
   ]
  },
  {
   "cell_type": "code",
   "execution_count": 35,
   "id": "eb593c2f-15c3-4647-9986-2e81083ebdb5",
   "metadata": {},
   "outputs": [
    {
     "data": {
      "text/plain": [
       "array([[    1,     2,     3,     4,     5],\n",
       "       [    6,     7,     8,     9,    10],\n",
       "       [   11,    12,    13, 14000,    15],\n",
       "       [   16,    17,    18,    19,    20],\n",
       "       [   21,    22,    23,    24,    25],\n",
       "       [   26,    27,    28,    29,    30],\n",
       "       [   31,    32,    33,    34,    35],\n",
       "       [   36,    37,    38,    39,    40],\n",
       "       [   41,    42,    43,    44,    45],\n",
       "       [   46,    47,    48,    49,    50]])"
      ]
     },
     "execution_count": 35,
     "metadata": {},
     "output_type": "execute_result"
    }
   ],
   "source": [
    "m3"
   ]
  },
  {
   "cell_type": "code",
   "execution_count": 36,
   "id": "91aeb720-2355-4f4d-af52-e307daa2485f",
   "metadata": {},
   "outputs": [
    {
     "data": {
      "text/plain": [
       "array([[0., 0., 0., 0.],\n",
       "       [0., 0., 0., 0.],\n",
       "       [0., 0., 0., 0.]])"
      ]
     },
     "execution_count": 36,
     "metadata": {},
     "output_type": "execute_result"
    }
   ],
   "source": [
    "m8 = np.zeros((3,4))\n",
    "m8"
   ]
  },
  {
   "cell_type": "code",
   "execution_count": 37,
   "id": "2be74d13-be74-4e0e-b82a-2daf23dbddec",
   "metadata": {},
   "outputs": [
    {
     "data": {
      "text/plain": [
       "array([[1.],\n",
       "       [1.],\n",
       "       [1.]])"
      ]
     },
     "execution_count": 37,
     "metadata": {},
     "output_type": "execute_result"
    }
   ],
   "source": [
    "m9 = np.ones((3,1))\n",
    "m9"
   ]
  },
  {
   "cell_type": "code",
   "execution_count": 38,
   "id": "07e14ced-f766-4dba-978e-64f7ba7cf9f9",
   "metadata": {},
   "outputs": [
    {
     "data": {
      "text/plain": [
       "array([[8., 8., 8., 8., 8., 8.],\n",
       "       [8., 8., 8., 8., 8., 8.],\n",
       "       [8., 8., 8., 8., 8., 8.],\n",
       "       [8., 8., 8., 8., 8., 8.]])"
      ]
     },
     "execution_count": 38,
     "metadata": {},
     "output_type": "execute_result"
    }
   ],
   "source": [
    "m10 = np.ones((4,6)) * 8\n",
    "m10"
   ]
  },
  {
   "cell_type": "code",
   "execution_count": 39,
   "id": "ccbd3d44-be3f-4829-ba1f-f7767f49b0cf",
   "metadata": {},
   "outputs": [
    {
     "data": {
      "text/plain": [
       "array([[0.82132512, 0.96440342, 0.29626399, 0.31962458],\n",
       "       [0.61479227, 0.39536543, 0.08708367, 0.58385816],\n",
       "       [0.28036288, 0.21096375, 0.92259362, 0.17038499]])"
      ]
     },
     "execution_count": 39,
     "metadata": {},
     "output_type": "execute_result"
    }
   ],
   "source": [
    "m11 = np.random.sample((3,4))\n",
    "m11"
   ]
  },
  {
   "cell_type": "markdown",
   "id": "d8f5ee12-bcbc-42b8-9878-143147197437",
   "metadata": {
    "jp-MarkdownHeadingCollapsed": true
   },
   "source": [
    "## Matrix and Vector Operations"
   ]
  },
  {
   "cell_type": "markdown",
   "id": "8e3ce5ed-0596-4e63-931d-aa6349957da9",
   "metadata": {
    "jp-MarkdownHeadingCollapsed": true
   },
   "source": [
    "### Addition and Subtraction of Matrices"
   ]
  },
  {
   "cell_type": "markdown",
   "id": "9bf95825-3fc7-47b8-9ed4-10c049ae5b97",
   "metadata": {},
   "source": [
    "Two matrices can perform addition or subtraction as long as their **dimension is the same**. These are **element wise operations**. In Python, element wise operations is also known as broadcasting.\n",
    "\n",
    "**Matrix Addition** \n",
    "\n",
    "\n",
    "$$\\begin{bmatrix}a &b \\\\c &d\\end{bmatrix} + \\begin{bmatrix}e &f \\\\g &h\\end{bmatrix} = \\begin{bmatrix}a+e &b+f \\\\c+g &d+h\\end{bmatrix}$$\n",
    "         \n",
    "**Matrix Subtraction** \n",
    "\n",
    "\n",
    "$$\\begin{bmatrix}a &b \\\\c &d\\end{bmatrix} - \\begin{bmatrix}e &f \\\\g &h\\end{bmatrix} = \\begin{bmatrix}a-e &b-f \\\\c-g &d-h\\end{bmatrix}$$      \n",
    "\n",
    "Matrix element wise operation also applies to scalar operation.\n",
    "\n",
    "**Matrix Addition with Scalar** \n",
    "\n",
    "\n",
    "$$\\begin{bmatrix}a &b \\\\c &d\\end{bmatrix} + \\begin{bmatrix}e\\end{bmatrix} = \\begin{bmatrix}a+e &b+e \\\\c+e &d+e\\end{bmatrix}$$\n",
    "         \n",
    "**Matrix Subtraction with Scalar** \n",
    "\n",
    "\n",
    "$$\\begin{bmatrix}a &b \\\\c &d\\end{bmatrix} - \\begin{bmatrix}f\\end{bmatrix} = \\begin{bmatrix}a-f &b-f \\\\c-f &d-f\\end{bmatrix}$$ \n",
    "\n",
    "**Matrix addition and subtraction always return a new array. However, if we only manipulation certain column of matrix, it will reference the same object.**\n",
    "\n"
   ]
  },
  {
   "cell_type": "markdown",
   "id": "a4acee74-0227-4ace-a669-cf4c1e529178",
   "metadata": {},
   "source": [
    "**Matrix element wise operation also applies to vector operation. In this case, the n-vector must match either the row or column of matrix.**\n",
    "\n",
    "**Matrix Addition with Column Vector** \n",
    "\n",
    "\n",
    "$$\\begin{bmatrix}a &b \\\\c &d\\end{bmatrix} + \\begin{bmatrix}e \\\\ f\\end{bmatrix} = \\begin{bmatrix}a+e &b+e \\\\c+f &d+f\\end{bmatrix}$$\n",
    "         \n",
    "**Matrix Subtraction with Row Vector** \n",
    "\n",
    "\n",
    "$$\\begin{bmatrix}a &b \\\\c &d\\end{bmatrix} - \\begin{bmatrix}e&f\\end{bmatrix} = \\begin{bmatrix}a-e &b-f \\\\c-e &d-f\\end{bmatrix}$$ \n",
    "\n",
    "**Matrix addition and subtraction always return a new array. However, if we only manipulation certain column of matrix, it will reference the same object.**"
   ]
  },
  {
   "cell_type": "markdown",
   "id": "0ab850cc-9fb3-48a5-b45e-1b9ea023bddd",
   "metadata": {},
   "source": [
    "<div class=\"alert alert-block alert-warning\">\n",
    "\n",
    "**Important:**\n",
    "- **For element wise matrix to matrix operations, the dimension of the matrices must be the same.**    \n",
    "- **For element wise matrix to vector operations, either the column or row of the vector must be the same as the matrix.**\n",
    "- **Matrix addition and subtraction always return a new array. However, if we only manipulation certain column of matrix, it will reference the same object.**\n",
    "    \n",
    "</div>"
   ]
  },
  {
   "cell_type": "code",
   "execution_count": 40,
   "id": "a0a2fca7-49a8-4577-8c63-4a3bba8faa24",
   "metadata": {},
   "outputs": [
    {
     "data": {
      "text/plain": [
       "array([[1000, 1001, 1002, 1003, 1004],\n",
       "       [1005, 1006, 1007, 1008, 1009],\n",
       "       [1010, 1011, 1012, 1013, 1014],\n",
       "       [1015, 1016, 1017, 1018, 1019],\n",
       "       [1020, 1021, 1022, 1023, 1024],\n",
       "       [1025, 1026, 1027, 1028, 1029],\n",
       "       [1030, 1031, 1032, 1033, 1034],\n",
       "       [1035, 1036, 1037, 1038, 1039],\n",
       "       [1040, 1041, 1042, 1043, 1044],\n",
       "       [1045, 1046, 1047, 1048, 1049]])"
      ]
     },
     "execution_count": 40,
     "metadata": {},
     "output_type": "execute_result"
    }
   ],
   "source": [
    "ao1 = np.arange(1000,1050)\n",
    "mo1 = ao1.reshape((10,5))\n",
    "mo1"
   ]
  },
  {
   "cell_type": "code",
   "execution_count": 41,
   "id": "c8b755d4-35c7-4bcd-b69d-f75e3b8558b9",
   "metadata": {},
   "outputs": [
    {
     "data": {
      "text/plain": [
       "array([[500, 501, 502, 503, 504],\n",
       "       [505, 506, 507, 508, 509],\n",
       "       [510, 511, 512, 513, 514],\n",
       "       [515, 516, 517, 518, 519],\n",
       "       [520, 521, 522, 523, 524],\n",
       "       [525, 526, 527, 528, 529],\n",
       "       [530, 531, 532, 533, 534],\n",
       "       [535, 536, 537, 538, 539],\n",
       "       [540, 541, 542, 543, 544],\n",
       "       [545, 546, 547, 548, 549]])"
      ]
     },
     "execution_count": 41,
     "metadata": {},
     "output_type": "execute_result"
    }
   ],
   "source": [
    "mo2 = mo1 - 500\n",
    "mo2"
   ]
  },
  {
   "cell_type": "code",
   "execution_count": 42,
   "id": "b3ee7acb-3776-40ec-8d3e-6a7314375909",
   "metadata": {},
   "outputs": [
    {
     "data": {
      "text/plain": [
       "array([[1000, 1001, 1002, 1003, 1004],\n",
       "       [1005, 1006, 1007, 1008, 1009],\n",
       "       [1010, 1011, 1012, 1013, 1014],\n",
       "       [1015, 1016, 1017, 1018, 1019],\n",
       "       [1020, 1021, 1022, 1023, 1024],\n",
       "       [1025, 1026, 1027, 1028, 1029],\n",
       "       [1030, 1031, 1032, 1033, 1034],\n",
       "       [1035, 1036, 1037, 1038, 1039],\n",
       "       [1040, 1041, 1042, 1043, 1044],\n",
       "       [1045, 1046, 1047, 1048, 1049]])"
      ]
     },
     "execution_count": 42,
     "metadata": {},
     "output_type": "execute_result"
    }
   ],
   "source": [
    "mo1"
   ]
  },
  {
   "cell_type": "code",
   "execution_count": 43,
   "id": "6a71fc1a-d5d3-4ee8-9193-2815ac5da8b2",
   "metadata": {},
   "outputs": [
    {
     "data": {
      "text/plain": [
       "array([[500, 501, 502, 503, 504],\n",
       "       [505, 506, 507, 508, 509],\n",
       "       [510, 511, 512, 513, 514],\n",
       "       [515, 516, 517, 518, 519],\n",
       "       [520, 521, 522, 523, 524],\n",
       "       [525, 526, 527, 528, 529],\n",
       "       [530, 531, 532, 533, 534],\n",
       "       [535, 536, 537, 538, 539],\n",
       "       [540, 541, 542, 543, 544],\n",
       "       [545, 546, 547, 548, 549]])"
      ]
     },
     "execution_count": 43,
     "metadata": {},
     "output_type": "execute_result"
    }
   ],
   "source": [
    "mo2"
   ]
  },
  {
   "cell_type": "code",
   "execution_count": 44,
   "id": "743ae9fd-c31f-4244-a8c6-a153bf5a034b",
   "metadata": {},
   "outputs": [
    {
     "data": {
      "text/plain": [
       "array([[1800, 1801, 1802, 1803, 1804],\n",
       "       [1805, 1806, 1807, 1808, 1809],\n",
       "       [1810, 1811, 1812, 1813, 1814],\n",
       "       [1815, 1816, 1817, 1818, 1819],\n",
       "       [1820, 1821, 1822, 1823, 1824],\n",
       "       [1825, 1826, 1827, 1828, 1829],\n",
       "       [1830, 1831, 1832, 1833, 1834],\n",
       "       [1835, 1836, 1837, 1838, 1839],\n",
       "       [1840, 1841, 1842, 1843, 1844],\n",
       "       [1845, 1846, 1847, 1848, 1849]])"
      ]
     },
     "execution_count": 44,
     "metadata": {},
     "output_type": "execute_result"
    }
   ],
   "source": [
    "mo3 = mo1 + 800\n",
    "mo3"
   ]
  },
  {
   "cell_type": "code",
   "execution_count": 45,
   "id": "a3ec6f31-881f-40bf-962b-6170d32c2877",
   "metadata": {},
   "outputs": [
    {
     "data": {
      "text/plain": [
       "array([[1000, 1001, 1002, 1003, 1004],\n",
       "       [1005, 1006, 1007, 1008, 1009],\n",
       "       [1010, 1011, 1012, 1013, 1014],\n",
       "       [1015, 1016, 1017, 1018, 1019],\n",
       "       [1020, 1021, 1022, 1023, 1024],\n",
       "       [1025, 1026, 1027, 1028, 1029],\n",
       "       [1030, 1031, 1032, 1033, 1034],\n",
       "       [1035, 1036, 1037, 1038, 1039],\n",
       "       [1040, 1041, 1042, 1043, 1044],\n",
       "       [1045, 1046, 1047, 1048, 1049]])"
      ]
     },
     "execution_count": 45,
     "metadata": {},
     "output_type": "execute_result"
    }
   ],
   "source": [
    "mo1"
   ]
  },
  {
   "cell_type": "code",
   "execution_count": 46,
   "id": "2de2af9b-aaa2-45b0-811b-97f38a17f035",
   "metadata": {},
   "outputs": [
    {
     "data": {
      "text/plain": [
       "array([[50, 51, 52, 53, 54],\n",
       "       [55, 56, 57, 58, 59],\n",
       "       [60, 61, 62, 63, 64],\n",
       "       [65, 66, 67, 68, 69],\n",
       "       [70, 71, 72, 73, 74],\n",
       "       [75, 76, 77, 78, 79],\n",
       "       [80, 81, 82, 83, 84],\n",
       "       [85, 86, 87, 88, 89],\n",
       "       [90, 91, 92, 93, 94],\n",
       "       [95, 96, 97, 98, 99]])"
      ]
     },
     "execution_count": 46,
     "metadata": {},
     "output_type": "execute_result"
    }
   ],
   "source": [
    "mo4 = np.arange(50,100).reshape((10,5))\n",
    "mo4"
   ]
  },
  {
   "cell_type": "code",
   "execution_count": 47,
   "id": "2622d60b-b451-48c9-a0c1-321d8ab3bd1c",
   "metadata": {},
   "outputs": [
    {
     "data": {
      "text/plain": [
       "array([[1050, 1052, 1054, 1056, 1058],\n",
       "       [1060, 1062, 1064, 1066, 1068],\n",
       "       [1070, 1072, 1074, 1076, 1078],\n",
       "       [1080, 1082, 1084, 1086, 1088],\n",
       "       [1090, 1092, 1094, 1096, 1098],\n",
       "       [1100, 1102, 1104, 1106, 1108],\n",
       "       [1110, 1112, 1114, 1116, 1118],\n",
       "       [1120, 1122, 1124, 1126, 1128],\n",
       "       [1130, 1132, 1134, 1136, 1138],\n",
       "       [1140, 1142, 1144, 1146, 1148]])"
      ]
     },
     "execution_count": 47,
     "metadata": {},
     "output_type": "execute_result"
    }
   ],
   "source": [
    "mo5 = mo1 + mo4\n",
    "mo5"
   ]
  },
  {
   "cell_type": "code",
   "execution_count": 48,
   "id": "c03b96eb-1567-466f-9827-0dd5308d73e9",
   "metadata": {},
   "outputs": [
    {
     "data": {
      "text/plain": [
       "array([[1900, 1902, 1904, 1906, 1908],\n",
       "       [1910, 1912, 1914, 1916, 1918],\n",
       "       [1920, 1922, 1924, 1926, 1928],\n",
       "       [1930, 1932, 1934, 1936, 1938],\n",
       "       [1940, 1942, 1944, 1946, 1948],\n",
       "       [1950, 1952, 1954, 1956, 1958],\n",
       "       [1960, 1962, 1964, 1966, 1968],\n",
       "       [1970, 1972, 1974, 1976, 1978],\n",
       "       [1980, 1982, 1984, 1986, 1988],\n",
       "       [1990, 1992, 1994, 1996, 1998]])"
      ]
     },
     "execution_count": 48,
     "metadata": {},
     "output_type": "execute_result"
    }
   ],
   "source": [
    "mo6 = (mo3 - 400) + mo2\n",
    "mo6"
   ]
  },
  {
   "cell_type": "code",
   "execution_count": 49,
   "id": "5766b4f6-b5a5-491c-b997-3057c232831b",
   "metadata": {},
   "outputs": [
    {
     "data": {
      "text/plain": [
       "array([[ 1,  2,  3,  4,  5,  6,  7,  8,  9, 10],\n",
       "       [11, 12, 13, 14, 15, 16, 17, 18, 19, 20],\n",
       "       [21, 22, 23, 24, 25, 26, 27, 28, 29, 30],\n",
       "       [31, 32, 33, 34, 35, 36, 37, 38, 39, 40],\n",
       "       [41, 42, 43, 44, 45, 46, 47, 48, 49, 50]])"
      ]
     },
     "execution_count": 49,
     "metadata": {},
     "output_type": "execute_result"
    }
   ],
   "source": [
    "mo7 = np.arange(1,51).reshape(5,10)\n",
    "mo7"
   ]
  },
  {
   "cell_type": "code",
   "execution_count": 50,
   "id": "dd162650-0b13-4a70-917b-7f35722e22dd",
   "metadata": {},
   "outputs": [
    {
     "name": "stdout",
     "output_type": "stream",
     "text": [
      "operands could not be broadcast together with shapes (5,10) (10,5) \n"
     ]
    }
   ],
   "source": [
    "try:\n",
    "    mo7 - mo6\n",
    "except Exception as e:\n",
    "    print(e)"
   ]
  },
  {
   "cell_type": "code",
   "execution_count": 51,
   "id": "797c95d1-58da-4235-b50d-8aecaf59f94e",
   "metadata": {},
   "outputs": [
    {
     "data": {
      "text/plain": [
       "(5, 10)"
      ]
     },
     "execution_count": 51,
     "metadata": {},
     "output_type": "execute_result"
    }
   ],
   "source": [
    "mo7.shape"
   ]
  },
  {
   "cell_type": "code",
   "execution_count": 52,
   "id": "7d3abdbc-a391-473d-ab34-f49193ef5a1f",
   "metadata": {},
   "outputs": [
    {
     "data": {
      "text/plain": [
       "(10, 5)"
      ]
     },
     "execution_count": 52,
     "metadata": {},
     "output_type": "execute_result"
    }
   ],
   "source": [
    "mo6.shape"
   ]
  },
  {
   "cell_type": "markdown",
   "id": "81b3b3f0-370d-4046-9d7f-666258406c6d",
   "metadata": {},
   "source": [
    "<div class=\"alert alert-block alert-warning\">\n",
    "\n",
    "**Matrix of different dimension cannot be computed together.**\n",
    "\n",
    "</div>"
   ]
  },
  {
   "cell_type": "code",
   "execution_count": 53,
   "id": "762e9830-79ca-4746-9dd6-ba69b26b625c",
   "metadata": {},
   "outputs": [
    {
     "data": {
      "text/plain": [
       "array([[ 1,  2,  3,  4,  5,  6,  7,  8,  9, 10],\n",
       "       [11, 12, 13, 14, 15, 16, 17, 18, 19, 20],\n",
       "       [21, 22, 23, 24, 25, 26, 27, 28, 29, 30],\n",
       "       [31, 32, 33, 34, 35, 36, 37, 38, 39, 40],\n",
       "       [41, 42, 43, 44, 45, 46, 47, 48, 49, 50]])"
      ]
     },
     "execution_count": 53,
     "metadata": {},
     "output_type": "execute_result"
    }
   ],
   "source": [
    "mo7"
   ]
  },
  {
   "cell_type": "code",
   "execution_count": 54,
   "id": "9db2c794-1e9d-4191-ac27-f7601619c3ea",
   "metadata": {},
   "outputs": [
    {
     "data": {
      "text/plain": [
       "array([[ 1, 22,  3,  4,  5,  6,  7,  8,  9, 10],\n",
       "       [11, 32, 13, 14, 15, 16, 17, 18, 19, 20],\n",
       "       [21, 42, 23, 24, 25, 26, 27, 28, 29, 30],\n",
       "       [31, 52, 33, 34, 35, 36, 37, 38, 39, 40],\n",
       "       [41, 62, 43, 44, 45, 46, 47, 48, 49, 50]])"
      ]
     },
     "execution_count": 54,
     "metadata": {},
     "output_type": "execute_result"
    }
   ],
   "source": [
    "mo7[:,1] = mo7[:,1] + 20\n",
    "mo7"
   ]
  },
  {
   "cell_type": "code",
   "execution_count": 55,
   "id": "0e374686-6655-4a3f-ba2c-548496551e2e",
   "metadata": {},
   "outputs": [
    {
     "data": {
      "text/plain": [
       "array([[  1,  22,   3,   4,   5, -94,   7,   8,   9,  10],\n",
       "       [ 11,  32,  13,  14,  15, -84,  17,  18,  19,  20],\n",
       "       [ 21,  42,  23,  24,  25, -74,  27,  28,  29,  30],\n",
       "       [ 31,  52,  33,  34,  35, -64,  37,  38,  39,  40],\n",
       "       [ 41,  62,  43,  44,  45, -54,  47,  48,  49,  50]])"
      ]
     },
     "execution_count": 55,
     "metadata": {},
     "output_type": "execute_result"
    }
   ],
   "source": [
    "mo8 = mo7\n",
    "mo8[:,5] = mo8[:,5] - 100\n",
    "mo8"
   ]
  },
  {
   "cell_type": "markdown",
   "id": "30d5925f-51a0-483f-9a2d-5d70670964d3",
   "metadata": {},
   "source": [
    "The operation previously done on mo7 will still reflect in mo8."
   ]
  },
  {
   "cell_type": "code",
   "execution_count": 56,
   "id": "af08740c-368e-4a67-9c85-a4e067f67fcf",
   "metadata": {},
   "outputs": [
    {
     "data": {
      "text/plain": [
       "array([[  1,  22,   3,   4,   5, -94,   7,   8,   9,  10],\n",
       "       [ 11,  32,  13,  14,  15, -84,  17,  18,  19,  20],\n",
       "       [ 21,  42,  23,  24,  25, -74,  27,  28,  29,  30],\n",
       "       [ 31,  52,  33,  34,  35, -64,  37,  38,  39,  40],\n",
       "       [ 41,  62,  43,  44,  45, -54,  47,  48,  49,  50]])"
      ]
     },
     "execution_count": 56,
     "metadata": {},
     "output_type": "execute_result"
    }
   ],
   "source": [
    "mo7"
   ]
  },
  {
   "cell_type": "markdown",
   "id": "94b5b2b8-ef02-4886-9a38-4b071d52f80b",
   "metadata": {},
   "source": [
    "Changes to mo8 also reflects in mo7"
   ]
  },
  {
   "cell_type": "code",
   "execution_count": 57,
   "id": "42465068-f37c-40d6-83bd-e24cdbaee485",
   "metadata": {},
   "outputs": [
    {
     "data": {
      "text/plain": [
       "array([[ 1,  2,  3,  4,  5,  6,  7,  8,  9, 10],\n",
       "       [11, 12, 13, 14, 15, 16, 17, 18, 19, 20],\n",
       "       [21, 22, 23, 24, 25, 26, 27, 28, 29, 30],\n",
       "       [31, 32, 33, 34, 35, 36, 37, 38, 39, 40],\n",
       "       [41, 42, 43, 44, 45, 46, 47, 48, 49, 50]])"
      ]
     },
     "execution_count": 57,
     "metadata": {},
     "output_type": "execute_result"
    }
   ],
   "source": [
    "mo9 = np.arange(1,51).reshape(5,10)\n",
    "mo9"
   ]
  },
  {
   "cell_type": "code",
   "execution_count": 58,
   "id": "95ce36de-4fb1-4726-803e-116bcbc84a3f",
   "metadata": {},
   "outputs": [
    {
     "data": {
      "text/plain": [
       "array([[  1,   2,   3,   4,   5, -94,   7,   8,   9,  10],\n",
       "       [ 11,  12,  13,  14,  15, -84,  17,  18,  19,  20],\n",
       "       [ 21,  22,  23,  24,  25, -74,  27,  28,  29,  30],\n",
       "       [ 31,  32,  33,  34,  35, -64,  37,  38,  39,  40],\n",
       "       [ 41,  42,  43,  44,  45, -54,  47,  48,  49,  50]])"
      ]
     },
     "execution_count": 58,
     "metadata": {},
     "output_type": "execute_result"
    }
   ],
   "source": [
    "mo9[:,5] = mo9[:,5] - 100\n",
    "mo9"
   ]
  },
  {
   "cell_type": "code",
   "execution_count": 59,
   "id": "2836b584-8d05-4bd1-9bab-e90ceaa54357",
   "metadata": {},
   "outputs": [
    {
     "data": {
      "text/plain": [
       "(5, 10)"
      ]
     },
     "execution_count": 59,
     "metadata": {},
     "output_type": "execute_result"
    }
   ],
   "source": [
    "mo9.shape"
   ]
  },
  {
   "cell_type": "code",
   "execution_count": 60,
   "id": "2cb40ffe-a727-4d31-afea-e6f95bb451df",
   "metadata": {},
   "outputs": [
    {
     "data": {
      "text/plain": [
       "array([[  1,   2,   3,   4,   5, -94,   7,   8,   9,  10],\n",
       "       [ 11,  12,  13,  14,  15, -84,  17,  18,  19,  20],\n",
       "       [ 21,  22,  23,  24,  25, -74,  27,  28,  29,  30],\n",
       "       [ 31,  32,  33,  34,  35, -64,  37,  38,  39,  40],\n",
       "       [ 41,  42,  43,  44,  45, -54,  47,  48,  49,  50]])"
      ]
     },
     "execution_count": 60,
     "metadata": {},
     "output_type": "execute_result"
    }
   ],
   "source": [
    "mo9"
   ]
  },
  {
   "cell_type": "code",
   "execution_count": 61,
   "id": "7a52ef18-910e-4f09-903a-5a4630dd9675",
   "metadata": {},
   "outputs": [
    {
     "data": {
      "text/plain": [
       "array([[1],\n",
       "       [2],\n",
       "       [3],\n",
       "       [4],\n",
       "       [5]])"
      ]
     },
     "execution_count": 61,
     "metadata": {},
     "output_type": "execute_result"
    }
   ],
   "source": [
    "mo10 = np.array([1,2,3,4,5]).reshape((5,1))\n",
    "mo10"
   ]
  },
  {
   "cell_type": "code",
   "execution_count": 62,
   "id": "dc092938-6011-4829-86a3-71553c2bae2c",
   "metadata": {},
   "outputs": [
    {
     "data": {
      "text/plain": [
       "array([[  0,   1,   2,   3,   4, -95,   6,   7,   8,   9],\n",
       "       [  9,  10,  11,  12,  13, -86,  15,  16,  17,  18],\n",
       "       [ 18,  19,  20,  21,  22, -77,  24,  25,  26,  27],\n",
       "       [ 27,  28,  29,  30,  31, -68,  33,  34,  35,  36],\n",
       "       [ 36,  37,  38,  39,  40, -59,  42,  43,  44,  45]])"
      ]
     },
     "execution_count": 62,
     "metadata": {},
     "output_type": "execute_result"
    }
   ],
   "source": [
    "mo10b = mo9 - mo10\n",
    "mo10b"
   ]
  },
  {
   "cell_type": "code",
   "execution_count": 63,
   "id": "8ca9cbbc-279e-4725-8163-3dc71e4f173d",
   "metadata": {},
   "outputs": [
    {
     "data": {
      "text/plain": [
       "array([[  1,   2,   3,   4,   5, -94,   7,   8,   9,  10],\n",
       "       [ 11,  12,  13,  14,  15, -84,  17,  18,  19,  20],\n",
       "       [ 21,  22,  23,  24,  25, -74,  27,  28,  29,  30],\n",
       "       [ 31,  32,  33,  34,  35, -64,  37,  38,  39,  40],\n",
       "       [ 41,  42,  43,  44,  45, -54,  47,  48,  49,  50]])"
      ]
     },
     "execution_count": 63,
     "metadata": {},
     "output_type": "execute_result"
    }
   ],
   "source": [
    "mo9"
   ]
  },
  {
   "cell_type": "markdown",
   "id": "51dcad36-83c0-44b4-b351-a80fa54f6207",
   "metadata": {},
   "source": [
    "**mo9 retain old numbers.**"
   ]
  },
  {
   "cell_type": "code",
   "execution_count": 64,
   "id": "9ccec49e-ccba-4918-a334-4696009876ce",
   "metadata": {},
   "outputs": [
    {
     "data": {
      "text/plain": [
       "array([[0, 1, 2, 3, 4, 5, 6, 7, 8, 9]])"
      ]
     },
     "execution_count": 64,
     "metadata": {},
     "output_type": "execute_result"
    }
   ],
   "source": [
    "mo11 = np.arange(10).reshape((1,10))\n",
    "mo11"
   ]
  },
  {
   "cell_type": "code",
   "execution_count": 65,
   "id": "df180678-f938-4054-994f-fad16eabeeb2",
   "metadata": {},
   "outputs": [
    {
     "data": {
      "text/plain": [
       "array([[  1,   2,   3,   4,   5, -94,   7,   8,   9,  10],\n",
       "       [ 11,  12,  13,  14,  15, -84,  17,  18,  19,  20],\n",
       "       [ 21,  22,  23,  24,  25, -74,  27,  28,  29,  30],\n",
       "       [ 31,  32,  33,  34,  35, -64,  37,  38,  39,  40],\n",
       "       [ 41,  42,  43,  44,  45, -54,  47,  48,  49,  50]])"
      ]
     },
     "execution_count": 65,
     "metadata": {},
     "output_type": "execute_result"
    }
   ],
   "source": [
    "mo9"
   ]
  },
  {
   "cell_type": "code",
   "execution_count": 66,
   "id": "950d7c9e-0a38-4ab0-b9c4-97bf39f0b77b",
   "metadata": {},
   "outputs": [
    {
     "data": {
      "text/plain": [
       "array([[  1,   3,   5,   7,   9, -89,  13,  15,  17,  19],\n",
       "       [ 11,  13,  15,  17,  19, -79,  23,  25,  27,  29],\n",
       "       [ 21,  23,  25,  27,  29, -69,  33,  35,  37,  39],\n",
       "       [ 31,  33,  35,  37,  39, -59,  43,  45,  47,  49],\n",
       "       [ 41,  43,  45,  47,  49, -49,  53,  55,  57,  59]])"
      ]
     },
     "execution_count": 66,
     "metadata": {},
     "output_type": "execute_result"
    }
   ],
   "source": [
    "mo11b = mo9 + mo11\n",
    "mo11b"
   ]
  },
  {
   "cell_type": "markdown",
   "id": "60f2d132-249d-48d4-91d7-184a594919de",
   "metadata": {
    "jp-MarkdownHeadingCollapsed": true
   },
   "source": [
    "### Scalar Multiplication"
   ]
  },
  {
   "cell_type": "markdown",
   "id": "8a0bd77e-b33a-484c-8166-62da54dbadc5",
   "metadata": {},
   "source": [
    "We can perform scalar multiplication with a matrix, we just multiply the scalar with each element in the matrix:\n",
    "\n",
    "\n",
    "$$\\begin{bmatrix}a &b \\\\c &d\\end{bmatrix} * x = \\begin{bmatrix}a*x &b*x \\\\c*x &d*x\\end{bmatrix}$$  \n",
    "\n",
    "scalar multiplication always return a new array when you assigned it to a new variable, however, it will always reference the same object if you are only modifying a particular column."
   ]
  },
  {
   "cell_type": "code",
   "execution_count": 67,
   "id": "af36b5c8-5a0a-407a-86fb-b2cc014d7eee",
   "metadata": {},
   "outputs": [
    {
     "data": {
      "text/plain": [
       "array([[1900, 1902, 1904, 1906, 1908],\n",
       "       [1910, 1912, 1914, 1916, 1918],\n",
       "       [1920, 1922, 1924, 1926, 1928],\n",
       "       [1930, 1932, 1934, 1936, 1938],\n",
       "       [1940, 1942, 1944, 1946, 1948],\n",
       "       [1950, 1952, 1954, 1956, 1958],\n",
       "       [1960, 1962, 1964, 1966, 1968],\n",
       "       [1970, 1972, 1974, 1976, 1978],\n",
       "       [1980, 1982, 1984, 1986, 1988],\n",
       "       [1990, 1992, 1994, 1996, 1998]])"
      ]
     },
     "execution_count": 67,
     "metadata": {},
     "output_type": "execute_result"
    }
   ],
   "source": [
    "mo6"
   ]
  },
  {
   "cell_type": "code",
   "execution_count": 68,
   "id": "89648d0b-2560-4d67-a7a1-cdc9567ab9ac",
   "metadata": {},
   "outputs": [
    {
     "data": {
      "text/plain": [
       "(10, 5)"
      ]
     },
     "execution_count": 68,
     "metadata": {},
     "output_type": "execute_result"
    }
   ],
   "source": [
    "mo6.shape"
   ]
  },
  {
   "cell_type": "code",
   "execution_count": 69,
   "id": "9c65890f-4de6-467c-9301-bbb0ae200f37",
   "metadata": {},
   "outputs": [
    {
     "data": {
      "text/plain": [
       "array([[19.  , 19.02, 19.04, 19.06, 19.08],\n",
       "       [19.1 , 19.12, 19.14, 19.16, 19.18],\n",
       "       [19.2 , 19.22, 19.24, 19.26, 19.28],\n",
       "       [19.3 , 19.32, 19.34, 19.36, 19.38],\n",
       "       [19.4 , 19.42, 19.44, 19.46, 19.48],\n",
       "       [19.5 , 19.52, 19.54, 19.56, 19.58],\n",
       "       [19.6 , 19.62, 19.64, 19.66, 19.68],\n",
       "       [19.7 , 19.72, 19.74, 19.76, 19.78],\n",
       "       [19.8 , 19.82, 19.84, 19.86, 19.88],\n",
       "       [19.9 , 19.92, 19.94, 19.96, 19.98]])"
      ]
     },
     "execution_count": 69,
     "metadata": {},
     "output_type": "execute_result"
    }
   ],
   "source": [
    "mo12 = mo6 / 100\n",
    "mo12"
   ]
  },
  {
   "cell_type": "code",
   "execution_count": 70,
   "id": "14de768a-dc78-47fd-8233-e6c511c1a595",
   "metadata": {},
   "outputs": [
    {
     "data": {
      "text/plain": [
       "array([[1900, 1902, 1904, 1906, 1908],\n",
       "       [1910, 1912, 1914, 1916, 1918],\n",
       "       [1920, 1922, 1924, 1926, 1928],\n",
       "       [1930, 1932, 1934, 1936, 1938],\n",
       "       [1940, 1942, 1944, 1946, 1948],\n",
       "       [1950, 1952, 1954, 1956, 1958],\n",
       "       [1960, 1962, 1964, 1966, 1968],\n",
       "       [1970, 1972, 1974, 1976, 1978],\n",
       "       [1980, 1982, 1984, 1986, 1988],\n",
       "       [1990, 1992, 1994, 1996, 1998]])"
      ]
     },
     "execution_count": 70,
     "metadata": {},
     "output_type": "execute_result"
    }
   ],
   "source": [
    "mo6"
   ]
  },
  {
   "cell_type": "code",
   "execution_count": 71,
   "id": "af5d398d-260d-4e50-876b-04b2f783496d",
   "metadata": {},
   "outputs": [
    {
     "data": {
      "text/plain": [
       "array([[19.  , 19.02, 19.04, 19.06, 19.08],\n",
       "       [19.1 , 19.12, 19.14, 19.16, 19.18],\n",
       "       [19.2 , 19.22, 19.24, 19.26, 19.28],\n",
       "       [19.3 , 19.32, 19.34, 19.36, 19.38],\n",
       "       [19.4 , 19.42, 19.44, 19.46, 19.48],\n",
       "       [19.5 , 19.52, 19.54, 19.56, 19.58],\n",
       "       [19.6 , 19.62, 19.64, 19.66, 19.68],\n",
       "       [19.7 , 19.72, 19.74, 19.76, 19.78],\n",
       "       [19.8 , 19.82, 19.84, 19.86, 19.88],\n",
       "       [19.9 , 19.92, 19.94, 19.96, 19.98]])"
      ]
     },
     "execution_count": 71,
     "metadata": {},
     "output_type": "execute_result"
    }
   ],
   "source": [
    "mo6 * 0.01"
   ]
  },
  {
   "cell_type": "code",
   "execution_count": 72,
   "id": "8c15f8e5-a11d-46c6-bfea-e57c61df69e8",
   "metadata": {},
   "outputs": [
    {
     "data": {
      "text/plain": [
       "array([[1900, 1902, 1904, 1906, 1908],\n",
       "       [1910, 1912, 1914, 1916, 1918],\n",
       "       [1920, 1922, 1924, 1926, 1928],\n",
       "       [1930, 1932, 1934, 1936, 1938],\n",
       "       [1940, 1942, 1944, 1946, 1948],\n",
       "       [1950, 1952, 1954, 1956, 1958],\n",
       "       [1960, 1962, 1964, 1966, 1968],\n",
       "       [1970, 1972, 1974, 1976, 1978],\n",
       "       [1980, 1982, 1984, 1986, 1988],\n",
       "       [1990, 1992, 1994, 1996, 1998]])"
      ]
     },
     "execution_count": 72,
     "metadata": {},
     "output_type": "execute_result"
    }
   ],
   "source": [
    "mo13 = mo6.copy()\n",
    "mo13"
   ]
  },
  {
   "cell_type": "code",
   "execution_count": 73,
   "id": "0820a6a8-78d4-4519-8e3a-b282ebc4668a",
   "metadata": {},
   "outputs": [
    {
     "data": {
      "text/plain": [
       "array([[19.  , 19.02, 19.04, 19.06, 19.08],\n",
       "       [19.1 , 19.12, 19.14, 19.16, 19.18],\n",
       "       [19.2 , 19.22, 19.24, 19.26, 19.28],\n",
       "       [19.3 , 19.32, 19.34, 19.36, 19.38],\n",
       "       [19.4 , 19.42, 19.44, 19.46, 19.48],\n",
       "       [19.5 , 19.52, 19.54, 19.56, 19.58],\n",
       "       [19.6 , 19.62, 19.64, 19.66, 19.68],\n",
       "       [19.7 , 19.72, 19.74, 19.76, 19.78],\n",
       "       [19.8 , 19.82, 19.84, 19.86, 19.88],\n",
       "       [19.9 , 19.92, 19.94, 19.96, 19.98]])"
      ]
     },
     "execution_count": 73,
     "metadata": {},
     "output_type": "execute_result"
    }
   ],
   "source": [
    "mo14 = mo13 / 100\n",
    "mo14"
   ]
  },
  {
   "cell_type": "markdown",
   "id": "9ad4c9ff-215f-4642-8fe6-717e4e169bbb",
   "metadata": {},
   "source": [
    "**The following demonstrate how to manipulate a column at a time.**"
   ]
  },
  {
   "cell_type": "code",
   "execution_count": 74,
   "id": "46559d03-b44b-460e-99ff-490c6792b474",
   "metadata": {},
   "outputs": [
    {
     "data": {
      "text/plain": [
       "array([[1900, 1902, 1904, 1906, 1908],\n",
       "       [1910, 1912, 1914, 1916, 1918],\n",
       "       [1920, 1922, 1924, 1926, 1928],\n",
       "       [1930, 1932, 1934, 1936, 1938],\n",
       "       [1940, 1942, 1944, 1946, 1948],\n",
       "       [1950, 1952, 1954, 1956, 1958],\n",
       "       [1960, 1962, 1964, 1966, 1968],\n",
       "       [1970, 1972, 1974, 1976, 1978],\n",
       "       [1980, 1982, 1984, 1986, 1988],\n",
       "       [1990, 1992, 1994, 1996, 1998]])"
      ]
     },
     "execution_count": 74,
     "metadata": {},
     "output_type": "execute_result"
    }
   ],
   "source": [
    "mo15 = mo6.copy()\n",
    "mo15"
   ]
  },
  {
   "cell_type": "code",
   "execution_count": 75,
   "id": "6da4218e-c743-4186-8bf9-8b362a755edc",
   "metadata": {},
   "outputs": [
    {
     "data": {
      "text/plain": [
       "array([[1900, 1902,  190, 1906, 1908],\n",
       "       [1910, 1912,  191, 1916, 1918],\n",
       "       [1920, 1922,  192, 1926, 1928],\n",
       "       [1930, 1932,  193, 1936, 1938],\n",
       "       [1940, 1942,  194, 1946, 1948],\n",
       "       [1950, 1952,  195, 1956, 1958],\n",
       "       [1960, 1962,  196, 1966, 1968],\n",
       "       [1970, 1972,  197, 1976, 1978],\n",
       "       [1980, 1982,  198, 1986, 1988],\n",
       "       [1990, 1992,  199, 1996, 1998]])"
      ]
     },
     "execution_count": 75,
     "metadata": {},
     "output_type": "execute_result"
    }
   ],
   "source": [
    "mo15[:,2] = mo15[:,2]/10.0\n",
    "mo15"
   ]
  },
  {
   "cell_type": "code",
   "execution_count": 76,
   "id": "da7a96c1-8879-48cb-ab3c-a3852c346143",
   "metadata": {},
   "outputs": [
    {
     "data": {
      "text/plain": [
       "dtype('int64')"
      ]
     },
     "execution_count": 76,
     "metadata": {},
     "output_type": "execute_result"
    }
   ],
   "source": [
    "mo13.dtype"
   ]
  },
  {
   "cell_type": "markdown",
   "id": "5ae75b0f-3f26-4fc8-b185-9fa192920319",
   "metadata": {},
   "source": [
    "**Note: The above integer matrix could not divide and convert to float.**"
   ]
  },
  {
   "cell_type": "code",
   "execution_count": 77,
   "id": "878a0d42-6e28-4663-869a-12fb73377c89",
   "metadata": {},
   "outputs": [
    {
     "data": {
      "text/plain": [
       "array([[1900., 1902., 1904., 1906., 1908.],\n",
       "       [1910., 1912., 1914., 1916., 1918.],\n",
       "       [1920., 1922., 1924., 1926., 1928.],\n",
       "       [1930., 1932., 1934., 1936., 1938.],\n",
       "       [1940., 1942., 1944., 1946., 1948.],\n",
       "       [1950., 1952., 1954., 1956., 1958.],\n",
       "       [1960., 1962., 1964., 1966., 1968.],\n",
       "       [1970., 1972., 1974., 1976., 1978.],\n",
       "       [1980., 1982., 1984., 1986., 1988.],\n",
       "       [1990., 1992., 1994., 1996., 1998.]])"
      ]
     },
     "execution_count": 77,
     "metadata": {},
     "output_type": "execute_result"
    }
   ],
   "source": [
    "mo16 = mo6.copy().astype('float')\n",
    "mo16"
   ]
  },
  {
   "cell_type": "code",
   "execution_count": 78,
   "id": "30ab50e2-776c-41fb-ae38-91ec89e43f0e",
   "metadata": {},
   "outputs": [
    {
     "data": {
      "text/plain": [
       "array([[1900. , 1902. ,  190.4, 1906. , 1908. ],\n",
       "       [1910. , 1912. ,  191.4, 1916. , 1918. ],\n",
       "       [1920. , 1922. ,  192.4, 1926. , 1928. ],\n",
       "       [1930. , 1932. ,  193.4, 1936. , 1938. ],\n",
       "       [1940. , 1942. ,  194.4, 1946. , 1948. ],\n",
       "       [1950. , 1952. ,  195.4, 1956. , 1958. ],\n",
       "       [1960. , 1962. ,  196.4, 1966. , 1968. ],\n",
       "       [1970. , 1972. ,  197.4, 1976. , 1978. ],\n",
       "       [1980. , 1982. ,  198.4, 1986. , 1988. ],\n",
       "       [1990. , 1992. ,  199.4, 1996. , 1998. ]])"
      ]
     },
     "execution_count": 78,
     "metadata": {},
     "output_type": "execute_result"
    }
   ],
   "source": [
    "mo16[:,2] = mo16[:,2]/10.0\n",
    "mo16"
   ]
  },
  {
   "cell_type": "code",
   "execution_count": 79,
   "id": "22070d9f-1f96-4d30-be9a-d8fc41bddee6",
   "metadata": {},
   "outputs": [
    {
     "data": {
      "text/plain": [
       "array([[2.104e+03, 5.000e+00, 1.000e+00, 4.500e+01],\n",
       "       [1.416e+03, 3.000e+00, 2.000e+00, 4.000e+01],\n",
       "       [8.520e+02, 2.000e+00, 1.000e+00, 3.500e+01]])"
      ]
     },
     "execution_count": 79,
     "metadata": {},
     "output_type": "execute_result"
    }
   ],
   "source": [
    "mo17 = np.array([[2104, 5, 1, 45], [1416, 3, 2, 40], [852, 2, 1, 35]]).astype('float')\n",
    "mo17"
   ]
  },
  {
   "cell_type": "code",
   "execution_count": 80,
   "id": "38603c60-3f2e-412b-9702-255d6dd86d7f",
   "metadata": {},
   "outputs": [
    {
     "data": {
      "text/plain": [
       "array([[ 2.104,  5.   ,  1.   , 45.   ],\n",
       "       [ 1.416,  3.   ,  2.   , 40.   ],\n",
       "       [ 0.852,  2.   ,  1.   , 35.   ]])"
      ]
     },
     "execution_count": 80,
     "metadata": {},
     "output_type": "execute_result"
    }
   ],
   "source": [
    "mo17[:,0] = mo17[:,0]/1000\n",
    "mo17"
   ]
  },
  {
   "cell_type": "code",
   "execution_count": 81,
   "id": "d97d5878-4619-4b8f-9591-c548679928e6",
   "metadata": {},
   "outputs": [
    {
     "data": {
      "text/plain": [
       "array([[2.104, 5.   , 1.   , 4.5  ],\n",
       "       [1.416, 3.   , 2.   , 4.   ],\n",
       "       [0.852, 2.   , 1.   , 3.5  ]])"
      ]
     },
     "execution_count": 81,
     "metadata": {},
     "output_type": "execute_result"
    }
   ],
   "source": [
    "mo17[:,3] = mo17[:,3]/10\n",
    "mo17"
   ]
  },
  {
   "cell_type": "markdown",
   "id": "997d6492-e471-489d-8f01-d48e542a94ea",
   "metadata": {
    "jp-MarkdownHeadingCollapsed": true
   },
   "source": [
    "### Transpose of Matrix"
   ]
  },
  {
   "cell_type": "markdown",
   "id": "1104456a-264f-4613-8220-02babe179877",
   "metadata": {},
   "source": [
    "Transpose of a matrix is to convert the rows to column and columns to rows, it will take the first row and make it as first column and so on:\n",
    "\n",
    "$$A = \\begin{bmatrix}a &b \\\\c &d \\\\e &f\\end{bmatrix}$$ \n",
    "\n",
    "$$A^{T} = \\begin{bmatrix}a &c &e\\\\b &d &f\\end{bmatrix}$$ \n",
    "\n",
    "Also\n",
    "\n",
    "$$A_{ij} = A^{T}_{ji}$$"
   ]
  },
  {
   "cell_type": "code",
   "execution_count": 82,
   "id": "d01ec13e-993d-487b-ad22-5295b6a1cfad",
   "metadata": {},
   "outputs": [
    {
     "data": {
      "text/plain": [
       "array([[2104,    5,    1,   45],\n",
       "       [1416,    3,    2,   40],\n",
       "       [ 852,    2,    1,   35]])"
      ]
     },
     "execution_count": 82,
     "metadata": {},
     "output_type": "execute_result"
    }
   ],
   "source": [
    "mo18 = np.array([[2104, 5, 1, 45], [1416, 3, 2, 40], [852, 2, 1, 35]])\n",
    "mo18"
   ]
  },
  {
   "cell_type": "code",
   "execution_count": 83,
   "id": "85659ae6-4163-4afe-a407-b6211e43de9b",
   "metadata": {},
   "outputs": [
    {
     "data": {
      "text/plain": [
       "array([[2104, 1416,  852],\n",
       "       [   5,    3,    2],\n",
       "       [   1,    2,    1],\n",
       "       [  45,   40,   35]])"
      ]
     },
     "execution_count": 83,
     "metadata": {},
     "output_type": "execute_result"
    }
   ],
   "source": [
    "mo19 = np.array([[2104,1416,852],[5,3,2],[1,2,1],[45,40,35]])\n",
    "mo19"
   ]
  },
  {
   "cell_type": "code",
   "execution_count": 84,
   "id": "9dc7af95-b647-4595-9d62-c1db91fb819b",
   "metadata": {},
   "outputs": [
    {
     "data": {
      "text/plain": [
       "array([[2104,    5,    1,   45],\n",
       "       [1416,    3,    2,   40],\n",
       "       [ 852,    2,    1,   35]])"
      ]
     },
     "execution_count": 84,
     "metadata": {},
     "output_type": "execute_result"
    }
   ],
   "source": [
    "mo20 = np.transpose(mo19)\n",
    "mo20"
   ]
  },
  {
   "cell_type": "markdown",
   "id": "487719c5-e52d-4a37-a3c8-f3a8bc03fc1b",
   "metadata": {
    "jp-MarkdownHeadingCollapsed": true
   },
   "source": [
    "### Other Matrix Operation"
   ]
  },
  {
   "cell_type": "markdown",
   "id": "f311c06d-3a8e-4c17-b81f-9daa7e717a5f",
   "metadata": {},
   "source": [
    "There are also some pre-built matrix function such as sum, mean that we can use."
   ]
  },
  {
   "cell_type": "markdown",
   "id": "fb92b680-40d2-4be6-808c-c54bffd8dc5f",
   "metadata": {
    "jp-MarkdownHeadingCollapsed": true
   },
   "source": [
    "#### Sum of Matrix"
   ]
  },
  {
   "cell_type": "code",
   "execution_count": 85,
   "id": "f140e2c7-e735-4b76-bc0a-670735787329",
   "metadata": {},
   "outputs": [
    {
     "data": {
      "text/plain": [
       "array([[2104,    5,    1,   45],\n",
       "       [1416,    3,    2,   40],\n",
       "       [ 852,    2,    1,   35]])"
      ]
     },
     "execution_count": 85,
     "metadata": {},
     "output_type": "execute_result"
    }
   ],
   "source": [
    "mo18"
   ]
  },
  {
   "cell_type": "code",
   "execution_count": 86,
   "id": "5281a08a-731d-4489-9c11-4b7b884ee334",
   "metadata": {},
   "outputs": [
    {
     "data": {
      "text/plain": [
       "4506"
      ]
     },
     "execution_count": 86,
     "metadata": {},
     "output_type": "execute_result"
    }
   ],
   "source": [
    "# Sum all numbers in the matrix\n",
    "mo18.sum()"
   ]
  },
  {
   "cell_type": "code",
   "execution_count": 87,
   "id": "e3b21541-4d69-48e3-bb52-5d0baefbd157",
   "metadata": {},
   "outputs": [
    {
     "data": {
      "text/plain": [
       "array([4372,   10,    4,  120])"
      ]
     },
     "execution_count": 87,
     "metadata": {},
     "output_type": "execute_result"
    }
   ],
   "source": [
    "# Sum all the columns\n",
    "mo18.sum(axis = 0)"
   ]
  },
  {
   "cell_type": "code",
   "execution_count": 88,
   "id": "f1405bac-05ad-44f9-a83e-ddf97a313227",
   "metadata": {},
   "outputs": [
    {
     "data": {
      "text/plain": [
       "array([2155, 1461,  890])"
      ]
     },
     "execution_count": 88,
     "metadata": {},
     "output_type": "execute_result"
    }
   ],
   "source": [
    "# Sum all the rows\n",
    "# This does not really make sense or practical unless your rows belong to the same column\n",
    "mo18.sum(axis = 1)"
   ]
  },
  {
   "cell_type": "markdown",
   "id": "ec480ed8-fa74-4279-93c0-c646d1399c70",
   "metadata": {
    "jp-MarkdownHeadingCollapsed": true
   },
   "source": [
    "#### Average of Matrix"
   ]
  },
  {
   "cell_type": "code",
   "execution_count": 89,
   "id": "54752702-3433-4c9e-8369-4d78fd9b83db",
   "metadata": {},
   "outputs": [
    {
     "data": {
      "text/plain": [
       "array([[2104,    5,    1,   45],\n",
       "       [1416,    3,    2,   40],\n",
       "       [ 852,    2,    1,   35]])"
      ]
     },
     "execution_count": 89,
     "metadata": {},
     "output_type": "execute_result"
    }
   ],
   "source": [
    "mo18"
   ]
  },
  {
   "cell_type": "code",
   "execution_count": 90,
   "id": "f67ec400-29aa-49ea-a071-13ec750df05c",
   "metadata": {},
   "outputs": [
    {
     "data": {
      "text/plain": [
       "375.5"
      ]
     },
     "execution_count": 90,
     "metadata": {},
     "output_type": "execute_result"
    }
   ],
   "source": [
    "mo18.mean()"
   ]
  },
  {
   "cell_type": "code",
   "execution_count": 91,
   "id": "c23656f8-769b-4460-ac94-a242d81073fe",
   "metadata": {},
   "outputs": [
    {
     "data": {
      "text/plain": [
       "array([1.45733333e+03, 3.33333333e+00, 1.33333333e+00, 4.00000000e+01])"
      ]
     },
     "execution_count": 91,
     "metadata": {},
     "output_type": "execute_result"
    }
   ],
   "source": [
    "# Average of the columns\n",
    "mo18.mean(axis = 0)"
   ]
  },
  {
   "cell_type": "markdown",
   "id": "3b42ca2a-860e-4e23-898a-80d097bbf372",
   "metadata": {
    "jp-MarkdownHeadingCollapsed": true
   },
   "source": [
    "## Matrix and Vector Multiplication (Broadcast)"
   ]
  },
  {
   "cell_type": "markdown",
   "id": "975f59c7-f435-452a-9389-0c912baf6683",
   "metadata": {},
   "source": [
    "<div class=\"alert alert-block alert-info\">\n",
    "    \n",
    "**There are 2 forms of matrix multiplications, they are the broadcast element wise multiplication and dot product multiplication. In this section we will be touching just the element wise broadcast**\n",
    "</div>"
   ]
  },
  {
   "cell_type": "markdown",
   "id": "0dc73772-2b0a-425a-823c-d530fc6f9c29",
   "metadata": {
    "jp-MarkdownHeadingCollapsed": true
   },
   "source": [
    "### Vector and Vector Multiplication (Broadcast)"
   ]
  },
  {
   "cell_type": "markdown",
   "id": "90b5bd12-639e-45cf-9f19-71f64a9630ea",
   "metadata": {},
   "source": [
    "**In vector and vector multiplication, only the vector of the same dimension can perform element wise vector multiplication.**\n",
    "$$\\begin{bmatrix}a \\\\b \\\\c \\end{bmatrix} * \\begin{bmatrix}x \\\\y \\\\z \\end{bmatrix} = \\begin{bmatrix}(a*x)\\\\(b*y)\\\\(c*z)\\end{bmatrix}$$"
   ]
  },
  {
   "cell_type": "code",
   "execution_count": 92,
   "id": "3a8fa2b4-b0f6-4024-a18c-8d220d96139f",
   "metadata": {},
   "outputs": [
    {
     "data": {
      "text/plain": [
       "array([[1],\n",
       "       [2],\n",
       "       [3],\n",
       "       [4],\n",
       "       [5]])"
      ]
     },
     "execution_count": 92,
     "metadata": {},
     "output_type": "execute_result"
    }
   ],
   "source": [
    "vo20 = np.arange(1,6).reshape((5,1))\n",
    "vo20"
   ]
  },
  {
   "cell_type": "code",
   "execution_count": 93,
   "id": "0ea9e2b9-ac7f-4ba1-9d6a-dfc988437aac",
   "metadata": {},
   "outputs": [
    {
     "data": {
      "text/plain": [
       "array([[3221],\n",
       "       [3222],\n",
       "       [3223],\n",
       "       [3224],\n",
       "       [3225]])"
      ]
     },
     "execution_count": 93,
     "metadata": {},
     "output_type": "execute_result"
    }
   ],
   "source": [
    "vo21 = np.arange(3221,3226).reshape((5,1))\n",
    "vo21"
   ]
  },
  {
   "cell_type": "code",
   "execution_count": 94,
   "id": "a9b0d615-0417-49df-b69f-d6956de8d680",
   "metadata": {},
   "outputs": [
    {
     "data": {
      "text/plain": [
       "array([[ 3221],\n",
       "       [ 6444],\n",
       "       [ 9669],\n",
       "       [12896],\n",
       "       [16125]])"
      ]
     },
     "execution_count": 94,
     "metadata": {},
     "output_type": "execute_result"
    }
   ],
   "source": [
    "vo22 = vo21 * vo20\n",
    "vo22"
   ]
  },
  {
   "cell_type": "code",
   "execution_count": 95,
   "id": "f3dcada6-b481-415d-9cd4-34876d60234b",
   "metadata": {},
   "outputs": [
    {
     "data": {
      "text/plain": [
       "array([[ 1],\n",
       "       [ 2],\n",
       "       [ 3],\n",
       "       [ 4],\n",
       "       [ 5],\n",
       "       [ 6],\n",
       "       [ 7],\n",
       "       [ 8],\n",
       "       [ 9],\n",
       "       [10]])"
      ]
     },
     "execution_count": 95,
     "metadata": {},
     "output_type": "execute_result"
    }
   ],
   "source": [
    "vo23 = np.arange(1,11).reshape((10,1))\n",
    "vo23"
   ]
  },
  {
   "cell_type": "code",
   "execution_count": 96,
   "id": "86489102-8c80-4ab8-b1c3-066753ff5cb8",
   "metadata": {},
   "outputs": [
    {
     "name": "stdout",
     "output_type": "stream",
     "text": [
      "Error: operands could not be broadcast together with shapes (5,1) (10,1) \n"
     ]
    }
   ],
   "source": [
    "try:\n",
    "    vo22 * vo23\n",
    "except Exception as e:\n",
    "    print('Error:', e)"
   ]
  },
  {
   "cell_type": "markdown",
   "id": "3850249a-56a5-4e42-b835-c1049a363859",
   "metadata": {
    "jp-MarkdownHeadingCollapsed": true
   },
   "source": [
    "### Matrix and Matrix Multiplication (Broadcast)"
   ]
  },
  {
   "cell_type": "markdown",
   "id": "46f573ce-4a04-437c-bfa9-59adc0bfd66c",
   "metadata": {},
   "source": [
    "**In matrix and matrix multiplication, only the matrix of the same dimension can perform matrix multiplication.**\n",
    "$$\\begin{bmatrix}a &b \\\\c &d \\\\e &f\\end{bmatrix} * \\begin{bmatrix}u &v \\\\w &x \\\\y &z\\end{bmatrix} = \\begin{bmatrix}a*u &b*v \\\\c*w &d*x\\\\e*y &f*z\\end{bmatrix}$$ \n",
    "\n",
    "**Important:**\n",
    "\n",
    "**Commutative** $$A * B = B * A$$\n",
    "**Associative** $$(A*B)*C = A*(B*C)$$"
   ]
  },
  {
   "cell_type": "code",
   "execution_count": 97,
   "id": "4d71da17-552c-470d-8615-2a2cbf55b6d7",
   "metadata": {},
   "outputs": [
    {
     "data": {
      "text/plain": [
       "array([[1, 2],\n",
       "       [3, 4],\n",
       "       [5, 6]])"
      ]
     },
     "execution_count": 97,
     "metadata": {},
     "output_type": "execute_result"
    }
   ],
   "source": [
    "mo20 = np.arange(1,7).reshape((3,2))\n",
    "mo20"
   ]
  },
  {
   "cell_type": "code",
   "execution_count": 98,
   "id": "7676274c-3c38-49c5-abd8-55fe0f3cfec6",
   "metadata": {},
   "outputs": [
    {
     "data": {
      "text/plain": [
       "array([[1001, 1002],\n",
       "       [1003, 1004],\n",
       "       [1005, 1006]])"
      ]
     },
     "execution_count": 98,
     "metadata": {},
     "output_type": "execute_result"
    }
   ],
   "source": [
    "mo21 = np.arange(1001,1007).reshape((3,2))\n",
    "mo21"
   ]
  },
  {
   "cell_type": "code",
   "execution_count": 99,
   "id": "754b692e-a0fb-4308-92dd-c824dc7dd561",
   "metadata": {},
   "outputs": [
    {
     "data": {
      "text/plain": [
       "array([[1001, 2004],\n",
       "       [3009, 4016],\n",
       "       [5025, 6036]])"
      ]
     },
     "execution_count": 99,
     "metadata": {},
     "output_type": "execute_result"
    }
   ],
   "source": [
    "mo22 = mo20 * mo21\n",
    "mo22"
   ]
  },
  {
   "cell_type": "code",
   "execution_count": 100,
   "id": "2ca5e2d4-fa51-42ea-bc63-5c454570089f",
   "metadata": {},
   "outputs": [
    {
     "data": {
      "text/plain": [
       "array([[ 1,  2,  3,  4,  5],\n",
       "       [ 6,  7,  8,  9, 10],\n",
       "       [11, 12, 13, 14, 15],\n",
       "       [16, 17, 18, 19, 20],\n",
       "       [21, 22, 23, 24, 25],\n",
       "       [26, 27, 28, 29, 30],\n",
       "       [31, 32, 33, 34, 35],\n",
       "       [36, 37, 38, 39, 40],\n",
       "       [41, 42, 43, 44, 45],\n",
       "       [46, 47, 48, 49, 50]])"
      ]
     },
     "execution_count": 100,
     "metadata": {},
     "output_type": "execute_result"
    }
   ],
   "source": [
    "mo23 = np.arange(1,51).reshape((10,5))\n",
    "mo23"
   ]
  },
  {
   "cell_type": "code",
   "execution_count": 101,
   "id": "9465a027-423d-447c-b32d-d66121ab3f28",
   "metadata": {},
   "outputs": [
    {
     "data": {
      "text/plain": [
       "array([[1001, 1002, 1003, 1004, 1005],\n",
       "       [1006, 1007, 1008, 1009, 1010],\n",
       "       [1011, 1012, 1013, 1014, 1015],\n",
       "       [1016, 1017, 1018, 1019, 1020],\n",
       "       [1021, 1022, 1023, 1024, 1025],\n",
       "       [1026, 1027, 1028, 1029, 1030],\n",
       "       [1031, 1032, 1033, 1034, 1035],\n",
       "       [1036, 1037, 1038, 1039, 1040],\n",
       "       [1041, 1042, 1043, 1044, 1045],\n",
       "       [1046, 1047, 1048, 1049, 1050]])"
      ]
     },
     "execution_count": 101,
     "metadata": {},
     "output_type": "execute_result"
    }
   ],
   "source": [
    "mo24 = np.arange(1001,1051).reshape((10,5))\n",
    "mo24"
   ]
  },
  {
   "cell_type": "code",
   "execution_count": 102,
   "id": "1730b1f3-dfe2-4f01-98d4-972f26acc4a1",
   "metadata": {},
   "outputs": [
    {
     "data": {
      "text/plain": [
       "array([[1001.        ,  501.        ,  334.33333333,  251.        ,\n",
       "         201.        ],\n",
       "       [ 167.66666667,  143.85714286,  126.        ,  112.11111111,\n",
       "         101.        ],\n",
       "       [  91.90909091,   84.33333333,   77.92307692,   72.42857143,\n",
       "          67.66666667],\n",
       "       [  63.5       ,   59.82352941,   56.55555556,   53.63157895,\n",
       "          51.        ],\n",
       "       [  48.61904762,   46.45454545,   44.47826087,   42.66666667,\n",
       "          41.        ],\n",
       "       [  39.46153846,   38.03703704,   36.71428571,   35.48275862,\n",
       "          34.33333333],\n",
       "       [  33.25806452,   32.25      ,   31.3030303 ,   30.41176471,\n",
       "          29.57142857],\n",
       "       [  28.77777778,   28.02702703,   27.31578947,   26.64102564,\n",
       "          26.        ],\n",
       "       [  25.3902439 ,   24.80952381,   24.25581395,   23.72727273,\n",
       "          23.22222222],\n",
       "       [  22.73913043,   22.27659574,   21.83333333,   21.40816327,\n",
       "          21.        ]])"
      ]
     },
     "execution_count": 102,
     "metadata": {},
     "output_type": "execute_result"
    }
   ],
   "source": [
    "mo25 = mo24 / mo23\n",
    "mo25"
   ]
  },
  {
   "cell_type": "code",
   "execution_count": 103,
   "id": "cb251f04-acfb-4d0e-ab1e-1eea6848748e",
   "metadata": {},
   "outputs": [
    {
     "data": {
      "text/plain": [
       "array([[1001, 1002, 1003, 1004, 1005, 1006, 1007, 1008, 1009, 1010],\n",
       "       [1011, 1012, 1013, 1014, 1015, 1016, 1017, 1018, 1019, 1020],\n",
       "       [1021, 1022, 1023, 1024, 1025, 1026, 1027, 1028, 1029, 1030],\n",
       "       [1031, 1032, 1033, 1034, 1035, 1036, 1037, 1038, 1039, 1040],\n",
       "       [1041, 1042, 1043, 1044, 1045, 1046, 1047, 1048, 1049, 1050]])"
      ]
     },
     "execution_count": 103,
     "metadata": {},
     "output_type": "execute_result"
    }
   ],
   "source": [
    "mo26 = np.arange(1001,1051).reshape((5,10))\n",
    "mo26"
   ]
  },
  {
   "cell_type": "code",
   "execution_count": 104,
   "id": "60894e5c-ba29-464b-93a8-8ae6ceec026c",
   "metadata": {},
   "outputs": [
    {
     "data": {
      "text/plain": [
       "array([[1001, 1002, 1003, 1004, 1005],\n",
       "       [1006, 1007, 1008, 1009, 1010],\n",
       "       [1011, 1012, 1013, 1014, 1015],\n",
       "       [1016, 1017, 1018, 1019, 1020],\n",
       "       [1021, 1022, 1023, 1024, 1025],\n",
       "       [1026, 1027, 1028, 1029, 1030],\n",
       "       [1031, 1032, 1033, 1034, 1035],\n",
       "       [1036, 1037, 1038, 1039, 1040],\n",
       "       [1041, 1042, 1043, 1044, 1045],\n",
       "       [1046, 1047, 1048, 1049, 1050]])"
      ]
     },
     "execution_count": 104,
     "metadata": {},
     "output_type": "execute_result"
    }
   ],
   "source": [
    "mo24"
   ]
  },
  {
   "cell_type": "code",
   "execution_count": 105,
   "id": "a14b4ea9-decd-4a89-8a98-71dfa20b241e",
   "metadata": {},
   "outputs": [
    {
     "name": "stdout",
     "output_type": "stream",
     "text": [
      "Error: operands could not be broadcast together with shapes (10,5) (5,10) \n"
     ]
    }
   ],
   "source": [
    "try:\n",
    "    mo24 * mo26\n",
    "except Exception as e:\n",
    "    print('Error:', e)"
   ]
  },
  {
   "cell_type": "code",
   "execution_count": 106,
   "id": "48ea007f-a375-449c-b898-1f9ce03cde9c",
   "metadata": {},
   "outputs": [
    {
     "data": {
      "text/plain": [
       "array([[11, 12, 13],\n",
       "       [14, 15, 16],\n",
       "       [17, 18, 19],\n",
       "       [20, 21, 22]])"
      ]
     },
     "execution_count": 106,
     "metadata": {},
     "output_type": "execute_result"
    }
   ],
   "source": [
    "mo27 =  np.arange(11,23).reshape((4,3))\n",
    "mo27"
   ]
  },
  {
   "cell_type": "code",
   "execution_count": 107,
   "id": "dcd2ed59-1c22-4026-826c-40194ce0860d",
   "metadata": {},
   "outputs": [
    {
     "data": {
      "text/plain": [
       "array([[0.74822919, 0.61049448, 0.27109772],\n",
       "       [0.9557636 , 0.71159844, 0.59763958],\n",
       "       [0.76812033, 0.97948658, 0.15510894],\n",
       "       [0.77264892, 0.76706713, 0.94627878]])"
      ]
     },
     "execution_count": 107,
     "metadata": {},
     "output_type": "execute_result"
    }
   ],
   "source": [
    "mo28 =  np.random.rand(4,3)\n",
    "mo28"
   ]
  },
  {
   "cell_type": "code",
   "execution_count": 108,
   "id": "0a12ea39-3bfb-4b2a-9fd6-78ac12190ef1",
   "metadata": {},
   "outputs": [
    {
     "data": {
      "text/plain": [
       "array([[ 8.23052105,  7.3259338 ,  3.52427038],\n",
       "       [13.38069037, 10.67397666,  9.5622333 ],\n",
       "       [13.05804558, 17.63075845,  2.9470698 ],\n",
       "       [15.4529783 , 16.10840983, 20.81813314]])"
      ]
     },
     "execution_count": 108,
     "metadata": {},
     "output_type": "execute_result"
    }
   ],
   "source": [
    "mo27 * mo28"
   ]
  },
  {
   "cell_type": "code",
   "execution_count": 109,
   "id": "fd187dde-b468-4579-9665-e2e5557ff314",
   "metadata": {},
   "outputs": [
    {
     "data": {
      "text/plain": [
       "array([[ 8.23052105,  7.3259338 ,  3.52427038],\n",
       "       [13.38069037, 10.67397666,  9.5622333 ],\n",
       "       [13.05804558, 17.63075845,  2.9470698 ],\n",
       "       [15.4529783 , 16.10840983, 20.81813314]])"
      ]
     },
     "execution_count": 109,
     "metadata": {},
     "output_type": "execute_result"
    }
   ],
   "source": [
    "mo28 * mo27"
   ]
  },
  {
   "cell_type": "markdown",
   "id": "55252010-1cc5-4e03-8e2f-c71bb2b8147c",
   "metadata": {},
   "source": [
    "**The above proves that** $A * B = B * A$"
   ]
  },
  {
   "cell_type": "code",
   "execution_count": 110,
   "id": "f5927f2e-d94a-4856-be40-eeef417f2d2e",
   "metadata": {},
   "outputs": [
    {
     "data": {
      "text/plain": [
       "array([[67, 68, 69],\n",
       "       [70, 71, 72],\n",
       "       [73, 74, 75],\n",
       "       [76, 77, 78]])"
      ]
     },
     "execution_count": 110,
     "metadata": {},
     "output_type": "execute_result"
    }
   ],
   "source": [
    "mo29 = np.arange(67, 67+12).reshape((4,3))\n",
    "mo29"
   ]
  },
  {
   "cell_type": "code",
   "execution_count": 111,
   "id": "2a5ab69d-fed7-4dd9-a5eb-19da06351a01",
   "metadata": {},
   "outputs": [
    {
     "data": {
      "text/plain": [
       "array([[ 551.44491048,  498.16349819,  243.17465593],\n",
       "       [ 936.64832607,  757.85234321,  688.48079755],\n",
       "       [ 953.23732724, 1304.6761255 ,  221.03023495],\n",
       "       [1174.42635084, 1240.34755663, 1623.81438505]])"
      ]
     },
     "execution_count": 111,
     "metadata": {},
     "output_type": "execute_result"
    }
   ],
   "source": [
    "mo27 * mo28 * mo29"
   ]
  },
  {
   "cell_type": "code",
   "execution_count": 112,
   "id": "aead00b9-6a91-44c6-8ec0-9643037ca987",
   "metadata": {},
   "outputs": [
    {
     "data": {
      "text/plain": [
       "array([[ 551.44491048,  498.16349819,  243.17465593],\n",
       "       [ 936.64832607,  757.85234321,  688.48079755],\n",
       "       [ 953.23732724, 1304.6761255 ,  221.03023495],\n",
       "       [1174.42635084, 1240.34755663, 1623.81438505]])"
      ]
     },
     "execution_count": 112,
     "metadata": {},
     "output_type": "execute_result"
    }
   ],
   "source": [
    "tmp1 = mo27 * mo28\n",
    "tmp1 * mo29"
   ]
  },
  {
   "cell_type": "code",
   "execution_count": 113,
   "id": "83642139-5432-4c15-b405-b80d26fe655e",
   "metadata": {},
   "outputs": [
    {
     "data": {
      "text/plain": [
       "array([[ 551.44491048,  498.16349819,  243.17465593],\n",
       "       [ 936.64832607,  757.85234321,  688.48079755],\n",
       "       [ 953.23732724, 1304.6761255 ,  221.03023495],\n",
       "       [1174.42635084, 1240.34755663, 1623.81438505]])"
      ]
     },
     "execution_count": 113,
     "metadata": {},
     "output_type": "execute_result"
    }
   ],
   "source": [
    "tmp2 = mo28 * mo29\n",
    "mo27 * tmp2"
   ]
  },
  {
   "cell_type": "markdown",
   "id": "efea567e-a872-4420-92bf-26f752eb4c8b",
   "metadata": {},
   "source": [
    "**The above proves that** $(A*B)*C = A*(B*C)$"
   ]
  },
  {
   "cell_type": "markdown",
   "id": "7394df01-0016-4916-8f02-8847ed6dc9ef",
   "metadata": {
    "jp-MarkdownHeadingCollapsed": true
   },
   "source": [
    "### Matrix and Vector Multiplication (Broadcast)"
   ]
  },
  {
   "cell_type": "markdown",
   "id": "abbcdbb0-a40d-46a0-b754-e9f79bb6de48",
   "metadata": {},
   "source": [
    "**In matrix and vector multiplication works only if the dimension can be broadcast. For row vector, the number of columns must match the column of the matrix. For column vector, the number of rows must match the row of matrix.**\n",
    "\n",
    "**Matrix with Column Vector**\n",
    "$$\\begin{bmatrix}a &b &c \\\\d &e &f \\\\g &h &i\\end{bmatrix} * \\begin{bmatrix}x \\\\y \\\\z\\end{bmatrix} = \\begin{bmatrix}a*x &b*x & c*x \\\\d*y &e*y & f*y\\\\g*z &h*z &i*z\\end{bmatrix}$$ \n",
    "\n",
    "**Matrix with Row Vector**\n",
    "$$\\begin{bmatrix}a &b &c \\\\d &e &f \\\\g &h &i\\end{bmatrix} * \\begin{bmatrix}x &y &z\\end{bmatrix} = \\begin{bmatrix}a*x &b*y & c*z \\\\d*x &e*y & f*z\\\\g*x &h*y &i*z\\end{bmatrix}$$"
   ]
  },
  {
   "cell_type": "code",
   "execution_count": 114,
   "id": "49b26f2e-a56e-4e88-b853-93cf7c340f33",
   "metadata": {},
   "outputs": [
    {
     "data": {
      "text/plain": [
       "array([[ 1,  2,  3,  4],\n",
       "       [ 5,  6,  7,  8],\n",
       "       [ 9, 10, 11, 12]])"
      ]
     },
     "execution_count": 114,
     "metadata": {},
     "output_type": "execute_result"
    }
   ],
   "source": [
    "mv1 = np.arange(1,13).reshape((3,4))\n",
    "mv1"
   ]
  },
  {
   "cell_type": "code",
   "execution_count": 115,
   "id": "7dfe77ae-3312-46c2-925a-b4b8e8cf26af",
   "metadata": {},
   "outputs": [
    {
     "data": {
      "text/plain": [
       "array([[10],\n",
       "       [20],\n",
       "       [30]])"
      ]
     },
     "execution_count": 115,
     "metadata": {},
     "output_type": "execute_result"
    }
   ],
   "source": [
    "mv2 = np.array([10,20,30]).reshape((3,1))\n",
    "mv2"
   ]
  },
  {
   "cell_type": "code",
   "execution_count": 116,
   "id": "c68d6f39-f16d-4dc8-be30-a8d3b9005054",
   "metadata": {},
   "outputs": [
    {
     "data": {
      "text/plain": [
       "array([[ 10,  20,  30,  40],\n",
       "       [100, 120, 140, 160],\n",
       "       [270, 300, 330, 360]])"
      ]
     },
     "execution_count": 116,
     "metadata": {},
     "output_type": "execute_result"
    }
   ],
   "source": [
    "mv3 = mv1 * mv2\n",
    "mv3"
   ]
  },
  {
   "cell_type": "code",
   "execution_count": 117,
   "id": "bd92361f-3bd9-4932-83f9-fa9323deb647",
   "metadata": {},
   "outputs": [
    {
     "data": {
      "text/plain": [
       "array([[10],\n",
       "       [20],\n",
       "       [30],\n",
       "       [40]])"
      ]
     },
     "execution_count": 117,
     "metadata": {},
     "output_type": "execute_result"
    }
   ],
   "source": [
    "mv4 = np.array([10,20,30,40]).reshape((4,1))\n",
    "mv4"
   ]
  },
  {
   "cell_type": "code",
   "execution_count": 118,
   "id": "47185bdc-4185-4fa7-8dbb-c7525d4cafc8",
   "metadata": {},
   "outputs": [
    {
     "name": "stdout",
     "output_type": "stream",
     "text": [
      "Error: operands could not be broadcast together with shapes (3,4) (4,1) \n"
     ]
    }
   ],
   "source": [
    "try:\n",
    "    mv1 * mv4\n",
    "except Exception as e:\n",
    "    print('Error:', e)"
   ]
  },
  {
   "cell_type": "code",
   "execution_count": 119,
   "id": "fe3d54a2-d67f-49ab-9c2b-86c18cf79517",
   "metadata": {},
   "outputs": [
    {
     "data": {
      "text/plain": [
       "array([[1001, 1002, 1003, 1004, 1005],\n",
       "       [1006, 1007, 1008, 1009, 1010],\n",
       "       [1011, 1012, 1013, 1014, 1015],\n",
       "       [1016, 1017, 1018, 1019, 1020],\n",
       "       [1021, 1022, 1023, 1024, 1025],\n",
       "       [1026, 1027, 1028, 1029, 1030],\n",
       "       [1031, 1032, 1033, 1034, 1035],\n",
       "       [1036, 1037, 1038, 1039, 1040],\n",
       "       [1041, 1042, 1043, 1044, 1045],\n",
       "       [1046, 1047, 1048, 1049, 1050],\n",
       "       [1051, 1052, 1053, 1054, 1055],\n",
       "       [1056, 1057, 1058, 1059, 1060],\n",
       "       [1061, 1062, 1063, 1064, 1065],\n",
       "       [1066, 1067, 1068, 1069, 1070],\n",
       "       [1071, 1072, 1073, 1074, 1075],\n",
       "       [1076, 1077, 1078, 1079, 1080],\n",
       "       [1081, 1082, 1083, 1084, 1085],\n",
       "       [1086, 1087, 1088, 1089, 1090],\n",
       "       [1091, 1092, 1093, 1094, 1095],\n",
       "       [1096, 1097, 1098, 1099, 1100]])"
      ]
     },
     "execution_count": 119,
     "metadata": {},
     "output_type": "execute_result"
    }
   ],
   "source": [
    "mv5 = np.arange(1001,1101).reshape((20,5))\n",
    "mv5"
   ]
  },
  {
   "cell_type": "code",
   "execution_count": 120,
   "id": "a3209b12-0d58-48f0-9d70-bab11da1651b",
   "metadata": {},
   "outputs": [
    {
     "data": {
      "text/plain": [
       "array([[ 10,  10,   1, 100, 100]])"
      ]
     },
     "execution_count": 120,
     "metadata": {},
     "output_type": "execute_result"
    }
   ],
   "source": [
    "mv6 = np.array([10,10,1,100,100]).reshape((1,5))\n",
    "mv6"
   ]
  },
  {
   "cell_type": "code",
   "execution_count": 121,
   "id": "e863a703-e018-440c-b162-04f1d89e5c65",
   "metadata": {},
   "outputs": [
    {
     "data": {
      "text/plain": [
       "array([[ 100.1 ,  100.2 , 1003.  ,   10.04,   10.05],\n",
       "       [ 100.6 ,  100.7 , 1008.  ,   10.09,   10.1 ],\n",
       "       [ 101.1 ,  101.2 , 1013.  ,   10.14,   10.15],\n",
       "       [ 101.6 ,  101.7 , 1018.  ,   10.19,   10.2 ],\n",
       "       [ 102.1 ,  102.2 , 1023.  ,   10.24,   10.25],\n",
       "       [ 102.6 ,  102.7 , 1028.  ,   10.29,   10.3 ],\n",
       "       [ 103.1 ,  103.2 , 1033.  ,   10.34,   10.35],\n",
       "       [ 103.6 ,  103.7 , 1038.  ,   10.39,   10.4 ],\n",
       "       [ 104.1 ,  104.2 , 1043.  ,   10.44,   10.45],\n",
       "       [ 104.6 ,  104.7 , 1048.  ,   10.49,   10.5 ],\n",
       "       [ 105.1 ,  105.2 , 1053.  ,   10.54,   10.55],\n",
       "       [ 105.6 ,  105.7 , 1058.  ,   10.59,   10.6 ],\n",
       "       [ 106.1 ,  106.2 , 1063.  ,   10.64,   10.65],\n",
       "       [ 106.6 ,  106.7 , 1068.  ,   10.69,   10.7 ],\n",
       "       [ 107.1 ,  107.2 , 1073.  ,   10.74,   10.75],\n",
       "       [ 107.6 ,  107.7 , 1078.  ,   10.79,   10.8 ],\n",
       "       [ 108.1 ,  108.2 , 1083.  ,   10.84,   10.85],\n",
       "       [ 108.6 ,  108.7 , 1088.  ,   10.89,   10.9 ],\n",
       "       [ 109.1 ,  109.2 , 1093.  ,   10.94,   10.95],\n",
       "       [ 109.6 ,  109.7 , 1098.  ,   10.99,   11.  ]])"
      ]
     },
     "execution_count": 121,
     "metadata": {},
     "output_type": "execute_result"
    }
   ],
   "source": [
    "mv7 = mv5 / mv6\n",
    "mv7"
   ]
  },
  {
   "cell_type": "markdown",
   "id": "3157fe53-abee-4efb-9b70-0b692ca370bb",
   "metadata": {
    "jp-MarkdownHeadingCollapsed": true
   },
   "source": [
    "## Matrix and Vector Multiplication (Dot Product)"
   ]
  },
  {
   "cell_type": "markdown",
   "id": "a9706b7e-fc07-457b-adb6-af1b47945ce2",
   "metadata": {},
   "source": [
    "<div class=\"alert alert-block alert-info\">\n",
    "    \n",
    "**In dot product multiplication, 2 vectors or matrix can be multiply together under one condition. The condition is that the columns of the multiplier **must match** the number of rows of multiplicand. A **m by n** matrix/vector multiplied with **n by p** matrix/vector will result in a **m by p** matrix/vector.**\n",
    "</div>"
   ]
  },
  {
   "cell_type": "markdown",
   "id": "ee7c3aa5-d865-4ae2-93b0-6363181b47d5",
   "metadata": {
    "jp-MarkdownHeadingCollapsed": true
   },
   "source": [
    "### Vector and Vector Multiplication (Dot Product)"
   ]
  },
  {
   "cell_type": "markdown",
   "id": "56951a1f-74f6-4c78-89c3-0ec944a931f0",
   "metadata": {},
   "source": [
    "$$\\begin{bmatrix}a &b &c \\end{bmatrix} * \\begin{bmatrix}x \\\\y \\\\z \\end{bmatrix} = \\begin{bmatrix}(a*x)+(b*y)+(c*z)\\end{bmatrix}$$ \n",
    "\n",
    "Two vectors with different size can be multiplied together under one condition. The condition is that the columns of the multiplier **must match** the number of rows of multiplicand. A **1 x n** vector multiplied with **n x 1** vector will result in a **1 x 1** number.\n",
    "\n",
    "**Please note that vector to vector multiplication can only work if one is a row vector and the other is column vector.**\n",
    "\n",
    "**However, in implementation of Python, we can perform 1D array multiply by 1D array. This is the way Python handles array. However, we recommended all users to convert all arrays to a row or column vector.**"
   ]
  },
  {
   "cell_type": "markdown",
   "id": "d511ea5e-3f74-4648-bed2-60092caf824a",
   "metadata": {},
   "source": [
    "<font color='red'>\n",
    "    \n",
    "**There are 2 different ways to perform dot product computation:**\n",
    "\n",
    "- We can use **np.dot()**\n",
    "- or we can use **np.matmul()**\n",
    "- np.matmul can also be represented by symbol **@**\n",
    "\n",
    "<font color='blue'>\n",
    "\n",
    "**Notes**\n",
    "\n",
    "- For 2D array no difference in using np.dot() or np.matmul. However, **np.matmul is preferred for 2D array**.\n",
    "- np.dot can perform on 1D array and scalar but np.matmul cannot do so.\n",
    "- **To make things simple, always use 2D array for all operations.**"
   ]
  },
  {
   "cell_type": "code",
   "execution_count": 122,
   "id": "01b5d816-ea84-4261-8041-78a7fe74005a",
   "metadata": {},
   "outputs": [
    {
     "data": {
      "text/plain": [
       "array([[ 1],\n",
       "       [ 2],\n",
       "       [ 3],\n",
       "       [ 4],\n",
       "       [ 5],\n",
       "       [ 6],\n",
       "       [ 7],\n",
       "       [ 8],\n",
       "       [ 9],\n",
       "       [10]])"
      ]
     },
     "execution_count": 122,
     "metadata": {},
     "output_type": "execute_result"
    }
   ],
   "source": [
    "vd1 = np.arange(1,11).reshape((10,1))\n",
    "vd1"
   ]
  },
  {
   "cell_type": "code",
   "execution_count": 123,
   "id": "e1a5386f-8c32-4495-b344-4a446a5a86c8",
   "metadata": {},
   "outputs": [
    {
     "data": {
      "text/plain": [
       "array([[1001],\n",
       "       [1002],\n",
       "       [1003],\n",
       "       [1004],\n",
       "       [1005],\n",
       "       [1006],\n",
       "       [1007],\n",
       "       [1008],\n",
       "       [1009],\n",
       "       [1010]])"
      ]
     },
     "execution_count": 123,
     "metadata": {},
     "output_type": "execute_result"
    }
   ],
   "source": [
    "vd2 = np.arange(1001,1011).reshape((10,1))\n",
    "vd2"
   ]
  },
  {
   "cell_type": "code",
   "execution_count": 124,
   "id": "070609bc-d9ca-4022-b95c-015cca3eedd7",
   "metadata": {},
   "outputs": [
    {
     "name": "stdout",
     "output_type": "stream",
     "text": [
      "Error: shapes (10,1) and (10,1) not aligned: 1 (dim 1) != 10 (dim 0)\n"
     ]
    }
   ],
   "source": [
    "try:\n",
    "    vd3 = np.dot(vd1,vd2)\n",
    "except Exception as e:\n",
    "    print('Error:', e)"
   ]
  },
  {
   "cell_type": "code",
   "execution_count": 125,
   "id": "be6e5806-a761-4242-9a82-aada64931241",
   "metadata": {},
   "outputs": [
    {
     "data": {
      "text/plain": [
       "array([[1001, 1002, 1003, 1004, 1005, 1006, 1007, 1008, 1009, 1010]])"
      ]
     },
     "execution_count": 125,
     "metadata": {},
     "output_type": "execute_result"
    }
   ],
   "source": [
    "vd2 = np.transpose(vd2)\n",
    "vd2"
   ]
  },
  {
   "cell_type": "code",
   "execution_count": 126,
   "id": "2bfd03b1-932f-4b93-93e9-ea76011dcde7",
   "metadata": {},
   "outputs": [
    {
     "data": {
      "text/plain": [
       "array([[ 1001,  1002,  1003,  1004,  1005,  1006,  1007,  1008,  1009,\n",
       "         1010],\n",
       "       [ 2002,  2004,  2006,  2008,  2010,  2012,  2014,  2016,  2018,\n",
       "         2020],\n",
       "       [ 3003,  3006,  3009,  3012,  3015,  3018,  3021,  3024,  3027,\n",
       "         3030],\n",
       "       [ 4004,  4008,  4012,  4016,  4020,  4024,  4028,  4032,  4036,\n",
       "         4040],\n",
       "       [ 5005,  5010,  5015,  5020,  5025,  5030,  5035,  5040,  5045,\n",
       "         5050],\n",
       "       [ 6006,  6012,  6018,  6024,  6030,  6036,  6042,  6048,  6054,\n",
       "         6060],\n",
       "       [ 7007,  7014,  7021,  7028,  7035,  7042,  7049,  7056,  7063,\n",
       "         7070],\n",
       "       [ 8008,  8016,  8024,  8032,  8040,  8048,  8056,  8064,  8072,\n",
       "         8080],\n",
       "       [ 9009,  9018,  9027,  9036,  9045,  9054,  9063,  9072,  9081,\n",
       "         9090],\n",
       "       [10010, 10020, 10030, 10040, 10050, 10060, 10070, 10080, 10090,\n",
       "        10100]])"
      ]
     },
     "execution_count": 126,
     "metadata": {},
     "output_type": "execute_result"
    }
   ],
   "source": [
    "vd3 = np.dot(vd1,vd2)\n",
    "vd3"
   ]
  },
  {
   "cell_type": "markdown",
   "id": "349a1259-ae76-47ed-97e1-25314fa8d7b2",
   "metadata": {},
   "source": [
    "<div class=\"alert alert-block alert-warning\">\n",
    "    \n",
    "**The above result is not what we want. We want a single number. Tracking back, we need to check the shape of the vector.**\n",
    "</div>"
   ]
  },
  {
   "cell_type": "code",
   "execution_count": 127,
   "id": "201e2bc4-a3d8-4f5d-a415-06841aa182dd",
   "metadata": {},
   "outputs": [
    {
     "data": {
      "text/plain": [
       "(1, 10)"
      ]
     },
     "execution_count": 127,
     "metadata": {},
     "output_type": "execute_result"
    }
   ],
   "source": [
    "vd2.shape"
   ]
  },
  {
   "cell_type": "code",
   "execution_count": 128,
   "id": "94e90ea1-f4e2-46b3-9098-b0bd1b45b5c1",
   "metadata": {},
   "outputs": [
    {
     "data": {
      "text/plain": [
       "(10, 1)"
      ]
     },
     "execution_count": 128,
     "metadata": {},
     "output_type": "execute_result"
    }
   ],
   "source": [
    "vd1.shape"
   ]
  },
  {
   "cell_type": "markdown",
   "id": "81cac67e-fdec-4202-acc7-808114105df3",
   "metadata": {},
   "source": [
    "<div class=\"alert alert-block alert-warning\">\n",
    "    \n",
    "**The shape show us that we are doing the dot product of 10 by 1 vector with 1 by 10 vector, resulting in 10 by 10 matrix. We should reverse the operation. We should do a np.dot(vd2,vd1) instead of  np.dot(vd1, vd2).**\n",
    "\n",
    "**The order of the vector or matrix is important in dot product multiplication.**\n",
    "</div>"
   ]
  },
  {
   "cell_type": "code",
   "execution_count": 129,
   "id": "23dc4ab2-b845-46b6-89dd-e5e1a5834f43",
   "metadata": {},
   "outputs": [
    {
     "data": {
      "text/plain": [
       "array([[55385]])"
      ]
     },
     "execution_count": 129,
     "metadata": {},
     "output_type": "execute_result"
    }
   ],
   "source": [
    "vd3 = np.dot(vd2,vd1)\n",
    "vd3"
   ]
  },
  {
   "cell_type": "code",
   "execution_count": 130,
   "id": "c93fbd54-832d-48f1-820c-0b903cea5924",
   "metadata": {},
   "outputs": [
    {
     "data": {
      "text/plain": [
       "array([[55385]])"
      ]
     },
     "execution_count": 130,
     "metadata": {},
     "output_type": "execute_result"
    }
   ],
   "source": [
    "vd2@vd1"
   ]
  },
  {
   "cell_type": "code",
   "execution_count": 131,
   "id": "bf71d010-1702-4be8-8353-f63f064fc66a",
   "metadata": {},
   "outputs": [
    {
     "data": {
      "text/plain": [
       "array([[55385]])"
      ]
     },
     "execution_count": 131,
     "metadata": {},
     "output_type": "execute_result"
    }
   ],
   "source": [
    "np.matmul(vd2,vd1)"
   ]
  },
  {
   "cell_type": "markdown",
   "id": "b66149f2-31d1-4616-a401-9f32511403b3",
   "metadata": {
    "jp-MarkdownHeadingCollapsed": true
   },
   "source": [
    "### Matrix and Matrix Multiplication (Dot Product)"
   ]
  },
  {
   "cell_type": "markdown",
   "id": "f8f5194e-588e-4926-8d38-fe5b00d194b7",
   "metadata": {},
   "source": [
    "Two matrices with different size can be multiplied together under same condition that the columns of the multiplier **must match** the number of rows of multiplicand. A **m x n** matrix multiplied with **n x p** matrix will result in a **m x p** matrix.\n",
    "\n",
    "$$\\begin{bmatrix}a &b \\\\c &d \\\\e &f\\end{bmatrix} * \\begin{bmatrix}w &x \\\\y &z \\end{bmatrix} = \\begin{bmatrix}a*w+b*y &a*x+b*z \\\\c*w+d*y &c*x+d*z\\\\e*w+f*y &e*x+f*z\\end{bmatrix}$$ \n",
    "\n",
    "The example above is a **3 by 2 matrix** multiple by a **2 by 2 matrix**. The result is a **3 by 2 matrix**.\n",
    "\n",
    "The row of multiplier and the column of multiplicand need not be the same.\n",
    "\n",
    "$$\\begin{bmatrix}\n",
    "    1    &2   &3\\\\\n",
    "    4    &5   &6  \n",
    "\\end{bmatrix}$$\n",
    "\n",
    "$$\\cdot$$\n",
    "\n",
    "$$\\begin{bmatrix}\n",
    "    11    &4    &7\\\\\n",
    "    21    &1    &9\\\\ \n",
    "    31    &7    &4   \n",
    "\\end{bmatrix}$$  \n",
    "\n",
    "$$=$$\n",
    "\n",
    "$$\\begin{bmatrix}\n",
    "    146    &27    &37\\\\\n",
    "    335    &63    &97    \n",
    "\\end{bmatrix}$$ \n",
    "\n",
    "\n",
    "Based on example above **2 by 3** matrix and a **3 by 3** matrix, the resulting product is a **2 by 3** matrix\n",
    "\n",
    "Other examples are:\n",
    "\n",
    "- **3 by 3**  dot  **3 by 3**  => **3 by 3**\n",
    "- **3 by 4**  dot  **4 by 5**  => **3 by 5**\n",
    "- **17 by 2** dot  **2 by 20** => **17 by 20**\n",
    "\n",
    "\n",
    "**Dot product of 2 same dimension matrix will also not worked if the matrices does not satisfied the rules above.**\n",
    "\n",
    "**Important:**\n",
    "\n",
    "**Not Commutative** $$A * B \\neq B * A$$\n",
    "\n",
    "**Associative** $$(A*B)*C = A*(B*C)$$"
   ]
  },
  {
   "cell_type": "code",
   "execution_count": 132,
   "id": "ce23a248-3cf6-4d8d-a658-8518948fd12d",
   "metadata": {},
   "outputs": [
    {
     "data": {
      "text/plain": [
       "array([[0.55910652, 0.87515499, 0.02808619, 0.74302485, 0.90642227],\n",
       "       [0.87662575, 0.71982642, 0.11144095, 0.35934357, 0.32764732],\n",
       "       [0.83377051, 0.90832151, 0.11173654, 0.0075381 , 0.29560746],\n",
       "       [0.91747879, 0.83277466, 0.04869898, 0.95937644, 0.69969591]])"
      ]
     },
     "execution_count": 132,
     "metadata": {},
     "output_type": "execute_result"
    }
   ],
   "source": [
    "md1 = np.random.rand(4,5)\n",
    "md1"
   ]
  },
  {
   "cell_type": "code",
   "execution_count": 133,
   "id": "4c11e37e-5e72-4ac1-83e2-d9daadc3983a",
   "metadata": {},
   "outputs": [
    {
     "data": {
      "text/plain": [
       "array([[ 1,  2,  3],\n",
       "       [ 4,  5,  6],\n",
       "       [ 7,  8,  9],\n",
       "       [10, 11, 12],\n",
       "       [13, 14, 15]])"
      ]
     },
     "execution_count": 133,
     "metadata": {},
     "output_type": "execute_result"
    }
   ],
   "source": [
    "md2 = np.arange(1,16).reshape(5,3)\n",
    "md2"
   ]
  },
  {
   "cell_type": "code",
   "execution_count": 134,
   "id": "b60c0930-065f-43ab-805c-7200b0252392",
   "metadata": {},
   "outputs": [
    {
     "data": {
      "text/plain": [
       "array([[23.47006791, 26.58186274, 29.69365757],\n",
       "       [12.38886889, 14.7837529 , 17.17863691],\n",
       "       [ 9.16749028, 11.3244644 , 13.48143852],\n",
       "       [23.27928153, 26.73730631, 30.19533108]])"
      ]
     },
     "execution_count": 134,
     "metadata": {},
     "output_type": "execute_result"
    }
   ],
   "source": [
    "md3 = md1@md2\n",
    "md3"
   ]
  },
  {
   "cell_type": "code",
   "execution_count": 135,
   "id": "c6e191d6-18e6-430c-aab1-e6f4e9388c8a",
   "metadata": {},
   "outputs": [
    {
     "data": {
      "text/plain": [
       "(4, 3)"
      ]
     },
     "execution_count": 135,
     "metadata": {},
     "output_type": "execute_result"
    }
   ],
   "source": [
    "md3.shape"
   ]
  },
  {
   "cell_type": "markdown",
   "id": "ad6f1744-e752-4742-bf30-08c053e95d44",
   "metadata": {},
   "source": [
    "**It would not work if we reverse the order.**"
   ]
  },
  {
   "cell_type": "code",
   "execution_count": 136,
   "id": "aa43a02f-854b-406e-9158-0bd8b1db9657",
   "metadata": {},
   "outputs": [
    {
     "name": "stdout",
     "output_type": "stream",
     "text": [
      "Error: matmul: Input operand 1 has a mismatch in its core dimension 0, with gufunc signature (n?,k),(k,m?)->(n?,m?) (size 4 is different from 3)\n"
     ]
    }
   ],
   "source": [
    "try:\n",
    "    md2@md1\n",
    "except Exception as e:\n",
    "    print('Error:', e)"
   ]
  },
  {
   "cell_type": "markdown",
   "id": "527c32d2-7417-4579-a0a4-104c4b2b6dbf",
   "metadata": {},
   "source": [
    "**This proves that dot product is Not Commutative** $A * B \\neq B * A$\n"
   ]
  },
  {
   "cell_type": "code",
   "execution_count": 137,
   "id": "47e77673-a8d6-49b4-b72a-ce42ee986a26",
   "metadata": {},
   "outputs": [
    {
     "data": {
      "text/plain": [
       "array([[0.79240487, 0.67756013, 0.85395575, 0.17329821, 0.54443498,\n",
       "        0.56848111, 0.43425804],\n",
       "       [0.61959281, 0.02513875, 0.90040911, 0.95336196, 0.80660893,\n",
       "        0.93368643, 0.35684056],\n",
       "       [0.87374233, 0.29934569, 0.52781874, 0.09174014, 0.15170882,\n",
       "        0.2333759 , 0.74577565]])"
      ]
     },
     "execution_count": 137,
     "metadata": {},
     "output_type": "execute_result"
    }
   ],
   "source": [
    "md4 = np.random.rand(3,7)\n",
    "md4"
   ]
  },
  {
   "cell_type": "code",
   "execution_count": 138,
   "id": "b07e13e9-fb05-46aa-ba60-5b237c4db25c",
   "metadata": {},
   "outputs": [
    {
     "data": {
      "text/plain": [
       "array([[61.01233264, 25.4592854 , 59.64981978, 32.13355785, 38.72388341,\n",
       "        45.09119884, 41.82235928],\n",
       "       [33.98660926, 13.90819957, 32.95817814, 17.81720702, 21.27579135,\n",
       "        24.85530726, 23.46681771],\n",
       "       [26.06022414, 10.53181927, 25.14103786, 13.62181231, 16.17076957,\n",
       "        18.93128664, 18.07621316],\n",
       "       [61.39579768, 25.48409762, 59.89165215, 32.2947125 , 38.8215031 ,\n",
       "        45.24495444, 42.16911322]])"
      ]
     },
     "execution_count": 138,
     "metadata": {},
     "output_type": "execute_result"
    }
   ],
   "source": [
    "md5 = md1@md2@md4\n",
    "md5"
   ]
  },
  {
   "cell_type": "code",
   "execution_count": 139,
   "id": "8562c217-20c4-4d3e-a158-20c7d21e5999",
   "metadata": {},
   "outputs": [
    {
     "data": {
      "text/plain": [
       "(4, 7)"
      ]
     },
     "execution_count": 139,
     "metadata": {},
     "output_type": "execute_result"
    }
   ],
   "source": [
    "md5.shape"
   ]
  },
  {
   "cell_type": "code",
   "execution_count": 140,
   "id": "97da2b16-0ec1-4406-806b-b8afce405270",
   "metadata": {},
   "outputs": [
    {
     "data": {
      "text/plain": [
       "array([[61.01233264, 25.4592854 , 59.64981978, 32.13355785, 38.72388341,\n",
       "        45.09119884, 41.82235928],\n",
       "       [33.98660926, 13.90819957, 32.95817814, 17.81720702, 21.27579135,\n",
       "        24.85530726, 23.46681771],\n",
       "       [26.06022414, 10.53181927, 25.14103786, 13.62181231, 16.17076957,\n",
       "        18.93128664, 18.07621316],\n",
       "       [61.39579768, 25.48409762, 59.89165215, 32.2947125 , 38.8215031 ,\n",
       "        45.24495444, 42.16911322]])"
      ]
     },
     "execution_count": 140,
     "metadata": {},
     "output_type": "execute_result"
    }
   ],
   "source": [
    "tmp1 = md1@md2\n",
    "tmp1@md4"
   ]
  },
  {
   "cell_type": "code",
   "execution_count": 141,
   "id": "6b29319a-c3d0-4869-9490-f46b71ad24bf",
   "metadata": {},
   "outputs": [
    {
     "data": {
      "text/plain": [
       "array([[61.01233264, 25.4592854 , 59.64981978, 32.13355785, 38.72388341,\n",
       "        45.09119884, 41.82235928],\n",
       "       [33.98660926, 13.90819957, 32.95817814, 17.81720702, 21.27579135,\n",
       "        24.85530726, 23.46681771],\n",
       "       [26.06022414, 10.53181927, 25.14103786, 13.62181231, 16.17076957,\n",
       "        18.93128664, 18.07621316],\n",
       "       [61.39579768, 25.48409762, 59.89165215, 32.2947125 , 38.8215031 ,\n",
       "        45.24495444, 42.16911322]])"
      ]
     },
     "execution_count": 141,
     "metadata": {},
     "output_type": "execute_result"
    }
   ],
   "source": [
    "tmp2 = md2@md4\n",
    "md1@tmp2"
   ]
  },
  {
   "cell_type": "markdown",
   "id": "cb14b3b0-d323-4bb8-8fb9-d7a3cbf5a7cb",
   "metadata": {},
   "source": [
    "**This proves that dot product is Associative** $(A*B)*C = A*(B*C)$"
   ]
  },
  {
   "cell_type": "markdown",
   "id": "8eaa7000-1cab-4242-b55c-1fb93e658c42",
   "metadata": {
    "jp-MarkdownHeadingCollapsed": true
   },
   "source": [
    "### Matrix and Vector Multiplication (Dot Product)"
   ]
  },
  {
   "cell_type": "markdown",
   "id": "97230696-42bf-4303-bbfb-3cb2acc7725b",
   "metadata": {},
   "source": [
    "A matrix can be multiplied by a vector. The multiplier could be a matrix and the vector is the multiplicand. Please also mote that the columns of the matrix **must match** the number of rows of vector.\n",
    "\n",
    "$$\\begin{bmatrix}a &b \\\\c &d \\\\e &f\\end{bmatrix} * \\begin{bmatrix}x \\\\y \\end{bmatrix} = \\begin{bmatrix}a*x+b*y \\\\c*x+d*y \\\\e*x+f*y \\end{bmatrix}$$ \n",
    "\n",
    "The result is a vector.\n",
    "\n",
    "A **m x n** matrix multiplied by a **n x 1** vector results with a **m x 1** vector. In the example above a **3 by 2 matrix** multiply by **2 by 1 vector** will result in a **3 by 1 vector**.\n",
    "\n",
    "We can also do dot product with vector as multiplier but the rules applied."
   ]
  },
  {
   "cell_type": "code",
   "execution_count": 142,
   "id": "01a0ead6-f829-494c-8a3a-c74cddac8425",
   "metadata": {},
   "outputs": [
    {
     "data": {
      "text/plain": [
       "array([[23, 24],\n",
       "       [25, 26],\n",
       "       [27, 28]])"
      ]
     },
     "execution_count": 142,
     "metadata": {},
     "output_type": "execute_result"
    }
   ],
   "source": [
    "mvd1 = np.arange(23,23+6).reshape((3,2))\n",
    "mvd1"
   ]
  },
  {
   "cell_type": "code",
   "execution_count": 143,
   "id": "3612cea1-ed1f-4856-8a36-8bd5f9ebaa0b",
   "metadata": {},
   "outputs": [
    {
     "data": {
      "text/plain": [
       "array([[0.45697073],\n",
       "       [0.98781713]])"
      ]
     },
     "execution_count": 143,
     "metadata": {},
     "output_type": "execute_result"
    }
   ],
   "source": [
    "mvd2 = np.random.rand(2,1)\n",
    "mvd2"
   ]
  },
  {
   "cell_type": "code",
   "execution_count": 144,
   "id": "4bf43524-9d89-45cb-9f50-ec25812d267b",
   "metadata": {},
   "outputs": [
    {
     "data": {
      "text/plain": [
       "array([[34.21793773],\n",
       "       [37.10751343],\n",
       "       [39.99708914]])"
      ]
     },
     "execution_count": 144,
     "metadata": {},
     "output_type": "execute_result"
    }
   ],
   "source": [
    "mvd3 = mvd1@mvd2\n",
    "mvd3"
   ]
  },
  {
   "cell_type": "code",
   "execution_count": 145,
   "id": "4cefad20-5a0f-4c50-a447-4a1d44629c9e",
   "metadata": {},
   "outputs": [
    {
     "data": {
      "text/plain": [
       "array([[67, 68, 69, 70],\n",
       "       [71, 72, 73, 74],\n",
       "       [75, 76, 77, 78],\n",
       "       [79, 80, 81, 82],\n",
       "       [83, 84, 85, 86]])"
      ]
     },
     "execution_count": 145,
     "metadata": {},
     "output_type": "execute_result"
    }
   ],
   "source": [
    "mvd4 = np.arange(67,87).reshape((5,4))\n",
    "mvd4"
   ]
  },
  {
   "cell_type": "code",
   "execution_count": 146,
   "id": "bbced197-7ec3-496d-844b-b0a94d46d208",
   "metadata": {},
   "outputs": [
    {
     "data": {
      "text/plain": [
       "array([[0.12229559, 0.8915123 , 0.35945985, 0.42779507, 0.0852575 ]])"
      ]
     },
     "execution_count": 146,
     "metadata": {},
     "output_type": "execute_result"
    }
   ],
   "source": [
    "mvd5 = np.random.rand(1,5)\n",
    "mvd5"
   ]
  },
  {
   "cell_type": "code",
   "execution_count": 147,
   "id": "55c1fd99-9791-4889-ba68-4c6d9450727f",
   "metadata": {},
   "outputs": [
    {
     "data": {
      "text/plain": [
       "array([[139.32285013, 141.20917045, 143.09549077, 144.98181108]])"
      ]
     },
     "execution_count": 147,
     "metadata": {},
     "output_type": "execute_result"
    }
   ],
   "source": [
    "mvd6 = np.matmul(mvd5, mvd4)\n",
    "mvd6"
   ]
  },
  {
   "cell_type": "markdown",
   "id": "bf197455-b0bd-4ee7-8ded-ec278ca3b9fd",
   "metadata": {
    "jp-MarkdownHeadingCollapsed": true
   },
   "source": [
    "### Additional Example Codes"
   ]
  },
  {
   "cell_type": "markdown",
   "id": "73470a99-d27e-44da-bc4c-26a6d39d3bf8",
   "metadata": {
    "jp-MarkdownHeadingCollapsed": true
   },
   "source": [
    "#### Example 1"
   ]
  },
  {
   "cell_type": "markdown",
   "id": "0ed22958-2b2b-462a-8746-044fcf87f60c",
   "metadata": {},
   "source": [
    "$$$$\n",
    "$a = \\begin{bmatrix}1 \\\\2\\\\3 \\end{bmatrix}$ and $b = \\begin{bmatrix}1\\\\2\\\\3\\end{bmatrix}$"
   ]
  },
  {
   "cell_type": "code",
   "execution_count": 148,
   "id": "8db31701-1f3d-474d-a240-1e255b20758d",
   "metadata": {},
   "outputs": [
    {
     "data": {
      "text/plain": [
       "(3, 1)"
      ]
     },
     "execution_count": 148,
     "metadata": {},
     "output_type": "execute_result"
    }
   ],
   "source": [
    "ae1 = np.array([1,2,3]).reshape([3,1])\n",
    "ae1.shape"
   ]
  },
  {
   "cell_type": "code",
   "execution_count": 149,
   "id": "a9a9560e-6474-4204-a2c1-42941eddf740",
   "metadata": {},
   "outputs": [
    {
     "data": {
      "text/plain": [
       "array([[1],\n",
       "       [2],\n",
       "       [3]])"
      ]
     },
     "execution_count": 149,
     "metadata": {},
     "output_type": "execute_result"
    }
   ],
   "source": [
    "ae1"
   ]
  },
  {
   "cell_type": "code",
   "execution_count": 150,
   "id": "1803e757-7752-4776-b3e0-9304aa0e00d1",
   "metadata": {},
   "outputs": [
    {
     "data": {
      "text/plain": [
       "(3, 1)"
      ]
     },
     "execution_count": 150,
     "metadata": {},
     "output_type": "execute_result"
    }
   ],
   "source": [
    "ae2 = np.array([1,2,3]).reshape([3,1])\n",
    "ae2.shape"
   ]
  },
  {
   "cell_type": "code",
   "execution_count": 151,
   "id": "0aa3761d-5fe8-4137-96f9-7a7f01a00b26",
   "metadata": {},
   "outputs": [
    {
     "data": {
      "text/plain": [
       "array([[1],\n",
       "       [2],\n",
       "       [3]])"
      ]
     },
     "execution_count": 151,
     "metadata": {},
     "output_type": "execute_result"
    }
   ],
   "source": [
    "ae2"
   ]
  },
  {
   "cell_type": "code",
   "execution_count": 152,
   "id": "93820b64-bc9e-42a4-8c0a-c1eb935d7d79",
   "metadata": {},
   "outputs": [
    {
     "name": "stdout",
     "output_type": "stream",
     "text": [
      "Error: shapes (3,1) and (3,1) not aligned: 1 (dim 1) != 3 (dim 0)\n"
     ]
    }
   ],
   "source": [
    "try:\n",
    "    dp1 = np.dot(ae1,ae2)\n",
    "    dp1\n",
    "except Exception as e:\n",
    "    print('Error:', e)"
   ]
  },
  {
   "cell_type": "markdown",
   "id": "5a2ee82d-4913-4c03-b0e2-2c9000fd1435",
   "metadata": {},
   "source": [
    "<div class=\"alert alert-block alert-warning\">\n",
    "\n",
    "**The error above say we cannot do a dot product with 3 by 1 and 3 by 1. We can only do 1 By 3 with 3 by 1.**\n",
    "\n",
    "</div>"
   ]
  },
  {
   "cell_type": "markdown",
   "id": "b54b7af5-1f02-4259-b7cd-1550feaf1d27",
   "metadata": {},
   "source": [
    "$$$$\n",
    "So we need to transpose b such that:\n",
    "\n",
    "$a = \\begin{bmatrix}1 \\\\2\\\\3 \\end{bmatrix}$ and $b = \\begin{bmatrix}1 &2 &3\\end{bmatrix}= \\begin{bmatrix}1+4+9=14\\end{bmatrix}$"
   ]
  },
  {
   "cell_type": "code",
   "execution_count": 153,
   "id": "83fa8bc6-a10e-461d-8665-76a073c89f34",
   "metadata": {},
   "outputs": [
    {
     "data": {
      "text/plain": [
       "array([[1],\n",
       "       [2],\n",
       "       [3]])"
      ]
     },
     "execution_count": 153,
     "metadata": {},
     "output_type": "execute_result"
    }
   ],
   "source": [
    "ae1"
   ]
  },
  {
   "cell_type": "code",
   "execution_count": 154,
   "id": "417608d9-0f69-4a7d-9ad2-9b71dd5bc579",
   "metadata": {},
   "outputs": [
    {
     "data": {
      "text/plain": [
       "array([[1],\n",
       "       [2],\n",
       "       [3]])"
      ]
     },
     "execution_count": 154,
     "metadata": {},
     "output_type": "execute_result"
    }
   ],
   "source": [
    "ae2"
   ]
  },
  {
   "cell_type": "code",
   "execution_count": 155,
   "id": "c4007379-454a-48ac-92e0-4e96b48db170",
   "metadata": {},
   "outputs": [
    {
     "data": {
      "text/plain": [
       "(3, 1)"
      ]
     },
     "execution_count": 155,
     "metadata": {},
     "output_type": "execute_result"
    }
   ],
   "source": [
    "ae1.shape"
   ]
  },
  {
   "cell_type": "code",
   "execution_count": 156,
   "id": "3d02fd01-cb43-42ac-8b76-565885edd0b1",
   "metadata": {},
   "outputs": [
    {
     "data": {
      "text/plain": [
       "(1, 3)"
      ]
     },
     "execution_count": 156,
     "metadata": {},
     "output_type": "execute_result"
    }
   ],
   "source": [
    "ae2 = np.transpose(ae2)\n",
    "ae2.shape"
   ]
  },
  {
   "cell_type": "code",
   "execution_count": 157,
   "id": "6a322e81-67dc-4cd2-986a-300c79f1cf53",
   "metadata": {},
   "outputs": [
    {
     "data": {
      "text/plain": [
       "array([[1, 2, 3],\n",
       "       [2, 4, 6],\n",
       "       [3, 6, 9]])"
      ]
     },
     "execution_count": 157,
     "metadata": {},
     "output_type": "execute_result"
    }
   ],
   "source": [
    "dp1 = np.dot(ae1,ae2)\n",
    "dp1"
   ]
  },
  {
   "cell_type": "markdown",
   "id": "f756c0c2-2654-4ea0-a0d3-56da3d46ce12",
   "metadata": {},
   "source": [
    "<div class=\"alert alert-block alert-warning\">\n",
    "\n",
    "**This is not the answer we want. We are doing a 3 by 1 and 1 by 3 matrix multiplication resulting in 3 by 3 product. We should do 1 By 3 with 3 by 1.**\n",
    "\n",
    "</div>"
   ]
  },
  {
   "cell_type": "code",
   "execution_count": 158,
   "id": "d882eccf-baac-4998-b336-529f0dd570b5",
   "metadata": {},
   "outputs": [
    {
     "data": {
      "text/plain": [
       "array([[14]])"
      ]
     },
     "execution_count": 158,
     "metadata": {},
     "output_type": "execute_result"
    }
   ],
   "source": [
    "dp1a = np.dot(ae2,ae1)\n",
    "dp1a "
   ]
  },
  {
   "cell_type": "code",
   "execution_count": 159,
   "id": "58a71bc8-504e-4420-abb7-917266a5901e",
   "metadata": {},
   "outputs": [
    {
     "data": {
      "text/plain": [
       "array([[14]])"
      ]
     },
     "execution_count": 159,
     "metadata": {},
     "output_type": "execute_result"
    }
   ],
   "source": [
    "ae2@ae1"
   ]
  },
  {
   "cell_type": "markdown",
   "id": "60a448dc-cc4e-4680-aa27-28dc10863036",
   "metadata": {},
   "source": [
    "<div class=\"alert alert-block alert-info\">\n",
    "\n",
    "**When doing dot product multiplication, always check the dimensions and the expected dimensions.**\n",
    "\n",
    "</div>"
   ]
  },
  {
   "cell_type": "markdown",
   "id": "96705297-8e75-44a0-a28a-3ebc1f460b19",
   "metadata": {
    "jp-MarkdownHeadingCollapsed": true
   },
   "source": [
    "#### Example 2"
   ]
  },
  {
   "cell_type": "markdown",
   "id": "8aa6137b-6dfd-41c8-8c6b-bf27fadd3355",
   "metadata": {},
   "source": [
    "$$\\begin{bmatrix}\n",
    "    1    &2   &3\\\\\n",
    "    4    &5   &6  \n",
    "\\end{bmatrix}$$\n",
    "\n",
    "$$\\cdot$$\n",
    "\n",
    "$$\\begin{bmatrix}\n",
    "    11    &4    &7\\\\\n",
    "    21    &1    &9\\\\ \n",
    "    31    &7    &4   \n",
    "\\end{bmatrix}$$  \n",
    "\n",
    "$$=$$\n",
    "\n",
    "$$\\begin{bmatrix}\n",
    "    146    &27    &37\\\\\n",
    "    335    &63    &97    \n",
    "\\end{bmatrix}$$ "
   ]
  },
  {
   "cell_type": "code",
   "execution_count": 160,
   "id": "056245f4-dcb0-4ec6-80cf-b08cef7b5980",
   "metadata": {},
   "outputs": [
    {
     "data": {
      "text/plain": [
       "array([[1, 2, 3],\n",
       "       [4, 5, 6]])"
      ]
     },
     "execution_count": 160,
     "metadata": {},
     "output_type": "execute_result"
    }
   ],
   "source": [
    "X =np.array([1,2,3,4,5,6]).reshape([2,3])\n",
    "X"
   ]
  },
  {
   "cell_type": "code",
   "execution_count": 161,
   "id": "e14ed936-0626-4e38-a90e-275771f33a8a",
   "metadata": {},
   "outputs": [
    {
     "data": {
      "text/plain": [
       "array([[11,  4,  7],\n",
       "       [21,  1,  9],\n",
       "       [31,  7,  4]])"
      ]
     },
     "execution_count": 161,
     "metadata": {},
     "output_type": "execute_result"
    }
   ],
   "source": [
    "Y =np.array([11,4,7,21,1,9,31,7,4]).reshape([3,3])\n",
    "Y"
   ]
  },
  {
   "cell_type": "code",
   "execution_count": 162,
   "id": "d21f939b-23c6-40de-a09d-5d706586e9bb",
   "metadata": {},
   "outputs": [
    {
     "data": {
      "text/plain": [
       "array([[146,  27,  37],\n",
       "       [335,  63,  97]])"
      ]
     },
     "execution_count": 162,
     "metadata": {},
     "output_type": "execute_result"
    }
   ],
   "source": [
    "dp2 = X@Y\n",
    "dp2"
   ]
  },
  {
   "cell_type": "markdown",
   "id": "9d74dff0-082b-43a8-b734-e478ebefe1d8",
   "metadata": {},
   "source": [
    "<details>\n",
    "<summary>\n",
    "    <font size='3'><b>Expected Answer</b></font>\n",
    "</summary>\n",
    "    <p>\n",
    "    $$\\begin{bmatrix}\n",
    "    146    &27    &37\\\\\n",
    "    335    &63    &97    \n",
    "\\end{bmatrix}$$ \n",
    "    </p>"
   ]
  },
  {
   "cell_type": "markdown",
   "id": "d13a0c16-b63b-4910-b7e3-45f1cd22cb27",
   "metadata": {
    "jp-MarkdownHeadingCollapsed": true
   },
   "source": [
    "#### Example 3"
   ]
  },
  {
   "cell_type": "code",
   "execution_count": 163,
   "id": "ea7227a9-8b08-4cfc-adab-d6981c2aab1a",
   "metadata": {},
   "outputs": [],
   "source": [
    "a3 = np.array([100,200,300]).reshape([1,3])\n",
    "b3 = np.array([100,200,300]).reshape([3,1])"
   ]
  },
  {
   "cell_type": "code",
   "execution_count": 164,
   "id": "11795f97-32af-4039-833d-d20339e1b285",
   "metadata": {},
   "outputs": [
    {
     "data": {
      "text/plain": [
       "array([[100, 200, 300]])"
      ]
     },
     "execution_count": 164,
     "metadata": {},
     "output_type": "execute_result"
    }
   ],
   "source": [
    "a3"
   ]
  },
  {
   "cell_type": "code",
   "execution_count": 165,
   "id": "56b953fe-b63a-496c-83e6-361ada103cc7",
   "metadata": {},
   "outputs": [
    {
     "data": {
      "text/plain": [
       "array([[100],\n",
       "       [200],\n",
       "       [300]])"
      ]
     },
     "execution_count": 165,
     "metadata": {},
     "output_type": "execute_result"
    }
   ],
   "source": [
    "b3"
   ]
  },
  {
   "cell_type": "code",
   "execution_count": 166,
   "id": "1387f503-965f-4511-9fe6-f603d3277263",
   "metadata": {},
   "outputs": [
    {
     "data": {
      "text/plain": [
       "array([[140000]])"
      ]
     },
     "execution_count": 166,
     "metadata": {},
     "output_type": "execute_result"
    }
   ],
   "source": [
    "dp3 = np.dot(a3,b3)\n",
    "dp3"
   ]
  },
  {
   "cell_type": "code",
   "execution_count": 167,
   "id": "757b8c2b-b2e2-428e-a6ee-1356f87d8fae",
   "metadata": {},
   "outputs": [
    {
     "data": {
      "text/plain": [
       "array([[140000]])"
      ]
     },
     "execution_count": 167,
     "metadata": {},
     "output_type": "execute_result"
    }
   ],
   "source": [
    "dp3a = a3@b3\n",
    "dp3a"
   ]
  },
  {
   "cell_type": "markdown",
   "id": "85656a6e-8347-4762-b16e-835c03f8d68f",
   "metadata": {},
   "source": [
    "<details>\n",
    "<summary>\n",
    "    <font size='3'><b>Expected Answer</b></font>\n",
    "</summary>\n",
    "    <p>\n",
    "    <ul>\n",
    "        <li>$140,000$ </li>\n",
    "    </ul>\n",
    "    </p>"
   ]
  },
  {
   "cell_type": "markdown",
   "id": "5b3f2e58-31c9-402e-a8bd-201727f86bb5",
   "metadata": {
    "jp-MarkdownHeadingCollapsed": true
   },
   "source": [
    "#### Example 4: Exception from dot product rules"
   ]
  },
  {
   "cell_type": "code",
   "execution_count": 168,
   "id": "54531c7c-1643-4b37-a7a1-5bd1e9aabf49",
   "metadata": {},
   "outputs": [],
   "source": [
    "a4 = np.array([1,2,3])\n",
    "b4 = np.array([1,2,3])"
   ]
  },
  {
   "cell_type": "code",
   "execution_count": 169,
   "id": "92af2d17-8fba-444b-9157-2e2a7012be4b",
   "metadata": {},
   "outputs": [
    {
     "data": {
      "text/plain": [
       "(3,)"
      ]
     },
     "execution_count": 169,
     "metadata": {},
     "output_type": "execute_result"
    }
   ],
   "source": [
    "a4.shape"
   ]
  },
  {
   "cell_type": "code",
   "execution_count": 170,
   "id": "86024100-7a5b-42d8-8f93-d5ac795b2744",
   "metadata": {},
   "outputs": [
    {
     "data": {
      "text/plain": [
       "(3,)"
      ]
     },
     "execution_count": 170,
     "metadata": {},
     "output_type": "execute_result"
    }
   ],
   "source": [
    "b4.shape"
   ]
  },
  {
   "cell_type": "code",
   "execution_count": 171,
   "id": "2089c18f-9be5-4c50-9786-a2fd94ce6142",
   "metadata": {},
   "outputs": [
    {
     "data": {
      "text/plain": [
       "14"
      ]
     },
     "execution_count": 171,
     "metadata": {},
     "output_type": "execute_result"
    }
   ],
   "source": [
    "dp4 = a4@b4\n",
    "dp4"
   ]
  },
  {
   "cell_type": "markdown",
   "id": "5c072e88-b3a5-4d3a-9700-021b7c0e6929",
   "metadata": {},
   "source": [
    "<div class=\"alert alert-block alert-info\">\n",
    "\n",
    "**Please note that in the example above, we are able to do dot product with 1D array. This is enabled in Numpy. For more information, please refer to the link below.**\n",
    "\n",
    "**As a new learner, we prefer to use 3 by 1 matrix/vector instead.**\n",
    "\n",
    "- https://numpy.org/doc/stable/reference/generated/numpy.dot.html\n",
    "- https://numpy.org/doc/stable/reference/generated/numpy.matmul.html\n",
    "\n",
    "\n",
    "</div>"
   ]
  },
  {
   "cell_type": "markdown",
   "id": "ad2bb9b4-0344-4065-896c-d312916b4641",
   "metadata": {},
   "source": [
    "However, if we reshape into n by 1 vector. Then it would not work. The dot product rules applies."
   ]
  },
  {
   "cell_type": "code",
   "execution_count": 172,
   "id": "a21b1b0c-4a57-4e9f-8d62-ed021e059808",
   "metadata": {},
   "outputs": [],
   "source": [
    "a4i = np.array([1,2,3]).reshape((3,1))\n",
    "b4i = np.array([1,2,3]).reshape((3,1))"
   ]
  },
  {
   "cell_type": "code",
   "execution_count": 173,
   "id": "d241abd9-1477-4108-9f7f-d69c86c15f3e",
   "metadata": {},
   "outputs": [
    {
     "name": "stdout",
     "output_type": "stream",
     "text": [
      "Error: matmul: Input operand 1 has a mismatch in its core dimension 0, with gufunc signature (n?,k),(k,m?)->(n?,m?) (size 3 is different from 1)\n"
     ]
    }
   ],
   "source": [
    "try:\n",
    "    a4i@b4i\n",
    "except Exception as e:\n",
    "    print('Error:', e)"
   ]
  },
  {
   "cell_type": "markdown",
   "id": "8314b1c4-6db5-4712-8973-196ca0dbfce0",
   "metadata": {},
   "source": [
    "<div class=\"alert alert-block alert-info\">\n",
    "\n",
    "**Note**\n",
    "\n",
    "**In our experience, for beginners with so many rules to remember. It is better to always reshape a vector to **n by 1** or **1 by n** vector. This will help use to understand the dot product rules better and avoid any confusion with the exception.**\n",
    "\n",
    "</div>"
   ]
  },
  {
   "cell_type": "markdown",
   "id": "14f08d99-fd78-4673-8bb0-104f1fdbdcf1",
   "metadata": {
    "jp-MarkdownHeadingCollapsed": true
   },
   "source": [
    "#### Example 5: Dot Product and Matmul Differences"
   ]
  },
  {
   "cell_type": "code",
   "execution_count": 174,
   "id": "175363ba-d6b3-4ee8-847d-fbb3a9d629cd",
   "metadata": {},
   "outputs": [],
   "source": [
    "special_a = np.array([1,2,3]).reshape((3,1))\n",
    "num1 = 23"
   ]
  },
  {
   "cell_type": "markdown",
   "id": "87bc51e6-cdab-4fe5-8a45-b023eb6b0764",
   "metadata": {},
   "source": [
    "We can use dot product with a single number as a 1 by 1 matrix."
   ]
  },
  {
   "cell_type": "code",
   "execution_count": 175,
   "id": "853bc070-05e8-4169-8d9f-f0de7d5aad7a",
   "metadata": {},
   "outputs": [
    {
     "data": {
      "text/plain": [
       "array([[23],\n",
       "       [46],\n",
       "       [69]])"
      ]
     },
     "execution_count": 175,
     "metadata": {},
     "output_type": "execute_result"
    }
   ],
   "source": [
    "np.dot(special_a,num1)"
   ]
  },
  {
   "cell_type": "markdown",
   "id": "5a39d1e9-aac0-430c-a5ba-7a0d8718adb3",
   "metadata": {},
   "source": [
    "However, we cannot perform the similar using matmul."
   ]
  },
  {
   "cell_type": "code",
   "execution_count": 176,
   "id": "5b3978fb-3d77-4507-8b0b-a0748f0f103d",
   "metadata": {},
   "outputs": [
    {
     "name": "stdout",
     "output_type": "stream",
     "text": [
      "Error: matmul: Input operand 1 does not have enough dimensions (has 0, gufunc core with signature (n?,k),(k,m?)->(n?,m?) requires 1)\n"
     ]
    }
   ],
   "source": [
    "try:\n",
    "    np.matmul(special_a,num1)\n",
    "except Exception as e:\n",
    "    print('Error:', e)"
   ]
  },
  {
   "cell_type": "code",
   "execution_count": 177,
   "id": "13675564-ab22-47f7-8ace-4f308d2a2e74",
   "metadata": {},
   "outputs": [
    {
     "name": "stdout",
     "output_type": "stream",
     "text": [
      "Error: matmul: Input operand 1 does not have enough dimensions (has 0, gufunc core with signature (n?,k),(k,m?)->(n?,m?) requires 1)\n"
     ]
    }
   ],
   "source": [
    "try:\n",
    "    special_a@num1\n",
    "except Exception as e:\n",
    "    print('Error:', e)"
   ]
  },
  {
   "cell_type": "code",
   "execution_count": 178,
   "id": "bffb6f8a-d0de-412d-b7d1-a80ecf56643b",
   "metadata": {},
   "outputs": [
    {
     "data": {
      "text/plain": [
       "array([[23]])"
      ]
     },
     "execution_count": 178,
     "metadata": {},
     "output_type": "execute_result"
    }
   ],
   "source": [
    "special_num = np.array([23]).reshape((1,1))\n",
    "special_num"
   ]
  },
  {
   "cell_type": "code",
   "execution_count": 179,
   "id": "e0291c5d-b15a-4c69-bbc8-bf875ca2bdef",
   "metadata": {},
   "outputs": [
    {
     "data": {
      "text/plain": [
       "array([[23],\n",
       "       [46],\n",
       "       [69]])"
      ]
     },
     "execution_count": 179,
     "metadata": {},
     "output_type": "execute_result"
    }
   ],
   "source": [
    "np.matmul(special_a,special_num)"
   ]
  },
  {
   "cell_type": "markdown",
   "id": "9c6129e8-9866-4ad5-b0cc-f31a324d7ffa",
   "metadata": {
    "jp-MarkdownHeadingCollapsed": true
   },
   "source": [
    "## Application of Matrix Multiplication (Dot Product) in Linear Regression"
   ]
  },
  {
   "cell_type": "markdown",
   "id": "fccc7201-3d6f-44af-b4a1-5d26f9cc852b",
   "metadata": {
    "jp-MarkdownHeadingCollapsed": true
   },
   "source": [
    "### Matrix Dot Product (Multiple Features)"
   ]
  },
  {
   "cell_type": "markdown",
   "id": "1073aa04-bae2-49ac-9d54-db09c19b4695",
   "metadata": {},
   "source": [
    "In Python, we use the dot product function to perform matrix and vector multiplication. Consider the following example, using the matrix multiplication rules:\n",
    "\n",
    "A **m x n** matrix multiplied with **n x p** matrix will result in a **m x p** matrix.\n",
    "\n",
    "$$\\begin{bmatrix}a &b &c \\\\d &e  &f\\\\g &h & i \\end{bmatrix} * \\begin{bmatrix}x\\\\y\\\\z\\end{bmatrix} = \\begin{bmatrix}(a*x)+(b*y)+(c*z) \\\\(d*x)+(e*y)+(f*z) \\\\(g*x)+(h*y)+(i*z) \\end{bmatrix}$$ \n",
    "\n",
    "The example above is a **3 by 3 matrix** multiple by a **3 by 1 matrix**. The result is a **3 by 1 matrix**.\n",
    "\n",
    "\n",
    "Now let us use a more concrete example:\n",
    "\n",
    "$$X = \\begin{bmatrix}sqft &room \\\\100 &3 \\\\200 &4\\end{bmatrix}$$ \n",
    "\n",
    "- where $X$ has 2 features with 2 training example.\n",
    "- let us assume $w_1 = 10, w_2 = 3$, we have\n",
    "\n",
    "$$w = \\begin{bmatrix}w_1 =10\\\\w_2=3\\end{bmatrix}$$ \n",
    "$$$$\n",
    "We should have **2 by 2 matrix** multiply by **2 by 1 vector** resulting in **2 by 1 vector**.\n",
    "\n",
    "$$\\begin{bmatrix}100 &3 \\\\200 &4\\end{bmatrix} * \\begin{bmatrix}10\\\\3\\end{bmatrix} = \\begin{bmatrix}(100*10)+(3*3) \\\\(200*10)+(4*3) \\end{bmatrix}= \\begin{bmatrix}1009 \\\\2012\\end{bmatrix}$$ \n",
    "\n",
    "$$$$\n",
    "The dot product implies the following formula for **each training example**:\n",
    "\n",
    "$$X^{(i)} \\cdot w^{(i)} = (X^{(i)}_1 \\cdot w^{(i)}_1) + (X^{(i)}_2 \\cdot w^{(i)}_2) =  \\sum\\limits_{j=0}^{n-1}X^{(i)}_j \\cdot w^{(i)}_j$$\n",
    "\n",
    "- where $n$ is total number of features\n",
    "- where $j$ is the index for $w_j$ and $x_j$\n",
    "\n",
    "As we can see the dot product satisfy our linear function for multiple features.\n",
    "\n",
    "$$f_{\\vec{w},b}(\\vec{x}^{(i)})=b + \\sum\\limits_{j=0}^{n-1} \\vec{w}_{j}\\vec{x}_{j}^{(i)}$$"
   ]
  },
  {
   "cell_type": "markdown",
   "id": "8ed975b8-8df7-452d-8452-c10c97ebf0f2",
   "metadata": {
    "jp-MarkdownHeadingCollapsed": true
   },
   "source": [
    "#### Example A"
   ]
  },
  {
   "cell_type": "markdown",
   "id": "95ac5479-1861-4113-b10d-e35761271ada",
   "metadata": {},
   "source": [
    "$$\\begin{bmatrix}100 &3 \\\\200 &4\\end{bmatrix} * \\begin{bmatrix}10\\\\3\\end{bmatrix} = \\begin{bmatrix}(100*10)+(3*3) \\\\(200*10)+(4*3) \\end{bmatrix}= \\begin{bmatrix}1009 \\\\2012\\end{bmatrix}$$ "
   ]
  },
  {
   "cell_type": "markdown",
   "id": "8cfc2100-739e-44a3-ae68-60344375f6fb",
   "metadata": {},
   "source": [
    "$$\\sum\\limits_{j=0}^{n-1}X^{(i)}_j \\cdot w^{(i)}_j$$"
   ]
  },
  {
   "cell_type": "code",
   "execution_count": 180,
   "id": "4d194bbb-b8d6-4cc3-9f3e-031671050dc3",
   "metadata": {},
   "outputs": [
    {
     "data": {
      "text/plain": [
       "array([[100,   3],\n",
       "       [200,   4]])"
      ]
     },
     "execution_count": 180,
     "metadata": {},
     "output_type": "execute_result"
    }
   ],
   "source": [
    "X = np.array([100,3,200,4]).reshape((2,2))\n",
    "X"
   ]
  },
  {
   "cell_type": "code",
   "execution_count": 181,
   "id": "841a2512-bdd4-4036-b0cb-50b22b5ae454",
   "metadata": {},
   "outputs": [
    {
     "data": {
      "text/plain": [
       "array([[10],\n",
       "       [ 3]])"
      ]
     },
     "execution_count": 181,
     "metadata": {},
     "output_type": "execute_result"
    }
   ],
   "source": [
    "w = np.array([10,3]).reshape((2,1))\n",
    "w"
   ]
  },
  {
   "cell_type": "code",
   "execution_count": 182,
   "id": "cf9a5410-9d3d-4f47-b279-b40cb1ea029a",
   "metadata": {},
   "outputs": [
    {
     "data": {
      "text/plain": [
       "1009"
      ]
     },
     "execution_count": 182,
     "metadata": {},
     "output_type": "execute_result"
    }
   ],
   "source": [
    "expected_answer_5_first_row = (100 * 10 + 3 * 3)\n",
    "expected_answer_5_first_row"
   ]
  },
  {
   "cell_type": "code",
   "execution_count": 183,
   "id": "3fb9a3a8-90ff-425a-b4a6-e09f21f4cf51",
   "metadata": {},
   "outputs": [
    {
     "data": {
      "text/plain": [
       "2012"
      ]
     },
     "execution_count": 183,
     "metadata": {},
     "output_type": "execute_result"
    }
   ],
   "source": [
    "expected_answer_5_2nd_row = (200 * 10 + 4 * 3)\n",
    "expected_answer_5_2nd_row"
   ]
  },
  {
   "cell_type": "code",
   "execution_count": 184,
   "id": "d8db4a29-575c-4a79-9d21-7249afd39237",
   "metadata": {},
   "outputs": [
    {
     "data": {
      "text/plain": [
       "array([[1009],\n",
       "       [2012]])"
      ]
     },
     "execution_count": 184,
     "metadata": {},
     "output_type": "execute_result"
    }
   ],
   "source": [
    "np.dot(X,w)"
   ]
  },
  {
   "cell_type": "code",
   "execution_count": 185,
   "id": "9959a6d7-bbc8-4c10-b8e4-2c0f024468f2",
   "metadata": {},
   "outputs": [
    {
     "data": {
      "text/plain": [
       "array([[1009],\n",
       "       [2012]])"
      ]
     },
     "execution_count": 185,
     "metadata": {},
     "output_type": "execute_result"
    }
   ],
   "source": [
    "np.matmul(X,w)"
   ]
  },
  {
   "cell_type": "code",
   "execution_count": 186,
   "id": "7a26194d-c2bb-480c-9716-a5d79a346b76",
   "metadata": {},
   "outputs": [
    {
     "data": {
      "text/plain": [
       "array([[1009],\n",
       "       [2012]])"
      ]
     },
     "execution_count": 186,
     "metadata": {},
     "output_type": "execute_result"
    }
   ],
   "source": [
    "X@w"
   ]
  },
  {
   "cell_type": "markdown",
   "id": "260af2b7-bce3-4725-a1c7-4bd0905993fa",
   "metadata": {},
   "source": [
    "**Do note that dot product only perform computation for all features in a single training example. We need to sum up all the training examples when computing cost function.** "
   ]
  },
  {
   "cell_type": "markdown",
   "id": "07437fdb-23e4-4fb7-9a1e-9ce43e9982dc",
   "metadata": {
    "jp-MarkdownHeadingCollapsed": true
   },
   "source": [
    "### Matrix Dot Product (Single Features)"
   ]
  },
  {
   "cell_type": "markdown",
   "id": "102b5145-18ab-4df6-81ba-20b3e19bf7b8",
   "metadata": {},
   "source": [
    "Consider the following example, using the matrix multiplication rules:\n",
    "\n",
    "$$\\begin{bmatrix}a \\\\b\\\\c \\end{bmatrix} \\cdot \\begin{bmatrix}w\\end{bmatrix} = \\begin{bmatrix}a*x \\\\b*w\\\\c*w\\end{bmatrix}$$\n",
    "A **3 by 1 matrix** with **1 by 1 vector** will result in **3 by 1 matrix**.\n",
    "$$$$\n",
    "Therefore, \n",
    "If $X = \\begin{bmatrix}a \\\\b\\\\c \\end{bmatrix}$ and $w = \\begin{bmatrix}w\\end{bmatrix}$\n",
    "$$X \\cdot w = X^{(i)} \\cdot w^{(i)}$$\n",
    "\n",
    "If $X = \\begin{bmatrix}1 \\\\2\\\\3 \\end{bmatrix}$ and $w = \\begin{bmatrix}5\\end{bmatrix}$ Then\n",
    "\n",
    "$$X \\cdot w = \\begin{bmatrix}1*5 \\\\2*5\\\\3*5\\end{bmatrix}= \\begin{bmatrix}5 \\\\10\\\\15\\end{bmatrix}$$\n",
    "\n",
    "The next step is to sum up the array which can be achieved by the sum method of the vector or matrix.  "
   ]
  },
  {
   "cell_type": "markdown",
   "id": "632ac20e-6bb3-4165-98c0-cd7a82e10aa7",
   "metadata": {
    "jp-MarkdownHeadingCollapsed": true
   },
   "source": [
    "#### Example B"
   ]
  },
  {
   "cell_type": "markdown",
   "id": "95bc28aa-511c-477a-879b-7a92709739ed",
   "metadata": {
    "jp-MarkdownHeadingCollapsed": true
   },
   "source": [
    "$$X \\cdot w =\\begin{bmatrix}1 \\\\2\\\\3\\end{bmatrix} \\cdot \\begin{bmatrix}5\\end{bmatrix} =\\begin{bmatrix}1*5 \\\\2*5\\\\3*5\\end{bmatrix}= \\begin{bmatrix}5 \\\\10\\\\15\\end{bmatrix}$$"
   ]
  },
  {
   "cell_type": "markdown",
   "id": "7893b867-17dc-4aa5-9b8d-64e0b3f986bb",
   "metadata": {},
   "source": [
    "$$X \\cdot w = X_1^{(i)} \\cdot w_1^{(i)}$$"
   ]
  },
  {
   "cell_type": "code",
   "execution_count": 187,
   "id": "6ee5b8df-e906-40ad-a0f4-913764f84203",
   "metadata": {},
   "outputs": [],
   "source": [
    "X = np.array([1,2,3]).reshape((3,1))\n",
    "w = np.array([5]).reshape((1,1))"
   ]
  },
  {
   "cell_type": "code",
   "execution_count": 188,
   "id": "35c17432-27a7-4952-b418-b44da01bd1c2",
   "metadata": {},
   "outputs": [
    {
     "data": {
      "text/plain": [
       "array([[1],\n",
       "       [2],\n",
       "       [3]])"
      ]
     },
     "execution_count": 188,
     "metadata": {},
     "output_type": "execute_result"
    }
   ],
   "source": [
    "X"
   ]
  },
  {
   "cell_type": "code",
   "execution_count": 189,
   "id": "6fc1fa5b-ed4d-496d-b2e2-e615bcf4f51a",
   "metadata": {},
   "outputs": [
    {
     "data": {
      "text/plain": [
       "array([[5]])"
      ]
     },
     "execution_count": 189,
     "metadata": {},
     "output_type": "execute_result"
    }
   ],
   "source": [
    "w"
   ]
  },
  {
   "cell_type": "code",
   "execution_count": 190,
   "id": "05d8000c-c30d-47e5-90a6-cba0f0628c2a",
   "metadata": {},
   "outputs": [
    {
     "data": {
      "text/plain": [
       "5"
      ]
     },
     "execution_count": 190,
     "metadata": {},
     "output_type": "execute_result"
    }
   ],
   "source": [
    "expected_answer_1 = (1*5)\n",
    "expected_answer_1"
   ]
  },
  {
   "cell_type": "code",
   "execution_count": 191,
   "id": "fb465ec5-1741-4c73-87ac-e1271db86389",
   "metadata": {},
   "outputs": [
    {
     "data": {
      "text/plain": [
       "10"
      ]
     },
     "execution_count": 191,
     "metadata": {},
     "output_type": "execute_result"
    }
   ],
   "source": [
    "expected_answer_2 = (2*5)\n",
    "expected_answer_2"
   ]
  },
  {
   "cell_type": "code",
   "execution_count": 192,
   "id": "018c1bb7-71e7-4c70-99ad-51012d7c0784",
   "metadata": {},
   "outputs": [
    {
     "data": {
      "text/plain": [
       "15"
      ]
     },
     "execution_count": 192,
     "metadata": {},
     "output_type": "execute_result"
    }
   ],
   "source": [
    "expected_answer_3 = (3*5)\n",
    "expected_answer_3"
   ]
  },
  {
   "cell_type": "code",
   "execution_count": 193,
   "id": "39ef1b37-527f-4fba-8ab5-635a94e43f82",
   "metadata": {},
   "outputs": [
    {
     "data": {
      "text/plain": [
       "30"
      ]
     },
     "execution_count": 193,
     "metadata": {},
     "output_type": "execute_result"
    }
   ],
   "source": [
    "expected_answer_total = (1*5)+(2*5)+(3*5)\n",
    "expected_answer_total"
   ]
  },
  {
   "cell_type": "code",
   "execution_count": 194,
   "id": "acfbf3f7-83c1-427f-ada7-ac04c9995dc4",
   "metadata": {},
   "outputs": [
    {
     "data": {
      "text/plain": [
       "array([[ 5],\n",
       "       [10],\n",
       "       [15]])"
      ]
     },
     "execution_count": 194,
     "metadata": {},
     "output_type": "execute_result"
    }
   ],
   "source": [
    "dp2a = np.dot(X,w)\n",
    "dp2a"
   ]
  },
  {
   "cell_type": "code",
   "execution_count": 195,
   "id": "5346c6ea-d6c4-4bf6-9584-355d7db69d1e",
   "metadata": {},
   "outputs": [
    {
     "data": {
      "text/plain": [
       "array([[ 5],\n",
       "       [10],\n",
       "       [15]])"
      ]
     },
     "execution_count": 195,
     "metadata": {},
     "output_type": "execute_result"
    }
   ],
   "source": [
    "np.matmul(X,w)"
   ]
  },
  {
   "cell_type": "code",
   "execution_count": 196,
   "id": "b10addf1-96aa-482f-ae7a-5cfaadbe6356",
   "metadata": {},
   "outputs": [
    {
     "name": "stdout",
     "output_type": "stream",
     "text": [
      "Error: matmul: Input operand 1 does not have enough dimensions (has 0, gufunc core with signature (n?,k),(k,m?)->(n?,m?) requires 1)\n"
     ]
    }
   ],
   "source": [
    "try:\n",
    "    np.matmul(X,5)\n",
    "except Exception as e:\n",
    "    print('Error:', e)"
   ]
  },
  {
   "cell_type": "markdown",
   "id": "2ef0847b-a3dd-4d83-918f-5f5b906673a2",
   "metadata": {
    "jp-MarkdownHeadingCollapsed": true
   },
   "source": [
    "## Application of Matrix Operation in Cost Function"
   ]
  },
  {
   "cell_type": "markdown",
   "id": "c86a285b-838a-41a9-858d-19753e34eb55",
   "metadata": {
    "jp-MarkdownHeadingCollapsed": true
   },
   "source": [
    "### Single Feature Cost Function"
   ]
  },
  {
   "cell_type": "markdown",
   "id": "2cc8eb02-4bf5-49a4-822b-1dbffa2c6ed7",
   "metadata": {},
   "source": [
    "Hypothesis: $$f_{w,b}(x^{(i)}) = wx^{(i)} + b$$\n",
    "Cost Function: $$J(w,b) = \\frac{1}{2m} \\sum\\limits_{i = 0}^{m-1}\\left(( wx^{(i)} + b) - y^{(i)}\\right)^2$$ "
   ]
  },
  {
   "cell_type": "markdown",
   "id": "7e669cbe-c639-49a7-8ffe-295566b23135",
   "metadata": {
    "jp-MarkdownHeadingCollapsed": true
   },
   "source": [
    "#### Example C"
   ]
  },
  {
   "cell_type": "markdown",
   "id": "d2a4edeb-e2c4-4791-98ed-05fd7f935650",
   "metadata": {},
   "source": [
    "If $w = 5$ and $b=0$ and we have three training examples:\n",
    "\n",
    "$$J(w,b) = \\frac{1}{2m} \\left( \\left((100 \\times 5) - 100 \\right)^2 + \\left((200 \\times 5) - 200 \\right)^2 + \\left((300 \\times 5) - 300 \\right)^2 \\right)$$"
   ]
  },
  {
   "cell_type": "code",
   "execution_count": 197,
   "id": "4f67acc4-6faa-4185-ac3e-f73338ab758d",
   "metadata": {},
   "outputs": [],
   "source": [
    "x = np.array([100.,200.,300.],dtype=np.float64).reshape([3,1])\n",
    "y = np.array([100.,200.,300.],dtype=np.float64).reshape([3,1])\n",
    "w = np.array([5]).reshape([1,1])\n",
    "b = 0"
   ]
  },
  {
   "cell_type": "code",
   "execution_count": 198,
   "id": "0972896f-4620-41fd-943f-189febe308bc",
   "metadata": {},
   "outputs": [],
   "source": [
    "def cost_function_l(x,y,b,w):\n",
    "    m = x.shape[0]\n",
    "    sumRow = 0.\n",
    "    for i in range(m):\n",
    "        fx = ((w * x[i]) + b)\n",
    "        costEachEx = (fx - y[i]) ** 2\n",
    "        sumRow += costEachEx\n",
    "\n",
    "    return (1 / (2 * m)) * sumRow"
   ]
  },
  {
   "cell_type": "code",
   "execution_count": 199,
   "id": "c4a710fe-385e-4856-ac32-fd10a1f1c079",
   "metadata": {},
   "outputs": [
    {
     "data": {
      "text/plain": [
       "array([373333.33333333])"
      ]
     },
     "execution_count": 199,
     "metadata": {},
     "output_type": "execute_result"
    }
   ],
   "source": [
    "cost_function_l(x,y,b=0,w=5)"
   ]
  },
  {
   "cell_type": "code",
   "execution_count": 200,
   "id": "950e54ef-fcde-4ec9-b56c-5b773a151379",
   "metadata": {},
   "outputs": [],
   "source": [
    "# No loops required\n",
    "def cost_function_beta1(x,y,b,w):\n",
    "    m = x.shape[0]\n",
    "    fx = (np.dot(x,w)+b)\n",
    "    costEachEx = (fx - y)**2\n",
    "    sumRow = costEachEx.sum()\n",
    "    return (1 / (2 * m)) * sumRow"
   ]
  },
  {
   "cell_type": "code",
   "execution_count": 201,
   "id": "6d4c446d-69ab-4bd2-aaba-0847e9c7226c",
   "metadata": {},
   "outputs": [
    {
     "data": {
      "text/plain": [
       "373333.3333333333"
      ]
     },
     "execution_count": 201,
     "metadata": {},
     "output_type": "execute_result"
    }
   ],
   "source": [
    "cost_function_beta1(x,y,b=0,w=5)"
   ]
  },
  {
   "cell_type": "markdown",
   "id": "2486e3d9-6e1a-4fb8-977a-253d4030e2ad",
   "metadata": {},
   "source": [
    "<details>\n",
    "<summary>\n",
    "    <font size='3'><b>Expected Answer</b></font>\n",
    "</summary>\n",
    "    <p>\n",
    "$$X \\cdot w = \\begin{bmatrix}\n",
    "500 \\\\\n",
    "1000 \\\\\n",
    "1500 \\\\    \n",
    "\\end{bmatrix}$$\n",
    "    \n",
    "$$(X \\cdot w) - y = \\begin{bmatrix} 500 \\\\ 1000 \\\\ 1500 \\end{bmatrix} - \\begin{bmatrix} 100 \\\\ 200 \\\\ 300 \\end{bmatrix} = \\begin{bmatrix} 400 \\\\ 800 \\\\ 1200 \\end{bmatrix}$$\n",
    "\n",
    "$$ ((X \\cdot w) - y) ^ 2 = \\begin{bmatrix}\n",
    "160000 \\\\\n",
    "640000 \\\\\n",
    "1440000 \\\\    \n",
    "\\end{bmatrix}$$\n",
    "\n",
    "$$Cost = sum\\left(\\begin{bmatrix}160000 \\\\640000 \\\\1440000 \\end{bmatrix}\\right)/(2*m) = 2240000/(2 * m) =  2240000/6 = 373,333.3333$$\n",
    "\n",
    "\n",
    "</p>"
   ]
  },
  {
   "cell_type": "markdown",
   "id": "7e8e4838-60c0-4067-9934-418c3242996d",
   "metadata": {
    "jp-MarkdownHeadingCollapsed": true
   },
   "source": [
    "### Multiple Feature Cost Function"
   ]
  },
  {
   "cell_type": "markdown",
   "id": "5c45b2db-95ef-47e0-901f-706eac47ee6d",
   "metadata": {},
   "source": [
    "**Multiple Feature**:\n",
    "\n",
    "Hypothesis: $$f_{\\vec{w},b}(\\vec{x}^{(i)})=b + w_{1}x_{1}^{(i)} + w_{2}x_{2}^{(i)} + w_{3}x_{3}^{(i)} + ..... + w_{j}x_{j}^{(i)} + ..... + w_{n}x_{n}^{(i)}$$\n",
    "$$f_{\\vec{w},b}(\\vec{x}^{(i)})=b + \\sum\\limits_{j=0}^{n-1} \\vec{w}_{j}\\vec{x}_{j}^{(i)}$$\n",
    "\n",
    "\n",
    "Cost Function:\t$$J(\\vec w, b) = \\frac{1}{2m}   \\sum\\limits_{i=0}^{m-1} (f_{\\vec w,b}(\\vec{x}^{(i)})-\\vec y^{(i)})^{2}$$\n",
    "\n",
    "$\\therefore$ \n",
    "$$J(\\vec w, b) = \\frac{1}{2m} \\sum\\limits_{i=0}^{m-1} \\left(\\left(b + \\sum\\limits_{j=0}^{n-1} \\vec w_{j} \\vec x_{j}^{(i)} \\right)-\\vec y^{(i)}\\right)^{2}$$\n",
    "$$J(\\vec w, b) = \\frac{1}{2m} \\sum\\limits_{i=0}^{m-1} \\left(\\left(b + \\vec X^{(i)} \\cdot \\vec w \\right)-\\vec y^{(i)}\\right)^{2}$$"
   ]
  },
  {
   "cell_type": "markdown",
   "id": "350c9fe8-e46d-457f-8b9e-6ad0a19c33ea",
   "metadata": {
    "jp-MarkdownHeadingCollapsed": true
   },
   "source": [
    "#### Example D"
   ]
  },
  {
   "cell_type": "markdown",
   "id": "0a410c5c-fe63-4694-b70b-093331a18b44",
   "metadata": {},
   "source": [
    "$$\\begin{bmatrix}100 &3 \\\\200 &4\\end{bmatrix} * \\begin{bmatrix}10\\\\3\\end{bmatrix} = \\begin{bmatrix}(100*10)+(3*3) \\\\(200*10)+(4*3) \\end{bmatrix}= \\begin{bmatrix}1009 \\\\2012\\end{bmatrix}$$ "
   ]
  },
  {
   "cell_type": "code",
   "execution_count": 202,
   "id": "e42ea1f8-9e46-4cd6-a4a6-8027a371749e",
   "metadata": {},
   "outputs": [
    {
     "data": {
      "text/plain": [
       "array([[100,   3],\n",
       "       [200,   4]])"
      ]
     },
     "execution_count": 202,
     "metadata": {},
     "output_type": "execute_result"
    }
   ],
   "source": [
    "X_train = np.array([100,3,200,4]).reshape([2,2])\n",
    "X_train"
   ]
  },
  {
   "cell_type": "code",
   "execution_count": 203,
   "id": "7e4294fc-cb64-4d8b-9e06-9de69317521d",
   "metadata": {},
   "outputs": [
    {
     "data": {
      "text/plain": [
       "array([[100],\n",
       "       [200]])"
      ]
     },
     "execution_count": 203,
     "metadata": {},
     "output_type": "execute_result"
    }
   ],
   "source": [
    "y_train = np.array([100,200]).reshape([2,1])\n",
    "y_train"
   ]
  },
  {
   "cell_type": "code",
   "execution_count": 204,
   "id": "2eb65c59-37c2-4a33-8de9-a92cf3af3881",
   "metadata": {},
   "outputs": [
    {
     "data": {
      "text/plain": [
       "array([[10],\n",
       "       [ 3]])"
      ]
     },
     "execution_count": 204,
     "metadata": {},
     "output_type": "execute_result"
    }
   ],
   "source": [
    "w = np.array([10,3]).reshape([2,1])\n",
    "b = 0\n",
    "w"
   ]
  },
  {
   "cell_type": "code",
   "execution_count": 205,
   "id": "e5cc9567-1197-4014-9fc1-69515caf6d6d",
   "metadata": {},
   "outputs": [],
   "source": [
    "def cost_function_loopv2(x,y,b,w):\n",
    "    m = x.shape[0]\n",
    "    n = w.shape[0]\n",
    "    sumAll = 0.\n",
    "\n",
    "    # for each training example\n",
    "    for i in range(m):\n",
    "\n",
    "        # Multiply and sum all the features for example i\n",
    "        sumFeatures = 0\n",
    "        for j in range(n):\n",
    "            sumFeatures += w[j] * x[i][j]\n",
    "        \n",
    "        fx = sumFeatures + b\n",
    "        costEachTrainingExample = (fx - y[i]) ** 2\n",
    "        sumAll += costEachTrainingExample\n",
    "\n",
    "    return (1 / (2 * m)) * sumAll"
   ]
  },
  {
   "cell_type": "code",
   "execution_count": 206,
   "id": "a05ed76b-8ba7-40c0-86d6-c3e3b99c0432",
   "metadata": {},
   "outputs": [
    {
     "data": {
      "text/plain": [
       "array([1027406.25])"
      ]
     },
     "execution_count": 206,
     "metadata": {},
     "output_type": "execute_result"
    }
   ],
   "source": [
    "cost = cost_function_loopv2(X_train,y_train,b,w)\n",
    "cost"
   ]
  },
  {
   "cell_type": "code",
   "execution_count": 207,
   "id": "f582b77f-0f8e-4a46-9c02-815f8f9e82cf",
   "metadata": {},
   "outputs": [],
   "source": [
    "# No loops required\n",
    "def cost_function_beta2(x,y,b,w):\n",
    "    m = x.shape[0]\n",
    "    fx = (x@w)+b\n",
    "    costEachTrainingExample = (fx - y) ** 2\n",
    "    sumAll = costEachTrainingExample.sum()\n",
    "    return (1 / (2 * m)) * sumAll"
   ]
  },
  {
   "cell_type": "code",
   "execution_count": 208,
   "id": "1224085f-1678-4640-a6cc-4b10348e2794",
   "metadata": {},
   "outputs": [
    {
     "data": {
      "text/plain": [
       "1027406.25"
      ]
     },
     "execution_count": 208,
     "metadata": {},
     "output_type": "execute_result"
    }
   ],
   "source": [
    "cost = cost_function_beta2(X_train,y_train,b,w)\n",
    "cost"
   ]
  },
  {
   "cell_type": "markdown",
   "id": "239fb382-a7e9-4827-937a-e46e85d41ebd",
   "metadata": {},
   "source": [
    "<details>\n",
    "<summary>\n",
    "    <font size='3'><b>Expected Answer</b></font>\n",
    "</summary>\n",
    "    <p>\n",
    "$$X \\cdot w = \\begin{bmatrix}\n",
    "1009 \\\\\n",
    "2012 \\\\    \n",
    "\\end{bmatrix}$$\n",
    "    \n",
    "\n",
    "$$(X \\cdot w) - y = \\begin{bmatrix} 1009 \\\\ 2012 \\end{bmatrix} - \\begin{bmatrix} 100 \\\\ 200 \\end{bmatrix} = \\begin{bmatrix} 909 \\\\ 1812 \\end{bmatrix}$$\n",
    "\n",
    "$$ ((X \\cdot w) - y) ^ 2 = \\begin{bmatrix}\n",
    "826,281 \\\\\n",
    "3,283,344 \\\\   \n",
    "\\end{bmatrix}$$\n",
    "\n",
    "$$Cost = sum\\left(\\begin{bmatrix}826,281 \\\\3,283,344 \\end{bmatrix}\\right)/(2*m) = 4,109,625/(2 * m) =  2240000/4 = 1,027,406.25$$\n",
    "\n",
    "\n",
    "\n",
    "</p>"
   ]
  },
  {
   "cell_type": "markdown",
   "id": "61f8b349-c953-490f-9aa2-dde8f0e45f1e",
   "metadata": {
    "jp-MarkdownHeadingCollapsed": true
   },
   "source": [
    "#### Example E"
   ]
  },
  {
   "cell_type": "code",
   "execution_count": 209,
   "id": "384df646-e527-4496-a6a6-cfef2d5c7812",
   "metadata": {},
   "outputs": [
    {
     "data": {
      "text/html": [
       "<div>\n",
       "<style scoped>\n",
       "    .dataframe tbody tr th:only-of-type {\n",
       "        vertical-align: middle;\n",
       "    }\n",
       "\n",
       "    .dataframe tbody tr th {\n",
       "        vertical-align: top;\n",
       "    }\n",
       "\n",
       "    .dataframe thead th {\n",
       "        text-align: right;\n",
       "    }\n",
       "</style>\n",
       "<table border=\"1\" class=\"dataframe\">\n",
       "  <thead>\n",
       "    <tr style=\"text-align: right;\">\n",
       "      <th></th>\n",
       "      <th>sqft</th>\n",
       "      <th>rooms</th>\n",
       "      <th>bathrooms</th>\n",
       "      <th>age</th>\n",
       "    </tr>\n",
       "  </thead>\n",
       "  <tbody>\n",
       "    <tr>\n",
       "      <th>0</th>\n",
       "      <td>1000</td>\n",
       "      <td>3</td>\n",
       "      <td>2</td>\n",
       "      <td>20</td>\n",
       "    </tr>\n",
       "    <tr>\n",
       "      <th>1</th>\n",
       "      <td>1500</td>\n",
       "      <td>4</td>\n",
       "      <td>3</td>\n",
       "      <td>25</td>\n",
       "    </tr>\n",
       "    <tr>\n",
       "      <th>2</th>\n",
       "      <td>2000</td>\n",
       "      <td>5</td>\n",
       "      <td>3</td>\n",
       "      <td>30</td>\n",
       "    </tr>\n",
       "  </tbody>\n",
       "</table>\n",
       "</div>"
      ],
      "text/plain": [
       "   sqft  rooms  bathrooms  age\n",
       "0  1000      3          2   20\n",
       "1  1500      4          3   25\n",
       "2  2000      5          3   30"
      ]
     },
     "execution_count": 209,
     "metadata": {},
     "output_type": "execute_result"
    }
   ],
   "source": [
    "dfx = pd.DataFrame({'sqft': [1000, 1500, 2000], 'rooms': [3, 4,5], 'bathrooms':[2,3,3], 'age':[20,25,30]})\n",
    "dfx"
   ]
  },
  {
   "cell_type": "code",
   "execution_count": 210,
   "id": "56185066-8eac-4a5b-b82d-6b3abe2e3267",
   "metadata": {},
   "outputs": [
    {
     "data": {
      "text/html": [
       "<div>\n",
       "<style scoped>\n",
       "    .dataframe tbody tr th:only-of-type {\n",
       "        vertical-align: middle;\n",
       "    }\n",
       "\n",
       "    .dataframe tbody tr th {\n",
       "        vertical-align: top;\n",
       "    }\n",
       "\n",
       "    .dataframe thead th {\n",
       "        text-align: right;\n",
       "    }\n",
       "</style>\n",
       "<table border=\"1\" class=\"dataframe\">\n",
       "  <thead>\n",
       "    <tr style=\"text-align: right;\">\n",
       "      <th></th>\n",
       "      <th>price in thousands</th>\n",
       "    </tr>\n",
       "  </thead>\n",
       "  <tbody>\n",
       "    <tr>\n",
       "      <th>0</th>\n",
       "      <td>250</td>\n",
       "    </tr>\n",
       "    <tr>\n",
       "      <th>1</th>\n",
       "      <td>300</td>\n",
       "    </tr>\n",
       "    <tr>\n",
       "      <th>2</th>\n",
       "      <td>350</td>\n",
       "    </tr>\n",
       "  </tbody>\n",
       "</table>\n",
       "</div>"
      ],
      "text/plain": [
       "   price in thousands\n",
       "0                 250\n",
       "1                 300\n",
       "2                 350"
      ]
     },
     "execution_count": 210,
     "metadata": {},
     "output_type": "execute_result"
    }
   ],
   "source": [
    "dfy = pd.DataFrame({'price in thousands': [250, 300, 350]})\n",
    "dfy"
   ]
  },
  {
   "cell_type": "markdown",
   "id": "9072b553-7aff-418b-8c13-55735ab76b99",
   "metadata": {},
   "source": [
    "$$f_{w,b}(x^{(1)})=b + w_{1}x_{1}^{(1)} + w_{2}x_{2}^{(1)} + w_{3}x_{3}^{(1)} + w_{4}x_{4}^{(1)}$$\n",
    "$$f_{w,b}(x^{(2)})=b + w_{1}x_{1}^{(2)} + w_{2}x_{2}^{(2)} + w_{3}x_{3}^{(2)} + w_{4}x_{4}^{(2)}$$\n",
    "$$f_{w,b}(x^{(3)})=b + w_{1}x_{1}^{(3)} + w_{2}x_{2}^{(3)} + w_{3}x_{3}^{(3)} + w_{4}x_{4}^{(3)}$$\n",
    "$$$$\n",
    "$$f_{w,b}(x^{(1)})=b + w_{1}1000 + w_{2}3 + w_{3}2 + w_{4}20$$\n",
    "$$f_{w,b}(x^{(2)})=b + w_{1}1500 + w_{2}4 + w_{3}3 + w_{4}25$$\n",
    "$$f_{w,b}(x^{(3)})=b + w_{1}2000 + w_{2}5 + w_{3}3 + w_{4}30$$\n",
    "$$$$\n",
    "Assuming: $$w_1 = 100, w_2 = 4, w_3 = 3, w_4=20, b = 50000$$\n",
    "$$$$\n",
    "$$f_{w,b}(x^{(1)})=50000 + 100 \\times 1000 + 4 \\times 3 + 3 \\times 2 + 20 \\times 20$$\n",
    "$$f_{w,b}(x^{(2)})=50000 + 100 \\times 1500 + 4 \\times 4 + 3 \\times 3 + 20 \\times 25$$\n",
    "$$f_{w,b}(x^{(3)})=50000 + 100 \\times 2000 + 4 \\times 5 + 3 \\times 3 + 20 \\times 30$$\n",
    "$$$$\n",
    "$$J(\\vec w, b) = \\frac{1}{2m} \\sum\\limits_{i=0}^{m-1} \\left(\\left(b + \\sum\\limits_{j=0}^{n-1} \\vec w_{j} \\vec x_{j}^{(i)} \\right)-y^{(i)}\\right)^{2}$$\n",
    "$$$$\n",
    "$$J(\\vec w, b) = \\frac{1}{2m} \\left(\\left(50000 + 100 \\times 1000 + 4 \\times 3 + 3 \\times 2 + 20 \\times 20 \\right) - 250\\right)^2$$  \n",
    "$$+ \\left(\\left(50000 + 100 \\times 1500 + 4 \\times 4 + 3 \\times 3 + 20 \\times 25 \\right) - 300\\right)^2 + \\left(\\left(50000 + 100 \\times 2000 + 4 \\times 5 + 3 \\times 3 + 20 \\times 30 \\right) - 350\\right)^2$$\n",
    "\n"
   ]
  },
  {
   "cell_type": "code",
   "execution_count": 211,
   "id": "7999a585-88f2-412c-b145-e5af9e4223c9",
   "metadata": {},
   "outputs": [
    {
     "data": {
      "text/plain": [
       "20880009448.333332"
      ]
     },
     "execution_count": 211,
     "metadata": {},
     "output_type": "execute_result"
    }
   ],
   "source": [
    "expected_ans = (((100*1000)+(4*3)+(3*2)+(20*20)+50000) - 250) **2 +(((100*1500)+(4*4)+(3*3)+(20*25)+50000)-300) ** 2+(((100*2000)+(4*5)+(3*3)+(20*30)+50000)-350)**2\n",
    "expected_ans = expected_ans * (1/(2*3))\n",
    "expected_ans "
   ]
  },
  {
   "cell_type": "code",
   "execution_count": 212,
   "id": "f7a35231-5719-4539-bee4-edc0d20bcf31",
   "metadata": {},
   "outputs": [
    {
     "data": {
      "text/plain": [
       "array([[1000,    3,    2,   20],\n",
       "       [1500,    4,    3,   25],\n",
       "       [2000,    5,    3,   30]])"
      ]
     },
     "execution_count": 212,
     "metadata": {},
     "output_type": "execute_result"
    }
   ],
   "source": [
    "X_train = dfx.to_numpy()\n",
    "X_train"
   ]
  },
  {
   "cell_type": "code",
   "execution_count": 213,
   "id": "89c757f6-7641-42a1-ae71-c5e246d0d4cd",
   "metadata": {},
   "outputs": [
    {
     "data": {
      "text/plain": [
       "array([[250],\n",
       "       [300],\n",
       "       [350]])"
      ]
     },
     "execution_count": 213,
     "metadata": {},
     "output_type": "execute_result"
    }
   ],
   "source": [
    "y_train = dfy.to_numpy()\n",
    "y_train"
   ]
  },
  {
   "cell_type": "code",
   "execution_count": 214,
   "id": "7d2cae0e-01e7-437b-a6f7-d9012acaeb80",
   "metadata": {},
   "outputs": [
    {
     "data": {
      "text/plain": [
       "(4, 1)"
      ]
     },
     "execution_count": 214,
     "metadata": {},
     "output_type": "execute_result"
    }
   ],
   "source": [
    "b = 50000\n",
    "w = np.array([100,4,3,20]).reshape([4,1])\n",
    "w.shape"
   ]
  },
  {
   "cell_type": "code",
   "execution_count": 215,
   "id": "b31025f3-a29b-44e3-a374-7b49714fd574",
   "metadata": {},
   "outputs": [
    {
     "data": {
      "text/plain": [
       "array([[100],\n",
       "       [  4],\n",
       "       [  3],\n",
       "       [ 20]])"
      ]
     },
     "execution_count": 215,
     "metadata": {},
     "output_type": "execute_result"
    }
   ],
   "source": [
    "w"
   ]
  },
  {
   "cell_type": "code",
   "execution_count": 216,
   "id": "982cda5b-8b77-4ed5-a3db-3aac0d7ca4b5",
   "metadata": {},
   "outputs": [
    {
     "data": {
      "text/plain": [
       "20880009448.333332"
      ]
     },
     "execution_count": 216,
     "metadata": {},
     "output_type": "execute_result"
    }
   ],
   "source": [
    "cost = cost_function_beta2(X_train,y_train,b,w)\n",
    "cost"
   ]
  },
  {
   "cell_type": "markdown",
   "id": "c102dc19-2bdd-4312-988d-7e80bdce906d",
   "metadata": {},
   "source": [
    "**Expected Answer:** 20880009448.333332"
   ]
  },
  {
   "cell_type": "markdown",
   "id": "23165b02-1b7d-4079-88d3-9b7607d3692d",
   "metadata": {
    "jp-MarkdownHeadingCollapsed": true
   },
   "source": [
    "#### Example F: Use the function for multiple features on single features"
   ]
  },
  {
   "cell_type": "code",
   "execution_count": 217,
   "id": "f8865287-a959-43bb-913d-3a0a58be59d0",
   "metadata": {},
   "outputs": [],
   "source": [
    "x = np.array([100.,200.,300.],dtype=np.float64).reshape([3,1])\n",
    "y = np.array([100.,200.,300.],dtype=np.float64).reshape([3,1])\n",
    "w = np.array([5]).reshape([1,1])\n",
    "b = 0"
   ]
  },
  {
   "cell_type": "code",
   "execution_count": 218,
   "id": "2f42bc88-211e-42af-a96d-8e71e9125678",
   "metadata": {},
   "outputs": [
    {
     "data": {
      "text/plain": [
       "373333.3333333333"
      ]
     },
     "execution_count": 218,
     "metadata": {},
     "output_type": "execute_result"
    }
   ],
   "source": [
    "costSingle = cost_function_beta2(x,y,b,w)\n",
    "costSingle"
   ]
  },
  {
   "cell_type": "markdown",
   "id": "a13ff1ad-c2d8-4844-bb82-c085ce98c491",
   "metadata": {},
   "source": [
    "**Thus, we can use the same vectorized function for Single or Multiple Features.**"
   ]
  },
  {
   "cell_type": "markdown",
   "id": "293dd158-7f49-4548-a93f-64d35dcae43d",
   "metadata": {
    "jp-MarkdownHeadingCollapsed": true
   },
   "source": [
    "### Final Cost Function"
   ]
  },
  {
   "cell_type": "code",
   "execution_count": 219,
   "id": "8c07af27-9cf0-496e-90d6-12736a458d5f",
   "metadata": {},
   "outputs": [],
   "source": [
    "# Cost Function\n",
    "def cost_function(X,y,b,w):\n",
    "    '''\n",
    "    Actual cost function for both single and multiple features\n",
    "    X = matrix of training data, each training examples in rows (m) and features in column (n), \n",
    "        Single feature data must be in m by 1 vector, where m is total number of training examples.\n",
    "    y = m by 1 vector, where m is total number of training examples.\n",
    "    b = scalar\n",
    "    w = n by 1 vector, where n is total number of features\n",
    "    '''\n",
    "    \n",
    "    m = X.shape[0]\n",
    "    fx = (X@w)+b\n",
    "    lossFunction = (fx - y) ** 2\n",
    "    RSS = lossFunction.sum()\n",
    "    cost = (1 / (2 * m)) * RSS\n",
    "\n",
    "    return cost"
   ]
  },
  {
   "cell_type": "code",
   "execution_count": 220,
   "id": "7bb447f8-cc0b-4943-9caf-1d8449362dc0",
   "metadata": {},
   "outputs": [
    {
     "data": {
      "text/plain": [
       "array([[10],\n",
       "       [ 3]])"
      ]
     },
     "execution_count": 220,
     "metadata": {},
     "output_type": "execute_result"
    }
   ],
   "source": [
    "X_train = np.array([100,3,200,4]).reshape([2,2])\n",
    "y_train = np.array([100,200]).reshape([2,1])\n",
    "w = np.array([10,3]).reshape([2,1])\n",
    "b = 0\n",
    "w"
   ]
  },
  {
   "cell_type": "code",
   "execution_count": 221,
   "id": "a41653fb-0d4f-4285-8c2c-8857badf6b44",
   "metadata": {},
   "outputs": [
    {
     "name": "stdout",
     "output_type": "stream",
     "text": [
      "[1027406.25]\n",
      "1.11 ms ± 0 ns per loop (mean ± std. dev. of 1 run, 1 loop each)\n"
     ]
    }
   ],
   "source": [
    "%%timeit -r 1 -n 1\n",
    "costLoop = cost_function_loopv2(X_train,y_train,b,w)\n",
    "print(costLoop)"
   ]
  },
  {
   "cell_type": "code",
   "execution_count": 222,
   "id": "3476ffe5-540a-45e1-a9cb-ae2da1ef4c0a",
   "metadata": {},
   "outputs": [
    {
     "name": "stdout",
     "output_type": "stream",
     "text": [
      "1027406.25\n",
      "1.43 ms ± 0 ns per loop (mean ± std. dev. of 1 run, 1 loop each)\n"
     ]
    }
   ],
   "source": [
    "%%timeit -r 1 -n 1\n",
    "costFunction = cost_function(X_train,y_train,b,w)\n",
    "print(costFunction)"
   ]
  },
  {
   "cell_type": "markdown",
   "id": "b2bbce1d-aae2-4d4d-bf56-d20c0130eced",
   "metadata": {},
   "source": [
    "The timing confirm that matrix computation is much faster."
   ]
  },
  {
   "cell_type": "markdown",
   "id": "ea092cb7",
   "metadata": {},
   "source": [
    "## End of Note 8"
   ]
  },
  {
   "cell_type": "code",
   "execution_count": null,
   "id": "dba0d0f3-1460-42de-ae9f-7098606b08b7",
   "metadata": {},
   "outputs": [],
   "source": []
  }
 ],
 "metadata": {
  "kernelspec": {
   "display_name": "Python 3 (ipykernel)",
   "language": "python",
   "name": "python3"
  },
  "language_info": {
   "codemirror_mode": {
    "name": "ipython",
    "version": 3
   },
   "file_extension": ".py",
   "mimetype": "text/x-python",
   "name": "python",
   "nbconvert_exporter": "python",
   "pygments_lexer": "ipython3",
   "version": "3.10.13"
  }
 },
 "nbformat": 4,
 "nbformat_minor": 5
}
