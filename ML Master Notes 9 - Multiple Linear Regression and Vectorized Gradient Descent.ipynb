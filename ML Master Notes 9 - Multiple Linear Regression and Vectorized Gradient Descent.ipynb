{
 "cells": [
  {
   "cell_type": "markdown",
   "id": "7734d10a",
   "metadata": {},
   "source": [
    "# Machine Learning Master Notes 9 - Multiple Linear Regression and Vectorized Gradient Descent"
   ]
  },
  {
   "cell_type": "markdown",
   "id": "d01652e1-13c0-4cf9-851b-38876ac83710",
   "metadata": {},
   "source": [
    "### Prepare Environment"
   ]
  },
  {
   "cell_type": "code",
   "execution_count": 1,
   "id": "1cec6739",
   "metadata": {},
   "outputs": [],
   "source": [
    "%matplotlib inline\n",
    "import numpy as np\n",
    "import pandas as pd\n",
    "import matplotlib.pyplot as plt\n",
    "from matplotlib.gridspec import GridSpec\n",
    "from matplotlib import cm"
   ]
  },
  {
   "cell_type": "markdown",
   "id": "3b6ae085-6c94-4d85-ab67-da5a908ec939",
   "metadata": {},
   "source": [
    "## Application of Gradient Descent using Matrix Computation"
   ]
  },
  {
   "cell_type": "markdown",
   "id": "6ece1838-b1a9-41a1-9ff8-8e0a9e0e64b6",
   "metadata": {},
   "source": [
    "Hypothesis: $$f_{\\vec{w},b}(\\vec{X}^{(i)})=b + \\sum\\limits_{j=0}^{n-1} \\vec{w}_{j}\\vec{X}_{j}^{(i)}$$\n",
    "\n",
    "\n",
    "Cost Function:\t$$J(\\vec w, b) = \\frac{1}{2m}   \\sum\\limits_{i=0}^{m-1} (f_{\\vec w,b}(\\vec{X}^{(i)})-\\vec y^{(i)})^{2}$$ \n",
    "$$J(\\vec w, b) = \\frac{1}{2m} \\sum\\limits_{i=0}^{m-1} \\left(\\left(b + \\sum\\limits_{j=0}^{n-1} \\vec w_{j} \\vec X_{j}^{(i)} \\right)-\\vec y^{(i)}\\right)^{2}$$\n",
    "$$J(\\vec w, b) = \\frac{1}{2m} \\sum\\limits_{i=0}^{m-1} \\left(\\left(b + \\vec X^{(i)} \\cdot \\vec w \\right)-\\vec y^{(i)}\\right)^{2}$$\n",
    "$$$$\n",
    "Gradient Descent Algorithm: $$\\begin{align*} \\text{repeat}&\\text{ until convergence:} \\; \\lbrace \\newline\n",
    "\\;  \\vec w &= \\vec w -  \\alpha \\frac{\\partial J(\\vec{w},b)}{\\partial \\vec{w}}  \\; \\newline \n",
    " b &= b -  \\alpha \\frac{\\partial J(\\vec{w},b)}{\\partial b}  \\newline \\rbrace\n",
    "\\end{align*}$$\n",
    "\n",
    "\n",
    "Partial Derivatives: $$\n",
    "\\begin{align}\n",
    "\\frac{\\partial J(\\vec{w}_1,b)}{\\partial \\vec{w}_1}  &= \\frac{1}{m} \\sum\\limits_{i = 0}^{m-1} (f_{\\vec{w}_1,b}(x_1^{(i)}) - y^{(i)})x_1^{(i)} \\\\\n",
    "\\frac{\\partial J(\\vec{w}_2,b)}{\\partial \\vec{w}_2}  &= \\frac{1}{m} \\sum\\limits_{i = 0}^{m-1} (f_{\\vec{w}_1,b}(x_2^{(i)}) - y^{(i)})x_2^{(i)} \\\\\n",
    "... \\\\\n",
    "\\frac{\\partial J(\\vec{w}_n,b)}{\\partial \\vec{w}_n}  &= \\frac{1}{m} \\sum\\limits_{i = 0}^{m-1} (f_{\\vec{w}_1,b}(x_n^{(i)}) - y^{(i)})x_n^{(i)} \\\\\n",
    "  \\frac{\\partial J(\\vec{w},b)}{\\partial b}  &= \\frac{1}{m} \\sum\\limits_{i = 0}^{m-1} (f_{\\vec{w},b}(\\vec{X}^{(i)}) - y^{(i)}) \\\\\n",
    "\\end{align}\n",
    "$$\n",
    "\n",
    "Partial Derivatives: $$\n",
    "\\begin{align}\n",
    "\\frac{\\partial J(\\vec{w},b)}{\\partial \\vec{w}}  &= \\frac{1}{m} \\sum\\limits_{i = 0}^{m-1} (f_{\\vec{w},b}(\\vec{X}^{(i)}) - y^{(i)})\\vec{X}^{(i)} \\\\\n",
    "  \\frac{\\partial J(\\vec{w},b)}{\\partial b}  &= \\frac{1}{m} \\sum\\limits_{i = 0}^{m-1} (f_{\\vec{w},b}(\\vec{X}^{(i)}) - y^{(i)}) \\\\\n",
    "\\end{align}\n",
    "$$\n",
    "\n",
    "Full Implementation of Gradient Descent:\n",
    "$$\\begin{align*} \\text{repeat}&\\text{ until convergence:} \\; \\lbrace \\newline\n",
    "\\;  \\vec{w} &= \\vec{w} -  \\alpha \\frac{1}{m} \\sum\\limits_{i = 0}^{m-1} ((\\vec{X}^{(i)}\\cdot \\vec{w} + b) - y^{(i)})\\vec{X}^{(i)}  \\; \\newline \n",
    " b &= b -  \\alpha \\frac{1}{m} \\sum\\limits_{i = 0}^{m-1} ((\\vec{X}^{(i)}\\cdot \\vec{w} + b) - y^{(i)})  \\newline \\rbrace\n",
    "\\end{align*}$$"
   ]
  },
  {
   "cell_type": "markdown",
   "id": "b5f18a4f-1c1d-4831-82dc-c582e43d6374",
   "metadata": {},
   "source": [
    "### Example"
   ]
  },
  {
   "cell_type": "markdown",
   "id": "8fb6aca5-0d3c-4863-a254-a4abc5f4f511",
   "metadata": {},
   "source": [
    "The following training dataset contains three examples with four features (size, bedrooms, floors and, age) shown in the table below. \n",
    "\n",
    "| Size (sqft) | Number of Bedrooms  | Number of floors | Age of  Home | Price (1000s dollars)  |   \n",
    "| ----------------| ------------------- |----------------- |--------------|-------------- |  \n",
    "| 2104            | 5                   | 1                | 45           | 460           |  \n",
    "| 1416            | 3                   | 2                | 40           | 232           |  \n",
    "| 852             | 2                   | 1                | 35           | 178           |  \n",
    "\n",
    "We will first develop cost function and gradient descent function using traditional loops."
   ]
  },
  {
   "cell_type": "code",
   "execution_count": 2,
   "id": "da7aeb20-165d-4cfb-8519-e93c82cc59ab",
   "metadata": {},
   "outputs": [],
   "source": [
    "X_train = np.array([[2104, 5, 1, 45], [1416, 3, 2, 40], [852, 2, 1, 35]]).reshape((3,4))\n",
    "y_train = np.array([460, 232, 178]).reshape((3,1))"
   ]
  },
  {
   "cell_type": "markdown",
   "id": "0aca479a-76e6-4c24-8d4b-bfd7a5a9fcb3",
   "metadata": {},
   "source": [
    "### Using Loop Function on Gradient Descent for Multiple Features"
   ]
  },
  {
   "cell_type": "code",
   "execution_count": 3,
   "id": "0d18e8f1-69e2-4583-817a-a6cd86bb0b23",
   "metadata": {},
   "outputs": [],
   "source": [
    "def cost_function_loopv2(x,y,b,w):\n",
    "    m = x.shape[0]\n",
    "    n = w.shape[0]\n",
    "    sumAll = 0.\n",
    "\n",
    "    # for each training example\n",
    "    for i in range(m):\n",
    "\n",
    "        # Multiply and sum all the features for example i\n",
    "        sumFeatures = 0\n",
    "        for j in range(n):\n",
    "            sumFeatures += w[j] * x[i][j]\n",
    "        \n",
    "        fx = sumFeatures + b\n",
    "        costEachTrainingExample = (fx - y[i]) ** 2\n",
    "        sumAll += costEachTrainingExample\n",
    "\n",
    "    return (1 / (2 * m)) * sumAll"
   ]
  },
  {
   "cell_type": "code",
   "execution_count": 4,
   "id": "2cbe55e5-3894-4bd6-9d18-969f065f7a75",
   "metadata": {},
   "outputs": [],
   "source": [
    "def compute_gradient_loopv2(X,y,b,w):\n",
    "    \n",
    "    # Total number of data points\n",
    "    m = X.shape[0]\n",
    "    n = X.shape[1]\n",
    "\n",
    "    # Initialization of Variables \n",
    "    db = 0\n",
    "    dw = np.zeros((n,1))\n",
    "    temp_db = 0\n",
    "    temp_dw = np.zeros((n,1))\n",
    "\n",
    "    # For each training examples\n",
    "    for i in range(m):\n",
    "\n",
    "        # For each features\n",
    "        sumFeatures = 0\n",
    "        # Sum for each features\n",
    "        for j in range(n):\n",
    "            sumFeatures += w[j] * X[i][j]\n",
    "        \n",
    "        fx = sumFeatures + b\n",
    "        # Compute partial derivatives of dw\n",
    "        for j in range(n):\n",
    "            temp_dw[j] += (fx - y[i]) * X[i][j]\n",
    "        \n",
    "        temp_db += (fx - y[i])\n",
    "\n",
    "            \n",
    "    \n",
    "    db = temp_db/m \n",
    "    dw = temp_dw/m\n",
    "\n",
    "    return db, dw"
   ]
  },
  {
   "cell_type": "code",
   "execution_count": 5,
   "id": "78130932-2d94-4db4-a134-146f06b639bd",
   "metadata": {},
   "outputs": [],
   "source": [
    "def prediction_fx_loop(X,b,w):\n",
    "    m = X.shape[0]\n",
    "    n = X.shape[1]\n",
    "    y_predict = np.zeros((m,1))\n",
    "    sumXw  = 0\n",
    "    for i in range(m):\n",
    "        sumXw = 0\n",
    "        for j in range(n):\n",
    "            sumXw += (X[i][j] * w[j])\n",
    "        sumXw + b\n",
    "        y_predict[i] = sumXw + b\n",
    "    return y_predict"
   ]
  },
  {
   "cell_type": "code",
   "execution_count": 6,
   "id": "5e302050-7d1c-4f05-b83d-d65ff26342fd",
   "metadata": {},
   "outputs": [],
   "source": [
    "b_init = 785.1811367994083\n",
    "w_init = np.array([ 0.39133535, 18.75376741, -53.36032453, -26.42131618]).reshape([4,1])"
   ]
  },
  {
   "cell_type": "code",
   "execution_count": 7,
   "id": "3ad19a95-04c9-4aed-8dd2-b6ffaf0b92b7",
   "metadata": {},
   "outputs": [
    {
     "data": {
      "text/plain": [
       "array([[2104,    5,    1,   45]])"
      ]
     },
     "execution_count": 7,
     "metadata": {},
     "output_type": "execute_result"
    }
   ],
   "source": [
    "first_row = X_train[0].reshape([1,4])\n",
    "first_row"
   ]
  },
  {
   "cell_type": "code",
   "execution_count": 8,
   "id": "9b0a4d06-7a38-4058-b778-b2ed1fed28e8",
   "metadata": {},
   "outputs": [
    {
     "data": {
      "text/plain": [
       "array([[459.99999762]])"
      ]
     },
     "execution_count": 8,
     "metadata": {},
     "output_type": "execute_result"
    }
   ],
   "source": [
    "prediction_fx_loop(first_row,b_init,w_init)"
   ]
  },
  {
   "cell_type": "markdown",
   "id": "368df3d7-a7e6-421d-a8a7-3db9ecce068c",
   "metadata": {},
   "source": [
    "**Expected Result**: First row of data prediction using init_b and init_w: 460"
   ]
  },
  {
   "cell_type": "code",
   "execution_count": 9,
   "id": "2ced5a6c-1656-472b-8ad8-9f52766088dc",
   "metadata": {},
   "outputs": [
    {
     "data": {
      "text/plain": [
       "array([1.55789044e-12])"
      ]
     },
     "execution_count": 9,
     "metadata": {},
     "output_type": "execute_result"
    }
   ],
   "source": [
    "cost_function_loopv2(X_train,y_train,b_init,w_init)"
   ]
  },
  {
   "cell_type": "markdown",
   "id": "ac10b0ae-3688-4895-b47b-3e9e6a28d91a",
   "metadata": {},
   "source": [
    "**Expected Result**: Cost at optimal w : 1.5578904045996674e-12"
   ]
  },
  {
   "cell_type": "code",
   "execution_count": 10,
   "id": "37772136-53ed-4ec5-9235-8f7ff246087b",
   "metadata": {},
   "outputs": [
    {
     "data": {
      "text/plain": [
       "array([-1.67392515e-06])"
      ]
     },
     "execution_count": 10,
     "metadata": {},
     "output_type": "execute_result"
    }
   ],
   "source": [
    "dj_db, dj_dw = compute_gradient_loopv2(X_train, y_train, b_init, w_init)\n",
    "dj_db"
   ]
  },
  {
   "cell_type": "code",
   "execution_count": 11,
   "id": "c945870e-f739-4f74-8d02-60c4aa2f4f5b",
   "metadata": {},
   "outputs": [
    {
     "data": {
      "text/plain": [
       "array([[-2.72623577e-03],\n",
       "       [-6.27197263e-06],\n",
       "       [-2.21745578e-06],\n",
       "       [-6.92403391e-05]])"
      ]
     },
     "execution_count": 11,
     "metadata": {},
     "output_type": "execute_result"
    }
   ],
   "source": [
    "dj_dw"
   ]
  },
  {
   "cell_type": "markdown",
   "id": "a243e01a-9a6e-4ed7-a322-470df32998ea",
   "metadata": {},
   "source": [
    "<details>\n",
    "<summary>\n",
    "    <font size='3'><b>Expected Results</b></font>\n",
    "</summary>\n",
    "    <p>\n",
    "    <ul>\n",
    "        <li>dj_db at initial w,b: -1.6739251122999121e-06</li>  \n",
    "        <li>dj_dw at initial w,b: [-2.73e-03 -6.27e-06 -2.22e-06 -6.92e-05]  </li>\n",
    "    </ul>\n",
    "    </p>"
   ]
  },
  {
   "cell_type": "code",
   "execution_count": 12,
   "id": "00235455-891d-4178-a7b8-30a5e6149862",
   "metadata": {},
   "outputs": [],
   "source": [
    "def compute_gradient_descent_loopv2(X, y, iterations=10000, init_b=0., init_w=0., alpha=0.01, printProgress=False, printProgressRate = 1000):\n",
    "\n",
    "    # Initialization of variables\n",
    "    db = 0\n",
    "    dw = 0\n",
    "\n",
    "    b = init_b\n",
    "    w = init_w.copy()\n",
    "    \n",
    "    cost_history = []\n",
    "    w_history = []\n",
    "    b_history = []\n",
    "\n",
    "    \n",
    "    for j in range(iterations):\n",
    "\n",
    "        # Compute Partial Derivatives\n",
    "        db, dw = compute_gradient_loopv2(X,y,b,w) \n",
    "\n",
    "        b = b - (alpha * db)\n",
    "        w = w - (alpha * dw)\n",
    "        \n",
    "        cost = cost_function_loopv2(X,y,b,w)\n",
    "        \n",
    "        cost_history.append(cost)\n",
    "        w_history.append(w)\n",
    "        b_history.append(b)\n",
    "\n",
    "        if printProgress == True:\n",
    "            if j % printProgressRate == 0:\n",
    "                print(f\"iteration {j}: cost = {cost[0]:.4e}\")\n",
    "    \n",
    "    print('best w', np.round(w, 4))\n",
    "    print('best b', np.round(b, 4)) \n",
    "\n",
    "    return w, b, cost_history, w_history, b_history"
   ]
  },
  {
   "cell_type": "code",
   "execution_count": 13,
   "id": "d6a861b3-4ae1-4207-85d7-a6368fb40d95",
   "metadata": {},
   "outputs": [],
   "source": [
    "b_init = 785.1811367994083\n",
    "w_init = np.array([ 0.39133535, 18.75376741, -53.36032453, -26.42131618]).reshape([4,1])"
   ]
  },
  {
   "cell_type": "code",
   "execution_count": 14,
   "id": "bd65a59c-f18c-448f-9ea6-a7975aec3721",
   "metadata": {},
   "outputs": [],
   "source": [
    "initial_w = np.zeros_like(w_init)\n",
    "initial_b = 0.\n",
    "iterations = 1000\n",
    "alpha = 5.0e-7"
   ]
  },
  {
   "cell_type": "code",
   "execution_count": 15,
   "id": "5a2d03e6-844f-425f-bba1-3e386b6876bd",
   "metadata": {},
   "outputs": [
    {
     "name": "stdout",
     "output_type": "stream",
     "text": [
      "iteration 0: cost = 2.5295e+03\n",
      "iteration 100: cost = 6.9599e+02\n",
      "iteration 200: cost = 6.9492e+02\n",
      "iteration 300: cost = 6.9386e+02\n",
      "iteration 400: cost = 6.9281e+02\n",
      "iteration 500: cost = 6.9177e+02\n",
      "iteration 600: cost = 6.9073e+02\n",
      "iteration 700: cost = 6.8971e+02\n",
      "iteration 800: cost = 6.8870e+02\n",
      "iteration 900: cost = 6.8769e+02\n",
      "best w [[ 0.204 ]\n",
      " [ 0.0037]\n",
      " [-0.0112]\n",
      " [-0.0659]]\n",
      "best b [-0.0022]\n"
     ]
    }
   ],
   "source": [
    "w1, b1, cost_history1, w_history1, b_history1 = compute_gradient_descent_loopv2(X_train, y_train, iterations = iterations, init_b=initial_b, init_w = initial_w, \n",
    "                                                                                alpha = alpha, printProgress = True, printProgressRate = 100)"
   ]
  },
  {
   "cell_type": "code",
   "execution_count": 16,
   "id": "d42ed444-0f5b-42ef-bb91-eb6e33f83814",
   "metadata": {},
   "outputs": [
    {
     "data": {
      "text/plain": [
       "array([[ 0.20396569],\n",
       "       [ 0.00374919],\n",
       "       [-0.0112487 ],\n",
       "       [-0.0658614 ]])"
      ]
     },
     "execution_count": 16,
     "metadata": {},
     "output_type": "execute_result"
    }
   ],
   "source": [
    "w1"
   ]
  },
  {
   "cell_type": "code",
   "execution_count": 17,
   "id": "ed879e82-fe7a-4620-9bd4-3423fb40c3fe",
   "metadata": {},
   "outputs": [
    {
     "data": {
      "text/plain": [
       "array([-0.00223541])"
      ]
     },
     "execution_count": 17,
     "metadata": {},
     "output_type": "execute_result"
    }
   ],
   "source": [
    "b1"
   ]
  },
  {
   "cell_type": "markdown",
   "id": "c257f71c-5961-446a-972d-48507fabaf83",
   "metadata": {},
   "source": [
    "<details>\n",
    "<summary>\n",
    "    <font size='3'><b>Expected Results</b></font>\n",
    "</summary>\n",
    "    <p>\n",
    "    <ul>\n",
    "        <li>b,w found by gradient descent</li>\n",
    "        <li>b: -0.00</li>  \n",
    "        <li>w: [ 0.2   0.0   -0.01 -0.07] </li>\n",
    "    </ul>\n",
    "    </p>"
   ]
  },
  {
   "cell_type": "code",
   "execution_count": 18,
   "id": "320a381b-47fa-4875-b6e3-a899090d9da8",
   "metadata": {},
   "outputs": [
    {
     "data": {
      "text/plain": [
       "array([[2104,    5,    1,   45],\n",
       "       [1416,    3,    2,   40],\n",
       "       [ 852,    2,    1,   35]])"
      ]
     },
     "execution_count": 18,
     "metadata": {},
     "output_type": "execute_result"
    }
   ],
   "source": [
    "X_train"
   ]
  },
  {
   "cell_type": "code",
   "execution_count": 19,
   "id": "985c05cb-784f-4b90-b1d6-0c9140d10203",
   "metadata": {},
   "outputs": [
    {
     "data": {
      "text/plain": [
       "array([[426.18530497],\n",
       "       [286.16747201],\n",
       "       [171.46763087]])"
      ]
     },
     "execution_count": 19,
     "metadata": {},
     "output_type": "execute_result"
    }
   ],
   "source": [
    "prediction_fx_loop(X_train,b1,w1)"
   ]
  },
  {
   "cell_type": "markdown",
   "id": "4ac3f6b9-4760-4e36-a1ca-b3b870f052de",
   "metadata": {},
   "source": [
    "**Expected Result**:    \n",
    " prediction: 426.19, target value: 460  \n",
    "prediction: 286.17, target value: 232  \n",
    "prediction: 171.47, target value: 178 "
   ]
  },
  {
   "cell_type": "markdown",
   "id": "3afa57b7-2743-4cc8-84f5-c69c51072180",
   "metadata": {},
   "source": [
    "### Using Vectorized Gradient Descent for Multiple Features"
   ]
  },
  {
   "cell_type": "code",
   "execution_count": 20,
   "id": "1ae3c823-0e5e-49d6-826b-068fe87905ac",
   "metadata": {},
   "outputs": [],
   "source": [
    "# Cost Function\n",
    "def cost_function(X,y,b,w):\n",
    "    '''\n",
    "    Actual cost function for both single and multiple features\n",
    "    X = matrix of training data, each training examples in rows (m) and features in column (n), \n",
    "        Single feature data must be in m by 1 vector, where m is total number of training examples.\n",
    "    y = m by 1 vector, where m is total number of training examples.\n",
    "    b = scalar\n",
    "    w = n by 1 vector, where n is total number of features\n",
    "    '''\n",
    "    \n",
    "    m = X.shape[0]\n",
    "    fx = (X@w)+b\n",
    "    lossFunction = (fx - y) ** 2\n",
    "    RSS = lossFunction.sum()\n",
    "    cost = (1 / (2 * m)) * RSS\n",
    "\n",
    "    return cost"
   ]
  },
  {
   "cell_type": "code",
   "execution_count": 21,
   "id": "34ebf41e-6f80-43f1-a9d3-903f73f941c1",
   "metadata": {},
   "outputs": [],
   "source": [
    "# Matrix Computation Beta\n",
    "def compute_gradient_beta(X,y,b,w):\n",
    "    \n",
    "    # total number of features\n",
    "    n = w.shape[0]\n",
    "\n",
    "    # Initialization of Variables \n",
    "    db = 0\n",
    "    dw = 0\n",
    "    temp_db = 0\n",
    "    temp_dw = 0\n",
    "\n",
    "    # Matrix computation\n",
    "    fx = ((X@w) + b)\n",
    "    temp_dw = (fx - y) * X\n",
    "    temp_db = (fx - y)\n",
    "    \n",
    "    db = temp_db.mean() \n",
    "    dw = temp_dw.mean(axis=0).reshape([n,1]) \n",
    "\n",
    "    return db, dw"
   ]
  },
  {
   "cell_type": "code",
   "execution_count": 22,
   "id": "10561bb6-59c4-48fa-9cd8-8d8e98aecf1a",
   "metadata": {},
   "outputs": [],
   "source": [
    "def fx_prediction_beta(X,b,w):\n",
    "    y_predict = (X@w) + b\n",
    "    return y_predict"
   ]
  },
  {
   "cell_type": "code",
   "execution_count": 23,
   "id": "9249c05d-5389-412f-86a0-bff73f26ca87",
   "metadata": {},
   "outputs": [],
   "source": [
    "X_train = np.array([[2104, 5, 1, 45], [1416, 3, 2, 40], [852, 2, 1, 35]]).reshape([3,4])\n",
    "y_train = np.array([460, 232, 178]).reshape([3,1])"
   ]
  },
  {
   "cell_type": "code",
   "execution_count": 24,
   "id": "0c3e60d4-1ce0-44fe-9bee-e6c721b3fd9a",
   "metadata": {},
   "outputs": [
    {
     "data": {
      "text/plain": [
       "array([[2104,    5,    1,   45],\n",
       "       [1416,    3,    2,   40],\n",
       "       [ 852,    2,    1,   35]])"
      ]
     },
     "execution_count": 24,
     "metadata": {},
     "output_type": "execute_result"
    }
   ],
   "source": [
    "X_train"
   ]
  },
  {
   "cell_type": "code",
   "execution_count": 25,
   "id": "35a8c1c9-e496-46b1-806e-20eca8b74f70",
   "metadata": {},
   "outputs": [
    {
     "data": {
      "text/plain": [
       "array([[460],\n",
       "       [232],\n",
       "       [178]])"
      ]
     },
     "execution_count": 25,
     "metadata": {},
     "output_type": "execute_result"
    }
   ],
   "source": [
    "y_train"
   ]
  },
  {
   "cell_type": "code",
   "execution_count": 26,
   "id": "97fdcd82-3a67-49f4-a0f3-f66567904980",
   "metadata": {},
   "outputs": [],
   "source": [
    "b_init = 785.1811367994083\n",
    "w_init = np.array([ 0.39133535, 18.75376741, -53.36032453, -26.42131618]).reshape([4,1])"
   ]
  },
  {
   "cell_type": "code",
   "execution_count": 27,
   "id": "c52b63a1-5096-4c2f-8328-28cc0f21fe74",
   "metadata": {},
   "outputs": [
    {
     "data": {
      "text/plain": [
       "array([[459.99999762]])"
      ]
     },
     "execution_count": 27,
     "metadata": {},
     "output_type": "execute_result"
    }
   ],
   "source": [
    "fx_prediction_beta(X_train[0:1,],b_init,w_init)"
   ]
  },
  {
   "cell_type": "markdown",
   "id": "dfa8a0d6-c9d0-4ba4-89c6-e4bfa8f48b87",
   "metadata": {},
   "source": [
    "**Expected Result**: First row of data prediction using init_b and init_w: 460"
   ]
  },
  {
   "cell_type": "code",
   "execution_count": 28,
   "id": "0d3bf131-f00c-4c50-9a9b-cafc5c56546c",
   "metadata": {},
   "outputs": [
    {
     "data": {
      "text/plain": [
       "array([1.55789044e-12])"
      ]
     },
     "execution_count": 28,
     "metadata": {},
     "output_type": "execute_result"
    }
   ],
   "source": [
    "cost_function_loopv2(X_train,y_train,b_init,w_init)"
   ]
  },
  {
   "cell_type": "code",
   "execution_count": 29,
   "id": "95f56700-ff05-46ff-b67d-2cc73b4f61c8",
   "metadata": {},
   "outputs": [
    {
     "data": {
      "text/plain": [
       "1.5578904330213735e-12"
      ]
     },
     "execution_count": 29,
     "metadata": {},
     "output_type": "execute_result"
    }
   ],
   "source": [
    "cost_function(X_train,y_train,b_init,w_init)"
   ]
  },
  {
   "cell_type": "markdown",
   "id": "a01a9339-eeb5-4280-885e-5fc89d13fb32",
   "metadata": {},
   "source": [
    "**Expected Result**: Cost at optimal w : 1.5578904045996674e-12"
   ]
  },
  {
   "cell_type": "code",
   "execution_count": 30,
   "id": "d071d996-22b5-4f05-978a-a2c48713a855",
   "metadata": {},
   "outputs": [
    {
     "data": {
      "text/plain": [
       "-1.6739251122999121e-06"
      ]
     },
     "execution_count": 30,
     "metadata": {},
     "output_type": "execute_result"
    }
   ],
   "source": [
    "dj_db, dj_dw = compute_gradient_beta(X_train, y_train, b_init, w_init)\n",
    "dj_db"
   ]
  },
  {
   "cell_type": "code",
   "execution_count": 31,
   "id": "c447355e-1009-4556-87ea-130b44e1658f",
   "metadata": {},
   "outputs": [
    {
     "data": {
      "text/plain": [
       "array([[-2.72623577e-03],\n",
       "       [-6.27197263e-06],\n",
       "       [-2.21745571e-06],\n",
       "       [-6.92403379e-05]])"
      ]
     },
     "execution_count": 31,
     "metadata": {},
     "output_type": "execute_result"
    }
   ],
   "source": [
    "dj_dw"
   ]
  },
  {
   "cell_type": "markdown",
   "id": "fd4fd474-159a-4d16-a946-33fab20d6a1c",
   "metadata": {},
   "source": [
    "<details>\n",
    "<summary>\n",
    "    <font size='3'><b>Expected Results</b></font>\n",
    "</summary>\n",
    "    <p>\n",
    "    <ul>\n",
    "        <li>dj_db at initial w,b: -1.6739251122999121e-06</li>  \n",
    "        <li>dj_dw at initial w,b: [-2.73e-03 -6.27e-06 -2.22e-06 -6.92e-05]  </li>\n",
    "    </ul>\n",
    "    </p>"
   ]
  },
  {
   "cell_type": "code",
   "execution_count": 32,
   "id": "c7b5f968",
   "metadata": {},
   "outputs": [],
   "source": [
    "# Matrix Computation Beta\n",
    "def compute_gradient_descent_beta(X, y, iterations=10000, init_b=0., init_w = None, alpha=0.01, printProgress=False, printProgressRate = 1000):\n",
    "\n",
    "    # Initialization of variables\n",
    "    n = X.shape[1]\n",
    "    \n",
    "    db = 0\n",
    "    dw = 0\n",
    "\n",
    "    b = init_b\n",
    "    if np.any(init_w) == None:\n",
    "        w = np.zeros([n,1])\n",
    "    else:\n",
    "        w = init_w.copy()\n",
    "    \n",
    "    cost_history = []\n",
    "    w_history = []\n",
    "    b_history = []\n",
    "\n",
    "    \n",
    "    for j in range(iterations):\n",
    "\n",
    "        # Compute Partial Derivatives\n",
    "        db, dw = compute_gradient_beta(X,y,b,w)\n",
    "\n",
    "        b = b - (alpha * db)\n",
    "        w = w - (alpha * dw)\n",
    "        \n",
    "        cost = cost_function(X,y,b,w)\n",
    "        \n",
    "        cost_history.append(cost)\n",
    "        w_history.append(w)\n",
    "        b_history.append(b)\n",
    "\n",
    "        if printProgress == True:\n",
    "            if j % printProgressRate == 0:\n",
    "                print(f\"iteration {j}: cost = {cost:.4e}\")\n",
    "    \n",
    "    print('best w', np.round(w, 4))\n",
    "    print('best b', np.round(b, 4)) \n",
    "\n",
    "    return w, b, cost_history, w_history, b_history"
   ]
  },
  {
   "cell_type": "code",
   "execution_count": 33,
   "id": "89987c41-4485-4bad-9496-7bfff4948bdd",
   "metadata": {},
   "outputs": [],
   "source": [
    "initial_w = np.zeros_like(w_init)\n",
    "initial_b = 0.\n",
    "iterations = 1000\n",
    "alpha = 5.0e-7"
   ]
  },
  {
   "cell_type": "code",
   "execution_count": 34,
   "id": "f9ea49b5-85a9-4ec1-9bd3-0cd7a20c4de5",
   "metadata": {},
   "outputs": [
    {
     "name": "stdout",
     "output_type": "stream",
     "text": [
      "iteration 0: cost = 2.5295e+03\n",
      "iteration 100: cost = 6.9599e+02\n",
      "iteration 200: cost = 6.9492e+02\n",
      "iteration 300: cost = 6.9386e+02\n",
      "iteration 400: cost = 6.9281e+02\n",
      "iteration 500: cost = 6.9177e+02\n",
      "iteration 600: cost = 6.9073e+02\n",
      "iteration 700: cost = 6.8971e+02\n",
      "iteration 800: cost = 6.8870e+02\n",
      "iteration 900: cost = 6.8769e+02\n",
      "best w [[ 0.204 ]\n",
      " [ 0.0037]\n",
      " [-0.0112]\n",
      " [-0.0659]]\n",
      "best b -0.0022\n"
     ]
    }
   ],
   "source": [
    "w2, b2, cost_history2, w_history2, b_history2 = compute_gradient_descent_beta(X_train, y_train, iterations = iterations, init_b=initial_b, init_w = initial_w, \n",
    "                                                                              alpha = alpha, printProgress=True, printProgressRate=100)"
   ]
  },
  {
   "cell_type": "code",
   "execution_count": 35,
   "id": "b9e15348-5322-40af-9e88-1efdfaf0c727",
   "metadata": {},
   "outputs": [
    {
     "data": {
      "text/plain": [
       "array([[ 0.20396569],\n",
       "       [ 0.00374919],\n",
       "       [-0.0112487 ],\n",
       "       [-0.0658614 ]])"
      ]
     },
     "execution_count": 35,
     "metadata": {},
     "output_type": "execute_result"
    }
   ],
   "source": [
    "w2"
   ]
  },
  {
   "cell_type": "code",
   "execution_count": 36,
   "id": "96d27ba1-de8e-47b4-9ab3-41e627acce86",
   "metadata": {},
   "outputs": [
    {
     "data": {
      "text/plain": [
       "-0.0022354075309325345"
      ]
     },
     "execution_count": 36,
     "metadata": {},
     "output_type": "execute_result"
    }
   ],
   "source": [
    "b2"
   ]
  },
  {
   "cell_type": "markdown",
   "id": "b8d038f9-7a55-4e74-ae3e-750244c6da4c",
   "metadata": {},
   "source": [
    "<details>\n",
    "<summary>\n",
    "    <font size='3'><b>Expected Results</b></font>\n",
    "</summary>\n",
    "    <p>\n",
    "    <ul>\n",
    "        <li>b,w found by gradient descent</li>\n",
    "        <li>b: -0.00</li>  \n",
    "        <li>w: [ 0.2   0.0   -0.01 -0.07] </li>\n",
    "    </ul>\n",
    "    </p> "
   ]
  },
  {
   "cell_type": "code",
   "execution_count": 37,
   "id": "00ec6aba-00fd-4b9b-8fe8-9c180fec9516",
   "metadata": {},
   "outputs": [
    {
     "data": {
      "text/plain": [
       "array([[426.18530497],\n",
       "       [286.16747201],\n",
       "       [171.46763087]])"
      ]
     },
     "execution_count": 37,
     "metadata": {},
     "output_type": "execute_result"
    }
   ],
   "source": [
    "fx_prediction_beta(X_train,b2,w2)"
   ]
  },
  {
   "cell_type": "markdown",
   "id": "b6080f1a-cad8-4d32-ba2f-d200f94254c7",
   "metadata": {},
   "source": [
    "**Expected Result**:    \n",
    " prediction: 426.19, target value: 460  \n",
    "prediction: 286.17, target value: 232  \n",
    "prediction: 171.47, target value: 178  "
   ]
  },
  {
   "cell_type": "code",
   "execution_count": 38,
   "id": "7e71a7ba-a8bf-4469-95bb-3b02e4998663",
   "metadata": {},
   "outputs": [
    {
     "name": "stdout",
     "output_type": "stream",
     "text": [
      "best w [[ 0.204 ]\n",
      " [ 0.0037]\n",
      " [-0.0112]\n",
      " [-0.0659]]\n",
      "best b -0.0022\n",
      "64 ms ± 0 ns per loop (mean ± std. dev. of 1 run, 1 loop each)\n"
     ]
    }
   ],
   "source": [
    "%%timeit -r 1 -n 1\n",
    "compute_gradient_descent_beta(X_train, y_train, iterations = iterations, init_b=initial_b, init_w = initial_w, alpha = alpha)\n",
    "# timeit do not allow comment on first line, also do not capture return"
   ]
  },
  {
   "cell_type": "markdown",
   "id": "08fe5751-0103-4862-94b5-a3b1ba2a81f5",
   "metadata": {},
   "source": [
    "#### Additional Testing on Single Features Gradient Descent : Test Case 1"
   ]
  },
  {
   "cell_type": "code",
   "execution_count": 39,
   "id": "03d7533e-7543-4667-a27c-16401977c65b",
   "metadata": {},
   "outputs": [],
   "source": [
    "x = np.array([1.,2.,3.],dtype=np.float64).reshape((3,1))\n",
    "y = np.array([1.,2.,3.],dtype=np.float64).reshape((3,1))"
   ]
  },
  {
   "cell_type": "code",
   "execution_count": 40,
   "id": "8e15dcbb-b2a9-4e33-b1f0-0d6a6a97bc84",
   "metadata": {},
   "outputs": [
    {
     "name": "stdout",
     "output_type": "stream",
     "text": [
      "iteration 0: cost = 2.0827e+00\n",
      "iteration 1000: cost = 8.7712e-04\n",
      "iteration 2000: cost = 7.9144e-05\n",
      "iteration 3000: cost = 7.1413e-06\n",
      "iteration 4000: cost = 6.4437e-07\n",
      "iteration 5000: cost = 5.8142e-08\n",
      "iteration 6000: cost = 5.2463e-09\n",
      "iteration 7000: cost = 4.7338e-10\n",
      "iteration 8000: cost = 4.2713e-11\n",
      "iteration 9000: cost = 3.8541e-12\n",
      "best w [[1.]]\n",
      "best b 0.0\n"
     ]
    }
   ],
   "source": [
    "w, b, cost_history, w_history, b_history = compute_gradient_descent_beta(x,y, printProgress=True)"
   ]
  },
  {
   "cell_type": "markdown",
   "id": "3bf3a694-1238-49c1-bbad-3b1c37bb96b2",
   "metadata": {},
   "source": [
    "<details>\n",
    "<summary>\n",
    "    <font size='3'><b>Expected Answer</b></font>\n",
    "</summary>\n",
    "    <p>\n",
    "    <ul>\n",
    "        <li>$w = 1$ and $b = 0$ </li>\n",
    "    </ul>\n",
    "    </p>\n"
   ]
  },
  {
   "cell_type": "markdown",
   "id": "17e95294-2006-4b42-b2e2-aeddbfd57267",
   "metadata": {},
   "source": [
    "#### Additional Testing on Single Features : Test Case 2"
   ]
  },
  {
   "cell_type": "code",
   "execution_count": 41,
   "id": "807c373c-e6ad-46fd-8795-84a1b0f7c3bf",
   "metadata": {},
   "outputs": [
    {
     "name": "stdout",
     "output_type": "stream",
     "text": [
      "iteration 0: cost = 7.9275e+04\n",
      "iteration 1000: cost = 3.4125e+00\n",
      "iteration 2000: cost = 7.9290e-01\n",
      "iteration 3000: cost = 1.8423e-01\n",
      "iteration 4000: cost = 4.2805e-02\n",
      "iteration 5000: cost = 9.9458e-03\n",
      "iteration 6000: cost = 2.3109e-03\n",
      "iteration 7000: cost = 5.3694e-04\n",
      "iteration 8000: cost = 1.2476e-04\n",
      "iteration 9000: cost = 2.8987e-05\n",
      "iteration 10000: cost = 6.7352e-06\n",
      "iteration 11000: cost = 1.5649e-06\n",
      "iteration 12000: cost = 3.6361e-07\n",
      "iteration 13000: cost = 8.4484e-08\n",
      "iteration 14000: cost = 1.9630e-08\n",
      "iteration 15000: cost = 4.5610e-09\n",
      "iteration 16000: cost = 1.0597e-09\n",
      "iteration 17000: cost = 2.4623e-10\n",
      "iteration 18000: cost = 5.7211e-11\n",
      "iteration 19000: cost = 1.3293e-11\n",
      "best w [[200.]]\n",
      "best b 100.0\n"
     ]
    }
   ],
   "source": [
    "x2 = np.array([1.0, 2.0]).reshape((2,1))   #features\n",
    "y2 = np.array([300.0, 500.0]).reshape((2,1))   #target value\n",
    "best_w, best_b, cost_history, w_history, b_history = compute_gradient_descent_beta(x2,y2,iterations=20000, printProgress=True)"
   ]
  },
  {
   "cell_type": "markdown",
   "id": "b0f1089d-4957-4771-877c-494bd6571083",
   "metadata": {},
   "source": [
    "<details>\n",
    "<summary>\n",
    "    <font size='3'><b>Expected Answer</b></font>\n",
    "</summary>\n",
    "    <p>\n",
    "    <ul>\n",
    "        <li>$w = 200$ and $b = 100$ </li>\n",
    "    </ul>\n",
    "    </p>"
   ]
  },
  {
   "cell_type": "markdown",
   "id": "4a682341-77a2-4f5e-9ef8-7d6c1ed92040",
   "metadata": {},
   "source": [
    "#### Additional Testing on Single Features : Test Case 3"
   ]
  },
  {
   "cell_type": "code",
   "execution_count": 42,
   "id": "c353ea59-a746-41d5-a4a4-09924657c69d",
   "metadata": {},
   "outputs": [
    {
     "name": "stdout",
     "output_type": "stream",
     "text": [
      "best w [[1.]]\n",
      "best b 2.0\n"
     ]
    }
   ],
   "source": [
    "x3 = np.array([1,2,3]).reshape((3,1))\n",
    "y3 = np.array([3,4,5]).reshape((3,1))\n",
    "best_w, best_b, cost_history, w_history, b_history = compute_gradient_descent_beta(x3,y3)"
   ]
  },
  {
   "cell_type": "markdown",
   "id": "2261f30c-5023-49b3-a3c3-5b0234d556eb",
   "metadata": {},
   "source": [
    "<details>\n",
    "<summary>\n",
    "    <font size='3'><b>Expected Answer</b></font>\n",
    "</summary>\n",
    "    <p>\n",
    "    <ul>\n",
    "        <li>$w = 1$ and $b = 2$ </li>\n",
    "    </ul>\n",
    "    </p>"
   ]
  },
  {
   "cell_type": "markdown",
   "id": "b5b3cca5-3963-47f3-b372-1193bf81af09",
   "metadata": {},
   "source": [
    "## Finalized Vectorized Gradient Descent Function for Single/Multiple Features"
   ]
  },
  {
   "cell_type": "code",
   "execution_count": 43,
   "id": "a2aa6b7e-771c-4bae-998c-62cfa40fa9e6",
   "metadata": {},
   "outputs": [],
   "source": [
    "# Cost Function\n",
    "def cost_function(X,y,b,w):\n",
    "    '''\n",
    "    Actual cost function for both single and multiple features\n",
    "    X = matrix of training data, each training examples in rows (m) and features in column (n), \n",
    "        Single feature data must be in m by 1 vector, where m is total number of training examples.\n",
    "    y = m by 1 vector, where m is total number of training examples.\n",
    "    b = scalar\n",
    "    w = n by 1 vector, where n is total number of features\n",
    "\n",
    "    Return:\n",
    "    Cost (scalar)\n",
    "    '''\n",
    "    \n",
    "    m = X.shape[0]\n",
    "    fx = (X@w)+b\n",
    "    lossFunction = (fx - y) ** 2\n",
    "    RSS = lossFunction.sum()\n",
    "    cost = (1 / (2 * m)) * RSS\n",
    "\n",
    "    return cost"
   ]
  },
  {
   "cell_type": "code",
   "execution_count": 44,
   "id": "31763aef-cdfc-4aa3-a8ec-5a4e1009262a",
   "metadata": {},
   "outputs": [],
   "source": [
    "# Compute Gradient\n",
    "def compute_gradient(X,y,b,w):\n",
    "    '''\n",
    "    Compute gradient for each step size\n",
    "    X = matrix of training data, each training examples in rows and features in column, \n",
    "        Single feature data must be in m by 1 vector, where m is total number of training examples.\n",
    "    y = m by 1 vector, where m is total number of training examples.\n",
    "    b = scalar\n",
    "    w = n by 1 vector, where n is total number of features\n",
    "\n",
    "    Return:\n",
    "    db (scalar)\n",
    "    dw (n by 1 vector)\n",
    "    '''\n",
    "    \n",
    "    \n",
    "    # total number of features\n",
    "    n = w.shape[0]\n",
    "\n",
    "    # Initialization of Variables \n",
    "    db = 0\n",
    "    dw = 0\n",
    "    temp_db = 0\n",
    "    temp_dw = 0\n",
    "\n",
    "    # Matrix computation\n",
    "    fx = ((X@w) + b)\n",
    "    temp_dw = (fx - y) * X\n",
    "    temp_db = (fx - y)\n",
    "    \n",
    "    db = temp_db.mean() \n",
    "    dw = temp_dw.mean(axis=0).reshape([n,1]) \n",
    "\n",
    "    return db, dw"
   ]
  },
  {
   "cell_type": "code",
   "execution_count": 45,
   "id": "12caf368-c77b-492a-9b2a-648c31e81f88",
   "metadata": {},
   "outputs": [],
   "source": [
    "# Run Gradient Descent  \n",
    "def compute_gradient_descent(X, y, iterations=10000, init_b=0., init_w = None, alpha=0.01, printProgress=False, printProgressRate = 1000, storeHistory=False):\n",
    "    '''\n",
    "    Runs Gradient Descent\n",
    "\n",
    "    Compulsory Input\n",
    "    X = matrix of training data, each training examples in rows and features in column, \n",
    "        Single feature data must be in m by 1 vector, where m is total number of training examples.\n",
    "    y = m by 1 vector, where m is total number of training examples.\n",
    "    \n",
    "    Optional Input with Defauls\n",
    "    iterations = total number of runs for the gradient descent (default: 10,000)\n",
    "    init_b = initial b value (type: scalar) (default:0.)\n",
    "    init_w = initial w value (type: n by 1 vector, where n is total number of features) (default:0.)\n",
    "    alpha = learning rate / step size (default:0.01)\n",
    "\n",
    "    Print Progress Options\n",
    "    printProgress = To print the details while running gradient descent (type:Boolean) (default: False)\n",
    "    printProgressRate = To print the details every n iterations (default:1000)\n",
    "\n",
    "    Return:\n",
    "    w = best w (n by 1 vector, where n is total number of features)\n",
    "    b = best b (scalar)\n",
    "    cost_history = Computed cost for each iterations (list)\n",
    "    w_history = Computed w for each iterations (list)\n",
    "    b_history = Computed g for each iterations (list)\n",
    "    '''\n",
    "\n",
    "    #### The following check for different data types and convert them to Numpy\n",
    "    #### Also convert Pandas Series and DataFrame to Numpy\n",
    "    #### Also convert 1D array to Numpy\n",
    "    \n",
    "    ### the following check if data type is Series\n",
    "    if isinstance(X, pd.Series):\n",
    "        #print('convert to numpy')\n",
    "        X = X.to_frame()\n",
    "    if isinstance(y, pd.Series):\n",
    "        y = y.to_frame()\n",
    "    \n",
    "    ### the following check if data type is dataframe\n",
    "    if isinstance(X, pd.DataFrame):\n",
    "        #print('convert to numpy')\n",
    "        X = X.to_numpy()\n",
    "    if isinstance(y, pd.DataFrame):\n",
    "        y = y.to_numpy()\n",
    "\n",
    "    \n",
    "    ### the following section convert 1d array to 2d array for ease of computation ###\n",
    "    if X.ndim == 1:\n",
    "        X = X.reshape(len(X),1)\n",
    "    if y.ndim == 1:\n",
    "        y = y.reshape(len(y),1)\n",
    "\n",
    "\n",
    "    ### Check for init_w separately as the dimension of w depends on X\n",
    "    ### Also perform copy to avoid changing the original array\n",
    "\n",
    "    if np.any(init_w) == None:\n",
    "        init_w = np.zeros([X.shape[1],1])\n",
    "\n",
    "    if isinstance(init_w, pd.Series):\n",
    "        init_w = init_w.copy().to_frame()\n",
    "\n",
    "    if isinstance(init_w, pd.DataFrame):\n",
    "        init_w = init_w.copy().to_numpy()\n",
    "\n",
    "    if init_w.ndim == 1:\n",
    "        init_w = init_w.copy()\n",
    "        init_w = init_w.reshape(len(init_w),1)\n",
    "\n",
    "    \n",
    "    ### The following will check if the size match\n",
    "    if X.shape[0] != y.shape[0]:\n",
    "        print('Error, the size of X and y does not match!')\n",
    "        return \n",
    "    \n",
    "    if init_w.shape[0] != X.shape[1]:\n",
    "        print('Error, the size of X features does not match with size of w !')\n",
    "        print(init_w.shape)\n",
    "        print(X.shape[1])\n",
    "        return\n",
    "\n",
    "    # Initialization of variables\n",
    "    m,n = X.shape\n",
    "    \n",
    "    db = 0\n",
    "    dw = 0\n",
    "\n",
    "    b = init_b\n",
    "    w = init_w\n",
    "    \n",
    "    cost_history = []\n",
    "    w_history = np.zeros((1,n))\n",
    "    b_history = []\n",
    "\n",
    "    \n",
    "    for j in range(iterations):\n",
    "\n",
    "        # Compute Partial Derivatives\n",
    "        db, dw = compute_gradient(X,y,b,w)\n",
    "\n",
    "        b = b - (alpha * db)\n",
    "        w = w - (alpha * dw)\n",
    "        \n",
    "        cost = cost_function(X,y,b,w)\n",
    "\n",
    "        # Reshape w for printing and storing history\n",
    "        w_convert = w.copy()\n",
    "        w_convert = np.transpose(w_convert)\n",
    "        \n",
    "        if storeHistory == True: \n",
    "            cost_history.append(cost)\n",
    "            b_history.append(b)\n",
    "            w_history = np.vstack((w_history,w_convert))\n",
    "\n",
    "        if printProgress == True:\n",
    "            if j % printProgressRate == 0:\n",
    "                print(f\"iteration {j}: cost = {cost:.4e}: weights = {w_convert}\")\n",
    "    \n",
    "    print('best w', np.round(w,4))\n",
    "    print('best b', np.round(b,4)) \n",
    "\n",
    "    return w, b, cost_history, w_history[1:], b_history"
   ]
  },
  {
   "cell_type": "markdown",
   "id": "42a4a06e-053c-4d71-9355-58aa7c4d649f",
   "metadata": {},
   "source": [
    "<div class=\"alert alert-block alert-warning\">\n",
    "\n",
    "**Important**\n",
    "    \n",
    "**The  gradient descent function that design for pandas does not always work. First, for Pandas dot product, the column name must match the index of the 2nd matrix**\n",
    "    \n",
    "**Further more the column names of y must be reset to 0 due to the internal computation.**\n",
    "    \n",
    "**The best method is to takes in dataframe but convert to numpy internally.**\n",
    "\n",
    "</div>"
   ]
  },
  {
   "cell_type": "code",
   "execution_count": 46,
   "id": "35793e74-b814-442e-9542-d3dde3d81d58",
   "metadata": {},
   "outputs": [],
   "source": [
    "# Predict fx based on b and w\n",
    "def prediction(X,b,w):\n",
    "    '''\n",
    "    Compute prediction of y_hat/y_predict based on input b and w\n",
    "    X = matrix of training data, each training examples in rows and features in column, \n",
    "        Single feature data must be in m by 1 vector, where m is total number of training examples.\n",
    "    b = scalar\n",
    "    w = n by 1 vector, where n is total number of features\n",
    "\n",
    "    Return:\n",
    "    y_predict (m by 1 vector)\n",
    "    '''\n",
    "    \n",
    "    y_predict = (X@w) + b\n",
    "    return y_predict"
   ]
  },
  {
   "cell_type": "markdown",
   "id": "50a4b0cf-3aee-47ad-b0c1-1ee94529805a",
   "metadata": {},
   "source": [
    "## Retest All Test Case Using the Finalized Gradient Descent Function"
   ]
  },
  {
   "cell_type": "markdown",
   "id": "34d2bdda-12bb-41cb-9785-0436af9b48c5",
   "metadata": {},
   "source": [
    "### Single Features Gradient Descent : Test Case 1"
   ]
  },
  {
   "cell_type": "code",
   "execution_count": 47,
   "id": "1843a3ac-6015-4cd8-aafe-ac94f6cd5d58",
   "metadata": {},
   "outputs": [],
   "source": [
    "X = np.array([1.,2.,3.],dtype=np.float64)\n",
    "y = np.array([1.,2.,3.],dtype=np.float64)"
   ]
  },
  {
   "cell_type": "code",
   "execution_count": 48,
   "id": "741c2884-b7b7-4665-9f98-160007f401e0",
   "metadata": {},
   "outputs": [
    {
     "data": {
      "text/plain": [
       "numpy.float64"
      ]
     },
     "execution_count": 48,
     "metadata": {},
     "output_type": "execute_result"
    }
   ],
   "source": [
    "cost = cost_function(X.reshape((3,1)),y.reshape((3,1)),np.array([0]).reshape((1,1)),np.array([0]).reshape((1,1)))\n",
    "type(cost)"
   ]
  },
  {
   "cell_type": "code",
   "execution_count": 49,
   "id": "baa58f59-2737-483e-ae9a-1b088692b39c",
   "metadata": {},
   "outputs": [
    {
     "data": {
      "text/plain": [
       "2.333333333333333"
      ]
     },
     "execution_count": 49,
     "metadata": {},
     "output_type": "execute_result"
    }
   ],
   "source": [
    "cost"
   ]
  },
  {
   "cell_type": "code",
   "execution_count": 50,
   "id": "1ebcbc87-7721-477e-9b55-b69f1490eb65",
   "metadata": {},
   "outputs": [
    {
     "data": {
      "text/plain": [
       "numpy.float64"
      ]
     },
     "execution_count": 50,
     "metadata": {},
     "output_type": "execute_result"
    }
   ],
   "source": [
    "db, dw = compute_gradient(X.reshape((3,1)),y.reshape((3,1)),np.array([0]).reshape((1,1)),np.array([0]).reshape((1,1)))\n",
    "type(db)"
   ]
  },
  {
   "cell_type": "code",
   "execution_count": 51,
   "id": "6f21287a-9cae-4a29-b7ba-080385380f81",
   "metadata": {},
   "outputs": [
    {
     "data": {
      "text/plain": [
       "numpy.ndarray"
      ]
     },
     "execution_count": 51,
     "metadata": {},
     "output_type": "execute_result"
    }
   ],
   "source": [
    "type(dw)"
   ]
  },
  {
   "cell_type": "code",
   "execution_count": 52,
   "id": "61f6c36d-51f3-4866-af19-c23839febf0d",
   "metadata": {},
   "outputs": [
    {
     "data": {
      "text/plain": [
       "(1, 1)"
      ]
     },
     "execution_count": 52,
     "metadata": {},
     "output_type": "execute_result"
    }
   ],
   "source": [
    "dw.shape"
   ]
  },
  {
   "cell_type": "code",
   "execution_count": 53,
   "id": "1541c06d-0b38-45fd-92e6-30be6f85d31a",
   "metadata": {},
   "outputs": [
    {
     "name": "stdout",
     "output_type": "stream",
     "text": [
      "iteration 0: cost = 2.0827e+00: weights = [[0.04666667]]\n",
      "iteration 1000: cost = 8.7712e-04: weights = [[0.95135473]]\n",
      "iteration 2000: cost = 7.9144e-05: weights = [[0.98538767]]\n",
      "iteration 3000: cost = 7.1413e-06: weights = [[0.99561067]]\n",
      "iteration 4000: cost = 6.4437e-07: weights = [[0.99868151]]\n",
      "iteration 5000: cost = 5.8142e-08: weights = [[0.99960394]]\n",
      "iteration 6000: cost = 5.2463e-09: weights = [[0.99988103]]\n",
      "iteration 7000: cost = 4.7338e-10: weights = [[0.99996426]]\n",
      "iteration 8000: cost = 4.2713e-11: weights = [[0.99998927]]\n",
      "iteration 9000: cost = 3.8541e-12: weights = [[0.99999678]]\n",
      "best w [[1.]]\n",
      "best b 0.0\n"
     ]
    }
   ],
   "source": [
    "w3, b3, cost_history3, w_history3, b_history3 = compute_gradient_descent(X,y, printProgress=True, storeHistory=True)"
   ]
  },
  {
   "cell_type": "markdown",
   "id": "44a4d1ef-08f9-4818-8bc6-011fff8d7739",
   "metadata": {},
   "source": [
    "<details>\n",
    "<summary>\n",
    "    <font size='3'><b>Expected Answer</b></font>\n",
    "</summary>\n",
    "    <p>\n",
    "    <ul>\n",
    "        <li>$w = 1$ and $b = 0$ </li>\n",
    "    </ul>\n",
    "    </p>\n"
   ]
  },
  {
   "cell_type": "markdown",
   "id": "4474038b-6c7f-46f0-8b26-df408b23c57c",
   "metadata": {},
   "source": [
    "#### Examine Data Type of each variable return"
   ]
  },
  {
   "cell_type": "code",
   "execution_count": 54,
   "id": "58b65634-6d07-4fc0-8be4-b05f9c6fa199",
   "metadata": {},
   "outputs": [
    {
     "data": {
      "text/plain": [
       "2.204540245016212e-06"
      ]
     },
     "execution_count": 54,
     "metadata": {},
     "output_type": "execute_result"
    }
   ],
   "source": [
    "b3"
   ]
  },
  {
   "cell_type": "code",
   "execution_count": 55,
   "id": "7dafddda-fac6-49d1-b863-add96ebe7536",
   "metadata": {},
   "outputs": [
    {
     "data": {
      "text/plain": [
       "numpy.float64"
      ]
     },
     "execution_count": 55,
     "metadata": {},
     "output_type": "execute_result"
    }
   ],
   "source": [
    "type(b3)"
   ]
  },
  {
   "cell_type": "code",
   "execution_count": 56,
   "id": "4f9a9ef5-e350-43cb-a858-0242d335bdbc",
   "metadata": {},
   "outputs": [
    {
     "data": {
      "text/plain": [
       "array([[0.99999903]])"
      ]
     },
     "execution_count": 56,
     "metadata": {},
     "output_type": "execute_result"
    }
   ],
   "source": [
    "w3"
   ]
  },
  {
   "cell_type": "code",
   "execution_count": 57,
   "id": "04df4ca4-5ea0-45cf-8ac6-a462755f65eb",
   "metadata": {},
   "outputs": [
    {
     "data": {
      "text/plain": [
       "numpy.ndarray"
      ]
     },
     "execution_count": 57,
     "metadata": {},
     "output_type": "execute_result"
    }
   ],
   "source": [
    "type(w3)"
   ]
  },
  {
   "cell_type": "code",
   "execution_count": 58,
   "id": "276458a8-5e0c-46b8-821c-fd009e12f69b",
   "metadata": {},
   "outputs": [
    {
     "data": {
      "text/plain": [
       "(1, 1)"
      ]
     },
     "execution_count": 58,
     "metadata": {},
     "output_type": "execute_result"
    }
   ],
   "source": [
    "w3.shape"
   ]
  },
  {
   "cell_type": "code",
   "execution_count": 59,
   "id": "1f8c2d67-9fb3-43b2-a275-4417c835c5c1",
   "metadata": {},
   "outputs": [
    {
     "data": {
      "text/plain": [
       "list"
      ]
     },
     "execution_count": 59,
     "metadata": {},
     "output_type": "execute_result"
    }
   ],
   "source": [
    "type(cost_history3)"
   ]
  },
  {
   "cell_type": "code",
   "execution_count": 60,
   "id": "0b5d345d-da89-4532-a7c7-1479b66a1c67",
   "metadata": {},
   "outputs": [
    {
     "data": {
      "text/plain": [
       "list"
      ]
     },
     "execution_count": 60,
     "metadata": {},
     "output_type": "execute_result"
    }
   ],
   "source": [
    "type(b_history3)"
   ]
  },
  {
   "cell_type": "code",
   "execution_count": 61,
   "id": "91306581-4ad2-4330-b5a5-fcc747615d12",
   "metadata": {},
   "outputs": [
    {
     "data": {
      "text/plain": [
       "numpy.ndarray"
      ]
     },
     "execution_count": 61,
     "metadata": {},
     "output_type": "execute_result"
    }
   ],
   "source": [
    "type(w_history3)"
   ]
  },
  {
   "cell_type": "code",
   "execution_count": 62,
   "id": "6494ff37-3bc0-4ee7-9e18-b542c9e969f5",
   "metadata": {},
   "outputs": [
    {
     "data": {
      "text/plain": [
       "(10000, 1)"
      ]
     },
     "execution_count": 62,
     "metadata": {},
     "output_type": "execute_result"
    }
   ],
   "source": [
    "w_history3.shape"
   ]
  },
  {
   "cell_type": "code",
   "execution_count": 63,
   "id": "909ae918-5a0c-437a-8f70-eda50fc5f1a0",
   "metadata": {},
   "outputs": [
    {
     "data": {
      "text/plain": [
       "array([[0.04666667],\n",
       "       [0.09075556],\n",
       "       [0.13240963],\n",
       "       [0.17176392],\n",
       "       [0.20894598]])"
      ]
     },
     "execution_count": 63,
     "metadata": {},
     "output_type": "execute_result"
    }
   ],
   "source": [
    "w_history3[:5]"
   ]
  },
  {
   "cell_type": "markdown",
   "id": "e5c75b34-bf08-480c-afd1-2988d289d295",
   "metadata": {},
   "source": [
    "### Single Features Gradient Descent : Test Case 2"
   ]
  },
  {
   "cell_type": "code",
   "execution_count": 64,
   "id": "e0ead8a0-f029-49cc-8c78-ee42df08d934",
   "metadata": {},
   "outputs": [
    {
     "name": "stdout",
     "output_type": "stream",
     "text": [
      "iteration 0: cost = 7.9275e+04: weights = [[6.5]]\n",
      "iteration 1000: cost = 3.4125e+00: weights = [[194.91482409]]\n",
      "iteration 2000: cost = 7.9290e-01: weights = [[197.54881092]]\n",
      "iteration 3000: cost = 1.8423e-01: weights = [[198.81846213]]\n",
      "iteration 4000: cost = 4.2805e-02: weights = [[199.43046754]]\n",
      "iteration 5000: cost = 9.9458e-03: weights = [[199.72547032]]\n",
      "iteration 6000: cost = 2.3109e-03: weights = [[199.86766944]]\n",
      "iteration 7000: cost = 5.3694e-04: weights = [[199.93621318]]\n",
      "iteration 8000: cost = 1.2476e-04: weights = [[199.96925307]]\n",
      "iteration 9000: cost = 2.8987e-05: weights = [[199.98517917]]\n",
      "iteration 10000: cost = 6.7352e-06: weights = [[199.99285597]]\n",
      "iteration 11000: cost = 1.5649e-06: weights = [[199.99655639]]\n",
      "iteration 12000: cost = 3.6361e-07: weights = [[199.99834009]]\n",
      "iteration 13000: cost = 8.4484e-08: weights = [[199.99919988]]\n",
      "iteration 14000: cost = 1.9630e-08: weights = [[199.99961432]]\n",
      "iteration 15000: cost = 4.5610e-09: weights = [[199.99981409]]\n",
      "iteration 16000: cost = 1.0597e-09: weights = [[199.99991039]]\n",
      "iteration 17000: cost = 2.4623e-10: weights = [[199.9999568]]\n",
      "iteration 18000: cost = 5.7211e-11: weights = [[199.99997918]]\n",
      "iteration 19000: cost = 1.3293e-11: weights = [[199.99998996]]\n",
      "best w [[200.]]\n",
      "best b 100.0\n"
     ]
    }
   ],
   "source": [
    "x2 = np.array([1.0, 2.0])   #features\n",
    "y2 = np.array([300.0, 500.0])   #target value\n",
    "best_w, best_b, cost_history, w_history, b_history = compute_gradient_descent(x2,y2,iterations=20000, printProgress=True)"
   ]
  },
  {
   "cell_type": "code",
   "execution_count": 65,
   "id": "08dbbf91-6993-4fa9-9ad7-c36d141930bd",
   "metadata": {},
   "outputs": [
    {
     "data": {
      "text/plain": [
       "(1, 1)"
      ]
     },
     "execution_count": 65,
     "metadata": {},
     "output_type": "execute_result"
    }
   ],
   "source": [
    "best_w.shape"
   ]
  },
  {
   "cell_type": "markdown",
   "id": "01cc0d83-65ac-4804-a4aa-d62f9f46cb94",
   "metadata": {},
   "source": [
    "<details>\n",
    "<summary>\n",
    "    <font size='3'><b>Expected Answer</b></font>\n",
    "</summary>\n",
    "    <p>\n",
    "    <ul>\n",
    "        <li>$w = 200$ and $b = 100$ </li>\n",
    "    </ul>\n",
    "    </p>"
   ]
  },
  {
   "cell_type": "markdown",
   "id": "b3d659ab-efbb-4875-9f65-1dcc0ce4a128",
   "metadata": {},
   "source": [
    "### Single Features Gradient Descent : Test Case 3"
   ]
  },
  {
   "cell_type": "code",
   "execution_count": 66,
   "id": "bd4cd0ca-cf1f-4518-8e6e-729599f31dff",
   "metadata": {},
   "outputs": [
    {
     "name": "stdout",
     "output_type": "stream",
     "text": [
      "best w [[1.]]\n",
      "best b 2.0\n"
     ]
    }
   ],
   "source": [
    "x3 = np.array([1,2,3]).reshape((3,1))\n",
    "y3 = np.array([3,4,5]).reshape((3,1))\n",
    "best_w, best_b, cost_history, w_history, b_history = compute_gradient_descent(x3,y3)"
   ]
  },
  {
   "cell_type": "code",
   "execution_count": 67,
   "id": "7f1b2c6a-fe04-49f9-8faf-60b0d73bed1b",
   "metadata": {},
   "outputs": [
    {
     "data": {
      "text/plain": [
       "(1, 1)"
      ]
     },
     "execution_count": 67,
     "metadata": {},
     "output_type": "execute_result"
    }
   ],
   "source": [
    "best_w.shape"
   ]
  },
  {
   "cell_type": "markdown",
   "id": "a69a4f39-043b-4d6e-9415-f00aeb22ca51",
   "metadata": {},
   "source": [
    "<details>\n",
    "<summary>\n",
    "    <font size='3'><b>Expected Answer</b></font>\n",
    "</summary>\n",
    "    <p>\n",
    "    <ul>\n",
    "        <li>$w = 1$ and $b = 2$ </li>\n",
    "    </ul>\n",
    "    </p>"
   ]
  },
  {
   "cell_type": "markdown",
   "id": "6bb86f29-135f-4f51-be96-fc4f5b8ea742",
   "metadata": {},
   "source": [
    "### Multiple Features Gradient Descent : Test Case 4"
   ]
  },
  {
   "cell_type": "code",
   "execution_count": 68,
   "id": "711014f5-8bb6-471e-a8a7-d5bc00db4dc4",
   "metadata": {},
   "outputs": [],
   "source": [
    "X_train = np.array([[2104, 5, 1, 45], [1416, 3, 2, 40], [852, 2, 1, 35]]).reshape([3,4])\n",
    "y_train = np.array([460, 232, 178]).reshape([3,1])"
   ]
  },
  {
   "cell_type": "code",
   "execution_count": 69,
   "id": "2be05371-1473-4dac-a82a-cbd6e294f23e",
   "metadata": {},
   "outputs": [],
   "source": [
    "b_init = 785.1811367994083\n",
    "w_init = np.array([ 0.39133535, 18.75376741, -53.36032453, -26.42131618]).reshape([4,1])"
   ]
  },
  {
   "cell_type": "code",
   "execution_count": 70,
   "id": "8f9cb727-88e0-4a45-81a0-f4269c5d16f6",
   "metadata": {},
   "outputs": [],
   "source": [
    "initial_w = np.zeros_like(w_init)\n",
    "initial_b = 0.\n",
    "iterations = 1000\n",
    "alpha = 5.0e-7"
   ]
  },
  {
   "cell_type": "code",
   "execution_count": 71,
   "id": "43d8bf7f-4f6c-4a6f-9e1d-d431cb406896",
   "metadata": {},
   "outputs": [
    {
     "name": "stdout",
     "output_type": "stream",
     "text": [
      "best w [[ 0.204 ]\n",
      " [ 0.0037]\n",
      " [-0.0112]\n",
      " [-0.0659]]\n",
      "best b -0.0022\n"
     ]
    }
   ],
   "source": [
    "w, b, cost_history, w_history, b_history = compute_gradient_descent(X_train, y_train, iterations = 1000, init_b=initial_b, init_w = initial_w, alpha = alpha, \n",
    "                                                                    printProgress=False, printProgressRate=100, storeHistory=True)"
   ]
  },
  {
   "cell_type": "markdown",
   "id": "d70d8f77-08fd-4a38-9093-6e2bde127d6d",
   "metadata": {},
   "source": [
    "<details>\n",
    "<summary>\n",
    "    <font size='3'><b>Expected Results</b></font>\n",
    "</summary>\n",
    "    <p>\n",
    "    <ul>\n",
    "        <li>b,w found by gradient descent</li>\n",
    "        <li>b: -0.00</li>  \n",
    "        <li>w: [ 0.2   0.   -0.01 -0.07] </li>\n",
    "    </ul>\n",
    "    </p> "
   ]
  },
  {
   "cell_type": "code",
   "execution_count": 72,
   "id": "2605c414-349d-4a6e-82b7-1ca0571a9c3d",
   "metadata": {},
   "outputs": [
    {
     "data": {
      "text/plain": [
       "array([[ 0.20396569],\n",
       "       [ 0.00374919],\n",
       "       [-0.0112487 ],\n",
       "       [-0.0658614 ]])"
      ]
     },
     "execution_count": 72,
     "metadata": {},
     "output_type": "execute_result"
    }
   ],
   "source": [
    "w"
   ]
  },
  {
   "cell_type": "code",
   "execution_count": 73,
   "id": "c281f5ed-c166-4864-a46c-e18228415bce",
   "metadata": {},
   "outputs": [
    {
     "data": {
      "text/plain": [
       "(4, 1)"
      ]
     },
     "execution_count": 73,
     "metadata": {},
     "output_type": "execute_result"
    }
   ],
   "source": [
    "w.shape"
   ]
  },
  {
   "cell_type": "code",
   "execution_count": 74,
   "id": "079a0107-3afe-4efc-9aac-bd675f1a0298",
   "metadata": {},
   "outputs": [
    {
     "data": {
      "text/plain": [
       "array([[ 0.20395865,  0.0037361 , -0.01120338, -0.06558377],\n",
       "       [ 0.20396041,  0.00373937, -0.01121471, -0.06565318],\n",
       "       [ 0.20396217,  0.00374265, -0.01122604, -0.06572259],\n",
       "       [ 0.20396393,  0.00374592, -0.01123737, -0.065792  ],\n",
       "       [ 0.20396569,  0.00374919, -0.0112487 , -0.0658614 ]])"
      ]
     },
     "execution_count": 74,
     "metadata": {},
     "output_type": "execute_result"
    }
   ],
   "source": [
    "w_history[-5:]"
   ]
  },
  {
   "cell_type": "code",
   "execution_count": 75,
   "id": "129131f7-efb2-4660-b22f-6ff52189363d",
   "metadata": {},
   "outputs": [
    {
     "data": {
      "text/plain": [
       "array([[426.18530497],\n",
       "       [286.16747201],\n",
       "       [171.46763087]])"
      ]
     },
     "execution_count": 75,
     "metadata": {},
     "output_type": "execute_result"
    }
   ],
   "source": [
    "prediction(X_train,b,w)"
   ]
  },
  {
   "cell_type": "markdown",
   "id": "68ce8f87-4cac-428a-a94a-41f8f81bef85",
   "metadata": {},
   "source": [
    "<details>\n",
    "<summary>\n",
    "    <font size='3'><b>Expected Results</b></font>\n",
    "</summary>\n",
    "    <p>\n",
    "    <ul>\n",
    "        <li>prediction: 426.19, target value: 460</li>\n",
    "        <li>prediction: 286.17, target value: 232</li>  \n",
    "        <li>prediction: 171.47, target value: 178</li>\n",
    "    </ul>\n",
    "    </p> "
   ]
  },
  {
   "cell_type": "markdown",
   "id": "d77adfda-03fd-4692-ac11-f2cf046a4fe2",
   "metadata": {},
   "source": [
    "**Now, instead of running only 1000 iterations, we will be running more iterations to complete the training. Instead of using initial_b, we will be using b_init instead which is closer to the optimum.** "
   ]
  },
  {
   "cell_type": "code",
   "execution_count": 76,
   "id": "a880de37-9c5b-4120-a105-aaeba1b3322b",
   "metadata": {},
   "outputs": [],
   "source": [
    "b_init = 782\n",
    "w_init = np.array([ 0.4, 18, -52, -25]).reshape([4,1])"
   ]
  },
  {
   "cell_type": "code",
   "execution_count": 77,
   "id": "e1a9f03f-19f0-40b4-8181-02624632f3a0",
   "metadata": {},
   "outputs": [
    {
     "name": "stdout",
     "output_type": "stream",
     "text": [
      "iteration 0: cost = 1.6423e+02: weights = [[  0.34982893  17.99988503 -52.00004387 -25.001331  ]]\n",
      "iteration 10000: cost = 3.5104e+01: weights = [[  0.3705065   18.00400735 -52.02694636 -25.49551993]]\n",
      "iteration 20000: cost = 1.4585e+01: weights = [[  0.37854099  18.00685452 -52.0448019  -25.81241206]]\n",
      "iteration 30000: cost = 6.1536e+00: weights = [[  0.38369055  18.00889605 -52.05685308 -26.01551883]]\n",
      "iteration 40000: cost = 2.6884e+00: weights = [[  0.38699076  18.01042087 -52.06518275 -26.1456853 ]]\n",
      "iteration 50000: cost = 1.2640e+00: weights = [[  0.3891055   18.01161421 -52.0711261  -26.2290946 ]]\n",
      "iteration 60000: cost = 6.7836e-01: weights = [[  0.39046029  18.0125948  -52.07553901 -26.28253098]]\n",
      "iteration 70000: cost = 4.3731e-01: weights = [[  0.39132794  18.01343876 -52.07897015 -26.31675373]]\n",
      "iteration 80000: cost = 3.3789e-01: weights = [[  0.39188331  18.01419488 -52.08177123 -26.33865993]]\n",
      "iteration 90000: cost = 2.9666e-01: weights = [[  0.39223851  18.01489443 -52.0841677  -26.35267083]]\n",
      "best w [[  0.3925]\n",
      " [ 18.0156]\n",
      " [-52.0863]\n",
      " [-26.3616]]\n",
      "best b 781.9524\n"
     ]
    }
   ],
   "source": [
    "w, b, cost_history, w_history, b_history = compute_gradient_descent(X_train, y_train, iterations = 100000, init_b=b_init, init_w = w_init, alpha = 5.0e-7, \n",
    "                                                                    printProgress=True, printProgressRate=10000, storeHistory=True)"
   ]
  },
  {
   "cell_type": "markdown",
   "id": "4d402997-0720-4229-8a97-367de1115c4a",
   "metadata": {},
   "source": [
    "<details>\n",
    "<summary>\n",
    "    <font size='3'><b>Expected Results</b></font>\n",
    "</summary>\n",
    "    <p>\n",
    "    <ul>\n",
    "        <li>b,w found by gradient descent</li>\n",
    "        <li>b: 785.1811367994083</li>  \n",
    "        <li>w: [ 0.39133535, 18.75376741, -53.36032453, -26.42131618] </li>\n",
    "    </ul>\n",
    "    </p> "
   ]
  },
  {
   "cell_type": "code",
   "execution_count": 78,
   "id": "501f6984-781d-4eca-8c36-9b54eb37cbbb",
   "metadata": {},
   "outputs": [
    {
     "data": {
      "text/plain": [
       "array([[459.41809623],\n",
       "       [233.09260849],\n",
       "       [177.62099072]])"
      ]
     },
     "execution_count": 78,
     "metadata": {},
     "output_type": "execute_result"
    }
   ],
   "source": [
    "prediction(X_train,b,w)"
   ]
  },
  {
   "cell_type": "markdown",
   "id": "7b47ea02-44ad-475c-a708-b9ec4e89c8be",
   "metadata": {},
   "source": [
    "<details>\n",
    "<summary>\n",
    "    <font size='3'><b>Expected Results</b></font>\n",
    "</summary>\n",
    "    <p>\n",
    "    <ul>\n",
    "        <li>target value: 460</li>\n",
    "        <li>target value: 232</li>  \n",
    "        <li>target value: 178</li>\n",
    "    </ul>\n",
    "    </p> "
   ]
  },
  {
   "cell_type": "markdown",
   "id": "a6460944-0c63-4ef0-94da-8109d2de71a1",
   "metadata": {},
   "source": [
    "#### Plotting Relationship between Cost and Number of Iterations "
   ]
  },
  {
   "cell_type": "code",
   "execution_count": 80,
   "id": "f4f4787d-8108-43d3-8cad-417d881f4158",
   "metadata": {},
   "outputs": [
    {
     "data": {
      "image/png": "[encoded data removed]",
      "text/plain": [
       "<Figure size 1000x1200 with 4 Axes>"
      ]
     },
     "metadata": {},
     "output_type": "display_data"
    }
   ],
   "source": [
    "plt.close('all')\n",
    "fig, ((ax1, ax2), (ax3, ax4)) = plt.subplots(2, 2, figsize=(10, 12))\n",
    "ax1.plot(cost_history)\n",
    "ax1.set_title('Full Iteration vs Cost')\n",
    "ax1.set_xlabel('Iterations')\n",
    "ax1.set_ylabel('Cost')\n",
    "ax2.plot(cost_history[:10])\n",
    "ax2.set_title('First 10th Iteration vs Cost')\n",
    "ax2.set_xlabel('Iterations')\n",
    "ax2.set_ylabel('Cost')\n",
    "ax3.plot(cost_history[10:50000])\n",
    "ax3.set_title('10th to 50000th Iteration vs Cost')\n",
    "ax3.set_xlabel('Iterations')\n",
    "ax3.set_ylabel('Cost')\n",
    "ax4.plot(cost_history[40:100000])\n",
    "ax4.set_title('400th Iteration to 100000th Iteration vs Cost')\n",
    "ax4.set_xlabel('Iterations')\n",
    "ax4.set_ylabel('Cost')\n",
    "plt.show()"
   ]
  },
  {
   "cell_type": "markdown",
   "id": "beee1803-51eb-4e27-95fd-2458323c5d70",
   "metadata": {},
   "source": [
    "## Brief Introduction of SciKit Learn"
   ]
  },
  {
   "cell_type": "markdown",
   "id": "27f24235-d301-434e-b3bd-b728e76efff7",
   "metadata": {},
   "source": [
    "**SciKit Learn is open source machine learning tools that we can use for Python. As student of machine learning, we are expected to to be able to setup and run our gradient descent algorithm. In practice, it is more common that we use SciKit Learn tools to perform such task. We can also use the tools to double check to see if our algorithm works.**\n",
    "\n",
    "**As mentioned before for linear regression, SciKit Learn may not use gradient descent for linear regression. However, the `w` (a.k.a coefficient) and `b` (a.k.a intercept) may be the same. In the event that it is different, please use the coefficient to make the predictions. The predictions should be close. The reason for different coefficient may caused by how the data was adjusted or normalized, which we will learn later.**"
   ]
  },
  {
   "cell_type": "code",
   "execution_count": 81,
   "id": "0c2a8cfb-6727-4a70-9c36-e219201747c5",
   "metadata": {},
   "outputs": [],
   "source": [
    "# Us the following to import SciKit Learn\n",
    "# When encountering error, you may not have installed the module\n",
    "# Please Google the web on how to install module\n",
    "\n",
    "from sklearn import linear_model\n",
    "from sklearn.linear_model import LinearRegression"
   ]
  },
  {
   "cell_type": "markdown",
   "id": "373aabba-d852-4b6f-8d77-9b06ce9435ae",
   "metadata": {},
   "source": [
    "### Test Example: Gradient Descent Function"
   ]
  },
  {
   "cell_type": "markdown",
   "id": "85bf6d3a-c25f-4970-ae64-6197fd7004e0",
   "metadata": {},
   "source": [
    "**We use the previous multiple variable test example. We will run our gradient Descent Algorithm first.**"
   ]
  },
  {
   "cell_type": "code",
   "execution_count": 82,
   "id": "12726e09-34c3-4382-a97a-0f40ba722079",
   "metadata": {},
   "outputs": [],
   "source": [
    "X_train = np.array([[2104, 5, 1, 45], [1416, 3, 2, 40], [852, 2, 1, 35]]).reshape((3,4))\n",
    "y_train = np.array([460, 232, 178]).reshape((3,1))"
   ]
  },
  {
   "cell_type": "code",
   "execution_count": 83,
   "id": "2d4ea954-b900-42c8-88bc-aa4d2c8ac028",
   "metadata": {},
   "outputs": [],
   "source": [
    "b_init = 782\n",
    "w_init = np.array([ 0.4, 18, -52, -25]).reshape([4,1])\n",
    "alpha = 5.0e-7"
   ]
  },
  {
   "cell_type": "code",
   "execution_count": 84,
   "id": "2e03fdea-afe0-4186-8e16-cc302f168f4b",
   "metadata": {},
   "outputs": [
    {
     "name": "stdout",
     "output_type": "stream",
     "text": [
      "iteration 0: cost = 1.6423e+02: weights = [[  0.34982893  17.99988503 -52.00004387 -25.001331  ]]\n",
      "iteration 10000: cost = 3.5104e+01: weights = [[  0.3705065   18.00400735 -52.02694636 -25.49551993]]\n",
      "iteration 20000: cost = 1.4585e+01: weights = [[  0.37854099  18.00685452 -52.0448019  -25.81241206]]\n",
      "iteration 30000: cost = 6.1536e+00: weights = [[  0.38369055  18.00889605 -52.05685308 -26.01551883]]\n",
      "iteration 40000: cost = 2.6884e+00: weights = [[  0.38699076  18.01042087 -52.06518275 -26.1456853 ]]\n",
      "iteration 50000: cost = 1.2640e+00: weights = [[  0.3891055   18.01161421 -52.0711261  -26.2290946 ]]\n",
      "iteration 60000: cost = 6.7836e-01: weights = [[  0.39046029  18.0125948  -52.07553901 -26.28253098]]\n",
      "iteration 70000: cost = 4.3731e-01: weights = [[  0.39132794  18.01343876 -52.07897015 -26.31675373]]\n",
      "iteration 80000: cost = 3.3789e-01: weights = [[  0.39188331  18.01419488 -52.08177123 -26.33865993]]\n",
      "iteration 90000: cost = 2.9666e-01: weights = [[  0.39223851  18.01489443 -52.0841677  -26.35267083]]\n",
      "best w [[  0.3925]\n",
      " [ 18.0156]\n",
      " [-52.0863]\n",
      " [-26.3616]]\n",
      "best b 781.9524\n"
     ]
    }
   ],
   "source": [
    "w, b, cost_history, w_history, b_history = compute_gradient_descent(X_train, y_train, iterations = 100000, init_b=b_init, init_w = w_init,alpha = alpha, \n",
    "                                                                    printProgress=True, printProgressRate=10000)"
   ]
  },
  {
   "cell_type": "markdown",
   "id": "bd4d27fd-0694-4182-8166-f72f4f117b6c",
   "metadata": {},
   "source": [
    "<details>\n",
    "<summary>\n",
    "    <font size='3'><b>Expected Results</b></font>\n",
    "</summary>\n",
    "    <p>\n",
    "    <ul>\n",
    "        <li>b,w found by gradient descent</li>\n",
    "        <li>b: 785.1811367994083</li>  \n",
    "        <li>w: [ 0.39133535, 18.75376741, -53.36032453, -26.42131618] </li>\n",
    "    </ul>\n",
    "    </p> "
   ]
  },
  {
   "cell_type": "code",
   "execution_count": 85,
   "id": "bf4092fd-0e73-4f13-b4f1-ac4aef7c4da9",
   "metadata": {},
   "outputs": [
    {
     "data": {
      "text/plain": [
       "array([[459.41809623],\n",
       "       [233.09260849],\n",
       "       [177.62099072]])"
      ]
     },
     "execution_count": 85,
     "metadata": {},
     "output_type": "execute_result"
    }
   ],
   "source": [
    "prediction(X_train,b,w)"
   ]
  },
  {
   "cell_type": "markdown",
   "id": "6972a56c-fefa-474e-b110-89878d5fcb0a",
   "metadata": {},
   "source": [
    "<details>\n",
    "<summary>\n",
    "    <font size='3'><b>Expected Results</b></font>\n",
    "</summary>\n",
    "    <p>\n",
    "    <ul>\n",
    "        <li>target value: 460</li>\n",
    "        <li>target value: 232</li>  \n",
    "        <li>target value: 178</li>\n",
    "    </ul>\n",
    "    </p> "
   ]
  },
  {
   "cell_type": "markdown",
   "id": "193a8f11-a4cb-46e7-8ac2-a65b82f4d90d",
   "metadata": {},
   "source": [
    "### Test Example: SciKit Learn"
   ]
  },
  {
   "cell_type": "code",
   "execution_count": 86,
   "id": "cc210fa2-dc9d-48ff-8291-f6826dfdb8ce",
   "metadata": {},
   "outputs": [
    {
     "name": "stdout",
     "output_type": "stream",
     "text": [
      "w [[  0.39133535  18.75376741 -53.36032453 -26.42131618]]\n",
      "b [785.1811368]\n"
     ]
    }
   ],
   "source": [
    "reg = LinearRegression().fit(X_train, y_train)\n",
    "print('w',reg.coef_)\n",
    "print('b',reg.intercept_)"
   ]
  },
  {
   "cell_type": "markdown",
   "id": "6b222cfa-79c9-4c08-9e3a-994b97f82da5",
   "metadata": {},
   "source": [
    "<details>\n",
    "<summary>\n",
    "    <font size='3'><b>Expected Results</b></font>\n",
    "</summary>\n",
    "    <p>\n",
    "    <ul>\n",
    "        <li>b,w found by gradient descent</li>\n",
    "        <li>b: 785.1811367994083</li>  \n",
    "        <li>w: [ 0.39133535, 18.75376741, -53.36032453, -26.42131618] </li>\n",
    "    </ul>\n",
    "    </p> "
   ]
  },
  {
   "cell_type": "code",
   "execution_count": 87,
   "id": "ecb4ae07-8e25-4edc-8242-4bfe586d587b",
   "metadata": {},
   "outputs": [
    {
     "name": "stdout",
     "output_type": "stream",
     "text": [
      "y prediction [[460.]\n",
      " [232.]\n",
      " [178.]]\n"
     ]
    }
   ],
   "source": [
    "print('y prediction',reg.predict(X_train))"
   ]
  },
  {
   "cell_type": "markdown",
   "id": "1526570b-9655-483b-9c32-e75038943158",
   "metadata": {},
   "source": [
    "<details>\n",
    "<summary>\n",
    "    <font size='3'><b>Expected Results</b></font>\n",
    "</summary>\n",
    "    <p>\n",
    "    <ul>\n",
    "        <li>target value: 460</li>\n",
    "        <li>target value: 232</li>  \n",
    "        <li>target value: 178</li>\n",
    "    </ul>\n",
    "    </p> "
   ]
  },
  {
   "cell_type": "markdown",
   "id": "80589e50-e8ca-403b-9ada-0bc4c03e4af1",
   "metadata": {},
   "source": [
    "## Application of Housing Data"
   ]
  },
  {
   "cell_type": "markdown",
   "id": "80ab4336-8286-451d-a80a-c5a514db4836",
   "metadata": {},
   "source": [
    "### Housing Price with One Feature"
   ]
  },
  {
   "cell_type": "code",
   "execution_count": 88,
   "id": "0d9c5b07-e990-4875-90dc-b4cf16fabf67",
   "metadata": {},
   "outputs": [
    {
     "data": {
      "text/html": [
       "<div>\n",
       "<style scoped>\n",
       "    .dataframe tbody tr th:only-of-type {\n",
       "        vertical-align: middle;\n",
       "    }\n",
       "\n",
       "    .dataframe tbody tr th {\n",
       "        vertical-align: top;\n",
       "    }\n",
       "\n",
       "    .dataframe thead th {\n",
       "        text-align: right;\n",
       "    }\n",
       "</style>\n",
       "<table border=\"1\" class=\"dataframe\">\n",
       "  <thead>\n",
       "    <tr style=\"text-align: right;\">\n",
       "      <th></th>\n",
       "      <th>sqft</th>\n",
       "      <th>price</th>\n",
       "    </tr>\n",
       "  </thead>\n",
       "  <tbody>\n",
       "    <tr>\n",
       "      <th>0</th>\n",
       "      <td>2104</td>\n",
       "      <td>399900</td>\n",
       "    </tr>\n",
       "    <tr>\n",
       "      <th>1</th>\n",
       "      <td>1600</td>\n",
       "      <td>329900</td>\n",
       "    </tr>\n",
       "    <tr>\n",
       "      <th>2</th>\n",
       "      <td>2400</td>\n",
       "      <td>369000</td>\n",
       "    </tr>\n",
       "    <tr>\n",
       "      <th>3</th>\n",
       "      <td>1416</td>\n",
       "      <td>232000</td>\n",
       "    </tr>\n",
       "    <tr>\n",
       "      <th>4</th>\n",
       "      <td>3000</td>\n",
       "      <td>539900</td>\n",
       "    </tr>\n",
       "  </tbody>\n",
       "</table>\n",
       "</div>"
      ],
      "text/plain": [
       "   sqft   price\n",
       "0  2104  399900\n",
       "1  1600  329900\n",
       "2  2400  369000\n",
       "3  1416  232000\n",
       "4  3000  539900"
      ]
     },
     "execution_count": 88,
     "metadata": {},
     "output_type": "execute_result"
    }
   ],
   "source": [
    "df = pd.read_csv('./data/housing_one_var.csv')\n",
    "df.head()"
   ]
  },
  {
   "cell_type": "code",
   "execution_count": 89,
   "id": "83a92ff8-1fbe-4d34-a136-036f4e28d601",
   "metadata": {},
   "outputs": [
    {
     "data": {
      "text/html": [
       "<div>\n",
       "<style scoped>\n",
       "    .dataframe tbody tr th:only-of-type {\n",
       "        vertical-align: middle;\n",
       "    }\n",
       "\n",
       "    .dataframe tbody tr th {\n",
       "        vertical-align: top;\n",
       "    }\n",
       "\n",
       "    .dataframe thead th {\n",
       "        text-align: right;\n",
       "    }\n",
       "</style>\n",
       "<table border=\"1\" class=\"dataframe\">\n",
       "  <thead>\n",
       "    <tr style=\"text-align: right;\">\n",
       "      <th></th>\n",
       "      <th>sqft</th>\n",
       "    </tr>\n",
       "  </thead>\n",
       "  <tbody>\n",
       "    <tr>\n",
       "      <th>0</th>\n",
       "      <td>2104</td>\n",
       "    </tr>\n",
       "    <tr>\n",
       "      <th>1</th>\n",
       "      <td>1600</td>\n",
       "    </tr>\n",
       "    <tr>\n",
       "      <th>2</th>\n",
       "      <td>2400</td>\n",
       "    </tr>\n",
       "    <tr>\n",
       "      <th>3</th>\n",
       "      <td>1416</td>\n",
       "    </tr>\n",
       "    <tr>\n",
       "      <th>4</th>\n",
       "      <td>3000</td>\n",
       "    </tr>\n",
       "  </tbody>\n",
       "</table>\n",
       "</div>"
      ],
      "text/plain": [
       "   sqft\n",
       "0  2104\n",
       "1  1600\n",
       "2  2400\n",
       "3  1416\n",
       "4  3000"
      ]
     },
     "execution_count": 89,
     "metadata": {},
     "output_type": "execute_result"
    }
   ],
   "source": [
    "x_train = df['sqft'].to_frame()\n",
    "x_train.head()"
   ]
  },
  {
   "cell_type": "markdown",
   "id": "dd308a00-65d0-44ac-ad91-cd6f8de8bd96",
   "metadata": {},
   "source": [
    "**We need to convert sqft to thousand sqft to prevent computation overflow**"
   ]
  },
  {
   "cell_type": "code",
   "execution_count": 90,
   "id": "e9bf2839-fd7a-4a80-ad64-77673eff50f7",
   "metadata": {},
   "outputs": [],
   "source": [
    "x_train = x_train / 1000"
   ]
  },
  {
   "cell_type": "code",
   "execution_count": 91,
   "id": "ad63b5dd-b479-44ef-b3d1-a8bb9136d66f",
   "metadata": {},
   "outputs": [
    {
     "data": {
      "text/html": [
       "<div>\n",
       "<style scoped>\n",
       "    .dataframe tbody tr th:only-of-type {\n",
       "        vertical-align: middle;\n",
       "    }\n",
       "\n",
       "    .dataframe tbody tr th {\n",
       "        vertical-align: top;\n",
       "    }\n",
       "\n",
       "    .dataframe thead th {\n",
       "        text-align: right;\n",
       "    }\n",
       "</style>\n",
       "<table border=\"1\" class=\"dataframe\">\n",
       "  <thead>\n",
       "    <tr style=\"text-align: right;\">\n",
       "      <th></th>\n",
       "      <th>price</th>\n",
       "    </tr>\n",
       "  </thead>\n",
       "  <tbody>\n",
       "    <tr>\n",
       "      <th>0</th>\n",
       "      <td>399900</td>\n",
       "    </tr>\n",
       "    <tr>\n",
       "      <th>1</th>\n",
       "      <td>329900</td>\n",
       "    </tr>\n",
       "    <tr>\n",
       "      <th>2</th>\n",
       "      <td>369000</td>\n",
       "    </tr>\n",
       "    <tr>\n",
       "      <th>3</th>\n",
       "      <td>232000</td>\n",
       "    </tr>\n",
       "    <tr>\n",
       "      <th>4</th>\n",
       "      <td>539900</td>\n",
       "    </tr>\n",
       "  </tbody>\n",
       "</table>\n",
       "</div>"
      ],
      "text/plain": [
       "    price\n",
       "0  399900\n",
       "1  329900\n",
       "2  369000\n",
       "3  232000\n",
       "4  539900"
      ]
     },
     "execution_count": 91,
     "metadata": {},
     "output_type": "execute_result"
    }
   ],
   "source": [
    "y_train = df['price'].to_frame()\n",
    "y_train.head()"
   ]
  },
  {
   "cell_type": "code",
   "execution_count": 92,
   "id": "450c165c-4139-4e3c-9826-d9b1089bafd2",
   "metadata": {},
   "outputs": [
    {
     "name": "stdout",
     "output_type": "stream",
     "text": [
      "best w [[134525.3448]]\n",
      "best b 71270.3637\n"
     ]
    }
   ],
   "source": [
    "w, b, cost_history, w_history, b_history = compute_gradient_descent(x_train, y_train, iterations =10000, alpha = 0.01)"
   ]
  },
  {
   "cell_type": "code",
   "execution_count": 93,
   "id": "9f9aa4fb-b680-4955-8ac5-a4b42d253a0b",
   "metadata": {},
   "outputs": [
    {
     "name": "stdout",
     "output_type": "stream",
     "text": [
      "w [[134525.28772024]]\n",
      "b [71270.49244873]\n"
     ]
    }
   ],
   "source": [
    "reg = LinearRegression().fit(x_train, y_train)\n",
    "print('w',reg.coef_)\n",
    "print('b',reg.intercept_)"
   ]
  },
  {
   "cell_type": "markdown",
   "id": "2cdd357c-0848-4056-b3c9-c100da65e735",
   "metadata": {},
   "source": [
    "### Housing Price with Two Features"
   ]
  },
  {
   "cell_type": "code",
   "execution_count": 94,
   "id": "a60cd182-9394-4dfc-969a-bd4bdecb0cbf",
   "metadata": {},
   "outputs": [
    {
     "data": {
      "text/html": [
       "<div>\n",
       "<style scoped>\n",
       "    .dataframe tbody tr th:only-of-type {\n",
       "        vertical-align: middle;\n",
       "    }\n",
       "\n",
       "    .dataframe tbody tr th {\n",
       "        vertical-align: top;\n",
       "    }\n",
       "\n",
       "    .dataframe thead th {\n",
       "        text-align: right;\n",
       "    }\n",
       "</style>\n",
       "<table border=\"1\" class=\"dataframe\">\n",
       "  <thead>\n",
       "    <tr style=\"text-align: right;\">\n",
       "      <th></th>\n",
       "      <th>sqft</th>\n",
       "      <th>rm</th>\n",
       "      <th>price</th>\n",
       "    </tr>\n",
       "  </thead>\n",
       "  <tbody>\n",
       "    <tr>\n",
       "      <th>0</th>\n",
       "      <td>2104</td>\n",
       "      <td>3</td>\n",
       "      <td>399900</td>\n",
       "    </tr>\n",
       "    <tr>\n",
       "      <th>1</th>\n",
       "      <td>1600</td>\n",
       "      <td>3</td>\n",
       "      <td>329900</td>\n",
       "    </tr>\n",
       "    <tr>\n",
       "      <th>2</th>\n",
       "      <td>2400</td>\n",
       "      <td>3</td>\n",
       "      <td>369000</td>\n",
       "    </tr>\n",
       "    <tr>\n",
       "      <th>3</th>\n",
       "      <td>1416</td>\n",
       "      <td>2</td>\n",
       "      <td>232000</td>\n",
       "    </tr>\n",
       "    <tr>\n",
       "      <th>4</th>\n",
       "      <td>3000</td>\n",
       "      <td>4</td>\n",
       "      <td>539900</td>\n",
       "    </tr>\n",
       "  </tbody>\n",
       "</table>\n",
       "</div>"
      ],
      "text/plain": [
       "   sqft  rm   price\n",
       "0  2104   3  399900\n",
       "1  1600   3  329900\n",
       "2  2400   3  369000\n",
       "3  1416   2  232000\n",
       "4  3000   4  539900"
      ]
     },
     "execution_count": 94,
     "metadata": {},
     "output_type": "execute_result"
    }
   ],
   "source": [
    "df2 = pd.read_csv('./data/housing_two_var.txt')\n",
    "df2.head()"
   ]
  },
  {
   "cell_type": "code",
   "execution_count": 95,
   "id": "b4cb9f25-fe57-429e-a948-fe7864ec76c7",
   "metadata": {},
   "outputs": [
    {
     "data": {
      "text/plain": [
       "0    399900\n",
       "1    329900\n",
       "2    369000\n",
       "3    232000\n",
       "4    539900\n",
       "Name: price, dtype: int64"
      ]
     },
     "execution_count": 95,
     "metadata": {},
     "output_type": "execute_result"
    }
   ],
   "source": [
    "y2_train = df2['price']\n",
    "y2_train.head()"
   ]
  },
  {
   "cell_type": "code",
   "execution_count": 96,
   "id": "e49b6b7c-311f-4a72-87de-433832d5501f",
   "metadata": {},
   "outputs": [
    {
     "data": {
      "text/html": [
       "<div>\n",
       "<style scoped>\n",
       "    .dataframe tbody tr th:only-of-type {\n",
       "        vertical-align: middle;\n",
       "    }\n",
       "\n",
       "    .dataframe tbody tr th {\n",
       "        vertical-align: top;\n",
       "    }\n",
       "\n",
       "    .dataframe thead th {\n",
       "        text-align: right;\n",
       "    }\n",
       "</style>\n",
       "<table border=\"1\" class=\"dataframe\">\n",
       "  <thead>\n",
       "    <tr style=\"text-align: right;\">\n",
       "      <th></th>\n",
       "      <th>sqft</th>\n",
       "      <th>rm</th>\n",
       "    </tr>\n",
       "  </thead>\n",
       "  <tbody>\n",
       "    <tr>\n",
       "      <th>0</th>\n",
       "      <td>2104</td>\n",
       "      <td>3</td>\n",
       "    </tr>\n",
       "    <tr>\n",
       "      <th>1</th>\n",
       "      <td>1600</td>\n",
       "      <td>3</td>\n",
       "    </tr>\n",
       "    <tr>\n",
       "      <th>2</th>\n",
       "      <td>2400</td>\n",
       "      <td>3</td>\n",
       "    </tr>\n",
       "    <tr>\n",
       "      <th>3</th>\n",
       "      <td>1416</td>\n",
       "      <td>2</td>\n",
       "    </tr>\n",
       "    <tr>\n",
       "      <th>4</th>\n",
       "      <td>3000</td>\n",
       "      <td>4</td>\n",
       "    </tr>\n",
       "  </tbody>\n",
       "</table>\n",
       "</div>"
      ],
      "text/plain": [
       "   sqft  rm\n",
       "0  2104   3\n",
       "1  1600   3\n",
       "2  2400   3\n",
       "3  1416   2\n",
       "4  3000   4"
      ]
     },
     "execution_count": 96,
     "metadata": {},
     "output_type": "execute_result"
    }
   ],
   "source": [
    "X2_train = df2[['sqft','rm']]\n",
    "X2_train.head()"
   ]
  },
  {
   "cell_type": "markdown",
   "id": "5922ce36-3af9-46e8-9480-709608a3bd86",
   "metadata": {},
   "source": [
    "**We need to convert sqft to thousand sqft to prevent computation overflow**"
   ]
  },
  {
   "cell_type": "code",
   "execution_count": 97,
   "id": "a1e3640a-e07f-4f91-a872-977f19e6bfc8",
   "metadata": {},
   "outputs": [
    {
     "data": {
      "text/html": [
       "<div>\n",
       "<style scoped>\n",
       "    .dataframe tbody tr th:only-of-type {\n",
       "        vertical-align: middle;\n",
       "    }\n",
       "\n",
       "    .dataframe tbody tr th {\n",
       "        vertical-align: top;\n",
       "    }\n",
       "\n",
       "    .dataframe thead th {\n",
       "        text-align: right;\n",
       "    }\n",
       "</style>\n",
       "<table border=\"1\" class=\"dataframe\">\n",
       "  <thead>\n",
       "    <tr style=\"text-align: right;\">\n",
       "      <th></th>\n",
       "      <th>sqft</th>\n",
       "      <th>rm</th>\n",
       "    </tr>\n",
       "  </thead>\n",
       "  <tbody>\n",
       "    <tr>\n",
       "      <th>0</th>\n",
       "      <td>2.104</td>\n",
       "      <td>3.0</td>\n",
       "    </tr>\n",
       "    <tr>\n",
       "      <th>1</th>\n",
       "      <td>1.600</td>\n",
       "      <td>3.0</td>\n",
       "    </tr>\n",
       "    <tr>\n",
       "      <th>2</th>\n",
       "      <td>2.400</td>\n",
       "      <td>3.0</td>\n",
       "    </tr>\n",
       "    <tr>\n",
       "      <th>3</th>\n",
       "      <td>1.416</td>\n",
       "      <td>2.0</td>\n",
       "    </tr>\n",
       "    <tr>\n",
       "      <th>4</th>\n",
       "      <td>3.000</td>\n",
       "      <td>4.0</td>\n",
       "    </tr>\n",
       "  </tbody>\n",
       "</table>\n",
       "</div>"
      ],
      "text/plain": [
       "    sqft   rm\n",
       "0  2.104  3.0\n",
       "1  1.600  3.0\n",
       "2  2.400  3.0\n",
       "3  1.416  2.0\n",
       "4  3.000  4.0"
      ]
     },
     "execution_count": 97,
     "metadata": {},
     "output_type": "execute_result"
    }
   ],
   "source": [
    "X2_train = X2_train * np.array([0.001,1]).reshape((1,2))\n",
    "X2_train.head()"
   ]
  },
  {
   "cell_type": "code",
   "execution_count": 98,
   "id": "8634a62e-988f-4995-a474-dfac17ce648b",
   "metadata": {},
   "outputs": [
    {
     "name": "stdout",
     "output_type": "stream",
     "text": [
      "best w [[139210.674 ]\n",
      " [ -8738.0191]]\n",
      "best b 89597.9095\n"
     ]
    }
   ],
   "source": [
    "w, b, cost_history, w_history, b_history = compute_gradient_descent(X2_train, y2_train, iterations = 200000, alpha = 0.01)"
   ]
  },
  {
   "cell_type": "code",
   "execution_count": 99,
   "id": "6f624e7e-c8a1-409d-b69d-c0a7a481cd86",
   "metadata": {},
   "outputs": [
    {
     "name": "stdout",
     "output_type": "stream",
     "text": [
      "w [139210.67401763  -8738.01911233]\n",
      "b 89597.90954279745\n"
     ]
    }
   ],
   "source": [
    "reg = LinearRegression().fit(X2_train, y2_train)\n",
    "print('w',reg.coef_)\n",
    "print('b',reg.intercept_)"
   ]
  },
  {
   "cell_type": "markdown",
   "id": "0330ce25-c307-467e-8ea8-1dc46ab58e6f",
   "metadata": {},
   "source": [
    "**Our coeficient is very close to SciKit Learn**"
   ]
  },
  {
   "cell_type": "code",
   "execution_count": 100,
   "id": "5a8b1064-8ae3-455c-b676-f6d38f13e96b",
   "metadata": {},
   "outputs": [
    {
     "name": "stdout",
     "output_type": "stream",
     "text": [
      "best w [[139210.674 ]\n",
      " [ -8738.0191]]\n",
      "best b 89597.9095\n",
      "6.82 s ± 0 ns per loop (mean ± std. dev. of 1 run, 1 loop each)\n"
     ]
    }
   ],
   "source": [
    "%%timeit -r 1 -n 1\n",
    "compute_gradient_descent(X2_train, y2_train, iterations = 200000, alpha = 0.01)\n",
    "# timeit do not allow comment on first line, also do not capture return"
   ]
  },
  {
   "cell_type": "code",
   "execution_count": 101,
   "id": "50567636-fde5-4e35-a65b-6aeb377f599e",
   "metadata": {},
   "outputs": [
    {
     "name": "stdout",
     "output_type": "stream",
     "text": [
      "2.03 ms ± 0 ns per loop (mean ± std. dev. of 1 run, 1 loop each)\n"
     ]
    }
   ],
   "source": [
    "%%timeit -r 1 -n 1\n",
    "LinearRegression().fit(X2_train, y2_train)\n",
    "# timeit do not allow comment on first line, also do not capture return"
   ]
  },
  {
   "cell_type": "markdown",
   "id": "c432c305-5372-400a-ae31-ea619b197ae1",
   "metadata": {},
   "source": [
    "**Scikit Learn is faster, most likely using normal equation to solve the linear regression problem.**"
   ]
  },
  {
   "cell_type": "markdown",
   "id": "b3097f41-6782-4465-b788-c9218861f96a",
   "metadata": {},
   "source": [
    "## Additional Note in Matrix Computation"
   ]
  },
  {
   "cell_type": "markdown",
   "id": "e5e6a84f-2144-45d2-874e-b03fe8d289ac",
   "metadata": {},
   "source": [
    "<div class=\"alert alert-block alert-info\">\n",
    "\n",
    "**Matrix computation is faster because the system do not use the CPU to compute the matrix computation, instead it utilized the Math co-processor to perform the computation in parallel. For high intensive matrix computation, Math co-processor may not be enough. This is where the video processor in the video card came into the play. This is also why Nvidia excels in the field of AI.** \n",
    "</div>"
   ]
  },
  {
   "cell_type": "markdown",
   "id": "ea092cb7",
   "metadata": {},
   "source": [
    "## End of Note 9"
   ]
  },
  {
   "cell_type": "code",
   "execution_count": null,
   "id": "8b64f674-ae4e-4dae-9e84-93d5795a96af",
   "metadata": {},
   "outputs": [],
   "source": []
  }
 ],
 "metadata": {
  "kernelspec": {
   "display_name": "Python 3 (ipykernel)",
   "language": "python",
   "name": "python3"
  },
  "language_info": {
   "codemirror_mode": {
    "name": "ipython",
    "version": 3
   },
   "file_extension": ".py",
   "mimetype": "text/x-python",
   "name": "python",
   "nbconvert_exporter": "python",
   "pygments_lexer": "ipython3",
   "version": "3.10.13"
  }
 },
 "nbformat": 4,
 "nbformat_minor": 5
}
