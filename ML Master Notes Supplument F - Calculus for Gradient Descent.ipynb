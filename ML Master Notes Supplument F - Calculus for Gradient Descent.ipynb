{
 "cells": [
  {
   "cell_type": "code",
   "execution_count": 1,
   "id": "3b2a9f7c-6c44-4c90-ae6a-ddb171f360d1",
   "metadata": {
    "tags": []
   },
   "outputs": [],
   "source": [
    "import sympy\n",
    "import numpy as np\n",
    "import math\n",
    "from sympy import symbols, diff, simplify\n",
    "from sympy import Function, Derivative"
   ]
  },
  {
   "cell_type": "markdown",
   "id": "2f8d41ef",
   "metadata": {},
   "source": [
    "# MLS - My Notes C1 - A - ML Calculus Gradient Descent"
   ]
  },
  {
   "cell_type": "markdown",
   "id": "a3b9bd7d-1188-43ec-988a-c134b383bc32",
   "metadata": {},
   "source": [
    "## Basic Mathematics"
   ]
  },
  {
   "cell_type": "code",
   "execution_count": 2,
   "id": "338f7e98-c300-41ee-b4b5-afe9d396f56f",
   "metadata": {
    "tags": []
   },
   "outputs": [],
   "source": [
    "x = symbols('x')\n",
    "c = symbols('c')\n",
    "a = symbols('a')\n",
    "w = symbols('w')\n",
    "n = symbols('n')\n",
    "m = symbols('m')\n",
    "b = symbols('b')\n",
    "y = symbols('y')\n",
    "f = Function('f')\n",
    "g = Function('g')\n",
    "F = Function('F')\n",
    "J = Function('J')"
   ]
  },
  {
   "cell_type": "markdown",
   "id": "9bbf7135-aa2f-4f37-8538-88140055ee20",
   "metadata": {},
   "source": [
    "$$x^1 = x$$\n",
    "$$x^0 = 1$$"
   ]
  },
  {
   "cell_type": "code",
   "execution_count": 3,
   "id": "809a7f46-8ba9-4896-be73-6659c1b5073f",
   "metadata": {
    "tags": []
   },
   "outputs": [
    {
     "data": {
      "text/latex": [
       "$\\displaystyle x$"
      ],
      "text/plain": [
       "x"
      ]
     },
     "execution_count": 3,
     "metadata": {},
     "output_type": "execute_result"
    }
   ],
   "source": [
    "x**1"
   ]
  },
  {
   "cell_type": "code",
   "execution_count": 4,
   "id": "eb2765e6-6882-44b3-a2b2-b52d193b7d82",
   "metadata": {
    "tags": []
   },
   "outputs": [
    {
     "data": {
      "text/latex": [
       "$\\displaystyle 1$"
      ],
      "text/plain": [
       "1"
      ]
     },
     "execution_count": 4,
     "metadata": {},
     "output_type": "execute_result"
    }
   ],
   "source": [
    "x**0"
   ]
  },
  {
   "cell_type": "code",
   "execution_count": 5,
   "id": "cf40673c",
   "metadata": {},
   "outputs": [
    {
     "data": {
      "text/latex": [
       "$\\displaystyle x$"
      ],
      "text/plain": [
       "x"
      ]
     },
     "execution_count": 5,
     "metadata": {},
     "output_type": "execute_result"
    }
   ],
   "source": [
    "f = x**1\n",
    "f"
   ]
  },
  {
   "cell_type": "code",
   "execution_count": 6,
   "id": "27916bf0",
   "metadata": {},
   "outputs": [
    {
     "data": {
      "text/latex": [
       "$\\displaystyle 1$"
      ],
      "text/plain": [
       "1"
      ]
     },
     "execution_count": 6,
     "metadata": {},
     "output_type": "execute_result"
    }
   ],
   "source": [
    "f = x**0\n",
    "f"
   ]
  },
  {
   "cell_type": "markdown",
   "id": "941d8ca6-7fe3-4794-a2a5-70272d19456c",
   "metadata": {},
   "source": [
    "## Derivative Rules"
   ]
  },
  {
   "cell_type": "markdown",
   "id": "f6c18bc6-93fe-486d-a5d4-ab9082027e69",
   "metadata": {},
   "source": [
    "$$f(x) = x^n$$\n",
    "$$f'(x) = \\frac {d}{dx} \\left[ x^n \\right] = nx^{n-1} \\tag A$$ "
   ]
  },
  {
   "cell_type": "code",
   "execution_count": 7,
   "id": "46d47e33",
   "metadata": {},
   "outputs": [
    {
     "data": {
      "text/latex": [
       "$\\displaystyle x^{n}$"
      ],
      "text/plain": [
       "x**n"
      ]
     },
     "execution_count": 7,
     "metadata": {},
     "output_type": "execute_result"
    }
   ],
   "source": [
    "f = x**n\n",
    "f"
   ]
  },
  {
   "cell_type": "code",
   "execution_count": 8,
   "id": "9dcaeac3",
   "metadata": {},
   "outputs": [
    {
     "data": {
      "text/latex": [
       "$\\displaystyle n x^{n - 1}$"
      ],
      "text/plain": [
       "n*x**(n - 1)"
      ]
     },
     "execution_count": 8,
     "metadata": {},
     "output_type": "execute_result"
    }
   ],
   "source": [
    "d_dx = diff(f,x)\n",
    "simplify(d_dx) "
   ]
  },
  {
   "cell_type": "markdown",
   "id": "8782b18f-f1df-4e8d-ab52-5a18b418683b",
   "metadata": {},
   "source": [
    "E.g. \n",
    "$$f(x) = x^2$$\n",
    "$$\\frac{d}{dx} = 2x$$"
   ]
  },
  {
   "cell_type": "code",
   "execution_count": 9,
   "id": "127b2d4e-eb0a-4cd2-a746-e2763cd29fad",
   "metadata": {
    "tags": []
   },
   "outputs": [
    {
     "data": {
      "text/latex": [
       "$\\displaystyle 2 x$"
      ],
      "text/plain": [
       "2*x"
      ]
     },
     "execution_count": 9,
     "metadata": {},
     "output_type": "execute_result"
    }
   ],
   "source": [
    "diff(x**2)"
   ]
  },
  {
   "cell_type": "markdown",
   "id": "04cc1dd9-cfeb-44aa-94cd-1fbecfe8de7a",
   "metadata": {
    "tags": []
   },
   "source": [
    "E.g. \n",
    "$$f(x) = x^3$$\n",
    "$$\\frac{d}{dx} = 3x^2$$"
   ]
  },
  {
   "cell_type": "code",
   "execution_count": 10,
   "id": "4bc93c2e-1ea8-49db-bb43-aa2cfa5eaa30",
   "metadata": {
    "tags": []
   },
   "outputs": [
    {
     "data": {
      "text/latex": [
       "$\\displaystyle 3 x^{2}$"
      ],
      "text/plain": [
       "3*x**2"
      ]
     },
     "execution_count": 10,
     "metadata": {},
     "output_type": "execute_result"
    }
   ],
   "source": [
    "diff(x**3)"
   ]
  },
  {
   "cell_type": "code",
   "execution_count": 11,
   "id": "da4db89f-abbc-4900-a901-c1c77d152b15",
   "metadata": {
    "tags": []
   },
   "outputs": [
    {
     "data": {
      "text/latex": [
       "$\\displaystyle 4 x^{3}$"
      ],
      "text/plain": [
       "4*x**3"
      ]
     },
     "execution_count": 11,
     "metadata": {},
     "output_type": "execute_result"
    }
   ],
   "source": [
    "d_dx.subs([(n,4)])"
   ]
  },
  {
   "cell_type": "code",
   "execution_count": 12,
   "id": "d18c079a",
   "metadata": {},
   "outputs": [
    {
     "data": {
      "text/latex": [
       "$\\displaystyle 8 x^{7}$"
      ],
      "text/plain": [
       "8*x**7"
      ]
     },
     "execution_count": 12,
     "metadata": {},
     "output_type": "execute_result"
    }
   ],
   "source": [
    "d_dx.subs([(n,8)])"
   ]
  },
  {
   "cell_type": "code",
   "execution_count": 13,
   "id": "29245300",
   "metadata": {},
   "outputs": [
    {
     "data": {
      "text/latex": [
       "$\\displaystyle 43 x^{42}$"
      ],
      "text/plain": [
       "43*x**42"
      ]
     },
     "execution_count": 13,
     "metadata": {},
     "output_type": "execute_result"
    }
   ],
   "source": [
    "diff(x**43)"
   ]
  },
  {
   "cell_type": "markdown",
   "id": "ea61ae33-b052-4bbe-819f-2f849f09f45d",
   "metadata": {},
   "source": [
    "$$f(x) = x$$\n",
    "$$f'(x) = \\frac {d}{dx} \\left[ x \\right] = 1 \\tag B$$ \n",
    "Working:\n",
    "$$\\frac {d}{dx} = 1 \\cdot x^{1-1} = 1 \\cdot x^0 =1$$"
   ]
  },
  {
   "cell_type": "code",
   "execution_count": 14,
   "id": "8412363e",
   "metadata": {},
   "outputs": [
    {
     "data": {
      "text/latex": [
       "$\\displaystyle x$"
      ],
      "text/plain": [
       "x"
      ]
     },
     "execution_count": 14,
     "metadata": {},
     "output_type": "execute_result"
    }
   ],
   "source": [
    "f = x\n",
    "f"
   ]
  },
  {
   "cell_type": "code",
   "execution_count": 15,
   "id": "abc4f7e4",
   "metadata": {},
   "outputs": [
    {
     "data": {
      "text/latex": [
       "$\\displaystyle 1$"
      ],
      "text/plain": [
       "1"
      ]
     },
     "execution_count": 15,
     "metadata": {},
     "output_type": "execute_result"
    }
   ],
   "source": [
    "d_dx = diff(f,x)\n",
    "d_dx"
   ]
  },
  {
   "cell_type": "code",
   "execution_count": 16,
   "id": "eb1e29e6-ad18-44b4-b72d-c5b1963b8231",
   "metadata": {
    "tags": []
   },
   "outputs": [
    {
     "data": {
      "text/latex": [
       "$\\displaystyle 1$"
      ],
      "text/plain": [
       "1"
      ]
     },
     "execution_count": 16,
     "metadata": {},
     "output_type": "execute_result"
    }
   ],
   "source": [
    "diff(x)"
   ]
  },
  {
   "cell_type": "code",
   "execution_count": 17,
   "id": "cac8708a",
   "metadata": {},
   "outputs": [
    {
     "data": {
      "text/latex": [
       "$\\displaystyle 1$"
      ],
      "text/plain": [
       "1"
      ]
     },
     "execution_count": 17,
     "metadata": {},
     "output_type": "execute_result"
    }
   ],
   "source": [
    "d_dx.subs([(x,4)])"
   ]
  },
  {
   "cell_type": "code",
   "execution_count": 18,
   "id": "a9d6a516",
   "metadata": {},
   "outputs": [
    {
     "data": {
      "text/latex": [
       "$\\displaystyle 1$"
      ],
      "text/plain": [
       "1"
      ]
     },
     "execution_count": 18,
     "metadata": {},
     "output_type": "execute_result"
    }
   ],
   "source": [
    "d_dx.subs([(x,231)])"
   ]
  },
  {
   "cell_type": "markdown",
   "id": "ed0ab7e2-5544-4830-9b77-1d7626ba7ca6",
   "metadata": {},
   "source": [
    "$$f(x) = c$$\n",
    "Where $c$ is a constant number\n",
    "$$f'(x) = \\frac {d}{dx} \\left[ c \\right] = 0 \\tag C$$ "
   ]
  },
  {
   "cell_type": "code",
   "execution_count": 19,
   "id": "a732b443",
   "metadata": {},
   "outputs": [
    {
     "data": {
      "text/latex": [
       "$\\displaystyle c$"
      ],
      "text/plain": [
       "c"
      ]
     },
     "execution_count": 19,
     "metadata": {},
     "output_type": "execute_result"
    }
   ],
   "source": [
    "f = c\n",
    "f"
   ]
  },
  {
   "cell_type": "code",
   "execution_count": 20,
   "id": "cdc4191a",
   "metadata": {},
   "outputs": [
    {
     "data": {
      "text/latex": [
       "$\\displaystyle 0$"
      ],
      "text/plain": [
       "0"
      ]
     },
     "execution_count": 20,
     "metadata": {},
     "output_type": "execute_result"
    }
   ],
   "source": [
    "d_dx = diff(f,x)\n",
    "d_dx"
   ]
  },
  {
   "cell_type": "code",
   "execution_count": 21,
   "id": "08f82813-ef88-417e-a512-1f4b46182d56",
   "metadata": {
    "tags": []
   },
   "outputs": [
    {
     "data": {
      "text/latex": [
       "$\\displaystyle 0$"
      ],
      "text/plain": [
       "0"
      ]
     },
     "execution_count": 21,
     "metadata": {},
     "output_type": "execute_result"
    }
   ],
   "source": [
    "diff(1)"
   ]
  },
  {
   "cell_type": "code",
   "execution_count": 22,
   "id": "c078734b-eb1d-447b-b0ee-ee9de960eebe",
   "metadata": {
    "tags": []
   },
   "outputs": [
    {
     "data": {
      "text/latex": [
       "$\\displaystyle 0$"
      ],
      "text/plain": [
       "0"
      ]
     },
     "execution_count": 22,
     "metadata": {},
     "output_type": "execute_result"
    }
   ],
   "source": [
    "d_dx.subs([(c,827)])"
   ]
  },
  {
   "cell_type": "markdown",
   "id": "21a5b91f-58b6-4893-8db0-2a254db0b8a3",
   "metadata": {},
   "source": [
    "$$f(x) = cx$$\n",
    "Where $c$ is a constant number\n",
    "$$f'(x) = \\frac {d}{dx} \\left[ cx \\right] = c \\tag D$$ \n",
    "Working:\n",
    "$$\\frac {d}{dx} = c \\cdot 1 \\cdot x^{1-1} = c \\cdot 1 \\cdot x^0 = c \\cdot 1 \\cdot 1 = c$$"
   ]
  },
  {
   "cell_type": "code",
   "execution_count": 23,
   "id": "769e604d",
   "metadata": {},
   "outputs": [
    {
     "data": {
      "text/latex": [
       "$\\displaystyle c x$"
      ],
      "text/plain": [
       "c*x"
      ]
     },
     "execution_count": 23,
     "metadata": {},
     "output_type": "execute_result"
    }
   ],
   "source": [
    "f = c * x\n",
    "f"
   ]
  },
  {
   "cell_type": "code",
   "execution_count": 24,
   "id": "01e93fd3",
   "metadata": {},
   "outputs": [
    {
     "data": {
      "text/latex": [
       "$\\displaystyle c$"
      ],
      "text/plain": [
       "c"
      ]
     },
     "execution_count": 24,
     "metadata": {},
     "output_type": "execute_result"
    }
   ],
   "source": [
    "d_dx = diff(f,x)\n",
    "d_dx"
   ]
  },
  {
   "cell_type": "code",
   "execution_count": 25,
   "id": "ddf17e7a-7985-4350-911b-608ea50d3cae",
   "metadata": {
    "tags": []
   },
   "outputs": [
    {
     "data": {
      "text/latex": [
       "$\\displaystyle 1$"
      ],
      "text/plain": [
       "1"
      ]
     },
     "execution_count": 25,
     "metadata": {},
     "output_type": "execute_result"
    }
   ],
   "source": [
    "diff(1*x)"
   ]
  },
  {
   "cell_type": "code",
   "execution_count": 26,
   "id": "0a37bd1d-980c-424b-b73f-f551ba18fca2",
   "metadata": {
    "tags": []
   },
   "outputs": [
    {
     "data": {
      "text/latex": [
       "$\\displaystyle 123$"
      ],
      "text/plain": [
       "123"
      ]
     },
     "execution_count": 26,
     "metadata": {},
     "output_type": "execute_result"
    }
   ],
   "source": [
    "diff(123*x)"
   ]
  },
  {
   "cell_type": "code",
   "execution_count": 27,
   "id": "ff769ab6",
   "metadata": {},
   "outputs": [
    {
     "data": {
      "text/latex": [
       "$\\displaystyle 8123$"
      ],
      "text/plain": [
       "8123"
      ]
     },
     "execution_count": 27,
     "metadata": {},
     "output_type": "execute_result"
    }
   ],
   "source": [
    "d_dx.subs([(c,8123)])"
   ]
  },
  {
   "cell_type": "markdown",
   "id": "22f8f638-7f85-46fa-ad3d-7fdd9a9c237c",
   "metadata": {},
   "source": [
    "$$f(x) = c + x$$\n",
    "Where $c$ is a constant number\n",
    "$$f'(x) = \\frac {d}{dx} \\left[ c + x \\right] = 1 \\tag E$$ \n",
    "Working:\n",
    "$$\\frac {d}{dx} \\left[ c + x \\right ]= \\frac {d}{dx} \\left[ c \\right ] + \\frac {d}{dx} \\left[ x \\right ] = 0 + 1 = 1$$"
   ]
  },
  {
   "cell_type": "code",
   "execution_count": 28,
   "id": "bd66bc7e",
   "metadata": {},
   "outputs": [
    {
     "data": {
      "text/latex": [
       "$\\displaystyle c + x$"
      ],
      "text/plain": [
       "c + x"
      ]
     },
     "execution_count": 28,
     "metadata": {},
     "output_type": "execute_result"
    }
   ],
   "source": [
    "f = c + x\n",
    "f"
   ]
  },
  {
   "cell_type": "code",
   "execution_count": 29,
   "id": "90c900c2",
   "metadata": {},
   "outputs": [
    {
     "data": {
      "text/latex": [
       "$\\displaystyle 1$"
      ],
      "text/plain": [
       "1"
      ]
     },
     "execution_count": 29,
     "metadata": {},
     "output_type": "execute_result"
    }
   ],
   "source": [
    "d_dx = diff(f,x)\n",
    "d_dx"
   ]
  },
  {
   "cell_type": "code",
   "execution_count": 30,
   "id": "32db7179-9226-45e4-935d-2cb7f7931b66",
   "metadata": {
    "tags": []
   },
   "outputs": [
    {
     "data": {
      "text/latex": [
       "$\\displaystyle 1$"
      ],
      "text/plain": [
       "1"
      ]
     },
     "execution_count": 30,
     "metadata": {},
     "output_type": "execute_result"
    }
   ],
   "source": [
    "diff(1 + x)"
   ]
  },
  {
   "cell_type": "code",
   "execution_count": 31,
   "id": "656027ba-008b-4c28-89cb-cc7617d41889",
   "metadata": {
    "tags": []
   },
   "outputs": [
    {
     "data": {
      "text/latex": [
       "$\\displaystyle 1$"
      ],
      "text/plain": [
       "1"
      ]
     },
     "execution_count": 31,
     "metadata": {},
     "output_type": "execute_result"
    }
   ],
   "source": [
    "d_dx.subs([(c,7232)])"
   ]
  },
  {
   "cell_type": "markdown",
   "id": "d64e739c-f96d-4dd9-bd65-ca43966c0007",
   "metadata": {},
   "source": [
    "$$f(x) = a + cx$$\n",
    "Where $a$ and $c$ is a constant number\n",
    "$$f'(x) = \\frac {d}{dx} \\left[ a + cx \\right] = c \\tag F$$ \n",
    "Working:\n",
    "$$\\frac {d}{dx} \\left[ a + cx \\right ]= \\frac {d}{dx} \\left[ a \\right ] + \\frac {d}{dx} \\left[ cx \\right ] = 0 + c = c$$"
   ]
  },
  {
   "cell_type": "code",
   "execution_count": 32,
   "id": "70c985f5",
   "metadata": {},
   "outputs": [
    {
     "data": {
      "text/latex": [
       "$\\displaystyle a + c x$"
      ],
      "text/plain": [
       "a + c*x"
      ]
     },
     "execution_count": 32,
     "metadata": {},
     "output_type": "execute_result"
    }
   ],
   "source": [
    "f = a + c*x\n",
    "f"
   ]
  },
  {
   "cell_type": "code",
   "execution_count": 33,
   "id": "499b077e",
   "metadata": {},
   "outputs": [
    {
     "data": {
      "text/latex": [
       "$\\displaystyle c$"
      ],
      "text/plain": [
       "c"
      ]
     },
     "execution_count": 33,
     "metadata": {},
     "output_type": "execute_result"
    }
   ],
   "source": [
    "d_dx = diff(f,x)\n",
    "d_dx"
   ]
  },
  {
   "cell_type": "code",
   "execution_count": 34,
   "id": "0b038463-8a70-4485-b8e1-a44e93ef0464",
   "metadata": {
    "tags": []
   },
   "outputs": [
    {
     "data": {
      "text/latex": [
       "$\\displaystyle 123$"
      ],
      "text/plain": [
       "123"
      ]
     },
     "execution_count": 34,
     "metadata": {},
     "output_type": "execute_result"
    }
   ],
   "source": [
    "diff(4321 + (123 * x))"
   ]
  },
  {
   "cell_type": "code",
   "execution_count": 35,
   "id": "3045af09-adbb-4601-b555-d1775e07bd64",
   "metadata": {
    "tags": []
   },
   "outputs": [
    {
     "data": {
      "text/latex": [
       "$\\displaystyle 873$"
      ],
      "text/plain": [
       "873"
      ]
     },
     "execution_count": 35,
     "metadata": {},
     "output_type": "execute_result"
    }
   ],
   "source": [
    "d_dx.subs([(a,12),(c,873)])"
   ]
  },
  {
   "cell_type": "code",
   "execution_count": 36,
   "id": "3e774ca5-8d8c-4aac-8da5-eb6044a3cc2f",
   "metadata": {
    "tags": []
   },
   "outputs": [
    {
     "data": {
      "text/latex": [
       "$\\displaystyle 83443$"
      ],
      "text/plain": [
       "83443"
      ]
     },
     "execution_count": 36,
     "metadata": {},
     "output_type": "execute_result"
    }
   ],
   "source": [
    "d_dx.subs([(a,12422),(c,83443)])"
   ]
  },
  {
   "cell_type": "markdown",
   "id": "16f81204-e063-4d68-aee2-e97c5d1ab2b1",
   "metadata": {},
   "source": [
    "$$f(x) = x^{-n} = \\frac {1}{x^n}\\tag G$$\n",
    "Working\n",
    "$$f(x) = x^{-2} = \\frac {1}{x^2}$$"
   ]
  },
  {
   "cell_type": "code",
   "execution_count": 37,
   "id": "63095f09",
   "metadata": {},
   "outputs": [
    {
     "data": {
      "text/latex": [
       "$\\displaystyle x^{- n}$"
      ],
      "text/plain": [
       "x**(-n)"
      ]
     },
     "execution_count": 37,
     "metadata": {},
     "output_type": "execute_result"
    }
   ],
   "source": [
    "f = x**-n\n",
    "f"
   ]
  },
  {
   "cell_type": "code",
   "execution_count": 38,
   "id": "dda370dd",
   "metadata": {},
   "outputs": [
    {
     "data": {
      "text/latex": [
       "$\\displaystyle \\frac{1}{x^{763}}$"
      ],
      "text/plain": [
       "x**(-763)"
      ]
     },
     "execution_count": 38,
     "metadata": {},
     "output_type": "execute_result"
    }
   ],
   "source": [
    "f.subs([(n,763)])"
   ]
  },
  {
   "cell_type": "code",
   "execution_count": 39,
   "id": "f7e239c7-47db-4c1d-b2d8-5823c404bdca",
   "metadata": {
    "tags": []
   },
   "outputs": [
    {
     "data": {
      "text/latex": [
       "$\\displaystyle \\frac{1}{x}$"
      ],
      "text/plain": [
       "1/x"
      ]
     },
     "execution_count": 39,
     "metadata": {},
     "output_type": "execute_result"
    }
   ],
   "source": [
    "x**-1"
   ]
  },
  {
   "cell_type": "code",
   "execution_count": 40,
   "id": "8dad0833-140f-49da-bbbd-3eefaf623a01",
   "metadata": {
    "tags": []
   },
   "outputs": [
    {
     "data": {
      "text/latex": [
       "$\\displaystyle \\frac{1}{x^{2}}$"
      ],
      "text/plain": [
       "x**(-2)"
      ]
     },
     "execution_count": 40,
     "metadata": {},
     "output_type": "execute_result"
    }
   ],
   "source": [
    "x**-2"
   ]
  },
  {
   "cell_type": "code",
   "execution_count": 41,
   "id": "46f59d87-a697-4194-a217-b76eba70220e",
   "metadata": {
    "tags": []
   },
   "outputs": [
    {
     "data": {
      "text/latex": [
       "$\\displaystyle \\frac{1}{x^{45}}$"
      ],
      "text/plain": [
       "x**(-45)"
      ]
     },
     "execution_count": 41,
     "metadata": {},
     "output_type": "execute_result"
    }
   ],
   "source": [
    "x**-45"
   ]
  },
  {
   "cell_type": "markdown",
   "id": "1b5997c7-0d25-4361-b236-dbb80445dda8",
   "metadata": {},
   "source": [
    "$$f(x) = x^{-n} = \\frac {1}{x^n}$$\n",
    "$$f'(x) = \\frac {d}{dx} \\left[ nx^{n-1} \\right] = - \\frac {n}{x^{n+1}} \\tag H$$ \n",
    "Working:\n",
    "$$f'(x) = \\frac {d}{dx} \\left[ -1 \\cdot x^{-1-1} \\right] = \\frac {d}{dx} \\left[ -1 \\cdot x^{-2} \\right] = \\frac {d}{dx} \\left[ -1 \\cdot \\frac {1}{x^2} \\right] = - \\frac {1}{x^2}$$\n",
    "$$f'(x) = \\frac {d}{dx} \\left[ -2 \\cdot x^{-2-1} \\right] = \\frac {d}{dx} \\left[ -2 \\cdot x^{-3} \\right] = \\frac {d}{dx} \\left[ -2 \\cdot \\frac {1}{x^3} \\right] = - \\frac {2}{x^3}$$"
   ]
  },
  {
   "cell_type": "code",
   "execution_count": 42,
   "id": "c861d258-5f95-43a6-9c71-40889c86c1b1",
   "metadata": {
    "tags": []
   },
   "outputs": [
    {
     "data": {
      "text/latex": [
       "$\\displaystyle - \\frac{1}{x^{2}}$"
      ],
      "text/plain": [
       "-1/x**2"
      ]
     },
     "execution_count": 42,
     "metadata": {},
     "output_type": "execute_result"
    }
   ],
   "source": [
    "diff(x**-1)"
   ]
  },
  {
   "cell_type": "code",
   "execution_count": 43,
   "id": "0bd07bc0-f040-4046-9232-6c9efa3beae7",
   "metadata": {
    "tags": []
   },
   "outputs": [
    {
     "data": {
      "text/latex": [
       "$\\displaystyle - \\frac{2}{x^{3}}$"
      ],
      "text/plain": [
       "-2/x**3"
      ]
     },
     "execution_count": 43,
     "metadata": {},
     "output_type": "execute_result"
    }
   ],
   "source": [
    "diff(x**-2)"
   ]
  },
  {
   "cell_type": "code",
   "execution_count": 44,
   "id": "dfd5c261-4725-486a-b86c-3a3a235e076f",
   "metadata": {
    "tags": []
   },
   "outputs": [
    {
     "data": {
      "text/latex": [
       "$\\displaystyle - \\frac{3}{x^{4}}$"
      ],
      "text/plain": [
       "-3/x**4"
      ]
     },
     "execution_count": 44,
     "metadata": {},
     "output_type": "execute_result"
    }
   ],
   "source": [
    "diff(x**-3)"
   ]
  },
  {
   "cell_type": "code",
   "execution_count": 45,
   "id": "3b8b119f-feeb-44ff-966a-2de232dd186d",
   "metadata": {
    "tags": []
   },
   "outputs": [
    {
     "data": {
      "text/latex": [
       "$\\displaystyle - \\frac{42}{x^{43}}$"
      ],
      "text/plain": [
       "-42/x**43"
      ]
     },
     "execution_count": 45,
     "metadata": {},
     "output_type": "execute_result"
    }
   ],
   "source": [
    "diff(x**-42)"
   ]
  },
  {
   "cell_type": "code",
   "execution_count": 46,
   "id": "1a683702",
   "metadata": {},
   "outputs": [
    {
     "data": {
      "text/latex": [
       "$\\displaystyle x^{- n}$"
      ],
      "text/plain": [
       "x**(-n)"
      ]
     },
     "execution_count": 46,
     "metadata": {},
     "output_type": "execute_result"
    }
   ],
   "source": [
    "f = x**-n\n",
    "f"
   ]
  },
  {
   "cell_type": "code",
   "execution_count": 47,
   "id": "571c70b6-b39b-40f8-b820-55cd05b500a7",
   "metadata": {},
   "outputs": [
    {
     "data": {
      "text/latex": [
       "$\\displaystyle - n x^{- n - 1}$"
      ],
      "text/plain": [
       "-n*x**(-n - 1)"
      ]
     },
     "execution_count": 47,
     "metadata": {},
     "output_type": "execute_result"
    }
   ],
   "source": [
    "d_dx = diff(f,x)\n",
    "simplify(d_dx)"
   ]
  },
  {
   "cell_type": "code",
   "execution_count": 48,
   "id": "4061a8f2",
   "metadata": {},
   "outputs": [
    {
     "data": {
      "text/latex": [
       "$\\displaystyle - \\frac{4}{x^{5}}$"
      ],
      "text/plain": [
       "-4/x**5"
      ]
     },
     "execution_count": 48,
     "metadata": {},
     "output_type": "execute_result"
    }
   ],
   "source": [
    "d_dx.subs([(n,4)])"
   ]
  },
  {
   "cell_type": "markdown",
   "id": "1cd42c62",
   "metadata": {},
   "source": [
    "## Chain Rule"
   ]
  },
  {
   "cell_type": "markdown",
   "id": "fc7f51c0",
   "metadata": {},
   "source": [
    "We have 2 function $f(x)$ and $g(x)$. A function of function will be:\n",
    "$$$$\n",
    "$$F(x) = f(g(x))$$\n",
    "Then\n",
    "$$F'(x) = \\frac {d}{dx} = f'(g(x)) \\cdot g'(x)$$\n",
    "This can also be explained as:\n",
    "$$y = f(u)$$\n",
    "$$u = g(x)$$\n",
    "$$$$\n",
    "$$ y' = \\frac {dy}{du}$$\n",
    "$$u'=\\frac {du}{dx}$$ \n",
    "$$$$\n",
    "$$\\frac {dy}{dx} = \\frac {dy}{du} \\cdot \\frac {du}{dx}$$"
   ]
  },
  {
   "cell_type": "markdown",
   "id": "0928d9d2",
   "metadata": {},
   "source": [
    "Another rule of thumb for **Chain Rule** : \n",
    "$$$$\n",
    "$\\frac {dy}{dx} = \\left ( \\text { derivatives of outside function } \\right ) \\cdot \\left ( \\text { derivatives of inside function } \\right )$"
   ]
  },
  {
   "cell_type": "code",
   "execution_count": 49,
   "id": "68f86b3a",
   "metadata": {},
   "outputs": [
    {
     "data": {
      "text/latex": [
       "$\\displaystyle \\left(3 x + 1\\right)^{7}$"
      ],
      "text/plain": [
       "(3*x + 1)**7"
      ]
     },
     "execution_count": 49,
     "metadata": {},
     "output_type": "execute_result"
    }
   ],
   "source": [
    "f = (3*x + 1) ** 7\n",
    "f"
   ]
  },
  {
   "cell_type": "code",
   "execution_count": 50,
   "id": "f64836ea",
   "metadata": {},
   "outputs": [
    {
     "data": {
      "text/latex": [
       "$\\displaystyle 21 \\left(3 x + 1\\right)^{6}$"
      ],
      "text/plain": [
       "21*(3*x + 1)**6"
      ]
     },
     "execution_count": 50,
     "metadata": {},
     "output_type": "execute_result"
    }
   ],
   "source": [
    "d_dx = diff(f,x)\n",
    "d_dx"
   ]
  },
  {
   "cell_type": "markdown",
   "id": "3ff03775",
   "metadata": {},
   "source": [
    "$$f(x) = (3x + 1)^7$$\n",
    "$$f'(x) = \\frac {df}{dx} \\left[  (3x + 1)^7 \\right ] = 7(3x + 1)^6 \\cdot (3 + 0)$$\n",
    "$$f'(x) = \\frac {df}{dx} \\left[  (3x + 1)^7 \\right ] = 7(3x + 1)^6 \\cdot 3 = 21(3x + 1)^6$$"
   ]
  },
  {
   "cell_type": "markdown",
   "id": "4d54c999",
   "metadata": {},
   "source": [
    "Another Example:"
   ]
  },
  {
   "cell_type": "code",
   "execution_count": 51,
   "id": "2990281f",
   "metadata": {},
   "outputs": [
    {
     "data": {
      "text/latex": [
       "$\\displaystyle \\left(x^{2} + 1\\right)^{5}$"
      ],
      "text/plain": [
       "(x**2 + 1)**5"
      ]
     },
     "execution_count": 51,
     "metadata": {},
     "output_type": "execute_result"
    }
   ],
   "source": [
    "f = (x**2 + 1) ** 5\n",
    "f"
   ]
  },
  {
   "cell_type": "code",
   "execution_count": 52,
   "id": "728ebf15",
   "metadata": {},
   "outputs": [
    {
     "data": {
      "text/latex": [
       "$\\displaystyle 10 x \\left(x^{2} + 1\\right)^{4}$"
      ],
      "text/plain": [
       "10*x*(x**2 + 1)**4"
      ]
     },
     "execution_count": 52,
     "metadata": {},
     "output_type": "execute_result"
    }
   ],
   "source": [
    "d_dx = diff(f,x)\n",
    "d_dx"
   ]
  },
  {
   "cell_type": "markdown",
   "id": "029db163",
   "metadata": {},
   "source": [
    "$$f(x) = (x^2 + 1)^5$$\n",
    "$$f'(x) = \\frac {df}{dx} \\left[  (x^2 + 1)^5 \\right ] = 5(x^2 + 1)^4 \\cdot (2x + 0)$$\n",
    "$$f'(x) = \\frac {df}{dx} \\left[  (x^2 + 1)^5 \\right ] = 5(x^2 + 1)^4 \\cdot 2x = 10x(x^2 + 1)^4$$"
   ]
  },
  {
   "cell_type": "code",
   "execution_count": null,
   "id": "fd2a4c1d",
   "metadata": {},
   "outputs": [],
   "source": []
  },
  {
   "cell_type": "markdown",
   "id": "90cf8fa0",
   "metadata": {},
   "source": [
    "## Calculus of Linear Regression"
   ]
  },
  {
   "cell_type": "markdown",
   "id": "caeeff6a",
   "metadata": {},
   "source": [
    "**Linear Regression**\n",
    "$$f_{w,b}(x) = b + wx$$"
   ]
  },
  {
   "cell_type": "markdown",
   "id": "cbab39d5",
   "metadata": {},
   "source": [
    "**Cost Function**\n",
    "$$J(w,b) = \\frac {1}{2m} \\sum \\limits_{i=1}^m \\left( f_{w,b}(x) - y \\right)^2$$"
   ]
  },
  {
   "cell_type": "markdown",
   "id": "f8481b0c",
   "metadata": {},
   "source": [
    "### Gradient Descent Algorithm"
   ]
  },
  {
   "cell_type": "markdown",
   "id": "3dc4e47f",
   "metadata": {},
   "source": [
    "**Gradient Descent Algorithm** for $f_{w,b}(x) = b + wx$\n",
    "$$$$\n",
    "**Repeat Until Convergence** {\n",
    "\\begin{equation}\n",
    "\\begin{aligned}\n",
    "    b_j & = b_j - \\alpha \\frac {d} {db_j} J(w_j,b_j)\\\\\n",
    "    w_j & = w_j - \\alpha \\frac {d} {dw_j} J(w_j,b_j)\n",
    "\\end{aligned}\n",
    "\\end{equation}\n",
    "}"
   ]
  },
  {
   "cell_type": "markdown",
   "id": "7f8624a3",
   "metadata": {},
   "source": [
    "### Gradient Descent Algorithm (Simplified)"
   ]
  },
  {
   "cell_type": "markdown",
   "id": "a6f662e3",
   "metadata": {},
   "source": [
    "**Assume**\n",
    "- one example, $m=1$\n",
    "\n",
    "Then\n",
    "$$f_{w}(x) = b + wx$$\n",
    "$$$$\n",
    "**Gradient Descent Algorithm** for $f_{w}(x) = b + wx$\n",
    "$$$$\n",
    "**Repeat Until Convergence** {\n",
    "\\begin{equation}\n",
    "\\begin{aligned}\n",
    "    w_j & = w_j - \\alpha \\frac {d} {dw_j} J(w_j,b_j)\n",
    "\\end{aligned}\n",
    "\\end{equation}\n",
    "}"
   ]
  },
  {
   "cell_type": "markdown",
   "id": "bfbd23cd",
   "metadata": {},
   "source": [
    "### Partial Derivative with respect to $w$"
   ]
  },
  {
   "cell_type": "markdown",
   "id": "bc5ca512",
   "metadata": {},
   "source": [
    "$$f_{w}(x) = b + wx$$\n",
    "Cost Function:\n",
    "$$J(w) = \\frac {1}{2m} \\left( f_{w}(x) - y \\right)^2$$\n",
    "$$J(w) = \\frac {1}{2m} \\left( (b + wx) - y \\right)^2$$"
   ]
  },
  {
   "cell_type": "markdown",
   "id": "27c5dbef",
   "metadata": {},
   "source": [
    "$$J'(w) = f'(g(w)) \\cdot g'(w)$$\n",
    "$$g(w) = ((b + wx) - y)$$\n",
    "$$f(w) = \\frac {1}{2m} (g(w))^2$$"
   ]
  },
  {
   "cell_type": "markdown",
   "id": "9ecd06a9",
   "metadata": {},
   "source": [
    "$$f(g(w)) = \\frac {1}{2m} (g(w))^2$$\n",
    "$$f'(g(w)) = \\frac {1}{2m} \\cdot 2 \\cdot (g(w))^1$$\n",
    "$$f'(g(w)) = \\frac {1}{m}  \\cdot (g(w))$$\n",
    "$$f'(g(w)) = \\frac {1}{m}  \\cdot ((b + wx) -y)$$"
   ]
  },
  {
   "cell_type": "code",
   "execution_count": 53,
   "id": "0de4426f",
   "metadata": {},
   "outputs": [],
   "source": [
    "gw = symbols('gw')"
   ]
  },
  {
   "cell_type": "code",
   "execution_count": 54,
   "id": "51976ba4",
   "metadata": {},
   "outputs": [
    {
     "data": {
      "text/latex": [
       "$\\displaystyle \\frac{gw^{2}}{2 m}$"
      ],
      "text/plain": [
       "gw**2/(2*m)"
      ]
     },
     "execution_count": 54,
     "metadata": {},
     "output_type": "execute_result"
    }
   ],
   "source": [
    "g = (1/(2*m))*gw**2\n",
    "g"
   ]
  },
  {
   "cell_type": "code",
   "execution_count": 55,
   "id": "6618f102",
   "metadata": {},
   "outputs": [
    {
     "data": {
      "text/latex": [
       "$\\displaystyle \\frac{gw}{m}$"
      ],
      "text/plain": [
       "gw/m"
      ]
     },
     "execution_count": 55,
     "metadata": {},
     "output_type": "execute_result"
    }
   ],
   "source": [
    "dg = diff(g,gw)\n",
    "dg"
   ]
  },
  {
   "cell_type": "code",
   "execution_count": 56,
   "id": "250f455f",
   "metadata": {},
   "outputs": [
    {
     "data": {
      "text/latex": [
       "$\\displaystyle b + w x - y$"
      ],
      "text/plain": [
       "b + w*x - y"
      ]
     },
     "execution_count": 56,
     "metadata": {},
     "output_type": "execute_result"
    }
   ],
   "source": [
    "gw = (b + w*x) -y\n",
    "gw"
   ]
  },
  {
   "cell_type": "markdown",
   "id": "f9b88ab2",
   "metadata": {},
   "source": [
    "$$g(w) = ((b + wx) - y)$$\n",
    "$$g'(w) =  \\frac{d}{dw} \\left [ b \\right ] + \\frac{d}{dw} \\left [ wx \\right ] - \\frac{d}{dw} \\left [ y \\right ]$$"
   ]
  },
  {
   "cell_type": "code",
   "execution_count": 57,
   "id": "8707f990",
   "metadata": {},
   "outputs": [
    {
     "data": {
      "text/latex": [
       "$\\displaystyle 0$"
      ],
      "text/plain": [
       "0"
      ]
     },
     "execution_count": 57,
     "metadata": {},
     "output_type": "execute_result"
    }
   ],
   "source": [
    "f = b\n",
    "diff(f,w)"
   ]
  },
  {
   "cell_type": "code",
   "execution_count": 58,
   "id": "76808626",
   "metadata": {},
   "outputs": [],
   "source": [
    "f = (w * x)"
   ]
  },
  {
   "cell_type": "code",
   "execution_count": 59,
   "id": "d531178d",
   "metadata": {},
   "outputs": [
    {
     "data": {
      "text/latex": [
       "$\\displaystyle x$"
      ],
      "text/plain": [
       "x"
      ]
     },
     "execution_count": 59,
     "metadata": {},
     "output_type": "execute_result"
    }
   ],
   "source": [
    "d_dw = diff(f,w)\n",
    "d_dw"
   ]
  },
  {
   "cell_type": "code",
   "execution_count": 60,
   "id": "944affff",
   "metadata": {},
   "outputs": [
    {
     "data": {
      "text/latex": [
       "$\\displaystyle 0$"
      ],
      "text/plain": [
       "0"
      ]
     },
     "execution_count": 60,
     "metadata": {},
     "output_type": "execute_result"
    }
   ],
   "source": [
    "f = y\n",
    "d_dwy = diff(f,w)\n",
    "d_dwy"
   ]
  },
  {
   "cell_type": "code",
   "execution_count": 61,
   "id": "b9c6fdcb",
   "metadata": {},
   "outputs": [],
   "source": [
    "f = (b + (w*x)) - y"
   ]
  },
  {
   "cell_type": "code",
   "execution_count": 62,
   "id": "a0ace582",
   "metadata": {},
   "outputs": [
    {
     "data": {
      "text/latex": [
       "$\\displaystyle x$"
      ],
      "text/plain": [
       "x"
      ]
     },
     "execution_count": 62,
     "metadata": {},
     "output_type": "execute_result"
    }
   ],
   "source": [
    "d_dw = diff(f,w)\n",
    "d_dw"
   ]
  },
  {
   "cell_type": "markdown",
   "id": "488f83b3",
   "metadata": {},
   "source": [
    "$$g(w) = ((b+wx) - y)$$\n",
    "$$g'(w) =  \\frac{d}{dw} \\left [ b \\right ] + \\frac{d}{dw} \\left [ wx \\right ] - \\frac{d}{dw} \\left [ y \\right ]$$\n",
    "$$g'(w) =  0 + x - 0$$\n",
    "$$g'(w) =  x$$"
   ]
  },
  {
   "cell_type": "markdown",
   "id": "fe48a46d",
   "metadata": {},
   "source": [
    "$$J'(w) = f'(g(w)) \\cdot g'(w)$$\n",
    "$$f'(g(w)) = \\frac {1}{m} \\cdot ((b+wx) -y)$$\n",
    "$$g'(w) =  x$$\n",
    "$$J'(w) = \\frac {1}{m} \\cdot ((b+ wx) -y) \\cdot x$$"
   ]
  },
  {
   "cell_type": "code",
   "execution_count": 63,
   "id": "dcd4f876",
   "metadata": {},
   "outputs": [
    {
     "data": {
      "text/latex": [
       "$\\displaystyle b + w x - y$"
      ],
      "text/plain": [
       "b + w*x - y"
      ]
     },
     "execution_count": 63,
     "metadata": {},
     "output_type": "execute_result"
    }
   ],
   "source": [
    "gw = (b + (w*x)) - y\n",
    "gw"
   ]
  },
  {
   "cell_type": "code",
   "execution_count": 64,
   "id": "00c7ed7f",
   "metadata": {},
   "outputs": [
    {
     "data": {
      "text/latex": [
       "$\\displaystyle \\frac{\\left(b + w x - y\\right)^{2}}{2 m}$"
      ],
      "text/plain": [
       "(b + w*x - y)**2/(2*m)"
      ]
     },
     "execution_count": 64,
     "metadata": {},
     "output_type": "execute_result"
    }
   ],
   "source": [
    "J = (1/(2*m))*gw**2\n",
    "J"
   ]
  },
  {
   "cell_type": "code",
   "execution_count": 65,
   "id": "c3a73d67",
   "metadata": {},
   "outputs": [
    {
     "data": {
      "text/latex": [
       "$\\displaystyle \\frac{x \\left(b + w x - y\\right)}{m}$"
      ],
      "text/plain": [
       "x*(b + w*x - y)/m"
      ]
     },
     "execution_count": 65,
     "metadata": {},
     "output_type": "execute_result"
    }
   ],
   "source": [
    "d_dw = diff(J,w)\n",
    "d_dw"
   ]
  },
  {
   "cell_type": "markdown",
   "id": "1db02d03",
   "metadata": {},
   "source": [
    "### Applying Gradient Descent"
   ]
  },
  {
   "cell_type": "markdown",
   "id": "758dd7a0",
   "metadata": {},
   "source": [
    "Apply gradient descent for one example:\n",
    "$$$$\n",
    "$$\\frac {d} {dw} J(w) = \\frac {1}{m}  \\cdot ((b + wx) -y) \\cdot x$$\n",
    "$$$$\n",
    "**Repeat Until Convergence** {\n",
    "\\begin{equation}\n",
    "\\begin{aligned}\n",
    "    w & = w - \\alpha \\frac {d} {dw} J(w)\n",
    "\\end{aligned}\n",
    "\\end{equation}\n",
    "}\n",
    "$$$$\n",
    "**Repeat Until Convergence** {\n",
    "\\begin{equation}\n",
    "\\begin{aligned}\n",
    "    w & = w - \\alpha  \\cdot \\frac {1}{m} \\cdot ((b + wx) -y) \\cdot x\n",
    "\\end{aligned}\n",
    "\\end{equation}\n",
    "}"
   ]
  },
  {
   "cell_type": "markdown",
   "id": "35f89536",
   "metadata": {},
   "source": [
    "With more examples:\n",
    "$$$$\n",
    "**Repeat Until Convergence** {\n",
    "\\begin{equation}\n",
    "\\begin{aligned}\n",
    "    w & = w - \\alpha \\sum \\limits_{i=1}^{m} \\frac {1}{m}  \\cdot (b + wx^{(i)} -y^{(i)}) \\cdot x^{(i)}\n",
    "\\end{aligned}\n",
    "\\end{equation}\n",
    "} "
   ]
  },
  {
   "cell_type": "markdown",
   "id": "68ad0ee2",
   "metadata": {},
   "source": [
    "With more weights $j$:\n",
    "$$$$\n",
    "**Repeat Until Convergence** {\n",
    "\\begin{equation}\n",
    "\\begin{aligned}\n",
    "    w_j & = w_j - \\alpha \\sum \\limits_{i=1}^{m} \\frac {1}{m}  \\cdot ((b_j + w_jx^{(i)}) -y^{(i)}) \\cdot x^{(i)}\n",
    "\\end{aligned}\n",
    "\\end{equation}\n",
    "} "
   ]
  },
  {
   "cell_type": "markdown",
   "id": "f11997ee",
   "metadata": {},
   "source": [
    "### Partial Derivative with respect to $b$"
   ]
  },
  {
   "cell_type": "markdown",
   "id": "977875ec",
   "metadata": {},
   "source": [
    "**Assume**\n",
    "- w = 1\n",
    "- one example, $m=1$\n",
    "\n",
    "Then\n",
    "$$f_{w}(x) = b + wx$$\n",
    "$$$$\n",
    "**Gradient Descent Algorithm** for $f_{w}(x) = b + wx$\n",
    "$$$$\n",
    "**Repeat Until Convergence** {\n",
    "\\begin{equation}\n",
    "\\begin{aligned}\n",
    "    b_j & = b_j - \\alpha \\frac {d} {db_j} J(w_j,b_j)\n",
    "\\end{aligned}\n",
    "\\end{equation}\n",
    "}"
   ]
  },
  {
   "cell_type": "markdown",
   "id": "8cc53a3d",
   "metadata": {},
   "source": [
    "$$f_{b}(x) = b + wx$$\n",
    "Cost Function:\n",
    "$$J(b) = \\frac {1}{2m} \\left( f_{w}(x) - y \\right)^2$$\n",
    "$$J(b) = \\frac {1}{2m} \\left( (b + wx) - y \\right)^2$$"
   ]
  },
  {
   "cell_type": "markdown",
   "id": "9cabac2a",
   "metadata": {},
   "source": [
    "$$J'(b) = f'(g(b)) \\cdot g'(b)$$\n",
    "$$g(b) = ((b + wx) - y)$$\n",
    "$$f(b) = \\frac {1}{2m} (g(b))^2$$"
   ]
  },
  {
   "cell_type": "markdown",
   "id": "49c7566b",
   "metadata": {},
   "source": [
    "$$f(g(b)) = \\frac {1}{2m} (g(b))^2$$\n",
    "$$f'(g(b)) = \\frac {1}{2m} \\cdot 2 \\cdot (g(b))^1$$\n",
    "$$f'(g(b)) = \\frac {1}{m}  \\cdot (g(b))$$\n",
    "$$f'(g(b)) = \\frac {1}{m}  \\cdot ((b + wx) -y)$$"
   ]
  },
  {
   "cell_type": "markdown",
   "id": "47d6966a",
   "metadata": {},
   "source": [
    "$$g(b) = ((b+wx) - y)$$\n",
    "$$g'(b) =  \\frac{d}{db} \\left [ b + wx \\right ] - \\frac{d}{db} \\left [ y \\right ]$$\n",
    "$$g'(b) =  \\frac{d}{db} \\left [ b \\right ] + \\frac{d}{db} \\left [wx \\right ] - \\frac{d}{db} \\left [ y \\right ]$$\n",
    "$$g'(b) =  1 + 0 - 0$$\n",
    "$$g'(b) =  \\frac{d}{db} \\left [ b \\right ]$$\n",
    "$$g'(b) =  1$$"
   ]
  },
  {
   "cell_type": "code",
   "execution_count": 66,
   "id": "31fc0268",
   "metadata": {},
   "outputs": [],
   "source": [
    "gb = symbols('gb')"
   ]
  },
  {
   "cell_type": "code",
   "execution_count": 67,
   "id": "e42ace61",
   "metadata": {},
   "outputs": [],
   "source": [
    "f = b"
   ]
  },
  {
   "cell_type": "code",
   "execution_count": 68,
   "id": "6cb59df4",
   "metadata": {},
   "outputs": [
    {
     "data": {
      "text/latex": [
       "$\\displaystyle 1$"
      ],
      "text/plain": [
       "1"
      ]
     },
     "execution_count": 68,
     "metadata": {},
     "output_type": "execute_result"
    }
   ],
   "source": [
    "diff(f,b)"
   ]
  },
  {
   "cell_type": "code",
   "execution_count": 69,
   "id": "bbe30d16",
   "metadata": {},
   "outputs": [
    {
     "data": {
      "text/latex": [
       "$\\displaystyle 0$"
      ],
      "text/plain": [
       "0"
      ]
     },
     "execution_count": 69,
     "metadata": {},
     "output_type": "execute_result"
    }
   ],
   "source": [
    "f = w*x\n",
    "diff(f,b)"
   ]
  },
  {
   "cell_type": "code",
   "execution_count": 70,
   "id": "3e9f3dac",
   "metadata": {},
   "outputs": [
    {
     "data": {
      "text/latex": [
       "$\\displaystyle 0$"
      ],
      "text/plain": [
       "0"
      ]
     },
     "execution_count": 70,
     "metadata": {},
     "output_type": "execute_result"
    }
   ],
   "source": [
    "f = y\n",
    "diff(f,b)"
   ]
  },
  {
   "cell_type": "code",
   "execution_count": 71,
   "id": "0512bf06",
   "metadata": {},
   "outputs": [],
   "source": [
    "gb = b + (w*x) -y"
   ]
  },
  {
   "cell_type": "code",
   "execution_count": 72,
   "id": "dae29d22",
   "metadata": {},
   "outputs": [
    {
     "data": {
      "text/latex": [
       "$\\displaystyle 1$"
      ],
      "text/plain": [
       "1"
      ]
     },
     "execution_count": 72,
     "metadata": {},
     "output_type": "execute_result"
    }
   ],
   "source": [
    "d_db = diff(gb, b)\n",
    "d_db"
   ]
  },
  {
   "cell_type": "markdown",
   "id": "a299f2ef",
   "metadata": {},
   "source": [
    "$$J'(b) = f'(g(b)) \\cdot g'(w)$$\n",
    "$$f'(g(b)) = \\frac {1}{m} \\cdot ((b + wx) -y)$$\n",
    "$$g'(b) =  1$$\n",
    "$$J'(b) = \\frac {1}{m} \\cdot ((b + wx) -y) \\cdot 1$$"
   ]
  },
  {
   "cell_type": "markdown",
   "id": "505be788",
   "metadata": {},
   "source": [
    "### Applying Gradient Descent\n"
   ]
  },
  {
   "cell_type": "markdown",
   "id": "24bbc697",
   "metadata": {},
   "source": [
    "Apply gradient descent for one example:\n",
    "$$$$\n",
    "$$\\frac {d} {db} J(b) = \\frac {1}{m}  \\cdot ((b + wx) -y) \\cdot 1$$\n",
    "$$$$\n",
    "**Repeat Until Convergence** {\n",
    "\\begin{equation}\n",
    "\\begin{aligned}\n",
    "    b & = b - \\alpha \\frac {d} {db} J(b)\n",
    "\\end{aligned}\n",
    "\\end{equation}\n",
    "}\n",
    "$$$$\n",
    "**Repeat Until Convergence** {\n",
    "\\begin{equation}\n",
    "\\begin{aligned}\n",
    "    b & = b - \\alpha  \\cdot \\frac {1}{m} \\cdot ((b + wx) -y) \\cdot 1\n",
    "\\end{aligned}\n",
    "\\end{equation}\n",
    "}"
   ]
  },
  {
   "cell_type": "markdown",
   "id": "eb9e2b44",
   "metadata": {},
   "source": [
    "With more examples:\n",
    "$$$$\n",
    "**Repeat Until Convergence** {\n",
    "\\begin{equation}\n",
    "\\begin{aligned}\n",
    "    b & = b - \\alpha \\sum \\limits_{i=1}^{m} \\frac {1}{m}  \\cdot ((b + wx^{(i)}) -y^{(i)})\n",
    "\\end{aligned}\n",
    "\\end{equation}\n",
    "} "
   ]
  },
  {
   "cell_type": "markdown",
   "id": "94fda226",
   "metadata": {},
   "source": [
    "With more weights $j$:\n",
    "$$$$\n",
    "**Repeat Until Convergence** {\n",
    "\\begin{equation}\n",
    "\\begin{aligned}\n",
    "    b_j & = b_j - \\alpha \\sum \\limits_{i=1}^{m} \\frac {1}{m}  \\cdot ((b_j + w_jx^{(i)}) -y^{(i)})\n",
    "\\end{aligned}\n",
    "\\end{equation}\n",
    "} "
   ]
  },
  {
   "cell_type": "markdown",
   "id": "86c0f87e",
   "metadata": {},
   "source": [
    "### Full Gradient Descent"
   ]
  },
  {
   "cell_type": "markdown",
   "id": "05387747",
   "metadata": {},
   "source": [
    "**Gradient Descent Algorithm** for $f_{w,b}(x) = b + wx$\n",
    "$$$$\n",
    "**Repeat Until Convergence** {\n",
    "\\begin{equation}\n",
    "\\begin{aligned}\n",
    "    b_j & = b_j - \\alpha \\frac {d} {db_j} J(w_j,b_j)\\\\\n",
    "    w_j & = w_j - \\alpha \\frac {d} {dw_j} J(w_j,b_j)\n",
    "\\end{aligned}\n",
    "\\end{equation}\n",
    "}"
   ]
  },
  {
   "cell_type": "markdown",
   "id": "a694901c",
   "metadata": {},
   "source": [
    "**Repeat Until Convergence** {\n",
    "\\begin{equation}\n",
    "\\begin{aligned}\n",
    "    b_j & = b_j - \\alpha \\sum \\limits_{i=1}^{m} \\frac {1}{m}  \\cdot ((b_j + w_jx^{(i)}) -y^{(i)})\\\\\n",
    "    w_j & = w_j - \\alpha \\sum \\limits_{i=1}^{m} \\frac {1}{m}  \\cdot ((b_j + w_jx^{(i)}) -y^{(i)}) \\cdot x^{(i)}\n",
    "\\end{aligned}\n",
    "\\end{equation}\n",
    "}"
   ]
  },
  {
   "cell_type": "code",
   "execution_count": 73,
   "id": "2a45b384",
   "metadata": {},
   "outputs": [],
   "source": [
    "f = b + (w * x)"
   ]
  },
  {
   "cell_type": "code",
   "execution_count": 74,
   "id": "b91bb079",
   "metadata": {},
   "outputs": [],
   "source": [
    "F = (1/(2*m)) * (f - y)**2"
   ]
  },
  {
   "cell_type": "code",
   "execution_count": 75,
   "id": "7b1953f0",
   "metadata": {},
   "outputs": [
    {
     "data": {
      "text/latex": [
       "$\\displaystyle \\frac{x \\left(b + w x - y\\right)}{m}$"
      ],
      "text/plain": [
       "x*(b + w*x - y)/m"
      ]
     },
     "execution_count": 75,
     "metadata": {},
     "output_type": "execute_result"
    }
   ],
   "source": [
    "d_dw = diff(F,w)\n",
    "simplify(d_dw)"
   ]
  },
  {
   "cell_type": "code",
   "execution_count": 76,
   "id": "2574a2e6",
   "metadata": {},
   "outputs": [
    {
     "data": {
      "text/latex": [
       "$\\displaystyle \\frac{b + w x - y}{m}$"
      ],
      "text/plain": [
       "(b + w*x - y)/m"
      ]
     },
     "execution_count": 76,
     "metadata": {},
     "output_type": "execute_result"
    }
   ],
   "source": [
    "d_db = diff(F,b)\n",
    "simplify(d_db)"
   ]
  },
  {
   "cell_type": "markdown",
   "id": "e3ff1718",
   "metadata": {},
   "source": [
    "## Apply Normal Equation"
   ]
  },
  {
   "cell_type": "markdown",
   "id": "89252b14",
   "metadata": {},
   "source": [
    "**Cost Function**\n",
    "$$J(w,b) = \\frac {1}{2m} \\sum \\limits_{i=1}^m \\left( f_{w,b}(x) - y \\right)^2$$"
   ]
  },
  {
   "cell_type": "markdown",
   "id": "834465c9",
   "metadata": {},
   "source": [
    "**Derivative in Respect to Intercept**\n",
    "$$J'(b) = \\frac {1}{m} \\cdot ((b + wx) -y) \\cdot 1$$\n",
    "$$J'(b) = \\frac {1}{m} \\cdot ((b + wx) -y)$$\n",
    "$$0 = \\frac {1}{m} \\cdot ((b + wx) -y)$$\n",
    "$$0 = \\frac {(b + wx)}{m} - \\frac {y}{m}$$\n",
    "$$\\frac {(b + wx)}{m} = \\frac {y}{m}$$\n",
    "$$b = \\frac {y-wx}{m}$$\n",
    "$$intercept = \\frac {\\sum {y}}{m} - w\\frac {\\sum{x}}{m}$$\n",
    "$$$$\n",
    "$$intercept = \\text{(mean of y) } - \\text{slope } \\cdot \\text{(mean of x)}$$"
   ]
  },
  {
   "cell_type": "code",
   "execution_count": 78,
   "id": "7d8c7d21",
   "metadata": {},
   "outputs": [
    {
     "data": {
      "text/latex": [
       "$\\displaystyle b + w x$"
      ],
      "text/plain": [
       "b + w*x"
      ]
     },
     "execution_count": 78,
     "metadata": {},
     "output_type": "execute_result"
    }
   ],
   "source": [
    "f = b + (w * x)\n",
    "f"
   ]
  },
  {
   "cell_type": "code",
   "execution_count": 79,
   "id": "4ccc4ff2",
   "metadata": {},
   "outputs": [
    {
     "data": {
      "text/latex": [
       "$\\displaystyle \\frac{\\left(b + w x - y\\right)^{2}}{2 m}$"
      ],
      "text/plain": [
       "(b + w*x - y)**2/(2*m)"
      ]
     },
     "execution_count": 79,
     "metadata": {},
     "output_type": "execute_result"
    }
   ],
   "source": [
    "F = (1/(2*m)) * (f - y)**2\n",
    "F"
   ]
  },
  {
   "cell_type": "code",
   "execution_count": 80,
   "id": "71c68625",
   "metadata": {},
   "outputs": [
    {
     "data": {
      "text/latex": [
       "$\\displaystyle \\frac{b + w x - y}{m}$"
      ],
      "text/plain": [
       "(b + w*x - y)/m"
      ]
     },
     "execution_count": 80,
     "metadata": {},
     "output_type": "execute_result"
    }
   ],
   "source": [
    "d_db = diff(F,b)\n",
    "simplify(d_db)"
   ]
  },
  {
   "cell_type": "code",
   "execution_count": 81,
   "id": "ffc06cf5",
   "metadata": {},
   "outputs": [],
   "source": [
    "def intercept(x,y, slope):\n",
    "    result = y.mean() - (slope * x.mean())\n",
    "    return result"
   ]
  },
  {
   "cell_type": "code",
   "execution_count": 82,
   "id": "3ac969c1",
   "metadata": {},
   "outputs": [],
   "source": [
    "x = np.array([1,2,3,4,5])\n",
    "y = np.array([1,2,3,4,5])"
   ]
  },
  {
   "cell_type": "code",
   "execution_count": 83,
   "id": "f126d757",
   "metadata": {},
   "outputs": [
    {
     "data": {
      "text/plain": [
       "3.0"
      ]
     },
     "execution_count": 83,
     "metadata": {},
     "output_type": "execute_result"
    }
   ],
   "source": [
    "x.mean()"
   ]
  },
  {
   "cell_type": "code",
   "execution_count": 84,
   "id": "fe8a0b4a",
   "metadata": {},
   "outputs": [
    {
     "data": {
      "text/plain": [
       "3.0"
      ]
     },
     "execution_count": 84,
     "metadata": {},
     "output_type": "execute_result"
    }
   ],
   "source": [
    "y.mean()"
   ]
  },
  {
   "cell_type": "code",
   "execution_count": 85,
   "id": "56d8225a",
   "metadata": {},
   "outputs": [
    {
     "data": {
      "text/plain": [
       "0.0"
      ]
     },
     "execution_count": 85,
     "metadata": {},
     "output_type": "execute_result"
    }
   ],
   "source": [
    "intercept(x,y,1)"
   ]
  },
  {
   "cell_type": "code",
   "execution_count": 86,
   "id": "3cbefdcb",
   "metadata": {},
   "outputs": [],
   "source": [
    "x = np.array([1,2,3,4,5])\n",
    "y = np.array([3,4,5,6,7])"
   ]
  },
  {
   "cell_type": "code",
   "execution_count": 87,
   "id": "67b4a77a",
   "metadata": {},
   "outputs": [
    {
     "data": {
      "text/plain": [
       "2.0"
      ]
     },
     "execution_count": 87,
     "metadata": {},
     "output_type": "execute_result"
    }
   ],
   "source": [
    "intercept(x,y,1)"
   ]
  },
  {
   "cell_type": "code",
   "execution_count": 88,
   "id": "d1eba7de",
   "metadata": {},
   "outputs": [],
   "source": [
    "x = np.array([1,2,3,4,5])\n",
    "y = np.array([101,102,103,104,105])"
   ]
  },
  {
   "cell_type": "code",
   "execution_count": 89,
   "id": "0302ad52",
   "metadata": {},
   "outputs": [
    {
     "data": {
      "text/plain": [
       "100.0"
      ]
     },
     "execution_count": 89,
     "metadata": {},
     "output_type": "execute_result"
    }
   ],
   "source": [
    "intercept(x,y,1)"
   ]
  },
  {
   "cell_type": "markdown",
   "id": "0c84b6e1",
   "metadata": {},
   "source": [
    "$$J'(w) = \\frac {1}{m} \\cdot ((b+ wx) -y) \\cdot x$$"
   ]
  },
  {
   "cell_type": "markdown",
   "id": "0fab5aa5",
   "metadata": {},
   "source": [
    "$$J'(w) = \\frac {1}{m} \\cdot ((b+ wx) -y) \\cdot x$$\n",
    "$$0 = \\frac {1}{m} \\cdot ((b+ wx) -y) \\cdot x$$\n",
    "$$0 = \\frac {(b + wx)}{m} \\cdot x - \\frac {y}{m} \\cdot x$$\n",
    "$$0 = \\frac {x(b + wx)}{m} - \\frac {xy}{m}$$\n",
    "$$\\frac {x(b + wx)}{m} = \\frac {xy}{m}$$\n",
    "$$\\frac {bx + wx^2}{m} = \\frac {xy}{m}$$\n",
    "\n",
    "$$\\frac {wx^2}{m} = \\frac {xy-bx}{m}$$\n"
   ]
  },
  {
   "cell_type": "markdown",
   "id": "7fe671c2",
   "metadata": {},
   "source": [
    "$$\\frac {wx^2}{m} = \\frac {xy-bx}{m}$$\n",
    "$$\\frac {wx^2}{m} = \\frac {xy}{m} - \\frac {bx}{m}$$\n",
    "$$\\frac {wx^2}{m} = \\frac {xy}{m} - b \\frac {x}{m}$$\n",
    "$$b = \\overline{y}-w\\overline{x}$$\n",
    "\n",
    "$$\\frac {wx^2}{m} = \\frac {xy}{m} - \\overline{y}-w\\overline{x} \\cdot \\frac {x}{m}$$\n",
    "\n",
    "$$\\frac {wx^2}{1} = \\frac {xy}{1} - \\frac {y-wx}{1} \\cdot \\frac {x}{1}$$\n",
    "$$\\frac {wx^2}{1} = \\frac {xy}{1} - \\frac {xy-wx^2}{1} $$\n",
    "$$\\frac {w}{1} = \\frac {xy}{x^2} - \\frac {xy-wx^2}{x^2} $$\n",
    "$$\\frac {w}{1} = \\frac {xy-xy+wx^2}{x^2} $$"
   ]
  },
  {
   "cell_type": "code",
   "execution_count": null,
   "id": "a525a009",
   "metadata": {},
   "outputs": [],
   "source": [
    "x = np.array([1,2,3,4,5])\n",
    "y = np.array([100,200,300,400,500])"
   ]
  },
  {
   "cell_type": "code",
   "execution_count": null,
   "id": "8d644786",
   "metadata": {},
   "outputs": [],
   "source": []
  }
 ],
 "metadata": {
  "kernelspec": {
   "display_name": "Python 3 (ipykernel)",
   "language": "python",
   "name": "python3"
  },
  "language_info": {
   "codemirror_mode": {
    "name": "ipython",
    "version": 3
   },
   "file_extension": ".py",
   "mimetype": "text/x-python",
   "name": "python",
   "nbconvert_exporter": "python",
   "pygments_lexer": "ipython3",
   "version": "3.10.13"
  }
 },
 "nbformat": 4,
 "nbformat_minor": 5
}
